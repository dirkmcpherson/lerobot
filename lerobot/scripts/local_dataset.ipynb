{
 "cells": [
  {
   "cell_type": "code",
   "execution_count": 9,
   "metadata": {},
   "outputs": [
    {
     "name": "stdout",
     "output_type": "stream",
     "text": [
      "The autoreload extension is already loaded. To reload it, use:\n",
      "  %reload_ext autoreload\n"
     ]
    }
   ],
   "source": [
    "%load_ext autoreload\n",
    "%autoreload 2"
   ]
  },
  {
   "cell_type": "code",
   "execution_count": 10,
   "metadata": {},
   "outputs": [
    {
     "name": "stdout",
     "output_type": "stream",
     "text": [
      "resume: false\n",
      "device: cuda\n",
      "use_amp: false\n",
      "seed: 100000\n",
      "dataset_repo_id: lerobot/pusht\n",
      "video_backend: pyav\n",
      "training:\n",
      "  offline_steps: 200000\n",
      "  num_workers: 4\n",
      "  batch_size: 64\n",
      "  eval_freq: 10000\n",
      "  log_freq: 200\n",
      "  save_checkpoint: true\n",
      "  save_freq: 100000\n",
      "  online_steps: 0\n",
      "  online_rollout_n_episodes: 1\n",
      "  online_rollout_batch_size: 1\n",
      "  online_steps_between_rollouts: 1\n",
      "  online_sampling_ratio: 0.5\n",
      "  online_env_seed: null\n",
      "  online_buffer_capacity: null\n",
      "  online_buffer_seed_size: 0\n",
      "  do_online_rollout_async: false\n",
      "  image_transforms:\n",
      "    enable: false\n",
      "    max_num_transforms: 3\n",
      "    random_order: false\n",
      "    brightness:\n",
      "      weight: 1\n",
      "      min_max:\n",
      "      - 0.8\n",
      "      - 1.2\n",
      "    contrast:\n",
      "      weight: 1\n",
      "      min_max:\n",
      "      - 0.8\n",
      "      - 1.2\n",
      "    saturation:\n",
      "      weight: 1\n",
      "      min_max:\n",
      "      - 0.5\n",
      "      - 1.5\n",
      "    hue:\n",
      "      weight: 1\n",
      "      min_max:\n",
      "      - -0.05\n",
      "      - 0.05\n",
      "    sharpness:\n",
      "      weight: 1\n",
      "      min_max:\n",
      "      - 0.8\n",
      "      - 1.2\n",
      "  grad_clip_norm: 10\n",
      "  lr: 0.0001\n",
      "  lr_scheduler: cosine\n",
      "  lr_warmup_steps: 500\n",
      "  adam_betas:\n",
      "  - 0.95\n",
      "  - 0.999\n",
      "  adam_eps: 1.0e-08\n",
      "  adam_weight_decay: 1.0e-06\n",
      "  delta_timestamps:\n",
      "    observation.image: '[i / ${fps} for i in range(1 - ${policy.n_obs_steps}, 1)]'\n",
      "    observation.state: '[i / ${fps} for i in range(1 - ${policy.n_obs_steps}, 1)]'\n",
      "    action: '[i / ${fps} for i in range(1 - ${policy.n_obs_steps}, 1 - ${policy.n_obs_steps}\n",
      "      + ${policy.horizon})]'\n",
      "  drop_n_last_frames: 7\n",
      "eval:\n",
      "  n_episodes: 50\n",
      "  batch_size: 50\n",
      "  use_async_envs: false\n",
      "wandb:\n",
      "  enable: true\n",
      "  disable_artifact: false\n",
      "  entity: jambotime\n",
      "  project: diffusion_pusht\n",
      "  notes: ''\n",
      "fps: 10\n",
      "env:\n",
      "  name: pusht\n",
      "  task: PushT-v0\n",
      "  image_size: 96\n",
      "  state_dim: 2\n",
      "  action_dim: 2\n",
      "  fps: ${fps}\n",
      "  episode_length: 300\n",
      "  gym:\n",
      "    obs_type: pixels_agent_pos\n",
      "    render_mode: rgb_array\n",
      "    visualization_width: 384\n",
      "    visualization_height: 384\n",
      "    observation_width: 96\n",
      "    observation_height: 96\n",
      "    force_sparse: false\n",
      "    display_cross: false\n",
      "override_dataset_stats:\n",
      "  observation.image:\n",
      "    mean:\n",
      "    - - - 0.5\n",
      "    - - - 0.5\n",
      "    - - - 0.5\n",
      "    std:\n",
      "    - - - 0.5\n",
      "    - - - 0.5\n",
      "    - - - 0.5\n",
      "  observation.state:\n",
      "    min:\n",
      "    - 13.456424\n",
      "    - 32.938293\n",
      "    max:\n",
      "    - 496.14618\n",
      "    - 510.9579\n",
      "  action:\n",
      "    min:\n",
      "    - 12.0\n",
      "    - 25.0\n",
      "    max:\n",
      "    - 511.0\n",
      "    - 511.0\n",
      "policy:\n",
      "  name: diffusion\n",
      "  n_obs_steps: 2\n",
      "  horizon: 16\n",
      "  n_action_steps: 8\n",
      "  input_shapes:\n",
      "    observation.image:\n",
      "    - 3\n",
      "    - 96\n",
      "    - 96\n",
      "    observation.state:\n",
      "    - ${env.state_dim}\n",
      "  output_shapes:\n",
      "    action:\n",
      "    - ${env.action_dim}\n",
      "  input_normalization_modes:\n",
      "    observation.image: mean_std\n",
      "    observation.state: min_max\n",
      "  output_normalization_modes:\n",
      "    action: min_max\n",
      "  vision_backbone: resnet18\n",
      "  crop_shape:\n",
      "  - 84\n",
      "  - 84\n",
      "  crop_is_random: true\n",
      "  pretrained_backbone_weights: null\n",
      "  use_group_norm: true\n",
      "  spatial_softmax_num_keypoints: 32\n",
      "  down_dims:\n",
      "  - 512\n",
      "  - 1024\n",
      "  - 2048\n",
      "  kernel_size: 5\n",
      "  n_groups: 8\n",
      "  diffusion_step_embed_dim: 128\n",
      "  use_film_scale_modulation: true\n",
      "  noise_scheduler_type: DDPM\n",
      "  num_train_timesteps: 100\n",
      "  beta_schedule: squaredcos_cap_v2\n",
      "  beta_start: 0.0001\n",
      "  beta_end: 0.02\n",
      "  prediction_type: epsilon\n",
      "  clip_sample: true\n",
      "  clip_sample_range: 1.0\n",
      "  num_inference_steps: null\n",
      "  do_mask_loss_for_padding: false\n",
      "\n"
     ]
    }
   ],
   "source": [
    "from pathlib import Path\n",
    "from pprint import pprint\n",
    "\n",
    "import lerobot\n",
    "from lerobot.common.datasets.lerobot_dataset import LeRobotDataset\n",
    "from lerobot.common.datasets.factory import make_dataset\n",
    "\n",
    "\n",
    "from hydra import compose, initialize\n",
    "from omegaconf import OmegaConf\n",
    "\n",
    "# context initialization\n",
    "with initialize(version_base=None, config_path=\"../configs\", job_name=\"test_app\"):\n",
    "    cfg = compose(config_name=\"default\")\n",
    "    print(OmegaConf.to_yaml(cfg))"
   ]
  },
  {
   "cell_type": "code",
   "execution_count": 11,
   "metadata": {},
   "outputs": [
    {
     "name": "stdout",
     "output_type": "stream",
     "text": [
      "[PosixPath('/home/james/workspace/fastrl/logs/HD_pusht_22/HD_pusht_PushT-v0_2024-11-24-10_05_16/20241124T100557-dc47d7c42ed64dac92aafd48041f9513-187.npz'), PosixPath('/home/james/workspace/fastrl/logs/HD_pusht_22/HD_pusht_PushT-v0_2024-11-24-10_05_16/20241124T100531-e099debbf8bd4e1694f56f6e4b4acb89-182.npz'), PosixPath('/home/james/workspace/fastrl/logs/HD_pusht_22/HD_pusht_PushT-v0_2024-11-24-10_05_16/20241124T100700-e8096e7cc88e4025ae4453adc8382d93-301.npz'), PosixPath('/home/james/workspace/fastrl/logs/HD_pusht_22/HD_pusht_PushT-v0_2024-11-24-10_05_16/20241124T100632-39686ac3802e4e529e5b494c52c8332a-128.npz'), PosixPath('/home/james/workspace/fastrl/logs/HD_pusht_22/HD_pusht_PushT-v0_2024-11-24-10_05_16/20241124T100605-ea8581974ce74c46b499ac2ae725aaaf-252.npz'), PosixPath('/home/james/workspace/fastrl/logs/HD_pusht_22/HD_pusht_PushT-v0_2024-11-24-10_05_16/20241124T100757-94a4b5b8f9eb4c8da56a3a8501826a51-270.npz'), PosixPath('/home/james/workspace/fastrl/logs/HD_pusht_22/HD_pusht_PushT-v0_2024-11-24-10_05_16/20241124T100653-0a70c91014e04dfda0f5726522bf42e0-124.npz'), PosixPath('/home/james/workspace/fastrl/logs/HD_pusht_22/HD_pusht_PushT-v0_2024-11-24-10_05_16/20241124T100638-fd25498b20c54c4abbe7547423504b31-301.npz'), PosixPath('/home/james/workspace/fastrl/logs/HD_pusht_22/HD_pusht_PushT-v0_2024-11-24-10_05_16/20241124T100618-801927b3da634c2593892cfcae8a3534-301.npz'), PosixPath('/home/james/workspace/fastrl/logs/HD_pusht_22/HD_pusht_PushT-v0_2024-11-24-10_05_16/20241124T100812-52ee3a4f631e48589defd6cfebc174b7-301.npz'), PosixPath('/home/james/workspace/fastrl/logs/HD_pusht_22/HD_pusht_PushT-v0_2024-11-24-10_05_16/20241124T100549-592d74cdfefa4d9c949c3e72ff38a11b-166.npz'), PosixPath('/home/james/workspace/fastrl/logs/HD_pusht_22/HD_pusht_PushT-v0_2024-11-24-10_05_16/20241124T100731-2699434240b2421a8e4518fe4b2d3d83-263.npz'), PosixPath('/home/james/workspace/fastrl/logs/HD_pusht_22/HD_pusht_PushT-v0_2024-11-24-10_05_16/20241124T100517-3cb6fd978c6144c69d26ad27f939c6b1-301.npz'), PosixPath('/home/james/workspace/fastrl/logs/HD_pusht_22/HD_pusht_PushT-v0_2024-11-24-10_05_16/20241124T100715-26b5fa886a9b4f59bd801b7a3ced8829-301.npz'), PosixPath('/home/james/workspace/fastrl/logs/HD_pusht_22/HD_pusht_PushT-v0_2024-11-24-10_05_16/20241124T100539-3097d968843846a88a1412d00ecdfed9-211.npz'), PosixPath('/home/james/workspace/fastrl/logs/HD_pusht_22/HD_pusht_PushT-v0_2024-11-24-10_05_16/20241124T100746-e92c0e1f43cb4ac5b2d44bdf41d78804-210.npz'), PosixPath('/home/james/workspace/fastrl/logs/HD_pusht_22/HD_pusht_PushT-v0_2024-11-24-09_46_42/20241124T095356-67d2c1e3ec64420f8466c7270255e9b3-101.npz'), PosixPath('/home/james/workspace/fastrl/logs/HD_pusht_22/HD_pusht_PushT-v0_2024-11-24-09_46_42/20241124T094705-d324936814af44f3aa9ddfee27c1da99-270.npz'), PosixPath('/home/james/workspace/fastrl/logs/HD_pusht_22/HD_pusht_PushT-v0_2024-11-24-09_46_42/20241124T095117-9ed30bdc73934eaf8320d11e9ce8bfa5-236.npz'), PosixPath('/home/james/workspace/fastrl/logs/HD_pusht_22/HD_pusht_PushT-v0_2024-11-24-09_46_42/20241124T095002-1e4ea5e84a0f44b98f996a89e534b142-183.npz'), PosixPath('/home/james/workspace/fastrl/logs/HD_pusht_22/HD_pusht_PushT-v0_2024-11-24-09_46_42/20241124T095300-2a3f2bf58d17470a88640840e1905db8-155.npz'), PosixPath('/home/james/workspace/fastrl/logs/HD_pusht_22/HD_pusht_PushT-v0_2024-11-24-09_46_42/20241124T095227-7dfca9f6dc96459898570bdcd3f99f83-162.npz'), PosixPath('/home/james/workspace/fastrl/logs/HD_pusht_22/HD_pusht_PushT-v0_2024-11-24-09_46_42/20241124T095031-100f7501baf7428c9e1af6bd607b9965-192.npz'), PosixPath('/home/james/workspace/fastrl/logs/HD_pusht_22/HD_pusht_PushT-v0_2024-11-24-09_46_42/20241124T094725-ac72031b84fc40548bcab75b3a7fb450-236.npz'), PosixPath('/home/james/workspace/fastrl/logs/HD_pusht_22/HD_pusht_PushT-v0_2024-11-24-09_46_42/20241124T094843-3f9aa87d49c84948bdaa264518dfc906-204.npz'), PosixPath('/home/james/workspace/fastrl/logs/HD_pusht_22/HD_pusht_PushT-v0_2024-11-24-09_46_42/20241124T094812-592fe9082dcf46d495ecaf0a976c1f79-292.npz'), PosixPath('/home/james/workspace/fastrl/logs/HD_pusht_22/HD_pusht_PushT-v0_2024-11-24-09_46_42/20241124T094643-1333d8cd81954d568b282c851122f79a-154.npz'), PosixPath('/home/james/workspace/fastrl/logs/HD_pusht_22/HD_pusht_PushT-v0_2024-11-24-09_46_42/20241124T095323-4eaa57e78f9c40bf986e4335706aa4dd-270.npz'), PosixPath('/home/james/workspace/fastrl/logs/HD_pusht_22/HD_pusht_PushT-v0_2024-11-24-09_46_42/20241124T095402-1c91e274f2a64d348c2b0f165128d8b0-159.npz'), PosixPath('/home/james/workspace/fastrl/logs/HD_pusht_22/HD_pusht_PushT-v0_2024-11-24-09_46_42/20241124T095310-92377bb456b1469594213bbbef0ca678-192.npz'), PosixPath('/home/james/workspace/fastrl/logs/HD_pusht_22/HD_pusht_PushT-v0_2024-11-24-09_46_42/20241124T095207-5a82403e5a4e47c0a432a158c2594d37-139.npz'), PosixPath('/home/james/workspace/fastrl/logs/HD_pusht_22/HD_pusht_PushT-v0_2024-11-24-09_46_42/20241124T094748-0e2bbef2d2fb459d97065d2aa0f9cf00-301.npz'), PosixPath('/home/james/workspace/fastrl/logs/HD_pusht_22/HD_pusht_PushT-v0_2024-11-24-09_46_42/20241124T095252-0369567812c94a9f86b955907fe7476e-120.npz'), PosixPath('/home/james/workspace/fastrl/logs/HD_pusht_22/HD_pusht_PushT-v0_2024-11-24-09_46_42/20241124T095216-ddd2ad0fe6744ef7aef658bd5b0212eb-150.npz'), PosixPath('/home/james/workspace/fastrl/logs/HD_pusht_22/HD_pusht_PushT-v0_2024-11-24-09_46_42/20241124T095132-b471469bbb0c4315a61f994f5160c531-166.npz'), PosixPath('/home/james/workspace/fastrl/logs/HD_pusht_22/HD_pusht_PushT-v0_2024-11-24-09_46_42/20241124T094902-d16dd8c2e856474bbbffa25eef089ad4-288.npz'), PosixPath('/home/james/workspace/fastrl/logs/HD_pusht_22/HD_pusht_PushT-v0_2024-11-24-09_46_42/20241124T095142-becf203951a1494f88b0e65168dc15fe-248.npz'), PosixPath('/home/james/workspace/fastrl/logs/HD_pusht_22/HD_pusht_PushT-v0_2024-11-24-09_46_42/20241124T094736-f5af97086d0643f2b8d396eecc11f736-249.npz'), PosixPath('/home/james/workspace/fastrl/logs/HD_pusht_22/HD_pusht_PushT-v0_2024-11-24-09_46_42/20241124T095237-1a95dc20a502436c985adaff13d64781-214.npz'), PosixPath('/home/james/workspace/fastrl/logs/HD_pusht_22/HD_pusht_PushT-v0_2024-11-24-09_46_42/20241124T094944-3d4e4bc5dbe543b4b9533dba4976f940-141.npz'), PosixPath('/home/james/workspace/fastrl/logs/HD_pusht_22/HD_pusht_PushT-v0_2024-11-24-09_46_42/20241124T095109-d0b8c003771748e8827662568bfe83f0-138.npz'), PosixPath('/home/james/workspace/fastrl/logs/HD_pusht_22/HD_pusht_PushT-v0_2024-11-24-09_46_42/20241124T095013-2ded06228d1e4439912e689b87f98e89-301.npz'), PosixPath('/home/james/workspace/fastrl/logs/HD_pusht_22/HD_pusht_PushT-v0_2024-11-24-09_46_42/20241124T094918-05604bb0b3894cbbbaaca2ef33ca36a7-113.npz'), PosixPath('/home/james/workspace/fastrl/logs/HD_pusht_22/HD_pusht_PushT-v0_2024-11-24-09_46_42/20241124T094932-a7a825ce52fa45a09e5b203b931cbaed-210.npz'), PosixPath('/home/james/workspace/fastrl/logs/HD_pusht_22/HD_pusht_PushT-v0_2024-11-24-09_46_42/20241124T095042-3cf3a1cf10534d32b415bdaf5de6e6e6-301.npz'), PosixPath('/home/james/workspace/fastrl/logs/HD_pusht_22/HD_pusht_PushT-v0_2024-11-24-09_46_42/20241124T094718-91f21229d8bd4052ab96c67ee9a29c4a-150.npz'), PosixPath('/home/james/workspace/fastrl/logs/HD_pusht_22/HD_pusht_PushT-v0_2024-11-24-09_46_42/20241124T094803-c4522a37894245eb8a47bd1cb91e0384-189.npz'), PosixPath('/home/james/workspace/fastrl/logs/HD_pusht_22/HD_pusht_PushT-v0_2024-11-24-09_46_42/20241124T094827-7aaaf828653d4c57b6b69a55de1e9dd1-301.npz'), PosixPath('/home/james/workspace/fastrl/logs/HD_pusht_22/HD_pusht_PushT-v0_2024-11-24-09_46_42/20241124T095100-e5123ee5dab44c5996ab750e124a2db0-130.npz'), PosixPath('/home/james/workspace/fastrl/logs/HD_pusht_22/HD_pusht_PushT-v0_2024-11-24-09_46_42/20241124T094952-d3ed2d694fc047fca59c11343806f669-164.npz'), PosixPath('/home/james/workspace/fastrl/logs/HD_pusht_22/HD_pusht_PushT-v0_2024-11-24-09_46_42/20241124T094854-ef6aa2abc38e4405be0b7967ad1ed583-153.npz'), PosixPath('/home/james/workspace/fastrl/logs/HD_pusht_22/HD_pusht_PushT-v0_2024-11-24-09_46_42/20241124T095342-8ba56a3429844018b2833a74ac3d35da-185.npz'), PosixPath('/home/james/workspace/fastrl/logs/HD_pusht_22/HD_pusht_PushT-v0_2024-11-24-09_46_42/20241124T095158-292763918e5741f5b3fd5ba01da05778-136.npz'), PosixPath('/home/james/workspace/fastrl/logs/HD_pusht_22/HD_pusht_PushT-v0_2024-11-24-09_46_42/20241124T094651-49fbb360e4c14f9bbb78f392f0a758e8-301.npz'), PosixPath('/home/james/workspace/fastrl/logs/HD_pusht_22/HD_pusht_PushT-v0_2024-11-24-09_46_42/20241124T094924-42fead2f4a3d4b7da1dc07b447216efe-139.npz'), PosixPath('/home/james/workspace/fastrl/logs/HD_pusht_22/HD_pusht_PushT-v0_2024-11-24-09_55_07/20241124T100117-a5b9ab10a92c4f97887c6174a822e176-226.npz'), PosixPath('/home/james/workspace/fastrl/logs/HD_pusht_22/HD_pusht_PushT-v0_2024-11-24-09_55_07/20241124T095545-b6ae810c3229400e8d900f8261b0995d-182.npz'), PosixPath('/home/james/workspace/fastrl/logs/HD_pusht_22/HD_pusht_PushT-v0_2024-11-24-09_55_07/20241124T095651-e2280336ee334c46aa895cef4ea3edfe-259.npz'), PosixPath('/home/james/workspace/fastrl/logs/HD_pusht_22/HD_pusht_PushT-v0_2024-11-24-09_55_07/20241124T100053-07063b92de0b4bad8d6dd5ec09ee99c8-183.npz'), PosixPath('/home/james/workspace/fastrl/logs/HD_pusht_22/HD_pusht_PushT-v0_2024-11-24-09_55_07/20241124T095946-90b4ad9b4b9746649aa0a30aa11c933f-179.npz'), PosixPath('/home/james/workspace/fastrl/logs/HD_pusht_22/HD_pusht_PushT-v0_2024-11-24-09_55_07/20241124T095553-eb555961c80647b195d798dc666246c4-301.npz'), PosixPath('/home/james/workspace/fastrl/logs/HD_pusht_22/HD_pusht_PushT-v0_2024-11-24-09_55_07/20241124T095735-5530ae348bec4a369bc61c9884480bab-301.npz'), PosixPath('/home/james/workspace/fastrl/logs/HD_pusht_22/HD_pusht_PushT-v0_2024-11-24-09_55_07/20241124T095904-ba630e8dc79549b6aa3dd604d0a7ba49-207.npz'), PosixPath('/home/james/workspace/fastrl/logs/HD_pusht_22/HD_pusht_PushT-v0_2024-11-24-09_55_07/20241124T095533-8735cc3391bc4eef97b411b145dc16c3-253.npz'), PosixPath('/home/james/workspace/fastrl/logs/HD_pusht_22/HD_pusht_PushT-v0_2024-11-24-09_55_07/20241124T100133-4e89f112ff4a4623b228f93bdb96e31e-111.npz'), PosixPath('/home/james/workspace/fastrl/logs/HD_pusht_22/HD_pusht_PushT-v0_2024-11-24-09_55_07/20241124T095527-12c4b054a48a43a78f53260bfc0a0267-125.npz'), PosixPath('/home/james/workspace/fastrl/logs/HD_pusht_22/HD_pusht_PushT-v0_2024-11-24-09_55_07/20241124T095925-8159292bbc4f437aa6d19a46510837b6-141.npz'), PosixPath('/home/james/workspace/fastrl/logs/HD_pusht_22/HD_pusht_PushT-v0_2024-11-24-09_55_07/20241124T095934-14aa685534b84c10aaf3b260dc0478a6-191.npz'), PosixPath('/home/james/workspace/fastrl/logs/HD_pusht_22/HD_pusht_PushT-v0_2024-11-24-09_55_07/20241124T095720-0345db4e762540058e738a3abe138169-301.npz'), PosixPath('/home/james/workspace/fastrl/logs/HD_pusht_22/HD_pusht_PushT-v0_2024-11-24-09_55_07/20241124T095617-b1e799e34a49489ca2848c20b827fadd-141.npz'), PosixPath('/home/james/workspace/fastrl/logs/HD_pusht_22/HD_pusht_PushT-v0_2024-11-24-09_55_07/20241124T100028-6714c22e37b945f98bbe2b157b6a55c4-183.npz'), PosixPath('/home/james/workspace/fastrl/logs/HD_pusht_22/HD_pusht_PushT-v0_2024-11-24-09_55_07/20241124T095522-136a74d3411d444cadf9c87823afba3d-113.npz'), PosixPath('/home/james/workspace/fastrl/logs/HD_pusht_22/HD_pusht_PushT-v0_2024-11-24-09_55_07/20241124T095508-90f09119f89b4b1c9c36ccb33bd88c11-162.npz'), PosixPath('/home/james/workspace/fastrl/logs/HD_pusht_22/HD_pusht_PushT-v0_2024-11-24-09_55_07/20241124T095752-a16bcc90b26041c58b9e6e94391d0bec-301.npz'), PosixPath('/home/james/workspace/fastrl/logs/HD_pusht_22/HD_pusht_PushT-v0_2024-11-24-09_55_07/20241124T100152-0bfd363288504d628566bc577e95e0af-140.npz'), PosixPath('/home/james/workspace/fastrl/logs/HD_pusht_22/HD_pusht_PushT-v0_2024-11-24-09_55_07/20241124T095624-c1fb5a8abc7f4598890b4167b013e9c0-90.npz'), PosixPath('/home/james/workspace/fastrl/logs/HD_pusht_22/HD_pusht_PushT-v0_2024-11-24-09_55_07/20241124T100301-d777ecaac0634fb59af404de41af1e81-221.npz'), PosixPath('/home/james/workspace/fastrl/logs/HD_pusht_22/HD_pusht_PushT-v0_2024-11-24-09_55_07/20241124T100210-0674f7ec3a1942c2b386f698a0957aeb-301.npz'), PosixPath('/home/james/workspace/fastrl/logs/HD_pusht_22/HD_pusht_PushT-v0_2024-11-24-09_55_07/20241124T100140-69b3563f896a48fdaf83a1a2bf552ad0-169.npz'), PosixPath('/home/james/workspace/fastrl/logs/HD_pusht_22/HD_pusht_PushT-v0_2024-11-24-09_55_07/20241124T100105-018a73c122974ca390d4645398d103a7-189.npz'), PosixPath('/home/james/workspace/fastrl/logs/HD_pusht_22/HD_pusht_PushT-v0_2024-11-24-09_55_07/20241124T095704-ed9a79ecc10a4f218148f79038b3eb04-301.npz'), PosixPath('/home/james/workspace/fastrl/logs/HD_pusht_22/HD_pusht_PushT-v0_2024-11-24-09_55_07/20241124T100232-3d70db2938a94a5096cd2bed25b699ae-191.npz'), PosixPath('/home/james/workspace/fastrl/logs/HD_pusht_22/HD_pusht_PushT-v0_2024-11-24-09_55_07/20241124T095844-3581a4625ad444dcb6d46b16b9af1b58-238.npz'), PosixPath('/home/james/workspace/fastrl/logs/HD_pusht_22/HD_pusht_PushT-v0_2024-11-24-09_55_07/20241124T100334-a585729f48db48d98d85769427d0108f-247.npz'), PosixPath('/home/james/workspace/fastrl/logs/HD_pusht_22/HD_pusht_PushT-v0_2024-11-24-09_55_07/20241124T095917-fa2fb5c373e244cf91d0c9bbfc3b51d5-131.npz'), PosixPath('/home/james/workspace/fastrl/logs/HD_pusht_22/HD_pusht_PushT-v0_2024-11-24-09_55_07/20241124T095642-ed500a698c364d6bbd815909be5f0dad-164.npz'), PosixPath('/home/james/workspace/fastrl/logs/HD_pusht_22/HD_pusht_PushT-v0_2024-11-24-09_55_07/20241124T100318-7204c4db4242449eaeca4483fb0635ae-227.npz'), PosixPath('/home/james/workspace/fastrl/logs/HD_pusht_22/HD_pusht_PushT-v0_2024-11-24-09_55_07/20241124T100011-babac155657446f5b571dba48ee867ea-266.npz'), PosixPath('/home/james/workspace/fastrl/logs/HD_pusht_22/HD_pusht_PushT-v0_2024-11-24-09_55_07/20241124T095857-ef776fbd26364b1a85d29730caeb95a8-108.npz'), PosixPath('/home/james/workspace/fastrl/logs/HD_pusht_22/HD_pusht_PushT-v0_2024-11-24-09_55_07/20241124T095809-9877f3ec1a3244f8b742f7a0a715ec65-301.npz'), PosixPath('/home/james/workspace/fastrl/logs/HD_pusht_22/HD_pusht_PushT-v0_2024-11-24-09_55_07/20241124T100246-4061fa088507432f814a8fceccf2878b-196.npz'), PosixPath('/home/james/workspace/fastrl/logs/HD_pusht_22/HD_pusht_PushT-v0_2024-11-24-09_55_07/20241124T100353-0c027e8a2def4a6fa97ec3036fc47f3b-247.npz'), PosixPath('/home/james/workspace/fastrl/logs/HD_pusht_22/HD_pusht_PushT-v0_2024-11-24-09_55_07/20241124T100411-4d06707666bf4cfa99873c7032456f93-186.npz'), PosixPath('/home/james/workspace/fastrl/logs/HD_pusht_22/HD_pusht_PushT-v0_2024-11-24-09_55_07/20241124T095826-9ca99e54e43f45beb656ba1b52641113-301.npz'), PosixPath('/home/james/workspace/fastrl/logs/HD_pusht_22/HD_pusht_PushT-v0_2024-11-24-09_55_07/20241124T095629-1656acf2046740b68a60ade2e730d20c-269.npz'), PosixPath('/home/james/workspace/fastrl/logs/HD_pusht_22/HD_pusht_PushT-v0_2024-11-24-09_55_07/20241124T095516-a914b35dc5af4b7099209e03ffe8caa0-140.npz'), PosixPath('/home/james/workspace/fastrl/logs/HD_pusht_22/HD_pusht_PushT-v0_2024-11-24-09_55_07/20241124T100039-a2fd421aabad4e739df71f0eee70de38-199.npz'), PosixPath('/home/james/workspace/fastrl/logs/HD_pusht_22/HD_pusht_PushT-v0_2024-11-24-09_55_07/20241124T095957-e523f281e65f4b9c9bd96dae460e90a7-232.npz'), PosixPath('/home/james/workspace/fastrl/logs/HD_pusht_22/HD_pusht_PushT-v0_2024-11-24-09_55_07/20241124T095608-f46746f6de8e489a86feb93f43dccb91-197.npz'), PosixPath('/home/james/workspace/fastrl/logs/HD_pusht_22/HD_pusht_PushT-v0_2024-11-24-09_55_07/20241124T100202-267ee7d72ce44177aa2a2b921439b8eb-128.npz')]\n",
      "pixels (187, 94, 94, 3)\n",
      "state (187, 5)\n",
      "image (187, 94, 94, 3)\n",
      "is_first (187,)\n",
      "is_last (187,)\n",
      "is_terminal (187,)\n",
      "reward (187,)\n",
      "discount (187,)\n",
      "action (187, 2)\n",
      "logprob (187,)\n"
     ]
    }
   ],
   "source": [
    "# get the path to the dataset\n",
    "import pandas as pd\n",
    "import numpy as np\n",
    "from pathlib import Path\n",
    "env_name = 'pusht' # 'pinpad' # 'robosuite'\n",
    "\n",
    "# base_path = Path(f\"~/workspace/lerobot/local/{env_name}/original\").expanduser()\n",
    "# base_path = Path(f\"~/workspace/fastrl/logs/HD_pinpad_four_1/a\").expanduser()\n",
    "imi = 22\n",
    "AI = False\n",
    "tdmpc = False\n",
    "\n",
    "def get_files(env_name, imi, AI=False, tdmpc=False, resize=False):\n",
    "    if tdmpc:\n",
    "        bp = f\"~/workspace/fastrl/logs/demonstrations/TDMPC_pusht_HD_{imi}_sparse/\"\n",
    "        od = f\"~/workspace/lerobot/local/{env_name}/tdmpc{imi}\"\n",
    "        assert not AI\n",
    "    else:    \n",
    "        if AI:\n",
    "            bp = f\"~/workspace/fastrl/logs/AD_pusht_{imi}/\"\n",
    "            od = f\"~/workspace/lerobot/local/{env_name}/A{imi}\"\n",
    "        else:\n",
    "            bp = f\"~/workspace/fastrl/logs/HD_pusht_{imi}/\"\n",
    "            od = f\"~/workspace/lerobot/local/{env_name}/{imi}\"\n",
    "\n",
    "    if resize:\n",
    "        od = od + \"_96x96\"\n",
    "\n",
    "    base_path = Path(bp).expanduser()\n",
    "    out_dir = Path(od).expanduser()\n",
    "\n",
    "    # print(base_path)\n",
    "# list all the files in the dataset\n",
    "    folders = list(base_path.glob(\"*\"))\n",
    "\n",
    "    files = []\n",
    "    for f in folders:\n",
    "        files.extend((base_path / f).glob(\"*\"))\n",
    "    return files, out_dir\n",
    "\n",
    "files, out_dir = get_files(env_name, imi, AI=AI, tdmpc=tdmpc)\n",
    "\n",
    "print(files)\n",
    "\n",
    "# print the keys\n",
    "data = np.load(files[0])\n",
    "# convert to a dictionary NOTE: this is necessary to make the arrays writeable for some reason\n",
    "data = dict(data)\n",
    "for k,v in data.items():\n",
    "    print(k, v.shape)\n",
    "\n",
    "# print(\"Setting last is_terminal to true\")\n",
    "# data[\"is_terminal\"][-1] = True; data['is_last'][-1] = True"
   ]
  },
  {
   "cell_type": "code",
   "execution_count": 12,
   "metadata": {},
   "outputs": [],
   "source": [
    "from lerobot.common.datasets.lerobot_dataset import LeRobotDataset, LeRobotDatasetMetadata\n",
    "import shutil\n",
    "repo_id = \"j/22\"\n",
    "root = Path('~/workspace/lerobot/local/pushtv2').expanduser()\n",
    "# root.mkdir(exist_ok=True)\n",
    "shutil.rmtree(root, ignore_errors=True)\n",
    "\n",
    "use_videos = True\n",
    "\n",
    "h, w, ch = data['image'][0].shape\n",
    "state_ndims = data['state'][0].shape[0]\n",
    "action_ndims = data['action'][0].shape[0]\n",
    "\n",
    "features = {\n",
    "    \"observation.image\": {\n",
    "        \"dtype\": \"video\" if use_videos else \"image\",\n",
    "        \"shape\": [h, w, ch],\n",
    "        \"names\": ['height', 'width', 'channels'],\n",
    "        \"info\": None},\n",
    "    \"observation.state\": {\n",
    "        \"dtype\": \"float32\",\n",
    "        \"shape\": (state_ndims,),\n",
    "        \"names\": [f's{i}' for i in range(state_ndims)],\n",
    "    },\n",
    "    \"action\": {\n",
    "        \"dtype\": \"float32\",\n",
    "        \"shape\": (action_ndims,),\n",
    "        \"names\": [f'a{i}' for i in range(action_ndims)],\n",
    "    },\n",
    "    \"next.reward\": {\n",
    "        \"dtype\": \"float32\",\n",
    "        \"shape\": (1,),\n",
    "        \"names\": None,\n",
    "    },\n",
    "    \"next.success\": {\n",
    "        \"dtype\": \"bool\",\n",
    "        \"shape\": (1,),\n",
    "        \"names\": None,\n",
    "    },\n",
    "}\n",
    "\n",
    "# metadata = LeRobotDatasetMetadata(repo_id, root, local_files_only=True)\n",
    "dataset = LeRobotDataset.create(\n",
    "    repo_id,\n",
    "    fps=10, # from pusht.yaml\n",
    "    root=root,\n",
    "    use_videos=use_videos,\n",
    "    features=features\n",
    ")"
   ]
  },
  {
   "cell_type": "code",
   "execution_count": 13,
   "metadata": {},
   "outputs": [
    {
     "data": {
      "application/vnd.jupyter.widget-view+json": {
       "model_id": "f40242684ccf46179546075ed77a0868",
       "version_major": 2,
       "version_minor": 0
      },
      "text/plain": [
       "Map:   0%|          | 0/187 [00:00<?, ? examples/s]"
      ]
     },
     "metadata": {},
     "output_type": "display_data"
    },
    {
     "data": {
      "application/vnd.jupyter.widget-view+json": {
       "model_id": "e87546938d5249e1b157e4868b50c3ab",
       "version_major": 2,
       "version_minor": 0
      },
      "text/plain": [
       "Creating parquet from Arrow format:   0%|          | 0/1 [00:00<?, ?ba/s]"
      ]
     },
     "metadata": {},
     "output_type": "display_data"
    },
    {
     "data": {
      "application/vnd.jupyter.widget-view+json": {
       "model_id": "91867f2b46a14f52ad2fbb474dba7d4f",
       "version_major": 2,
       "version_minor": 0
      },
      "text/plain": [
       "Map:   0%|          | 0/182 [00:00<?, ? examples/s]"
      ]
     },
     "metadata": {},
     "output_type": "display_data"
    },
    {
     "data": {
      "application/vnd.jupyter.widget-view+json": {
       "model_id": "91c0b1c1c9b54158852f01b93837646d",
       "version_major": 2,
       "version_minor": 0
      },
      "text/plain": [
       "Creating parquet from Arrow format:   0%|          | 0/1 [00:00<?, ?ba/s]"
      ]
     },
     "metadata": {},
     "output_type": "display_data"
    },
    {
     "data": {
      "application/vnd.jupyter.widget-view+json": {
       "model_id": "5dc52d1635b8482e9c178b62841e15df",
       "version_major": 2,
       "version_minor": 0
      },
      "text/plain": [
       "Map:   0%|          | 0/301 [00:00<?, ? examples/s]"
      ]
     },
     "metadata": {},
     "output_type": "display_data"
    },
    {
     "data": {
      "application/vnd.jupyter.widget-view+json": {
       "model_id": "4c4eaa28c708484fa510961038a1bff4",
       "version_major": 2,
       "version_minor": 0
      },
      "text/plain": [
       "Creating parquet from Arrow format:   0%|          | 0/1 [00:00<?, ?ba/s]"
      ]
     },
     "metadata": {},
     "output_type": "display_data"
    },
    {
     "data": {
      "application/vnd.jupyter.widget-view+json": {
       "model_id": "2da2a85ce3c347c2913efa7dcb8c57fc",
       "version_major": 2,
       "version_minor": 0
      },
      "text/plain": [
       "Map:   0%|          | 0/128 [00:00<?, ? examples/s]"
      ]
     },
     "metadata": {},
     "output_type": "display_data"
    },
    {
     "data": {
      "application/vnd.jupyter.widget-view+json": {
       "model_id": "7f4a60fe4c084929ae390648fb572640",
       "version_major": 2,
       "version_minor": 0
      },
      "text/plain": [
       "Creating parquet from Arrow format:   0%|          | 0/1 [00:00<?, ?ba/s]"
      ]
     },
     "metadata": {},
     "output_type": "display_data"
    },
    {
     "data": {
      "application/vnd.jupyter.widget-view+json": {
       "model_id": "3768193ed766463facaa5bc84712fb6f",
       "version_major": 2,
       "version_minor": 0
      },
      "text/plain": [
       "Map:   0%|          | 0/252 [00:00<?, ? examples/s]"
      ]
     },
     "metadata": {},
     "output_type": "display_data"
    },
    {
     "data": {
      "application/vnd.jupyter.widget-view+json": {
       "model_id": "928262d8898a471e9a342c1f23f5b9d8",
       "version_major": 2,
       "version_minor": 0
      },
      "text/plain": [
       "Creating parquet from Arrow format:   0%|          | 0/1 [00:00<?, ?ba/s]"
      ]
     },
     "metadata": {},
     "output_type": "display_data"
    },
    {
     "data": {
      "application/vnd.jupyter.widget-view+json": {
       "model_id": "c1ec2c8a41ec46a98516ebbea48b7f0e",
       "version_major": 2,
       "version_minor": 0
      },
      "text/plain": [
       "Map:   0%|          | 0/270 [00:00<?, ? examples/s]"
      ]
     },
     "metadata": {},
     "output_type": "display_data"
    },
    {
     "data": {
      "application/vnd.jupyter.widget-view+json": {
       "model_id": "aa5285cc33974be5b33c466ea261f0e4",
       "version_major": 2,
       "version_minor": 0
      },
      "text/plain": [
       "Creating parquet from Arrow format:   0%|          | 0/1 [00:00<?, ?ba/s]"
      ]
     },
     "metadata": {},
     "output_type": "display_data"
    },
    {
     "data": {
      "application/vnd.jupyter.widget-view+json": {
       "model_id": "c12636656e0742f291e968ad48a2af09",
       "version_major": 2,
       "version_minor": 0
      },
      "text/plain": [
       "Map:   0%|          | 0/124 [00:00<?, ? examples/s]"
      ]
     },
     "metadata": {},
     "output_type": "display_data"
    },
    {
     "data": {
      "application/vnd.jupyter.widget-view+json": {
       "model_id": "0ba95fdc39de4ed8b35a66bc539579c1",
       "version_major": 2,
       "version_minor": 0
      },
      "text/plain": [
       "Creating parquet from Arrow format:   0%|          | 0/1 [00:00<?, ?ba/s]"
      ]
     },
     "metadata": {},
     "output_type": "display_data"
    },
    {
     "data": {
      "application/vnd.jupyter.widget-view+json": {
       "model_id": "f5b144e4d68a4dac941b79aeaff4f150",
       "version_major": 2,
       "version_minor": 0
      },
      "text/plain": [
       "Map:   0%|          | 0/301 [00:00<?, ? examples/s]"
      ]
     },
     "metadata": {},
     "output_type": "display_data"
    },
    {
     "data": {
      "application/vnd.jupyter.widget-view+json": {
       "model_id": "bbd89904c07e45abae74b7f7c65f2ef9",
       "version_major": 2,
       "version_minor": 0
      },
      "text/plain": [
       "Creating parquet from Arrow format:   0%|          | 0/1 [00:00<?, ?ba/s]"
      ]
     },
     "metadata": {},
     "output_type": "display_data"
    },
    {
     "data": {
      "application/vnd.jupyter.widget-view+json": {
       "model_id": "6b9520e4a7e94e26ba3dc80887e5cbc1",
       "version_major": 2,
       "version_minor": 0
      },
      "text/plain": [
       "Map:   0%|          | 0/301 [00:00<?, ? examples/s]"
      ]
     },
     "metadata": {},
     "output_type": "display_data"
    },
    {
     "data": {
      "application/vnd.jupyter.widget-view+json": {
       "model_id": "21f8017ec27342ef87031d6075307a6b",
       "version_major": 2,
       "version_minor": 0
      },
      "text/plain": [
       "Creating parquet from Arrow format:   0%|          | 0/1 [00:00<?, ?ba/s]"
      ]
     },
     "metadata": {},
     "output_type": "display_data"
    },
    {
     "data": {
      "application/vnd.jupyter.widget-view+json": {
       "model_id": "44f56a18aec84c0e9fa8a531d79f9179",
       "version_major": 2,
       "version_minor": 0
      },
      "text/plain": [
       "Map:   0%|          | 0/301 [00:00<?, ? examples/s]"
      ]
     },
     "metadata": {},
     "output_type": "display_data"
    },
    {
     "data": {
      "application/vnd.jupyter.widget-view+json": {
       "model_id": "be69759d8b314dd0889da84f36a7b6d4",
       "version_major": 2,
       "version_minor": 0
      },
      "text/plain": [
       "Creating parquet from Arrow format:   0%|          | 0/1 [00:00<?, ?ba/s]"
      ]
     },
     "metadata": {},
     "output_type": "display_data"
    },
    {
     "data": {
      "application/vnd.jupyter.widget-view+json": {
       "model_id": "530e6ea3ce864722886626c98e066a57",
       "version_major": 2,
       "version_minor": 0
      },
      "text/plain": [
       "Map:   0%|          | 0/166 [00:00<?, ? examples/s]"
      ]
     },
     "metadata": {},
     "output_type": "display_data"
    },
    {
     "data": {
      "application/vnd.jupyter.widget-view+json": {
       "model_id": "034765e0a36e4fe0ac7ae687c755619b",
       "version_major": 2,
       "version_minor": 0
      },
      "text/plain": [
       "Creating parquet from Arrow format:   0%|          | 0/1 [00:00<?, ?ba/s]"
      ]
     },
     "metadata": {},
     "output_type": "display_data"
    },
    {
     "data": {
      "application/vnd.jupyter.widget-view+json": {
       "model_id": "18e2019aa9c149afa6020c407f016bee",
       "version_major": 2,
       "version_minor": 0
      },
      "text/plain": [
       "Map:   0%|          | 0/263 [00:00<?, ? examples/s]"
      ]
     },
     "metadata": {},
     "output_type": "display_data"
    },
    {
     "data": {
      "application/vnd.jupyter.widget-view+json": {
       "model_id": "dd0138354375436584a57cf6168f3337",
       "version_major": 2,
       "version_minor": 0
      },
      "text/plain": [
       "Creating parquet from Arrow format:   0%|          | 0/1 [00:00<?, ?ba/s]"
      ]
     },
     "metadata": {},
     "output_type": "display_data"
    },
    {
     "data": {
      "application/vnd.jupyter.widget-view+json": {
       "model_id": "446265faf63f40ea87a5bc74bc5db733",
       "version_major": 2,
       "version_minor": 0
      },
      "text/plain": [
       "Map:   0%|          | 0/301 [00:00<?, ? examples/s]"
      ]
     },
     "metadata": {},
     "output_type": "display_data"
    },
    {
     "data": {
      "application/vnd.jupyter.widget-view+json": {
       "model_id": "b30f3ee0e1d54b708f3f69425fad5099",
       "version_major": 2,
       "version_minor": 0
      },
      "text/plain": [
       "Creating parquet from Arrow format:   0%|          | 0/1 [00:00<?, ?ba/s]"
      ]
     },
     "metadata": {},
     "output_type": "display_data"
    },
    {
     "data": {
      "application/vnd.jupyter.widget-view+json": {
       "model_id": "6bcbabc8af564e868d18916585e7baf7",
       "version_major": 2,
       "version_minor": 0
      },
      "text/plain": [
       "Map:   0%|          | 0/301 [00:00<?, ? examples/s]"
      ]
     },
     "metadata": {},
     "output_type": "display_data"
    },
    {
     "data": {
      "application/vnd.jupyter.widget-view+json": {
       "model_id": "3d0c3e64386c4a148223227f0302e7f3",
       "version_major": 2,
       "version_minor": 0
      },
      "text/plain": [
       "Creating parquet from Arrow format:   0%|          | 0/1 [00:00<?, ?ba/s]"
      ]
     },
     "metadata": {},
     "output_type": "display_data"
    },
    {
     "data": {
      "application/vnd.jupyter.widget-view+json": {
       "model_id": "de8e5bc20c954122ace9d96e0afab3a8",
       "version_major": 2,
       "version_minor": 0
      },
      "text/plain": [
       "Map:   0%|          | 0/211 [00:00<?, ? examples/s]"
      ]
     },
     "metadata": {},
     "output_type": "display_data"
    },
    {
     "data": {
      "application/vnd.jupyter.widget-view+json": {
       "model_id": "2d919b49d4e94ce49b4f8d9ef5d28edb",
       "version_major": 2,
       "version_minor": 0
      },
      "text/plain": [
       "Creating parquet from Arrow format:   0%|          | 0/1 [00:00<?, ?ba/s]"
      ]
     },
     "metadata": {},
     "output_type": "display_data"
    },
    {
     "data": {
      "application/vnd.jupyter.widget-view+json": {
       "model_id": "d31891f2df1c41e5a097543581037e19",
       "version_major": 2,
       "version_minor": 0
      },
      "text/plain": [
       "Map:   0%|          | 0/210 [00:00<?, ? examples/s]"
      ]
     },
     "metadata": {},
     "output_type": "display_data"
    },
    {
     "data": {
      "application/vnd.jupyter.widget-view+json": {
       "model_id": "b8d1aff6389b4d3486f3a542895aa73a",
       "version_major": 2,
       "version_minor": 0
      },
      "text/plain": [
       "Creating parquet from Arrow format:   0%|          | 0/1 [00:00<?, ?ba/s]"
      ]
     },
     "metadata": {},
     "output_type": "display_data"
    },
    {
     "data": {
      "application/vnd.jupyter.widget-view+json": {
       "model_id": "759b9741008946458cd40cada05f9245",
       "version_major": 2,
       "version_minor": 0
      },
      "text/plain": [
       "Map:   0%|          | 0/101 [00:00<?, ? examples/s]"
      ]
     },
     "metadata": {},
     "output_type": "display_data"
    },
    {
     "data": {
      "application/vnd.jupyter.widget-view+json": {
       "model_id": "942c353d45fc4020b189c4dd15db900c",
       "version_major": 2,
       "version_minor": 0
      },
      "text/plain": [
       "Creating parquet from Arrow format:   0%|          | 0/1 [00:00<?, ?ba/s]"
      ]
     },
     "metadata": {},
     "output_type": "display_data"
    },
    {
     "data": {
      "application/vnd.jupyter.widget-view+json": {
       "model_id": "7c1b73f1f6864dc5b45a753229f1c724",
       "version_major": 2,
       "version_minor": 0
      },
      "text/plain": [
       "Map:   0%|          | 0/270 [00:00<?, ? examples/s]"
      ]
     },
     "metadata": {},
     "output_type": "display_data"
    },
    {
     "data": {
      "application/vnd.jupyter.widget-view+json": {
       "model_id": "dfe62ff71a3f49fd8bfde9c75121757f",
       "version_major": 2,
       "version_minor": 0
      },
      "text/plain": [
       "Creating parquet from Arrow format:   0%|          | 0/1 [00:00<?, ?ba/s]"
      ]
     },
     "metadata": {},
     "output_type": "display_data"
    },
    {
     "data": {
      "application/vnd.jupyter.widget-view+json": {
       "model_id": "9145e2022ff8419ba874b446da515173",
       "version_major": 2,
       "version_minor": 0
      },
      "text/plain": [
       "Map:   0%|          | 0/236 [00:00<?, ? examples/s]"
      ]
     },
     "metadata": {},
     "output_type": "display_data"
    },
    {
     "data": {
      "application/vnd.jupyter.widget-view+json": {
       "model_id": "becf130c0b024e64b35c1c544cde9e58",
       "version_major": 2,
       "version_minor": 0
      },
      "text/plain": [
       "Creating parquet from Arrow format:   0%|          | 0/1 [00:00<?, ?ba/s]"
      ]
     },
     "metadata": {},
     "output_type": "display_data"
    },
    {
     "data": {
      "application/vnd.jupyter.widget-view+json": {
       "model_id": "c3a1a008d8264143b2ab471dc010f479",
       "version_major": 2,
       "version_minor": 0
      },
      "text/plain": [
       "Map:   0%|          | 0/183 [00:00<?, ? examples/s]"
      ]
     },
     "metadata": {},
     "output_type": "display_data"
    },
    {
     "data": {
      "application/vnd.jupyter.widget-view+json": {
       "model_id": "d9db2298d7bc47bea49791e6677a60e5",
       "version_major": 2,
       "version_minor": 0
      },
      "text/plain": [
       "Creating parquet from Arrow format:   0%|          | 0/1 [00:00<?, ?ba/s]"
      ]
     },
     "metadata": {},
     "output_type": "display_data"
    },
    {
     "data": {
      "application/vnd.jupyter.widget-view+json": {
       "model_id": "2812df86c6ce46608394fcd9afbf3936",
       "version_major": 2,
       "version_minor": 0
      },
      "text/plain": [
       "Map:   0%|          | 0/155 [00:00<?, ? examples/s]"
      ]
     },
     "metadata": {},
     "output_type": "display_data"
    },
    {
     "data": {
      "application/vnd.jupyter.widget-view+json": {
       "model_id": "348c494854f441779addbc16034d53df",
       "version_major": 2,
       "version_minor": 0
      },
      "text/plain": [
       "Creating parquet from Arrow format:   0%|          | 0/1 [00:00<?, ?ba/s]"
      ]
     },
     "metadata": {},
     "output_type": "display_data"
    },
    {
     "data": {
      "application/vnd.jupyter.widget-view+json": {
       "model_id": "57afee5d8df24e58910e2fd0e319749c",
       "version_major": 2,
       "version_minor": 0
      },
      "text/plain": [
       "Map:   0%|          | 0/162 [00:00<?, ? examples/s]"
      ]
     },
     "metadata": {},
     "output_type": "display_data"
    },
    {
     "data": {
      "application/vnd.jupyter.widget-view+json": {
       "model_id": "52586f2c967142e882c880bf0feee01a",
       "version_major": 2,
       "version_minor": 0
      },
      "text/plain": [
       "Creating parquet from Arrow format:   0%|          | 0/1 [00:00<?, ?ba/s]"
      ]
     },
     "metadata": {},
     "output_type": "display_data"
    },
    {
     "data": {
      "application/vnd.jupyter.widget-view+json": {
       "model_id": "f1c886fc2e704be8bfc93ec3ec618f98",
       "version_major": 2,
       "version_minor": 0
      },
      "text/plain": [
       "Map:   0%|          | 0/192 [00:00<?, ? examples/s]"
      ]
     },
     "metadata": {},
     "output_type": "display_data"
    },
    {
     "data": {
      "application/vnd.jupyter.widget-view+json": {
       "model_id": "96e4beb0599040f5a8ba5bfe23ec9464",
       "version_major": 2,
       "version_minor": 0
      },
      "text/plain": [
       "Creating parquet from Arrow format:   0%|          | 0/1 [00:00<?, ?ba/s]"
      ]
     },
     "metadata": {},
     "output_type": "display_data"
    },
    {
     "data": {
      "application/vnd.jupyter.widget-view+json": {
       "model_id": "1d881f562df949f68bce35c427b78b32",
       "version_major": 2,
       "version_minor": 0
      },
      "text/plain": [
       "Map:   0%|          | 0/236 [00:00<?, ? examples/s]"
      ]
     },
     "metadata": {},
     "output_type": "display_data"
    },
    {
     "data": {
      "application/vnd.jupyter.widget-view+json": {
       "model_id": "5de2e35558cf44caa71aabb44e3db5cc",
       "version_major": 2,
       "version_minor": 0
      },
      "text/plain": [
       "Creating parquet from Arrow format:   0%|          | 0/1 [00:00<?, ?ba/s]"
      ]
     },
     "metadata": {},
     "output_type": "display_data"
    },
    {
     "data": {
      "application/vnd.jupyter.widget-view+json": {
       "model_id": "016de76df15d4f05a9fc9707e6917545",
       "version_major": 2,
       "version_minor": 0
      },
      "text/plain": [
       "Map:   0%|          | 0/204 [00:00<?, ? examples/s]"
      ]
     },
     "metadata": {},
     "output_type": "display_data"
    },
    {
     "data": {
      "application/vnd.jupyter.widget-view+json": {
       "model_id": "fc5510735b6e4c2a844420515ce03a5d",
       "version_major": 2,
       "version_minor": 0
      },
      "text/plain": [
       "Creating parquet from Arrow format:   0%|          | 0/1 [00:00<?, ?ba/s]"
      ]
     },
     "metadata": {},
     "output_type": "display_data"
    },
    {
     "data": {
      "application/vnd.jupyter.widget-view+json": {
       "model_id": "d7e9ee64fce8445ca1e67f2cbbf53ba7",
       "version_major": 2,
       "version_minor": 0
      },
      "text/plain": [
       "Map:   0%|          | 0/292 [00:00<?, ? examples/s]"
      ]
     },
     "metadata": {},
     "output_type": "display_data"
    },
    {
     "data": {
      "application/vnd.jupyter.widget-view+json": {
       "model_id": "6d3722fe83d642bb8d0a5599edcaa5de",
       "version_major": 2,
       "version_minor": 0
      },
      "text/plain": [
       "Creating parquet from Arrow format:   0%|          | 0/1 [00:00<?, ?ba/s]"
      ]
     },
     "metadata": {},
     "output_type": "display_data"
    },
    {
     "data": {
      "application/vnd.jupyter.widget-view+json": {
       "model_id": "bfa9ef3436eb43ae8937175fd3595883",
       "version_major": 2,
       "version_minor": 0
      },
      "text/plain": [
       "Map:   0%|          | 0/154 [00:00<?, ? examples/s]"
      ]
     },
     "metadata": {},
     "output_type": "display_data"
    },
    {
     "data": {
      "application/vnd.jupyter.widget-view+json": {
       "model_id": "53ea35931df04d1a8ecea0b85c98d308",
       "version_major": 2,
       "version_minor": 0
      },
      "text/plain": [
       "Creating parquet from Arrow format:   0%|          | 0/1 [00:00<?, ?ba/s]"
      ]
     },
     "metadata": {},
     "output_type": "display_data"
    },
    {
     "data": {
      "application/vnd.jupyter.widget-view+json": {
       "model_id": "cff6fca4508c4fc4af87942ad1a6ba33",
       "version_major": 2,
       "version_minor": 0
      },
      "text/plain": [
       "Map:   0%|          | 0/270 [00:00<?, ? examples/s]"
      ]
     },
     "metadata": {},
     "output_type": "display_data"
    },
    {
     "data": {
      "application/vnd.jupyter.widget-view+json": {
       "model_id": "fb37fe3ebdd34c3bbb8873b0d7730b42",
       "version_major": 2,
       "version_minor": 0
      },
      "text/plain": [
       "Creating parquet from Arrow format:   0%|          | 0/1 [00:00<?, ?ba/s]"
      ]
     },
     "metadata": {},
     "output_type": "display_data"
    },
    {
     "data": {
      "application/vnd.jupyter.widget-view+json": {
       "model_id": "4e721560e21245ec8662033324705cc5",
       "version_major": 2,
       "version_minor": 0
      },
      "text/plain": [
       "Map:   0%|          | 0/159 [00:00<?, ? examples/s]"
      ]
     },
     "metadata": {},
     "output_type": "display_data"
    },
    {
     "data": {
      "application/vnd.jupyter.widget-view+json": {
       "model_id": "51e94b5506ec4bcbb29e1368a73a868d",
       "version_major": 2,
       "version_minor": 0
      },
      "text/plain": [
       "Creating parquet from Arrow format:   0%|          | 0/1 [00:00<?, ?ba/s]"
      ]
     },
     "metadata": {},
     "output_type": "display_data"
    },
    {
     "data": {
      "application/vnd.jupyter.widget-view+json": {
       "model_id": "fd4a08fae94a4e7ebe5105911cf5f827",
       "version_major": 2,
       "version_minor": 0
      },
      "text/plain": [
       "Map:   0%|          | 0/192 [00:00<?, ? examples/s]"
      ]
     },
     "metadata": {},
     "output_type": "display_data"
    },
    {
     "data": {
      "application/vnd.jupyter.widget-view+json": {
       "model_id": "92f8fbe33a2a4b08af9b3a18bb9275a6",
       "version_major": 2,
       "version_minor": 0
      },
      "text/plain": [
       "Creating parquet from Arrow format:   0%|          | 0/1 [00:00<?, ?ba/s]"
      ]
     },
     "metadata": {},
     "output_type": "display_data"
    },
    {
     "data": {
      "application/vnd.jupyter.widget-view+json": {
       "model_id": "8232410023f9464c8432bde3529885c5",
       "version_major": 2,
       "version_minor": 0
      },
      "text/plain": [
       "Map:   0%|          | 0/139 [00:00<?, ? examples/s]"
      ]
     },
     "metadata": {},
     "output_type": "display_data"
    },
    {
     "data": {
      "application/vnd.jupyter.widget-view+json": {
       "model_id": "17ed57860bb44c2e8abda565ee0f5442",
       "version_major": 2,
       "version_minor": 0
      },
      "text/plain": [
       "Creating parquet from Arrow format:   0%|          | 0/1 [00:00<?, ?ba/s]"
      ]
     },
     "metadata": {},
     "output_type": "display_data"
    },
    {
     "data": {
      "application/vnd.jupyter.widget-view+json": {
       "model_id": "2424e5f5775140d7aa64bed33cc32199",
       "version_major": 2,
       "version_minor": 0
      },
      "text/plain": [
       "Map:   0%|          | 0/301 [00:00<?, ? examples/s]"
      ]
     },
     "metadata": {},
     "output_type": "display_data"
    },
    {
     "data": {
      "application/vnd.jupyter.widget-view+json": {
       "model_id": "435199c383bf42a78fc909c546f1c87a",
       "version_major": 2,
       "version_minor": 0
      },
      "text/plain": [
       "Creating parquet from Arrow format:   0%|          | 0/1 [00:00<?, ?ba/s]"
      ]
     },
     "metadata": {},
     "output_type": "display_data"
    },
    {
     "data": {
      "application/vnd.jupyter.widget-view+json": {
       "model_id": "528dd53f06b14ea0adbd90fcb624ccf4",
       "version_major": 2,
       "version_minor": 0
      },
      "text/plain": [
       "Map:   0%|          | 0/120 [00:00<?, ? examples/s]"
      ]
     },
     "metadata": {},
     "output_type": "display_data"
    },
    {
     "data": {
      "application/vnd.jupyter.widget-view+json": {
       "model_id": "c4f07e6ff0a148ab97ea3ce315693a66",
       "version_major": 2,
       "version_minor": 0
      },
      "text/plain": [
       "Creating parquet from Arrow format:   0%|          | 0/1 [00:00<?, ?ba/s]"
      ]
     },
     "metadata": {},
     "output_type": "display_data"
    },
    {
     "data": {
      "application/vnd.jupyter.widget-view+json": {
       "model_id": "621aaa520b4b4a028abe7466cb77f12d",
       "version_major": 2,
       "version_minor": 0
      },
      "text/plain": [
       "Map:   0%|          | 0/150 [00:00<?, ? examples/s]"
      ]
     },
     "metadata": {},
     "output_type": "display_data"
    },
    {
     "data": {
      "application/vnd.jupyter.widget-view+json": {
       "model_id": "ffc5fc3eeecb426cb2edf3ecb8f7a54a",
       "version_major": 2,
       "version_minor": 0
      },
      "text/plain": [
       "Creating parquet from Arrow format:   0%|          | 0/1 [00:00<?, ?ba/s]"
      ]
     },
     "metadata": {},
     "output_type": "display_data"
    },
    {
     "data": {
      "application/vnd.jupyter.widget-view+json": {
       "model_id": "2f3ac34b4b104396a57476370747ad22",
       "version_major": 2,
       "version_minor": 0
      },
      "text/plain": [
       "Map:   0%|          | 0/166 [00:00<?, ? examples/s]"
      ]
     },
     "metadata": {},
     "output_type": "display_data"
    },
    {
     "data": {
      "application/vnd.jupyter.widget-view+json": {
       "model_id": "0238c654ed9c4cb78fa5b5b5ebdcd8eb",
       "version_major": 2,
       "version_minor": 0
      },
      "text/plain": [
       "Creating parquet from Arrow format:   0%|          | 0/1 [00:00<?, ?ba/s]"
      ]
     },
     "metadata": {},
     "output_type": "display_data"
    },
    {
     "data": {
      "application/vnd.jupyter.widget-view+json": {
       "model_id": "8b62096d5e184e84a1d27d5a3939216c",
       "version_major": 2,
       "version_minor": 0
      },
      "text/plain": [
       "Map:   0%|          | 0/288 [00:00<?, ? examples/s]"
      ]
     },
     "metadata": {},
     "output_type": "display_data"
    },
    {
     "data": {
      "application/vnd.jupyter.widget-view+json": {
       "model_id": "f99ac0ab9c1d4ab0b7a3fce4496855ec",
       "version_major": 2,
       "version_minor": 0
      },
      "text/plain": [
       "Creating parquet from Arrow format:   0%|          | 0/1 [00:00<?, ?ba/s]"
      ]
     },
     "metadata": {},
     "output_type": "display_data"
    },
    {
     "data": {
      "application/vnd.jupyter.widget-view+json": {
       "model_id": "97867c6c604d4b14a9cee5ba8214b0c1",
       "version_major": 2,
       "version_minor": 0
      },
      "text/plain": [
       "Map:   0%|          | 0/248 [00:00<?, ? examples/s]"
      ]
     },
     "metadata": {},
     "output_type": "display_data"
    },
    {
     "data": {
      "application/vnd.jupyter.widget-view+json": {
       "model_id": "4200f87feca74c52bc018c37ecad9ac5",
       "version_major": 2,
       "version_minor": 0
      },
      "text/plain": [
       "Creating parquet from Arrow format:   0%|          | 0/1 [00:00<?, ?ba/s]"
      ]
     },
     "metadata": {},
     "output_type": "display_data"
    },
    {
     "data": {
      "application/vnd.jupyter.widget-view+json": {
       "model_id": "d4b526754ac5447ca6eaf13aa678d7ee",
       "version_major": 2,
       "version_minor": 0
      },
      "text/plain": [
       "Map:   0%|          | 0/249 [00:00<?, ? examples/s]"
      ]
     },
     "metadata": {},
     "output_type": "display_data"
    },
    {
     "data": {
      "application/vnd.jupyter.widget-view+json": {
       "model_id": "1b1fe9c068224f6f96b3541ee325ad40",
       "version_major": 2,
       "version_minor": 0
      },
      "text/plain": [
       "Creating parquet from Arrow format:   0%|          | 0/1 [00:00<?, ?ba/s]"
      ]
     },
     "metadata": {},
     "output_type": "display_data"
    },
    {
     "data": {
      "application/vnd.jupyter.widget-view+json": {
       "model_id": "1410e0bc1aea4104878718d9ca86b9bc",
       "version_major": 2,
       "version_minor": 0
      },
      "text/plain": [
       "Map:   0%|          | 0/214 [00:00<?, ? examples/s]"
      ]
     },
     "metadata": {},
     "output_type": "display_data"
    },
    {
     "data": {
      "application/vnd.jupyter.widget-view+json": {
       "model_id": "30811b6ce9a04a149c3bf32205e76c72",
       "version_major": 2,
       "version_minor": 0
      },
      "text/plain": [
       "Creating parquet from Arrow format:   0%|          | 0/1 [00:00<?, ?ba/s]"
      ]
     },
     "metadata": {},
     "output_type": "display_data"
    },
    {
     "data": {
      "application/vnd.jupyter.widget-view+json": {
       "model_id": "6db509f63ec2472389392fd42a9056aa",
       "version_major": 2,
       "version_minor": 0
      },
      "text/plain": [
       "Map:   0%|          | 0/141 [00:00<?, ? examples/s]"
      ]
     },
     "metadata": {},
     "output_type": "display_data"
    },
    {
     "data": {
      "application/vnd.jupyter.widget-view+json": {
       "model_id": "5e939870d2a74d8badc7ba5caebe63cd",
       "version_major": 2,
       "version_minor": 0
      },
      "text/plain": [
       "Creating parquet from Arrow format:   0%|          | 0/1 [00:00<?, ?ba/s]"
      ]
     },
     "metadata": {},
     "output_type": "display_data"
    },
    {
     "data": {
      "application/vnd.jupyter.widget-view+json": {
       "model_id": "6969b5f1da9c4f7d9ebb4b7f5b322804",
       "version_major": 2,
       "version_minor": 0
      },
      "text/plain": [
       "Map:   0%|          | 0/138 [00:00<?, ? examples/s]"
      ]
     },
     "metadata": {},
     "output_type": "display_data"
    },
    {
     "data": {
      "application/vnd.jupyter.widget-view+json": {
       "model_id": "8dad18c301d94edd83c75e5948bb1bc7",
       "version_major": 2,
       "version_minor": 0
      },
      "text/plain": [
       "Creating parquet from Arrow format:   0%|          | 0/1 [00:00<?, ?ba/s]"
      ]
     },
     "metadata": {},
     "output_type": "display_data"
    },
    {
     "data": {
      "application/vnd.jupyter.widget-view+json": {
       "model_id": "8cb5e81f6fa84c51b2773b37d2766cb9",
       "version_major": 2,
       "version_minor": 0
      },
      "text/plain": [
       "Map:   0%|          | 0/301 [00:00<?, ? examples/s]"
      ]
     },
     "metadata": {},
     "output_type": "display_data"
    },
    {
     "data": {
      "application/vnd.jupyter.widget-view+json": {
       "model_id": "e3680e4b261e4ffa8f07c458284db1c6",
       "version_major": 2,
       "version_minor": 0
      },
      "text/plain": [
       "Creating parquet from Arrow format:   0%|          | 0/1 [00:00<?, ?ba/s]"
      ]
     },
     "metadata": {},
     "output_type": "display_data"
    },
    {
     "data": {
      "application/vnd.jupyter.widget-view+json": {
       "model_id": "61f5b5d516de40e3afc492ac76413ac3",
       "version_major": 2,
       "version_minor": 0
      },
      "text/plain": [
       "Map:   0%|          | 0/113 [00:00<?, ? examples/s]"
      ]
     },
     "metadata": {},
     "output_type": "display_data"
    },
    {
     "data": {
      "application/vnd.jupyter.widget-view+json": {
       "model_id": "8bde27aa69f04797b69b94d08374bfa2",
       "version_major": 2,
       "version_minor": 0
      },
      "text/plain": [
       "Creating parquet from Arrow format:   0%|          | 0/1 [00:00<?, ?ba/s]"
      ]
     },
     "metadata": {},
     "output_type": "display_data"
    },
    {
     "data": {
      "application/vnd.jupyter.widget-view+json": {
       "model_id": "f3e1e9251b51475a9906afa9ab382321",
       "version_major": 2,
       "version_minor": 0
      },
      "text/plain": [
       "Map:   0%|          | 0/210 [00:00<?, ? examples/s]"
      ]
     },
     "metadata": {},
     "output_type": "display_data"
    },
    {
     "data": {
      "application/vnd.jupyter.widget-view+json": {
       "model_id": "174e8c372e83423aabf83ab063a9e67c",
       "version_major": 2,
       "version_minor": 0
      },
      "text/plain": [
       "Creating parquet from Arrow format:   0%|          | 0/1 [00:00<?, ?ba/s]"
      ]
     },
     "metadata": {},
     "output_type": "display_data"
    },
    {
     "data": {
      "application/vnd.jupyter.widget-view+json": {
       "model_id": "30780f3ed6b14497aaaa8517f978e4e3",
       "version_major": 2,
       "version_minor": 0
      },
      "text/plain": [
       "Map:   0%|          | 0/301 [00:00<?, ? examples/s]"
      ]
     },
     "metadata": {},
     "output_type": "display_data"
    },
    {
     "data": {
      "application/vnd.jupyter.widget-view+json": {
       "model_id": "1b33f626063f4ffbaa4ae05656616372",
       "version_major": 2,
       "version_minor": 0
      },
      "text/plain": [
       "Creating parquet from Arrow format:   0%|          | 0/1 [00:00<?, ?ba/s]"
      ]
     },
     "metadata": {},
     "output_type": "display_data"
    },
    {
     "data": {
      "application/vnd.jupyter.widget-view+json": {
       "model_id": "fb66de0e82aa48c695036ba176f69ba6",
       "version_major": 2,
       "version_minor": 0
      },
      "text/plain": [
       "Map:   0%|          | 0/150 [00:00<?, ? examples/s]"
      ]
     },
     "metadata": {},
     "output_type": "display_data"
    },
    {
     "data": {
      "application/vnd.jupyter.widget-view+json": {
       "model_id": "730e95291675468ca795b1119e0e5ea7",
       "version_major": 2,
       "version_minor": 0
      },
      "text/plain": [
       "Creating parquet from Arrow format:   0%|          | 0/1 [00:00<?, ?ba/s]"
      ]
     },
     "metadata": {},
     "output_type": "display_data"
    },
    {
     "data": {
      "application/vnd.jupyter.widget-view+json": {
       "model_id": "3ed8dca575e548e182421165c71448a8",
       "version_major": 2,
       "version_minor": 0
      },
      "text/plain": [
       "Map:   0%|          | 0/189 [00:00<?, ? examples/s]"
      ]
     },
     "metadata": {},
     "output_type": "display_data"
    },
    {
     "data": {
      "application/vnd.jupyter.widget-view+json": {
       "model_id": "aa6ec67ea31644fb97ee1a1c9bebd124",
       "version_major": 2,
       "version_minor": 0
      },
      "text/plain": [
       "Creating parquet from Arrow format:   0%|          | 0/1 [00:00<?, ?ba/s]"
      ]
     },
     "metadata": {},
     "output_type": "display_data"
    },
    {
     "data": {
      "application/vnd.jupyter.widget-view+json": {
       "model_id": "922856179c224997a5ea38adc42cc1ee",
       "version_major": 2,
       "version_minor": 0
      },
      "text/plain": [
       "Map:   0%|          | 0/301 [00:00<?, ? examples/s]"
      ]
     },
     "metadata": {},
     "output_type": "display_data"
    },
    {
     "data": {
      "application/vnd.jupyter.widget-view+json": {
       "model_id": "224900eaa59d4bb28953493ca88b8495",
       "version_major": 2,
       "version_minor": 0
      },
      "text/plain": [
       "Creating parquet from Arrow format:   0%|          | 0/1 [00:00<?, ?ba/s]"
      ]
     },
     "metadata": {},
     "output_type": "display_data"
    },
    {
     "data": {
      "application/vnd.jupyter.widget-view+json": {
       "model_id": "eacd7ca2565c465fb76ef975cb958c80",
       "version_major": 2,
       "version_minor": 0
      },
      "text/plain": [
       "Map:   0%|          | 0/130 [00:00<?, ? examples/s]"
      ]
     },
     "metadata": {},
     "output_type": "display_data"
    },
    {
     "data": {
      "application/vnd.jupyter.widget-view+json": {
       "model_id": "403ace539f7d457c86c078c1af7dce07",
       "version_major": 2,
       "version_minor": 0
      },
      "text/plain": [
       "Creating parquet from Arrow format:   0%|          | 0/1 [00:00<?, ?ba/s]"
      ]
     },
     "metadata": {},
     "output_type": "display_data"
    },
    {
     "data": {
      "application/vnd.jupyter.widget-view+json": {
       "model_id": "65199fc009b5466e902710c67a43b1c3",
       "version_major": 2,
       "version_minor": 0
      },
      "text/plain": [
       "Map:   0%|          | 0/164 [00:00<?, ? examples/s]"
      ]
     },
     "metadata": {},
     "output_type": "display_data"
    },
    {
     "data": {
      "application/vnd.jupyter.widget-view+json": {
       "model_id": "11cc1177a0354430ace2a9af292ebacf",
       "version_major": 2,
       "version_minor": 0
      },
      "text/plain": [
       "Creating parquet from Arrow format:   0%|          | 0/1 [00:00<?, ?ba/s]"
      ]
     },
     "metadata": {},
     "output_type": "display_data"
    },
    {
     "data": {
      "application/vnd.jupyter.widget-view+json": {
       "model_id": "ead0ce31781a4f1a86e0c44656ecb099",
       "version_major": 2,
       "version_minor": 0
      },
      "text/plain": [
       "Map:   0%|          | 0/153 [00:00<?, ? examples/s]"
      ]
     },
     "metadata": {},
     "output_type": "display_data"
    },
    {
     "data": {
      "application/vnd.jupyter.widget-view+json": {
       "model_id": "4ca39f167f344fd6b51923e59139dd27",
       "version_major": 2,
       "version_minor": 0
      },
      "text/plain": [
       "Creating parquet from Arrow format:   0%|          | 0/1 [00:00<?, ?ba/s]"
      ]
     },
     "metadata": {},
     "output_type": "display_data"
    },
    {
     "data": {
      "application/vnd.jupyter.widget-view+json": {
       "model_id": "e25206ced2cd425aa3bf2089a490948a",
       "version_major": 2,
       "version_minor": 0
      },
      "text/plain": [
       "Map:   0%|          | 0/185 [00:00<?, ? examples/s]"
      ]
     },
     "metadata": {},
     "output_type": "display_data"
    },
    {
     "data": {
      "application/vnd.jupyter.widget-view+json": {
       "model_id": "9965bd97e52c4beea62fa7e1de152d34",
       "version_major": 2,
       "version_minor": 0
      },
      "text/plain": [
       "Creating parquet from Arrow format:   0%|          | 0/1 [00:00<?, ?ba/s]"
      ]
     },
     "metadata": {},
     "output_type": "display_data"
    },
    {
     "data": {
      "application/vnd.jupyter.widget-view+json": {
       "model_id": "8ef429879b3c4fabbb66066e71551f23",
       "version_major": 2,
       "version_minor": 0
      },
      "text/plain": [
       "Map:   0%|          | 0/136 [00:00<?, ? examples/s]"
      ]
     },
     "metadata": {},
     "output_type": "display_data"
    },
    {
     "data": {
      "application/vnd.jupyter.widget-view+json": {
       "model_id": "e77846c0cac547f09b60afb4bef1c276",
       "version_major": 2,
       "version_minor": 0
      },
      "text/plain": [
       "Creating parquet from Arrow format:   0%|          | 0/1 [00:00<?, ?ba/s]"
      ]
     },
     "metadata": {},
     "output_type": "display_data"
    },
    {
     "data": {
      "application/vnd.jupyter.widget-view+json": {
       "model_id": "1c17d05f7e564188b9a7410da1fd75b7",
       "version_major": 2,
       "version_minor": 0
      },
      "text/plain": [
       "Map:   0%|          | 0/301 [00:00<?, ? examples/s]"
      ]
     },
     "metadata": {},
     "output_type": "display_data"
    },
    {
     "data": {
      "application/vnd.jupyter.widget-view+json": {
       "model_id": "5ffb32498ce74509b4ce1803972558d1",
       "version_major": 2,
       "version_minor": 0
      },
      "text/plain": [
       "Creating parquet from Arrow format:   0%|          | 0/1 [00:00<?, ?ba/s]"
      ]
     },
     "metadata": {},
     "output_type": "display_data"
    },
    {
     "data": {
      "application/vnd.jupyter.widget-view+json": {
       "model_id": "45551eec74ba427298a49fd4900b8a7c",
       "version_major": 2,
       "version_minor": 0
      },
      "text/plain": [
       "Map:   0%|          | 0/139 [00:00<?, ? examples/s]"
      ]
     },
     "metadata": {},
     "output_type": "display_data"
    },
    {
     "data": {
      "application/vnd.jupyter.widget-view+json": {
       "model_id": "5251735e65474ecdb65c12e687c8c5bd",
       "version_major": 2,
       "version_minor": 0
      },
      "text/plain": [
       "Creating parquet from Arrow format:   0%|          | 0/1 [00:00<?, ?ba/s]"
      ]
     },
     "metadata": {},
     "output_type": "display_data"
    },
    {
     "data": {
      "application/vnd.jupyter.widget-view+json": {
       "model_id": "d70428cb5be54cb2bf04dc6e881b1b16",
       "version_major": 2,
       "version_minor": 0
      },
      "text/plain": [
       "Map:   0%|          | 0/226 [00:00<?, ? examples/s]"
      ]
     },
     "metadata": {},
     "output_type": "display_data"
    },
    {
     "data": {
      "application/vnd.jupyter.widget-view+json": {
       "model_id": "324e9a906d28403b88fca5dfeb37fe76",
       "version_major": 2,
       "version_minor": 0
      },
      "text/plain": [
       "Creating parquet from Arrow format:   0%|          | 0/1 [00:00<?, ?ba/s]"
      ]
     },
     "metadata": {},
     "output_type": "display_data"
    },
    {
     "data": {
      "application/vnd.jupyter.widget-view+json": {
       "model_id": "4fab63c7fdd6445496f885d102a87e48",
       "version_major": 2,
       "version_minor": 0
      },
      "text/plain": [
       "Map:   0%|          | 0/182 [00:00<?, ? examples/s]"
      ]
     },
     "metadata": {},
     "output_type": "display_data"
    },
    {
     "data": {
      "application/vnd.jupyter.widget-view+json": {
       "model_id": "ad938c771bfb49b5b431397c18cef79e",
       "version_major": 2,
       "version_minor": 0
      },
      "text/plain": [
       "Creating parquet from Arrow format:   0%|          | 0/1 [00:00<?, ?ba/s]"
      ]
     },
     "metadata": {},
     "output_type": "display_data"
    },
    {
     "data": {
      "application/vnd.jupyter.widget-view+json": {
       "model_id": "1feb902fa005400691600bdec60dee82",
       "version_major": 2,
       "version_minor": 0
      },
      "text/plain": [
       "Map:   0%|          | 0/259 [00:00<?, ? examples/s]"
      ]
     },
     "metadata": {},
     "output_type": "display_data"
    },
    {
     "data": {
      "application/vnd.jupyter.widget-view+json": {
       "model_id": "357ae4f3bdc64ada82fa78e9a447bf95",
       "version_major": 2,
       "version_minor": 0
      },
      "text/plain": [
       "Creating parquet from Arrow format:   0%|          | 0/1 [00:00<?, ?ba/s]"
      ]
     },
     "metadata": {},
     "output_type": "display_data"
    },
    {
     "data": {
      "application/vnd.jupyter.widget-view+json": {
       "model_id": "a3c850c50b7a46abac1596a3fdca0d09",
       "version_major": 2,
       "version_minor": 0
      },
      "text/plain": [
       "Map:   0%|          | 0/183 [00:00<?, ? examples/s]"
      ]
     },
     "metadata": {},
     "output_type": "display_data"
    },
    {
     "data": {
      "application/vnd.jupyter.widget-view+json": {
       "model_id": "252d350b7b424b0fb9dc58ee2c50b54c",
       "version_major": 2,
       "version_minor": 0
      },
      "text/plain": [
       "Creating parquet from Arrow format:   0%|          | 0/1 [00:00<?, ?ba/s]"
      ]
     },
     "metadata": {},
     "output_type": "display_data"
    },
    {
     "data": {
      "application/vnd.jupyter.widget-view+json": {
       "model_id": "cd95352e1501475fb6609e6c89e23fdc",
       "version_major": 2,
       "version_minor": 0
      },
      "text/plain": [
       "Map:   0%|          | 0/179 [00:00<?, ? examples/s]"
      ]
     },
     "metadata": {},
     "output_type": "display_data"
    },
    {
     "data": {
      "application/vnd.jupyter.widget-view+json": {
       "model_id": "432265ab519249a093bf896cbdcf2f1e",
       "version_major": 2,
       "version_minor": 0
      },
      "text/plain": [
       "Creating parquet from Arrow format:   0%|          | 0/1 [00:00<?, ?ba/s]"
      ]
     },
     "metadata": {},
     "output_type": "display_data"
    },
    {
     "data": {
      "application/vnd.jupyter.widget-view+json": {
       "model_id": "e81cf388b89043178dbf25ae9f0f8d45",
       "version_major": 2,
       "version_minor": 0
      },
      "text/plain": [
       "Map:   0%|          | 0/301 [00:00<?, ? examples/s]"
      ]
     },
     "metadata": {},
     "output_type": "display_data"
    },
    {
     "data": {
      "application/vnd.jupyter.widget-view+json": {
       "model_id": "01987e99d4fc43ba9fb6207d57c3e98a",
       "version_major": 2,
       "version_minor": 0
      },
      "text/plain": [
       "Creating parquet from Arrow format:   0%|          | 0/1 [00:00<?, ?ba/s]"
      ]
     },
     "metadata": {},
     "output_type": "display_data"
    },
    {
     "data": {
      "application/vnd.jupyter.widget-view+json": {
       "model_id": "a50e2435dcf04082965b57e9d93859ec",
       "version_major": 2,
       "version_minor": 0
      },
      "text/plain": [
       "Map:   0%|          | 0/301 [00:00<?, ? examples/s]"
      ]
     },
     "metadata": {},
     "output_type": "display_data"
    },
    {
     "data": {
      "application/vnd.jupyter.widget-view+json": {
       "model_id": "ab04fdf55f1b4e2cb5f4b58a025060d3",
       "version_major": 2,
       "version_minor": 0
      },
      "text/plain": [
       "Creating parquet from Arrow format:   0%|          | 0/1 [00:00<?, ?ba/s]"
      ]
     },
     "metadata": {},
     "output_type": "display_data"
    },
    {
     "data": {
      "application/vnd.jupyter.widget-view+json": {
       "model_id": "2359ece607764081b2eae21c51991515",
       "version_major": 2,
       "version_minor": 0
      },
      "text/plain": [
       "Map:   0%|          | 0/207 [00:00<?, ? examples/s]"
      ]
     },
     "metadata": {},
     "output_type": "display_data"
    },
    {
     "data": {
      "application/vnd.jupyter.widget-view+json": {
       "model_id": "0eb39cbf207347f8852e877a877ebc6a",
       "version_major": 2,
       "version_minor": 0
      },
      "text/plain": [
       "Creating parquet from Arrow format:   0%|          | 0/1 [00:00<?, ?ba/s]"
      ]
     },
     "metadata": {},
     "output_type": "display_data"
    },
    {
     "data": {
      "application/vnd.jupyter.widget-view+json": {
       "model_id": "7ef4d9a433c54c1a840d6581af10ce9a",
       "version_major": 2,
       "version_minor": 0
      },
      "text/plain": [
       "Map:   0%|          | 0/253 [00:00<?, ? examples/s]"
      ]
     },
     "metadata": {},
     "output_type": "display_data"
    },
    {
     "data": {
      "application/vnd.jupyter.widget-view+json": {
       "model_id": "9a6cf243640b447bb4fb9559456fc3e5",
       "version_major": 2,
       "version_minor": 0
      },
      "text/plain": [
       "Creating parquet from Arrow format:   0%|          | 0/1 [00:00<?, ?ba/s]"
      ]
     },
     "metadata": {},
     "output_type": "display_data"
    },
    {
     "data": {
      "application/vnd.jupyter.widget-view+json": {
       "model_id": "28102fc09fb04aaba37609fd539b3d32",
       "version_major": 2,
       "version_minor": 0
      },
      "text/plain": [
       "Map:   0%|          | 0/111 [00:00<?, ? examples/s]"
      ]
     },
     "metadata": {},
     "output_type": "display_data"
    },
    {
     "data": {
      "application/vnd.jupyter.widget-view+json": {
       "model_id": "a5994bcbca13492eb9e9653bf097f115",
       "version_major": 2,
       "version_minor": 0
      },
      "text/plain": [
       "Creating parquet from Arrow format:   0%|          | 0/1 [00:00<?, ?ba/s]"
      ]
     },
     "metadata": {},
     "output_type": "display_data"
    },
    {
     "data": {
      "application/vnd.jupyter.widget-view+json": {
       "model_id": "d73049f8d8a74e1db1c0f6e164aed3f6",
       "version_major": 2,
       "version_minor": 0
      },
      "text/plain": [
       "Map:   0%|          | 0/125 [00:00<?, ? examples/s]"
      ]
     },
     "metadata": {},
     "output_type": "display_data"
    },
    {
     "data": {
      "application/vnd.jupyter.widget-view+json": {
       "model_id": "557392c3abbe48e69bc0696454e39d20",
       "version_major": 2,
       "version_minor": 0
      },
      "text/plain": [
       "Creating parquet from Arrow format:   0%|          | 0/1 [00:00<?, ?ba/s]"
      ]
     },
     "metadata": {},
     "output_type": "display_data"
    },
    {
     "data": {
      "application/vnd.jupyter.widget-view+json": {
       "model_id": "f5e5259334bb49a2a89c7d9ff1fbb2f8",
       "version_major": 2,
       "version_minor": 0
      },
      "text/plain": [
       "Map:   0%|          | 0/141 [00:00<?, ? examples/s]"
      ]
     },
     "metadata": {},
     "output_type": "display_data"
    },
    {
     "data": {
      "application/vnd.jupyter.widget-view+json": {
       "model_id": "3a584fb1d7a643098dc11f828068b9a7",
       "version_major": 2,
       "version_minor": 0
      },
      "text/plain": [
       "Creating parquet from Arrow format:   0%|          | 0/1 [00:00<?, ?ba/s]"
      ]
     },
     "metadata": {},
     "output_type": "display_data"
    },
    {
     "data": {
      "application/vnd.jupyter.widget-view+json": {
       "model_id": "b373cacf290a471e9687a2b7c61d6a97",
       "version_major": 2,
       "version_minor": 0
      },
      "text/plain": [
       "Map:   0%|          | 0/191 [00:00<?, ? examples/s]"
      ]
     },
     "metadata": {},
     "output_type": "display_data"
    },
    {
     "data": {
      "application/vnd.jupyter.widget-view+json": {
       "model_id": "dde571ca90164d96bf6f978525c3ffd0",
       "version_major": 2,
       "version_minor": 0
      },
      "text/plain": [
       "Creating parquet from Arrow format:   0%|          | 0/1 [00:00<?, ?ba/s]"
      ]
     },
     "metadata": {},
     "output_type": "display_data"
    },
    {
     "data": {
      "application/vnd.jupyter.widget-view+json": {
       "model_id": "f2f4db05930146189fb019c876fb6492",
       "version_major": 2,
       "version_minor": 0
      },
      "text/plain": [
       "Map:   0%|          | 0/301 [00:00<?, ? examples/s]"
      ]
     },
     "metadata": {},
     "output_type": "display_data"
    },
    {
     "data": {
      "application/vnd.jupyter.widget-view+json": {
       "model_id": "7734d343fbc0448bb399650e01c56ff8",
       "version_major": 2,
       "version_minor": 0
      },
      "text/plain": [
       "Creating parquet from Arrow format:   0%|          | 0/1 [00:00<?, ?ba/s]"
      ]
     },
     "metadata": {},
     "output_type": "display_data"
    },
    {
     "data": {
      "application/vnd.jupyter.widget-view+json": {
       "model_id": "d577d728ba674541af93904f92380667",
       "version_major": 2,
       "version_minor": 0
      },
      "text/plain": [
       "Map:   0%|          | 0/141 [00:00<?, ? examples/s]"
      ]
     },
     "metadata": {},
     "output_type": "display_data"
    },
    {
     "data": {
      "application/vnd.jupyter.widget-view+json": {
       "model_id": "dbab9157e5294c448161501571580f9f",
       "version_major": 2,
       "version_minor": 0
      },
      "text/plain": [
       "Creating parquet from Arrow format:   0%|          | 0/1 [00:00<?, ?ba/s]"
      ]
     },
     "metadata": {},
     "output_type": "display_data"
    },
    {
     "data": {
      "application/vnd.jupyter.widget-view+json": {
       "model_id": "dd84bea782d049a2bf83b046bd2d1e38",
       "version_major": 2,
       "version_minor": 0
      },
      "text/plain": [
       "Map:   0%|          | 0/183 [00:00<?, ? examples/s]"
      ]
     },
     "metadata": {},
     "output_type": "display_data"
    },
    {
     "data": {
      "application/vnd.jupyter.widget-view+json": {
       "model_id": "88f809f263644ff5953624e60f9a36f8",
       "version_major": 2,
       "version_minor": 0
      },
      "text/plain": [
       "Creating parquet from Arrow format:   0%|          | 0/1 [00:00<?, ?ba/s]"
      ]
     },
     "metadata": {},
     "output_type": "display_data"
    },
    {
     "data": {
      "application/vnd.jupyter.widget-view+json": {
       "model_id": "b1e6ba3282854132a492362a2de1e29f",
       "version_major": 2,
       "version_minor": 0
      },
      "text/plain": [
       "Map:   0%|          | 0/113 [00:00<?, ? examples/s]"
      ]
     },
     "metadata": {},
     "output_type": "display_data"
    },
    {
     "data": {
      "application/vnd.jupyter.widget-view+json": {
       "model_id": "15871c07781943039f2ffea32101fd3a",
       "version_major": 2,
       "version_minor": 0
      },
      "text/plain": [
       "Creating parquet from Arrow format:   0%|          | 0/1 [00:00<?, ?ba/s]"
      ]
     },
     "metadata": {},
     "output_type": "display_data"
    },
    {
     "data": {
      "application/vnd.jupyter.widget-view+json": {
       "model_id": "41d60af4327243058c0df19781966b9c",
       "version_major": 2,
       "version_minor": 0
      },
      "text/plain": [
       "Map:   0%|          | 0/162 [00:00<?, ? examples/s]"
      ]
     },
     "metadata": {},
     "output_type": "display_data"
    },
    {
     "data": {
      "application/vnd.jupyter.widget-view+json": {
       "model_id": "6e3f95af233247839dde7702a77eeca3",
       "version_major": 2,
       "version_minor": 0
      },
      "text/plain": [
       "Creating parquet from Arrow format:   0%|          | 0/1 [00:00<?, ?ba/s]"
      ]
     },
     "metadata": {},
     "output_type": "display_data"
    },
    {
     "data": {
      "application/vnd.jupyter.widget-view+json": {
       "model_id": "65677a4880a640b8b53504b772fd1222",
       "version_major": 2,
       "version_minor": 0
      },
      "text/plain": [
       "Map:   0%|          | 0/301 [00:00<?, ? examples/s]"
      ]
     },
     "metadata": {},
     "output_type": "display_data"
    },
    {
     "data": {
      "application/vnd.jupyter.widget-view+json": {
       "model_id": "ac0fa8cb13b74d0d98bcf846af3433d7",
       "version_major": 2,
       "version_minor": 0
      },
      "text/plain": [
       "Creating parquet from Arrow format:   0%|          | 0/1 [00:00<?, ?ba/s]"
      ]
     },
     "metadata": {},
     "output_type": "display_data"
    },
    {
     "data": {
      "application/vnd.jupyter.widget-view+json": {
       "model_id": "0d02e0d32bf94191b5f015802152c9a5",
       "version_major": 2,
       "version_minor": 0
      },
      "text/plain": [
       "Map:   0%|          | 0/140 [00:00<?, ? examples/s]"
      ]
     },
     "metadata": {},
     "output_type": "display_data"
    },
    {
     "data": {
      "application/vnd.jupyter.widget-view+json": {
       "model_id": "4c74114942e644878b28d66f8852d084",
       "version_major": 2,
       "version_minor": 0
      },
      "text/plain": [
       "Creating parquet from Arrow format:   0%|          | 0/1 [00:00<?, ?ba/s]"
      ]
     },
     "metadata": {},
     "output_type": "display_data"
    },
    {
     "data": {
      "application/vnd.jupyter.widget-view+json": {
       "model_id": "a8acbeaf78844c13922db42a43850dea",
       "version_major": 2,
       "version_minor": 0
      },
      "text/plain": [
       "Map:   0%|          | 0/90 [00:00<?, ? examples/s]"
      ]
     },
     "metadata": {},
     "output_type": "display_data"
    },
    {
     "data": {
      "application/vnd.jupyter.widget-view+json": {
       "model_id": "3b5da548121a4ad482e446f22155aebb",
       "version_major": 2,
       "version_minor": 0
      },
      "text/plain": [
       "Creating parquet from Arrow format:   0%|          | 0/1 [00:00<?, ?ba/s]"
      ]
     },
     "metadata": {},
     "output_type": "display_data"
    },
    {
     "data": {
      "application/vnd.jupyter.widget-view+json": {
       "model_id": "586718846afe48f6a48c51f88fcb8223",
       "version_major": 2,
       "version_minor": 0
      },
      "text/plain": [
       "Map:   0%|          | 0/221 [00:00<?, ? examples/s]"
      ]
     },
     "metadata": {},
     "output_type": "display_data"
    },
    {
     "data": {
      "application/vnd.jupyter.widget-view+json": {
       "model_id": "10b74c8b20ff455c949fe8b0b30892e9",
       "version_major": 2,
       "version_minor": 0
      },
      "text/plain": [
       "Creating parquet from Arrow format:   0%|          | 0/1 [00:00<?, ?ba/s]"
      ]
     },
     "metadata": {},
     "output_type": "display_data"
    },
    {
     "data": {
      "application/vnd.jupyter.widget-view+json": {
       "model_id": "dede8586fadb43979d95590c261a7499",
       "version_major": 2,
       "version_minor": 0
      },
      "text/plain": [
       "Map:   0%|          | 0/301 [00:00<?, ? examples/s]"
      ]
     },
     "metadata": {},
     "output_type": "display_data"
    },
    {
     "data": {
      "application/vnd.jupyter.widget-view+json": {
       "model_id": "36e39639ee19432cbcc5e18553570616",
       "version_major": 2,
       "version_minor": 0
      },
      "text/plain": [
       "Creating parquet from Arrow format:   0%|          | 0/1 [00:00<?, ?ba/s]"
      ]
     },
     "metadata": {},
     "output_type": "display_data"
    },
    {
     "data": {
      "application/vnd.jupyter.widget-view+json": {
       "model_id": "2f763aa6d2d147fcb45900069a44a5c7",
       "version_major": 2,
       "version_minor": 0
      },
      "text/plain": [
       "Map:   0%|          | 0/169 [00:00<?, ? examples/s]"
      ]
     },
     "metadata": {},
     "output_type": "display_data"
    },
    {
     "data": {
      "application/vnd.jupyter.widget-view+json": {
       "model_id": "f9dd139eb77e4069ba4a1d07b39ca5c1",
       "version_major": 2,
       "version_minor": 0
      },
      "text/plain": [
       "Creating parquet from Arrow format:   0%|          | 0/1 [00:00<?, ?ba/s]"
      ]
     },
     "metadata": {},
     "output_type": "display_data"
    },
    {
     "data": {
      "application/vnd.jupyter.widget-view+json": {
       "model_id": "4320f46232c44a6188f5c99093ea379f",
       "version_major": 2,
       "version_minor": 0
      },
      "text/plain": [
       "Map:   0%|          | 0/189 [00:00<?, ? examples/s]"
      ]
     },
     "metadata": {},
     "output_type": "display_data"
    },
    {
     "data": {
      "application/vnd.jupyter.widget-view+json": {
       "model_id": "eefa559ff6ce4fe9a1a6262702a535fe",
       "version_major": 2,
       "version_minor": 0
      },
      "text/plain": [
       "Creating parquet from Arrow format:   0%|          | 0/1 [00:00<?, ?ba/s]"
      ]
     },
     "metadata": {},
     "output_type": "display_data"
    },
    {
     "data": {
      "application/vnd.jupyter.widget-view+json": {
       "model_id": "cd358a26ab8343f596c504022c40b501",
       "version_major": 2,
       "version_minor": 0
      },
      "text/plain": [
       "Map:   0%|          | 0/301 [00:00<?, ? examples/s]"
      ]
     },
     "metadata": {},
     "output_type": "display_data"
    },
    {
     "data": {
      "application/vnd.jupyter.widget-view+json": {
       "model_id": "c2de13b6739b4ecea6ec1c2271336d2d",
       "version_major": 2,
       "version_minor": 0
      },
      "text/plain": [
       "Creating parquet from Arrow format:   0%|          | 0/1 [00:00<?, ?ba/s]"
      ]
     },
     "metadata": {},
     "output_type": "display_data"
    },
    {
     "data": {
      "application/vnd.jupyter.widget-view+json": {
       "model_id": "abb2cdc144124af4899bb9cedbd89c16",
       "version_major": 2,
       "version_minor": 0
      },
      "text/plain": [
       "Map:   0%|          | 0/191 [00:00<?, ? examples/s]"
      ]
     },
     "metadata": {},
     "output_type": "display_data"
    },
    {
     "data": {
      "application/vnd.jupyter.widget-view+json": {
       "model_id": "3bb39fd2335e4368b9cc2b666aa414e5",
       "version_major": 2,
       "version_minor": 0
      },
      "text/plain": [
       "Creating parquet from Arrow format:   0%|          | 0/1 [00:00<?, ?ba/s]"
      ]
     },
     "metadata": {},
     "output_type": "display_data"
    },
    {
     "data": {
      "application/vnd.jupyter.widget-view+json": {
       "model_id": "6be4ca75a2ef4b87b2b12d99b43bb644",
       "version_major": 2,
       "version_minor": 0
      },
      "text/plain": [
       "Map:   0%|          | 0/238 [00:00<?, ? examples/s]"
      ]
     },
     "metadata": {},
     "output_type": "display_data"
    },
    {
     "data": {
      "application/vnd.jupyter.widget-view+json": {
       "model_id": "bb0b4832ff1841428742409ad3561307",
       "version_major": 2,
       "version_minor": 0
      },
      "text/plain": [
       "Creating parquet from Arrow format:   0%|          | 0/1 [00:00<?, ?ba/s]"
      ]
     },
     "metadata": {},
     "output_type": "display_data"
    },
    {
     "data": {
      "application/vnd.jupyter.widget-view+json": {
       "model_id": "a8ef425f6e924284a4dff95706a4d3d7",
       "version_major": 2,
       "version_minor": 0
      },
      "text/plain": [
       "Map:   0%|          | 0/247 [00:00<?, ? examples/s]"
      ]
     },
     "metadata": {},
     "output_type": "display_data"
    },
    {
     "data": {
      "application/vnd.jupyter.widget-view+json": {
       "model_id": "6d3994cb4eef496fbd857c7fa1512dec",
       "version_major": 2,
       "version_minor": 0
      },
      "text/plain": [
       "Creating parquet from Arrow format:   0%|          | 0/1 [00:00<?, ?ba/s]"
      ]
     },
     "metadata": {},
     "output_type": "display_data"
    },
    {
     "data": {
      "application/vnd.jupyter.widget-view+json": {
       "model_id": "cdc8daa2d4c649d3a01eafe5d425d6e1",
       "version_major": 2,
       "version_minor": 0
      },
      "text/plain": [
       "Map:   0%|          | 0/131 [00:00<?, ? examples/s]"
      ]
     },
     "metadata": {},
     "output_type": "display_data"
    },
    {
     "data": {
      "application/vnd.jupyter.widget-view+json": {
       "model_id": "5d5062dcacd94c27a16fafc8aaed8725",
       "version_major": 2,
       "version_minor": 0
      },
      "text/plain": [
       "Creating parquet from Arrow format:   0%|          | 0/1 [00:00<?, ?ba/s]"
      ]
     },
     "metadata": {},
     "output_type": "display_data"
    },
    {
     "data": {
      "application/vnd.jupyter.widget-view+json": {
       "model_id": "53e6d026a1aa436397073d51baa750a6",
       "version_major": 2,
       "version_minor": 0
      },
      "text/plain": [
       "Map:   0%|          | 0/164 [00:00<?, ? examples/s]"
      ]
     },
     "metadata": {},
     "output_type": "display_data"
    },
    {
     "data": {
      "application/vnd.jupyter.widget-view+json": {
       "model_id": "f9e5ca941dbd43d99bc5dc907a4fbeac",
       "version_major": 2,
       "version_minor": 0
      },
      "text/plain": [
       "Creating parquet from Arrow format:   0%|          | 0/1 [00:00<?, ?ba/s]"
      ]
     },
     "metadata": {},
     "output_type": "display_data"
    },
    {
     "data": {
      "application/vnd.jupyter.widget-view+json": {
       "model_id": "c65a403cbe7347c0ad30578164f0c100",
       "version_major": 2,
       "version_minor": 0
      },
      "text/plain": [
       "Map:   0%|          | 0/227 [00:00<?, ? examples/s]"
      ]
     },
     "metadata": {},
     "output_type": "display_data"
    },
    {
     "data": {
      "application/vnd.jupyter.widget-view+json": {
       "model_id": "4f230597c1464a2396b17bc9b92848cb",
       "version_major": 2,
       "version_minor": 0
      },
      "text/plain": [
       "Creating parquet from Arrow format:   0%|          | 0/1 [00:00<?, ?ba/s]"
      ]
     },
     "metadata": {},
     "output_type": "display_data"
    },
    {
     "data": {
      "application/vnd.jupyter.widget-view+json": {
       "model_id": "d76b02e4316541a8bfdb9375fddf5392",
       "version_major": 2,
       "version_minor": 0
      },
      "text/plain": [
       "Map:   0%|          | 0/266 [00:00<?, ? examples/s]"
      ]
     },
     "metadata": {},
     "output_type": "display_data"
    },
    {
     "data": {
      "application/vnd.jupyter.widget-view+json": {
       "model_id": "f6ba2d5d661f44faaff9bac84bf4c00d",
       "version_major": 2,
       "version_minor": 0
      },
      "text/plain": [
       "Creating parquet from Arrow format:   0%|          | 0/1 [00:00<?, ?ba/s]"
      ]
     },
     "metadata": {},
     "output_type": "display_data"
    },
    {
     "data": {
      "application/vnd.jupyter.widget-view+json": {
       "model_id": "f278761af0774d7a9886c62b67d6d392",
       "version_major": 2,
       "version_minor": 0
      },
      "text/plain": [
       "Map:   0%|          | 0/108 [00:00<?, ? examples/s]"
      ]
     },
     "metadata": {},
     "output_type": "display_data"
    },
    {
     "data": {
      "application/vnd.jupyter.widget-view+json": {
       "model_id": "ca1703f1139d453a80700ac0da8e00e3",
       "version_major": 2,
       "version_minor": 0
      },
      "text/plain": [
       "Creating parquet from Arrow format:   0%|          | 0/1 [00:00<?, ?ba/s]"
      ]
     },
     "metadata": {},
     "output_type": "display_data"
    },
    {
     "data": {
      "application/vnd.jupyter.widget-view+json": {
       "model_id": "c0586944d22542dbad925b94bb0a3ff4",
       "version_major": 2,
       "version_minor": 0
      },
      "text/plain": [
       "Map:   0%|          | 0/301 [00:00<?, ? examples/s]"
      ]
     },
     "metadata": {},
     "output_type": "display_data"
    },
    {
     "data": {
      "application/vnd.jupyter.widget-view+json": {
       "model_id": "b62ee4766a6b46589e133635df8acd03",
       "version_major": 2,
       "version_minor": 0
      },
      "text/plain": [
       "Creating parquet from Arrow format:   0%|          | 0/1 [00:00<?, ?ba/s]"
      ]
     },
     "metadata": {},
     "output_type": "display_data"
    },
    {
     "data": {
      "application/vnd.jupyter.widget-view+json": {
       "model_id": "68d490159ffa402c8c5e15840e7c80d7",
       "version_major": 2,
       "version_minor": 0
      },
      "text/plain": [
       "Map:   0%|          | 0/196 [00:00<?, ? examples/s]"
      ]
     },
     "metadata": {},
     "output_type": "display_data"
    },
    {
     "data": {
      "application/vnd.jupyter.widget-view+json": {
       "model_id": "1c39f2dd8e4942f89b425903a54616dd",
       "version_major": 2,
       "version_minor": 0
      },
      "text/plain": [
       "Creating parquet from Arrow format:   0%|          | 0/1 [00:00<?, ?ba/s]"
      ]
     },
     "metadata": {},
     "output_type": "display_data"
    },
    {
     "data": {
      "application/vnd.jupyter.widget-view+json": {
       "model_id": "d9b8b8d8d96e457cbc951dbb2c2563c1",
       "version_major": 2,
       "version_minor": 0
      },
      "text/plain": [
       "Map:   0%|          | 0/247 [00:00<?, ? examples/s]"
      ]
     },
     "metadata": {},
     "output_type": "display_data"
    },
    {
     "data": {
      "application/vnd.jupyter.widget-view+json": {
       "model_id": "fac9e6c06a354d7c8c0a69e02e4a10f2",
       "version_major": 2,
       "version_minor": 0
      },
      "text/plain": [
       "Creating parquet from Arrow format:   0%|          | 0/1 [00:00<?, ?ba/s]"
      ]
     },
     "metadata": {},
     "output_type": "display_data"
    },
    {
     "data": {
      "application/vnd.jupyter.widget-view+json": {
       "model_id": "d0aebb4eed1447a7b2ca5cda4304c335",
       "version_major": 2,
       "version_minor": 0
      },
      "text/plain": [
       "Map:   0%|          | 0/186 [00:00<?, ? examples/s]"
      ]
     },
     "metadata": {},
     "output_type": "display_data"
    },
    {
     "data": {
      "application/vnd.jupyter.widget-view+json": {
       "model_id": "7cd34b45dc7b4f58b122d593060d593d",
       "version_major": 2,
       "version_minor": 0
      },
      "text/plain": [
       "Creating parquet from Arrow format:   0%|          | 0/1 [00:00<?, ?ba/s]"
      ]
     },
     "metadata": {},
     "output_type": "display_data"
    },
    {
     "data": {
      "application/vnd.jupyter.widget-view+json": {
       "model_id": "cc26f0ae3dcc4e98b83eaa9e3b55544a",
       "version_major": 2,
       "version_minor": 0
      },
      "text/plain": [
       "Map:   0%|          | 0/301 [00:00<?, ? examples/s]"
      ]
     },
     "metadata": {},
     "output_type": "display_data"
    },
    {
     "data": {
      "application/vnd.jupyter.widget-view+json": {
       "model_id": "842343429a5741f5875e506a208492e3",
       "version_major": 2,
       "version_minor": 0
      },
      "text/plain": [
       "Creating parquet from Arrow format:   0%|          | 0/1 [00:00<?, ?ba/s]"
      ]
     },
     "metadata": {},
     "output_type": "display_data"
    },
    {
     "data": {
      "application/vnd.jupyter.widget-view+json": {
       "model_id": "2691635931b44a14bad199f1014ec79c",
       "version_major": 2,
       "version_minor": 0
      },
      "text/plain": [
       "Map:   0%|          | 0/269 [00:00<?, ? examples/s]"
      ]
     },
     "metadata": {},
     "output_type": "display_data"
    },
    {
     "data": {
      "application/vnd.jupyter.widget-view+json": {
       "model_id": "18916b3a2c0149c0869a79d8277e12ff",
       "version_major": 2,
       "version_minor": 0
      },
      "text/plain": [
       "Creating parquet from Arrow format:   0%|          | 0/1 [00:00<?, ?ba/s]"
      ]
     },
     "metadata": {},
     "output_type": "display_data"
    },
    {
     "data": {
      "application/vnd.jupyter.widget-view+json": {
       "model_id": "1a7d9bcdf36f476d9ac91d8f65c7f045",
       "version_major": 2,
       "version_minor": 0
      },
      "text/plain": [
       "Map:   0%|          | 0/140 [00:00<?, ? examples/s]"
      ]
     },
     "metadata": {},
     "output_type": "display_data"
    },
    {
     "data": {
      "application/vnd.jupyter.widget-view+json": {
       "model_id": "c449856336c1478f97061011e3e0d769",
       "version_major": 2,
       "version_minor": 0
      },
      "text/plain": [
       "Creating parquet from Arrow format:   0%|          | 0/1 [00:00<?, ?ba/s]"
      ]
     },
     "metadata": {},
     "output_type": "display_data"
    },
    {
     "data": {
      "application/vnd.jupyter.widget-view+json": {
       "model_id": "7492dec7e7da40eea6aec5ba8e11e075",
       "version_major": 2,
       "version_minor": 0
      },
      "text/plain": [
       "Map:   0%|          | 0/199 [00:00<?, ? examples/s]"
      ]
     },
     "metadata": {},
     "output_type": "display_data"
    },
    {
     "data": {
      "application/vnd.jupyter.widget-view+json": {
       "model_id": "022854eefc0746dd94d33b2a17a73abb",
       "version_major": 2,
       "version_minor": 0
      },
      "text/plain": [
       "Creating parquet from Arrow format:   0%|          | 0/1 [00:00<?, ?ba/s]"
      ]
     },
     "metadata": {},
     "output_type": "display_data"
    },
    {
     "data": {
      "application/vnd.jupyter.widget-view+json": {
       "model_id": "3bb5cc4e37ee412b992c5a7eea6766d0",
       "version_major": 2,
       "version_minor": 0
      },
      "text/plain": [
       "Map:   0%|          | 0/232 [00:00<?, ? examples/s]"
      ]
     },
     "metadata": {},
     "output_type": "display_data"
    },
    {
     "data": {
      "application/vnd.jupyter.widget-view+json": {
       "model_id": "06396e442e504fd398fc478bd99d0c6b",
       "version_major": 2,
       "version_minor": 0
      },
      "text/plain": [
       "Creating parquet from Arrow format:   0%|          | 0/1 [00:00<?, ?ba/s]"
      ]
     },
     "metadata": {},
     "output_type": "display_data"
    },
    {
     "data": {
      "application/vnd.jupyter.widget-view+json": {
       "model_id": "41a96a83973947e9b6efae956c705e3b",
       "version_major": 2,
       "version_minor": 0
      },
      "text/plain": [
       "Map:   0%|          | 0/197 [00:00<?, ? examples/s]"
      ]
     },
     "metadata": {},
     "output_type": "display_data"
    },
    {
     "data": {
      "application/vnd.jupyter.widget-view+json": {
       "model_id": "cf09c0e6e76f4c6b818304907e1fdc56",
       "version_major": 2,
       "version_minor": 0
      },
      "text/plain": [
       "Creating parquet from Arrow format:   0%|          | 0/1 [00:00<?, ?ba/s]"
      ]
     },
     "metadata": {},
     "output_type": "display_data"
    },
    {
     "data": {
      "application/vnd.jupyter.widget-view+json": {
       "model_id": "72dd7eb4645a4e9782176e7ef55bbfc7",
       "version_major": 2,
       "version_minor": 0
      },
      "text/plain": [
       "Map:   0%|          | 0/128 [00:00<?, ? examples/s]"
      ]
     },
     "metadata": {},
     "output_type": "display_data"
    },
    {
     "data": {
      "application/vnd.jupyter.widget-view+json": {
       "model_id": "83c15259da2745289bffdc484a0fd5bf",
       "version_major": 2,
       "version_minor": 0
      },
      "text/plain": [
       "Creating parquet from Arrow format:   0%|          | 0/1 [00:00<?, ?ba/s]"
      ]
     },
     "metadata": {},
     "output_type": "display_data"
    },
    {
     "data": {
      "application/vnd.jupyter.widget-view+json": {
       "model_id": "f0a14dff06ea4ab18e3d86d17c08e1f9",
       "version_major": 2,
       "version_minor": 0
      },
      "text/plain": [
       "Resolving data files:   0%|          | 0/100 [00:00<?, ?it/s]"
      ]
     },
     "metadata": {},
     "output_type": "display_data"
    },
    {
     "data": {
      "application/vnd.jupyter.widget-view+json": {
       "model_id": "ad06eb8901b74287a0113e58218906fc",
       "version_major": 2,
       "version_minor": 0
      },
      "text/plain": [
       "Downloading data:   0%|          | 0/100 [00:00<?, ?files/s]"
      ]
     },
     "metadata": {},
     "output_type": "display_data"
    },
    {
     "data": {
      "application/vnd.jupyter.widget-view+json": {
       "model_id": "63c44e321ad8402090c6b39fbc0b14f2",
       "version_major": 2,
       "version_minor": 0
      },
      "text/plain": [
       "Generating train split: 0 examples [00:00, ? examples/s]"
      ]
     },
     "metadata": {},
     "output_type": "display_data"
    },
    {
     "name": "stderr",
     "output_type": "stream",
     "text": [
      "Svt[info]: -------------------------------------------\n",
      "Svt[info]: SVT [version]:\tSVT-AV1 Encoder Lib v2.3.0-61-g66fb0f59\n",
      "Svt[info]: SVT [build]  :\tGCC 11.4.0\t 64 bit\n",
      "Svt[info]: LIB Build date: Nov 27 2024 13:20:34\n",
      "Svt[info]: -------------------------------------------\n",
      "Svt[info]: Level of Parallelism: 5\n",
      "Svt[info]: Number of PPCS 76\n",
      "Svt[info]: [asm level on system : up to avx2]\n",
      "Svt[info]: [asm level selected : up to avx2]\n",
      "Svt[info]: -------------------------------------------\n",
      "Svt[info]: SVT [config]: main profile\ttier (auto)\tlevel (auto)\n",
      "Svt[info]: SVT [config]: width / height / fps numerator / fps denominator \t\t: 96 / 96 / 10 / 1\n",
      "Svt[info]: SVT [config]: bit-depth / color format \t\t\t\t\t: 8 / YUV420\n",
      "Svt[info]: SVT [config]: preset / tune / pred struct \t\t\t\t\t: 10 / PSNR / random access\n",
      "Svt[info]: SVT [config]: gop size / mini-gop size / key-frame type \t\t\t: 2 / 16 / key frame\n",
      "Svt[info]: SVT [config]: BRC mode / rate factor \t\t\t\t\t: CRF / 30 \n",
      "Svt[info]: SVT [config]: AQ mode / variance boost \t\t\t\t\t: 2 / 0\n",
      "Svt[info]: -------------------------------------------\n",
      "Svt[info]: -------------------------------------------\n",
      "Svt[info]: SVT [version]:\tSVT-AV1 Encoder Lib v2.3.0-61-g66fb0f59\n",
      "Svt[info]: SVT [build]  :\tGCC 11.4.0\t 64 bit\n",
      "Svt[info]: LIB Build date: Nov 27 2024 13:20:34\n",
      "Svt[info]: -------------------------------------------\n",
      "Svt[info]: Level of Parallelism: 5\n",
      "Svt[info]: Number of PPCS 76\n",
      "Svt[info]: [asm level on system : up to avx2]\n",
      "Svt[info]: [asm level selected : up to avx2]\n",
      "Svt[info]: -------------------------------------------\n",
      "Svt[info]: SVT [config]: main profile\ttier (auto)\tlevel (auto)\n",
      "Svt[info]: SVT [config]: width / height / fps numerator / fps denominator \t\t: 96 / 96 / 10 / 1\n",
      "Svt[info]: SVT [config]: bit-depth / color format \t\t\t\t\t: 8 / YUV420\n",
      "Svt[info]: SVT [config]: preset / tune / pred struct \t\t\t\t\t: 10 / PSNR / random access\n",
      "Svt[info]: SVT [config]: gop size / mini-gop size / key-frame type \t\t\t: 2 / 16 / key frame\n",
      "Svt[info]: SVT [config]: BRC mode / rate factor \t\t\t\t\t: CRF / 30 \n",
      "Svt[info]: SVT [config]: AQ mode / variance boost \t\t\t\t\t: 2 / 0\n",
      "Svt[info]: -------------------------------------------\n",
      "Svt[info]: -------------------------------------------\n",
      "Svt[info]: SVT [version]:\tSVT-AV1 Encoder Lib v2.3.0-61-g66fb0f59\n",
      "Svt[info]: SVT [build]  :\tGCC 11.4.0\t 64 bit\n",
      "Svt[info]: LIB Build date: Nov 27 2024 13:20:34\n",
      "Svt[info]: -------------------------------------------\n",
      "Svt[info]: Level of Parallelism: 5\n",
      "Svt[info]: Number of PPCS 76\n",
      "Svt[info]: [asm level on system : up to avx2]\n",
      "Svt[info]: [asm level selected : up to avx2]\n",
      "Svt[info]: -------------------------------------------\n",
      "Svt[info]: SVT [config]: main profile\ttier (auto)\tlevel (auto)\n",
      "Svt[info]: SVT [config]: width / height / fps numerator / fps denominator \t\t: 96 / 96 / 10 / 1\n",
      "Svt[info]: SVT [config]: bit-depth / color format \t\t\t\t\t: 8 / YUV420\n",
      "Svt[info]: SVT [config]: preset / tune / pred struct \t\t\t\t\t: 10 / PSNR / random access\n",
      "Svt[info]: SVT [config]: gop size / mini-gop size / key-frame type \t\t\t: 2 / 16 / key frame\n",
      "Svt[info]: SVT [config]: BRC mode / rate factor \t\t\t\t\t: CRF / 30 \n",
      "Svt[info]: SVT [config]: AQ mode / variance boost \t\t\t\t\t: 2 / 0\n",
      "Svt[info]: -------------------------------------------\n",
      "Svt[info]: -------------------------------------------\n",
      "Svt[info]: SVT [version]:\tSVT-AV1 Encoder Lib v2.3.0-61-g66fb0f59\n",
      "Svt[info]: SVT [build]  :\tGCC 11.4.0\t 64 bit\n",
      "Svt[info]: LIB Build date: Nov 27 2024 13:20:34\n",
      "Svt[info]: -------------------------------------------\n",
      "Svt[info]: Level of Parallelism: 5\n",
      "Svt[info]: Number of PPCS 76\n",
      "Svt[info]: [asm level on system : up to avx2]\n",
      "Svt[info]: [asm level selected : up to avx2]\n",
      "Svt[info]: -------------------------------------------\n",
      "Svt[info]: SVT [config]: main profile\ttier (auto)\tlevel (auto)\n",
      "Svt[info]: SVT [config]: width / height / fps numerator / fps denominator \t\t: 96 / 96 / 10 / 1\n",
      "Svt[info]: SVT [config]: bit-depth / color format \t\t\t\t\t: 8 / YUV420\n",
      "Svt[info]: SVT [config]: preset / tune / pred struct \t\t\t\t\t: 10 / PSNR / random access\n",
      "Svt[info]: SVT [config]: gop size / mini-gop size / key-frame type \t\t\t: 2 / 16 / key frame\n",
      "Svt[info]: SVT [config]: BRC mode / rate factor \t\t\t\t\t: CRF / 30 \n",
      "Svt[info]: SVT [config]: AQ mode / variance boost \t\t\t\t\t: 2 / 0\n",
      "Svt[info]: -------------------------------------------\n",
      "Svt[info]: -------------------------------------------\n",
      "Svt[info]: SVT [version]:\tSVT-AV1 Encoder Lib v2.3.0-61-g66fb0f59\n",
      "Svt[info]: SVT [build]  :\tGCC 11.4.0\t 64 bit\n",
      "Svt[info]: LIB Build date: Nov 27 2024 13:20:34\n",
      "Svt[info]: -------------------------------------------\n",
      "Svt[info]: Level of Parallelism: 5\n",
      "Svt[info]: Number of PPCS 76\n",
      "Svt[info]: [asm level on system : up to avx2]\n",
      "Svt[info]: [asm level selected : up to avx2]\n",
      "Svt[info]: -------------------------------------------\n",
      "Svt[info]: SVT [config]: main profile\ttier (auto)\tlevel (auto)\n",
      "Svt[info]: SVT [config]: width / height / fps numerator / fps denominator \t\t: 96 / 96 / 10 / 1\n",
      "Svt[info]: SVT [config]: bit-depth / color format \t\t\t\t\t: 8 / YUV420\n",
      "Svt[info]: SVT [config]: preset / tune / pred struct \t\t\t\t\t: 10 / PSNR / random access\n",
      "Svt[info]: SVT [config]: gop size / mini-gop size / key-frame type \t\t\t: 2 / 16 / key frame\n",
      "Svt[info]: SVT [config]: BRC mode / rate factor \t\t\t\t\t: CRF / 30 \n",
      "Svt[info]: SVT [config]: AQ mode / variance boost \t\t\t\t\t: 2 / 0\n",
      "Svt[info]: -------------------------------------------\n",
      "Svt[info]: -------------------------------------------\n",
      "Svt[info]: SVT [version]:\tSVT-AV1 Encoder Lib v2.3.0-61-g66fb0f59\n",
      "Svt[info]: SVT [build]  :\tGCC 11.4.0\t 64 bit\n",
      "Svt[info]: LIB Build date: Nov 27 2024 13:20:34\n",
      "Svt[info]: -------------------------------------------\n",
      "Svt[info]: Level of Parallelism: 5\n",
      "Svt[info]: Number of PPCS 76\n",
      "Svt[info]: [asm level on system : up to avx2]\n",
      "Svt[info]: [asm level selected : up to avx2]\n",
      "Svt[info]: -------------------------------------------\n",
      "Svt[info]: SVT [config]: main profile\ttier (auto)\tlevel (auto)\n",
      "Svt[info]: SVT [config]: width / height / fps numerator / fps denominator \t\t: 96 / 96 / 10 / 1\n",
      "Svt[info]: SVT [config]: bit-depth / color format \t\t\t\t\t: 8 / YUV420\n",
      "Svt[info]: SVT [config]: preset / tune / pred struct \t\t\t\t\t: 10 / PSNR / random access\n",
      "Svt[info]: SVT [config]: gop size / mini-gop size / key-frame type \t\t\t: 2 / 16 / key frame\n",
      "Svt[info]: SVT [config]: BRC mode / rate factor \t\t\t\t\t: CRF / 30 \n",
      "Svt[info]: SVT [config]: AQ mode / variance boost \t\t\t\t\t: 2 / 0\n",
      "Svt[info]: -------------------------------------------\n",
      "Svt[info]: -------------------------------------------\n",
      "Svt[info]: SVT [version]:\tSVT-AV1 Encoder Lib v2.3.0-61-g66fb0f59\n",
      "Svt[info]: SVT [build]  :\tGCC 11.4.0\t 64 bit\n",
      "Svt[info]: LIB Build date: Nov 27 2024 13:20:34\n",
      "Svt[info]: -------------------------------------------\n",
      "Svt[info]: Level of Parallelism: 5\n",
      "Svt[info]: Number of PPCS 76\n",
      "Svt[info]: [asm level on system : up to avx2]\n",
      "Svt[info]: [asm level selected : up to avx2]\n",
      "Svt[info]: -------------------------------------------\n",
      "Svt[info]: SVT [config]: main profile\ttier (auto)\tlevel (auto)\n",
      "Svt[info]: SVT [config]: width / height / fps numerator / fps denominator \t\t: 96 / 96 / 10 / 1\n",
      "Svt[info]: SVT [config]: bit-depth / color format \t\t\t\t\t: 8 / YUV420\n",
      "Svt[info]: SVT [config]: preset / tune / pred struct \t\t\t\t\t: 10 / PSNR / random access\n",
      "Svt[info]: SVT [config]: gop size / mini-gop size / key-frame type \t\t\t: 2 / 16 / key frame\n",
      "Svt[info]: SVT [config]: BRC mode / rate factor \t\t\t\t\t: CRF / 30 \n",
      "Svt[info]: SVT [config]: AQ mode / variance boost \t\t\t\t\t: 2 / 0\n",
      "Svt[info]: -------------------------------------------\n",
      "Svt[info]: -------------------------------------------\n",
      "Svt[info]: SVT [version]:\tSVT-AV1 Encoder Lib v2.3.0-61-g66fb0f59\n",
      "Svt[info]: SVT [build]  :\tGCC 11.4.0\t 64 bit\n",
      "Svt[info]: LIB Build date: Nov 27 2024 13:20:34\n",
      "Svt[info]: -------------------------------------------\n",
      "Svt[info]: Level of Parallelism: 5\n",
      "Svt[info]: Number of PPCS 76\n",
      "Svt[info]: [asm level on system : up to avx2]\n",
      "Svt[info]: [asm level selected : up to avx2]\n",
      "Svt[info]: -------------------------------------------\n",
      "Svt[info]: SVT [config]: main profile\ttier (auto)\tlevel (auto)\n",
      "Svt[info]: SVT [config]: width / height / fps numerator / fps denominator \t\t: 96 / 96 / 10 / 1\n",
      "Svt[info]: SVT [config]: bit-depth / color format \t\t\t\t\t: 8 / YUV420\n",
      "Svt[info]: SVT [config]: preset / tune / pred struct \t\t\t\t\t: 10 / PSNR / random access\n",
      "Svt[info]: SVT [config]: gop size / mini-gop size / key-frame type \t\t\t: 2 / 16 / key frame\n",
      "Svt[info]: SVT [config]: BRC mode / rate factor \t\t\t\t\t: CRF / 30 \n",
      "Svt[info]: SVT [config]: AQ mode / variance boost \t\t\t\t\t: 2 / 0\n",
      "Svt[info]: -------------------------------------------\n",
      "Svt[info]: -------------------------------------------\n",
      "Svt[info]: SVT [version]:\tSVT-AV1 Encoder Lib v2.3.0-61-g66fb0f59\n",
      "Svt[info]: SVT [build]  :\tGCC 11.4.0\t 64 bit\n",
      "Svt[info]: LIB Build date: Nov 27 2024 13:20:34\n",
      "Svt[info]: -------------------------------------------\n",
      "Svt[info]: Level of Parallelism: 5\n",
      "Svt[info]: Number of PPCS 76\n",
      "Svt[info]: [asm level on system : up to avx2]\n",
      "Svt[info]: [asm level selected : up to avx2]\n",
      "Svt[info]: -------------------------------------------\n",
      "Svt[info]: SVT [config]: main profile\ttier (auto)\tlevel (auto)\n",
      "Svt[info]: SVT [config]: width / height / fps numerator / fps denominator \t\t: 96 / 96 / 10 / 1\n",
      "Svt[info]: SVT [config]: bit-depth / color format \t\t\t\t\t: 8 / YUV420\n",
      "Svt[info]: SVT [config]: preset / tune / pred struct \t\t\t\t\t: 10 / PSNR / random access\n",
      "Svt[info]: SVT [config]: gop size / mini-gop size / key-frame type \t\t\t: 2 / 16 / key frame\n",
      "Svt[info]: SVT [config]: BRC mode / rate factor \t\t\t\t\t: CRF / 30 \n",
      "Svt[info]: SVT [config]: AQ mode / variance boost \t\t\t\t\t: 2 / 0\n",
      "Svt[info]: -------------------------------------------\n",
      "Svt[info]: -------------------------------------------\n",
      "Svt[info]: SVT [version]:\tSVT-AV1 Encoder Lib v2.3.0-61-g66fb0f59\n",
      "Svt[info]: SVT [build]  :\tGCC 11.4.0\t 64 bit\n",
      "Svt[info]: LIB Build date: Nov 27 2024 13:20:34\n",
      "Svt[info]: -------------------------------------------\n",
      "Svt[info]: Level of Parallelism: 5\n",
      "Svt[info]: Number of PPCS 76\n",
      "Svt[info]: [asm level on system : up to avx2]\n",
      "Svt[info]: [asm level selected : up to avx2]\n",
      "Svt[info]: -------------------------------------------\n",
      "Svt[info]: SVT [config]: main profile\ttier (auto)\tlevel (auto)\n",
      "Svt[info]: SVT [config]: width / height / fps numerator / fps denominator \t\t: 96 / 96 / 10 / 1\n",
      "Svt[info]: SVT [config]: bit-depth / color format \t\t\t\t\t: 8 / YUV420\n",
      "Svt[info]: SVT [config]: preset / tune / pred struct \t\t\t\t\t: 10 / PSNR / random access\n",
      "Svt[info]: SVT [config]: gop size / mini-gop size / key-frame type \t\t\t: 2 / 16 / key frame\n",
      "Svt[info]: SVT [config]: BRC mode / rate factor \t\t\t\t\t: CRF / 30 \n",
      "Svt[info]: SVT [config]: AQ mode / variance boost \t\t\t\t\t: 2 / 0\n",
      "Svt[info]: -------------------------------------------\n",
      "Svt[info]: -------------------------------------------\n",
      "Svt[info]: SVT [version]:\tSVT-AV1 Encoder Lib v2.3.0-61-g66fb0f59\n",
      "Svt[info]: SVT [build]  :\tGCC 11.4.0\t 64 bit\n",
      "Svt[info]: LIB Build date: Nov 27 2024 13:20:34\n",
      "Svt[info]: -------------------------------------------\n",
      "Svt[info]: Level of Parallelism: 5\n",
      "Svt[info]: Number of PPCS 76\n",
      "Svt[info]: [asm level on system : up to avx2]\n",
      "Svt[info]: [asm level selected : up to avx2]\n",
      "Svt[info]: -------------------------------------------\n",
      "Svt[info]: SVT [config]: main profile\ttier (auto)\tlevel (auto)\n",
      "Svt[info]: SVT [config]: width / height / fps numerator / fps denominator \t\t: 96 / 96 / 10 / 1\n",
      "Svt[info]: SVT [config]: bit-depth / color format \t\t\t\t\t: 8 / YUV420\n",
      "Svt[info]: SVT [config]: preset / tune / pred struct \t\t\t\t\t: 10 / PSNR / random access\n",
      "Svt[info]: SVT [config]: gop size / mini-gop size / key-frame type \t\t\t: 2 / 16 / key frame\n",
      "Svt[info]: SVT [config]: BRC mode / rate factor \t\t\t\t\t: CRF / 30 \n",
      "Svt[info]: SVT [config]: AQ mode / variance boost \t\t\t\t\t: 2 / 0\n",
      "Svt[info]: -------------------------------------------\n",
      "Svt[info]: -------------------------------------------\n",
      "Svt[info]: SVT [version]:\tSVT-AV1 Encoder Lib v2.3.0-61-g66fb0f59\n",
      "Svt[info]: SVT [build]  :\tGCC 11.4.0\t 64 bit\n",
      "Svt[info]: LIB Build date: Nov 27 2024 13:20:34\n",
      "Svt[info]: -------------------------------------------\n",
      "Svt[info]: Level of Parallelism: 5\n",
      "Svt[info]: Number of PPCS 76\n",
      "Svt[info]: [asm level on system : up to avx2]\n",
      "Svt[info]: [asm level selected : up to avx2]\n",
      "Svt[info]: -------------------------------------------\n",
      "Svt[info]: SVT [config]: main profile\ttier (auto)\tlevel (auto)\n",
      "Svt[info]: SVT [config]: width / height / fps numerator / fps denominator \t\t: 96 / 96 / 10 / 1\n",
      "Svt[info]: SVT [config]: bit-depth / color format \t\t\t\t\t: 8 / YUV420\n",
      "Svt[info]: SVT [config]: preset / tune / pred struct \t\t\t\t\t: 10 / PSNR / random access\n",
      "Svt[info]: SVT [config]: gop size / mini-gop size / key-frame type \t\t\t: 2 / 16 / key frame\n",
      "Svt[info]: SVT [config]: BRC mode / rate factor \t\t\t\t\t: CRF / 30 \n",
      "Svt[info]: SVT [config]: AQ mode / variance boost \t\t\t\t\t: 2 / 0\n",
      "Svt[info]: -------------------------------------------\n",
      "Svt[info]: -------------------------------------------\n",
      "Svt[info]: SVT [version]:\tSVT-AV1 Encoder Lib v2.3.0-61-g66fb0f59\n",
      "Svt[info]: SVT [build]  :\tGCC 11.4.0\t 64 bit\n",
      "Svt[info]: LIB Build date: Nov 27 2024 13:20:34\n",
      "Svt[info]: -------------------------------------------\n",
      "Svt[info]: Level of Parallelism: 5\n",
      "Svt[info]: Number of PPCS 76\n",
      "Svt[info]: [asm level on system : up to avx2]\n",
      "Svt[info]: [asm level selected : up to avx2]\n",
      "Svt[info]: -------------------------------------------\n",
      "Svt[info]: SVT [config]: main profile\ttier (auto)\tlevel (auto)\n",
      "Svt[info]: SVT [config]: width / height / fps numerator / fps denominator \t\t: 96 / 96 / 10 / 1\n",
      "Svt[info]: SVT [config]: bit-depth / color format \t\t\t\t\t: 8 / YUV420\n",
      "Svt[info]: SVT [config]: preset / tune / pred struct \t\t\t\t\t: 10 / PSNR / random access\n",
      "Svt[info]: SVT [config]: gop size / mini-gop size / key-frame type \t\t\t: 2 / 16 / key frame\n",
      "Svt[info]: SVT [config]: BRC mode / rate factor \t\t\t\t\t: CRF / 30 \n",
      "Svt[info]: SVT [config]: AQ mode / variance boost \t\t\t\t\t: 2 / 0\n",
      "Svt[info]: -------------------------------------------\n",
      "Svt[info]: -------------------------------------------\n",
      "Svt[info]: SVT [version]:\tSVT-AV1 Encoder Lib v2.3.0-61-g66fb0f59\n",
      "Svt[info]: SVT [build]  :\tGCC 11.4.0\t 64 bit\n",
      "Svt[info]: LIB Build date: Nov 27 2024 13:20:34\n",
      "Svt[info]: -------------------------------------------\n",
      "Svt[info]: Level of Parallelism: 5\n",
      "Svt[info]: Number of PPCS 76\n",
      "Svt[info]: [asm level on system : up to avx2]\n",
      "Svt[info]: [asm level selected : up to avx2]\n",
      "Svt[info]: -------------------------------------------\n",
      "Svt[info]: SVT [config]: main profile\ttier (auto)\tlevel (auto)\n",
      "Svt[info]: SVT [config]: width / height / fps numerator / fps denominator \t\t: 96 / 96 / 10 / 1\n",
      "Svt[info]: SVT [config]: bit-depth / color format \t\t\t\t\t: 8 / YUV420\n",
      "Svt[info]: SVT [config]: preset / tune / pred struct \t\t\t\t\t: 10 / PSNR / random access\n",
      "Svt[info]: SVT [config]: gop size / mini-gop size / key-frame type \t\t\t: 2 / 16 / key frame\n",
      "Svt[info]: SVT [config]: BRC mode / rate factor \t\t\t\t\t: CRF / 30 \n",
      "Svt[info]: SVT [config]: AQ mode / variance boost \t\t\t\t\t: 2 / 0\n",
      "Svt[info]: -------------------------------------------\n",
      "Svt[info]: -------------------------------------------\n",
      "Svt[info]: SVT [version]:\tSVT-AV1 Encoder Lib v2.3.0-61-g66fb0f59\n",
      "Svt[info]: SVT [build]  :\tGCC 11.4.0\t 64 bit\n",
      "Svt[info]: LIB Build date: Nov 27 2024 13:20:34\n",
      "Svt[info]: -------------------------------------------\n",
      "Svt[info]: Level of Parallelism: 5\n",
      "Svt[info]: Number of PPCS 76\n",
      "Svt[info]: [asm level on system : up to avx2]\n",
      "Svt[info]: [asm level selected : up to avx2]\n",
      "Svt[info]: -------------------------------------------\n",
      "Svt[info]: SVT [config]: main profile\ttier (auto)\tlevel (auto)\n",
      "Svt[info]: SVT [config]: width / height / fps numerator / fps denominator \t\t: 96 / 96 / 10 / 1\n",
      "Svt[info]: SVT [config]: bit-depth / color format \t\t\t\t\t: 8 / YUV420\n",
      "Svt[info]: SVT [config]: preset / tune / pred struct \t\t\t\t\t: 10 / PSNR / random access\n",
      "Svt[info]: SVT [config]: gop size / mini-gop size / key-frame type \t\t\t: 2 / 16 / key frame\n",
      "Svt[info]: SVT [config]: BRC mode / rate factor \t\t\t\t\t: CRF / 30 \n",
      "Svt[info]: SVT [config]: AQ mode / variance boost \t\t\t\t\t: 2 / 0\n",
      "Svt[info]: -------------------------------------------\n",
      "Svt[info]: -------------------------------------------\n",
      "Svt[info]: SVT [version]:\tSVT-AV1 Encoder Lib v2.3.0-61-g66fb0f59\n",
      "Svt[info]: SVT [build]  :\tGCC 11.4.0\t 64 bit\n",
      "Svt[info]: LIB Build date: Nov 27 2024 13:20:34\n",
      "Svt[info]: -------------------------------------------\n",
      "Svt[info]: Level of Parallelism: 5\n",
      "Svt[info]: Number of PPCS 76\n",
      "Svt[info]: [asm level on system : up to avx2]\n",
      "Svt[info]: [asm level selected : up to avx2]\n",
      "Svt[info]: -------------------------------------------\n",
      "Svt[info]: SVT [config]: main profile\ttier (auto)\tlevel (auto)\n",
      "Svt[info]: SVT [config]: width / height / fps numerator / fps denominator \t\t: 96 / 96 / 10 / 1\n",
      "Svt[info]: SVT [config]: bit-depth / color format \t\t\t\t\t: 8 / YUV420\n",
      "Svt[info]: SVT [config]: preset / tune / pred struct \t\t\t\t\t: 10 / PSNR / random access\n",
      "Svt[info]: SVT [config]: gop size / mini-gop size / key-frame type \t\t\t: 2 / 16 / key frame\n",
      "Svt[info]: SVT [config]: BRC mode / rate factor \t\t\t\t\t: CRF / 30 \n",
      "Svt[info]: SVT [config]: AQ mode / variance boost \t\t\t\t\t: 2 / 0\n",
      "Svt[info]: -------------------------------------------\n",
      "Svt[info]: -------------------------------------------\n",
      "Svt[info]: SVT [version]:\tSVT-AV1 Encoder Lib v2.3.0-61-g66fb0f59\n",
      "Svt[info]: SVT [build]  :\tGCC 11.4.0\t 64 bit\n",
      "Svt[info]: LIB Build date: Nov 27 2024 13:20:34\n",
      "Svt[info]: -------------------------------------------\n",
      "Svt[info]: Level of Parallelism: 5\n",
      "Svt[info]: Number of PPCS 76\n",
      "Svt[info]: [asm level on system : up to avx2]\n",
      "Svt[info]: [asm level selected : up to avx2]\n",
      "Svt[info]: -------------------------------------------\n",
      "Svt[info]: SVT [config]: main profile\ttier (auto)\tlevel (auto)\n",
      "Svt[info]: SVT [config]: width / height / fps numerator / fps denominator \t\t: 96 / 96 / 10 / 1\n",
      "Svt[info]: SVT [config]: bit-depth / color format \t\t\t\t\t: 8 / YUV420\n",
      "Svt[info]: SVT [config]: preset / tune / pred struct \t\t\t\t\t: 10 / PSNR / random access\n",
      "Svt[info]: SVT [config]: gop size / mini-gop size / key-frame type \t\t\t: 2 / 16 / key frame\n",
      "Svt[info]: SVT [config]: BRC mode / rate factor \t\t\t\t\t: CRF / 30 \n",
      "Svt[info]: SVT [config]: AQ mode / variance boost \t\t\t\t\t: 2 / 0\n",
      "Svt[info]: -------------------------------------------\n",
      "Svt[info]: -------------------------------------------\n",
      "Svt[info]: SVT [version]:\tSVT-AV1 Encoder Lib v2.3.0-61-g66fb0f59\n",
      "Svt[info]: SVT [build]  :\tGCC 11.4.0\t 64 bit\n",
      "Svt[info]: LIB Build date: Nov 27 2024 13:20:34\n",
      "Svt[info]: -------------------------------------------\n",
      "Svt[info]: Level of Parallelism: 5\n",
      "Svt[info]: Number of PPCS 76\n",
      "Svt[info]: [asm level on system : up to avx2]\n",
      "Svt[info]: [asm level selected : up to avx2]\n",
      "Svt[info]: -------------------------------------------\n",
      "Svt[info]: SVT [config]: main profile\ttier (auto)\tlevel (auto)\n",
      "Svt[info]: SVT [config]: width / height / fps numerator / fps denominator \t\t: 96 / 96 / 10 / 1\n",
      "Svt[info]: SVT [config]: bit-depth / color format \t\t\t\t\t: 8 / YUV420\n",
      "Svt[info]: SVT [config]: preset / tune / pred struct \t\t\t\t\t: 10 / PSNR / random access\n",
      "Svt[info]: SVT [config]: gop size / mini-gop size / key-frame type \t\t\t: 2 / 16 / key frame\n",
      "Svt[info]: SVT [config]: BRC mode / rate factor \t\t\t\t\t: CRF / 30 \n",
      "Svt[info]: SVT [config]: AQ mode / variance boost \t\t\t\t\t: 2 / 0\n",
      "Svt[info]: -------------------------------------------\n",
      "Svt[info]: -------------------------------------------\n",
      "Svt[info]: SVT [version]:\tSVT-AV1 Encoder Lib v2.3.0-61-g66fb0f59\n",
      "Svt[info]: SVT [build]  :\tGCC 11.4.0\t 64 bit\n",
      "Svt[info]: LIB Build date: Nov 27 2024 13:20:34\n",
      "Svt[info]: -------------------------------------------\n",
      "Svt[info]: Level of Parallelism: 5\n",
      "Svt[info]: Number of PPCS 76\n",
      "Svt[info]: [asm level on system : up to avx2]\n",
      "Svt[info]: [asm level selected : up to avx2]\n",
      "Svt[info]: -------------------------------------------\n",
      "Svt[info]: SVT [config]: main profile\ttier (auto)\tlevel (auto)\n",
      "Svt[info]: SVT [config]: width / height / fps numerator / fps denominator \t\t: 96 / 96 / 10 / 1\n",
      "Svt[info]: SVT [config]: bit-depth / color format \t\t\t\t\t: 8 / YUV420\n",
      "Svt[info]: SVT [config]: preset / tune / pred struct \t\t\t\t\t: 10 / PSNR / random access\n",
      "Svt[info]: SVT [config]: gop size / mini-gop size / key-frame type \t\t\t: 2 / 16 / key frame\n",
      "Svt[info]: SVT [config]: BRC mode / rate factor \t\t\t\t\t: CRF / 30 \n",
      "Svt[info]: SVT [config]: AQ mode / variance boost \t\t\t\t\t: 2 / 0\n",
      "Svt[info]: -------------------------------------------\n",
      "Svt[info]: -------------------------------------------\n",
      "Svt[info]: SVT [version]:\tSVT-AV1 Encoder Lib v2.3.0-61-g66fb0f59\n",
      "Svt[info]: SVT [build]  :\tGCC 11.4.0\t 64 bit\n",
      "Svt[info]: LIB Build date: Nov 27 2024 13:20:34\n",
      "Svt[info]: -------------------------------------------\n",
      "Svt[info]: Level of Parallelism: 5\n",
      "Svt[info]: Number of PPCS 76\n",
      "Svt[info]: [asm level on system : up to avx2]\n",
      "Svt[info]: [asm level selected : up to avx2]\n",
      "Svt[info]: -------------------------------------------\n",
      "Svt[info]: SVT [config]: main profile\ttier (auto)\tlevel (auto)\n",
      "Svt[info]: SVT [config]: width / height / fps numerator / fps denominator \t\t: 96 / 96 / 10 / 1\n",
      "Svt[info]: SVT [config]: bit-depth / color format \t\t\t\t\t: 8 / YUV420\n",
      "Svt[info]: SVT [config]: preset / tune / pred struct \t\t\t\t\t: 10 / PSNR / random access\n",
      "Svt[info]: SVT [config]: gop size / mini-gop size / key-frame type \t\t\t: 2 / 16 / key frame\n",
      "Svt[info]: SVT [config]: BRC mode / rate factor \t\t\t\t\t: CRF / 30 \n",
      "Svt[info]: SVT [config]: AQ mode / variance boost \t\t\t\t\t: 2 / 0\n",
      "Svt[info]: -------------------------------------------\n",
      "Svt[info]: -------------------------------------------\n",
      "Svt[info]: SVT [version]:\tSVT-AV1 Encoder Lib v2.3.0-61-g66fb0f59\n",
      "Svt[info]: SVT [build]  :\tGCC 11.4.0\t 64 bit\n",
      "Svt[info]: LIB Build date: Nov 27 2024 13:20:34\n",
      "Svt[info]: -------------------------------------------\n",
      "Svt[info]: Level of Parallelism: 5\n",
      "Svt[info]: Number of PPCS 76\n",
      "Svt[info]: [asm level on system : up to avx2]\n",
      "Svt[info]: [asm level selected : up to avx2]\n",
      "Svt[info]: -------------------------------------------\n",
      "Svt[info]: SVT [config]: main profile\ttier (auto)\tlevel (auto)\n",
      "Svt[info]: SVT [config]: width / height / fps numerator / fps denominator \t\t: 96 / 96 / 10 / 1\n",
      "Svt[info]: SVT [config]: bit-depth / color format \t\t\t\t\t: 8 / YUV420\n",
      "Svt[info]: SVT [config]: preset / tune / pred struct \t\t\t\t\t: 10 / PSNR / random access\n",
      "Svt[info]: SVT [config]: gop size / mini-gop size / key-frame type \t\t\t: 2 / 16 / key frame\n",
      "Svt[info]: SVT [config]: BRC mode / rate factor \t\t\t\t\t: CRF / 30 \n",
      "Svt[info]: SVT [config]: AQ mode / variance boost \t\t\t\t\t: 2 / 0\n",
      "Svt[info]: -------------------------------------------\n",
      "Svt[info]: -------------------------------------------\n",
      "Svt[info]: SVT [version]:\tSVT-AV1 Encoder Lib v2.3.0-61-g66fb0f59\n",
      "Svt[info]: SVT [build]  :\tGCC 11.4.0\t 64 bit\n",
      "Svt[info]: LIB Build date: Nov 27 2024 13:20:34\n",
      "Svt[info]: -------------------------------------------\n",
      "Svt[info]: Level of Parallelism: 5\n",
      "Svt[info]: Number of PPCS 76\n",
      "Svt[info]: [asm level on system : up to avx2]\n",
      "Svt[info]: [asm level selected : up to avx2]\n",
      "Svt[info]: -------------------------------------------\n",
      "Svt[info]: SVT [config]: main profile\ttier (auto)\tlevel (auto)\n",
      "Svt[info]: SVT [config]: width / height / fps numerator / fps denominator \t\t: 96 / 96 / 10 / 1\n",
      "Svt[info]: SVT [config]: bit-depth / color format \t\t\t\t\t: 8 / YUV420\n",
      "Svt[info]: SVT [config]: preset / tune / pred struct \t\t\t\t\t: 10 / PSNR / random access\n",
      "Svt[info]: SVT [config]: gop size / mini-gop size / key-frame type \t\t\t: 2 / 16 / key frame\n",
      "Svt[info]: SVT [config]: BRC mode / rate factor \t\t\t\t\t: CRF / 30 \n",
      "Svt[info]: SVT [config]: AQ mode / variance boost \t\t\t\t\t: 2 / 0\n",
      "Svt[info]: -------------------------------------------\n",
      "Svt[info]: -------------------------------------------\n",
      "Svt[info]: SVT [version]:\tSVT-AV1 Encoder Lib v2.3.0-61-g66fb0f59\n",
      "Svt[info]: SVT [build]  :\tGCC 11.4.0\t 64 bit\n",
      "Svt[info]: LIB Build date: Nov 27 2024 13:20:34\n",
      "Svt[info]: -------------------------------------------\n",
      "Svt[info]: Level of Parallelism: 5\n",
      "Svt[info]: Number of PPCS 76\n",
      "Svt[info]: [asm level on system : up to avx2]\n",
      "Svt[info]: [asm level selected : up to avx2]\n",
      "Svt[info]: -------------------------------------------\n",
      "Svt[info]: SVT [config]: main profile\ttier (auto)\tlevel (auto)\n",
      "Svt[info]: SVT [config]: width / height / fps numerator / fps denominator \t\t: 96 / 96 / 10 / 1\n",
      "Svt[info]: SVT [config]: bit-depth / color format \t\t\t\t\t: 8 / YUV420\n",
      "Svt[info]: SVT [config]: preset / tune / pred struct \t\t\t\t\t: 10 / PSNR / random access\n",
      "Svt[info]: SVT [config]: gop size / mini-gop size / key-frame type \t\t\t: 2 / 16 / key frame\n",
      "Svt[info]: SVT [config]: BRC mode / rate factor \t\t\t\t\t: CRF / 30 \n",
      "Svt[info]: SVT [config]: AQ mode / variance boost \t\t\t\t\t: 2 / 0\n",
      "Svt[info]: -------------------------------------------\n",
      "Svt[info]: -------------------------------------------\n",
      "Svt[info]: SVT [version]:\tSVT-AV1 Encoder Lib v2.3.0-61-g66fb0f59\n",
      "Svt[info]: SVT [build]  :\tGCC 11.4.0\t 64 bit\n",
      "Svt[info]: LIB Build date: Nov 27 2024 13:20:34\n",
      "Svt[info]: -------------------------------------------\n",
      "Svt[info]: Level of Parallelism: 5\n",
      "Svt[info]: Number of PPCS 76\n",
      "Svt[info]: [asm level on system : up to avx2]\n",
      "Svt[info]: [asm level selected : up to avx2]\n",
      "Svt[info]: -------------------------------------------\n",
      "Svt[info]: SVT [config]: main profile\ttier (auto)\tlevel (auto)\n",
      "Svt[info]: SVT [config]: width / height / fps numerator / fps denominator \t\t: 96 / 96 / 10 / 1\n",
      "Svt[info]: SVT [config]: bit-depth / color format \t\t\t\t\t: 8 / YUV420\n",
      "Svt[info]: SVT [config]: preset / tune / pred struct \t\t\t\t\t: 10 / PSNR / random access\n",
      "Svt[info]: SVT [config]: gop size / mini-gop size / key-frame type \t\t\t: 2 / 16 / key frame\n",
      "Svt[info]: SVT [config]: BRC mode / rate factor \t\t\t\t\t: CRF / 30 \n",
      "Svt[info]: SVT [config]: AQ mode / variance boost \t\t\t\t\t: 2 / 0\n",
      "Svt[info]: -------------------------------------------\n",
      "Svt[info]: -------------------------------------------\n",
      "Svt[info]: SVT [version]:\tSVT-AV1 Encoder Lib v2.3.0-61-g66fb0f59\n",
      "Svt[info]: SVT [build]  :\tGCC 11.4.0\t 64 bit\n",
      "Svt[info]: LIB Build date: Nov 27 2024 13:20:34\n",
      "Svt[info]: -------------------------------------------\n",
      "Svt[info]: Level of Parallelism: 5\n",
      "Svt[info]: Number of PPCS 76\n",
      "Svt[info]: [asm level on system : up to avx2]\n",
      "Svt[info]: [asm level selected : up to avx2]\n",
      "Svt[info]: -------------------------------------------\n",
      "Svt[info]: SVT [config]: main profile\ttier (auto)\tlevel (auto)\n",
      "Svt[info]: SVT [config]: width / height / fps numerator / fps denominator \t\t: 96 / 96 / 10 / 1\n",
      "Svt[info]: SVT [config]: bit-depth / color format \t\t\t\t\t: 8 / YUV420\n",
      "Svt[info]: SVT [config]: preset / tune / pred struct \t\t\t\t\t: 10 / PSNR / random access\n",
      "Svt[info]: SVT [config]: gop size / mini-gop size / key-frame type \t\t\t: 2 / 16 / key frame\n",
      "Svt[info]: SVT [config]: BRC mode / rate factor \t\t\t\t\t: CRF / 30 \n",
      "Svt[info]: SVT [config]: AQ mode / variance boost \t\t\t\t\t: 2 / 0\n",
      "Svt[info]: -------------------------------------------\n",
      "Svt[info]: -------------------------------------------\n",
      "Svt[info]: SVT [version]:\tSVT-AV1 Encoder Lib v2.3.0-61-g66fb0f59\n",
      "Svt[info]: SVT [build]  :\tGCC 11.4.0\t 64 bit\n",
      "Svt[info]: LIB Build date: Nov 27 2024 13:20:34\n",
      "Svt[info]: -------------------------------------------\n",
      "Svt[info]: Level of Parallelism: 5\n",
      "Svt[info]: Number of PPCS 76\n",
      "Svt[info]: [asm level on system : up to avx2]\n",
      "Svt[info]: [asm level selected : up to avx2]\n",
      "Svt[info]: -------------------------------------------\n",
      "Svt[info]: SVT [config]: main profile\ttier (auto)\tlevel (auto)\n",
      "Svt[info]: SVT [config]: width / height / fps numerator / fps denominator \t\t: 96 / 96 / 10 / 1\n",
      "Svt[info]: SVT [config]: bit-depth / color format \t\t\t\t\t: 8 / YUV420\n",
      "Svt[info]: SVT [config]: preset / tune / pred struct \t\t\t\t\t: 10 / PSNR / random access\n",
      "Svt[info]: SVT [config]: gop size / mini-gop size / key-frame type \t\t\t: 2 / 16 / key frame\n",
      "Svt[info]: SVT [config]: BRC mode / rate factor \t\t\t\t\t: CRF / 30 \n",
      "Svt[info]: SVT [config]: AQ mode / variance boost \t\t\t\t\t: 2 / 0\n",
      "Svt[info]: -------------------------------------------\n",
      "Svt[info]: -------------------------------------------\n",
      "Svt[info]: SVT [version]:\tSVT-AV1 Encoder Lib v2.3.0-61-g66fb0f59\n",
      "Svt[info]: SVT [build]  :\tGCC 11.4.0\t 64 bit\n",
      "Svt[info]: LIB Build date: Nov 27 2024 13:20:34\n",
      "Svt[info]: -------------------------------------------\n",
      "Svt[info]: Level of Parallelism: 5\n",
      "Svt[info]: Number of PPCS 76\n",
      "Svt[info]: [asm level on system : up to avx2]\n",
      "Svt[info]: [asm level selected : up to avx2]\n",
      "Svt[info]: -------------------------------------------\n",
      "Svt[info]: SVT [config]: main profile\ttier (auto)\tlevel (auto)\n",
      "Svt[info]: SVT [config]: width / height / fps numerator / fps denominator \t\t: 96 / 96 / 10 / 1\n",
      "Svt[info]: SVT [config]: bit-depth / color format \t\t\t\t\t: 8 / YUV420\n",
      "Svt[info]: SVT [config]: preset / tune / pred struct \t\t\t\t\t: 10 / PSNR / random access\n",
      "Svt[info]: SVT [config]: gop size / mini-gop size / key-frame type \t\t\t: 2 / 16 / key frame\n",
      "Svt[info]: SVT [config]: BRC mode / rate factor \t\t\t\t\t: CRF / 30 \n",
      "Svt[info]: SVT [config]: AQ mode / variance boost \t\t\t\t\t: 2 / 0\n",
      "Svt[info]: -------------------------------------------\n",
      "Svt[info]: -------------------------------------------\n",
      "Svt[info]: SVT [version]:\tSVT-AV1 Encoder Lib v2.3.0-61-g66fb0f59\n",
      "Svt[info]: SVT [build]  :\tGCC 11.4.0\t 64 bit\n",
      "Svt[info]: LIB Build date: Nov 27 2024 13:20:34\n",
      "Svt[info]: -------------------------------------------\n",
      "Svt[info]: Level of Parallelism: 5\n",
      "Svt[info]: Number of PPCS 76\n",
      "Svt[info]: [asm level on system : up to avx2]\n",
      "Svt[info]: [asm level selected : up to avx2]\n",
      "Svt[info]: -------------------------------------------\n",
      "Svt[info]: SVT [config]: main profile\ttier (auto)\tlevel (auto)\n",
      "Svt[info]: SVT [config]: width / height / fps numerator / fps denominator \t\t: 96 / 96 / 10 / 1\n",
      "Svt[info]: SVT [config]: bit-depth / color format \t\t\t\t\t: 8 / YUV420\n",
      "Svt[info]: SVT [config]: preset / tune / pred struct \t\t\t\t\t: 10 / PSNR / random access\n",
      "Svt[info]: SVT [config]: gop size / mini-gop size / key-frame type \t\t\t: 2 / 16 / key frame\n",
      "Svt[info]: SVT [config]: BRC mode / rate factor \t\t\t\t\t: CRF / 30 \n",
      "Svt[info]: SVT [config]: AQ mode / variance boost \t\t\t\t\t: 2 / 0\n",
      "Svt[info]: -------------------------------------------\n",
      "Svt[info]: -------------------------------------------\n",
      "Svt[info]: SVT [version]:\tSVT-AV1 Encoder Lib v2.3.0-61-g66fb0f59\n",
      "Svt[info]: SVT [build]  :\tGCC 11.4.0\t 64 bit\n",
      "Svt[info]: LIB Build date: Nov 27 2024 13:20:34\n",
      "Svt[info]: -------------------------------------------\n",
      "Svt[info]: Level of Parallelism: 5\n",
      "Svt[info]: Number of PPCS 76\n",
      "Svt[info]: [asm level on system : up to avx2]\n",
      "Svt[info]: [asm level selected : up to avx2]\n",
      "Svt[info]: -------------------------------------------\n",
      "Svt[info]: SVT [config]: main profile\ttier (auto)\tlevel (auto)\n",
      "Svt[info]: SVT [config]: width / height / fps numerator / fps denominator \t\t: 96 / 96 / 10 / 1\n",
      "Svt[info]: SVT [config]: bit-depth / color format \t\t\t\t\t: 8 / YUV420\n",
      "Svt[info]: SVT [config]: preset / tune / pred struct \t\t\t\t\t: 10 / PSNR / random access\n",
      "Svt[info]: SVT [config]: gop size / mini-gop size / key-frame type \t\t\t: 2 / 16 / key frame\n",
      "Svt[info]: SVT [config]: BRC mode / rate factor \t\t\t\t\t: CRF / 30 \n",
      "Svt[info]: SVT [config]: AQ mode / variance boost \t\t\t\t\t: 2 / 0\n",
      "Svt[info]: -------------------------------------------\n",
      "Svt[info]: -------------------------------------------\n",
      "Svt[info]: SVT [version]:\tSVT-AV1 Encoder Lib v2.3.0-61-g66fb0f59\n",
      "Svt[info]: SVT [build]  :\tGCC 11.4.0\t 64 bit\n",
      "Svt[info]: LIB Build date: Nov 27 2024 13:20:34\n",
      "Svt[info]: -------------------------------------------\n",
      "Svt[info]: Level of Parallelism: 5\n",
      "Svt[info]: Number of PPCS 76\n",
      "Svt[info]: [asm level on system : up to avx2]\n",
      "Svt[info]: [asm level selected : up to avx2]\n",
      "Svt[info]: -------------------------------------------\n",
      "Svt[info]: SVT [config]: main profile\ttier (auto)\tlevel (auto)\n",
      "Svt[info]: SVT [config]: width / height / fps numerator / fps denominator \t\t: 96 / 96 / 10 / 1\n",
      "Svt[info]: SVT [config]: bit-depth / color format \t\t\t\t\t: 8 / YUV420\n",
      "Svt[info]: SVT [config]: preset / tune / pred struct \t\t\t\t\t: 10 / PSNR / random access\n",
      "Svt[info]: SVT [config]: gop size / mini-gop size / key-frame type \t\t\t: 2 / 16 / key frame\n",
      "Svt[info]: SVT [config]: BRC mode / rate factor \t\t\t\t\t: CRF / 30 \n",
      "Svt[info]: SVT [config]: AQ mode / variance boost \t\t\t\t\t: 2 / 0\n",
      "Svt[info]: -------------------------------------------\n",
      "Svt[info]: -------------------------------------------\n",
      "Svt[info]: SVT [version]:\tSVT-AV1 Encoder Lib v2.3.0-61-g66fb0f59\n",
      "Svt[info]: SVT [build]  :\tGCC 11.4.0\t 64 bit\n",
      "Svt[info]: LIB Build date: Nov 27 2024 13:20:34\n",
      "Svt[info]: -------------------------------------------\n",
      "Svt[info]: Level of Parallelism: 5\n",
      "Svt[info]: Number of PPCS 76\n",
      "Svt[info]: [asm level on system : up to avx2]\n",
      "Svt[info]: [asm level selected : up to avx2]\n",
      "Svt[info]: -------------------------------------------\n",
      "Svt[info]: SVT [config]: main profile\ttier (auto)\tlevel (auto)\n",
      "Svt[info]: SVT [config]: width / height / fps numerator / fps denominator \t\t: 96 / 96 / 10 / 1\n",
      "Svt[info]: SVT [config]: bit-depth / color format \t\t\t\t\t: 8 / YUV420\n",
      "Svt[info]: SVT [config]: preset / tune / pred struct \t\t\t\t\t: 10 / PSNR / random access\n",
      "Svt[info]: SVT [config]: gop size / mini-gop size / key-frame type \t\t\t: 2 / 16 / key frame\n",
      "Svt[info]: SVT [config]: BRC mode / rate factor \t\t\t\t\t: CRF / 30 \n",
      "Svt[info]: SVT [config]: AQ mode / variance boost \t\t\t\t\t: 2 / 0\n",
      "Svt[info]: -------------------------------------------\n",
      "Svt[info]: -------------------------------------------\n",
      "Svt[info]: SVT [version]:\tSVT-AV1 Encoder Lib v2.3.0-61-g66fb0f59\n",
      "Svt[info]: SVT [build]  :\tGCC 11.4.0\t 64 bit\n",
      "Svt[info]: LIB Build date: Nov 27 2024 13:20:34\n",
      "Svt[info]: -------------------------------------------\n",
      "Svt[info]: Level of Parallelism: 5\n",
      "Svt[info]: Number of PPCS 76\n",
      "Svt[info]: [asm level on system : up to avx2]\n",
      "Svt[info]: [asm level selected : up to avx2]\n",
      "Svt[info]: -------------------------------------------\n",
      "Svt[info]: SVT [config]: main profile\ttier (auto)\tlevel (auto)\n",
      "Svt[info]: SVT [config]: width / height / fps numerator / fps denominator \t\t: 96 / 96 / 10 / 1\n",
      "Svt[info]: SVT [config]: bit-depth / color format \t\t\t\t\t: 8 / YUV420\n",
      "Svt[info]: SVT [config]: preset / tune / pred struct \t\t\t\t\t: 10 / PSNR / random access\n",
      "Svt[info]: SVT [config]: gop size / mini-gop size / key-frame type \t\t\t: 2 / 16 / key frame\n",
      "Svt[info]: SVT [config]: BRC mode / rate factor \t\t\t\t\t: CRF / 30 \n",
      "Svt[info]: SVT [config]: AQ mode / variance boost \t\t\t\t\t: 2 / 0\n",
      "Svt[info]: -------------------------------------------\n",
      "Svt[info]: -------------------------------------------\n",
      "Svt[info]: SVT [version]:\tSVT-AV1 Encoder Lib v2.3.0-61-g66fb0f59\n",
      "Svt[info]: SVT [build]  :\tGCC 11.4.0\t 64 bit\n",
      "Svt[info]: LIB Build date: Nov 27 2024 13:20:34\n",
      "Svt[info]: -------------------------------------------\n",
      "Svt[info]: Level of Parallelism: 5\n",
      "Svt[info]: Number of PPCS 76\n",
      "Svt[info]: [asm level on system : up to avx2]\n",
      "Svt[info]: [asm level selected : up to avx2]\n",
      "Svt[info]: -------------------------------------------\n",
      "Svt[info]: SVT [config]: main profile\ttier (auto)\tlevel (auto)\n",
      "Svt[info]: SVT [config]: width / height / fps numerator / fps denominator \t\t: 96 / 96 / 10 / 1\n",
      "Svt[info]: SVT [config]: bit-depth / color format \t\t\t\t\t: 8 / YUV420\n",
      "Svt[info]: SVT [config]: preset / tune / pred struct \t\t\t\t\t: 10 / PSNR / random access\n",
      "Svt[info]: SVT [config]: gop size / mini-gop size / key-frame type \t\t\t: 2 / 16 / key frame\n",
      "Svt[info]: SVT [config]: BRC mode / rate factor \t\t\t\t\t: CRF / 30 \n",
      "Svt[info]: SVT [config]: AQ mode / variance boost \t\t\t\t\t: 2 / 0\n",
      "Svt[info]: -------------------------------------------\n",
      "Svt[info]: -------------------------------------------\n",
      "Svt[info]: SVT [version]:\tSVT-AV1 Encoder Lib v2.3.0-61-g66fb0f59\n",
      "Svt[info]: SVT [build]  :\tGCC 11.4.0\t 64 bit\n",
      "Svt[info]: LIB Build date: Nov 27 2024 13:20:34\n",
      "Svt[info]: -------------------------------------------\n",
      "Svt[info]: Level of Parallelism: 5\n",
      "Svt[info]: Number of PPCS 76\n",
      "Svt[info]: [asm level on system : up to avx2]\n",
      "Svt[info]: [asm level selected : up to avx2]\n",
      "Svt[info]: -------------------------------------------\n",
      "Svt[info]: SVT [config]: main profile\ttier (auto)\tlevel (auto)\n",
      "Svt[info]: SVT [config]: width / height / fps numerator / fps denominator \t\t: 96 / 96 / 10 / 1\n",
      "Svt[info]: SVT [config]: bit-depth / color format \t\t\t\t\t: 8 / YUV420\n",
      "Svt[info]: SVT [config]: preset / tune / pred struct \t\t\t\t\t: 10 / PSNR / random access\n",
      "Svt[info]: SVT [config]: gop size / mini-gop size / key-frame type \t\t\t: 2 / 16 / key frame\n",
      "Svt[info]: SVT [config]: BRC mode / rate factor \t\t\t\t\t: CRF / 30 \n",
      "Svt[info]: SVT [config]: AQ mode / variance boost \t\t\t\t\t: 2 / 0\n",
      "Svt[info]: -------------------------------------------\n",
      "Svt[info]: -------------------------------------------\n",
      "Svt[info]: SVT [version]:\tSVT-AV1 Encoder Lib v2.3.0-61-g66fb0f59\n",
      "Svt[info]: SVT [build]  :\tGCC 11.4.0\t 64 bit\n",
      "Svt[info]: LIB Build date: Nov 27 2024 13:20:34\n",
      "Svt[info]: -------------------------------------------\n",
      "Svt[info]: Level of Parallelism: 5\n",
      "Svt[info]: Number of PPCS 76\n",
      "Svt[info]: [asm level on system : up to avx2]\n",
      "Svt[info]: [asm level selected : up to avx2]\n",
      "Svt[info]: -------------------------------------------\n",
      "Svt[info]: SVT [config]: main profile\ttier (auto)\tlevel (auto)\n",
      "Svt[info]: SVT [config]: width / height / fps numerator / fps denominator \t\t: 96 / 96 / 10 / 1\n",
      "Svt[info]: SVT [config]: bit-depth / color format \t\t\t\t\t: 8 / YUV420\n",
      "Svt[info]: SVT [config]: preset / tune / pred struct \t\t\t\t\t: 10 / PSNR / random access\n",
      "Svt[info]: SVT [config]: gop size / mini-gop size / key-frame type \t\t\t: 2 / 16 / key frame\n",
      "Svt[info]: SVT [config]: BRC mode / rate factor \t\t\t\t\t: CRF / 30 \n",
      "Svt[info]: SVT [config]: AQ mode / variance boost \t\t\t\t\t: 2 / 0\n",
      "Svt[info]: -------------------------------------------\n",
      "Svt[info]: -------------------------------------------\n",
      "Svt[info]: SVT [version]:\tSVT-AV1 Encoder Lib v2.3.0-61-g66fb0f59\n",
      "Svt[info]: SVT [build]  :\tGCC 11.4.0\t 64 bit\n",
      "Svt[info]: LIB Build date: Nov 27 2024 13:20:34\n",
      "Svt[info]: -------------------------------------------\n",
      "Svt[info]: Level of Parallelism: 5\n",
      "Svt[info]: Number of PPCS 76\n",
      "Svt[info]: [asm level on system : up to avx2]\n",
      "Svt[info]: [asm level selected : up to avx2]\n",
      "Svt[info]: -------------------------------------------\n",
      "Svt[info]: SVT [config]: main profile\ttier (auto)\tlevel (auto)\n",
      "Svt[info]: SVT [config]: width / height / fps numerator / fps denominator \t\t: 96 / 96 / 10 / 1\n",
      "Svt[info]: SVT [config]: bit-depth / color format \t\t\t\t\t: 8 / YUV420\n",
      "Svt[info]: SVT [config]: preset / tune / pred struct \t\t\t\t\t: 10 / PSNR / random access\n",
      "Svt[info]: SVT [config]: gop size / mini-gop size / key-frame type \t\t\t: 2 / 16 / key frame\n",
      "Svt[info]: SVT [config]: BRC mode / rate factor \t\t\t\t\t: CRF / 30 \n",
      "Svt[info]: SVT [config]: AQ mode / variance boost \t\t\t\t\t: 2 / 0\n",
      "Svt[info]: -------------------------------------------\n",
      "Svt[info]: -------------------------------------------\n",
      "Svt[info]: SVT [version]:\tSVT-AV1 Encoder Lib v2.3.0-61-g66fb0f59\n",
      "Svt[info]: SVT [build]  :\tGCC 11.4.0\t 64 bit\n",
      "Svt[info]: LIB Build date: Nov 27 2024 13:20:34\n",
      "Svt[info]: -------------------------------------------\n",
      "Svt[info]: Level of Parallelism: 5\n",
      "Svt[info]: Number of PPCS 76\n",
      "Svt[info]: [asm level on system : up to avx2]\n",
      "Svt[info]: [asm level selected : up to avx2]\n",
      "Svt[info]: -------------------------------------------\n",
      "Svt[info]: SVT [config]: main profile\ttier (auto)\tlevel (auto)\n",
      "Svt[info]: SVT [config]: width / height / fps numerator / fps denominator \t\t: 96 / 96 / 10 / 1\n",
      "Svt[info]: SVT [config]: bit-depth / color format \t\t\t\t\t: 8 / YUV420\n",
      "Svt[info]: SVT [config]: preset / tune / pred struct \t\t\t\t\t: 10 / PSNR / random access\n",
      "Svt[info]: SVT [config]: gop size / mini-gop size / key-frame type \t\t\t: 2 / 16 / key frame\n",
      "Svt[info]: SVT [config]: BRC mode / rate factor \t\t\t\t\t: CRF / 30 \n",
      "Svt[info]: SVT [config]: AQ mode / variance boost \t\t\t\t\t: 2 / 0\n",
      "Svt[info]: -------------------------------------------\n",
      "Svt[info]: -------------------------------------------\n",
      "Svt[info]: SVT [version]:\tSVT-AV1 Encoder Lib v2.3.0-61-g66fb0f59\n",
      "Svt[info]: SVT [build]  :\tGCC 11.4.0\t 64 bit\n",
      "Svt[info]: LIB Build date: Nov 27 2024 13:20:34\n",
      "Svt[info]: -------------------------------------------\n",
      "Svt[info]: Level of Parallelism: 5\n",
      "Svt[info]: Number of PPCS 76\n",
      "Svt[info]: [asm level on system : up to avx2]\n",
      "Svt[info]: [asm level selected : up to avx2]\n",
      "Svt[info]: -------------------------------------------\n",
      "Svt[info]: SVT [config]: main profile\ttier (auto)\tlevel (auto)\n",
      "Svt[info]: SVT [config]: width / height / fps numerator / fps denominator \t\t: 96 / 96 / 10 / 1\n",
      "Svt[info]: SVT [config]: bit-depth / color format \t\t\t\t\t: 8 / YUV420\n",
      "Svt[info]: SVT [config]: preset / tune / pred struct \t\t\t\t\t: 10 / PSNR / random access\n",
      "Svt[info]: SVT [config]: gop size / mini-gop size / key-frame type \t\t\t: 2 / 16 / key frame\n",
      "Svt[info]: SVT [config]: BRC mode / rate factor \t\t\t\t\t: CRF / 30 \n",
      "Svt[info]: SVT [config]: AQ mode / variance boost \t\t\t\t\t: 2 / 0\n",
      "Svt[info]: -------------------------------------------\n",
      "Svt[info]: -------------------------------------------\n",
      "Svt[info]: SVT [version]:\tSVT-AV1 Encoder Lib v2.3.0-61-g66fb0f59\n",
      "Svt[info]: SVT [build]  :\tGCC 11.4.0\t 64 bit\n",
      "Svt[info]: LIB Build date: Nov 27 2024 13:20:34\n",
      "Svt[info]: -------------------------------------------\n",
      "Svt[info]: Level of Parallelism: 5\n",
      "Svt[info]: Number of PPCS 76\n",
      "Svt[info]: [asm level on system : up to avx2]\n",
      "Svt[info]: [asm level selected : up to avx2]\n",
      "Svt[info]: -------------------------------------------\n",
      "Svt[info]: SVT [config]: main profile\ttier (auto)\tlevel (auto)\n",
      "Svt[info]: SVT [config]: width / height / fps numerator / fps denominator \t\t: 96 / 96 / 10 / 1\n",
      "Svt[info]: SVT [config]: bit-depth / color format \t\t\t\t\t: 8 / YUV420\n",
      "Svt[info]: SVT [config]: preset / tune / pred struct \t\t\t\t\t: 10 / PSNR / random access\n",
      "Svt[info]: SVT [config]: gop size / mini-gop size / key-frame type \t\t\t: 2 / 16 / key frame\n",
      "Svt[info]: SVT [config]: BRC mode / rate factor \t\t\t\t\t: CRF / 30 \n",
      "Svt[info]: SVT [config]: AQ mode / variance boost \t\t\t\t\t: 2 / 0\n",
      "Svt[info]: -------------------------------------------\n",
      "Svt[info]: -------------------------------------------\n",
      "Svt[info]: SVT [version]:\tSVT-AV1 Encoder Lib v2.3.0-61-g66fb0f59\n",
      "Svt[info]: SVT [build]  :\tGCC 11.4.0\t 64 bit\n",
      "Svt[info]: LIB Build date: Nov 27 2024 13:20:34\n",
      "Svt[info]: -------------------------------------------\n",
      "Svt[info]: Level of Parallelism: 5\n",
      "Svt[info]: Number of PPCS 76\n",
      "Svt[info]: [asm level on system : up to avx2]\n",
      "Svt[info]: [asm level selected : up to avx2]\n",
      "Svt[info]: -------------------------------------------\n",
      "Svt[info]: SVT [config]: main profile\ttier (auto)\tlevel (auto)\n",
      "Svt[info]: SVT [config]: width / height / fps numerator / fps denominator \t\t: 96 / 96 / 10 / 1\n",
      "Svt[info]: SVT [config]: bit-depth / color format \t\t\t\t\t: 8 / YUV420\n",
      "Svt[info]: SVT [config]: preset / tune / pred struct \t\t\t\t\t: 10 / PSNR / random access\n",
      "Svt[info]: SVT [config]: gop size / mini-gop size / key-frame type \t\t\t: 2 / 16 / key frame\n",
      "Svt[info]: SVT [config]: BRC mode / rate factor \t\t\t\t\t: CRF / 30 \n",
      "Svt[info]: SVT [config]: AQ mode / variance boost \t\t\t\t\t: 2 / 0\n",
      "Svt[info]: -------------------------------------------\n",
      "Svt[info]: -------------------------------------------\n",
      "Svt[info]: SVT [version]:\tSVT-AV1 Encoder Lib v2.3.0-61-g66fb0f59\n",
      "Svt[info]: SVT [build]  :\tGCC 11.4.0\t 64 bit\n",
      "Svt[info]: LIB Build date: Nov 27 2024 13:20:34\n",
      "Svt[info]: -------------------------------------------\n",
      "Svt[info]: Level of Parallelism: 5\n",
      "Svt[info]: Number of PPCS 76\n",
      "Svt[info]: [asm level on system : up to avx2]\n",
      "Svt[info]: [asm level selected : up to avx2]\n",
      "Svt[info]: -------------------------------------------\n",
      "Svt[info]: SVT [config]: main profile\ttier (auto)\tlevel (auto)\n",
      "Svt[info]: SVT [config]: width / height / fps numerator / fps denominator \t\t: 96 / 96 / 10 / 1\n",
      "Svt[info]: SVT [config]: bit-depth / color format \t\t\t\t\t: 8 / YUV420\n",
      "Svt[info]: SVT [config]: preset / tune / pred struct \t\t\t\t\t: 10 / PSNR / random access\n",
      "Svt[info]: SVT [config]: gop size / mini-gop size / key-frame type \t\t\t: 2 / 16 / key frame\n",
      "Svt[info]: SVT [config]: BRC mode / rate factor \t\t\t\t\t: CRF / 30 \n",
      "Svt[info]: SVT [config]: AQ mode / variance boost \t\t\t\t\t: 2 / 0\n",
      "Svt[info]: -------------------------------------------\n",
      "Svt[info]: -------------------------------------------\n",
      "Svt[info]: SVT [version]:\tSVT-AV1 Encoder Lib v2.3.0-61-g66fb0f59\n",
      "Svt[info]: SVT [build]  :\tGCC 11.4.0\t 64 bit\n",
      "Svt[info]: LIB Build date: Nov 27 2024 13:20:34\n",
      "Svt[info]: -------------------------------------------\n",
      "Svt[info]: Level of Parallelism: 5\n",
      "Svt[info]: Number of PPCS 76\n",
      "Svt[info]: [asm level on system : up to avx2]\n",
      "Svt[info]: [asm level selected : up to avx2]\n",
      "Svt[info]: -------------------------------------------\n",
      "Svt[info]: SVT [config]: main profile\ttier (auto)\tlevel (auto)\n",
      "Svt[info]: SVT [config]: width / height / fps numerator / fps denominator \t\t: 96 / 96 / 10 / 1\n",
      "Svt[info]: SVT [config]: bit-depth / color format \t\t\t\t\t: 8 / YUV420\n",
      "Svt[info]: SVT [config]: preset / tune / pred struct \t\t\t\t\t: 10 / PSNR / random access\n",
      "Svt[info]: SVT [config]: gop size / mini-gop size / key-frame type \t\t\t: 2 / 16 / key frame\n",
      "Svt[info]: SVT [config]: BRC mode / rate factor \t\t\t\t\t: CRF / 30 \n",
      "Svt[info]: SVT [config]: AQ mode / variance boost \t\t\t\t\t: 2 / 0\n",
      "Svt[info]: -------------------------------------------\n",
      "Svt[info]: -------------------------------------------\n",
      "Svt[info]: SVT [version]:\tSVT-AV1 Encoder Lib v2.3.0-61-g66fb0f59\n",
      "Svt[info]: SVT [build]  :\tGCC 11.4.0\t 64 bit\n",
      "Svt[info]: LIB Build date: Nov 27 2024 13:20:34\n",
      "Svt[info]: -------------------------------------------\n",
      "Svt[info]: Level of Parallelism: 5\n",
      "Svt[info]: Number of PPCS 76\n",
      "Svt[info]: [asm level on system : up to avx2]\n",
      "Svt[info]: [asm level selected : up to avx2]\n",
      "Svt[info]: -------------------------------------------\n",
      "Svt[info]: SVT [config]: main profile\ttier (auto)\tlevel (auto)\n",
      "Svt[info]: SVT [config]: width / height / fps numerator / fps denominator \t\t: 96 / 96 / 10 / 1\n",
      "Svt[info]: SVT [config]: bit-depth / color format \t\t\t\t\t: 8 / YUV420\n",
      "Svt[info]: SVT [config]: preset / tune / pred struct \t\t\t\t\t: 10 / PSNR / random access\n",
      "Svt[info]: SVT [config]: gop size / mini-gop size / key-frame type \t\t\t: 2 / 16 / key frame\n",
      "Svt[info]: SVT [config]: BRC mode / rate factor \t\t\t\t\t: CRF / 30 \n",
      "Svt[info]: SVT [config]: AQ mode / variance boost \t\t\t\t\t: 2 / 0\n",
      "Svt[info]: -------------------------------------------\n",
      "Svt[info]: -------------------------------------------\n",
      "Svt[info]: SVT [version]:\tSVT-AV1 Encoder Lib v2.3.0-61-g66fb0f59\n",
      "Svt[info]: SVT [build]  :\tGCC 11.4.0\t 64 bit\n",
      "Svt[info]: LIB Build date: Nov 27 2024 13:20:34\n",
      "Svt[info]: -------------------------------------------\n",
      "Svt[info]: Level of Parallelism: 5\n",
      "Svt[info]: Number of PPCS 76\n",
      "Svt[info]: [asm level on system : up to avx2]\n",
      "Svt[info]: [asm level selected : up to avx2]\n",
      "Svt[info]: -------------------------------------------\n",
      "Svt[info]: SVT [config]: main profile\ttier (auto)\tlevel (auto)\n",
      "Svt[info]: SVT [config]: width / height / fps numerator / fps denominator \t\t: 96 / 96 / 10 / 1\n",
      "Svt[info]: SVT [config]: bit-depth / color format \t\t\t\t\t: 8 / YUV420\n",
      "Svt[info]: SVT [config]: preset / tune / pred struct \t\t\t\t\t: 10 / PSNR / random access\n",
      "Svt[info]: SVT [config]: gop size / mini-gop size / key-frame type \t\t\t: 2 / 16 / key frame\n",
      "Svt[info]: SVT [config]: BRC mode / rate factor \t\t\t\t\t: CRF / 30 \n",
      "Svt[info]: SVT [config]: AQ mode / variance boost \t\t\t\t\t: 2 / 0\n",
      "Svt[info]: -------------------------------------------\n",
      "Svt[info]: -------------------------------------------\n",
      "Svt[info]: SVT [version]:\tSVT-AV1 Encoder Lib v2.3.0-61-g66fb0f59\n",
      "Svt[info]: SVT [build]  :\tGCC 11.4.0\t 64 bit\n",
      "Svt[info]: LIB Build date: Nov 27 2024 13:20:34\n",
      "Svt[info]: -------------------------------------------\n",
      "Svt[info]: Level of Parallelism: 5\n",
      "Svt[info]: Number of PPCS 76\n",
      "Svt[info]: [asm level on system : up to avx2]\n",
      "Svt[info]: [asm level selected : up to avx2]\n",
      "Svt[info]: -------------------------------------------\n",
      "Svt[info]: SVT [config]: main profile\ttier (auto)\tlevel (auto)\n",
      "Svt[info]: SVT [config]: width / height / fps numerator / fps denominator \t\t: 96 / 96 / 10 / 1\n",
      "Svt[info]: SVT [config]: bit-depth / color format \t\t\t\t\t: 8 / YUV420\n",
      "Svt[info]: SVT [config]: preset / tune / pred struct \t\t\t\t\t: 10 / PSNR / random access\n",
      "Svt[info]: SVT [config]: gop size / mini-gop size / key-frame type \t\t\t: 2 / 16 / key frame\n",
      "Svt[info]: SVT [config]: BRC mode / rate factor \t\t\t\t\t: CRF / 30 \n",
      "Svt[info]: SVT [config]: AQ mode / variance boost \t\t\t\t\t: 2 / 0\n",
      "Svt[info]: -------------------------------------------\n",
      "Svt[info]: -------------------------------------------\n",
      "Svt[info]: SVT [version]:\tSVT-AV1 Encoder Lib v2.3.0-61-g66fb0f59\n",
      "Svt[info]: SVT [build]  :\tGCC 11.4.0\t 64 bit\n",
      "Svt[info]: LIB Build date: Nov 27 2024 13:20:34\n",
      "Svt[info]: -------------------------------------------\n",
      "Svt[info]: Level of Parallelism: 5\n",
      "Svt[info]: Number of PPCS 76\n",
      "Svt[info]: [asm level on system : up to avx2]\n",
      "Svt[info]: [asm level selected : up to avx2]\n",
      "Svt[info]: -------------------------------------------\n",
      "Svt[info]: SVT [config]: main profile\ttier (auto)\tlevel (auto)\n",
      "Svt[info]: SVT [config]: width / height / fps numerator / fps denominator \t\t: 96 / 96 / 10 / 1\n",
      "Svt[info]: SVT [config]: bit-depth / color format \t\t\t\t\t: 8 / YUV420\n",
      "Svt[info]: SVT [config]: preset / tune / pred struct \t\t\t\t\t: 10 / PSNR / random access\n",
      "Svt[info]: SVT [config]: gop size / mini-gop size / key-frame type \t\t\t: 2 / 16 / key frame\n",
      "Svt[info]: SVT [config]: BRC mode / rate factor \t\t\t\t\t: CRF / 30 \n",
      "Svt[info]: SVT [config]: AQ mode / variance boost \t\t\t\t\t: 2 / 0\n",
      "Svt[info]: -------------------------------------------\n",
      "Svt[info]: -------------------------------------------\n",
      "Svt[info]: SVT [version]:\tSVT-AV1 Encoder Lib v2.3.0-61-g66fb0f59\n",
      "Svt[info]: SVT [build]  :\tGCC 11.4.0\t 64 bit\n",
      "Svt[info]: LIB Build date: Nov 27 2024 13:20:34\n",
      "Svt[info]: -------------------------------------------\n",
      "Svt[info]: Level of Parallelism: 5\n",
      "Svt[info]: Number of PPCS 76\n",
      "Svt[info]: [asm level on system : up to avx2]\n",
      "Svt[info]: [asm level selected : up to avx2]\n",
      "Svt[info]: -------------------------------------------\n",
      "Svt[info]: SVT [config]: main profile\ttier (auto)\tlevel (auto)\n",
      "Svt[info]: SVT [config]: width / height / fps numerator / fps denominator \t\t: 96 / 96 / 10 / 1\n",
      "Svt[info]: SVT [config]: bit-depth / color format \t\t\t\t\t: 8 / YUV420\n",
      "Svt[info]: SVT [config]: preset / tune / pred struct \t\t\t\t\t: 10 / PSNR / random access\n",
      "Svt[info]: SVT [config]: gop size / mini-gop size / key-frame type \t\t\t: 2 / 16 / key frame\n",
      "Svt[info]: SVT [config]: BRC mode / rate factor \t\t\t\t\t: CRF / 30 \n",
      "Svt[info]: SVT [config]: AQ mode / variance boost \t\t\t\t\t: 2 / 0\n",
      "Svt[info]: -------------------------------------------\n",
      "Svt[info]: -------------------------------------------\n",
      "Svt[info]: SVT [version]:\tSVT-AV1 Encoder Lib v2.3.0-61-g66fb0f59\n",
      "Svt[info]: SVT [build]  :\tGCC 11.4.0\t 64 bit\n",
      "Svt[info]: LIB Build date: Nov 27 2024 13:20:34\n",
      "Svt[info]: -------------------------------------------\n",
      "Svt[info]: Level of Parallelism: 5\n",
      "Svt[info]: Number of PPCS 76\n",
      "Svt[info]: [asm level on system : up to avx2]\n",
      "Svt[info]: [asm level selected : up to avx2]\n",
      "Svt[info]: -------------------------------------------\n",
      "Svt[info]: SVT [config]: main profile\ttier (auto)\tlevel (auto)\n",
      "Svt[info]: SVT [config]: width / height / fps numerator / fps denominator \t\t: 96 / 96 / 10 / 1\n",
      "Svt[info]: SVT [config]: bit-depth / color format \t\t\t\t\t: 8 / YUV420\n",
      "Svt[info]: SVT [config]: preset / tune / pred struct \t\t\t\t\t: 10 / PSNR / random access\n",
      "Svt[info]: SVT [config]: gop size / mini-gop size / key-frame type \t\t\t: 2 / 16 / key frame\n",
      "Svt[info]: SVT [config]: BRC mode / rate factor \t\t\t\t\t: CRF / 30 \n",
      "Svt[info]: SVT [config]: AQ mode / variance boost \t\t\t\t\t: 2 / 0\n",
      "Svt[info]: -------------------------------------------\n",
      "Svt[info]: -------------------------------------------\n",
      "Svt[info]: SVT [version]:\tSVT-AV1 Encoder Lib v2.3.0-61-g66fb0f59\n",
      "Svt[info]: SVT [build]  :\tGCC 11.4.0\t 64 bit\n",
      "Svt[info]: LIB Build date: Nov 27 2024 13:20:34\n",
      "Svt[info]: -------------------------------------------\n",
      "Svt[info]: Level of Parallelism: 5\n",
      "Svt[info]: Number of PPCS 76\n",
      "Svt[info]: [asm level on system : up to avx2]\n",
      "Svt[info]: [asm level selected : up to avx2]\n",
      "Svt[info]: -------------------------------------------\n",
      "Svt[info]: SVT [config]: main profile\ttier (auto)\tlevel (auto)\n",
      "Svt[info]: SVT [config]: width / height / fps numerator / fps denominator \t\t: 96 / 96 / 10 / 1\n",
      "Svt[info]: SVT [config]: bit-depth / color format \t\t\t\t\t: 8 / YUV420\n",
      "Svt[info]: SVT [config]: preset / tune / pred struct \t\t\t\t\t: 10 / PSNR / random access\n",
      "Svt[info]: SVT [config]: gop size / mini-gop size / key-frame type \t\t\t: 2 / 16 / key frame\n",
      "Svt[info]: SVT [config]: BRC mode / rate factor \t\t\t\t\t: CRF / 30 \n",
      "Svt[info]: SVT [config]: AQ mode / variance boost \t\t\t\t\t: 2 / 0\n",
      "Svt[info]: -------------------------------------------\n",
      "Svt[info]: -------------------------------------------\n",
      "Svt[info]: SVT [version]:\tSVT-AV1 Encoder Lib v2.3.0-61-g66fb0f59\n",
      "Svt[info]: SVT [build]  :\tGCC 11.4.0\t 64 bit\n",
      "Svt[info]: LIB Build date: Nov 27 2024 13:20:34\n",
      "Svt[info]: -------------------------------------------\n",
      "Svt[info]: Level of Parallelism: 5\n",
      "Svt[info]: Number of PPCS 76\n",
      "Svt[info]: [asm level on system : up to avx2]\n",
      "Svt[info]: [asm level selected : up to avx2]\n",
      "Svt[info]: -------------------------------------------\n",
      "Svt[info]: SVT [config]: main profile\ttier (auto)\tlevel (auto)\n",
      "Svt[info]: SVT [config]: width / height / fps numerator / fps denominator \t\t: 96 / 96 / 10 / 1\n",
      "Svt[info]: SVT [config]: bit-depth / color format \t\t\t\t\t: 8 / YUV420\n",
      "Svt[info]: SVT [config]: preset / tune / pred struct \t\t\t\t\t: 10 / PSNR / random access\n",
      "Svt[info]: SVT [config]: gop size / mini-gop size / key-frame type \t\t\t: 2 / 16 / key frame\n",
      "Svt[info]: SVT [config]: BRC mode / rate factor \t\t\t\t\t: CRF / 30 \n",
      "Svt[info]: SVT [config]: AQ mode / variance boost \t\t\t\t\t: 2 / 0\n",
      "Svt[info]: -------------------------------------------\n",
      "Svt[info]: -------------------------------------------\n",
      "Svt[info]: SVT [version]:\tSVT-AV1 Encoder Lib v2.3.0-61-g66fb0f59\n",
      "Svt[info]: SVT [build]  :\tGCC 11.4.0\t 64 bit\n",
      "Svt[info]: LIB Build date: Nov 27 2024 13:20:34\n",
      "Svt[info]: -------------------------------------------\n",
      "Svt[info]: Level of Parallelism: 5\n",
      "Svt[info]: Number of PPCS 76\n",
      "Svt[info]: [asm level on system : up to avx2]\n",
      "Svt[info]: [asm level selected : up to avx2]\n",
      "Svt[info]: -------------------------------------------\n",
      "Svt[info]: SVT [config]: main profile\ttier (auto)\tlevel (auto)\n",
      "Svt[info]: SVT [config]: width / height / fps numerator / fps denominator \t\t: 96 / 96 / 10 / 1\n",
      "Svt[info]: SVT [config]: bit-depth / color format \t\t\t\t\t: 8 / YUV420\n",
      "Svt[info]: SVT [config]: preset / tune / pred struct \t\t\t\t\t: 10 / PSNR / random access\n",
      "Svt[info]: SVT [config]: gop size / mini-gop size / key-frame type \t\t\t: 2 / 16 / key frame\n",
      "Svt[info]: SVT [config]: BRC mode / rate factor \t\t\t\t\t: CRF / 30 \n",
      "Svt[info]: SVT [config]: AQ mode / variance boost \t\t\t\t\t: 2 / 0\n",
      "Svt[info]: -------------------------------------------\n",
      "Svt[info]: -------------------------------------------\n",
      "Svt[info]: SVT [version]:\tSVT-AV1 Encoder Lib v2.3.0-61-g66fb0f59\n",
      "Svt[info]: SVT [build]  :\tGCC 11.4.0\t 64 bit\n",
      "Svt[info]: LIB Build date: Nov 27 2024 13:20:34\n",
      "Svt[info]: -------------------------------------------\n",
      "Svt[info]: Level of Parallelism: 5\n",
      "Svt[info]: Number of PPCS 76\n",
      "Svt[info]: [asm level on system : up to avx2]\n",
      "Svt[info]: [asm level selected : up to avx2]\n",
      "Svt[info]: -------------------------------------------\n",
      "Svt[info]: SVT [config]: main profile\ttier (auto)\tlevel (auto)\n",
      "Svt[info]: SVT [config]: width / height / fps numerator / fps denominator \t\t: 96 / 96 / 10 / 1\n",
      "Svt[info]: SVT [config]: bit-depth / color format \t\t\t\t\t: 8 / YUV420\n",
      "Svt[info]: SVT [config]: preset / tune / pred struct \t\t\t\t\t: 10 / PSNR / random access\n",
      "Svt[info]: SVT [config]: gop size / mini-gop size / key-frame type \t\t\t: 2 / 16 / key frame\n",
      "Svt[info]: SVT [config]: BRC mode / rate factor \t\t\t\t\t: CRF / 30 \n",
      "Svt[info]: SVT [config]: AQ mode / variance boost \t\t\t\t\t: 2 / 0\n",
      "Svt[info]: -------------------------------------------\n",
      "Svt[info]: -------------------------------------------\n",
      "Svt[info]: SVT [version]:\tSVT-AV1 Encoder Lib v2.3.0-61-g66fb0f59\n",
      "Svt[info]: SVT [build]  :\tGCC 11.4.0\t 64 bit\n",
      "Svt[info]: LIB Build date: Nov 27 2024 13:20:34\n",
      "Svt[info]: -------------------------------------------\n",
      "Svt[info]: Level of Parallelism: 5\n",
      "Svt[info]: Number of PPCS 76\n",
      "Svt[info]: [asm level on system : up to avx2]\n",
      "Svt[info]: [asm level selected : up to avx2]\n",
      "Svt[info]: -------------------------------------------\n",
      "Svt[info]: SVT [config]: main profile\ttier (auto)\tlevel (auto)\n",
      "Svt[info]: SVT [config]: width / height / fps numerator / fps denominator \t\t: 96 / 96 / 10 / 1\n",
      "Svt[info]: SVT [config]: bit-depth / color format \t\t\t\t\t: 8 / YUV420\n",
      "Svt[info]: SVT [config]: preset / tune / pred struct \t\t\t\t\t: 10 / PSNR / random access\n",
      "Svt[info]: SVT [config]: gop size / mini-gop size / key-frame type \t\t\t: 2 / 16 / key frame\n",
      "Svt[info]: SVT [config]: BRC mode / rate factor \t\t\t\t\t: CRF / 30 \n",
      "Svt[info]: SVT [config]: AQ mode / variance boost \t\t\t\t\t: 2 / 0\n",
      "Svt[info]: -------------------------------------------\n",
      "Svt[info]: -------------------------------------------\n",
      "Svt[info]: SVT [version]:\tSVT-AV1 Encoder Lib v2.3.0-61-g66fb0f59\n",
      "Svt[info]: SVT [build]  :\tGCC 11.4.0\t 64 bit\n",
      "Svt[info]: LIB Build date: Nov 27 2024 13:20:34\n",
      "Svt[info]: -------------------------------------------\n",
      "Svt[info]: Level of Parallelism: 5\n",
      "Svt[info]: Number of PPCS 76\n",
      "Svt[info]: [asm level on system : up to avx2]\n",
      "Svt[info]: [asm level selected : up to avx2]\n",
      "Svt[info]: -------------------------------------------\n",
      "Svt[info]: SVT [config]: main profile\ttier (auto)\tlevel (auto)\n",
      "Svt[info]: SVT [config]: width / height / fps numerator / fps denominator \t\t: 96 / 96 / 10 / 1\n",
      "Svt[info]: SVT [config]: bit-depth / color format \t\t\t\t\t: 8 / YUV420\n",
      "Svt[info]: SVT [config]: preset / tune / pred struct \t\t\t\t\t: 10 / PSNR / random access\n",
      "Svt[info]: SVT [config]: gop size / mini-gop size / key-frame type \t\t\t: 2 / 16 / key frame\n",
      "Svt[info]: SVT [config]: BRC mode / rate factor \t\t\t\t\t: CRF / 30 \n",
      "Svt[info]: SVT [config]: AQ mode / variance boost \t\t\t\t\t: 2 / 0\n",
      "Svt[info]: -------------------------------------------\n",
      "Svt[info]: -------------------------------------------\n",
      "Svt[info]: SVT [version]:\tSVT-AV1 Encoder Lib v2.3.0-61-g66fb0f59\n",
      "Svt[info]: SVT [build]  :\tGCC 11.4.0\t 64 bit\n",
      "Svt[info]: LIB Build date: Nov 27 2024 13:20:34\n",
      "Svt[info]: -------------------------------------------\n",
      "Svt[info]: Level of Parallelism: 5\n",
      "Svt[info]: Number of PPCS 76\n",
      "Svt[info]: [asm level on system : up to avx2]\n",
      "Svt[info]: [asm level selected : up to avx2]\n",
      "Svt[info]: -------------------------------------------\n",
      "Svt[info]: SVT [config]: main profile\ttier (auto)\tlevel (auto)\n",
      "Svt[info]: SVT [config]: width / height / fps numerator / fps denominator \t\t: 96 / 96 / 10 / 1\n",
      "Svt[info]: SVT [config]: bit-depth / color format \t\t\t\t\t: 8 / YUV420\n",
      "Svt[info]: SVT [config]: preset / tune / pred struct \t\t\t\t\t: 10 / PSNR / random access\n",
      "Svt[info]: SVT [config]: gop size / mini-gop size / key-frame type \t\t\t: 2 / 16 / key frame\n",
      "Svt[info]: SVT [config]: BRC mode / rate factor \t\t\t\t\t: CRF / 30 \n",
      "Svt[info]: SVT [config]: AQ mode / variance boost \t\t\t\t\t: 2 / 0\n",
      "Svt[info]: -------------------------------------------\n",
      "Svt[info]: -------------------------------------------\n",
      "Svt[info]: SVT [version]:\tSVT-AV1 Encoder Lib v2.3.0-61-g66fb0f59\n",
      "Svt[info]: SVT [build]  :\tGCC 11.4.0\t 64 bit\n",
      "Svt[info]: LIB Build date: Nov 27 2024 13:20:34\n",
      "Svt[info]: -------------------------------------------\n",
      "Svt[info]: Level of Parallelism: 5\n",
      "Svt[info]: Number of PPCS 76\n",
      "Svt[info]: [asm level on system : up to avx2]\n",
      "Svt[info]: [asm level selected : up to avx2]\n",
      "Svt[info]: -------------------------------------------\n",
      "Svt[info]: SVT [config]: main profile\ttier (auto)\tlevel (auto)\n",
      "Svt[info]: SVT [config]: width / height / fps numerator / fps denominator \t\t: 96 / 96 / 10 / 1\n",
      "Svt[info]: SVT [config]: bit-depth / color format \t\t\t\t\t: 8 / YUV420\n",
      "Svt[info]: SVT [config]: preset / tune / pred struct \t\t\t\t\t: 10 / PSNR / random access\n",
      "Svt[info]: SVT [config]: gop size / mini-gop size / key-frame type \t\t\t: 2 / 16 / key frame\n",
      "Svt[info]: SVT [config]: BRC mode / rate factor \t\t\t\t\t: CRF / 30 \n",
      "Svt[info]: SVT [config]: AQ mode / variance boost \t\t\t\t\t: 2 / 0\n",
      "Svt[info]: -------------------------------------------\n",
      "Svt[info]: -------------------------------------------\n",
      "Svt[info]: SVT [version]:\tSVT-AV1 Encoder Lib v2.3.0-61-g66fb0f59\n",
      "Svt[info]: SVT [build]  :\tGCC 11.4.0\t 64 bit\n",
      "Svt[info]: LIB Build date: Nov 27 2024 13:20:34\n",
      "Svt[info]: -------------------------------------------\n",
      "Svt[info]: Level of Parallelism: 5\n",
      "Svt[info]: Number of PPCS 76\n",
      "Svt[info]: [asm level on system : up to avx2]\n",
      "Svt[info]: [asm level selected : up to avx2]\n",
      "Svt[info]: -------------------------------------------\n",
      "Svt[info]: SVT [config]: main profile\ttier (auto)\tlevel (auto)\n",
      "Svt[info]: SVT [config]: width / height / fps numerator / fps denominator \t\t: 96 / 96 / 10 / 1\n",
      "Svt[info]: SVT [config]: bit-depth / color format \t\t\t\t\t: 8 / YUV420\n",
      "Svt[info]: SVT [config]: preset / tune / pred struct \t\t\t\t\t: 10 / PSNR / random access\n",
      "Svt[info]: SVT [config]: gop size / mini-gop size / key-frame type \t\t\t: 2 / 16 / key frame\n",
      "Svt[info]: SVT [config]: BRC mode / rate factor \t\t\t\t\t: CRF / 30 \n",
      "Svt[info]: SVT [config]: AQ mode / variance boost \t\t\t\t\t: 2 / 0\n",
      "Svt[info]: -------------------------------------------\n",
      "Svt[info]: -------------------------------------------\n",
      "Svt[info]: SVT [version]:\tSVT-AV1 Encoder Lib v2.3.0-61-g66fb0f59\n",
      "Svt[info]: SVT [build]  :\tGCC 11.4.0\t 64 bit\n",
      "Svt[info]: LIB Build date: Nov 27 2024 13:20:34\n",
      "Svt[info]: -------------------------------------------\n",
      "Svt[info]: Level of Parallelism: 5\n",
      "Svt[info]: Number of PPCS 76\n",
      "Svt[info]: [asm level on system : up to avx2]\n",
      "Svt[info]: [asm level selected : up to avx2]\n",
      "Svt[info]: -------------------------------------------\n",
      "Svt[info]: SVT [config]: main profile\ttier (auto)\tlevel (auto)\n",
      "Svt[info]: SVT [config]: width / height / fps numerator / fps denominator \t\t: 96 / 96 / 10 / 1\n",
      "Svt[info]: SVT [config]: bit-depth / color format \t\t\t\t\t: 8 / YUV420\n",
      "Svt[info]: SVT [config]: preset / tune / pred struct \t\t\t\t\t: 10 / PSNR / random access\n",
      "Svt[info]: SVT [config]: gop size / mini-gop size / key-frame type \t\t\t: 2 / 16 / key frame\n",
      "Svt[info]: SVT [config]: BRC mode / rate factor \t\t\t\t\t: CRF / 30 \n",
      "Svt[info]: SVT [config]: AQ mode / variance boost \t\t\t\t\t: 2 / 0\n",
      "Svt[info]: -------------------------------------------\n",
      "Svt[info]: -------------------------------------------\n",
      "Svt[info]: SVT [version]:\tSVT-AV1 Encoder Lib v2.3.0-61-g66fb0f59\n",
      "Svt[info]: SVT [build]  :\tGCC 11.4.0\t 64 bit\n",
      "Svt[info]: LIB Build date: Nov 27 2024 13:20:34\n",
      "Svt[info]: -------------------------------------------\n",
      "Svt[info]: Level of Parallelism: 5\n",
      "Svt[info]: Number of PPCS 76\n",
      "Svt[info]: [asm level on system : up to avx2]\n",
      "Svt[info]: [asm level selected : up to avx2]\n",
      "Svt[info]: -------------------------------------------\n",
      "Svt[info]: SVT [config]: main profile\ttier (auto)\tlevel (auto)\n",
      "Svt[info]: SVT [config]: width / height / fps numerator / fps denominator \t\t: 96 / 96 / 10 / 1\n",
      "Svt[info]: SVT [config]: bit-depth / color format \t\t\t\t\t: 8 / YUV420\n",
      "Svt[info]: SVT [config]: preset / tune / pred struct \t\t\t\t\t: 10 / PSNR / random access\n",
      "Svt[info]: SVT [config]: gop size / mini-gop size / key-frame type \t\t\t: 2 / 16 / key frame\n",
      "Svt[info]: SVT [config]: BRC mode / rate factor \t\t\t\t\t: CRF / 30 \n",
      "Svt[info]: SVT [config]: AQ mode / variance boost \t\t\t\t\t: 2 / 0\n",
      "Svt[info]: -------------------------------------------\n",
      "Svt[info]: -------------------------------------------\n",
      "Svt[info]: SVT [version]:\tSVT-AV1 Encoder Lib v2.3.0-61-g66fb0f59\n",
      "Svt[info]: SVT [build]  :\tGCC 11.4.0\t 64 bit\n",
      "Svt[info]: LIB Build date: Nov 27 2024 13:20:34\n",
      "Svt[info]: -------------------------------------------\n",
      "Svt[info]: Level of Parallelism: 5\n",
      "Svt[info]: Number of PPCS 76\n",
      "Svt[info]: [asm level on system : up to avx2]\n",
      "Svt[info]: [asm level selected : up to avx2]\n",
      "Svt[info]: -------------------------------------------\n",
      "Svt[info]: SVT [config]: main profile\ttier (auto)\tlevel (auto)\n",
      "Svt[info]: SVT [config]: width / height / fps numerator / fps denominator \t\t: 96 / 96 / 10 / 1\n",
      "Svt[info]: SVT [config]: bit-depth / color format \t\t\t\t\t: 8 / YUV420\n",
      "Svt[info]: SVT [config]: preset / tune / pred struct \t\t\t\t\t: 10 / PSNR / random access\n",
      "Svt[info]: SVT [config]: gop size / mini-gop size / key-frame type \t\t\t: 2 / 16 / key frame\n",
      "Svt[info]: SVT [config]: BRC mode / rate factor \t\t\t\t\t: CRF / 30 \n",
      "Svt[info]: SVT [config]: AQ mode / variance boost \t\t\t\t\t: 2 / 0\n",
      "Svt[info]: -------------------------------------------\n",
      "Svt[info]: -------------------------------------------\n",
      "Svt[info]: SVT [version]:\tSVT-AV1 Encoder Lib v2.3.0-61-g66fb0f59\n",
      "Svt[info]: SVT [build]  :\tGCC 11.4.0\t 64 bit\n",
      "Svt[info]: LIB Build date: Nov 27 2024 13:20:34\n",
      "Svt[info]: -------------------------------------------\n",
      "Svt[info]: Level of Parallelism: 5\n",
      "Svt[info]: Number of PPCS 76\n",
      "Svt[info]: [asm level on system : up to avx2]\n",
      "Svt[info]: [asm level selected : up to avx2]\n",
      "Svt[info]: -------------------------------------------\n",
      "Svt[info]: SVT [config]: main profile\ttier (auto)\tlevel (auto)\n",
      "Svt[info]: SVT [config]: width / height / fps numerator / fps denominator \t\t: 96 / 96 / 10 / 1\n",
      "Svt[info]: SVT [config]: bit-depth / color format \t\t\t\t\t: 8 / YUV420\n",
      "Svt[info]: SVT [config]: preset / tune / pred struct \t\t\t\t\t: 10 / PSNR / random access\n",
      "Svt[info]: SVT [config]: gop size / mini-gop size / key-frame type \t\t\t: 2 / 16 / key frame\n",
      "Svt[info]: SVT [config]: BRC mode / rate factor \t\t\t\t\t: CRF / 30 \n",
      "Svt[info]: SVT [config]: AQ mode / variance boost \t\t\t\t\t: 2 / 0\n",
      "Svt[info]: -------------------------------------------\n",
      "Svt[info]: -------------------------------------------\n",
      "Svt[info]: SVT [version]:\tSVT-AV1 Encoder Lib v2.3.0-61-g66fb0f59\n",
      "Svt[info]: SVT [build]  :\tGCC 11.4.0\t 64 bit\n",
      "Svt[info]: LIB Build date: Nov 27 2024 13:20:34\n",
      "Svt[info]: -------------------------------------------\n",
      "Svt[info]: Level of Parallelism: 5\n",
      "Svt[info]: Number of PPCS 76\n",
      "Svt[info]: [asm level on system : up to avx2]\n",
      "Svt[info]: [asm level selected : up to avx2]\n",
      "Svt[info]: -------------------------------------------\n",
      "Svt[info]: SVT [config]: main profile\ttier (auto)\tlevel (auto)\n",
      "Svt[info]: SVT [config]: width / height / fps numerator / fps denominator \t\t: 96 / 96 / 10 / 1\n",
      "Svt[info]: SVT [config]: bit-depth / color format \t\t\t\t\t: 8 / YUV420\n",
      "Svt[info]: SVT [config]: preset / tune / pred struct \t\t\t\t\t: 10 / PSNR / random access\n",
      "Svt[info]: SVT [config]: gop size / mini-gop size / key-frame type \t\t\t: 2 / 16 / key frame\n",
      "Svt[info]: SVT [config]: BRC mode / rate factor \t\t\t\t\t: CRF / 30 \n",
      "Svt[info]: SVT [config]: AQ mode / variance boost \t\t\t\t\t: 2 / 0\n",
      "Svt[info]: -------------------------------------------\n",
      "Svt[info]: -------------------------------------------\n",
      "Svt[info]: SVT [version]:\tSVT-AV1 Encoder Lib v2.3.0-61-g66fb0f59\n",
      "Svt[info]: SVT [build]  :\tGCC 11.4.0\t 64 bit\n",
      "Svt[info]: LIB Build date: Nov 27 2024 13:20:34\n",
      "Svt[info]: -------------------------------------------\n",
      "Svt[info]: Level of Parallelism: 5\n",
      "Svt[info]: Number of PPCS 76\n",
      "Svt[info]: [asm level on system : up to avx2]\n",
      "Svt[info]: [asm level selected : up to avx2]\n",
      "Svt[info]: -------------------------------------------\n",
      "Svt[info]: SVT [config]: main profile\ttier (auto)\tlevel (auto)\n",
      "Svt[info]: SVT [config]: width / height / fps numerator / fps denominator \t\t: 96 / 96 / 10 / 1\n",
      "Svt[info]: SVT [config]: bit-depth / color format \t\t\t\t\t: 8 / YUV420\n",
      "Svt[info]: SVT [config]: preset / tune / pred struct \t\t\t\t\t: 10 / PSNR / random access\n",
      "Svt[info]: SVT [config]: gop size / mini-gop size / key-frame type \t\t\t: 2 / 16 / key frame\n",
      "Svt[info]: SVT [config]: BRC mode / rate factor \t\t\t\t\t: CRF / 30 \n",
      "Svt[info]: SVT [config]: AQ mode / variance boost \t\t\t\t\t: 2 / 0\n",
      "Svt[info]: -------------------------------------------\n",
      "Svt[info]: -------------------------------------------\n",
      "Svt[info]: SVT [version]:\tSVT-AV1 Encoder Lib v2.3.0-61-g66fb0f59\n",
      "Svt[info]: SVT [build]  :\tGCC 11.4.0\t 64 bit\n",
      "Svt[info]: LIB Build date: Nov 27 2024 13:20:34\n",
      "Svt[info]: -------------------------------------------\n",
      "Svt[info]: Level of Parallelism: 5\n",
      "Svt[info]: Number of PPCS 76\n",
      "Svt[info]: [asm level on system : up to avx2]\n",
      "Svt[info]: [asm level selected : up to avx2]\n",
      "Svt[info]: -------------------------------------------\n",
      "Svt[info]: SVT [config]: main profile\ttier (auto)\tlevel (auto)\n",
      "Svt[info]: SVT [config]: width / height / fps numerator / fps denominator \t\t: 96 / 96 / 10 / 1\n",
      "Svt[info]: SVT [config]: bit-depth / color format \t\t\t\t\t: 8 / YUV420\n",
      "Svt[info]: SVT [config]: preset / tune / pred struct \t\t\t\t\t: 10 / PSNR / random access\n",
      "Svt[info]: SVT [config]: gop size / mini-gop size / key-frame type \t\t\t: 2 / 16 / key frame\n",
      "Svt[info]: SVT [config]: BRC mode / rate factor \t\t\t\t\t: CRF / 30 \n",
      "Svt[info]: SVT [config]: AQ mode / variance boost \t\t\t\t\t: 2 / 0\n",
      "Svt[info]: -------------------------------------------\n",
      "Svt[info]: -------------------------------------------\n",
      "Svt[info]: SVT [version]:\tSVT-AV1 Encoder Lib v2.3.0-61-g66fb0f59\n",
      "Svt[info]: SVT [build]  :\tGCC 11.4.0\t 64 bit\n",
      "Svt[info]: LIB Build date: Nov 27 2024 13:20:34\n",
      "Svt[info]: -------------------------------------------\n",
      "Svt[info]: Level of Parallelism: 5\n",
      "Svt[info]: Number of PPCS 76\n",
      "Svt[info]: [asm level on system : up to avx2]\n",
      "Svt[info]: [asm level selected : up to avx2]\n",
      "Svt[info]: -------------------------------------------\n",
      "Svt[info]: SVT [config]: main profile\ttier (auto)\tlevel (auto)\n",
      "Svt[info]: SVT [config]: width / height / fps numerator / fps denominator \t\t: 96 / 96 / 10 / 1\n",
      "Svt[info]: SVT [config]: bit-depth / color format \t\t\t\t\t: 8 / YUV420\n",
      "Svt[info]: SVT [config]: preset / tune / pred struct \t\t\t\t\t: 10 / PSNR / random access\n",
      "Svt[info]: SVT [config]: gop size / mini-gop size / key-frame type \t\t\t: 2 / 16 / key frame\n",
      "Svt[info]: SVT [config]: BRC mode / rate factor \t\t\t\t\t: CRF / 30 \n",
      "Svt[info]: SVT [config]: AQ mode / variance boost \t\t\t\t\t: 2 / 0\n",
      "Svt[info]: -------------------------------------------\n",
      "Svt[info]: -------------------------------------------\n",
      "Svt[info]: SVT [version]:\tSVT-AV1 Encoder Lib v2.3.0-61-g66fb0f59\n",
      "Svt[info]: SVT [build]  :\tGCC 11.4.0\t 64 bit\n",
      "Svt[info]: LIB Build date: Nov 27 2024 13:20:34\n",
      "Svt[info]: -------------------------------------------\n",
      "Svt[info]: Level of Parallelism: 5\n",
      "Svt[info]: Number of PPCS 76\n",
      "Svt[info]: [asm level on system : up to avx2]\n",
      "Svt[info]: [asm level selected : up to avx2]\n",
      "Svt[info]: -------------------------------------------\n",
      "Svt[info]: SVT [config]: main profile\ttier (auto)\tlevel (auto)\n",
      "Svt[info]: SVT [config]: width / height / fps numerator / fps denominator \t\t: 96 / 96 / 10 / 1\n",
      "Svt[info]: SVT [config]: bit-depth / color format \t\t\t\t\t: 8 / YUV420\n",
      "Svt[info]: SVT [config]: preset / tune / pred struct \t\t\t\t\t: 10 / PSNR / random access\n",
      "Svt[info]: SVT [config]: gop size / mini-gop size / key-frame type \t\t\t: 2 / 16 / key frame\n",
      "Svt[info]: SVT [config]: BRC mode / rate factor \t\t\t\t\t: CRF / 30 \n",
      "Svt[info]: SVT [config]: AQ mode / variance boost \t\t\t\t\t: 2 / 0\n",
      "Svt[info]: -------------------------------------------\n",
      "Svt[info]: -------------------------------------------\n",
      "Svt[info]: SVT [version]:\tSVT-AV1 Encoder Lib v2.3.0-61-g66fb0f59\n",
      "Svt[info]: SVT [build]  :\tGCC 11.4.0\t 64 bit\n",
      "Svt[info]: LIB Build date: Nov 27 2024 13:20:34\n",
      "Svt[info]: -------------------------------------------\n",
      "Svt[info]: Level of Parallelism: 5\n",
      "Svt[info]: Number of PPCS 76\n",
      "Svt[info]: [asm level on system : up to avx2]\n",
      "Svt[info]: [asm level selected : up to avx2]\n",
      "Svt[info]: -------------------------------------------\n",
      "Svt[info]: SVT [config]: main profile\ttier (auto)\tlevel (auto)\n",
      "Svt[info]: SVT [config]: width / height / fps numerator / fps denominator \t\t: 96 / 96 / 10 / 1\n",
      "Svt[info]: SVT [config]: bit-depth / color format \t\t\t\t\t: 8 / YUV420\n",
      "Svt[info]: SVT [config]: preset / tune / pred struct \t\t\t\t\t: 10 / PSNR / random access\n",
      "Svt[info]: SVT [config]: gop size / mini-gop size / key-frame type \t\t\t: 2 / 16 / key frame\n",
      "Svt[info]: SVT [config]: BRC mode / rate factor \t\t\t\t\t: CRF / 30 \n",
      "Svt[info]: SVT [config]: AQ mode / variance boost \t\t\t\t\t: 2 / 0\n",
      "Svt[info]: -------------------------------------------\n",
      "Svt[info]: -------------------------------------------\n",
      "Svt[info]: SVT [version]:\tSVT-AV1 Encoder Lib v2.3.0-61-g66fb0f59\n",
      "Svt[info]: SVT [build]  :\tGCC 11.4.0\t 64 bit\n",
      "Svt[info]: LIB Build date: Nov 27 2024 13:20:34\n",
      "Svt[info]: -------------------------------------------\n",
      "Svt[info]: Level of Parallelism: 5\n",
      "Svt[info]: Number of PPCS 76\n",
      "Svt[info]: [asm level on system : up to avx2]\n",
      "Svt[info]: [asm level selected : up to avx2]\n",
      "Svt[info]: -------------------------------------------\n",
      "Svt[info]: SVT [config]: main profile\ttier (auto)\tlevel (auto)\n",
      "Svt[info]: SVT [config]: width / height / fps numerator / fps denominator \t\t: 96 / 96 / 10 / 1\n",
      "Svt[info]: SVT [config]: bit-depth / color format \t\t\t\t\t: 8 / YUV420\n",
      "Svt[info]: SVT [config]: preset / tune / pred struct \t\t\t\t\t: 10 / PSNR / random access\n",
      "Svt[info]: SVT [config]: gop size / mini-gop size / key-frame type \t\t\t: 2 / 16 / key frame\n",
      "Svt[info]: SVT [config]: BRC mode / rate factor \t\t\t\t\t: CRF / 30 \n",
      "Svt[info]: SVT [config]: AQ mode / variance boost \t\t\t\t\t: 2 / 0\n",
      "Svt[info]: -------------------------------------------\n",
      "Svt[info]: -------------------------------------------\n",
      "Svt[info]: SVT [version]:\tSVT-AV1 Encoder Lib v2.3.0-61-g66fb0f59\n",
      "Svt[info]: SVT [build]  :\tGCC 11.4.0\t 64 bit\n",
      "Svt[info]: LIB Build date: Nov 27 2024 13:20:34\n",
      "Svt[info]: -------------------------------------------\n",
      "Svt[info]: Level of Parallelism: 5\n",
      "Svt[info]: Number of PPCS 76\n",
      "Svt[info]: [asm level on system : up to avx2]\n",
      "Svt[info]: [asm level selected : up to avx2]\n",
      "Svt[info]: -------------------------------------------\n",
      "Svt[info]: SVT [config]: main profile\ttier (auto)\tlevel (auto)\n",
      "Svt[info]: SVT [config]: width / height / fps numerator / fps denominator \t\t: 96 / 96 / 10 / 1\n",
      "Svt[info]: SVT [config]: bit-depth / color format \t\t\t\t\t: 8 / YUV420\n",
      "Svt[info]: SVT [config]: preset / tune / pred struct \t\t\t\t\t: 10 / PSNR / random access\n",
      "Svt[info]: SVT [config]: gop size / mini-gop size / key-frame type \t\t\t: 2 / 16 / key frame\n",
      "Svt[info]: SVT [config]: BRC mode / rate factor \t\t\t\t\t: CRF / 30 \n",
      "Svt[info]: SVT [config]: AQ mode / variance boost \t\t\t\t\t: 2 / 0\n",
      "Svt[info]: -------------------------------------------\n",
      "Svt[info]: -------------------------------------------\n",
      "Svt[info]: SVT [version]:\tSVT-AV1 Encoder Lib v2.3.0-61-g66fb0f59\n",
      "Svt[info]: SVT [build]  :\tGCC 11.4.0\t 64 bit\n",
      "Svt[info]: LIB Build date: Nov 27 2024 13:20:34\n",
      "Svt[info]: -------------------------------------------\n",
      "Svt[info]: Level of Parallelism: 5\n",
      "Svt[info]: Number of PPCS 76\n",
      "Svt[info]: [asm level on system : up to avx2]\n",
      "Svt[info]: [asm level selected : up to avx2]\n",
      "Svt[info]: -------------------------------------------\n",
      "Svt[info]: SVT [config]: main profile\ttier (auto)\tlevel (auto)\n",
      "Svt[info]: SVT [config]: width / height / fps numerator / fps denominator \t\t: 96 / 96 / 10 / 1\n",
      "Svt[info]: SVT [config]: bit-depth / color format \t\t\t\t\t: 8 / YUV420\n",
      "Svt[info]: SVT [config]: preset / tune / pred struct \t\t\t\t\t: 10 / PSNR / random access\n",
      "Svt[info]: SVT [config]: gop size / mini-gop size / key-frame type \t\t\t: 2 / 16 / key frame\n",
      "Svt[info]: SVT [config]: BRC mode / rate factor \t\t\t\t\t: CRF / 30 \n",
      "Svt[info]: SVT [config]: AQ mode / variance boost \t\t\t\t\t: 2 / 0\n",
      "Svt[info]: -------------------------------------------\n",
      "Svt[info]: -------------------------------------------\n",
      "Svt[info]: SVT [version]:\tSVT-AV1 Encoder Lib v2.3.0-61-g66fb0f59\n",
      "Svt[info]: SVT [build]  :\tGCC 11.4.0\t 64 bit\n",
      "Svt[info]: LIB Build date: Nov 27 2024 13:20:34\n",
      "Svt[info]: -------------------------------------------\n",
      "Svt[info]: Level of Parallelism: 5\n",
      "Svt[info]: Number of PPCS 76\n",
      "Svt[info]: [asm level on system : up to avx2]\n",
      "Svt[info]: [asm level selected : up to avx2]\n",
      "Svt[info]: -------------------------------------------\n",
      "Svt[info]: SVT [config]: main profile\ttier (auto)\tlevel (auto)\n",
      "Svt[info]: SVT [config]: width / height / fps numerator / fps denominator \t\t: 96 / 96 / 10 / 1\n",
      "Svt[info]: SVT [config]: bit-depth / color format \t\t\t\t\t: 8 / YUV420\n",
      "Svt[info]: SVT [config]: preset / tune / pred struct \t\t\t\t\t: 10 / PSNR / random access\n",
      "Svt[info]: SVT [config]: gop size / mini-gop size / key-frame type \t\t\t: 2 / 16 / key frame\n",
      "Svt[info]: SVT [config]: BRC mode / rate factor \t\t\t\t\t: CRF / 30 \n",
      "Svt[info]: SVT [config]: AQ mode / variance boost \t\t\t\t\t: 2 / 0\n",
      "Svt[info]: -------------------------------------------\n",
      "Svt[info]: -------------------------------------------\n",
      "Svt[info]: SVT [version]:\tSVT-AV1 Encoder Lib v2.3.0-61-g66fb0f59\n",
      "Svt[info]: SVT [build]  :\tGCC 11.4.0\t 64 bit\n",
      "Svt[info]: LIB Build date: Nov 27 2024 13:20:34\n",
      "Svt[info]: -------------------------------------------\n",
      "Svt[info]: Level of Parallelism: 5\n",
      "Svt[info]: Number of PPCS 76\n",
      "Svt[info]: [asm level on system : up to avx2]\n",
      "Svt[info]: [asm level selected : up to avx2]\n",
      "Svt[info]: -------------------------------------------\n",
      "Svt[info]: SVT [config]: main profile\ttier (auto)\tlevel (auto)\n",
      "Svt[info]: SVT [config]: width / height / fps numerator / fps denominator \t\t: 96 / 96 / 10 / 1\n",
      "Svt[info]: SVT [config]: bit-depth / color format \t\t\t\t\t: 8 / YUV420\n",
      "Svt[info]: SVT [config]: preset / tune / pred struct \t\t\t\t\t: 10 / PSNR / random access\n",
      "Svt[info]: SVT [config]: gop size / mini-gop size / key-frame type \t\t\t: 2 / 16 / key frame\n",
      "Svt[info]: SVT [config]: BRC mode / rate factor \t\t\t\t\t: CRF / 30 \n",
      "Svt[info]: SVT [config]: AQ mode / variance boost \t\t\t\t\t: 2 / 0\n",
      "Svt[info]: -------------------------------------------\n",
      "Svt[info]: -------------------------------------------\n",
      "Svt[info]: SVT [version]:\tSVT-AV1 Encoder Lib v2.3.0-61-g66fb0f59\n",
      "Svt[info]: SVT [build]  :\tGCC 11.4.0\t 64 bit\n",
      "Svt[info]: LIB Build date: Nov 27 2024 13:20:34\n",
      "Svt[info]: -------------------------------------------\n",
      "Svt[info]: Level of Parallelism: 5\n",
      "Svt[info]: Number of PPCS 76\n",
      "Svt[info]: [asm level on system : up to avx2]\n",
      "Svt[info]: [asm level selected : up to avx2]\n",
      "Svt[info]: -------------------------------------------\n",
      "Svt[info]: SVT [config]: main profile\ttier (auto)\tlevel (auto)\n",
      "Svt[info]: SVT [config]: width / height / fps numerator / fps denominator \t\t: 96 / 96 / 10 / 1\n",
      "Svt[info]: SVT [config]: bit-depth / color format \t\t\t\t\t: 8 / YUV420\n",
      "Svt[info]: SVT [config]: preset / tune / pred struct \t\t\t\t\t: 10 / PSNR / random access\n",
      "Svt[info]: SVT [config]: gop size / mini-gop size / key-frame type \t\t\t: 2 / 16 / key frame\n",
      "Svt[info]: SVT [config]: BRC mode / rate factor \t\t\t\t\t: CRF / 30 \n",
      "Svt[info]: SVT [config]: AQ mode / variance boost \t\t\t\t\t: 2 / 0\n",
      "Svt[info]: -------------------------------------------\n",
      "Svt[info]: -------------------------------------------\n",
      "Svt[info]: SVT [version]:\tSVT-AV1 Encoder Lib v2.3.0-61-g66fb0f59\n",
      "Svt[info]: SVT [build]  :\tGCC 11.4.0\t 64 bit\n",
      "Svt[info]: LIB Build date: Nov 27 2024 13:20:34\n",
      "Svt[info]: -------------------------------------------\n",
      "Svt[info]: Level of Parallelism: 5\n",
      "Svt[info]: Number of PPCS 76\n",
      "Svt[info]: [asm level on system : up to avx2]\n",
      "Svt[info]: [asm level selected : up to avx2]\n",
      "Svt[info]: -------------------------------------------\n",
      "Svt[info]: SVT [config]: main profile\ttier (auto)\tlevel (auto)\n",
      "Svt[info]: SVT [config]: width / height / fps numerator / fps denominator \t\t: 96 / 96 / 10 / 1\n",
      "Svt[info]: SVT [config]: bit-depth / color format \t\t\t\t\t: 8 / YUV420\n",
      "Svt[info]: SVT [config]: preset / tune / pred struct \t\t\t\t\t: 10 / PSNR / random access\n",
      "Svt[info]: SVT [config]: gop size / mini-gop size / key-frame type \t\t\t: 2 / 16 / key frame\n",
      "Svt[info]: SVT [config]: BRC mode / rate factor \t\t\t\t\t: CRF / 30 \n",
      "Svt[info]: SVT [config]: AQ mode / variance boost \t\t\t\t\t: 2 / 0\n",
      "Svt[info]: -------------------------------------------\n",
      "Svt[info]: -------------------------------------------\n",
      "Svt[info]: SVT [version]:\tSVT-AV1 Encoder Lib v2.3.0-61-g66fb0f59\n",
      "Svt[info]: SVT [build]  :\tGCC 11.4.0\t 64 bit\n",
      "Svt[info]: LIB Build date: Nov 27 2024 13:20:34\n",
      "Svt[info]: -------------------------------------------\n",
      "Svt[info]: Level of Parallelism: 5\n",
      "Svt[info]: Number of PPCS 76\n",
      "Svt[info]: [asm level on system : up to avx2]\n",
      "Svt[info]: [asm level selected : up to avx2]\n",
      "Svt[info]: -------------------------------------------\n",
      "Svt[info]: SVT [config]: main profile\ttier (auto)\tlevel (auto)\n",
      "Svt[info]: SVT [config]: width / height / fps numerator / fps denominator \t\t: 96 / 96 / 10 / 1\n",
      "Svt[info]: SVT [config]: bit-depth / color format \t\t\t\t\t: 8 / YUV420\n",
      "Svt[info]: SVT [config]: preset / tune / pred struct \t\t\t\t\t: 10 / PSNR / random access\n",
      "Svt[info]: SVT [config]: gop size / mini-gop size / key-frame type \t\t\t: 2 / 16 / key frame\n",
      "Svt[info]: SVT [config]: BRC mode / rate factor \t\t\t\t\t: CRF / 30 \n",
      "Svt[info]: SVT [config]: AQ mode / variance boost \t\t\t\t\t: 2 / 0\n",
      "Svt[info]: -------------------------------------------\n",
      "Svt[info]: -------------------------------------------\n",
      "Svt[info]: SVT [version]:\tSVT-AV1 Encoder Lib v2.3.0-61-g66fb0f59\n",
      "Svt[info]: SVT [build]  :\tGCC 11.4.0\t 64 bit\n",
      "Svt[info]: LIB Build date: Nov 27 2024 13:20:34\n",
      "Svt[info]: -------------------------------------------\n",
      "Svt[info]: Level of Parallelism: 5\n",
      "Svt[info]: Number of PPCS 76\n",
      "Svt[info]: [asm level on system : up to avx2]\n",
      "Svt[info]: [asm level selected : up to avx2]\n",
      "Svt[info]: -------------------------------------------\n",
      "Svt[info]: SVT [config]: main profile\ttier (auto)\tlevel (auto)\n",
      "Svt[info]: SVT [config]: width / height / fps numerator / fps denominator \t\t: 96 / 96 / 10 / 1\n",
      "Svt[info]: SVT [config]: bit-depth / color format \t\t\t\t\t: 8 / YUV420\n",
      "Svt[info]: SVT [config]: preset / tune / pred struct \t\t\t\t\t: 10 / PSNR / random access\n",
      "Svt[info]: SVT [config]: gop size / mini-gop size / key-frame type \t\t\t: 2 / 16 / key frame\n",
      "Svt[info]: SVT [config]: BRC mode / rate factor \t\t\t\t\t: CRF / 30 \n",
      "Svt[info]: SVT [config]: AQ mode / variance boost \t\t\t\t\t: 2 / 0\n",
      "Svt[info]: -------------------------------------------\n",
      "Svt[info]: -------------------------------------------\n",
      "Svt[info]: SVT [version]:\tSVT-AV1 Encoder Lib v2.3.0-61-g66fb0f59\n",
      "Svt[info]: SVT [build]  :\tGCC 11.4.0\t 64 bit\n",
      "Svt[info]: LIB Build date: Nov 27 2024 13:20:34\n",
      "Svt[info]: -------------------------------------------\n",
      "Svt[info]: Level of Parallelism: 5\n",
      "Svt[info]: Number of PPCS 76\n",
      "Svt[info]: [asm level on system : up to avx2]\n",
      "Svt[info]: [asm level selected : up to avx2]\n",
      "Svt[info]: -------------------------------------------\n",
      "Svt[info]: SVT [config]: main profile\ttier (auto)\tlevel (auto)\n",
      "Svt[info]: SVT [config]: width / height / fps numerator / fps denominator \t\t: 96 / 96 / 10 / 1\n",
      "Svt[info]: SVT [config]: bit-depth / color format \t\t\t\t\t: 8 / YUV420\n",
      "Svt[info]: SVT [config]: preset / tune / pred struct \t\t\t\t\t: 10 / PSNR / random access\n",
      "Svt[info]: SVT [config]: gop size / mini-gop size / key-frame type \t\t\t: 2 / 16 / key frame\n",
      "Svt[info]: SVT [config]: BRC mode / rate factor \t\t\t\t\t: CRF / 30 \n",
      "Svt[info]: SVT [config]: AQ mode / variance boost \t\t\t\t\t: 2 / 0\n",
      "Svt[info]: -------------------------------------------\n",
      "Svt[info]: -------------------------------------------\n",
      "Svt[info]: SVT [version]:\tSVT-AV1 Encoder Lib v2.3.0-61-g66fb0f59\n",
      "Svt[info]: SVT [build]  :\tGCC 11.4.0\t 64 bit\n",
      "Svt[info]: LIB Build date: Nov 27 2024 13:20:34\n",
      "Svt[info]: -------------------------------------------\n",
      "Svt[info]: Level of Parallelism: 5\n",
      "Svt[info]: Number of PPCS 76\n",
      "Svt[info]: [asm level on system : up to avx2]\n",
      "Svt[info]: [asm level selected : up to avx2]\n",
      "Svt[info]: -------------------------------------------\n",
      "Svt[info]: SVT [config]: main profile\ttier (auto)\tlevel (auto)\n",
      "Svt[info]: SVT [config]: width / height / fps numerator / fps denominator \t\t: 96 / 96 / 10 / 1\n",
      "Svt[info]: SVT [config]: bit-depth / color format \t\t\t\t\t: 8 / YUV420\n",
      "Svt[info]: SVT [config]: preset / tune / pred struct \t\t\t\t\t: 10 / PSNR / random access\n",
      "Svt[info]: SVT [config]: gop size / mini-gop size / key-frame type \t\t\t: 2 / 16 / key frame\n",
      "Svt[info]: SVT [config]: BRC mode / rate factor \t\t\t\t\t: CRF / 30 \n",
      "Svt[info]: SVT [config]: AQ mode / variance boost \t\t\t\t\t: 2 / 0\n",
      "Svt[info]: -------------------------------------------\n",
      "Svt[info]: -------------------------------------------\n",
      "Svt[info]: SVT [version]:\tSVT-AV1 Encoder Lib v2.3.0-61-g66fb0f59\n",
      "Svt[info]: SVT [build]  :\tGCC 11.4.0\t 64 bit\n",
      "Svt[info]: LIB Build date: Nov 27 2024 13:20:34\n",
      "Svt[info]: -------------------------------------------\n",
      "Svt[info]: Level of Parallelism: 5\n",
      "Svt[info]: Number of PPCS 76\n",
      "Svt[info]: [asm level on system : up to avx2]\n",
      "Svt[info]: [asm level selected : up to avx2]\n",
      "Svt[info]: -------------------------------------------\n",
      "Svt[info]: SVT [config]: main profile\ttier (auto)\tlevel (auto)\n",
      "Svt[info]: SVT [config]: width / height / fps numerator / fps denominator \t\t: 96 / 96 / 10 / 1\n",
      "Svt[info]: SVT [config]: bit-depth / color format \t\t\t\t\t: 8 / YUV420\n",
      "Svt[info]: SVT [config]: preset / tune / pred struct \t\t\t\t\t: 10 / PSNR / random access\n",
      "Svt[info]: SVT [config]: gop size / mini-gop size / key-frame type \t\t\t: 2 / 16 / key frame\n",
      "Svt[info]: SVT [config]: BRC mode / rate factor \t\t\t\t\t: CRF / 30 \n",
      "Svt[info]: SVT [config]: AQ mode / variance boost \t\t\t\t\t: 2 / 0\n",
      "Svt[info]: -------------------------------------------\n",
      "Svt[info]: -------------------------------------------\n",
      "Svt[info]: SVT [version]:\tSVT-AV1 Encoder Lib v2.3.0-61-g66fb0f59\n",
      "Svt[info]: SVT [build]  :\tGCC 11.4.0\t 64 bit\n",
      "Svt[info]: LIB Build date: Nov 27 2024 13:20:34\n",
      "Svt[info]: -------------------------------------------\n",
      "Svt[info]: Level of Parallelism: 5\n",
      "Svt[info]: Number of PPCS 76\n",
      "Svt[info]: [asm level on system : up to avx2]\n",
      "Svt[info]: [asm level selected : up to avx2]\n",
      "Svt[info]: -------------------------------------------\n",
      "Svt[info]: SVT [config]: main profile\ttier (auto)\tlevel (auto)\n",
      "Svt[info]: SVT [config]: width / height / fps numerator / fps denominator \t\t: 96 / 96 / 10 / 1\n",
      "Svt[info]: SVT [config]: bit-depth / color format \t\t\t\t\t: 8 / YUV420\n",
      "Svt[info]: SVT [config]: preset / tune / pred struct \t\t\t\t\t: 10 / PSNR / random access\n",
      "Svt[info]: SVT [config]: gop size / mini-gop size / key-frame type \t\t\t: 2 / 16 / key frame\n",
      "Svt[info]: SVT [config]: BRC mode / rate factor \t\t\t\t\t: CRF / 30 \n",
      "Svt[info]: SVT [config]: AQ mode / variance boost \t\t\t\t\t: 2 / 0\n",
      "Svt[info]: -------------------------------------------\n",
      "Svt[info]: -------------------------------------------\n",
      "Svt[info]: SVT [version]:\tSVT-AV1 Encoder Lib v2.3.0-61-g66fb0f59\n",
      "Svt[info]: SVT [build]  :\tGCC 11.4.0\t 64 bit\n",
      "Svt[info]: LIB Build date: Nov 27 2024 13:20:34\n",
      "Svt[info]: -------------------------------------------\n",
      "Svt[info]: Level of Parallelism: 5\n",
      "Svt[info]: Number of PPCS 76\n",
      "Svt[info]: [asm level on system : up to avx2]\n",
      "Svt[info]: [asm level selected : up to avx2]\n",
      "Svt[info]: -------------------------------------------\n",
      "Svt[info]: SVT [config]: main profile\ttier (auto)\tlevel (auto)\n",
      "Svt[info]: SVT [config]: width / height / fps numerator / fps denominator \t\t: 96 / 96 / 10 / 1\n",
      "Svt[info]: SVT [config]: bit-depth / color format \t\t\t\t\t: 8 / YUV420\n",
      "Svt[info]: SVT [config]: preset / tune / pred struct \t\t\t\t\t: 10 / PSNR / random access\n",
      "Svt[info]: SVT [config]: gop size / mini-gop size / key-frame type \t\t\t: 2 / 16 / key frame\n",
      "Svt[info]: SVT [config]: BRC mode / rate factor \t\t\t\t\t: CRF / 30 \n",
      "Svt[info]: SVT [config]: AQ mode / variance boost \t\t\t\t\t: 2 / 0\n",
      "Svt[info]: -------------------------------------------\n",
      "Svt[info]: -------------------------------------------\n",
      "Svt[info]: SVT [version]:\tSVT-AV1 Encoder Lib v2.3.0-61-g66fb0f59\n",
      "Svt[info]: SVT [build]  :\tGCC 11.4.0\t 64 bit\n",
      "Svt[info]: LIB Build date: Nov 27 2024 13:20:34\n",
      "Svt[info]: -------------------------------------------\n",
      "Svt[info]: Level of Parallelism: 5\n",
      "Svt[info]: Number of PPCS 76\n",
      "Svt[info]: [asm level on system : up to avx2]\n",
      "Svt[info]: [asm level selected : up to avx2]\n",
      "Svt[info]: -------------------------------------------\n",
      "Svt[info]: SVT [config]: main profile\ttier (auto)\tlevel (auto)\n",
      "Svt[info]: SVT [config]: width / height / fps numerator / fps denominator \t\t: 96 / 96 / 10 / 1\n",
      "Svt[info]: SVT [config]: bit-depth / color format \t\t\t\t\t: 8 / YUV420\n",
      "Svt[info]: SVT [config]: preset / tune / pred struct \t\t\t\t\t: 10 / PSNR / random access\n",
      "Svt[info]: SVT [config]: gop size / mini-gop size / key-frame type \t\t\t: 2 / 16 / key frame\n",
      "Svt[info]: SVT [config]: BRC mode / rate factor \t\t\t\t\t: CRF / 30 \n",
      "Svt[info]: SVT [config]: AQ mode / variance boost \t\t\t\t\t: 2 / 0\n",
      "Svt[info]: -------------------------------------------\n",
      "Svt[info]: -------------------------------------------\n",
      "Svt[info]: SVT [version]:\tSVT-AV1 Encoder Lib v2.3.0-61-g66fb0f59\n",
      "Svt[info]: SVT [build]  :\tGCC 11.4.0\t 64 bit\n",
      "Svt[info]: LIB Build date: Nov 27 2024 13:20:34\n",
      "Svt[info]: -------------------------------------------\n",
      "Svt[info]: Level of Parallelism: 5\n",
      "Svt[info]: Number of PPCS 76\n",
      "Svt[info]: [asm level on system : up to avx2]\n",
      "Svt[info]: [asm level selected : up to avx2]\n",
      "Svt[info]: -------------------------------------------\n",
      "Svt[info]: SVT [config]: main profile\ttier (auto)\tlevel (auto)\n",
      "Svt[info]: SVT [config]: width / height / fps numerator / fps denominator \t\t: 96 / 96 / 10 / 1\n",
      "Svt[info]: SVT [config]: bit-depth / color format \t\t\t\t\t: 8 / YUV420\n",
      "Svt[info]: SVT [config]: preset / tune / pred struct \t\t\t\t\t: 10 / PSNR / random access\n",
      "Svt[info]: SVT [config]: gop size / mini-gop size / key-frame type \t\t\t: 2 / 16 / key frame\n",
      "Svt[info]: SVT [config]: BRC mode / rate factor \t\t\t\t\t: CRF / 30 \n",
      "Svt[info]: SVT [config]: AQ mode / variance boost \t\t\t\t\t: 2 / 0\n",
      "Svt[info]: -------------------------------------------\n",
      "Svt[info]: -------------------------------------------\n",
      "Svt[info]: SVT [version]:\tSVT-AV1 Encoder Lib v2.3.0-61-g66fb0f59\n",
      "Svt[info]: SVT [build]  :\tGCC 11.4.0\t 64 bit\n",
      "Svt[info]: LIB Build date: Nov 27 2024 13:20:34\n",
      "Svt[info]: -------------------------------------------\n",
      "Svt[info]: Level of Parallelism: 5\n",
      "Svt[info]: Number of PPCS 76\n",
      "Svt[info]: [asm level on system : up to avx2]\n",
      "Svt[info]: [asm level selected : up to avx2]\n",
      "Svt[info]: -------------------------------------------\n",
      "Svt[info]: SVT [config]: main profile\ttier (auto)\tlevel (auto)\n",
      "Svt[info]: SVT [config]: width / height / fps numerator / fps denominator \t\t: 96 / 96 / 10 / 1\n",
      "Svt[info]: SVT [config]: bit-depth / color format \t\t\t\t\t: 8 / YUV420\n",
      "Svt[info]: SVT [config]: preset / tune / pred struct \t\t\t\t\t: 10 / PSNR / random access\n",
      "Svt[info]: SVT [config]: gop size / mini-gop size / key-frame type \t\t\t: 2 / 16 / key frame\n",
      "Svt[info]: SVT [config]: BRC mode / rate factor \t\t\t\t\t: CRF / 30 \n",
      "Svt[info]: SVT [config]: AQ mode / variance boost \t\t\t\t\t: 2 / 0\n",
      "Svt[info]: -------------------------------------------\n",
      "Svt[info]: -------------------------------------------\n",
      "Svt[info]: SVT [version]:\tSVT-AV1 Encoder Lib v2.3.0-61-g66fb0f59\n",
      "Svt[info]: SVT [build]  :\tGCC 11.4.0\t 64 bit\n",
      "Svt[info]: LIB Build date: Nov 27 2024 13:20:34\n",
      "Svt[info]: -------------------------------------------\n",
      "Svt[info]: Level of Parallelism: 5\n",
      "Svt[info]: Number of PPCS 76\n",
      "Svt[info]: [asm level on system : up to avx2]\n",
      "Svt[info]: [asm level selected : up to avx2]\n",
      "Svt[info]: -------------------------------------------\n",
      "Svt[info]: SVT [config]: main profile\ttier (auto)\tlevel (auto)\n",
      "Svt[info]: SVT [config]: width / height / fps numerator / fps denominator \t\t: 96 / 96 / 10 / 1\n",
      "Svt[info]: SVT [config]: bit-depth / color format \t\t\t\t\t: 8 / YUV420\n",
      "Svt[info]: SVT [config]: preset / tune / pred struct \t\t\t\t\t: 10 / PSNR / random access\n",
      "Svt[info]: SVT [config]: gop size / mini-gop size / key-frame type \t\t\t: 2 / 16 / key frame\n",
      "Svt[info]: SVT [config]: BRC mode / rate factor \t\t\t\t\t: CRF / 30 \n",
      "Svt[info]: SVT [config]: AQ mode / variance boost \t\t\t\t\t: 2 / 0\n",
      "Svt[info]: -------------------------------------------\n",
      "Svt[info]: -------------------------------------------\n",
      "Svt[info]: SVT [version]:\tSVT-AV1 Encoder Lib v2.3.0-61-g66fb0f59\n",
      "Svt[info]: SVT [build]  :\tGCC 11.4.0\t 64 bit\n",
      "Svt[info]: LIB Build date: Nov 27 2024 13:20:34\n",
      "Svt[info]: -------------------------------------------\n",
      "Svt[info]: Level of Parallelism: 5\n",
      "Svt[info]: Number of PPCS 76\n",
      "Svt[info]: [asm level on system : up to avx2]\n",
      "Svt[info]: [asm level selected : up to avx2]\n",
      "Svt[info]: -------------------------------------------\n",
      "Svt[info]: SVT [config]: main profile\ttier (auto)\tlevel (auto)\n",
      "Svt[info]: SVT [config]: width / height / fps numerator / fps denominator \t\t: 96 / 96 / 10 / 1\n",
      "Svt[info]: SVT [config]: bit-depth / color format \t\t\t\t\t: 8 / YUV420\n",
      "Svt[info]: SVT [config]: preset / tune / pred struct \t\t\t\t\t: 10 / PSNR / random access\n",
      "Svt[info]: SVT [config]: gop size / mini-gop size / key-frame type \t\t\t: 2 / 16 / key frame\n",
      "Svt[info]: SVT [config]: BRC mode / rate factor \t\t\t\t\t: CRF / 30 \n",
      "Svt[info]: SVT [config]: AQ mode / variance boost \t\t\t\t\t: 2 / 0\n",
      "Svt[info]: -------------------------------------------\n",
      "Svt[info]: -------------------------------------------\n",
      "Svt[info]: SVT [version]:\tSVT-AV1 Encoder Lib v2.3.0-61-g66fb0f59\n",
      "Svt[info]: SVT [build]  :\tGCC 11.4.0\t 64 bit\n",
      "Svt[info]: LIB Build date: Nov 27 2024 13:20:34\n",
      "Svt[info]: -------------------------------------------\n",
      "Svt[info]: Level of Parallelism: 5\n",
      "Svt[info]: Number of PPCS 76\n",
      "Svt[info]: [asm level on system : up to avx2]\n",
      "Svt[info]: [asm level selected : up to avx2]\n",
      "Svt[info]: -------------------------------------------\n",
      "Svt[info]: SVT [config]: main profile\ttier (auto)\tlevel (auto)\n",
      "Svt[info]: SVT [config]: width / height / fps numerator / fps denominator \t\t: 96 / 96 / 10 / 1\n",
      "Svt[info]: SVT [config]: bit-depth / color format \t\t\t\t\t: 8 / YUV420\n",
      "Svt[info]: SVT [config]: preset / tune / pred struct \t\t\t\t\t: 10 / PSNR / random access\n",
      "Svt[info]: SVT [config]: gop size / mini-gop size / key-frame type \t\t\t: 2 / 16 / key frame\n",
      "Svt[info]: SVT [config]: BRC mode / rate factor \t\t\t\t\t: CRF / 30 \n",
      "Svt[info]: SVT [config]: AQ mode / variance boost \t\t\t\t\t: 2 / 0\n",
      "Svt[info]: -------------------------------------------\n",
      "Svt[info]: -------------------------------------------\n",
      "Svt[info]: SVT [version]:\tSVT-AV1 Encoder Lib v2.3.0-61-g66fb0f59\n",
      "Svt[info]: SVT [build]  :\tGCC 11.4.0\t 64 bit\n",
      "Svt[info]: LIB Build date: Nov 27 2024 13:20:34\n",
      "Svt[info]: -------------------------------------------\n",
      "Svt[info]: Level of Parallelism: 5\n",
      "Svt[info]: Number of PPCS 76\n",
      "Svt[info]: [asm level on system : up to avx2]\n",
      "Svt[info]: [asm level selected : up to avx2]\n",
      "Svt[info]: -------------------------------------------\n",
      "Svt[info]: SVT [config]: main profile\ttier (auto)\tlevel (auto)\n",
      "Svt[info]: SVT [config]: width / height / fps numerator / fps denominator \t\t: 96 / 96 / 10 / 1\n",
      "Svt[info]: SVT [config]: bit-depth / color format \t\t\t\t\t: 8 / YUV420\n",
      "Svt[info]: SVT [config]: preset / tune / pred struct \t\t\t\t\t: 10 / PSNR / random access\n",
      "Svt[info]: SVT [config]: gop size / mini-gop size / key-frame type \t\t\t: 2 / 16 / key frame\n",
      "Svt[info]: SVT [config]: BRC mode / rate factor \t\t\t\t\t: CRF / 30 \n",
      "Svt[info]: SVT [config]: AQ mode / variance boost \t\t\t\t\t: 2 / 0\n",
      "Svt[info]: -------------------------------------------\n",
      "Svt[info]: -------------------------------------------\n",
      "Svt[info]: SVT [version]:\tSVT-AV1 Encoder Lib v2.3.0-61-g66fb0f59\n",
      "Svt[info]: SVT [build]  :\tGCC 11.4.0\t 64 bit\n",
      "Svt[info]: LIB Build date: Nov 27 2024 13:20:34\n",
      "Svt[info]: -------------------------------------------\n",
      "Svt[info]: Level of Parallelism: 5\n",
      "Svt[info]: Number of PPCS 76\n",
      "Svt[info]: [asm level on system : up to avx2]\n",
      "Svt[info]: [asm level selected : up to avx2]\n",
      "Svt[info]: -------------------------------------------\n",
      "Svt[info]: SVT [config]: main profile\ttier (auto)\tlevel (auto)\n",
      "Svt[info]: SVT [config]: width / height / fps numerator / fps denominator \t\t: 96 / 96 / 10 / 1\n",
      "Svt[info]: SVT [config]: bit-depth / color format \t\t\t\t\t: 8 / YUV420\n",
      "Svt[info]: SVT [config]: preset / tune / pred struct \t\t\t\t\t: 10 / PSNR / random access\n",
      "Svt[info]: SVT [config]: gop size / mini-gop size / key-frame type \t\t\t: 2 / 16 / key frame\n",
      "Svt[info]: SVT [config]: BRC mode / rate factor \t\t\t\t\t: CRF / 30 \n",
      "Svt[info]: SVT [config]: AQ mode / variance boost \t\t\t\t\t: 2 / 0\n",
      "Svt[info]: -------------------------------------------\n",
      "Svt[info]: -------------------------------------------\n",
      "Svt[info]: SVT [version]:\tSVT-AV1 Encoder Lib v2.3.0-61-g66fb0f59\n",
      "Svt[info]: SVT [build]  :\tGCC 11.4.0\t 64 bit\n",
      "Svt[info]: LIB Build date: Nov 27 2024 13:20:34\n",
      "Svt[info]: -------------------------------------------\n",
      "Svt[info]: Level of Parallelism: 5\n",
      "Svt[info]: Number of PPCS 76\n",
      "Svt[info]: [asm level on system : up to avx2]\n",
      "Svt[info]: [asm level selected : up to avx2]\n",
      "Svt[info]: -------------------------------------------\n",
      "Svt[info]: SVT [config]: main profile\ttier (auto)\tlevel (auto)\n",
      "Svt[info]: SVT [config]: width / height / fps numerator / fps denominator \t\t: 96 / 96 / 10 / 1\n",
      "Svt[info]: SVT [config]: bit-depth / color format \t\t\t\t\t: 8 / YUV420\n",
      "Svt[info]: SVT [config]: preset / tune / pred struct \t\t\t\t\t: 10 / PSNR / random access\n",
      "Svt[info]: SVT [config]: gop size / mini-gop size / key-frame type \t\t\t: 2 / 16 / key frame\n",
      "Svt[info]: SVT [config]: BRC mode / rate factor \t\t\t\t\t: CRF / 30 \n",
      "Svt[info]: SVT [config]: AQ mode / variance boost \t\t\t\t\t: 2 / 0\n",
      "Svt[info]: -------------------------------------------\n",
      "Svt[info]: -------------------------------------------\n",
      "Svt[info]: SVT [version]:\tSVT-AV1 Encoder Lib v2.3.0-61-g66fb0f59\n",
      "Svt[info]: SVT [build]  :\tGCC 11.4.0\t 64 bit\n",
      "Svt[info]: LIB Build date: Nov 27 2024 13:20:34\n",
      "Svt[info]: -------------------------------------------\n",
      "Svt[info]: Level of Parallelism: 5\n",
      "Svt[info]: Number of PPCS 76\n",
      "Svt[info]: [asm level on system : up to avx2]\n",
      "Svt[info]: [asm level selected : up to avx2]\n",
      "Svt[info]: -------------------------------------------\n",
      "Svt[info]: SVT [config]: main profile\ttier (auto)\tlevel (auto)\n",
      "Svt[info]: SVT [config]: width / height / fps numerator / fps denominator \t\t: 96 / 96 / 10 / 1\n",
      "Svt[info]: SVT [config]: bit-depth / color format \t\t\t\t\t: 8 / YUV420\n",
      "Svt[info]: SVT [config]: preset / tune / pred struct \t\t\t\t\t: 10 / PSNR / random access\n",
      "Svt[info]: SVT [config]: gop size / mini-gop size / key-frame type \t\t\t: 2 / 16 / key frame\n",
      "Svt[info]: SVT [config]: BRC mode / rate factor \t\t\t\t\t: CRF / 30 \n",
      "Svt[info]: SVT [config]: AQ mode / variance boost \t\t\t\t\t: 2 / 0\n",
      "Svt[info]: -------------------------------------------\n",
      "Svt[info]: -------------------------------------------\n",
      "Svt[info]: SVT [version]:\tSVT-AV1 Encoder Lib v2.3.0-61-g66fb0f59\n",
      "Svt[info]: SVT [build]  :\tGCC 11.4.0\t 64 bit\n",
      "Svt[info]: LIB Build date: Nov 27 2024 13:20:34\n",
      "Svt[info]: -------------------------------------------\n",
      "Svt[info]: Level of Parallelism: 5\n",
      "Svt[info]: Number of PPCS 76\n",
      "Svt[info]: [asm level on system : up to avx2]\n",
      "Svt[info]: [asm level selected : up to avx2]\n",
      "Svt[info]: -------------------------------------------\n",
      "Svt[info]: SVT [config]: main profile\ttier (auto)\tlevel (auto)\n",
      "Svt[info]: SVT [config]: width / height / fps numerator / fps denominator \t\t: 96 / 96 / 10 / 1\n",
      "Svt[info]: SVT [config]: bit-depth / color format \t\t\t\t\t: 8 / YUV420\n",
      "Svt[info]: SVT [config]: preset / tune / pred struct \t\t\t\t\t: 10 / PSNR / random access\n",
      "Svt[info]: SVT [config]: gop size / mini-gop size / key-frame type \t\t\t: 2 / 16 / key frame\n",
      "Svt[info]: SVT [config]: BRC mode / rate factor \t\t\t\t\t: CRF / 30 \n",
      "Svt[info]: SVT [config]: AQ mode / variance boost \t\t\t\t\t: 2 / 0\n",
      "Svt[info]: -------------------------------------------\n",
      "Svt[info]: -------------------------------------------\n",
      "Svt[info]: SVT [version]:\tSVT-AV1 Encoder Lib v2.3.0-61-g66fb0f59\n",
      "Svt[info]: SVT [build]  :\tGCC 11.4.0\t 64 bit\n",
      "Svt[info]: LIB Build date: Nov 27 2024 13:20:34\n",
      "Svt[info]: -------------------------------------------\n",
      "Svt[info]: Level of Parallelism: 5\n",
      "Svt[info]: Number of PPCS 76\n",
      "Svt[info]: [asm level on system : up to avx2]\n",
      "Svt[info]: [asm level selected : up to avx2]\n",
      "Svt[info]: -------------------------------------------\n",
      "Svt[info]: SVT [config]: main profile\ttier (auto)\tlevel (auto)\n",
      "Svt[info]: SVT [config]: width / height / fps numerator / fps denominator \t\t: 96 / 96 / 10 / 1\n",
      "Svt[info]: SVT [config]: bit-depth / color format \t\t\t\t\t: 8 / YUV420\n",
      "Svt[info]: SVT [config]: preset / tune / pred struct \t\t\t\t\t: 10 / PSNR / random access\n",
      "Svt[info]: SVT [config]: gop size / mini-gop size / key-frame type \t\t\t: 2 / 16 / key frame\n",
      "Svt[info]: SVT [config]: BRC mode / rate factor \t\t\t\t\t: CRF / 30 \n",
      "Svt[info]: SVT [config]: AQ mode / variance boost \t\t\t\t\t: 2 / 0\n",
      "Svt[info]: -------------------------------------------\n",
      "Svt[info]: -------------------------------------------\n",
      "Svt[info]: SVT [version]:\tSVT-AV1 Encoder Lib v2.3.0-61-g66fb0f59\n",
      "Svt[info]: SVT [build]  :\tGCC 11.4.0\t 64 bit\n",
      "Svt[info]: LIB Build date: Nov 27 2024 13:20:34\n",
      "Svt[info]: -------------------------------------------\n",
      "Svt[info]: Level of Parallelism: 5\n",
      "Svt[info]: Number of PPCS 76\n",
      "Svt[info]: [asm level on system : up to avx2]\n",
      "Svt[info]: [asm level selected : up to avx2]\n",
      "Svt[info]: -------------------------------------------\n",
      "Svt[info]: SVT [config]: main profile\ttier (auto)\tlevel (auto)\n",
      "Svt[info]: SVT [config]: width / height / fps numerator / fps denominator \t\t: 96 / 96 / 10 / 1\n",
      "Svt[info]: SVT [config]: bit-depth / color format \t\t\t\t\t: 8 / YUV420\n",
      "Svt[info]: SVT [config]: preset / tune / pred struct \t\t\t\t\t: 10 / PSNR / random access\n",
      "Svt[info]: SVT [config]: gop size / mini-gop size / key-frame type \t\t\t: 2 / 16 / key frame\n",
      "Svt[info]: SVT [config]: BRC mode / rate factor \t\t\t\t\t: CRF / 30 \n",
      "Svt[info]: SVT [config]: AQ mode / variance boost \t\t\t\t\t: 2 / 0\n",
      "Svt[info]: -------------------------------------------\n",
      "Svt[info]: -------------------------------------------\n",
      "Svt[info]: SVT [version]:\tSVT-AV1 Encoder Lib v2.3.0-61-g66fb0f59\n",
      "Svt[info]: SVT [build]  :\tGCC 11.4.0\t 64 bit\n",
      "Svt[info]: LIB Build date: Nov 27 2024 13:20:34\n",
      "Svt[info]: -------------------------------------------\n",
      "Svt[info]: Level of Parallelism: 5\n",
      "Svt[info]: Number of PPCS 76\n",
      "Svt[info]: [asm level on system : up to avx2]\n",
      "Svt[info]: [asm level selected : up to avx2]\n",
      "Svt[info]: -------------------------------------------\n",
      "Svt[info]: SVT [config]: main profile\ttier (auto)\tlevel (auto)\n",
      "Svt[info]: SVT [config]: width / height / fps numerator / fps denominator \t\t: 96 / 96 / 10 / 1\n",
      "Svt[info]: SVT [config]: bit-depth / color format \t\t\t\t\t: 8 / YUV420\n",
      "Svt[info]: SVT [config]: preset / tune / pred struct \t\t\t\t\t: 10 / PSNR / random access\n",
      "Svt[info]: SVT [config]: gop size / mini-gop size / key-frame type \t\t\t: 2 / 16 / key frame\n",
      "Svt[info]: SVT [config]: BRC mode / rate factor \t\t\t\t\t: CRF / 30 \n",
      "Svt[info]: SVT [config]: AQ mode / variance boost \t\t\t\t\t: 2 / 0\n",
      "Svt[info]: -------------------------------------------\n",
      "Svt[info]: -------------------------------------------\n",
      "Svt[info]: SVT [version]:\tSVT-AV1 Encoder Lib v2.3.0-61-g66fb0f59\n",
      "Svt[info]: SVT [build]  :\tGCC 11.4.0\t 64 bit\n",
      "Svt[info]: LIB Build date: Nov 27 2024 13:20:34\n",
      "Svt[info]: -------------------------------------------\n",
      "Svt[info]: Level of Parallelism: 5\n",
      "Svt[info]: Number of PPCS 76\n",
      "Svt[info]: [asm level on system : up to avx2]\n",
      "Svt[info]: [asm level selected : up to avx2]\n",
      "Svt[info]: -------------------------------------------\n",
      "Svt[info]: SVT [config]: main profile\ttier (auto)\tlevel (auto)\n",
      "Svt[info]: SVT [config]: width / height / fps numerator / fps denominator \t\t: 96 / 96 / 10 / 1\n",
      "Svt[info]: SVT [config]: bit-depth / color format \t\t\t\t\t: 8 / YUV420\n",
      "Svt[info]: SVT [config]: preset / tune / pred struct \t\t\t\t\t: 10 / PSNR / random access\n",
      "Svt[info]: SVT [config]: gop size / mini-gop size / key-frame type \t\t\t: 2 / 16 / key frame\n",
      "Svt[info]: SVT [config]: BRC mode / rate factor \t\t\t\t\t: CRF / 30 \n",
      "Svt[info]: SVT [config]: AQ mode / variance boost \t\t\t\t\t: 2 / 0\n",
      "Svt[info]: -------------------------------------------\n",
      "Svt[info]: -------------------------------------------\n",
      "Svt[info]: SVT [version]:\tSVT-AV1 Encoder Lib v2.3.0-61-g66fb0f59\n",
      "Svt[info]: SVT [build]  :\tGCC 11.4.0\t 64 bit\n",
      "Svt[info]: LIB Build date: Nov 27 2024 13:20:34\n",
      "Svt[info]: -------------------------------------------\n",
      "Svt[info]: Level of Parallelism: 5\n",
      "Svt[info]: Number of PPCS 76\n",
      "Svt[info]: [asm level on system : up to avx2]\n",
      "Svt[info]: [asm level selected : up to avx2]\n",
      "Svt[info]: -------------------------------------------\n",
      "Svt[info]: SVT [config]: main profile\ttier (auto)\tlevel (auto)\n",
      "Svt[info]: SVT [config]: width / height / fps numerator / fps denominator \t\t: 96 / 96 / 10 / 1\n",
      "Svt[info]: SVT [config]: bit-depth / color format \t\t\t\t\t: 8 / YUV420\n",
      "Svt[info]: SVT [config]: preset / tune / pred struct \t\t\t\t\t: 10 / PSNR / random access\n",
      "Svt[info]: SVT [config]: gop size / mini-gop size / key-frame type \t\t\t: 2 / 16 / key frame\n",
      "Svt[info]: SVT [config]: BRC mode / rate factor \t\t\t\t\t: CRF / 30 \n",
      "Svt[info]: SVT [config]: AQ mode / variance boost \t\t\t\t\t: 2 / 0\n",
      "Svt[info]: -------------------------------------------\n",
      "Svt[info]: -------------------------------------------\n",
      "Svt[info]: SVT [version]:\tSVT-AV1 Encoder Lib v2.3.0-61-g66fb0f59\n",
      "Svt[info]: SVT [build]  :\tGCC 11.4.0\t 64 bit\n",
      "Svt[info]: LIB Build date: Nov 27 2024 13:20:34\n",
      "Svt[info]: -------------------------------------------\n",
      "Svt[info]: Level of Parallelism: 5\n",
      "Svt[info]: Number of PPCS 76\n",
      "Svt[info]: [asm level on system : up to avx2]\n",
      "Svt[info]: [asm level selected : up to avx2]\n",
      "Svt[info]: -------------------------------------------\n",
      "Svt[info]: SVT [config]: main profile\ttier (auto)\tlevel (auto)\n",
      "Svt[info]: SVT [config]: width / height / fps numerator / fps denominator \t\t: 96 / 96 / 10 / 1\n",
      "Svt[info]: SVT [config]: bit-depth / color format \t\t\t\t\t: 8 / YUV420\n",
      "Svt[info]: SVT [config]: preset / tune / pred struct \t\t\t\t\t: 10 / PSNR / random access\n",
      "Svt[info]: SVT [config]: gop size / mini-gop size / key-frame type \t\t\t: 2 / 16 / key frame\n",
      "Svt[info]: SVT [config]: BRC mode / rate factor \t\t\t\t\t: CRF / 30 \n",
      "Svt[info]: SVT [config]: AQ mode / variance boost \t\t\t\t\t: 2 / 0\n",
      "Svt[info]: -------------------------------------------\n",
      "Svt[info]: -------------------------------------------\n",
      "Svt[info]: SVT [version]:\tSVT-AV1 Encoder Lib v2.3.0-61-g66fb0f59\n",
      "Svt[info]: SVT [build]  :\tGCC 11.4.0\t 64 bit\n",
      "Svt[info]: LIB Build date: Nov 27 2024 13:20:34\n",
      "Svt[info]: -------------------------------------------\n",
      "Svt[info]: Level of Parallelism: 5\n",
      "Svt[info]: Number of PPCS 76\n",
      "Svt[info]: [asm level on system : up to avx2]\n",
      "Svt[info]: [asm level selected : up to avx2]\n",
      "Svt[info]: -------------------------------------------\n",
      "Svt[info]: SVT [config]: main profile\ttier (auto)\tlevel (auto)\n",
      "Svt[info]: SVT [config]: width / height / fps numerator / fps denominator \t\t: 96 / 96 / 10 / 1\n",
      "Svt[info]: SVT [config]: bit-depth / color format \t\t\t\t\t: 8 / YUV420\n",
      "Svt[info]: SVT [config]: preset / tune / pred struct \t\t\t\t\t: 10 / PSNR / random access\n",
      "Svt[info]: SVT [config]: gop size / mini-gop size / key-frame type \t\t\t: 2 / 16 / key frame\n",
      "Svt[info]: SVT [config]: BRC mode / rate factor \t\t\t\t\t: CRF / 30 \n",
      "Svt[info]: SVT [config]: AQ mode / variance boost \t\t\t\t\t: 2 / 0\n",
      "Svt[info]: -------------------------------------------\n",
      "Svt[info]: -------------------------------------------\n",
      "Svt[info]: SVT [version]:\tSVT-AV1 Encoder Lib v2.3.0-61-g66fb0f59\n",
      "Svt[info]: SVT [build]  :\tGCC 11.4.0\t 64 bit\n",
      "Svt[info]: LIB Build date: Nov 27 2024 13:20:34\n",
      "Svt[info]: -------------------------------------------\n",
      "Svt[info]: Level of Parallelism: 5\n",
      "Svt[info]: Number of PPCS 76\n",
      "Svt[info]: [asm level on system : up to avx2]\n",
      "Svt[info]: [asm level selected : up to avx2]\n",
      "Svt[info]: -------------------------------------------\n",
      "Svt[info]: SVT [config]: main profile\ttier (auto)\tlevel (auto)\n",
      "Svt[info]: SVT [config]: width / height / fps numerator / fps denominator \t\t: 96 / 96 / 10 / 1\n",
      "Svt[info]: SVT [config]: bit-depth / color format \t\t\t\t\t: 8 / YUV420\n",
      "Svt[info]: SVT [config]: preset / tune / pred struct \t\t\t\t\t: 10 / PSNR / random access\n",
      "Svt[info]: SVT [config]: gop size / mini-gop size / key-frame type \t\t\t: 2 / 16 / key frame\n",
      "Svt[info]: SVT [config]: BRC mode / rate factor \t\t\t\t\t: CRF / 30 \n",
      "Svt[info]: SVT [config]: AQ mode / variance boost \t\t\t\t\t: 2 / 0\n",
      "Svt[info]: -------------------------------------------\n",
      "Compute mean, min, max: 100%|█████████▉| 2596/2597 [00:21<00:00, 119.70it/s]\n",
      "Compute std: 100%|█████████▉| 2596/2597 [00:20<00:00, 123.70it/s]\n"
     ]
    }
   ],
   "source": [
    "from lerobot.common.datasets.utils import DEFAULT_FEATURES\n",
    "\n",
    "mapping = {\n",
    "    'image': 'observation.image',\n",
    "    'state': 'observation.state',\n",
    "    'action': 'action',\n",
    "    'reward': 'next.reward',\n",
    "}\n",
    "\n",
    "\n",
    "for f in files:\n",
    "    # read, convert to a dictionary NOTE: this is necessary to make the arrays writeable for some reason\n",
    "    data = np.load(f); data = dict(data)\n",
    "\n",
    "    nsteps = len(data['image'])\n",
    "    for t in range(nsteps):\n",
    "        frame = {}\n",
    "        for local_key, lerobot_key in mapping.items():\n",
    "            frame[lerobot_key] = data[local_key][t]\n",
    "\n",
    "        frame['next.success'] = data['is_last'][t]\n",
    "        dataset.add_frame(frame)\n",
    "\n",
    "    dataset.save_episode('pusht', encode_videos=False)\n",
    "dataset.consolidate()"
   ]
  },
  {
   "cell_type": "code",
   "execution_count": 15,
   "metadata": {},
   "outputs": [
    {
     "data": {
      "text/plain": [
       "'~/.cache/huggingface/hub/datasets--pushtv2'"
      ]
     },
     "execution_count": 15,
     "metadata": {},
     "output_type": "execute_result"
    }
   ],
   "source": [
    "src = root\n",
    "dst = '~/.cache/huggingface/hub/datasets--pushtv2'\n",
    "shutil.rmtree(dst)\n",
    "shutil.copytree(src, dst)\n",
    "\n",
    "# LeRobotDataset.create(repo_id,fps=10, root=root)"
   ]
  },
  {
   "cell_type": "code",
   "execution_count": 6,
   "metadata": {},
   "outputs": [],
   "source": [
    "import tqdm\n",
    "import torch\n",
    "import einops\n",
    "import shutil\n",
    "from PIL import Image as PILImage\n",
    "import cv2\n",
    "\n",
    "from lerobot.common.datasets.push_dataset_to_hub.utils import concatenate_episodes, save_images_concurrently\n",
    "from lerobot.common.datasets.compute_stats import compute_stats\n",
    "from lerobot.scripts.push_dataset_to_hub import save_meta_data\n",
    "from lerobot.common.datasets.video_utils import VideoFrame, encode_video_frames\n",
    "from lerobot.common.datasets.utils import orhf_transform_to_torch\n",
    "from datasets import Dataset, Features, Image, Sequence, Value\n",
    "\n",
    "def to_hf_dataset(data_dict, video):\n",
    "    features = {}\n",
    "\n",
    "    if video:\n",
    "        features[\"observation.image\"] = VideoFrame()\n",
    "    else:\n",
    "        features[\"observation.image\"] = Image()\n",
    "\n",
    "    features[\"observation.state\"] = Sequence(\n",
    "        length=data_dict[\"observation.state\"].shape[1], feature=Value(dtype=\"float32\", id=None)\n",
    "    )\n",
    "    features[\"action\"] = Sequence(\n",
    "        length=data_dict[\"action\"].shape[1], feature=Value(dtype=\"float32\", id=None)\n",
    "    )\n",
    "    features[\"episode_index\"] = Value(dtype=\"int64\", id=None)\n",
    "    features[\"frame_index\"] = Value(dtype=\"int64\", id=None)\n",
    "    features[\"timestamp\"] = Value(dtype=\"float32\", id=None)\n",
    "    features[\"next.reward\"] = Value(dtype=\"float32\", id=None)\n",
    "    features[\"next.done\"] = Value(dtype=\"bool\", id=None)\n",
    "    features[\"index\"] = Value(dtype=\"int64\", id=None)\n",
    "    # TODO(rcadene): add success\n",
    "    # features[\"next.success\"] = Value(dtype='bool', id=None)\n",
    "\n",
    "    hf_dataset = Dataset.from_dict(data_dict, features=Features(features))\n",
    "    hf_dataset.set_transform(hf_transform_to_torch)\n",
    "    return hf_dataset\n",
    "\n",
    "def files_to_data_dict(files):\n",
    "    data_dicts = []\n",
    "    for data_fn in files:\n",
    "        print(f\"Processing {data_fn}\", end='...')\n",
    "        data = np.load(data_fn)\n",
    "        data = dict(data); \n",
    "        data[\"is_terminal\"][-1] = True\n",
    "        data_dicts.append(data)\n",
    "    print()\n",
    "    big_data_dict = {}\n",
    "    for k in data_dicts[0].keys():\n",
    "        big_data_dict[k] = np.concatenate([d[k] for d in data_dicts], axis=0)\n",
    "        print(k, big_data_dict[k].shape)\n",
    "        # if 'reward' in big_data_dict:\n",
    "        #     for kk in ['reward', 'is_terminal', 'is_last']:\n",
    "        #         print(f\"\\t{kk} {sum(big_data_dict[kk])}\", end='  ')\n",
    "    return big_data_dict\n",
    "\n",
    "# big_data_dict = files_to_data_dict(files)"
   ]
  },
  {
   "cell_type": "code",
   "execution_count": 7,
   "metadata": {},
   "outputs": [],
   "source": [
    "def fastrl_to_hf(big_data_dict, out_dir):\n",
    "    video = False; fps = 10; video_path = None; debug = False\n",
    "    ep_dicts = []\n",
    "    episode_data_index = {\"from\": [], \"to\": []}\n",
    "\n",
    "    id_from = 0\n",
    "    id_to = 0\n",
    "    ep_idx = 0\n",
    "    data = big_data_dict\n",
    "    total_frames = data[\"action\"].shape[0]\n",
    "# for i in tqdm.tqdm(range(total_frames)):\n",
    "    for i in range(total_frames):\n",
    "        id_to += 1\n",
    "\n",
    "        if not data[\"is_terminal\"][i]:\n",
    "            continue\n",
    "\n",
    "    # print(\"found terminal step\")\n",
    "\n",
    "        num_frames = id_to - id_from\n",
    "\n",
    "        image = torch.tensor(data[\"image\"][id_from:id_to])\n",
    "    # image = einops.rearrange(image, \"b h w c -> b h w c\")\n",
    "    # image = einops.rearrange(image, \"b c h w -> b h w c\")\n",
    "        state = torch.tensor(data[\"state\"][id_from:id_to, :2]) if (\"state\" in data) else torch.zeros(num_frames, 1)\n",
    "    # state = torch.tensor(data[\"vector_state\"][id_from:id_to]) if (\"vector_state\" in data) else torch.zeros(num_frames, 1)\n",
    "        action = (torch.tensor(data[\"action\"][id_from:id_to]) + 1) * 256\n",
    "    # action = torch.tensor(data[\"action\"][id_from:id_to])\n",
    "    # TODO(rcadene): we have a missing last frame which is the observation when the env is done\n",
    "    # it is critical to have this frame for tdmpc to predict a \"done observation/state\"\n",
    "    # next_image = torch.tensor(data[\"next_observations\"][\"rgb\"][id_from:id_to])\n",
    "    # next_state = torch.tensor(data[\"next_observations\"][\"state\"][id_from:id_to])\n",
    "        next_reward = torch.tensor(data[\"reward\"][id_from:id_to])\n",
    "        next_done = torch.tensor(data[\"is_terminal\"][id_from:id_to])\n",
    "\n",
    "        ep_dict = {}\n",
    "\n",
    "        imgs_array = [x.numpy() for x in image]\n",
    "        img_key = \"observation.image\"\n",
    "        if video:\n",
    "        # save png images in temporary directory\n",
    "            tmp_imgs_dir = out_dir / \"tmp_images\"\n",
    "            tmp_imgs_dir.mkdir(parents=True, exist_ok=True)\n",
    "\n",
    "            for i in range(len(imgs_array)):\n",
    "                img = PILImage.fromarray(imgs_array[i])\n",
    "                img.save(str(tmp_imgs_dir / f\"frame_{i:06d}.png\"), quality=100)\n",
    "\n",
    "        # encode images to a mp4 video\n",
    "            fname = f\"{img_key}_episode_{ep_idx:06d}.mp4\"\n",
    "            video_path = out_dir / \"videos\" / fname\n",
    "            encode_video_frames(tmp_imgs_dir, video_path, fps)\n",
    "\n",
    "        # clean temporary images directory\n",
    "            shutil.rmtree(tmp_imgs_dir)\n",
    "\n",
    "        # store the reference to the video frame\n",
    "            ep_dict[img_key] = [{\"path\": f\"videos/{fname}\", \"timestamp\": i / fps} for i in range(num_frames)]\n",
    "        else:\n",
    "        # ep_dict[img_key] = [PILImage.fromarray(x) for x in imgs_array]\n",
    "            ep_dict[img_key] = imgs_array\n",
    "\n",
    "        ep_dict[\"observation.state\"] = state\n",
    "        ep_dict[\"action\"] = action\n",
    "        ep_dict[\"episode_index\"] = torch.tensor([ep_idx] * num_frames, dtype=torch.int64)\n",
    "        ep_dict[\"frame_index\"] = torch.arange(0, num_frames, 1)\n",
    "        ep_dict[\"timestamp\"] = torch.arange(0, num_frames, 1) / fps\n",
    "    # ep_dict[\"next.observation.image\"] = next_image\n",
    "    # ep_dict[\"next.observation.state\"] = next_state\n",
    "        ep_dict[\"next.reward\"] = next_reward\n",
    "        ep_dict[\"next.done\"] = next_done\n",
    "        ep_dicts.append(ep_dict)\n",
    "\n",
    "        episode_data_index[\"from\"].append(id_from)\n",
    "        episode_data_index[\"to\"].append(id_from + num_frames)\n",
    "\n",
    "        id_from = id_to\n",
    "        ep_idx += 1\n",
    "\n",
    "    # process first episode only\n",
    "        if debug:\n",
    "            break\n",
    "    if len(ep_dicts) == 0:\n",
    "        print(\"No terminal step found in the dataset\")\n",
    "    else:\n",
    "        for k,v in ep_dicts[0].items():\n",
    "            print(k, ep_dicts[0][k].shape if hasattr(ep_dicts[0][k], 'shape') else len(ep_dicts[0][k]), ep_dicts[-1][k].shape if hasattr(ep_dicts[-1][k], 'shape') else len(ep_dicts[-1][k]))\n",
    "\n",
    "        # convert things to\n",
    "        data_dict = concatenate_episodes(ep_dicts)\n",
    "        data_dict, episode_data_index\n",
    "\n",
    "        for k,v in data_dict.items():\n",
    "            print(k, v.shape if hasattr(v, 'shape') else len(v), type(v))\n",
    "\n",
    "        hf_dataset = to_hf_dataset(data_dict, video)\n",
    "\n",
    "        info = {\"fps\": fps, \"video\": video}\n",
    "\n",
    "        if video_path: \n",
    "            print(f\"video path: {video_path}\")\n",
    "        lerobot_dataset = LeRobotDataset.from_preloaded(\n",
    "            repo_id=env_name,\n",
    "            hf_dataset=hf_dataset,\n",
    "            episode_data_index=episode_data_index,\n",
    "            info=info,\n",
    "            videos_dir=video_path,\n",
    "            )\n",
    "\n",
    "\n",
    "        hf_dataset = hf_dataset.with_format(None)  # to remove transforms that cant be saved\n",
    "        hf_dataset.save_to_disk(str(out_dir / \"train\"))\n",
    "    # print(lerobot_dataset)\n",
    "    stats = compute_stats(lerobot_dataset, batch_size=16, num_workers=1)\n",
    "    save_meta_data(info, stats, episode_data_index, out_dir / \"meta_data\")\n",
    "    return stats\n",
    "\n",
    "# stats = fastrl_to_hf(big_data_dict, out_dir)\n"
   ]
  },
  {
   "cell_type": "code",
   "execution_count": 8,
   "metadata": {},
   "outputs": [],
   "source": [
    "import cv2\n",
    "import numpy as np\n",
    "\n",
    "def resize_images(bdd):\n",
    "    for k in ['pixels', 'image']:\n",
    "        if k in bdd:\n",
    "            print(f\"Original {k} shape:\", bdd[k].shape)\n",
    "\n",
    "            # Reshape if necessary (assuming the images are in NHWC format)\n",
    "            if bdd[k].shape[-1] != 3:\n",
    "                bdd[k] = np.transpose(bdd[k], (0, 2, 3, 1))\n",
    "        \n",
    "            # Get the original dimensions\n",
    "            n, h, w, c = bdd[k].shape\n",
    "        \n",
    "            # Resize to 96x96\n",
    "            resized = np.zeros((n, 96, 96, c), dtype=bdd[k].dtype)\n",
    "            for i in range(n):\n",
    "                resized[i] = cv2.resize(bdd[k][i], (96, 96), interpolation=cv2.INTER_CUBIC)\n",
    "        \n",
    "        # Update the dictionary with resized images\n",
    "            bdd[k] = resized\n",
    "            \n",
    "            print(f\"Resized {k} shape:\", bdd[k].shape)\n",
    "    else:\n",
    "        print(f\"Key '{k}' not found in big_data_dict\")"
   ]
  },
  {
   "cell_type": "code",
   "execution_count": null,
   "metadata": {},
   "outputs": [],
   "source": [
    "# imis = [4, 5, 6, 7, 9, 10] if AI else [3,4,5,6,7,8,9,10]\n",
    "RESIZE_TO_96x96 = False\n",
    "imis = [22] #[11, 12, 13, 14]\n",
    "for ai_tag in [True, False]:\n",
    "    for imi in imis:\n",
    "        files, out_dir = get_files(env_name, imi, AI=ai_tag, resize=RESIZE_TO_96x96)\n",
    "        if files:\n",
    "            big_data_dict = files_to_data_dict(files)\n",
    "            if RESIZE_TO_96x96: resize_images(big_data_dict)\n",
    "            print(f\"Attempting to write to {out_dir}\")\n",
    "            stats = fastrl_to_hf(big_data_dict, out_dir)\n",
    "            # for k,v in stats.items():\n",
    "            #     print(k, v)\n",
    "        else: print(f\"Could not find files for {imi} AI {ai_tag}\")"
   ]
  },
  {
   "cell_type": "code",
   "execution_count": null,
   "metadata": {},
   "outputs": [],
   "source": [
    "video = False; fps = 20; video_path = None; debug = False\n",
    "ep_dicts = []\n",
    "episode_data_index = {\"from\": [], \"to\": []}\n",
    "\n",
    "id_from = 0\n",
    "id_to = 0\n",
    "ep_idx = 0\n",
    "data = big_data_dict\n",
    "total_frames = data[\"action\"].shape[0]\n",
    "# for i in tqdm.tqdm(range(total_frames)):\n",
    "for i in range(total_frames):\n",
    "    id_to += 1\n",
    "\n",
    "    if not data[\"is_terminal\"][i]:\n",
    "        continue\n",
    "\n",
    "# print(\"found terminal step\")\n",
    "\n",
    "    num_frames = id_to - id_from\n",
    "\n",
    "    image = torch.tensor(data[\"image\"][id_from:id_to])\n",
    "# image = einops.rearrange(image, \"b h w c -> b h w c\")\n",
    "# image = einops.rearrange(image, \"b c h w -> b h w c\")\n",
    "    state = torch.tensor(data[\"state\"][id_from:id_to, :2]) if (\"state\" in data) else torch.zeros(num_frames, 1)\n",
    "# state = torch.tensor(data[\"vector_state\"][id_from:id_to]) if (\"vector_state\" in data) else torch.zeros(num_frames, 1)\n",
    "    action = (torch.tensor(data[\"action\"][id_from:id_to]) + 1) * 256\n",
    "# action = torch.tensor(data[\"action\"][id_from:id_to])\n",
    "# TODO(rcadene): we have a missing last frame which is the observation when the env is done\n",
    "# it is critical to have this frame for tdmpc to predict a \"done observation/state\"\n",
    "# next_image = torch.tensor(data[\"next_observations\"][\"rgb\"][id_from:id_to])\n",
    "# next_state = torch.tensor(data[\"next_observations\"][\"state\"][id_from:id_to])\n",
    "    next_reward = torch.tensor(data[\"reward\"][id_from:id_to])\n",
    "    next_done = torch.tensor(data[\"is_terminal\"][id_from:id_to])\n",
    "\n",
    "    ep_dict = {}\n",
    "\n",
    "    imgs_array = [x.numpy() for x in image]\n",
    "    img_key = \"observation.image\"\n",
    "    if video:\n",
    "    # save png images in temporary directory\n",
    "        tmp_imgs_dir = out_dir / \"tmp_images\"\n",
    "        tmp_imgs_dir.mkdir(parents=True, exist_ok=True)\n",
    "\n",
    "        for i in range(len(imgs_array)):\n",
    "            img = PILImage.fromarray(imgs_array[i])\n",
    "            img.save(str(tmp_imgs_dir / f\"frame_{i:06d}.png\"), quality=100)\n",
    "\n",
    "    # encode images to a mp4 video\n",
    "        fname = f\"{img_key}_episode_{ep_idx:06d}.mp4\"\n",
    "        video_path = out_dir / \"videos\" / fname\n",
    "        encode_video_frames(tmp_imgs_dir, video_path, fps)\n",
    "\n",
    "    # clean temporary images directory\n",
    "        shutil.rmtree(tmp_imgs_dir)\n",
    "\n",
    "    # store the reference to the video frame\n",
    "        ep_dict[img_key] = [{\"path\": f\"videos/{fname}\", \"timestamp\": i / fps} for i in range(num_frames)]\n",
    "    else:\n",
    "    # ep_dict[img_key] = [PILImage.fromarray(x) for x in imgs_array]\n",
    "        ep_dict[img_key] = imgs_array\n",
    "\n",
    "    ep_dict[\"observation.state\"] = state\n",
    "    ep_dict[\"action\"] = action\n",
    "    ep_dict[\"episode_index\"] = torch.tensor([ep_idx] * num_frames, dtype=torch.int64)\n",
    "    ep_dict[\"frame_index\"] = torch.arange(0, num_frames, 1)\n",
    "    ep_dict[\"timestamp\"] = torch.arange(0, num_frames, 1) / fps\n",
    "# ep_dict[\"next.observation.image\"] = next_image\n",
    "# ep_dict[\"next.observation.state\"] = next_state\n",
    "    ep_dict[\"next.reward\"] = next_reward\n",
    "    ep_dict[\"next.done\"] = next_done\n",
    "    ep_dicts.append(ep_dict)\n",
    "\n",
    "    episode_data_index[\"from\"].append(id_from)\n",
    "    episode_data_index[\"to\"].append(id_from + num_frames)\n",
    "\n",
    "    id_from = id_to\n",
    "    ep_idx += 1\n",
    "\n",
    "# process first episode only\n",
    "    if debug:\n",
    "        break\n",
    "if len(ep_dicts) == 0:\n",
    "    print(\"No terminal step found in the dataset\")\n",
    "else:\n",
    "    for k,v in ep_dicts[0].items():\n",
    "        print(k, ep_dicts[0][k].shape if hasattr(ep_dicts[0][k], 'shape') else len(ep_dicts[0][k]), ep_dicts[-1][k].shape if hasattr(ep_dicts[-1][k], 'shape') else len(ep_dicts[-1][k]))\n",
    "\n",
    "    # convert things to\n",
    "    data_dict = concatenate_episodes(ep_dicts)"
   ]
  },
  {
   "cell_type": "code",
   "execution_count": null,
   "metadata": {},
   "outputs": [],
   "source": [
    "ep_dicts[0]['observation.image'][0].shape\n",
    "\n",
    "\n",
    "for f,t in zip(episode_data_index['from'], episode_data_index['to']):\n",
    "    print(f, t, data_dict['action'][f:t].shape)"
   ]
  }
 ],
 "metadata": {
  "kernelspec": {
   "display_name": "fastrl",
   "language": "python",
   "name": "fastrl"
  },
  "language_info": {
   "codemirror_mode": {
    "name": "ipython",
    "version": 3
   },
   "file_extension": ".py",
   "mimetype": "text/x-python",
   "name": "python",
   "nbconvert_exporter": "python",
   "pygments_lexer": "ipython3",
   "version": "3.10.12"
  }
 },
 "nbformat": 4,
 "nbformat_minor": 2
}
