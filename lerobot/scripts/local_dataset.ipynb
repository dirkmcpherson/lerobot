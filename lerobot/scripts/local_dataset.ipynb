{
 "cells": [
  {
   "cell_type": "code",
   "execution_count": 1,
   "metadata": {},
   "outputs": [],
   "source": [
    "%load_ext autoreload\n",
    "%autoreload 2"
   ]
  },
  {
   "cell_type": "code",
   "execution_count": 2,
   "metadata": {},
   "outputs": [
    {
     "name": "stdout",
     "output_type": "stream",
     "text": [
      "resume: false\n",
      "device: cuda\n",
      "use_amp: false\n",
      "seed: 100000\n",
      "dataset_repo_id: lerobot/pusht\n",
      "video_backend: pyav\n",
      "training:\n",
      "  offline_steps: 200000\n",
      "  num_workers: 4\n",
      "  batch_size: 64\n",
      "  eval_freq: 10000\n",
      "  log_freq: 200\n",
      "  save_checkpoint: true\n",
      "  save_freq: 100000\n",
      "  online_steps: 0\n",
      "  online_rollout_n_episodes: 1\n",
      "  online_rollout_batch_size: 1\n",
      "  online_steps_between_rollouts: 1\n",
      "  online_sampling_ratio: 0.5\n",
      "  online_env_seed: null\n",
      "  online_buffer_capacity: null\n",
      "  online_buffer_seed_size: 0\n",
      "  do_online_rollout_async: false\n",
      "  image_transforms:\n",
      "    enable: false\n",
      "    max_num_transforms: 3\n",
      "    random_order: false\n",
      "    brightness:\n",
      "      weight: 1\n",
      "      min_max:\n",
      "      - 0.8\n",
      "      - 1.2\n",
      "    contrast:\n",
      "      weight: 1\n",
      "      min_max:\n",
      "      - 0.8\n",
      "      - 1.2\n",
      "    saturation:\n",
      "      weight: 1\n",
      "      min_max:\n",
      "      - 0.5\n",
      "      - 1.5\n",
      "    hue:\n",
      "      weight: 1\n",
      "      min_max:\n",
      "      - -0.05\n",
      "      - 0.05\n",
      "    sharpness:\n",
      "      weight: 1\n",
      "      min_max:\n",
      "      - 0.8\n",
      "      - 1.2\n",
      "  grad_clip_norm: 10\n",
      "  lr: 0.0001\n",
      "  lr_scheduler: cosine\n",
      "  lr_warmup_steps: 500\n",
      "  adam_betas:\n",
      "  - 0.95\n",
      "  - 0.999\n",
      "  adam_eps: 1.0e-08\n",
      "  adam_weight_decay: 1.0e-06\n",
      "  delta_timestamps:\n",
      "    observation.image: '[i / ${fps} for i in range(1 - ${policy.n_obs_steps}, 1)]'\n",
      "    observation.state: '[i / ${fps} for i in range(1 - ${policy.n_obs_steps}, 1)]'\n",
      "    action: '[i / ${fps} for i in range(1 - ${policy.n_obs_steps}, 1 - ${policy.n_obs_steps}\n",
      "      + ${policy.horizon})]'\n",
      "  drop_n_last_frames: 7\n",
      "eval:\n",
      "  n_episodes: 50\n",
      "  batch_size: 50\n",
      "  use_async_envs: false\n",
      "wandb:\n",
      "  enable: true\n",
      "  disable_artifact: false\n",
      "  entity: jambotime\n",
      "  project: diffusion_pusht\n",
      "  notes: ''\n",
      "fps: 10\n",
      "env:\n",
      "  name: pusht\n",
      "  task: PushT-v0\n",
      "  image_size: 96\n",
      "  state_dim: 5\n",
      "  action_dim: 2\n",
      "  fps: ${fps}\n",
      "  episode_length: 300\n",
      "  gym:\n",
      "    obs_type: pixels_state\n",
      "    render_mode: rgb_array\n",
      "    visualization_width: 384\n",
      "    visualization_height: 384\n",
      "    observation_width: 96\n",
      "    observation_height: 96\n",
      "    force_sparse: false\n",
      "    display_cross: false\n",
      "override_dataset_stats:\n",
      "  observation.image:\n",
      "    mean:\n",
      "    - - - 0.5\n",
      "    - - - 0.5\n",
      "    - - - 0.5\n",
      "    std:\n",
      "    - - - 0.5\n",
      "    - - - 0.5\n",
      "    - - - 0.5\n",
      "  action:\n",
      "    min:\n",
      "    - 12.0\n",
      "    - 25.0\n",
      "    max:\n",
      "    - 511.0\n",
      "    - 511.0\n",
      "policy:\n",
      "  name: diffusion\n",
      "  n_obs_steps: 2\n",
      "  horizon: 16\n",
      "  n_action_steps: 8\n",
      "  input_shapes:\n",
      "    observation.image:\n",
      "    - 3\n",
      "    - 96\n",
      "    - 96\n",
      "    observation.state:\n",
      "    - ${env.state_dim}\n",
      "  output_shapes:\n",
      "    action:\n",
      "    - ${env.action_dim}\n",
      "  input_normalization_modes:\n",
      "    observation.image: mean_std\n",
      "    observation.state: min_max\n",
      "  output_normalization_modes:\n",
      "    action: min_max\n",
      "  vision_backbone: resnet18\n",
      "  crop_shape:\n",
      "  - 84\n",
      "  - 84\n",
      "  crop_is_random: true\n",
      "  pretrained_backbone_weights: null\n",
      "  use_group_norm: true\n",
      "  spatial_softmax_num_keypoints: 32\n",
      "  down_dims:\n",
      "  - 512\n",
      "  - 1024\n",
      "  - 2048\n",
      "  kernel_size: 5\n",
      "  n_groups: 8\n",
      "  diffusion_step_embed_dim: 128\n",
      "  use_film_scale_modulation: true\n",
      "  noise_scheduler_type: DDPM\n",
      "  num_train_timesteps: 100\n",
      "  beta_schedule: squaredcos_cap_v2\n",
      "  beta_start: 0.0001\n",
      "  beta_end: 0.02\n",
      "  prediction_type: epsilon\n",
      "  clip_sample: true\n",
      "  clip_sample_range: 1.0\n",
      "  num_inference_steps: null\n",
      "  do_mask_loss_for_padding: false\n",
      "\n"
     ]
    }
   ],
   "source": [
    "from pathlib import Path\n",
    "from pprint import pprint\n",
    "\n",
    "import lerobot\n",
    "from lerobot.common.datasets.lerobot_dataset import LeRobotDataset\n",
    "from lerobot.common.datasets.factory import make_dataset\n",
    "\n",
    "\n",
    "from hydra import compose, initialize\n",
    "from omegaconf import OmegaConf\n",
    "\n",
    "# context initialization\n",
    "with initialize(version_base=None, config_path=\"../configs\", job_name=\"test_app\"):\n",
    "    cfg = compose(config_name=\"default\")\n",
    "    print(OmegaConf.to_yaml(cfg))"
   ]
  },
  {
   "cell_type": "code",
   "execution_count": null,
   "metadata": {},
   "outputs": [
    {
     "name": "stdout",
     "output_type": "stream",
     "text": [
      "[PosixPath('/home/james/workspace/fastrl/logs/HD_pusht_22/HD_pusht_PushT-v0_2024-11-24-10_05_16/20241124T100557-dc47d7c42ed64dac92aafd48041f9513-187.npz'), PosixPath('/home/james/workspace/fastrl/logs/HD_pusht_22/HD_pusht_PushT-v0_2024-11-24-10_05_16/20241124T100531-e099debbf8bd4e1694f56f6e4b4acb89-182.npz'), PosixPath('/home/james/workspace/fastrl/logs/HD_pusht_22/HD_pusht_PushT-v0_2024-11-24-10_05_16/20241124T100700-e8096e7cc88e4025ae4453adc8382d93-301.npz'), PosixPath('/home/james/workspace/fastrl/logs/HD_pusht_22/HD_pusht_PushT-v0_2024-11-24-10_05_16/20241124T100632-39686ac3802e4e529e5b494c52c8332a-128.npz'), PosixPath('/home/james/workspace/fastrl/logs/HD_pusht_22/HD_pusht_PushT-v0_2024-11-24-10_05_16/20241124T100605-ea8581974ce74c46b499ac2ae725aaaf-252.npz'), PosixPath('/home/james/workspace/fastrl/logs/HD_pusht_22/HD_pusht_PushT-v0_2024-11-24-10_05_16/20241124T100757-94a4b5b8f9eb4c8da56a3a8501826a51-270.npz'), PosixPath('/home/james/workspace/fastrl/logs/HD_pusht_22/HD_pusht_PushT-v0_2024-11-24-10_05_16/20241124T100653-0a70c91014e04dfda0f5726522bf42e0-124.npz'), PosixPath('/home/james/workspace/fastrl/logs/HD_pusht_22/HD_pusht_PushT-v0_2024-11-24-10_05_16/20241124T100638-fd25498b20c54c4abbe7547423504b31-301.npz'), PosixPath('/home/james/workspace/fastrl/logs/HD_pusht_22/HD_pusht_PushT-v0_2024-11-24-10_05_16/20241124T100618-801927b3da634c2593892cfcae8a3534-301.npz'), PosixPath('/home/james/workspace/fastrl/logs/HD_pusht_22/HD_pusht_PushT-v0_2024-11-24-10_05_16/20241124T100812-52ee3a4f631e48589defd6cfebc174b7-301.npz'), PosixPath('/home/james/workspace/fastrl/logs/HD_pusht_22/HD_pusht_PushT-v0_2024-11-24-10_05_16/20241124T100549-592d74cdfefa4d9c949c3e72ff38a11b-166.npz'), PosixPath('/home/james/workspace/fastrl/logs/HD_pusht_22/HD_pusht_PushT-v0_2024-11-24-10_05_16/20241124T100731-2699434240b2421a8e4518fe4b2d3d83-263.npz'), PosixPath('/home/james/workspace/fastrl/logs/HD_pusht_22/HD_pusht_PushT-v0_2024-11-24-10_05_16/20241124T100517-3cb6fd978c6144c69d26ad27f939c6b1-301.npz'), PosixPath('/home/james/workspace/fastrl/logs/HD_pusht_22/HD_pusht_PushT-v0_2024-11-24-10_05_16/20241124T100715-26b5fa886a9b4f59bd801b7a3ced8829-301.npz'), PosixPath('/home/james/workspace/fastrl/logs/HD_pusht_22/HD_pusht_PushT-v0_2024-11-24-10_05_16/20241124T100539-3097d968843846a88a1412d00ecdfed9-211.npz'), PosixPath('/home/james/workspace/fastrl/logs/HD_pusht_22/HD_pusht_PushT-v0_2024-11-24-10_05_16/20241124T100746-e92c0e1f43cb4ac5b2d44bdf41d78804-210.npz'), PosixPath('/home/james/workspace/fastrl/logs/HD_pusht_22/HD_pusht_PushT-v0_2024-11-24-09_46_42/20241124T095356-67d2c1e3ec64420f8466c7270255e9b3-101.npz'), PosixPath('/home/james/workspace/fastrl/logs/HD_pusht_22/HD_pusht_PushT-v0_2024-11-24-09_46_42/20241124T094705-d324936814af44f3aa9ddfee27c1da99-270.npz'), PosixPath('/home/james/workspace/fastrl/logs/HD_pusht_22/HD_pusht_PushT-v0_2024-11-24-09_46_42/20241124T095117-9ed30bdc73934eaf8320d11e9ce8bfa5-236.npz'), PosixPath('/home/james/workspace/fastrl/logs/HD_pusht_22/HD_pusht_PushT-v0_2024-11-24-09_46_42/20241124T095002-1e4ea5e84a0f44b98f996a89e534b142-183.npz'), PosixPath('/home/james/workspace/fastrl/logs/HD_pusht_22/HD_pusht_PushT-v0_2024-11-24-09_46_42/20241124T095300-2a3f2bf58d17470a88640840e1905db8-155.npz'), PosixPath('/home/james/workspace/fastrl/logs/HD_pusht_22/HD_pusht_PushT-v0_2024-11-24-09_46_42/20241124T095227-7dfca9f6dc96459898570bdcd3f99f83-162.npz'), PosixPath('/home/james/workspace/fastrl/logs/HD_pusht_22/HD_pusht_PushT-v0_2024-11-24-09_46_42/20241124T095031-100f7501baf7428c9e1af6bd607b9965-192.npz'), PosixPath('/home/james/workspace/fastrl/logs/HD_pusht_22/HD_pusht_PushT-v0_2024-11-24-09_46_42/20241124T094725-ac72031b84fc40548bcab75b3a7fb450-236.npz'), PosixPath('/home/james/workspace/fastrl/logs/HD_pusht_22/HD_pusht_PushT-v0_2024-11-24-09_46_42/20241124T094843-3f9aa87d49c84948bdaa264518dfc906-204.npz'), PosixPath('/home/james/workspace/fastrl/logs/HD_pusht_22/HD_pusht_PushT-v0_2024-11-24-09_46_42/20241124T094812-592fe9082dcf46d495ecaf0a976c1f79-292.npz'), PosixPath('/home/james/workspace/fastrl/logs/HD_pusht_22/HD_pusht_PushT-v0_2024-11-24-09_46_42/20241124T094643-1333d8cd81954d568b282c851122f79a-154.npz'), PosixPath('/home/james/workspace/fastrl/logs/HD_pusht_22/HD_pusht_PushT-v0_2024-11-24-09_46_42/20241124T095323-4eaa57e78f9c40bf986e4335706aa4dd-270.npz'), PosixPath('/home/james/workspace/fastrl/logs/HD_pusht_22/HD_pusht_PushT-v0_2024-11-24-09_46_42/20241124T095402-1c91e274f2a64d348c2b0f165128d8b0-159.npz'), PosixPath('/home/james/workspace/fastrl/logs/HD_pusht_22/HD_pusht_PushT-v0_2024-11-24-09_46_42/20241124T095310-92377bb456b1469594213bbbef0ca678-192.npz'), PosixPath('/home/james/workspace/fastrl/logs/HD_pusht_22/HD_pusht_PushT-v0_2024-11-24-09_46_42/20241124T095207-5a82403e5a4e47c0a432a158c2594d37-139.npz'), PosixPath('/home/james/workspace/fastrl/logs/HD_pusht_22/HD_pusht_PushT-v0_2024-11-24-09_46_42/20241124T094748-0e2bbef2d2fb459d97065d2aa0f9cf00-301.npz'), PosixPath('/home/james/workspace/fastrl/logs/HD_pusht_22/HD_pusht_PushT-v0_2024-11-24-09_46_42/20241124T095252-0369567812c94a9f86b955907fe7476e-120.npz'), PosixPath('/home/james/workspace/fastrl/logs/HD_pusht_22/HD_pusht_PushT-v0_2024-11-24-09_46_42/20241124T095216-ddd2ad0fe6744ef7aef658bd5b0212eb-150.npz'), PosixPath('/home/james/workspace/fastrl/logs/HD_pusht_22/HD_pusht_PushT-v0_2024-11-24-09_46_42/20241124T095132-b471469bbb0c4315a61f994f5160c531-166.npz'), PosixPath('/home/james/workspace/fastrl/logs/HD_pusht_22/HD_pusht_PushT-v0_2024-11-24-09_46_42/20241124T094902-d16dd8c2e856474bbbffa25eef089ad4-288.npz'), PosixPath('/home/james/workspace/fastrl/logs/HD_pusht_22/HD_pusht_PushT-v0_2024-11-24-09_46_42/20241124T095142-becf203951a1494f88b0e65168dc15fe-248.npz'), PosixPath('/home/james/workspace/fastrl/logs/HD_pusht_22/HD_pusht_PushT-v0_2024-11-24-09_46_42/20241124T094736-f5af97086d0643f2b8d396eecc11f736-249.npz'), PosixPath('/home/james/workspace/fastrl/logs/HD_pusht_22/HD_pusht_PushT-v0_2024-11-24-09_46_42/20241124T095237-1a95dc20a502436c985adaff13d64781-214.npz'), PosixPath('/home/james/workspace/fastrl/logs/HD_pusht_22/HD_pusht_PushT-v0_2024-11-24-09_46_42/20241124T094944-3d4e4bc5dbe543b4b9533dba4976f940-141.npz'), PosixPath('/home/james/workspace/fastrl/logs/HD_pusht_22/HD_pusht_PushT-v0_2024-11-24-09_46_42/20241124T095109-d0b8c003771748e8827662568bfe83f0-138.npz'), PosixPath('/home/james/workspace/fastrl/logs/HD_pusht_22/HD_pusht_PushT-v0_2024-11-24-09_46_42/20241124T095013-2ded06228d1e4439912e689b87f98e89-301.npz'), PosixPath('/home/james/workspace/fastrl/logs/HD_pusht_22/HD_pusht_PushT-v0_2024-11-24-09_46_42/20241124T094918-05604bb0b3894cbbbaaca2ef33ca36a7-113.npz'), PosixPath('/home/james/workspace/fastrl/logs/HD_pusht_22/HD_pusht_PushT-v0_2024-11-24-09_46_42/20241124T094932-a7a825ce52fa45a09e5b203b931cbaed-210.npz'), PosixPath('/home/james/workspace/fastrl/logs/HD_pusht_22/HD_pusht_PushT-v0_2024-11-24-09_46_42/20241124T095042-3cf3a1cf10534d32b415bdaf5de6e6e6-301.npz'), PosixPath('/home/james/workspace/fastrl/logs/HD_pusht_22/HD_pusht_PushT-v0_2024-11-24-09_46_42/20241124T094718-91f21229d8bd4052ab96c67ee9a29c4a-150.npz'), PosixPath('/home/james/workspace/fastrl/logs/HD_pusht_22/HD_pusht_PushT-v0_2024-11-24-09_46_42/20241124T094803-c4522a37894245eb8a47bd1cb91e0384-189.npz'), PosixPath('/home/james/workspace/fastrl/logs/HD_pusht_22/HD_pusht_PushT-v0_2024-11-24-09_46_42/20241124T094827-7aaaf828653d4c57b6b69a55de1e9dd1-301.npz'), PosixPath('/home/james/workspace/fastrl/logs/HD_pusht_22/HD_pusht_PushT-v0_2024-11-24-09_46_42/20241124T095100-e5123ee5dab44c5996ab750e124a2db0-130.npz'), PosixPath('/home/james/workspace/fastrl/logs/HD_pusht_22/HD_pusht_PushT-v0_2024-11-24-09_46_42/20241124T094952-d3ed2d694fc047fca59c11343806f669-164.npz'), PosixPath('/home/james/workspace/fastrl/logs/HD_pusht_22/HD_pusht_PushT-v0_2024-11-24-09_46_42/20241124T094854-ef6aa2abc38e4405be0b7967ad1ed583-153.npz'), PosixPath('/home/james/workspace/fastrl/logs/HD_pusht_22/HD_pusht_PushT-v0_2024-11-24-09_46_42/20241124T095342-8ba56a3429844018b2833a74ac3d35da-185.npz'), PosixPath('/home/james/workspace/fastrl/logs/HD_pusht_22/HD_pusht_PushT-v0_2024-11-24-09_46_42/20241124T095158-292763918e5741f5b3fd5ba01da05778-136.npz'), PosixPath('/home/james/workspace/fastrl/logs/HD_pusht_22/HD_pusht_PushT-v0_2024-11-24-09_46_42/20241124T094651-49fbb360e4c14f9bbb78f392f0a758e8-301.npz'), PosixPath('/home/james/workspace/fastrl/logs/HD_pusht_22/HD_pusht_PushT-v0_2024-11-24-09_46_42/20241124T094924-42fead2f4a3d4b7da1dc07b447216efe-139.npz'), PosixPath('/home/james/workspace/fastrl/logs/HD_pusht_22/HD_pusht_PushT-v0_2024-11-24-09_55_07/20241124T100117-a5b9ab10a92c4f97887c6174a822e176-226.npz'), PosixPath('/home/james/workspace/fastrl/logs/HD_pusht_22/HD_pusht_PushT-v0_2024-11-24-09_55_07/20241124T095545-b6ae810c3229400e8d900f8261b0995d-182.npz'), PosixPath('/home/james/workspace/fastrl/logs/HD_pusht_22/HD_pusht_PushT-v0_2024-11-24-09_55_07/20241124T095651-e2280336ee334c46aa895cef4ea3edfe-259.npz'), PosixPath('/home/james/workspace/fastrl/logs/HD_pusht_22/HD_pusht_PushT-v0_2024-11-24-09_55_07/20241124T100053-07063b92de0b4bad8d6dd5ec09ee99c8-183.npz'), PosixPath('/home/james/workspace/fastrl/logs/HD_pusht_22/HD_pusht_PushT-v0_2024-11-24-09_55_07/20241124T095946-90b4ad9b4b9746649aa0a30aa11c933f-179.npz'), PosixPath('/home/james/workspace/fastrl/logs/HD_pusht_22/HD_pusht_PushT-v0_2024-11-24-09_55_07/20241124T095553-eb555961c80647b195d798dc666246c4-301.npz'), PosixPath('/home/james/workspace/fastrl/logs/HD_pusht_22/HD_pusht_PushT-v0_2024-11-24-09_55_07/20241124T095735-5530ae348bec4a369bc61c9884480bab-301.npz'), PosixPath('/home/james/workspace/fastrl/logs/HD_pusht_22/HD_pusht_PushT-v0_2024-11-24-09_55_07/20241124T095904-ba630e8dc79549b6aa3dd604d0a7ba49-207.npz'), PosixPath('/home/james/workspace/fastrl/logs/HD_pusht_22/HD_pusht_PushT-v0_2024-11-24-09_55_07/20241124T095533-8735cc3391bc4eef97b411b145dc16c3-253.npz'), PosixPath('/home/james/workspace/fastrl/logs/HD_pusht_22/HD_pusht_PushT-v0_2024-11-24-09_55_07/20241124T100133-4e89f112ff4a4623b228f93bdb96e31e-111.npz'), PosixPath('/home/james/workspace/fastrl/logs/HD_pusht_22/HD_pusht_PushT-v0_2024-11-24-09_55_07/20241124T095527-12c4b054a48a43a78f53260bfc0a0267-125.npz'), PosixPath('/home/james/workspace/fastrl/logs/HD_pusht_22/HD_pusht_PushT-v0_2024-11-24-09_55_07/20241124T095925-8159292bbc4f437aa6d19a46510837b6-141.npz'), PosixPath('/home/james/workspace/fastrl/logs/HD_pusht_22/HD_pusht_PushT-v0_2024-11-24-09_55_07/20241124T095934-14aa685534b84c10aaf3b260dc0478a6-191.npz'), PosixPath('/home/james/workspace/fastrl/logs/HD_pusht_22/HD_pusht_PushT-v0_2024-11-24-09_55_07/20241124T095720-0345db4e762540058e738a3abe138169-301.npz'), PosixPath('/home/james/workspace/fastrl/logs/HD_pusht_22/HD_pusht_PushT-v0_2024-11-24-09_55_07/20241124T095617-b1e799e34a49489ca2848c20b827fadd-141.npz'), PosixPath('/home/james/workspace/fastrl/logs/HD_pusht_22/HD_pusht_PushT-v0_2024-11-24-09_55_07/20241124T100028-6714c22e37b945f98bbe2b157b6a55c4-183.npz'), PosixPath('/home/james/workspace/fastrl/logs/HD_pusht_22/HD_pusht_PushT-v0_2024-11-24-09_55_07/20241124T095522-136a74d3411d444cadf9c87823afba3d-113.npz'), PosixPath('/home/james/workspace/fastrl/logs/HD_pusht_22/HD_pusht_PushT-v0_2024-11-24-09_55_07/20241124T095508-90f09119f89b4b1c9c36ccb33bd88c11-162.npz'), PosixPath('/home/james/workspace/fastrl/logs/HD_pusht_22/HD_pusht_PushT-v0_2024-11-24-09_55_07/20241124T095752-a16bcc90b26041c58b9e6e94391d0bec-301.npz'), PosixPath('/home/james/workspace/fastrl/logs/HD_pusht_22/HD_pusht_PushT-v0_2024-11-24-09_55_07/20241124T100152-0bfd363288504d628566bc577e95e0af-140.npz'), PosixPath('/home/james/workspace/fastrl/logs/HD_pusht_22/HD_pusht_PushT-v0_2024-11-24-09_55_07/20241124T095624-c1fb5a8abc7f4598890b4167b013e9c0-90.npz'), PosixPath('/home/james/workspace/fastrl/logs/HD_pusht_22/HD_pusht_PushT-v0_2024-11-24-09_55_07/20241124T100301-d777ecaac0634fb59af404de41af1e81-221.npz'), PosixPath('/home/james/workspace/fastrl/logs/HD_pusht_22/HD_pusht_PushT-v0_2024-11-24-09_55_07/20241124T100210-0674f7ec3a1942c2b386f698a0957aeb-301.npz'), PosixPath('/home/james/workspace/fastrl/logs/HD_pusht_22/HD_pusht_PushT-v0_2024-11-24-09_55_07/20241124T100140-69b3563f896a48fdaf83a1a2bf552ad0-169.npz'), PosixPath('/home/james/workspace/fastrl/logs/HD_pusht_22/HD_pusht_PushT-v0_2024-11-24-09_55_07/20241124T100105-018a73c122974ca390d4645398d103a7-189.npz'), PosixPath('/home/james/workspace/fastrl/logs/HD_pusht_22/HD_pusht_PushT-v0_2024-11-24-09_55_07/20241124T095704-ed9a79ecc10a4f218148f79038b3eb04-301.npz'), PosixPath('/home/james/workspace/fastrl/logs/HD_pusht_22/HD_pusht_PushT-v0_2024-11-24-09_55_07/20241124T100232-3d70db2938a94a5096cd2bed25b699ae-191.npz'), PosixPath('/home/james/workspace/fastrl/logs/HD_pusht_22/HD_pusht_PushT-v0_2024-11-24-09_55_07/20241124T095844-3581a4625ad444dcb6d46b16b9af1b58-238.npz'), PosixPath('/home/james/workspace/fastrl/logs/HD_pusht_22/HD_pusht_PushT-v0_2024-11-24-09_55_07/20241124T100334-a585729f48db48d98d85769427d0108f-247.npz'), PosixPath('/home/james/workspace/fastrl/logs/HD_pusht_22/HD_pusht_PushT-v0_2024-11-24-09_55_07/20241124T095917-fa2fb5c373e244cf91d0c9bbfc3b51d5-131.npz'), PosixPath('/home/james/workspace/fastrl/logs/HD_pusht_22/HD_pusht_PushT-v0_2024-11-24-09_55_07/20241124T095642-ed500a698c364d6bbd815909be5f0dad-164.npz'), PosixPath('/home/james/workspace/fastrl/logs/HD_pusht_22/HD_pusht_PushT-v0_2024-11-24-09_55_07/20241124T100318-7204c4db4242449eaeca4483fb0635ae-227.npz'), PosixPath('/home/james/workspace/fastrl/logs/HD_pusht_22/HD_pusht_PushT-v0_2024-11-24-09_55_07/20241124T100011-babac155657446f5b571dba48ee867ea-266.npz'), PosixPath('/home/james/workspace/fastrl/logs/HD_pusht_22/HD_pusht_PushT-v0_2024-11-24-09_55_07/20241124T095857-ef776fbd26364b1a85d29730caeb95a8-108.npz'), PosixPath('/home/james/workspace/fastrl/logs/HD_pusht_22/HD_pusht_PushT-v0_2024-11-24-09_55_07/20241124T095809-9877f3ec1a3244f8b742f7a0a715ec65-301.npz'), PosixPath('/home/james/workspace/fastrl/logs/HD_pusht_22/HD_pusht_PushT-v0_2024-11-24-09_55_07/20241124T100246-4061fa088507432f814a8fceccf2878b-196.npz'), PosixPath('/home/james/workspace/fastrl/logs/HD_pusht_22/HD_pusht_PushT-v0_2024-11-24-09_55_07/20241124T100353-0c027e8a2def4a6fa97ec3036fc47f3b-247.npz'), PosixPath('/home/james/workspace/fastrl/logs/HD_pusht_22/HD_pusht_PushT-v0_2024-11-24-09_55_07/20241124T100411-4d06707666bf4cfa99873c7032456f93-186.npz'), PosixPath('/home/james/workspace/fastrl/logs/HD_pusht_22/HD_pusht_PushT-v0_2024-11-24-09_55_07/20241124T095826-9ca99e54e43f45beb656ba1b52641113-301.npz'), PosixPath('/home/james/workspace/fastrl/logs/HD_pusht_22/HD_pusht_PushT-v0_2024-11-24-09_55_07/20241124T095629-1656acf2046740b68a60ade2e730d20c-269.npz'), PosixPath('/home/james/workspace/fastrl/logs/HD_pusht_22/HD_pusht_PushT-v0_2024-11-24-09_55_07/20241124T095516-a914b35dc5af4b7099209e03ffe8caa0-140.npz'), PosixPath('/home/james/workspace/fastrl/logs/HD_pusht_22/HD_pusht_PushT-v0_2024-11-24-09_55_07/20241124T100039-a2fd421aabad4e739df71f0eee70de38-199.npz'), PosixPath('/home/james/workspace/fastrl/logs/HD_pusht_22/HD_pusht_PushT-v0_2024-11-24-09_55_07/20241124T095957-e523f281e65f4b9c9bd96dae460e90a7-232.npz'), PosixPath('/home/james/workspace/fastrl/logs/HD_pusht_22/HD_pusht_PushT-v0_2024-11-24-09_55_07/20241124T095608-f46746f6de8e489a86feb93f43dccb91-197.npz'), PosixPath('/home/james/workspace/fastrl/logs/HD_pusht_22/HD_pusht_PushT-v0_2024-11-24-09_55_07/20241124T100202-267ee7d72ce44177aa2a2b921439b8eb-128.npz')]\n",
      "pixels (187, 94, 94, 3)\n",
      "state (187, 5)\n",
      "image (187, 94, 94, 3)\n",
      "is_first (187,)\n",
      "is_last (187,)\n",
      "is_terminal (187,)\n",
      "reward (187,)\n",
      "discount (187,)\n",
      "action (187, 2)\n",
      "logprob (187,)\n"
     ]
    }
   ],
   "source": [
    "# get the path to the dataset\n",
    "import pandas as pd\n",
    "import numpy as np\n",
    "from pathlib import Path\n",
    "env_name = 'pusht' # 'pinpad' # 'robosuite'\n",
    "\n",
    "# base_path = Path(f\"~/workspace/lerobot/local/{env_name}/original\").expanduser()\n",
    "# base_path = Path(f\"~/workspace/fastrl/logs/HD_pinpad_four_1/a\").expanduser()\n",
    "imi = 23\n",
    "AI = False\n",
    "tdmpc = False\n",
    "\n",
    "def get_files(env_name, imi, AI=False, tdmpc=False, resize=False):\n",
    "    if tdmpc:\n",
    "        bp = f\"~/workspace/fastrl/logs/demonstrations/TDMPC_pusht_HD_{imi}_sparse/\"\n",
    "        od = f\"~/workspace/lerobot/local/{env_name}/tdmpc{imi}\"\n",
    "        assert not AI\n",
    "    else:    \n",
    "        if AI:\n",
    "            bp = f\"~/workspace/fastrl/logs/AD_pusht_{imi}/\"\n",
    "            od = f\"~/workspace/lerobot/local/{env_name}/A{imi}\"\n",
    "        else:\n",
    "            bp = f\"~/workspace/fastrl/logs/HD_pusht_{imi}/\"\n",
    "            od = f\"~/workspace/lerobot/local/{env_name}/{imi}\"\n",
    "\n",
    "    if resize:\n",
    "        od = od + \"_96x96\"\n",
    "\n",
    "    base_path = Path(bp).expanduser()\n",
    "    out_dir = Path(od).expanduser()\n",
    "\n",
    "    # print(base_path)\n",
    "# list all the files in the dataset\n",
    "    folders = list(base_path.glob(\"*\"))\n",
    "\n",
    "    files = []\n",
    "    for f in folders:\n",
    "        files.extend((base_path / f).glob(\"*\"))\n",
    "    return files, out_dir\n",
    "\n",
    "files, out_dir = get_files(env_name, imi, AI=AI, tdmpc=tdmpc)\n",
    "\n",
    "print(files)\n",
    "\n",
    "# print the keys\n",
    "data = np.load(files[0])\n",
    "# convert to a dictionary NOTE: this is necessary to make the arrays writeable for some reason\n",
    "data = dict(data)\n",
    "for k,v in data.items():\n",
    "    print(k, v.shape)\n",
    "\n",
    "# print(\"Setting last is_terminal to true\")\n",
    "# data[\"is_terminal\"][-1] = True; data['is_last'][-1] = True"
   ]
  },
  {
   "cell_type": "code",
   "execution_count": 4,
   "metadata": {},
   "outputs": [],
   "source": [
    "from lerobot.common.datasets.lerobot_dataset import LeRobotDataset, LeRobotDatasetMetadata\n",
    "import shutil\n",
    "repo_id = \"j/22\"\n",
    "root = Path('~/workspace/lerobot/local/pushtv2').expanduser()\n",
    "# root.mkdir(exist_ok=True)\n",
    "shutil.rmtree(root, ignore_errors=True)\n",
    "\n",
    "use_videos = True\n",
    "\n",
    "h, w, ch = data['image'][0].shape\n",
    "state_ndims = data['state'][0].shape[0]\n",
    "action_ndims = data['action'][0].shape[0]\n",
    "\n",
    "features = {\n",
    "    \"observation.image\": {\n",
    "        \"dtype\": \"video\" if use_videos else \"image\",\n",
    "        \"shape\": [h, w, ch],\n",
    "        \"names\": ['height', 'width', 'channels'],\n",
    "        \"info\": None},\n",
    "    \"observation.state\": {\n",
    "        \"dtype\": \"float32\",\n",
    "        \"shape\": (state_ndims,),\n",
    "        \"names\": [f's{i}' for i in range(state_ndims)],\n",
    "    },\n",
    "    \"action\": {\n",
    "        \"dtype\": \"float32\",\n",
    "        \"shape\": (action_ndims,),\n",
    "        \"names\": [f'a{i}' for i in range(action_ndims)],\n",
    "    },\n",
    "    \"next.reward\": {\n",
    "        \"dtype\": \"float32\",\n",
    "        \"shape\": (1,),\n",
    "        \"names\": None,\n",
    "    },\n",
    "    \"next.success\": {\n",
    "        \"dtype\": \"bool\",\n",
    "        \"shape\": (1,),\n",
    "        \"names\": None,\n",
    "    },\n",
    "}\n",
    "\n",
    "# metadata = LeRobotDatasetMetadata(repo_id, root, local_files_only=True)\n",
    "dataset = LeRobotDataset.create(\n",
    "    repo_id,\n",
    "    fps=10, # from pusht.yaml\n",
    "    root=root,\n",
    "    use_videos=use_videos,\n",
    "    features=features\n",
    ")"
   ]
  },
  {
   "cell_type": "code",
   "execution_count": 5,
   "metadata": {},
   "outputs": [
    {
     "data": {
      "application/vnd.jupyter.widget-view+json": {
       "model_id": "d800c34255784eefb094030556831d47",
       "version_major": 2,
       "version_minor": 0
      },
      "text/plain": [
       "Map:   0%|          | 0/187 [00:00<?, ? examples/s]"
      ]
     },
     "metadata": {},
     "output_type": "display_data"
    },
    {
     "data": {
      "application/vnd.jupyter.widget-view+json": {
       "model_id": "c641f4792f3f44a290910a60a4bfb521",
       "version_major": 2,
       "version_minor": 0
      },
      "text/plain": [
       "Creating parquet from Arrow format:   0%|          | 0/1 [00:00<?, ?ba/s]"
      ]
     },
     "metadata": {},
     "output_type": "display_data"
    },
    {
     "data": {
      "application/vnd.jupyter.widget-view+json": {
       "model_id": "44dec7fbd3e84ce0943e31fe06fb0ee2",
       "version_major": 2,
       "version_minor": 0
      },
      "text/plain": [
       "Map:   0%|          | 0/182 [00:00<?, ? examples/s]"
      ]
     },
     "metadata": {},
     "output_type": "display_data"
    },
    {
     "data": {
      "application/vnd.jupyter.widget-view+json": {
       "model_id": "98b807e6096b40c79ccc15a554389394",
       "version_major": 2,
       "version_minor": 0
      },
      "text/plain": [
       "Creating parquet from Arrow format:   0%|          | 0/1 [00:00<?, ?ba/s]"
      ]
     },
     "metadata": {},
     "output_type": "display_data"
    },
    {
     "data": {
      "application/vnd.jupyter.widget-view+json": {
       "model_id": "dddcfbf3b5fe4a23aad3b7fd2873188c",
       "version_major": 2,
       "version_minor": 0
      },
      "text/plain": [
       "Map:   0%|          | 0/301 [00:00<?, ? examples/s]"
      ]
     },
     "metadata": {},
     "output_type": "display_data"
    },
    {
     "data": {
      "application/vnd.jupyter.widget-view+json": {
       "model_id": "3522a76fbe684896ac8492801cf7adee",
       "version_major": 2,
       "version_minor": 0
      },
      "text/plain": [
       "Creating parquet from Arrow format:   0%|          | 0/1 [00:00<?, ?ba/s]"
      ]
     },
     "metadata": {},
     "output_type": "display_data"
    },
    {
     "data": {
      "application/vnd.jupyter.widget-view+json": {
       "model_id": "db98cf95481349b9a48c2f9ddcb42f39",
       "version_major": 2,
       "version_minor": 0
      },
      "text/plain": [
       "Map:   0%|          | 0/128 [00:00<?, ? examples/s]"
      ]
     },
     "metadata": {},
     "output_type": "display_data"
    },
    {
     "data": {
      "application/vnd.jupyter.widget-view+json": {
       "model_id": "e1c070de00844440b5c57406388dfe8c",
       "version_major": 2,
       "version_minor": 0
      },
      "text/plain": [
       "Creating parquet from Arrow format:   0%|          | 0/1 [00:00<?, ?ba/s]"
      ]
     },
     "metadata": {},
     "output_type": "display_data"
    },
    {
     "data": {
      "application/vnd.jupyter.widget-view+json": {
       "model_id": "ca49aed22e2d4ecd8023355d1cff9faf",
       "version_major": 2,
       "version_minor": 0
      },
      "text/plain": [
       "Map:   0%|          | 0/252 [00:00<?, ? examples/s]"
      ]
     },
     "metadata": {},
     "output_type": "display_data"
    },
    {
     "data": {
      "application/vnd.jupyter.widget-view+json": {
       "model_id": "8d304c9f7bc44dc4b47afd9723ccaa83",
       "version_major": 2,
       "version_minor": 0
      },
      "text/plain": [
       "Creating parquet from Arrow format:   0%|          | 0/1 [00:00<?, ?ba/s]"
      ]
     },
     "metadata": {},
     "output_type": "display_data"
    },
    {
     "data": {
      "application/vnd.jupyter.widget-view+json": {
       "model_id": "d2e1be7cfbf142bbae91543c837b8c18",
       "version_major": 2,
       "version_minor": 0
      },
      "text/plain": [
       "Map:   0%|          | 0/270 [00:00<?, ? examples/s]"
      ]
     },
     "metadata": {},
     "output_type": "display_data"
    },
    {
     "data": {
      "application/vnd.jupyter.widget-view+json": {
       "model_id": "31ed44515be6408e91443beedfb978db",
       "version_major": 2,
       "version_minor": 0
      },
      "text/plain": [
       "Creating parquet from Arrow format:   0%|          | 0/1 [00:00<?, ?ba/s]"
      ]
     },
     "metadata": {},
     "output_type": "display_data"
    },
    {
     "data": {
      "application/vnd.jupyter.widget-view+json": {
       "model_id": "b497ff2a48a3447aaae5bc60da022cda",
       "version_major": 2,
       "version_minor": 0
      },
      "text/plain": [
       "Map:   0%|          | 0/124 [00:00<?, ? examples/s]"
      ]
     },
     "metadata": {},
     "output_type": "display_data"
    },
    {
     "data": {
      "application/vnd.jupyter.widget-view+json": {
       "model_id": "535ab0a9107e42eea8188012fe69ced7",
       "version_major": 2,
       "version_minor": 0
      },
      "text/plain": [
       "Creating parquet from Arrow format:   0%|          | 0/1 [00:00<?, ?ba/s]"
      ]
     },
     "metadata": {},
     "output_type": "display_data"
    },
    {
     "data": {
      "application/vnd.jupyter.widget-view+json": {
       "model_id": "33b98170724f4e89bc1864a7862a7b61",
       "version_major": 2,
       "version_minor": 0
      },
      "text/plain": [
       "Map:   0%|          | 0/301 [00:00<?, ? examples/s]"
      ]
     },
     "metadata": {},
     "output_type": "display_data"
    },
    {
     "data": {
      "application/vnd.jupyter.widget-view+json": {
       "model_id": "822b5932ca8c4fd8b9a3365cfe334f1e",
       "version_major": 2,
       "version_minor": 0
      },
      "text/plain": [
       "Creating parquet from Arrow format:   0%|          | 0/1 [00:00<?, ?ba/s]"
      ]
     },
     "metadata": {},
     "output_type": "display_data"
    },
    {
     "data": {
      "application/vnd.jupyter.widget-view+json": {
       "model_id": "c2f86c745c7f4e969b8a8920c9ddfd09",
       "version_major": 2,
       "version_minor": 0
      },
      "text/plain": [
       "Map:   0%|          | 0/301 [00:00<?, ? examples/s]"
      ]
     },
     "metadata": {},
     "output_type": "display_data"
    },
    {
     "data": {
      "application/vnd.jupyter.widget-view+json": {
       "model_id": "fc3f8fc4c0c04a5798f659c72d4dcedb",
       "version_major": 2,
       "version_minor": 0
      },
      "text/plain": [
       "Creating parquet from Arrow format:   0%|          | 0/1 [00:00<?, ?ba/s]"
      ]
     },
     "metadata": {},
     "output_type": "display_data"
    },
    {
     "data": {
      "application/vnd.jupyter.widget-view+json": {
       "model_id": "3c0531f4a8af424b90bd100e6057b3d5",
       "version_major": 2,
       "version_minor": 0
      },
      "text/plain": [
       "Map:   0%|          | 0/301 [00:00<?, ? examples/s]"
      ]
     },
     "metadata": {},
     "output_type": "display_data"
    },
    {
     "data": {
      "application/vnd.jupyter.widget-view+json": {
       "model_id": "c0a7eabeb1b54498a8c33e0d9bd08f93",
       "version_major": 2,
       "version_minor": 0
      },
      "text/plain": [
       "Creating parquet from Arrow format:   0%|          | 0/1 [00:00<?, ?ba/s]"
      ]
     },
     "metadata": {},
     "output_type": "display_data"
    },
    {
     "data": {
      "application/vnd.jupyter.widget-view+json": {
       "model_id": "b387ce4b0cb1434b933a5f96cd40e57e",
       "version_major": 2,
       "version_minor": 0
      },
      "text/plain": [
       "Map:   0%|          | 0/166 [00:00<?, ? examples/s]"
      ]
     },
     "metadata": {},
     "output_type": "display_data"
    },
    {
     "data": {
      "application/vnd.jupyter.widget-view+json": {
       "model_id": "f6a841cd53b5425ebac0f53671f816f6",
       "version_major": 2,
       "version_minor": 0
      },
      "text/plain": [
       "Creating parquet from Arrow format:   0%|          | 0/1 [00:00<?, ?ba/s]"
      ]
     },
     "metadata": {},
     "output_type": "display_data"
    },
    {
     "data": {
      "application/vnd.jupyter.widget-view+json": {
       "model_id": "38e80becab7f45db8340f6676ee666df",
       "version_major": 2,
       "version_minor": 0
      },
      "text/plain": [
       "Map:   0%|          | 0/263 [00:00<?, ? examples/s]"
      ]
     },
     "metadata": {},
     "output_type": "display_data"
    },
    {
     "data": {
      "application/vnd.jupyter.widget-view+json": {
       "model_id": "397ccc4aa48a4cafa95ce98360fb3396",
       "version_major": 2,
       "version_minor": 0
      },
      "text/plain": [
       "Creating parquet from Arrow format:   0%|          | 0/1 [00:00<?, ?ba/s]"
      ]
     },
     "metadata": {},
     "output_type": "display_data"
    },
    {
     "data": {
      "application/vnd.jupyter.widget-view+json": {
       "model_id": "da359bc21e044002bfa9f0a13540b1b4",
       "version_major": 2,
       "version_minor": 0
      },
      "text/plain": [
       "Map:   0%|          | 0/301 [00:00<?, ? examples/s]"
      ]
     },
     "metadata": {},
     "output_type": "display_data"
    },
    {
     "data": {
      "application/vnd.jupyter.widget-view+json": {
       "model_id": "c90405470152415dad369ca96f0c1f1e",
       "version_major": 2,
       "version_minor": 0
      },
      "text/plain": [
       "Creating parquet from Arrow format:   0%|          | 0/1 [00:00<?, ?ba/s]"
      ]
     },
     "metadata": {},
     "output_type": "display_data"
    },
    {
     "data": {
      "application/vnd.jupyter.widget-view+json": {
       "model_id": "27b6ecdbc61d48bbbc6d27a88aab314d",
       "version_major": 2,
       "version_minor": 0
      },
      "text/plain": [
       "Map:   0%|          | 0/301 [00:00<?, ? examples/s]"
      ]
     },
     "metadata": {},
     "output_type": "display_data"
    },
    {
     "data": {
      "application/vnd.jupyter.widget-view+json": {
       "model_id": "610f3974f8d1464290445663fd9a2626",
       "version_major": 2,
       "version_minor": 0
      },
      "text/plain": [
       "Creating parquet from Arrow format:   0%|          | 0/1 [00:00<?, ?ba/s]"
      ]
     },
     "metadata": {},
     "output_type": "display_data"
    },
    {
     "data": {
      "application/vnd.jupyter.widget-view+json": {
       "model_id": "3992524aae0749418f8d1d0072416738",
       "version_major": 2,
       "version_minor": 0
      },
      "text/plain": [
       "Map:   0%|          | 0/211 [00:00<?, ? examples/s]"
      ]
     },
     "metadata": {},
     "output_type": "display_data"
    },
    {
     "data": {
      "application/vnd.jupyter.widget-view+json": {
       "model_id": "89f0273b3a564eb49a69bd54a03fa7f5",
       "version_major": 2,
       "version_minor": 0
      },
      "text/plain": [
       "Creating parquet from Arrow format:   0%|          | 0/1 [00:00<?, ?ba/s]"
      ]
     },
     "metadata": {},
     "output_type": "display_data"
    },
    {
     "data": {
      "application/vnd.jupyter.widget-view+json": {
       "model_id": "5854d704b83c48f6ad4d9705b7b64fb0",
       "version_major": 2,
       "version_minor": 0
      },
      "text/plain": [
       "Map:   0%|          | 0/210 [00:00<?, ? examples/s]"
      ]
     },
     "metadata": {},
     "output_type": "display_data"
    },
    {
     "data": {
      "application/vnd.jupyter.widget-view+json": {
       "model_id": "867ac329ae9b40dfa530e2ca0c8bc6a3",
       "version_major": 2,
       "version_minor": 0
      },
      "text/plain": [
       "Creating parquet from Arrow format:   0%|          | 0/1 [00:00<?, ?ba/s]"
      ]
     },
     "metadata": {},
     "output_type": "display_data"
    },
    {
     "data": {
      "application/vnd.jupyter.widget-view+json": {
       "model_id": "8d95b5b5b3a947238ee385a3870451ec",
       "version_major": 2,
       "version_minor": 0
      },
      "text/plain": [
       "Map:   0%|          | 0/101 [00:00<?, ? examples/s]"
      ]
     },
     "metadata": {},
     "output_type": "display_data"
    },
    {
     "data": {
      "application/vnd.jupyter.widget-view+json": {
       "model_id": "f0648c3419ca42e5a69fd7c06c6071a5",
       "version_major": 2,
       "version_minor": 0
      },
      "text/plain": [
       "Creating parquet from Arrow format:   0%|          | 0/1 [00:00<?, ?ba/s]"
      ]
     },
     "metadata": {},
     "output_type": "display_data"
    },
    {
     "data": {
      "application/vnd.jupyter.widget-view+json": {
       "model_id": "7f92f2550e6845888e241b70edbb1064",
       "version_major": 2,
       "version_minor": 0
      },
      "text/plain": [
       "Map:   0%|          | 0/270 [00:00<?, ? examples/s]"
      ]
     },
     "metadata": {},
     "output_type": "display_data"
    },
    {
     "data": {
      "application/vnd.jupyter.widget-view+json": {
       "model_id": "025b3b15e8454c7a9035e6dd9a6736ce",
       "version_major": 2,
       "version_minor": 0
      },
      "text/plain": [
       "Creating parquet from Arrow format:   0%|          | 0/1 [00:00<?, ?ba/s]"
      ]
     },
     "metadata": {},
     "output_type": "display_data"
    },
    {
     "data": {
      "application/vnd.jupyter.widget-view+json": {
       "model_id": "deaf94e477cb4dbb9e0ab32d463b1ed1",
       "version_major": 2,
       "version_minor": 0
      },
      "text/plain": [
       "Map:   0%|          | 0/236 [00:00<?, ? examples/s]"
      ]
     },
     "metadata": {},
     "output_type": "display_data"
    },
    {
     "data": {
      "application/vnd.jupyter.widget-view+json": {
       "model_id": "5733fea64a2e44e9a3a7626bd5838401",
       "version_major": 2,
       "version_minor": 0
      },
      "text/plain": [
       "Creating parquet from Arrow format:   0%|          | 0/1 [00:00<?, ?ba/s]"
      ]
     },
     "metadata": {},
     "output_type": "display_data"
    },
    {
     "data": {
      "application/vnd.jupyter.widget-view+json": {
       "model_id": "ec785803e4f248c880546d1e5044f52e",
       "version_major": 2,
       "version_minor": 0
      },
      "text/plain": [
       "Map:   0%|          | 0/183 [00:00<?, ? examples/s]"
      ]
     },
     "metadata": {},
     "output_type": "display_data"
    },
    {
     "data": {
      "application/vnd.jupyter.widget-view+json": {
       "model_id": "a298f000de6547b3896cc121b0cd6d6d",
       "version_major": 2,
       "version_minor": 0
      },
      "text/plain": [
       "Creating parquet from Arrow format:   0%|          | 0/1 [00:00<?, ?ba/s]"
      ]
     },
     "metadata": {},
     "output_type": "display_data"
    },
    {
     "data": {
      "application/vnd.jupyter.widget-view+json": {
       "model_id": "d7c947dc378345b3b75c55cac9ffe968",
       "version_major": 2,
       "version_minor": 0
      },
      "text/plain": [
       "Map:   0%|          | 0/155 [00:00<?, ? examples/s]"
      ]
     },
     "metadata": {},
     "output_type": "display_data"
    },
    {
     "data": {
      "application/vnd.jupyter.widget-view+json": {
       "model_id": "28a6d9b4b7354d09b99434820864147e",
       "version_major": 2,
       "version_minor": 0
      },
      "text/plain": [
       "Creating parquet from Arrow format:   0%|          | 0/1 [00:00<?, ?ba/s]"
      ]
     },
     "metadata": {},
     "output_type": "display_data"
    },
    {
     "data": {
      "application/vnd.jupyter.widget-view+json": {
       "model_id": "0e75d6d1cb4042168cff4e5db610927e",
       "version_major": 2,
       "version_minor": 0
      },
      "text/plain": [
       "Map:   0%|          | 0/162 [00:00<?, ? examples/s]"
      ]
     },
     "metadata": {},
     "output_type": "display_data"
    },
    {
     "data": {
      "application/vnd.jupyter.widget-view+json": {
       "model_id": "f71c2be0efd44c6a970124eee9e0ae42",
       "version_major": 2,
       "version_minor": 0
      },
      "text/plain": [
       "Creating parquet from Arrow format:   0%|          | 0/1 [00:00<?, ?ba/s]"
      ]
     },
     "metadata": {},
     "output_type": "display_data"
    },
    {
     "data": {
      "application/vnd.jupyter.widget-view+json": {
       "model_id": "ed5be1a374ed4bf89cdb1e3a40b53083",
       "version_major": 2,
       "version_minor": 0
      },
      "text/plain": [
       "Map:   0%|          | 0/192 [00:00<?, ? examples/s]"
      ]
     },
     "metadata": {},
     "output_type": "display_data"
    },
    {
     "data": {
      "application/vnd.jupyter.widget-view+json": {
       "model_id": "8b14a029422945ae88d87fc99e92a204",
       "version_major": 2,
       "version_minor": 0
      },
      "text/plain": [
       "Creating parquet from Arrow format:   0%|          | 0/1 [00:00<?, ?ba/s]"
      ]
     },
     "metadata": {},
     "output_type": "display_data"
    },
    {
     "data": {
      "application/vnd.jupyter.widget-view+json": {
       "model_id": "3e416536fe85468cb73801945d05ae0c",
       "version_major": 2,
       "version_minor": 0
      },
      "text/plain": [
       "Map:   0%|          | 0/236 [00:00<?, ? examples/s]"
      ]
     },
     "metadata": {},
     "output_type": "display_data"
    },
    {
     "data": {
      "application/vnd.jupyter.widget-view+json": {
       "model_id": "c29220d33c6e4e1c90a45e19807c3fc6",
       "version_major": 2,
       "version_minor": 0
      },
      "text/plain": [
       "Creating parquet from Arrow format:   0%|          | 0/1 [00:00<?, ?ba/s]"
      ]
     },
     "metadata": {},
     "output_type": "display_data"
    },
    {
     "data": {
      "application/vnd.jupyter.widget-view+json": {
       "model_id": "06754a8a915143fc89957e1af6d1de58",
       "version_major": 2,
       "version_minor": 0
      },
      "text/plain": [
       "Map:   0%|          | 0/204 [00:00<?, ? examples/s]"
      ]
     },
     "metadata": {},
     "output_type": "display_data"
    },
    {
     "data": {
      "application/vnd.jupyter.widget-view+json": {
       "model_id": "c99bf08a375640acb5dcea82b4cba1f7",
       "version_major": 2,
       "version_minor": 0
      },
      "text/plain": [
       "Creating parquet from Arrow format:   0%|          | 0/1 [00:00<?, ?ba/s]"
      ]
     },
     "metadata": {},
     "output_type": "display_data"
    },
    {
     "data": {
      "application/vnd.jupyter.widget-view+json": {
       "model_id": "32ca331ee8ab4f74be2a4ece0c227f19",
       "version_major": 2,
       "version_minor": 0
      },
      "text/plain": [
       "Map:   0%|          | 0/292 [00:00<?, ? examples/s]"
      ]
     },
     "metadata": {},
     "output_type": "display_data"
    },
    {
     "data": {
      "application/vnd.jupyter.widget-view+json": {
       "model_id": "d3c9e80661114decb73b863804012909",
       "version_major": 2,
       "version_minor": 0
      },
      "text/plain": [
       "Creating parquet from Arrow format:   0%|          | 0/1 [00:00<?, ?ba/s]"
      ]
     },
     "metadata": {},
     "output_type": "display_data"
    },
    {
     "data": {
      "application/vnd.jupyter.widget-view+json": {
       "model_id": "cddd2149bb0048cdb4d8da495dd8db65",
       "version_major": 2,
       "version_minor": 0
      },
      "text/plain": [
       "Map:   0%|          | 0/154 [00:00<?, ? examples/s]"
      ]
     },
     "metadata": {},
     "output_type": "display_data"
    },
    {
     "data": {
      "application/vnd.jupyter.widget-view+json": {
       "model_id": "a65694fff09d46e093a26ab0cbecb84c",
       "version_major": 2,
       "version_minor": 0
      },
      "text/plain": [
       "Creating parquet from Arrow format:   0%|          | 0/1 [00:00<?, ?ba/s]"
      ]
     },
     "metadata": {},
     "output_type": "display_data"
    },
    {
     "data": {
      "application/vnd.jupyter.widget-view+json": {
       "model_id": "8171c7dd1f3b459cb3a0468277805327",
       "version_major": 2,
       "version_minor": 0
      },
      "text/plain": [
       "Map:   0%|          | 0/270 [00:00<?, ? examples/s]"
      ]
     },
     "metadata": {},
     "output_type": "display_data"
    },
    {
     "data": {
      "application/vnd.jupyter.widget-view+json": {
       "model_id": "d9ada331d7744a678d756cb6400d023b",
       "version_major": 2,
       "version_minor": 0
      },
      "text/plain": [
       "Creating parquet from Arrow format:   0%|          | 0/1 [00:00<?, ?ba/s]"
      ]
     },
     "metadata": {},
     "output_type": "display_data"
    },
    {
     "data": {
      "application/vnd.jupyter.widget-view+json": {
       "model_id": "95ff1ab01a174369b119332d7a7264fc",
       "version_major": 2,
       "version_minor": 0
      },
      "text/plain": [
       "Map:   0%|          | 0/159 [00:00<?, ? examples/s]"
      ]
     },
     "metadata": {},
     "output_type": "display_data"
    },
    {
     "data": {
      "application/vnd.jupyter.widget-view+json": {
       "model_id": "7e89a106c1e14de194a352941ea6804e",
       "version_major": 2,
       "version_minor": 0
      },
      "text/plain": [
       "Creating parquet from Arrow format:   0%|          | 0/1 [00:00<?, ?ba/s]"
      ]
     },
     "metadata": {},
     "output_type": "display_data"
    },
    {
     "data": {
      "application/vnd.jupyter.widget-view+json": {
       "model_id": "44e50a5308fe4ed3ad27d7a5da539885",
       "version_major": 2,
       "version_minor": 0
      },
      "text/plain": [
       "Map:   0%|          | 0/192 [00:00<?, ? examples/s]"
      ]
     },
     "metadata": {},
     "output_type": "display_data"
    },
    {
     "data": {
      "application/vnd.jupyter.widget-view+json": {
       "model_id": "bd6509272f5647bcac085ef4007dce47",
       "version_major": 2,
       "version_minor": 0
      },
      "text/plain": [
       "Creating parquet from Arrow format:   0%|          | 0/1 [00:00<?, ?ba/s]"
      ]
     },
     "metadata": {},
     "output_type": "display_data"
    },
    {
     "data": {
      "application/vnd.jupyter.widget-view+json": {
       "model_id": "0060863e08b840b8aee2530f98c9f8d9",
       "version_major": 2,
       "version_minor": 0
      },
      "text/plain": [
       "Map:   0%|          | 0/139 [00:00<?, ? examples/s]"
      ]
     },
     "metadata": {},
     "output_type": "display_data"
    },
    {
     "data": {
      "application/vnd.jupyter.widget-view+json": {
       "model_id": "9931f54fbec14f97b673472f8004eac1",
       "version_major": 2,
       "version_minor": 0
      },
      "text/plain": [
       "Creating parquet from Arrow format:   0%|          | 0/1 [00:00<?, ?ba/s]"
      ]
     },
     "metadata": {},
     "output_type": "display_data"
    },
    {
     "data": {
      "application/vnd.jupyter.widget-view+json": {
       "model_id": "a9d3c58ef1ec41ea9b276e06a71037ad",
       "version_major": 2,
       "version_minor": 0
      },
      "text/plain": [
       "Map:   0%|          | 0/301 [00:00<?, ? examples/s]"
      ]
     },
     "metadata": {},
     "output_type": "display_data"
    },
    {
     "data": {
      "application/vnd.jupyter.widget-view+json": {
       "model_id": "20e059d5b87c4358b38e2f12892fcaa8",
       "version_major": 2,
       "version_minor": 0
      },
      "text/plain": [
       "Creating parquet from Arrow format:   0%|          | 0/1 [00:00<?, ?ba/s]"
      ]
     },
     "metadata": {},
     "output_type": "display_data"
    },
    {
     "data": {
      "application/vnd.jupyter.widget-view+json": {
       "model_id": "039fd26cbb7344759efa2729c36f4c7a",
       "version_major": 2,
       "version_minor": 0
      },
      "text/plain": [
       "Map:   0%|          | 0/120 [00:00<?, ? examples/s]"
      ]
     },
     "metadata": {},
     "output_type": "display_data"
    },
    {
     "data": {
      "application/vnd.jupyter.widget-view+json": {
       "model_id": "e2dda429103446118ee8b079a8c1d49b",
       "version_major": 2,
       "version_minor": 0
      },
      "text/plain": [
       "Creating parquet from Arrow format:   0%|          | 0/1 [00:00<?, ?ba/s]"
      ]
     },
     "metadata": {},
     "output_type": "display_data"
    },
    {
     "data": {
      "application/vnd.jupyter.widget-view+json": {
       "model_id": "320c811a8e574c14b1e42f3fe69302ab",
       "version_major": 2,
       "version_minor": 0
      },
      "text/plain": [
       "Map:   0%|          | 0/150 [00:00<?, ? examples/s]"
      ]
     },
     "metadata": {},
     "output_type": "display_data"
    },
    {
     "data": {
      "application/vnd.jupyter.widget-view+json": {
       "model_id": "882c6d28555a4f9284cf0047071702d5",
       "version_major": 2,
       "version_minor": 0
      },
      "text/plain": [
       "Creating parquet from Arrow format:   0%|          | 0/1 [00:00<?, ?ba/s]"
      ]
     },
     "metadata": {},
     "output_type": "display_data"
    },
    {
     "data": {
      "application/vnd.jupyter.widget-view+json": {
       "model_id": "99c4b12997804772a66777a4e9036a4c",
       "version_major": 2,
       "version_minor": 0
      },
      "text/plain": [
       "Map:   0%|          | 0/166 [00:00<?, ? examples/s]"
      ]
     },
     "metadata": {},
     "output_type": "display_data"
    },
    {
     "data": {
      "application/vnd.jupyter.widget-view+json": {
       "model_id": "f16d60ff16b449b092e52c7eaf77b6ba",
       "version_major": 2,
       "version_minor": 0
      },
      "text/plain": [
       "Creating parquet from Arrow format:   0%|          | 0/1 [00:00<?, ?ba/s]"
      ]
     },
     "metadata": {},
     "output_type": "display_data"
    },
    {
     "data": {
      "application/vnd.jupyter.widget-view+json": {
       "model_id": "ccf1d4a3b6db458da55c73abc0d0c766",
       "version_major": 2,
       "version_minor": 0
      },
      "text/plain": [
       "Map:   0%|          | 0/288 [00:00<?, ? examples/s]"
      ]
     },
     "metadata": {},
     "output_type": "display_data"
    },
    {
     "data": {
      "application/vnd.jupyter.widget-view+json": {
       "model_id": "284d6b0af8e8474eaafb03f36e1e5398",
       "version_major": 2,
       "version_minor": 0
      },
      "text/plain": [
       "Creating parquet from Arrow format:   0%|          | 0/1 [00:00<?, ?ba/s]"
      ]
     },
     "metadata": {},
     "output_type": "display_data"
    },
    {
     "data": {
      "application/vnd.jupyter.widget-view+json": {
       "model_id": "4de8efb3596b4282bd8ddffa4d876b06",
       "version_major": 2,
       "version_minor": 0
      },
      "text/plain": [
       "Map:   0%|          | 0/248 [00:00<?, ? examples/s]"
      ]
     },
     "metadata": {},
     "output_type": "display_data"
    },
    {
     "data": {
      "application/vnd.jupyter.widget-view+json": {
       "model_id": "5e26be1631f84addb9c8b2b140b25fb0",
       "version_major": 2,
       "version_minor": 0
      },
      "text/plain": [
       "Creating parquet from Arrow format:   0%|          | 0/1 [00:00<?, ?ba/s]"
      ]
     },
     "metadata": {},
     "output_type": "display_data"
    },
    {
     "data": {
      "application/vnd.jupyter.widget-view+json": {
       "model_id": "769e60dca72a45379d05d1d783af96d2",
       "version_major": 2,
       "version_minor": 0
      },
      "text/plain": [
       "Map:   0%|          | 0/249 [00:00<?, ? examples/s]"
      ]
     },
     "metadata": {},
     "output_type": "display_data"
    },
    {
     "data": {
      "application/vnd.jupyter.widget-view+json": {
       "model_id": "de77102bc36d4e6ba7cd03b197013275",
       "version_major": 2,
       "version_minor": 0
      },
      "text/plain": [
       "Creating parquet from Arrow format:   0%|          | 0/1 [00:00<?, ?ba/s]"
      ]
     },
     "metadata": {},
     "output_type": "display_data"
    },
    {
     "data": {
      "application/vnd.jupyter.widget-view+json": {
       "model_id": "ccfe0b114f5c4638a18d31faffae13ec",
       "version_major": 2,
       "version_minor": 0
      },
      "text/plain": [
       "Map:   0%|          | 0/214 [00:00<?, ? examples/s]"
      ]
     },
     "metadata": {},
     "output_type": "display_data"
    },
    {
     "data": {
      "application/vnd.jupyter.widget-view+json": {
       "model_id": "bf40911041384c788a0776f223852a14",
       "version_major": 2,
       "version_minor": 0
      },
      "text/plain": [
       "Creating parquet from Arrow format:   0%|          | 0/1 [00:00<?, ?ba/s]"
      ]
     },
     "metadata": {},
     "output_type": "display_data"
    },
    {
     "data": {
      "application/vnd.jupyter.widget-view+json": {
       "model_id": "ced901602d9b4c338a2a3b1d846f01f6",
       "version_major": 2,
       "version_minor": 0
      },
      "text/plain": [
       "Map:   0%|          | 0/141 [00:00<?, ? examples/s]"
      ]
     },
     "metadata": {},
     "output_type": "display_data"
    },
    {
     "data": {
      "application/vnd.jupyter.widget-view+json": {
       "model_id": "90616d25dc774ba18e1c76f53c94f8f1",
       "version_major": 2,
       "version_minor": 0
      },
      "text/plain": [
       "Creating parquet from Arrow format:   0%|          | 0/1 [00:00<?, ?ba/s]"
      ]
     },
     "metadata": {},
     "output_type": "display_data"
    },
    {
     "data": {
      "application/vnd.jupyter.widget-view+json": {
       "model_id": "0e145da2af9247f89e62758a6e765856",
       "version_major": 2,
       "version_minor": 0
      },
      "text/plain": [
       "Map:   0%|          | 0/138 [00:00<?, ? examples/s]"
      ]
     },
     "metadata": {},
     "output_type": "display_data"
    },
    {
     "data": {
      "application/vnd.jupyter.widget-view+json": {
       "model_id": "37d98a06b7ee460589fe5d0364f9959e",
       "version_major": 2,
       "version_minor": 0
      },
      "text/plain": [
       "Creating parquet from Arrow format:   0%|          | 0/1 [00:00<?, ?ba/s]"
      ]
     },
     "metadata": {},
     "output_type": "display_data"
    },
    {
     "data": {
      "application/vnd.jupyter.widget-view+json": {
       "model_id": "1e93c6b40fd346c8bd91bfd07e9b9d73",
       "version_major": 2,
       "version_minor": 0
      },
      "text/plain": [
       "Map:   0%|          | 0/301 [00:00<?, ? examples/s]"
      ]
     },
     "metadata": {},
     "output_type": "display_data"
    },
    {
     "data": {
      "application/vnd.jupyter.widget-view+json": {
       "model_id": "e62e1983fbdc4faea47f87a91d2de6eb",
       "version_major": 2,
       "version_minor": 0
      },
      "text/plain": [
       "Creating parquet from Arrow format:   0%|          | 0/1 [00:00<?, ?ba/s]"
      ]
     },
     "metadata": {},
     "output_type": "display_data"
    },
    {
     "data": {
      "application/vnd.jupyter.widget-view+json": {
       "model_id": "3876fdd17c7140febfe1aa3ea1e46505",
       "version_major": 2,
       "version_minor": 0
      },
      "text/plain": [
       "Map:   0%|          | 0/113 [00:00<?, ? examples/s]"
      ]
     },
     "metadata": {},
     "output_type": "display_data"
    },
    {
     "data": {
      "application/vnd.jupyter.widget-view+json": {
       "model_id": "ecf9ac07da0b411cb9f50e70b627d4c9",
       "version_major": 2,
       "version_minor": 0
      },
      "text/plain": [
       "Creating parquet from Arrow format:   0%|          | 0/1 [00:00<?, ?ba/s]"
      ]
     },
     "metadata": {},
     "output_type": "display_data"
    },
    {
     "data": {
      "application/vnd.jupyter.widget-view+json": {
       "model_id": "7060966e7b934e21bef8c97e327460c5",
       "version_major": 2,
       "version_minor": 0
      },
      "text/plain": [
       "Map:   0%|          | 0/210 [00:00<?, ? examples/s]"
      ]
     },
     "metadata": {},
     "output_type": "display_data"
    },
    {
     "data": {
      "application/vnd.jupyter.widget-view+json": {
       "model_id": "5474a14705714fa98fa12768528287f3",
       "version_major": 2,
       "version_minor": 0
      },
      "text/plain": [
       "Creating parquet from Arrow format:   0%|          | 0/1 [00:00<?, ?ba/s]"
      ]
     },
     "metadata": {},
     "output_type": "display_data"
    },
    {
     "data": {
      "application/vnd.jupyter.widget-view+json": {
       "model_id": "ecb751e6103741469c2440980b3d8d55",
       "version_major": 2,
       "version_minor": 0
      },
      "text/plain": [
       "Map:   0%|          | 0/301 [00:00<?, ? examples/s]"
      ]
     },
     "metadata": {},
     "output_type": "display_data"
    },
    {
     "data": {
      "application/vnd.jupyter.widget-view+json": {
       "model_id": "fd3b8592780c45d6a35a5664d0ba1c3a",
       "version_major": 2,
       "version_minor": 0
      },
      "text/plain": [
       "Creating parquet from Arrow format:   0%|          | 0/1 [00:00<?, ?ba/s]"
      ]
     },
     "metadata": {},
     "output_type": "display_data"
    },
    {
     "data": {
      "application/vnd.jupyter.widget-view+json": {
       "model_id": "f7d73eb4ba904763a2312293a19e98b1",
       "version_major": 2,
       "version_minor": 0
      },
      "text/plain": [
       "Map:   0%|          | 0/150 [00:00<?, ? examples/s]"
      ]
     },
     "metadata": {},
     "output_type": "display_data"
    },
    {
     "data": {
      "application/vnd.jupyter.widget-view+json": {
       "model_id": "f820b1bc007f4ab4b25c13bfcc55b7af",
       "version_major": 2,
       "version_minor": 0
      },
      "text/plain": [
       "Creating parquet from Arrow format:   0%|          | 0/1 [00:00<?, ?ba/s]"
      ]
     },
     "metadata": {},
     "output_type": "display_data"
    },
    {
     "data": {
      "application/vnd.jupyter.widget-view+json": {
       "model_id": "1dd9affa63ff4035a35369b885a1489a",
       "version_major": 2,
       "version_minor": 0
      },
      "text/plain": [
       "Map:   0%|          | 0/189 [00:00<?, ? examples/s]"
      ]
     },
     "metadata": {},
     "output_type": "display_data"
    },
    {
     "data": {
      "application/vnd.jupyter.widget-view+json": {
       "model_id": "65cff4f0723e40d7b823cc032d1d0752",
       "version_major": 2,
       "version_minor": 0
      },
      "text/plain": [
       "Creating parquet from Arrow format:   0%|          | 0/1 [00:00<?, ?ba/s]"
      ]
     },
     "metadata": {},
     "output_type": "display_data"
    },
    {
     "data": {
      "application/vnd.jupyter.widget-view+json": {
       "model_id": "c3f29f9eb6b24ef484fc6f4f7d9a5b0d",
       "version_major": 2,
       "version_minor": 0
      },
      "text/plain": [
       "Map:   0%|          | 0/301 [00:00<?, ? examples/s]"
      ]
     },
     "metadata": {},
     "output_type": "display_data"
    },
    {
     "data": {
      "application/vnd.jupyter.widget-view+json": {
       "model_id": "86157c47f9a340d488fd2833033d81c1",
       "version_major": 2,
       "version_minor": 0
      },
      "text/plain": [
       "Creating parquet from Arrow format:   0%|          | 0/1 [00:00<?, ?ba/s]"
      ]
     },
     "metadata": {},
     "output_type": "display_data"
    },
    {
     "data": {
      "application/vnd.jupyter.widget-view+json": {
       "model_id": "221ab64a365a467db731f3030f13ae78",
       "version_major": 2,
       "version_minor": 0
      },
      "text/plain": [
       "Map:   0%|          | 0/130 [00:00<?, ? examples/s]"
      ]
     },
     "metadata": {},
     "output_type": "display_data"
    },
    {
     "data": {
      "application/vnd.jupyter.widget-view+json": {
       "model_id": "40c6bb9e7d354806864bb5bb0e1715fd",
       "version_major": 2,
       "version_minor": 0
      },
      "text/plain": [
       "Creating parquet from Arrow format:   0%|          | 0/1 [00:00<?, ?ba/s]"
      ]
     },
     "metadata": {},
     "output_type": "display_data"
    },
    {
     "data": {
      "application/vnd.jupyter.widget-view+json": {
       "model_id": "f4183d525139450aaaae503a2886d128",
       "version_major": 2,
       "version_minor": 0
      },
      "text/plain": [
       "Map:   0%|          | 0/164 [00:00<?, ? examples/s]"
      ]
     },
     "metadata": {},
     "output_type": "display_data"
    },
    {
     "data": {
      "application/vnd.jupyter.widget-view+json": {
       "model_id": "b1db0f0a05714a35b1d69447e7703609",
       "version_major": 2,
       "version_minor": 0
      },
      "text/plain": [
       "Creating parquet from Arrow format:   0%|          | 0/1 [00:00<?, ?ba/s]"
      ]
     },
     "metadata": {},
     "output_type": "display_data"
    },
    {
     "data": {
      "application/vnd.jupyter.widget-view+json": {
       "model_id": "128faed85c684a52a0d8a33c394e156f",
       "version_major": 2,
       "version_minor": 0
      },
      "text/plain": [
       "Map:   0%|          | 0/153 [00:00<?, ? examples/s]"
      ]
     },
     "metadata": {},
     "output_type": "display_data"
    },
    {
     "data": {
      "application/vnd.jupyter.widget-view+json": {
       "model_id": "060dbc8359774e5691f94de4442a3a27",
       "version_major": 2,
       "version_minor": 0
      },
      "text/plain": [
       "Creating parquet from Arrow format:   0%|          | 0/1 [00:00<?, ?ba/s]"
      ]
     },
     "metadata": {},
     "output_type": "display_data"
    },
    {
     "data": {
      "application/vnd.jupyter.widget-view+json": {
       "model_id": "fb2a6bb45ce7493f9ea729ce78ef46d1",
       "version_major": 2,
       "version_minor": 0
      },
      "text/plain": [
       "Map:   0%|          | 0/185 [00:00<?, ? examples/s]"
      ]
     },
     "metadata": {},
     "output_type": "display_data"
    },
    {
     "data": {
      "application/vnd.jupyter.widget-view+json": {
       "model_id": "6665a5e0371443b1b249b969fe3baa29",
       "version_major": 2,
       "version_minor": 0
      },
      "text/plain": [
       "Creating parquet from Arrow format:   0%|          | 0/1 [00:00<?, ?ba/s]"
      ]
     },
     "metadata": {},
     "output_type": "display_data"
    },
    {
     "data": {
      "application/vnd.jupyter.widget-view+json": {
       "model_id": "f5357f6b945c44b687ce06a0f00e9dae",
       "version_major": 2,
       "version_minor": 0
      },
      "text/plain": [
       "Map:   0%|          | 0/136 [00:00<?, ? examples/s]"
      ]
     },
     "metadata": {},
     "output_type": "display_data"
    },
    {
     "data": {
      "application/vnd.jupyter.widget-view+json": {
       "model_id": "2f15b5d96c2347149c120d8f2d6b5c35",
       "version_major": 2,
       "version_minor": 0
      },
      "text/plain": [
       "Creating parquet from Arrow format:   0%|          | 0/1 [00:00<?, ?ba/s]"
      ]
     },
     "metadata": {},
     "output_type": "display_data"
    },
    {
     "data": {
      "application/vnd.jupyter.widget-view+json": {
       "model_id": "98345c7ab22644aead21e9625b752164",
       "version_major": 2,
       "version_minor": 0
      },
      "text/plain": [
       "Map:   0%|          | 0/301 [00:00<?, ? examples/s]"
      ]
     },
     "metadata": {},
     "output_type": "display_data"
    },
    {
     "data": {
      "application/vnd.jupyter.widget-view+json": {
       "model_id": "6b8637128303403eba0646123cd587f0",
       "version_major": 2,
       "version_minor": 0
      },
      "text/plain": [
       "Creating parquet from Arrow format:   0%|          | 0/1 [00:00<?, ?ba/s]"
      ]
     },
     "metadata": {},
     "output_type": "display_data"
    },
    {
     "data": {
      "application/vnd.jupyter.widget-view+json": {
       "model_id": "d467e34065804cd4adb6f7470e0ee288",
       "version_major": 2,
       "version_minor": 0
      },
      "text/plain": [
       "Map:   0%|          | 0/139 [00:00<?, ? examples/s]"
      ]
     },
     "metadata": {},
     "output_type": "display_data"
    },
    {
     "data": {
      "application/vnd.jupyter.widget-view+json": {
       "model_id": "cdcda2486ce74e9794f96042a52285c0",
       "version_major": 2,
       "version_minor": 0
      },
      "text/plain": [
       "Creating parquet from Arrow format:   0%|          | 0/1 [00:00<?, ?ba/s]"
      ]
     },
     "metadata": {},
     "output_type": "display_data"
    },
    {
     "data": {
      "application/vnd.jupyter.widget-view+json": {
       "model_id": "f462f38e66284964a44abcf15c72376d",
       "version_major": 2,
       "version_minor": 0
      },
      "text/plain": [
       "Map:   0%|          | 0/226 [00:00<?, ? examples/s]"
      ]
     },
     "metadata": {},
     "output_type": "display_data"
    },
    {
     "data": {
      "application/vnd.jupyter.widget-view+json": {
       "model_id": "517f855cfd964b6d9ee6dc75b060d95e",
       "version_major": 2,
       "version_minor": 0
      },
      "text/plain": [
       "Creating parquet from Arrow format:   0%|          | 0/1 [00:00<?, ?ba/s]"
      ]
     },
     "metadata": {},
     "output_type": "display_data"
    },
    {
     "data": {
      "application/vnd.jupyter.widget-view+json": {
       "model_id": "e641ab0e62f648e88d5c21d3f388020e",
       "version_major": 2,
       "version_minor": 0
      },
      "text/plain": [
       "Map:   0%|          | 0/182 [00:00<?, ? examples/s]"
      ]
     },
     "metadata": {},
     "output_type": "display_data"
    },
    {
     "data": {
      "application/vnd.jupyter.widget-view+json": {
       "model_id": "63639880eed44f3f9d003a5b9446c21c",
       "version_major": 2,
       "version_minor": 0
      },
      "text/plain": [
       "Creating parquet from Arrow format:   0%|          | 0/1 [00:00<?, ?ba/s]"
      ]
     },
     "metadata": {},
     "output_type": "display_data"
    },
    {
     "data": {
      "application/vnd.jupyter.widget-view+json": {
       "model_id": "6b78d02c9de64a5eb13e2c48a7af7992",
       "version_major": 2,
       "version_minor": 0
      },
      "text/plain": [
       "Map:   0%|          | 0/259 [00:00<?, ? examples/s]"
      ]
     },
     "metadata": {},
     "output_type": "display_data"
    },
    {
     "data": {
      "application/vnd.jupyter.widget-view+json": {
       "model_id": "c3b61c46066548a992db5fe3a3f823c5",
       "version_major": 2,
       "version_minor": 0
      },
      "text/plain": [
       "Creating parquet from Arrow format:   0%|          | 0/1 [00:00<?, ?ba/s]"
      ]
     },
     "metadata": {},
     "output_type": "display_data"
    },
    {
     "data": {
      "application/vnd.jupyter.widget-view+json": {
       "model_id": "a9adb369e638445585d5d69bfaa2565a",
       "version_major": 2,
       "version_minor": 0
      },
      "text/plain": [
       "Map:   0%|          | 0/183 [00:00<?, ? examples/s]"
      ]
     },
     "metadata": {},
     "output_type": "display_data"
    },
    {
     "data": {
      "application/vnd.jupyter.widget-view+json": {
       "model_id": "581c63017c444291a6d86099d8815e3c",
       "version_major": 2,
       "version_minor": 0
      },
      "text/plain": [
       "Creating parquet from Arrow format:   0%|          | 0/1 [00:00<?, ?ba/s]"
      ]
     },
     "metadata": {},
     "output_type": "display_data"
    },
    {
     "data": {
      "application/vnd.jupyter.widget-view+json": {
       "model_id": "5bb6cf639b1b413e98a6a257fe21cd4c",
       "version_major": 2,
       "version_minor": 0
      },
      "text/plain": [
       "Map:   0%|          | 0/179 [00:00<?, ? examples/s]"
      ]
     },
     "metadata": {},
     "output_type": "display_data"
    },
    {
     "data": {
      "application/vnd.jupyter.widget-view+json": {
       "model_id": "16b470eb4d414792a22143e62727358e",
       "version_major": 2,
       "version_minor": 0
      },
      "text/plain": [
       "Creating parquet from Arrow format:   0%|          | 0/1 [00:00<?, ?ba/s]"
      ]
     },
     "metadata": {},
     "output_type": "display_data"
    },
    {
     "data": {
      "application/vnd.jupyter.widget-view+json": {
       "model_id": "8f65735e47e54a8f85fa8ec7788cfddb",
       "version_major": 2,
       "version_minor": 0
      },
      "text/plain": [
       "Map:   0%|          | 0/301 [00:00<?, ? examples/s]"
      ]
     },
     "metadata": {},
     "output_type": "display_data"
    },
    {
     "data": {
      "application/vnd.jupyter.widget-view+json": {
       "model_id": "9dd4458dbcb442069c31f4b5f9e33ed8",
       "version_major": 2,
       "version_minor": 0
      },
      "text/plain": [
       "Creating parquet from Arrow format:   0%|          | 0/1 [00:00<?, ?ba/s]"
      ]
     },
     "metadata": {},
     "output_type": "display_data"
    },
    {
     "data": {
      "application/vnd.jupyter.widget-view+json": {
       "model_id": "b19bc7e40afa4dd6988c91fb1fa800a4",
       "version_major": 2,
       "version_minor": 0
      },
      "text/plain": [
       "Map:   0%|          | 0/301 [00:00<?, ? examples/s]"
      ]
     },
     "metadata": {},
     "output_type": "display_data"
    },
    {
     "data": {
      "application/vnd.jupyter.widget-view+json": {
       "model_id": "05f6d15519b64103b726f6ae96d80b6a",
       "version_major": 2,
       "version_minor": 0
      },
      "text/plain": [
       "Creating parquet from Arrow format:   0%|          | 0/1 [00:00<?, ?ba/s]"
      ]
     },
     "metadata": {},
     "output_type": "display_data"
    },
    {
     "data": {
      "application/vnd.jupyter.widget-view+json": {
       "model_id": "b1f1a82a3bc64f4b9622961dd1b3c20c",
       "version_major": 2,
       "version_minor": 0
      },
      "text/plain": [
       "Map:   0%|          | 0/207 [00:00<?, ? examples/s]"
      ]
     },
     "metadata": {},
     "output_type": "display_data"
    },
    {
     "data": {
      "application/vnd.jupyter.widget-view+json": {
       "model_id": "ea7ce895f4d2475897055c3eae7128b2",
       "version_major": 2,
       "version_minor": 0
      },
      "text/plain": [
       "Creating parquet from Arrow format:   0%|          | 0/1 [00:00<?, ?ba/s]"
      ]
     },
     "metadata": {},
     "output_type": "display_data"
    },
    {
     "data": {
      "application/vnd.jupyter.widget-view+json": {
       "model_id": "107c8f19559f4a6a9fd6f2014e57cefe",
       "version_major": 2,
       "version_minor": 0
      },
      "text/plain": [
       "Map:   0%|          | 0/253 [00:00<?, ? examples/s]"
      ]
     },
     "metadata": {},
     "output_type": "display_data"
    },
    {
     "data": {
      "application/vnd.jupyter.widget-view+json": {
       "model_id": "6bd5857ce41c4c079a6ab0a79cf2d9ea",
       "version_major": 2,
       "version_minor": 0
      },
      "text/plain": [
       "Creating parquet from Arrow format:   0%|          | 0/1 [00:00<?, ?ba/s]"
      ]
     },
     "metadata": {},
     "output_type": "display_data"
    },
    {
     "data": {
      "application/vnd.jupyter.widget-view+json": {
       "model_id": "aee0e61e074d4dca95b5f0d5af40b441",
       "version_major": 2,
       "version_minor": 0
      },
      "text/plain": [
       "Map:   0%|          | 0/111 [00:00<?, ? examples/s]"
      ]
     },
     "metadata": {},
     "output_type": "display_data"
    },
    {
     "data": {
      "application/vnd.jupyter.widget-view+json": {
       "model_id": "4b5463ad8b1847dbbea5c463cf08c9af",
       "version_major": 2,
       "version_minor": 0
      },
      "text/plain": [
       "Creating parquet from Arrow format:   0%|          | 0/1 [00:00<?, ?ba/s]"
      ]
     },
     "metadata": {},
     "output_type": "display_data"
    },
    {
     "data": {
      "application/vnd.jupyter.widget-view+json": {
       "model_id": "b7b830be0aca4c3d9a72c16a912af79f",
       "version_major": 2,
       "version_minor": 0
      },
      "text/plain": [
       "Map:   0%|          | 0/125 [00:00<?, ? examples/s]"
      ]
     },
     "metadata": {},
     "output_type": "display_data"
    },
    {
     "data": {
      "application/vnd.jupyter.widget-view+json": {
       "model_id": "724320dcd1d34a1e92fb9fcf0bec9789",
       "version_major": 2,
       "version_minor": 0
      },
      "text/plain": [
       "Creating parquet from Arrow format:   0%|          | 0/1 [00:00<?, ?ba/s]"
      ]
     },
     "metadata": {},
     "output_type": "display_data"
    },
    {
     "data": {
      "application/vnd.jupyter.widget-view+json": {
       "model_id": "0bc746ebe8944b0eb73bb1d406b3fb29",
       "version_major": 2,
       "version_minor": 0
      },
      "text/plain": [
       "Map:   0%|          | 0/141 [00:00<?, ? examples/s]"
      ]
     },
     "metadata": {},
     "output_type": "display_data"
    },
    {
     "data": {
      "application/vnd.jupyter.widget-view+json": {
       "model_id": "ba1b6f50ac244d49be2909b0c144235d",
       "version_major": 2,
       "version_minor": 0
      },
      "text/plain": [
       "Creating parquet from Arrow format:   0%|          | 0/1 [00:00<?, ?ba/s]"
      ]
     },
     "metadata": {},
     "output_type": "display_data"
    },
    {
     "data": {
      "application/vnd.jupyter.widget-view+json": {
       "model_id": "79aa3568995443bf9e0986e86af62f66",
       "version_major": 2,
       "version_minor": 0
      },
      "text/plain": [
       "Map:   0%|          | 0/191 [00:00<?, ? examples/s]"
      ]
     },
     "metadata": {},
     "output_type": "display_data"
    },
    {
     "data": {
      "application/vnd.jupyter.widget-view+json": {
       "model_id": "5686f406034148c08ff65bc2da1cdce2",
       "version_major": 2,
       "version_minor": 0
      },
      "text/plain": [
       "Creating parquet from Arrow format:   0%|          | 0/1 [00:00<?, ?ba/s]"
      ]
     },
     "metadata": {},
     "output_type": "display_data"
    },
    {
     "data": {
      "application/vnd.jupyter.widget-view+json": {
       "model_id": "6898d0679a734a5f9acc7909d94832e0",
       "version_major": 2,
       "version_minor": 0
      },
      "text/plain": [
       "Map:   0%|          | 0/301 [00:00<?, ? examples/s]"
      ]
     },
     "metadata": {},
     "output_type": "display_data"
    },
    {
     "data": {
      "application/vnd.jupyter.widget-view+json": {
       "model_id": "3df6d984db1b4445ab84a1a4d444ea88",
       "version_major": 2,
       "version_minor": 0
      },
      "text/plain": [
       "Creating parquet from Arrow format:   0%|          | 0/1 [00:00<?, ?ba/s]"
      ]
     },
     "metadata": {},
     "output_type": "display_data"
    },
    {
     "data": {
      "application/vnd.jupyter.widget-view+json": {
       "model_id": "d71e515e6f8c412ea5eed24fc4649741",
       "version_major": 2,
       "version_minor": 0
      },
      "text/plain": [
       "Map:   0%|          | 0/141 [00:00<?, ? examples/s]"
      ]
     },
     "metadata": {},
     "output_type": "display_data"
    },
    {
     "data": {
      "application/vnd.jupyter.widget-view+json": {
       "model_id": "155db8ef84f946fdb9ea7e8d6ee63212",
       "version_major": 2,
       "version_minor": 0
      },
      "text/plain": [
       "Creating parquet from Arrow format:   0%|          | 0/1 [00:00<?, ?ba/s]"
      ]
     },
     "metadata": {},
     "output_type": "display_data"
    },
    {
     "data": {
      "application/vnd.jupyter.widget-view+json": {
       "model_id": "c8264e48710b47568fcfb76451cc8c69",
       "version_major": 2,
       "version_minor": 0
      },
      "text/plain": [
       "Map:   0%|          | 0/183 [00:00<?, ? examples/s]"
      ]
     },
     "metadata": {},
     "output_type": "display_data"
    },
    {
     "data": {
      "application/vnd.jupyter.widget-view+json": {
       "model_id": "05cb2982af4949839ef29f1a4e79b1d5",
       "version_major": 2,
       "version_minor": 0
      },
      "text/plain": [
       "Creating parquet from Arrow format:   0%|          | 0/1 [00:00<?, ?ba/s]"
      ]
     },
     "metadata": {},
     "output_type": "display_data"
    },
    {
     "data": {
      "application/vnd.jupyter.widget-view+json": {
       "model_id": "411e29c69f4b4f52acb98e676bb3edda",
       "version_major": 2,
       "version_minor": 0
      },
      "text/plain": [
       "Map:   0%|          | 0/113 [00:00<?, ? examples/s]"
      ]
     },
     "metadata": {},
     "output_type": "display_data"
    },
    {
     "data": {
      "application/vnd.jupyter.widget-view+json": {
       "model_id": "01244c369f1a4449b693db9c56b29b45",
       "version_major": 2,
       "version_minor": 0
      },
      "text/plain": [
       "Creating parquet from Arrow format:   0%|          | 0/1 [00:00<?, ?ba/s]"
      ]
     },
     "metadata": {},
     "output_type": "display_data"
    },
    {
     "data": {
      "application/vnd.jupyter.widget-view+json": {
       "model_id": "1256dc31ab514897b29517ce43afdb6e",
       "version_major": 2,
       "version_minor": 0
      },
      "text/plain": [
       "Map:   0%|          | 0/162 [00:00<?, ? examples/s]"
      ]
     },
     "metadata": {},
     "output_type": "display_data"
    },
    {
     "data": {
      "application/vnd.jupyter.widget-view+json": {
       "model_id": "eb0ea8007e9a4dd68aff744f1b51b29c",
       "version_major": 2,
       "version_minor": 0
      },
      "text/plain": [
       "Creating parquet from Arrow format:   0%|          | 0/1 [00:00<?, ?ba/s]"
      ]
     },
     "metadata": {},
     "output_type": "display_data"
    },
    {
     "data": {
      "application/vnd.jupyter.widget-view+json": {
       "model_id": "3bba79f079364366b3d40f1063214786",
       "version_major": 2,
       "version_minor": 0
      },
      "text/plain": [
       "Map:   0%|          | 0/301 [00:00<?, ? examples/s]"
      ]
     },
     "metadata": {},
     "output_type": "display_data"
    },
    {
     "data": {
      "application/vnd.jupyter.widget-view+json": {
       "model_id": "d4fe4fbfc73a4a3da9f70e87f7f9fb5b",
       "version_major": 2,
       "version_minor": 0
      },
      "text/plain": [
       "Creating parquet from Arrow format:   0%|          | 0/1 [00:00<?, ?ba/s]"
      ]
     },
     "metadata": {},
     "output_type": "display_data"
    },
    {
     "data": {
      "application/vnd.jupyter.widget-view+json": {
       "model_id": "4cef51e291124bfdbd03ae7c6ac00e57",
       "version_major": 2,
       "version_minor": 0
      },
      "text/plain": [
       "Map:   0%|          | 0/140 [00:00<?, ? examples/s]"
      ]
     },
     "metadata": {},
     "output_type": "display_data"
    },
    {
     "data": {
      "application/vnd.jupyter.widget-view+json": {
       "model_id": "8ef21d75da4944869e5d181c503c8842",
       "version_major": 2,
       "version_minor": 0
      },
      "text/plain": [
       "Creating parquet from Arrow format:   0%|          | 0/1 [00:00<?, ?ba/s]"
      ]
     },
     "metadata": {},
     "output_type": "display_data"
    },
    {
     "data": {
      "application/vnd.jupyter.widget-view+json": {
       "model_id": "3acf3882b1d945dfb481891e8bb87711",
       "version_major": 2,
       "version_minor": 0
      },
      "text/plain": [
       "Map:   0%|          | 0/90 [00:00<?, ? examples/s]"
      ]
     },
     "metadata": {},
     "output_type": "display_data"
    },
    {
     "data": {
      "application/vnd.jupyter.widget-view+json": {
       "model_id": "59cbd827fe36473aa4e702fe05e70bbb",
       "version_major": 2,
       "version_minor": 0
      },
      "text/plain": [
       "Creating parquet from Arrow format:   0%|          | 0/1 [00:00<?, ?ba/s]"
      ]
     },
     "metadata": {},
     "output_type": "display_data"
    },
    {
     "data": {
      "application/vnd.jupyter.widget-view+json": {
       "model_id": "33c5e126e4d448f299af5f1259957a34",
       "version_major": 2,
       "version_minor": 0
      },
      "text/plain": [
       "Map:   0%|          | 0/221 [00:00<?, ? examples/s]"
      ]
     },
     "metadata": {},
     "output_type": "display_data"
    },
    {
     "data": {
      "application/vnd.jupyter.widget-view+json": {
       "model_id": "b4840473caa14855aa735560dc808648",
       "version_major": 2,
       "version_minor": 0
      },
      "text/plain": [
       "Creating parquet from Arrow format:   0%|          | 0/1 [00:00<?, ?ba/s]"
      ]
     },
     "metadata": {},
     "output_type": "display_data"
    },
    {
     "data": {
      "application/vnd.jupyter.widget-view+json": {
       "model_id": "aceeccf04dac4fe9a7d0975cdcabc0cc",
       "version_major": 2,
       "version_minor": 0
      },
      "text/plain": [
       "Map:   0%|          | 0/301 [00:00<?, ? examples/s]"
      ]
     },
     "metadata": {},
     "output_type": "display_data"
    },
    {
     "data": {
      "application/vnd.jupyter.widget-view+json": {
       "model_id": "a96ad67f85444f26a665b3a9fbdcb492",
       "version_major": 2,
       "version_minor": 0
      },
      "text/plain": [
       "Creating parquet from Arrow format:   0%|          | 0/1 [00:00<?, ?ba/s]"
      ]
     },
     "metadata": {},
     "output_type": "display_data"
    },
    {
     "data": {
      "application/vnd.jupyter.widget-view+json": {
       "model_id": "7fe6062b3c454a30981dbf5d51eeb580",
       "version_major": 2,
       "version_minor": 0
      },
      "text/plain": [
       "Map:   0%|          | 0/169 [00:00<?, ? examples/s]"
      ]
     },
     "metadata": {},
     "output_type": "display_data"
    },
    {
     "data": {
      "application/vnd.jupyter.widget-view+json": {
       "model_id": "0c4c1558b56c42b2b212a4ab615db7ec",
       "version_major": 2,
       "version_minor": 0
      },
      "text/plain": [
       "Creating parquet from Arrow format:   0%|          | 0/1 [00:00<?, ?ba/s]"
      ]
     },
     "metadata": {},
     "output_type": "display_data"
    },
    {
     "data": {
      "application/vnd.jupyter.widget-view+json": {
       "model_id": "01ef4c3a3b8e4e1abf5ee3960ae03e74",
       "version_major": 2,
       "version_minor": 0
      },
      "text/plain": [
       "Map:   0%|          | 0/189 [00:00<?, ? examples/s]"
      ]
     },
     "metadata": {},
     "output_type": "display_data"
    },
    {
     "data": {
      "application/vnd.jupyter.widget-view+json": {
       "model_id": "c9474052e6ec4104ad6b0becf8cd2cb5",
       "version_major": 2,
       "version_minor": 0
      },
      "text/plain": [
       "Creating parquet from Arrow format:   0%|          | 0/1 [00:00<?, ?ba/s]"
      ]
     },
     "metadata": {},
     "output_type": "display_data"
    },
    {
     "data": {
      "application/vnd.jupyter.widget-view+json": {
       "model_id": "f91265b5701f4b07bd76d222cc793493",
       "version_major": 2,
       "version_minor": 0
      },
      "text/plain": [
       "Map:   0%|          | 0/301 [00:00<?, ? examples/s]"
      ]
     },
     "metadata": {},
     "output_type": "display_data"
    },
    {
     "data": {
      "application/vnd.jupyter.widget-view+json": {
       "model_id": "0426bc00a5864f6781367e3124691463",
       "version_major": 2,
       "version_minor": 0
      },
      "text/plain": [
       "Creating parquet from Arrow format:   0%|          | 0/1 [00:00<?, ?ba/s]"
      ]
     },
     "metadata": {},
     "output_type": "display_data"
    },
    {
     "data": {
      "application/vnd.jupyter.widget-view+json": {
       "model_id": "e43dc96e23b54f6f8ae3f8e517c5af22",
       "version_major": 2,
       "version_minor": 0
      },
      "text/plain": [
       "Map:   0%|          | 0/191 [00:00<?, ? examples/s]"
      ]
     },
     "metadata": {},
     "output_type": "display_data"
    },
    {
     "data": {
      "application/vnd.jupyter.widget-view+json": {
       "model_id": "00cda0a4c5c64332b5a75a34bdc34b13",
       "version_major": 2,
       "version_minor": 0
      },
      "text/plain": [
       "Creating parquet from Arrow format:   0%|          | 0/1 [00:00<?, ?ba/s]"
      ]
     },
     "metadata": {},
     "output_type": "display_data"
    },
    {
     "data": {
      "application/vnd.jupyter.widget-view+json": {
       "model_id": "468e846ebb494c4ebd21135cbc9bfb36",
       "version_major": 2,
       "version_minor": 0
      },
      "text/plain": [
       "Map:   0%|          | 0/238 [00:00<?, ? examples/s]"
      ]
     },
     "metadata": {},
     "output_type": "display_data"
    },
    {
     "data": {
      "application/vnd.jupyter.widget-view+json": {
       "model_id": "9a83ff0c6075445b8f4a40beda19a031",
       "version_major": 2,
       "version_minor": 0
      },
      "text/plain": [
       "Creating parquet from Arrow format:   0%|          | 0/1 [00:00<?, ?ba/s]"
      ]
     },
     "metadata": {},
     "output_type": "display_data"
    },
    {
     "data": {
      "application/vnd.jupyter.widget-view+json": {
       "model_id": "d1e66a943842415da59f628637400686",
       "version_major": 2,
       "version_minor": 0
      },
      "text/plain": [
       "Map:   0%|          | 0/247 [00:00<?, ? examples/s]"
      ]
     },
     "metadata": {},
     "output_type": "display_data"
    },
    {
     "data": {
      "application/vnd.jupyter.widget-view+json": {
       "model_id": "57c8f52073284e94bcc8f26e3c342791",
       "version_major": 2,
       "version_minor": 0
      },
      "text/plain": [
       "Creating parquet from Arrow format:   0%|          | 0/1 [00:00<?, ?ba/s]"
      ]
     },
     "metadata": {},
     "output_type": "display_data"
    },
    {
     "data": {
      "application/vnd.jupyter.widget-view+json": {
       "model_id": "9b8b983e2f674696a765e4b1ccfbedb3",
       "version_major": 2,
       "version_minor": 0
      },
      "text/plain": [
       "Map:   0%|          | 0/131 [00:00<?, ? examples/s]"
      ]
     },
     "metadata": {},
     "output_type": "display_data"
    },
    {
     "data": {
      "application/vnd.jupyter.widget-view+json": {
       "model_id": "4ab583e8dd2f4aa780beb07e5c0448df",
       "version_major": 2,
       "version_minor": 0
      },
      "text/plain": [
       "Creating parquet from Arrow format:   0%|          | 0/1 [00:00<?, ?ba/s]"
      ]
     },
     "metadata": {},
     "output_type": "display_data"
    },
    {
     "data": {
      "application/vnd.jupyter.widget-view+json": {
       "model_id": "8cfaa2e3addf440099248d99cac02594",
       "version_major": 2,
       "version_minor": 0
      },
      "text/plain": [
       "Map:   0%|          | 0/164 [00:00<?, ? examples/s]"
      ]
     },
     "metadata": {},
     "output_type": "display_data"
    },
    {
     "data": {
      "application/vnd.jupyter.widget-view+json": {
       "model_id": "791274ad87034279b8af224b105d0754",
       "version_major": 2,
       "version_minor": 0
      },
      "text/plain": [
       "Creating parquet from Arrow format:   0%|          | 0/1 [00:00<?, ?ba/s]"
      ]
     },
     "metadata": {},
     "output_type": "display_data"
    },
    {
     "data": {
      "application/vnd.jupyter.widget-view+json": {
       "model_id": "ceaba50ce85a41c89327b7275e757b61",
       "version_major": 2,
       "version_minor": 0
      },
      "text/plain": [
       "Map:   0%|          | 0/227 [00:00<?, ? examples/s]"
      ]
     },
     "metadata": {},
     "output_type": "display_data"
    },
    {
     "data": {
      "application/vnd.jupyter.widget-view+json": {
       "model_id": "fe81ca6ab44b42a28771ba4d3be410c2",
       "version_major": 2,
       "version_minor": 0
      },
      "text/plain": [
       "Creating parquet from Arrow format:   0%|          | 0/1 [00:00<?, ?ba/s]"
      ]
     },
     "metadata": {},
     "output_type": "display_data"
    },
    {
     "data": {
      "application/vnd.jupyter.widget-view+json": {
       "model_id": "491140ffa3b8494aa6eb644f3ca3aa9b",
       "version_major": 2,
       "version_minor": 0
      },
      "text/plain": [
       "Map:   0%|          | 0/266 [00:00<?, ? examples/s]"
      ]
     },
     "metadata": {},
     "output_type": "display_data"
    },
    {
     "data": {
      "application/vnd.jupyter.widget-view+json": {
       "model_id": "5272a7135147477da2a6f0e779845ed3",
       "version_major": 2,
       "version_minor": 0
      },
      "text/plain": [
       "Creating parquet from Arrow format:   0%|          | 0/1 [00:00<?, ?ba/s]"
      ]
     },
     "metadata": {},
     "output_type": "display_data"
    },
    {
     "data": {
      "application/vnd.jupyter.widget-view+json": {
       "model_id": "6ba0099057064184b9a6fff33ab4ed5b",
       "version_major": 2,
       "version_minor": 0
      },
      "text/plain": [
       "Map:   0%|          | 0/108 [00:00<?, ? examples/s]"
      ]
     },
     "metadata": {},
     "output_type": "display_data"
    },
    {
     "data": {
      "application/vnd.jupyter.widget-view+json": {
       "model_id": "951939fbce1840b2bfbcfdd190438e96",
       "version_major": 2,
       "version_minor": 0
      },
      "text/plain": [
       "Creating parquet from Arrow format:   0%|          | 0/1 [00:00<?, ?ba/s]"
      ]
     },
     "metadata": {},
     "output_type": "display_data"
    },
    {
     "data": {
      "application/vnd.jupyter.widget-view+json": {
       "model_id": "abb8297d659247d7a68a38e3178877d1",
       "version_major": 2,
       "version_minor": 0
      },
      "text/plain": [
       "Map:   0%|          | 0/301 [00:00<?, ? examples/s]"
      ]
     },
     "metadata": {},
     "output_type": "display_data"
    },
    {
     "data": {
      "application/vnd.jupyter.widget-view+json": {
       "model_id": "bd92b492ba024ac58ef2bd7336e9bc56",
       "version_major": 2,
       "version_minor": 0
      },
      "text/plain": [
       "Creating parquet from Arrow format:   0%|          | 0/1 [00:00<?, ?ba/s]"
      ]
     },
     "metadata": {},
     "output_type": "display_data"
    },
    {
     "data": {
      "application/vnd.jupyter.widget-view+json": {
       "model_id": "a010b2975fbf4dbea3a1311d96715bcd",
       "version_major": 2,
       "version_minor": 0
      },
      "text/plain": [
       "Map:   0%|          | 0/196 [00:00<?, ? examples/s]"
      ]
     },
     "metadata": {},
     "output_type": "display_data"
    },
    {
     "data": {
      "application/vnd.jupyter.widget-view+json": {
       "model_id": "b3be486dd6ba4782852fdd29b82702ff",
       "version_major": 2,
       "version_minor": 0
      },
      "text/plain": [
       "Creating parquet from Arrow format:   0%|          | 0/1 [00:00<?, ?ba/s]"
      ]
     },
     "metadata": {},
     "output_type": "display_data"
    },
    {
     "data": {
      "application/vnd.jupyter.widget-view+json": {
       "model_id": "562ba2901748445fa57b50635303839c",
       "version_major": 2,
       "version_minor": 0
      },
      "text/plain": [
       "Map:   0%|          | 0/247 [00:00<?, ? examples/s]"
      ]
     },
     "metadata": {},
     "output_type": "display_data"
    },
    {
     "data": {
      "application/vnd.jupyter.widget-view+json": {
       "model_id": "a0579b54ddb84106bf8813162a6006da",
       "version_major": 2,
       "version_minor": 0
      },
      "text/plain": [
       "Creating parquet from Arrow format:   0%|          | 0/1 [00:00<?, ?ba/s]"
      ]
     },
     "metadata": {},
     "output_type": "display_data"
    },
    {
     "data": {
      "application/vnd.jupyter.widget-view+json": {
       "model_id": "95b3feeba6d84cd8a2ec4240af5e5c25",
       "version_major": 2,
       "version_minor": 0
      },
      "text/plain": [
       "Map:   0%|          | 0/186 [00:00<?, ? examples/s]"
      ]
     },
     "metadata": {},
     "output_type": "display_data"
    },
    {
     "data": {
      "application/vnd.jupyter.widget-view+json": {
       "model_id": "0434bcb5232d4ffda8b27a3e02f5117a",
       "version_major": 2,
       "version_minor": 0
      },
      "text/plain": [
       "Creating parquet from Arrow format:   0%|          | 0/1 [00:00<?, ?ba/s]"
      ]
     },
     "metadata": {},
     "output_type": "display_data"
    },
    {
     "data": {
      "application/vnd.jupyter.widget-view+json": {
       "model_id": "a09dd6c60eb44bbe897b18e01c54fa14",
       "version_major": 2,
       "version_minor": 0
      },
      "text/plain": [
       "Map:   0%|          | 0/301 [00:00<?, ? examples/s]"
      ]
     },
     "metadata": {},
     "output_type": "display_data"
    },
    {
     "data": {
      "application/vnd.jupyter.widget-view+json": {
       "model_id": "ae0a375a3c6e4efca49ab2fffc1cf99f",
       "version_major": 2,
       "version_minor": 0
      },
      "text/plain": [
       "Creating parquet from Arrow format:   0%|          | 0/1 [00:00<?, ?ba/s]"
      ]
     },
     "metadata": {},
     "output_type": "display_data"
    },
    {
     "data": {
      "application/vnd.jupyter.widget-view+json": {
       "model_id": "e9a0b30d54b74dadac42fef3d57b4a85",
       "version_major": 2,
       "version_minor": 0
      },
      "text/plain": [
       "Map:   0%|          | 0/269 [00:00<?, ? examples/s]"
      ]
     },
     "metadata": {},
     "output_type": "display_data"
    },
    {
     "data": {
      "application/vnd.jupyter.widget-view+json": {
       "model_id": "72dac86b6acd492199bacbba46976fe0",
       "version_major": 2,
       "version_minor": 0
      },
      "text/plain": [
       "Creating parquet from Arrow format:   0%|          | 0/1 [00:00<?, ?ba/s]"
      ]
     },
     "metadata": {},
     "output_type": "display_data"
    },
    {
     "data": {
      "application/vnd.jupyter.widget-view+json": {
       "model_id": "89b81cecf24544b3a229d36d4f997f42",
       "version_major": 2,
       "version_minor": 0
      },
      "text/plain": [
       "Map:   0%|          | 0/140 [00:00<?, ? examples/s]"
      ]
     },
     "metadata": {},
     "output_type": "display_data"
    },
    {
     "data": {
      "application/vnd.jupyter.widget-view+json": {
       "model_id": "9003622eb2e0414887b0458d89bf8f44",
       "version_major": 2,
       "version_minor": 0
      },
      "text/plain": [
       "Creating parquet from Arrow format:   0%|          | 0/1 [00:00<?, ?ba/s]"
      ]
     },
     "metadata": {},
     "output_type": "display_data"
    },
    {
     "data": {
      "application/vnd.jupyter.widget-view+json": {
       "model_id": "1c5a9b9934fc4f8dbdbaf6ff3670f767",
       "version_major": 2,
       "version_minor": 0
      },
      "text/plain": [
       "Map:   0%|          | 0/199 [00:00<?, ? examples/s]"
      ]
     },
     "metadata": {},
     "output_type": "display_data"
    },
    {
     "data": {
      "application/vnd.jupyter.widget-view+json": {
       "model_id": "1bcf8423cca6446fa5a6bdbeb7c001b1",
       "version_major": 2,
       "version_minor": 0
      },
      "text/plain": [
       "Creating parquet from Arrow format:   0%|          | 0/1 [00:00<?, ?ba/s]"
      ]
     },
     "metadata": {},
     "output_type": "display_data"
    },
    {
     "data": {
      "application/vnd.jupyter.widget-view+json": {
       "model_id": "d555c2afde924935aacef674e2accd8d",
       "version_major": 2,
       "version_minor": 0
      },
      "text/plain": [
       "Map:   0%|          | 0/232 [00:00<?, ? examples/s]"
      ]
     },
     "metadata": {},
     "output_type": "display_data"
    },
    {
     "data": {
      "application/vnd.jupyter.widget-view+json": {
       "model_id": "11827545bdf3463e8c8d92a50326baff",
       "version_major": 2,
       "version_minor": 0
      },
      "text/plain": [
       "Creating parquet from Arrow format:   0%|          | 0/1 [00:00<?, ?ba/s]"
      ]
     },
     "metadata": {},
     "output_type": "display_data"
    },
    {
     "data": {
      "application/vnd.jupyter.widget-view+json": {
       "model_id": "19e4fdc4e94e4de49a39af8ad7e39bb3",
       "version_major": 2,
       "version_minor": 0
      },
      "text/plain": [
       "Map:   0%|          | 0/197 [00:00<?, ? examples/s]"
      ]
     },
     "metadata": {},
     "output_type": "display_data"
    },
    {
     "data": {
      "application/vnd.jupyter.widget-view+json": {
       "model_id": "dc9d4207b78741f1a57e46cdc79a4d4c",
       "version_major": 2,
       "version_minor": 0
      },
      "text/plain": [
       "Creating parquet from Arrow format:   0%|          | 0/1 [00:00<?, ?ba/s]"
      ]
     },
     "metadata": {},
     "output_type": "display_data"
    },
    {
     "data": {
      "application/vnd.jupyter.widget-view+json": {
       "model_id": "af8dd7fc634640be895e6e697f3a0087",
       "version_major": 2,
       "version_minor": 0
      },
      "text/plain": [
       "Map:   0%|          | 0/128 [00:00<?, ? examples/s]"
      ]
     },
     "metadata": {},
     "output_type": "display_data"
    },
    {
     "data": {
      "application/vnd.jupyter.widget-view+json": {
       "model_id": "96d743e071354a7a8f4e823c8bf48983",
       "version_major": 2,
       "version_minor": 0
      },
      "text/plain": [
       "Creating parquet from Arrow format:   0%|          | 0/1 [00:00<?, ?ba/s]"
      ]
     },
     "metadata": {},
     "output_type": "display_data"
    },
    {
     "data": {
      "application/vnd.jupyter.widget-view+json": {
       "model_id": "1010d954d93545d1a3b717325d4eeede",
       "version_major": 2,
       "version_minor": 0
      },
      "text/plain": [
       "Resolving data files:   0%|          | 0/100 [00:00<?, ?it/s]"
      ]
     },
     "metadata": {},
     "output_type": "display_data"
    },
    {
     "data": {
      "application/vnd.jupyter.widget-view+json": {
       "model_id": "f3876a43645a4f5b95f79d73e4207cc4",
       "version_major": 2,
       "version_minor": 0
      },
      "text/plain": [
       "Downloading data:   0%|          | 0/100 [00:00<?, ?files/s]"
      ]
     },
     "metadata": {},
     "output_type": "display_data"
    },
    {
     "data": {
      "application/vnd.jupyter.widget-view+json": {
       "model_id": "6ab31e9906b6470f9be7971f2afb1d65",
       "version_major": 2,
       "version_minor": 0
      },
      "text/plain": [
       "Generating train split: 0 examples [00:00, ? examples/s]"
      ]
     },
     "metadata": {},
     "output_type": "display_data"
    },
    {
     "name": "stderr",
     "output_type": "stream",
     "text": [
      "Svt[info]: -------------------------------------------\n",
      "Svt[info]: SVT [version]:\tSVT-AV1 Encoder Lib v2.3.0-61-g66fb0f59\n",
      "Svt[info]: SVT [build]  :\tGCC 11.4.0\t 64 bit\n",
      "Svt[info]: LIB Build date: Nov 27 2024 13:20:34\n",
      "Svt[info]: -------------------------------------------\n",
      "Svt[info]: Level of Parallelism: 5\n",
      "Svt[info]: Number of PPCS 76\n",
      "Svt[info]: [asm level on system : up to avx2]\n",
      "Svt[info]: [asm level selected : up to avx2]\n",
      "Svt[info]: -------------------------------------------\n",
      "Svt[info]: SVT [config]: main profile\ttier (auto)\tlevel (auto)\n",
      "Svt[info]: SVT [config]: width / height / fps numerator / fps denominator \t\t: 96 / 96 / 10 / 1\n",
      "Svt[info]: SVT [config]: bit-depth / color format \t\t\t\t\t: 8 / YUV420\n",
      "Svt[info]: SVT [config]: preset / tune / pred struct \t\t\t\t\t: 10 / PSNR / random access\n",
      "Svt[info]: SVT [config]: gop size / mini-gop size / key-frame type \t\t\t: 2 / 16 / key frame\n",
      "Svt[info]: SVT [config]: BRC mode / rate factor \t\t\t\t\t: CRF / 30 \n",
      "Svt[info]: SVT [config]: AQ mode / variance boost \t\t\t\t\t: 2 / 0\n",
      "Svt[info]: -------------------------------------------\n",
      "Svt[info]: -------------------------------------------\n",
      "Svt[info]: SVT [version]:\tSVT-AV1 Encoder Lib v2.3.0-61-g66fb0f59\n",
      "Svt[info]: SVT [build]  :\tGCC 11.4.0\t 64 bit\n",
      "Svt[info]: LIB Build date: Nov 27 2024 13:20:34\n",
      "Svt[info]: -------------------------------------------\n",
      "Svt[info]: Level of Parallelism: 5\n",
      "Svt[info]: Number of PPCS 76\n",
      "Svt[info]: [asm level on system : up to avx2]\n",
      "Svt[info]: [asm level selected : up to avx2]\n",
      "Svt[info]: -------------------------------------------\n",
      "Svt[info]: SVT [config]: main profile\ttier (auto)\tlevel (auto)\n",
      "Svt[info]: SVT [config]: width / height / fps numerator / fps denominator \t\t: 96 / 96 / 10 / 1\n",
      "Svt[info]: SVT [config]: bit-depth / color format \t\t\t\t\t: 8 / YUV420\n",
      "Svt[info]: SVT [config]: preset / tune / pred struct \t\t\t\t\t: 10 / PSNR / random access\n",
      "Svt[info]: SVT [config]: gop size / mini-gop size / key-frame type \t\t\t: 2 / 16 / key frame\n",
      "Svt[info]: SVT [config]: BRC mode / rate factor \t\t\t\t\t: CRF / 30 \n",
      "Svt[info]: SVT [config]: AQ mode / variance boost \t\t\t\t\t: 2 / 0\n",
      "Svt[info]: -------------------------------------------\n",
      "Svt[info]: -------------------------------------------\n",
      "Svt[info]: SVT [version]:\tSVT-AV1 Encoder Lib v2.3.0-61-g66fb0f59\n",
      "Svt[info]: SVT [build]  :\tGCC 11.4.0\t 64 bit\n",
      "Svt[info]: LIB Build date: Nov 27 2024 13:20:34\n",
      "Svt[info]: -------------------------------------------\n",
      "Svt[info]: Level of Parallelism: 5\n",
      "Svt[info]: Number of PPCS 76\n",
      "Svt[info]: [asm level on system : up to avx2]\n",
      "Svt[info]: [asm level selected : up to avx2]\n",
      "Svt[info]: -------------------------------------------\n",
      "Svt[info]: SVT [config]: main profile\ttier (auto)\tlevel (auto)\n",
      "Svt[info]: SVT [config]: width / height / fps numerator / fps denominator \t\t: 96 / 96 / 10 / 1\n",
      "Svt[info]: SVT [config]: bit-depth / color format \t\t\t\t\t: 8 / YUV420\n",
      "Svt[info]: SVT [config]: preset / tune / pred struct \t\t\t\t\t: 10 / PSNR / random access\n",
      "Svt[info]: SVT [config]: gop size / mini-gop size / key-frame type \t\t\t: 2 / 16 / key frame\n",
      "Svt[info]: SVT [config]: BRC mode / rate factor \t\t\t\t\t: CRF / 30 \n",
      "Svt[info]: SVT [config]: AQ mode / variance boost \t\t\t\t\t: 2 / 0\n",
      "Svt[info]: -------------------------------------------\n",
      "Svt[info]: -------------------------------------------\n",
      "Svt[info]: SVT [version]:\tSVT-AV1 Encoder Lib v2.3.0-61-g66fb0f59\n",
      "Svt[info]: SVT [build]  :\tGCC 11.4.0\t 64 bit\n",
      "Svt[info]: LIB Build date: Nov 27 2024 13:20:34\n",
      "Svt[info]: -------------------------------------------\n",
      "Svt[info]: Level of Parallelism: 5\n",
      "Svt[info]: Number of PPCS 76\n",
      "Svt[info]: [asm level on system : up to avx2]\n",
      "Svt[info]: [asm level selected : up to avx2]\n",
      "Svt[info]: -------------------------------------------\n",
      "Svt[info]: SVT [config]: main profile\ttier (auto)\tlevel (auto)\n",
      "Svt[info]: SVT [config]: width / height / fps numerator / fps denominator \t\t: 96 / 96 / 10 / 1\n",
      "Svt[info]: SVT [config]: bit-depth / color format \t\t\t\t\t: 8 / YUV420\n",
      "Svt[info]: SVT [config]: preset / tune / pred struct \t\t\t\t\t: 10 / PSNR / random access\n",
      "Svt[info]: SVT [config]: gop size / mini-gop size / key-frame type \t\t\t: 2 / 16 / key frame\n",
      "Svt[info]: SVT [config]: BRC mode / rate factor \t\t\t\t\t: CRF / 30 \n",
      "Svt[info]: SVT [config]: AQ mode / variance boost \t\t\t\t\t: 2 / 0\n",
      "Svt[info]: -------------------------------------------\n",
      "Svt[info]: -------------------------------------------\n",
      "Svt[info]: SVT [version]:\tSVT-AV1 Encoder Lib v2.3.0-61-g66fb0f59\n",
      "Svt[info]: SVT [build]  :\tGCC 11.4.0\t 64 bit\n",
      "Svt[info]: LIB Build date: Nov 27 2024 13:20:34\n",
      "Svt[info]: -------------------------------------------\n",
      "Svt[info]: Level of Parallelism: 5\n",
      "Svt[info]: Number of PPCS 76\n",
      "Svt[info]: [asm level on system : up to avx2]\n",
      "Svt[info]: [asm level selected : up to avx2]\n",
      "Svt[info]: -------------------------------------------\n",
      "Svt[info]: SVT [config]: main profile\ttier (auto)\tlevel (auto)\n",
      "Svt[info]: SVT [config]: width / height / fps numerator / fps denominator \t\t: 96 / 96 / 10 / 1\n",
      "Svt[info]: SVT [config]: bit-depth / color format \t\t\t\t\t: 8 / YUV420\n",
      "Svt[info]: SVT [config]: preset / tune / pred struct \t\t\t\t\t: 10 / PSNR / random access\n",
      "Svt[info]: SVT [config]: gop size / mini-gop size / key-frame type \t\t\t: 2 / 16 / key frame\n",
      "Svt[info]: SVT [config]: BRC mode / rate factor \t\t\t\t\t: CRF / 30 \n",
      "Svt[info]: SVT [config]: AQ mode / variance boost \t\t\t\t\t: 2 / 0\n",
      "Svt[info]: -------------------------------------------\n",
      "Svt[info]: -------------------------------------------\n",
      "Svt[info]: SVT [version]:\tSVT-AV1 Encoder Lib v2.3.0-61-g66fb0f59\n",
      "Svt[info]: SVT [build]  :\tGCC 11.4.0\t 64 bit\n",
      "Svt[info]: LIB Build date: Nov 27 2024 13:20:34\n",
      "Svt[info]: -------------------------------------------\n",
      "Svt[info]: Level of Parallelism: 5\n",
      "Svt[info]: Number of PPCS 76\n",
      "Svt[info]: [asm level on system : up to avx2]\n",
      "Svt[info]: [asm level selected : up to avx2]\n",
      "Svt[info]: -------------------------------------------\n",
      "Svt[info]: SVT [config]: main profile\ttier (auto)\tlevel (auto)\n",
      "Svt[info]: SVT [config]: width / height / fps numerator / fps denominator \t\t: 96 / 96 / 10 / 1\n",
      "Svt[info]: SVT [config]: bit-depth / color format \t\t\t\t\t: 8 / YUV420\n",
      "Svt[info]: SVT [config]: preset / tune / pred struct \t\t\t\t\t: 10 / PSNR / random access\n",
      "Svt[info]: SVT [config]: gop size / mini-gop size / key-frame type \t\t\t: 2 / 16 / key frame\n",
      "Svt[info]: SVT [config]: BRC mode / rate factor \t\t\t\t\t: CRF / 30 \n",
      "Svt[info]: SVT [config]: AQ mode / variance boost \t\t\t\t\t: 2 / 0\n",
      "Svt[info]: -------------------------------------------\n",
      "Svt[info]: -------------------------------------------\n",
      "Svt[info]: SVT [version]:\tSVT-AV1 Encoder Lib v2.3.0-61-g66fb0f59\n",
      "Svt[info]: SVT [build]  :\tGCC 11.4.0\t 64 bit\n",
      "Svt[info]: LIB Build date: Nov 27 2024 13:20:34\n",
      "Svt[info]: -------------------------------------------\n",
      "Svt[info]: Level of Parallelism: 5\n",
      "Svt[info]: Number of PPCS 76\n",
      "Svt[info]: [asm level on system : up to avx2]\n",
      "Svt[info]: [asm level selected : up to avx2]\n",
      "Svt[info]: -------------------------------------------\n",
      "Svt[info]: SVT [config]: main profile\ttier (auto)\tlevel (auto)\n",
      "Svt[info]: SVT [config]: width / height / fps numerator / fps denominator \t\t: 96 / 96 / 10 / 1\n",
      "Svt[info]: SVT [config]: bit-depth / color format \t\t\t\t\t: 8 / YUV420\n",
      "Svt[info]: SVT [config]: preset / tune / pred struct \t\t\t\t\t: 10 / PSNR / random access\n",
      "Svt[info]: SVT [config]: gop size / mini-gop size / key-frame type \t\t\t: 2 / 16 / key frame\n",
      "Svt[info]: SVT [config]: BRC mode / rate factor \t\t\t\t\t: CRF / 30 \n",
      "Svt[info]: SVT [config]: AQ mode / variance boost \t\t\t\t\t: 2 / 0\n",
      "Svt[info]: -------------------------------------------\n",
      "Svt[info]: -------------------------------------------\n",
      "Svt[info]: SVT [version]:\tSVT-AV1 Encoder Lib v2.3.0-61-g66fb0f59\n",
      "Svt[info]: SVT [build]  :\tGCC 11.4.0\t 64 bit\n",
      "Svt[info]: LIB Build date: Nov 27 2024 13:20:34\n",
      "Svt[info]: -------------------------------------------\n",
      "Svt[info]: Level of Parallelism: 5\n",
      "Svt[info]: Number of PPCS 76\n",
      "Svt[info]: [asm level on system : up to avx2]\n",
      "Svt[info]: [asm level selected : up to avx2]\n",
      "Svt[info]: -------------------------------------------\n",
      "Svt[info]: SVT [config]: main profile\ttier (auto)\tlevel (auto)\n",
      "Svt[info]: SVT [config]: width / height / fps numerator / fps denominator \t\t: 96 / 96 / 10 / 1\n",
      "Svt[info]: SVT [config]: bit-depth / color format \t\t\t\t\t: 8 / YUV420\n",
      "Svt[info]: SVT [config]: preset / tune / pred struct \t\t\t\t\t: 10 / PSNR / random access\n",
      "Svt[info]: SVT [config]: gop size / mini-gop size / key-frame type \t\t\t: 2 / 16 / key frame\n",
      "Svt[info]: SVT [config]: BRC mode / rate factor \t\t\t\t\t: CRF / 30 \n",
      "Svt[info]: SVT [config]: AQ mode / variance boost \t\t\t\t\t: 2 / 0\n",
      "Svt[info]: -------------------------------------------\n",
      "Svt[info]: -------------------------------------------\n",
      "Svt[info]: SVT [version]:\tSVT-AV1 Encoder Lib v2.3.0-61-g66fb0f59\n",
      "Svt[info]: SVT [build]  :\tGCC 11.4.0\t 64 bit\n",
      "Svt[info]: LIB Build date: Nov 27 2024 13:20:34\n",
      "Svt[info]: -------------------------------------------\n",
      "Svt[info]: Level of Parallelism: 5\n",
      "Svt[info]: Number of PPCS 76\n",
      "Svt[info]: [asm level on system : up to avx2]\n",
      "Svt[info]: [asm level selected : up to avx2]\n",
      "Svt[info]: -------------------------------------------\n",
      "Svt[info]: SVT [config]: main profile\ttier (auto)\tlevel (auto)\n",
      "Svt[info]: SVT [config]: width / height / fps numerator / fps denominator \t\t: 96 / 96 / 10 / 1\n",
      "Svt[info]: SVT [config]: bit-depth / color format \t\t\t\t\t: 8 / YUV420\n",
      "Svt[info]: SVT [config]: preset / tune / pred struct \t\t\t\t\t: 10 / PSNR / random access\n",
      "Svt[info]: SVT [config]: gop size / mini-gop size / key-frame type \t\t\t: 2 / 16 / key frame\n",
      "Svt[info]: SVT [config]: BRC mode / rate factor \t\t\t\t\t: CRF / 30 \n",
      "Svt[info]: SVT [config]: AQ mode / variance boost \t\t\t\t\t: 2 / 0\n",
      "Svt[info]: -------------------------------------------\n",
      "Svt[info]: -------------------------------------------\n",
      "Svt[info]: SVT [version]:\tSVT-AV1 Encoder Lib v2.3.0-61-g66fb0f59\n",
      "Svt[info]: SVT [build]  :\tGCC 11.4.0\t 64 bit\n",
      "Svt[info]: LIB Build date: Nov 27 2024 13:20:34\n",
      "Svt[info]: -------------------------------------------\n",
      "Svt[info]: Level of Parallelism: 5\n",
      "Svt[info]: Number of PPCS 76\n",
      "Svt[info]: [asm level on system : up to avx2]\n",
      "Svt[info]: [asm level selected : up to avx2]\n",
      "Svt[info]: -------------------------------------------\n",
      "Svt[info]: SVT [config]: main profile\ttier (auto)\tlevel (auto)\n",
      "Svt[info]: SVT [config]: width / height / fps numerator / fps denominator \t\t: 96 / 96 / 10 / 1\n",
      "Svt[info]: SVT [config]: bit-depth / color format \t\t\t\t\t: 8 / YUV420\n",
      "Svt[info]: SVT [config]: preset / tune / pred struct \t\t\t\t\t: 10 / PSNR / random access\n",
      "Svt[info]: SVT [config]: gop size / mini-gop size / key-frame type \t\t\t: 2 / 16 / key frame\n",
      "Svt[info]: SVT [config]: BRC mode / rate factor \t\t\t\t\t: CRF / 30 \n",
      "Svt[info]: SVT [config]: AQ mode / variance boost \t\t\t\t\t: 2 / 0\n",
      "Svt[info]: -------------------------------------------\n",
      "Svt[info]: -------------------------------------------\n",
      "Svt[info]: SVT [version]:\tSVT-AV1 Encoder Lib v2.3.0-61-g66fb0f59\n",
      "Svt[info]: SVT [build]  :\tGCC 11.4.0\t 64 bit\n",
      "Svt[info]: LIB Build date: Nov 27 2024 13:20:34\n",
      "Svt[info]: -------------------------------------------\n",
      "Svt[info]: Level of Parallelism: 5\n",
      "Svt[info]: Number of PPCS 76\n",
      "Svt[info]: [asm level on system : up to avx2]\n",
      "Svt[info]: [asm level selected : up to avx2]\n",
      "Svt[info]: -------------------------------------------\n",
      "Svt[info]: SVT [config]: main profile\ttier (auto)\tlevel (auto)\n",
      "Svt[info]: SVT [config]: width / height / fps numerator / fps denominator \t\t: 96 / 96 / 10 / 1\n",
      "Svt[info]: SVT [config]: bit-depth / color format \t\t\t\t\t: 8 / YUV420\n",
      "Svt[info]: SVT [config]: preset / tune / pred struct \t\t\t\t\t: 10 / PSNR / random access\n",
      "Svt[info]: SVT [config]: gop size / mini-gop size / key-frame type \t\t\t: 2 / 16 / key frame\n",
      "Svt[info]: SVT [config]: BRC mode / rate factor \t\t\t\t\t: CRF / 30 \n",
      "Svt[info]: SVT [config]: AQ mode / variance boost \t\t\t\t\t: 2 / 0\n",
      "Svt[info]: -------------------------------------------\n",
      "Svt[info]: -------------------------------------------\n",
      "Svt[info]: SVT [version]:\tSVT-AV1 Encoder Lib v2.3.0-61-g66fb0f59\n",
      "Svt[info]: SVT [build]  :\tGCC 11.4.0\t 64 bit\n",
      "Svt[info]: LIB Build date: Nov 27 2024 13:20:34\n",
      "Svt[info]: -------------------------------------------\n",
      "Svt[info]: Level of Parallelism: 5\n",
      "Svt[info]: Number of PPCS 76\n",
      "Svt[info]: [asm level on system : up to avx2]\n",
      "Svt[info]: [asm level selected : up to avx2]\n",
      "Svt[info]: -------------------------------------------\n",
      "Svt[info]: SVT [config]: main profile\ttier (auto)\tlevel (auto)\n",
      "Svt[info]: SVT [config]: width / height / fps numerator / fps denominator \t\t: 96 / 96 / 10 / 1\n",
      "Svt[info]: SVT [config]: bit-depth / color format \t\t\t\t\t: 8 / YUV420\n",
      "Svt[info]: SVT [config]: preset / tune / pred struct \t\t\t\t\t: 10 / PSNR / random access\n",
      "Svt[info]: SVT [config]: gop size / mini-gop size / key-frame type \t\t\t: 2 / 16 / key frame\n",
      "Svt[info]: SVT [config]: BRC mode / rate factor \t\t\t\t\t: CRF / 30 \n",
      "Svt[info]: SVT [config]: AQ mode / variance boost \t\t\t\t\t: 2 / 0\n",
      "Svt[info]: -------------------------------------------\n",
      "Svt[info]: -------------------------------------------\n",
      "Svt[info]: SVT [version]:\tSVT-AV1 Encoder Lib v2.3.0-61-g66fb0f59\n",
      "Svt[info]: SVT [build]  :\tGCC 11.4.0\t 64 bit\n",
      "Svt[info]: LIB Build date: Nov 27 2024 13:20:34\n",
      "Svt[info]: -------------------------------------------\n",
      "Svt[info]: Level of Parallelism: 5\n",
      "Svt[info]: Number of PPCS 76\n",
      "Svt[info]: [asm level on system : up to avx2]\n",
      "Svt[info]: [asm level selected : up to avx2]\n",
      "Svt[info]: -------------------------------------------\n",
      "Svt[info]: SVT [config]: main profile\ttier (auto)\tlevel (auto)\n",
      "Svt[info]: SVT [config]: width / height / fps numerator / fps denominator \t\t: 96 / 96 / 10 / 1\n",
      "Svt[info]: SVT [config]: bit-depth / color format \t\t\t\t\t: 8 / YUV420\n",
      "Svt[info]: SVT [config]: preset / tune / pred struct \t\t\t\t\t: 10 / PSNR / random access\n",
      "Svt[info]: SVT [config]: gop size / mini-gop size / key-frame type \t\t\t: 2 / 16 / key frame\n",
      "Svt[info]: SVT [config]: BRC mode / rate factor \t\t\t\t\t: CRF / 30 \n",
      "Svt[info]: SVT [config]: AQ mode / variance boost \t\t\t\t\t: 2 / 0\n",
      "Svt[info]: -------------------------------------------\n",
      "Svt[info]: -------------------------------------------\n",
      "Svt[info]: SVT [version]:\tSVT-AV1 Encoder Lib v2.3.0-61-g66fb0f59\n",
      "Svt[info]: SVT [build]  :\tGCC 11.4.0\t 64 bit\n",
      "Svt[info]: LIB Build date: Nov 27 2024 13:20:34\n",
      "Svt[info]: -------------------------------------------\n",
      "Svt[info]: Level of Parallelism: 5\n",
      "Svt[info]: Number of PPCS 76\n",
      "Svt[info]: [asm level on system : up to avx2]\n",
      "Svt[info]: [asm level selected : up to avx2]\n",
      "Svt[info]: -------------------------------------------\n",
      "Svt[info]: SVT [config]: main profile\ttier (auto)\tlevel (auto)\n",
      "Svt[info]: SVT [config]: width / height / fps numerator / fps denominator \t\t: 96 / 96 / 10 / 1\n",
      "Svt[info]: SVT [config]: bit-depth / color format \t\t\t\t\t: 8 / YUV420\n",
      "Svt[info]: SVT [config]: preset / tune / pred struct \t\t\t\t\t: 10 / PSNR / random access\n",
      "Svt[info]: SVT [config]: gop size / mini-gop size / key-frame type \t\t\t: 2 / 16 / key frame\n",
      "Svt[info]: SVT [config]: BRC mode / rate factor \t\t\t\t\t: CRF / 30 \n",
      "Svt[info]: SVT [config]: AQ mode / variance boost \t\t\t\t\t: 2 / 0\n",
      "Svt[info]: -------------------------------------------\n",
      "Svt[info]: -------------------------------------------\n",
      "Svt[info]: SVT [version]:\tSVT-AV1 Encoder Lib v2.3.0-61-g66fb0f59\n",
      "Svt[info]: SVT [build]  :\tGCC 11.4.0\t 64 bit\n",
      "Svt[info]: LIB Build date: Nov 27 2024 13:20:34\n",
      "Svt[info]: -------------------------------------------\n",
      "Svt[info]: Level of Parallelism: 5\n",
      "Svt[info]: Number of PPCS 76\n",
      "Svt[info]: [asm level on system : up to avx2]\n",
      "Svt[info]: [asm level selected : up to avx2]\n",
      "Svt[info]: -------------------------------------------\n",
      "Svt[info]: SVT [config]: main profile\ttier (auto)\tlevel (auto)\n",
      "Svt[info]: SVT [config]: width / height / fps numerator / fps denominator \t\t: 96 / 96 / 10 / 1\n",
      "Svt[info]: SVT [config]: bit-depth / color format \t\t\t\t\t: 8 / YUV420\n",
      "Svt[info]: SVT [config]: preset / tune / pred struct \t\t\t\t\t: 10 / PSNR / random access\n",
      "Svt[info]: SVT [config]: gop size / mini-gop size / key-frame type \t\t\t: 2 / 16 / key frame\n",
      "Svt[info]: SVT [config]: BRC mode / rate factor \t\t\t\t\t: CRF / 30 \n",
      "Svt[info]: SVT [config]: AQ mode / variance boost \t\t\t\t\t: 2 / 0\n",
      "Svt[info]: -------------------------------------------\n",
      "Svt[info]: -------------------------------------------\n",
      "Svt[info]: SVT [version]:\tSVT-AV1 Encoder Lib v2.3.0-61-g66fb0f59\n",
      "Svt[info]: SVT [build]  :\tGCC 11.4.0\t 64 bit\n",
      "Svt[info]: LIB Build date: Nov 27 2024 13:20:34\n",
      "Svt[info]: -------------------------------------------\n",
      "Svt[info]: Level of Parallelism: 5\n",
      "Svt[info]: Number of PPCS 76\n",
      "Svt[info]: [asm level on system : up to avx2]\n",
      "Svt[info]: [asm level selected : up to avx2]\n",
      "Svt[info]: -------------------------------------------\n",
      "Svt[info]: SVT [config]: main profile\ttier (auto)\tlevel (auto)\n",
      "Svt[info]: SVT [config]: width / height / fps numerator / fps denominator \t\t: 96 / 96 / 10 / 1\n",
      "Svt[info]: SVT [config]: bit-depth / color format \t\t\t\t\t: 8 / YUV420\n",
      "Svt[info]: SVT [config]: preset / tune / pred struct \t\t\t\t\t: 10 / PSNR / random access\n",
      "Svt[info]: SVT [config]: gop size / mini-gop size / key-frame type \t\t\t: 2 / 16 / key frame\n",
      "Svt[info]: SVT [config]: BRC mode / rate factor \t\t\t\t\t: CRF / 30 \n",
      "Svt[info]: SVT [config]: AQ mode / variance boost \t\t\t\t\t: 2 / 0\n",
      "Svt[info]: -------------------------------------------\n",
      "Svt[info]: -------------------------------------------\n",
      "Svt[info]: SVT [version]:\tSVT-AV1 Encoder Lib v2.3.0-61-g66fb0f59\n",
      "Svt[info]: SVT [build]  :\tGCC 11.4.0\t 64 bit\n",
      "Svt[info]: LIB Build date: Nov 27 2024 13:20:34\n",
      "Svt[info]: -------------------------------------------\n",
      "Svt[info]: Level of Parallelism: 5\n",
      "Svt[info]: Number of PPCS 76\n",
      "Svt[info]: [asm level on system : up to avx2]\n",
      "Svt[info]: [asm level selected : up to avx2]\n",
      "Svt[info]: -------------------------------------------\n",
      "Svt[info]: SVT [config]: main profile\ttier (auto)\tlevel (auto)\n",
      "Svt[info]: SVT [config]: width / height / fps numerator / fps denominator \t\t: 96 / 96 / 10 / 1\n",
      "Svt[info]: SVT [config]: bit-depth / color format \t\t\t\t\t: 8 / YUV420\n",
      "Svt[info]: SVT [config]: preset / tune / pred struct \t\t\t\t\t: 10 / PSNR / random access\n",
      "Svt[info]: SVT [config]: gop size / mini-gop size / key-frame type \t\t\t: 2 / 16 / key frame\n",
      "Svt[info]: SVT [config]: BRC mode / rate factor \t\t\t\t\t: CRF / 30 \n",
      "Svt[info]: SVT [config]: AQ mode / variance boost \t\t\t\t\t: 2 / 0\n",
      "Svt[info]: -------------------------------------------\n",
      "Svt[info]: -------------------------------------------\n",
      "Svt[info]: SVT [version]:\tSVT-AV1 Encoder Lib v2.3.0-61-g66fb0f59\n",
      "Svt[info]: SVT [build]  :\tGCC 11.4.0\t 64 bit\n",
      "Svt[info]: LIB Build date: Nov 27 2024 13:20:34\n",
      "Svt[info]: -------------------------------------------\n",
      "Svt[info]: Level of Parallelism: 5\n",
      "Svt[info]: Number of PPCS 76\n",
      "Svt[info]: [asm level on system : up to avx2]\n",
      "Svt[info]: [asm level selected : up to avx2]\n",
      "Svt[info]: -------------------------------------------\n",
      "Svt[info]: SVT [config]: main profile\ttier (auto)\tlevel (auto)\n",
      "Svt[info]: SVT [config]: width / height / fps numerator / fps denominator \t\t: 96 / 96 / 10 / 1\n",
      "Svt[info]: SVT [config]: bit-depth / color format \t\t\t\t\t: 8 / YUV420\n",
      "Svt[info]: SVT [config]: preset / tune / pred struct \t\t\t\t\t: 10 / PSNR / random access\n",
      "Svt[info]: SVT [config]: gop size / mini-gop size / key-frame type \t\t\t: 2 / 16 / key frame\n",
      "Svt[info]: SVT [config]: BRC mode / rate factor \t\t\t\t\t: CRF / 30 \n",
      "Svt[info]: SVT [config]: AQ mode / variance boost \t\t\t\t\t: 2 / 0\n",
      "Svt[info]: -------------------------------------------\n",
      "Svt[info]: -------------------------------------------\n",
      "Svt[info]: SVT [version]:\tSVT-AV1 Encoder Lib v2.3.0-61-g66fb0f59\n",
      "Svt[info]: SVT [build]  :\tGCC 11.4.0\t 64 bit\n",
      "Svt[info]: LIB Build date: Nov 27 2024 13:20:34\n",
      "Svt[info]: -------------------------------------------\n",
      "Svt[info]: Level of Parallelism: 5\n",
      "Svt[info]: Number of PPCS 76\n",
      "Svt[info]: [asm level on system : up to avx2]\n",
      "Svt[info]: [asm level selected : up to avx2]\n",
      "Svt[info]: -------------------------------------------\n",
      "Svt[info]: SVT [config]: main profile\ttier (auto)\tlevel (auto)\n",
      "Svt[info]: SVT [config]: width / height / fps numerator / fps denominator \t\t: 96 / 96 / 10 / 1\n",
      "Svt[info]: SVT [config]: bit-depth / color format \t\t\t\t\t: 8 / YUV420\n",
      "Svt[info]: SVT [config]: preset / tune / pred struct \t\t\t\t\t: 10 / PSNR / random access\n",
      "Svt[info]: SVT [config]: gop size / mini-gop size / key-frame type \t\t\t: 2 / 16 / key frame\n",
      "Svt[info]: SVT [config]: BRC mode / rate factor \t\t\t\t\t: CRF / 30 \n",
      "Svt[info]: SVT [config]: AQ mode / variance boost \t\t\t\t\t: 2 / 0\n",
      "Svt[info]: -------------------------------------------\n",
      "Svt[info]: -------------------------------------------\n",
      "Svt[info]: SVT [version]:\tSVT-AV1 Encoder Lib v2.3.0-61-g66fb0f59\n",
      "Svt[info]: SVT [build]  :\tGCC 11.4.0\t 64 bit\n",
      "Svt[info]: LIB Build date: Nov 27 2024 13:20:34\n",
      "Svt[info]: -------------------------------------------\n",
      "Svt[info]: Level of Parallelism: 5\n",
      "Svt[info]: Number of PPCS 76\n",
      "Svt[info]: [asm level on system : up to avx2]\n",
      "Svt[info]: [asm level selected : up to avx2]\n",
      "Svt[info]: -------------------------------------------\n",
      "Svt[info]: SVT [config]: main profile\ttier (auto)\tlevel (auto)\n",
      "Svt[info]: SVT [config]: width / height / fps numerator / fps denominator \t\t: 96 / 96 / 10 / 1\n",
      "Svt[info]: SVT [config]: bit-depth / color format \t\t\t\t\t: 8 / YUV420\n",
      "Svt[info]: SVT [config]: preset / tune / pred struct \t\t\t\t\t: 10 / PSNR / random access\n",
      "Svt[info]: SVT [config]: gop size / mini-gop size / key-frame type \t\t\t: 2 / 16 / key frame\n",
      "Svt[info]: SVT [config]: BRC mode / rate factor \t\t\t\t\t: CRF / 30 \n",
      "Svt[info]: SVT [config]: AQ mode / variance boost \t\t\t\t\t: 2 / 0\n",
      "Svt[info]: -------------------------------------------\n",
      "Svt[info]: -------------------------------------------\n",
      "Svt[info]: SVT [version]:\tSVT-AV1 Encoder Lib v2.3.0-61-g66fb0f59\n",
      "Svt[info]: SVT [build]  :\tGCC 11.4.0\t 64 bit\n",
      "Svt[info]: LIB Build date: Nov 27 2024 13:20:34\n",
      "Svt[info]: -------------------------------------------\n",
      "Svt[info]: Level of Parallelism: 5\n",
      "Svt[info]: Number of PPCS 76\n",
      "Svt[info]: [asm level on system : up to avx2]\n",
      "Svt[info]: [asm level selected : up to avx2]\n",
      "Svt[info]: -------------------------------------------\n",
      "Svt[info]: SVT [config]: main profile\ttier (auto)\tlevel (auto)\n",
      "Svt[info]: SVT [config]: width / height / fps numerator / fps denominator \t\t: 96 / 96 / 10 / 1\n",
      "Svt[info]: SVT [config]: bit-depth / color format \t\t\t\t\t: 8 / YUV420\n",
      "Svt[info]: SVT [config]: preset / tune / pred struct \t\t\t\t\t: 10 / PSNR / random access\n",
      "Svt[info]: SVT [config]: gop size / mini-gop size / key-frame type \t\t\t: 2 / 16 / key frame\n",
      "Svt[info]: SVT [config]: BRC mode / rate factor \t\t\t\t\t: CRF / 30 \n",
      "Svt[info]: SVT [config]: AQ mode / variance boost \t\t\t\t\t: 2 / 0\n",
      "Svt[info]: -------------------------------------------\n",
      "Svt[info]: -------------------------------------------\n",
      "Svt[info]: SVT [version]:\tSVT-AV1 Encoder Lib v2.3.0-61-g66fb0f59\n",
      "Svt[info]: SVT [build]  :\tGCC 11.4.0\t 64 bit\n",
      "Svt[info]: LIB Build date: Nov 27 2024 13:20:34\n",
      "Svt[info]: -------------------------------------------\n",
      "Svt[info]: Level of Parallelism: 5\n",
      "Svt[info]: Number of PPCS 76\n",
      "Svt[info]: [asm level on system : up to avx2]\n",
      "Svt[info]: [asm level selected : up to avx2]\n",
      "Svt[info]: -------------------------------------------\n",
      "Svt[info]: SVT [config]: main profile\ttier (auto)\tlevel (auto)\n",
      "Svt[info]: SVT [config]: width / height / fps numerator / fps denominator \t\t: 96 / 96 / 10 / 1\n",
      "Svt[info]: SVT [config]: bit-depth / color format \t\t\t\t\t: 8 / YUV420\n",
      "Svt[info]: SVT [config]: preset / tune / pred struct \t\t\t\t\t: 10 / PSNR / random access\n",
      "Svt[info]: SVT [config]: gop size / mini-gop size / key-frame type \t\t\t: 2 / 16 / key frame\n",
      "Svt[info]: SVT [config]: BRC mode / rate factor \t\t\t\t\t: CRF / 30 \n",
      "Svt[info]: SVT [config]: AQ mode / variance boost \t\t\t\t\t: 2 / 0\n",
      "Svt[info]: -------------------------------------------\n",
      "Svt[info]: -------------------------------------------\n",
      "Svt[info]: SVT [version]:\tSVT-AV1 Encoder Lib v2.3.0-61-g66fb0f59\n",
      "Svt[info]: SVT [build]  :\tGCC 11.4.0\t 64 bit\n",
      "Svt[info]: LIB Build date: Nov 27 2024 13:20:34\n",
      "Svt[info]: -------------------------------------------\n",
      "Svt[info]: Level of Parallelism: 5\n",
      "Svt[info]: Number of PPCS 76\n",
      "Svt[info]: [asm level on system : up to avx2]\n",
      "Svt[info]: [asm level selected : up to avx2]\n",
      "Svt[info]: -------------------------------------------\n",
      "Svt[info]: SVT [config]: main profile\ttier (auto)\tlevel (auto)\n",
      "Svt[info]: SVT [config]: width / height / fps numerator / fps denominator \t\t: 96 / 96 / 10 / 1\n",
      "Svt[info]: SVT [config]: bit-depth / color format \t\t\t\t\t: 8 / YUV420\n",
      "Svt[info]: SVT [config]: preset / tune / pred struct \t\t\t\t\t: 10 / PSNR / random access\n",
      "Svt[info]: SVT [config]: gop size / mini-gop size / key-frame type \t\t\t: 2 / 16 / key frame\n",
      "Svt[info]: SVT [config]: BRC mode / rate factor \t\t\t\t\t: CRF / 30 \n",
      "Svt[info]: SVT [config]: AQ mode / variance boost \t\t\t\t\t: 2 / 0\n",
      "Svt[info]: -------------------------------------------\n",
      "Svt[info]: -------------------------------------------\n",
      "Svt[info]: SVT [version]:\tSVT-AV1 Encoder Lib v2.3.0-61-g66fb0f59\n",
      "Svt[info]: SVT [build]  :\tGCC 11.4.0\t 64 bit\n",
      "Svt[info]: LIB Build date: Nov 27 2024 13:20:34\n",
      "Svt[info]: -------------------------------------------\n",
      "Svt[info]: Level of Parallelism: 5\n",
      "Svt[info]: Number of PPCS 76\n",
      "Svt[info]: [asm level on system : up to avx2]\n",
      "Svt[info]: [asm level selected : up to avx2]\n",
      "Svt[info]: -------------------------------------------\n",
      "Svt[info]: SVT [config]: main profile\ttier (auto)\tlevel (auto)\n",
      "Svt[info]: SVT [config]: width / height / fps numerator / fps denominator \t\t: 96 / 96 / 10 / 1\n",
      "Svt[info]: SVT [config]: bit-depth / color format \t\t\t\t\t: 8 / YUV420\n",
      "Svt[info]: SVT [config]: preset / tune / pred struct \t\t\t\t\t: 10 / PSNR / random access\n",
      "Svt[info]: SVT [config]: gop size / mini-gop size / key-frame type \t\t\t: 2 / 16 / key frame\n",
      "Svt[info]: SVT [config]: BRC mode / rate factor \t\t\t\t\t: CRF / 30 \n",
      "Svt[info]: SVT [config]: AQ mode / variance boost \t\t\t\t\t: 2 / 0\n",
      "Svt[info]: -------------------------------------------\n",
      "Svt[info]: -------------------------------------------\n",
      "Svt[info]: SVT [version]:\tSVT-AV1 Encoder Lib v2.3.0-61-g66fb0f59\n",
      "Svt[info]: SVT [build]  :\tGCC 11.4.0\t 64 bit\n",
      "Svt[info]: LIB Build date: Nov 27 2024 13:20:34\n",
      "Svt[info]: -------------------------------------------\n",
      "Svt[info]: Level of Parallelism: 5\n",
      "Svt[info]: Number of PPCS 76\n",
      "Svt[info]: [asm level on system : up to avx2]\n",
      "Svt[info]: [asm level selected : up to avx2]\n",
      "Svt[info]: -------------------------------------------\n",
      "Svt[info]: SVT [config]: main profile\ttier (auto)\tlevel (auto)\n",
      "Svt[info]: SVT [config]: width / height / fps numerator / fps denominator \t\t: 96 / 96 / 10 / 1\n",
      "Svt[info]: SVT [config]: bit-depth / color format \t\t\t\t\t: 8 / YUV420\n",
      "Svt[info]: SVT [config]: preset / tune / pred struct \t\t\t\t\t: 10 / PSNR / random access\n",
      "Svt[info]: SVT [config]: gop size / mini-gop size / key-frame type \t\t\t: 2 / 16 / key frame\n",
      "Svt[info]: SVT [config]: BRC mode / rate factor \t\t\t\t\t: CRF / 30 \n",
      "Svt[info]: SVT [config]: AQ mode / variance boost \t\t\t\t\t: 2 / 0\n",
      "Svt[info]: -------------------------------------------\n",
      "Svt[info]: -------------------------------------------\n",
      "Svt[info]: SVT [version]:\tSVT-AV1 Encoder Lib v2.3.0-61-g66fb0f59\n",
      "Svt[info]: SVT [build]  :\tGCC 11.4.0\t 64 bit\n",
      "Svt[info]: LIB Build date: Nov 27 2024 13:20:34\n",
      "Svt[info]: -------------------------------------------\n",
      "Svt[info]: Level of Parallelism: 5\n",
      "Svt[info]: Number of PPCS 76\n",
      "Svt[info]: [asm level on system : up to avx2]\n",
      "Svt[info]: [asm level selected : up to avx2]\n",
      "Svt[info]: -------------------------------------------\n",
      "Svt[info]: SVT [config]: main profile\ttier (auto)\tlevel (auto)\n",
      "Svt[info]: SVT [config]: width / height / fps numerator / fps denominator \t\t: 96 / 96 / 10 / 1\n",
      "Svt[info]: SVT [config]: bit-depth / color format \t\t\t\t\t: 8 / YUV420\n",
      "Svt[info]: SVT [config]: preset / tune / pred struct \t\t\t\t\t: 10 / PSNR / random access\n",
      "Svt[info]: SVT [config]: gop size / mini-gop size / key-frame type \t\t\t: 2 / 16 / key frame\n",
      "Svt[info]: SVT [config]: BRC mode / rate factor \t\t\t\t\t: CRF / 30 \n",
      "Svt[info]: SVT [config]: AQ mode / variance boost \t\t\t\t\t: 2 / 0\n",
      "Svt[info]: -------------------------------------------\n",
      "Svt[info]: -------------------------------------------\n",
      "Svt[info]: SVT [version]:\tSVT-AV1 Encoder Lib v2.3.0-61-g66fb0f59\n",
      "Svt[info]: SVT [build]  :\tGCC 11.4.0\t 64 bit\n",
      "Svt[info]: LIB Build date: Nov 27 2024 13:20:34\n",
      "Svt[info]: -------------------------------------------\n",
      "Svt[info]: Level of Parallelism: 5\n",
      "Svt[info]: Number of PPCS 76\n",
      "Svt[info]: [asm level on system : up to avx2]\n",
      "Svt[info]: [asm level selected : up to avx2]\n",
      "Svt[info]: -------------------------------------------\n",
      "Svt[info]: SVT [config]: main profile\ttier (auto)\tlevel (auto)\n",
      "Svt[info]: SVT [config]: width / height / fps numerator / fps denominator \t\t: 96 / 96 / 10 / 1\n",
      "Svt[info]: SVT [config]: bit-depth / color format \t\t\t\t\t: 8 / YUV420\n",
      "Svt[info]: SVT [config]: preset / tune / pred struct \t\t\t\t\t: 10 / PSNR / random access\n",
      "Svt[info]: SVT [config]: gop size / mini-gop size / key-frame type \t\t\t: 2 / 16 / key frame\n",
      "Svt[info]: SVT [config]: BRC mode / rate factor \t\t\t\t\t: CRF / 30 \n",
      "Svt[info]: SVT [config]: AQ mode / variance boost \t\t\t\t\t: 2 / 0\n",
      "Svt[info]: -------------------------------------------\n",
      "Svt[info]: -------------------------------------------\n",
      "Svt[info]: SVT [version]:\tSVT-AV1 Encoder Lib v2.3.0-61-g66fb0f59\n",
      "Svt[info]: SVT [build]  :\tGCC 11.4.0\t 64 bit\n",
      "Svt[info]: LIB Build date: Nov 27 2024 13:20:34\n",
      "Svt[info]: -------------------------------------------\n",
      "Svt[info]: Level of Parallelism: 5\n",
      "Svt[info]: Number of PPCS 76\n",
      "Svt[info]: [asm level on system : up to avx2]\n",
      "Svt[info]: [asm level selected : up to avx2]\n",
      "Svt[info]: -------------------------------------------\n",
      "Svt[info]: SVT [config]: main profile\ttier (auto)\tlevel (auto)\n",
      "Svt[info]: SVT [config]: width / height / fps numerator / fps denominator \t\t: 96 / 96 / 10 / 1\n",
      "Svt[info]: SVT [config]: bit-depth / color format \t\t\t\t\t: 8 / YUV420\n",
      "Svt[info]: SVT [config]: preset / tune / pred struct \t\t\t\t\t: 10 / PSNR / random access\n",
      "Svt[info]: SVT [config]: gop size / mini-gop size / key-frame type \t\t\t: 2 / 16 / key frame\n",
      "Svt[info]: SVT [config]: BRC mode / rate factor \t\t\t\t\t: CRF / 30 \n",
      "Svt[info]: SVT [config]: AQ mode / variance boost \t\t\t\t\t: 2 / 0\n",
      "Svt[info]: -------------------------------------------\n",
      "Svt[info]: -------------------------------------------\n",
      "Svt[info]: SVT [version]:\tSVT-AV1 Encoder Lib v2.3.0-61-g66fb0f59\n",
      "Svt[info]: SVT [build]  :\tGCC 11.4.0\t 64 bit\n",
      "Svt[info]: LIB Build date: Nov 27 2024 13:20:34\n",
      "Svt[info]: -------------------------------------------\n",
      "Svt[info]: Level of Parallelism: 5\n",
      "Svt[info]: Number of PPCS 76\n",
      "Svt[info]: [asm level on system : up to avx2]\n",
      "Svt[info]: [asm level selected : up to avx2]\n",
      "Svt[info]: -------------------------------------------\n",
      "Svt[info]: SVT [config]: main profile\ttier (auto)\tlevel (auto)\n",
      "Svt[info]: SVT [config]: width / height / fps numerator / fps denominator \t\t: 96 / 96 / 10 / 1\n",
      "Svt[info]: SVT [config]: bit-depth / color format \t\t\t\t\t: 8 / YUV420\n",
      "Svt[info]: SVT [config]: preset / tune / pred struct \t\t\t\t\t: 10 / PSNR / random access\n",
      "Svt[info]: SVT [config]: gop size / mini-gop size / key-frame type \t\t\t: 2 / 16 / key frame\n",
      "Svt[info]: SVT [config]: BRC mode / rate factor \t\t\t\t\t: CRF / 30 \n",
      "Svt[info]: SVT [config]: AQ mode / variance boost \t\t\t\t\t: 2 / 0\n",
      "Svt[info]: -------------------------------------------\n",
      "Svt[info]: -------------------------------------------\n",
      "Svt[info]: SVT [version]:\tSVT-AV1 Encoder Lib v2.3.0-61-g66fb0f59\n",
      "Svt[info]: SVT [build]  :\tGCC 11.4.0\t 64 bit\n",
      "Svt[info]: LIB Build date: Nov 27 2024 13:20:34\n",
      "Svt[info]: -------------------------------------------\n",
      "Svt[info]: Level of Parallelism: 5\n",
      "Svt[info]: Number of PPCS 76\n",
      "Svt[info]: [asm level on system : up to avx2]\n",
      "Svt[info]: [asm level selected : up to avx2]\n",
      "Svt[info]: -------------------------------------------\n",
      "Svt[info]: SVT [config]: main profile\ttier (auto)\tlevel (auto)\n",
      "Svt[info]: SVT [config]: width / height / fps numerator / fps denominator \t\t: 96 / 96 / 10 / 1\n",
      "Svt[info]: SVT [config]: bit-depth / color format \t\t\t\t\t: 8 / YUV420\n",
      "Svt[info]: SVT [config]: preset / tune / pred struct \t\t\t\t\t: 10 / PSNR / random access\n",
      "Svt[info]: SVT [config]: gop size / mini-gop size / key-frame type \t\t\t: 2 / 16 / key frame\n",
      "Svt[info]: SVT [config]: BRC mode / rate factor \t\t\t\t\t: CRF / 30 \n",
      "Svt[info]: SVT [config]: AQ mode / variance boost \t\t\t\t\t: 2 / 0\n",
      "Svt[info]: -------------------------------------------\n",
      "Svt[info]: -------------------------------------------\n",
      "Svt[info]: SVT [version]:\tSVT-AV1 Encoder Lib v2.3.0-61-g66fb0f59\n",
      "Svt[info]: SVT [build]  :\tGCC 11.4.0\t 64 bit\n",
      "Svt[info]: LIB Build date: Nov 27 2024 13:20:34\n",
      "Svt[info]: -------------------------------------------\n",
      "Svt[info]: Level of Parallelism: 5\n",
      "Svt[info]: Number of PPCS 76\n",
      "Svt[info]: [asm level on system : up to avx2]\n",
      "Svt[info]: [asm level selected : up to avx2]\n",
      "Svt[info]: -------------------------------------------\n",
      "Svt[info]: SVT [config]: main profile\ttier (auto)\tlevel (auto)\n",
      "Svt[info]: SVT [config]: width / height / fps numerator / fps denominator \t\t: 96 / 96 / 10 / 1\n",
      "Svt[info]: SVT [config]: bit-depth / color format \t\t\t\t\t: 8 / YUV420\n",
      "Svt[info]: SVT [config]: preset / tune / pred struct \t\t\t\t\t: 10 / PSNR / random access\n",
      "Svt[info]: SVT [config]: gop size / mini-gop size / key-frame type \t\t\t: 2 / 16 / key frame\n",
      "Svt[info]: SVT [config]: BRC mode / rate factor \t\t\t\t\t: CRF / 30 \n",
      "Svt[info]: SVT [config]: AQ mode / variance boost \t\t\t\t\t: 2 / 0\n",
      "Svt[info]: -------------------------------------------\n",
      "Svt[info]: -------------------------------------------\n",
      "Svt[info]: SVT [version]:\tSVT-AV1 Encoder Lib v2.3.0-61-g66fb0f59\n",
      "Svt[info]: SVT [build]  :\tGCC 11.4.0\t 64 bit\n",
      "Svt[info]: LIB Build date: Nov 27 2024 13:20:34\n",
      "Svt[info]: -------------------------------------------\n",
      "Svt[info]: Level of Parallelism: 5\n",
      "Svt[info]: Number of PPCS 76\n",
      "Svt[info]: [asm level on system : up to avx2]\n",
      "Svt[info]: [asm level selected : up to avx2]\n",
      "Svt[info]: -------------------------------------------\n",
      "Svt[info]: SVT [config]: main profile\ttier (auto)\tlevel (auto)\n",
      "Svt[info]: SVT [config]: width / height / fps numerator / fps denominator \t\t: 96 / 96 / 10 / 1\n",
      "Svt[info]: SVT [config]: bit-depth / color format \t\t\t\t\t: 8 / YUV420\n",
      "Svt[info]: SVT [config]: preset / tune / pred struct \t\t\t\t\t: 10 / PSNR / random access\n",
      "Svt[info]: SVT [config]: gop size / mini-gop size / key-frame type \t\t\t: 2 / 16 / key frame\n",
      "Svt[info]: SVT [config]: BRC mode / rate factor \t\t\t\t\t: CRF / 30 \n",
      "Svt[info]: SVT [config]: AQ mode / variance boost \t\t\t\t\t: 2 / 0\n",
      "Svt[info]: -------------------------------------------\n",
      "Svt[info]: -------------------------------------------\n",
      "Svt[info]: SVT [version]:\tSVT-AV1 Encoder Lib v2.3.0-61-g66fb0f59\n",
      "Svt[info]: SVT [build]  :\tGCC 11.4.0\t 64 bit\n",
      "Svt[info]: LIB Build date: Nov 27 2024 13:20:34\n",
      "Svt[info]: -------------------------------------------\n",
      "Svt[info]: Level of Parallelism: 5\n",
      "Svt[info]: Number of PPCS 76\n",
      "Svt[info]: [asm level on system : up to avx2]\n",
      "Svt[info]: [asm level selected : up to avx2]\n",
      "Svt[info]: -------------------------------------------\n",
      "Svt[info]: SVT [config]: main profile\ttier (auto)\tlevel (auto)\n",
      "Svt[info]: SVT [config]: width / height / fps numerator / fps denominator \t\t: 96 / 96 / 10 / 1\n",
      "Svt[info]: SVT [config]: bit-depth / color format \t\t\t\t\t: 8 / YUV420\n",
      "Svt[info]: SVT [config]: preset / tune / pred struct \t\t\t\t\t: 10 / PSNR / random access\n",
      "Svt[info]: SVT [config]: gop size / mini-gop size / key-frame type \t\t\t: 2 / 16 / key frame\n",
      "Svt[info]: SVT [config]: BRC mode / rate factor \t\t\t\t\t: CRF / 30 \n",
      "Svt[info]: SVT [config]: AQ mode / variance boost \t\t\t\t\t: 2 / 0\n",
      "Svt[info]: -------------------------------------------\n",
      "Svt[info]: -------------------------------------------\n",
      "Svt[info]: SVT [version]:\tSVT-AV1 Encoder Lib v2.3.0-61-g66fb0f59\n",
      "Svt[info]: SVT [build]  :\tGCC 11.4.0\t 64 bit\n",
      "Svt[info]: LIB Build date: Nov 27 2024 13:20:34\n",
      "Svt[info]: -------------------------------------------\n",
      "Svt[info]: Level of Parallelism: 5\n",
      "Svt[info]: Number of PPCS 76\n",
      "Svt[info]: [asm level on system : up to avx2]\n",
      "Svt[info]: [asm level selected : up to avx2]\n",
      "Svt[info]: -------------------------------------------\n",
      "Svt[info]: SVT [config]: main profile\ttier (auto)\tlevel (auto)\n",
      "Svt[info]: SVT [config]: width / height / fps numerator / fps denominator \t\t: 96 / 96 / 10 / 1\n",
      "Svt[info]: SVT [config]: bit-depth / color format \t\t\t\t\t: 8 / YUV420\n",
      "Svt[info]: SVT [config]: preset / tune / pred struct \t\t\t\t\t: 10 / PSNR / random access\n",
      "Svt[info]: SVT [config]: gop size / mini-gop size / key-frame type \t\t\t: 2 / 16 / key frame\n",
      "Svt[info]: SVT [config]: BRC mode / rate factor \t\t\t\t\t: CRF / 30 \n",
      "Svt[info]: SVT [config]: AQ mode / variance boost \t\t\t\t\t: 2 / 0\n",
      "Svt[info]: -------------------------------------------\n",
      "Svt[info]: -------------------------------------------\n",
      "Svt[info]: SVT [version]:\tSVT-AV1 Encoder Lib v2.3.0-61-g66fb0f59\n",
      "Svt[info]: SVT [build]  :\tGCC 11.4.0\t 64 bit\n",
      "Svt[info]: LIB Build date: Nov 27 2024 13:20:34\n",
      "Svt[info]: -------------------------------------------\n",
      "Svt[info]: Level of Parallelism: 5\n",
      "Svt[info]: Number of PPCS 76\n",
      "Svt[info]: [asm level on system : up to avx2]\n",
      "Svt[info]: [asm level selected : up to avx2]\n",
      "Svt[info]: -------------------------------------------\n",
      "Svt[info]: SVT [config]: main profile\ttier (auto)\tlevel (auto)\n",
      "Svt[info]: SVT [config]: width / height / fps numerator / fps denominator \t\t: 96 / 96 / 10 / 1\n",
      "Svt[info]: SVT [config]: bit-depth / color format \t\t\t\t\t: 8 / YUV420\n",
      "Svt[info]: SVT [config]: preset / tune / pred struct \t\t\t\t\t: 10 / PSNR / random access\n",
      "Svt[info]: SVT [config]: gop size / mini-gop size / key-frame type \t\t\t: 2 / 16 / key frame\n",
      "Svt[info]: SVT [config]: BRC mode / rate factor \t\t\t\t\t: CRF / 30 \n",
      "Svt[info]: SVT [config]: AQ mode / variance boost \t\t\t\t\t: 2 / 0\n",
      "Svt[info]: -------------------------------------------\n",
      "Svt[info]: -------------------------------------------\n",
      "Svt[info]: SVT [version]:\tSVT-AV1 Encoder Lib v2.3.0-61-g66fb0f59\n",
      "Svt[info]: SVT [build]  :\tGCC 11.4.0\t 64 bit\n",
      "Svt[info]: LIB Build date: Nov 27 2024 13:20:34\n",
      "Svt[info]: -------------------------------------------\n",
      "Svt[info]: Level of Parallelism: 5\n",
      "Svt[info]: Number of PPCS 76\n",
      "Svt[info]: [asm level on system : up to avx2]\n",
      "Svt[info]: [asm level selected : up to avx2]\n",
      "Svt[info]: -------------------------------------------\n",
      "Svt[info]: SVT [config]: main profile\ttier (auto)\tlevel (auto)\n",
      "Svt[info]: SVT [config]: width / height / fps numerator / fps denominator \t\t: 96 / 96 / 10 / 1\n",
      "Svt[info]: SVT [config]: bit-depth / color format \t\t\t\t\t: 8 / YUV420\n",
      "Svt[info]: SVT [config]: preset / tune / pred struct \t\t\t\t\t: 10 / PSNR / random access\n",
      "Svt[info]: SVT [config]: gop size / mini-gop size / key-frame type \t\t\t: 2 / 16 / key frame\n",
      "Svt[info]: SVT [config]: BRC mode / rate factor \t\t\t\t\t: CRF / 30 \n",
      "Svt[info]: SVT [config]: AQ mode / variance boost \t\t\t\t\t: 2 / 0\n",
      "Svt[info]: -------------------------------------------\n",
      "Svt[info]: -------------------------------------------\n",
      "Svt[info]: SVT [version]:\tSVT-AV1 Encoder Lib v2.3.0-61-g66fb0f59\n",
      "Svt[info]: SVT [build]  :\tGCC 11.4.0\t 64 bit\n",
      "Svt[info]: LIB Build date: Nov 27 2024 13:20:34\n",
      "Svt[info]: -------------------------------------------\n",
      "Svt[info]: Level of Parallelism: 5\n",
      "Svt[info]: Number of PPCS 76\n",
      "Svt[info]: [asm level on system : up to avx2]\n",
      "Svt[info]: [asm level selected : up to avx2]\n",
      "Svt[info]: -------------------------------------------\n",
      "Svt[info]: SVT [config]: main profile\ttier (auto)\tlevel (auto)\n",
      "Svt[info]: SVT [config]: width / height / fps numerator / fps denominator \t\t: 96 / 96 / 10 / 1\n",
      "Svt[info]: SVT [config]: bit-depth / color format \t\t\t\t\t: 8 / YUV420\n",
      "Svt[info]: SVT [config]: preset / tune / pred struct \t\t\t\t\t: 10 / PSNR / random access\n",
      "Svt[info]: SVT [config]: gop size / mini-gop size / key-frame type \t\t\t: 2 / 16 / key frame\n",
      "Svt[info]: SVT [config]: BRC mode / rate factor \t\t\t\t\t: CRF / 30 \n",
      "Svt[info]: SVT [config]: AQ mode / variance boost \t\t\t\t\t: 2 / 0\n",
      "Svt[info]: -------------------------------------------\n",
      "Svt[info]: -------------------------------------------\n",
      "Svt[info]: SVT [version]:\tSVT-AV1 Encoder Lib v2.3.0-61-g66fb0f59\n",
      "Svt[info]: SVT [build]  :\tGCC 11.4.0\t 64 bit\n",
      "Svt[info]: LIB Build date: Nov 27 2024 13:20:34\n",
      "Svt[info]: -------------------------------------------\n",
      "Svt[info]: Level of Parallelism: 5\n",
      "Svt[info]: Number of PPCS 76\n",
      "Svt[info]: [asm level on system : up to avx2]\n",
      "Svt[info]: [asm level selected : up to avx2]\n",
      "Svt[info]: -------------------------------------------\n",
      "Svt[info]: SVT [config]: main profile\ttier (auto)\tlevel (auto)\n",
      "Svt[info]: SVT [config]: width / height / fps numerator / fps denominator \t\t: 96 / 96 / 10 / 1\n",
      "Svt[info]: SVT [config]: bit-depth / color format \t\t\t\t\t: 8 / YUV420\n",
      "Svt[info]: SVT [config]: preset / tune / pred struct \t\t\t\t\t: 10 / PSNR / random access\n",
      "Svt[info]: SVT [config]: gop size / mini-gop size / key-frame type \t\t\t: 2 / 16 / key frame\n",
      "Svt[info]: SVT [config]: BRC mode / rate factor \t\t\t\t\t: CRF / 30 \n",
      "Svt[info]: SVT [config]: AQ mode / variance boost \t\t\t\t\t: 2 / 0\n",
      "Svt[info]: -------------------------------------------\n",
      "Svt[info]: -------------------------------------------\n",
      "Svt[info]: SVT [version]:\tSVT-AV1 Encoder Lib v2.3.0-61-g66fb0f59\n",
      "Svt[info]: SVT [build]  :\tGCC 11.4.0\t 64 bit\n",
      "Svt[info]: LIB Build date: Nov 27 2024 13:20:34\n",
      "Svt[info]: -------------------------------------------\n",
      "Svt[info]: Level of Parallelism: 5\n",
      "Svt[info]: Number of PPCS 76\n",
      "Svt[info]: [asm level on system : up to avx2]\n",
      "Svt[info]: [asm level selected : up to avx2]\n",
      "Svt[info]: -------------------------------------------\n",
      "Svt[info]: SVT [config]: main profile\ttier (auto)\tlevel (auto)\n",
      "Svt[info]: SVT [config]: width / height / fps numerator / fps denominator \t\t: 96 / 96 / 10 / 1\n",
      "Svt[info]: SVT [config]: bit-depth / color format \t\t\t\t\t: 8 / YUV420\n",
      "Svt[info]: SVT [config]: preset / tune / pred struct \t\t\t\t\t: 10 / PSNR / random access\n",
      "Svt[info]: SVT [config]: gop size / mini-gop size / key-frame type \t\t\t: 2 / 16 / key frame\n",
      "Svt[info]: SVT [config]: BRC mode / rate factor \t\t\t\t\t: CRF / 30 \n",
      "Svt[info]: SVT [config]: AQ mode / variance boost \t\t\t\t\t: 2 / 0\n",
      "Svt[info]: -------------------------------------------\n",
      "Svt[info]: -------------------------------------------\n",
      "Svt[info]: SVT [version]:\tSVT-AV1 Encoder Lib v2.3.0-61-g66fb0f59\n",
      "Svt[info]: SVT [build]  :\tGCC 11.4.0\t 64 bit\n",
      "Svt[info]: LIB Build date: Nov 27 2024 13:20:34\n",
      "Svt[info]: -------------------------------------------\n",
      "Svt[info]: Level of Parallelism: 5\n",
      "Svt[info]: Number of PPCS 76\n",
      "Svt[info]: [asm level on system : up to avx2]\n",
      "Svt[info]: [asm level selected : up to avx2]\n",
      "Svt[info]: -------------------------------------------\n",
      "Svt[info]: SVT [config]: main profile\ttier (auto)\tlevel (auto)\n",
      "Svt[info]: SVT [config]: width / height / fps numerator / fps denominator \t\t: 96 / 96 / 10 / 1\n",
      "Svt[info]: SVT [config]: bit-depth / color format \t\t\t\t\t: 8 / YUV420\n",
      "Svt[info]: SVT [config]: preset / tune / pred struct \t\t\t\t\t: 10 / PSNR / random access\n",
      "Svt[info]: SVT [config]: gop size / mini-gop size / key-frame type \t\t\t: 2 / 16 / key frame\n",
      "Svt[info]: SVT [config]: BRC mode / rate factor \t\t\t\t\t: CRF / 30 \n",
      "Svt[info]: SVT [config]: AQ mode / variance boost \t\t\t\t\t: 2 / 0\n",
      "Svt[info]: -------------------------------------------\n",
      "Svt[info]: -------------------------------------------\n",
      "Svt[info]: SVT [version]:\tSVT-AV1 Encoder Lib v2.3.0-61-g66fb0f59\n",
      "Svt[info]: SVT [build]  :\tGCC 11.4.0\t 64 bit\n",
      "Svt[info]: LIB Build date: Nov 27 2024 13:20:34\n",
      "Svt[info]: -------------------------------------------\n",
      "Svt[info]: Level of Parallelism: 5\n",
      "Svt[info]: Number of PPCS 76\n",
      "Svt[info]: [asm level on system : up to avx2]\n",
      "Svt[info]: [asm level selected : up to avx2]\n",
      "Svt[info]: -------------------------------------------\n",
      "Svt[info]: SVT [config]: main profile\ttier (auto)\tlevel (auto)\n",
      "Svt[info]: SVT [config]: width / height / fps numerator / fps denominator \t\t: 96 / 96 / 10 / 1\n",
      "Svt[info]: SVT [config]: bit-depth / color format \t\t\t\t\t: 8 / YUV420\n",
      "Svt[info]: SVT [config]: preset / tune / pred struct \t\t\t\t\t: 10 / PSNR / random access\n",
      "Svt[info]: SVT [config]: gop size / mini-gop size / key-frame type \t\t\t: 2 / 16 / key frame\n",
      "Svt[info]: SVT [config]: BRC mode / rate factor \t\t\t\t\t: CRF / 30 \n",
      "Svt[info]: SVT [config]: AQ mode / variance boost \t\t\t\t\t: 2 / 0\n",
      "Svt[info]: -------------------------------------------\n",
      "Svt[info]: -------------------------------------------\n",
      "Svt[info]: SVT [version]:\tSVT-AV1 Encoder Lib v2.3.0-61-g66fb0f59\n",
      "Svt[info]: SVT [build]  :\tGCC 11.4.0\t 64 bit\n",
      "Svt[info]: LIB Build date: Nov 27 2024 13:20:34\n",
      "Svt[info]: -------------------------------------------\n",
      "Svt[info]: Level of Parallelism: 5\n",
      "Svt[info]: Number of PPCS 76\n",
      "Svt[info]: [asm level on system : up to avx2]\n",
      "Svt[info]: [asm level selected : up to avx2]\n",
      "Svt[info]: -------------------------------------------\n",
      "Svt[info]: SVT [config]: main profile\ttier (auto)\tlevel (auto)\n",
      "Svt[info]: SVT [config]: width / height / fps numerator / fps denominator \t\t: 96 / 96 / 10 / 1\n",
      "Svt[info]: SVT [config]: bit-depth / color format \t\t\t\t\t: 8 / YUV420\n",
      "Svt[info]: SVT [config]: preset / tune / pred struct \t\t\t\t\t: 10 / PSNR / random access\n",
      "Svt[info]: SVT [config]: gop size / mini-gop size / key-frame type \t\t\t: 2 / 16 / key frame\n",
      "Svt[info]: SVT [config]: BRC mode / rate factor \t\t\t\t\t: CRF / 30 \n",
      "Svt[info]: SVT [config]: AQ mode / variance boost \t\t\t\t\t: 2 / 0\n",
      "Svt[info]: -------------------------------------------\n",
      "Svt[info]: -------------------------------------------\n",
      "Svt[info]: SVT [version]:\tSVT-AV1 Encoder Lib v2.3.0-61-g66fb0f59\n",
      "Svt[info]: SVT [build]  :\tGCC 11.4.0\t 64 bit\n",
      "Svt[info]: LIB Build date: Nov 27 2024 13:20:34\n",
      "Svt[info]: -------------------------------------------\n",
      "Svt[info]: Level of Parallelism: 5\n",
      "Svt[info]: Number of PPCS 76\n",
      "Svt[info]: [asm level on system : up to avx2]\n",
      "Svt[info]: [asm level selected : up to avx2]\n",
      "Svt[info]: -------------------------------------------\n",
      "Svt[info]: SVT [config]: main profile\ttier (auto)\tlevel (auto)\n",
      "Svt[info]: SVT [config]: width / height / fps numerator / fps denominator \t\t: 96 / 96 / 10 / 1\n",
      "Svt[info]: SVT [config]: bit-depth / color format \t\t\t\t\t: 8 / YUV420\n",
      "Svt[info]: SVT [config]: preset / tune / pred struct \t\t\t\t\t: 10 / PSNR / random access\n",
      "Svt[info]: SVT [config]: gop size / mini-gop size / key-frame type \t\t\t: 2 / 16 / key frame\n",
      "Svt[info]: SVT [config]: BRC mode / rate factor \t\t\t\t\t: CRF / 30 \n",
      "Svt[info]: SVT [config]: AQ mode / variance boost \t\t\t\t\t: 2 / 0\n",
      "Svt[info]: -------------------------------------------\n",
      "Svt[info]: -------------------------------------------\n",
      "Svt[info]: SVT [version]:\tSVT-AV1 Encoder Lib v2.3.0-61-g66fb0f59\n",
      "Svt[info]: SVT [build]  :\tGCC 11.4.0\t 64 bit\n",
      "Svt[info]: LIB Build date: Nov 27 2024 13:20:34\n",
      "Svt[info]: -------------------------------------------\n",
      "Svt[info]: Level of Parallelism: 5\n",
      "Svt[info]: Number of PPCS 76\n",
      "Svt[info]: [asm level on system : up to avx2]\n",
      "Svt[info]: [asm level selected : up to avx2]\n",
      "Svt[info]: -------------------------------------------\n",
      "Svt[info]: SVT [config]: main profile\ttier (auto)\tlevel (auto)\n",
      "Svt[info]: SVT [config]: width / height / fps numerator / fps denominator \t\t: 96 / 96 / 10 / 1\n",
      "Svt[info]: SVT [config]: bit-depth / color format \t\t\t\t\t: 8 / YUV420\n",
      "Svt[info]: SVT [config]: preset / tune / pred struct \t\t\t\t\t: 10 / PSNR / random access\n",
      "Svt[info]: SVT [config]: gop size / mini-gop size / key-frame type \t\t\t: 2 / 16 / key frame\n",
      "Svt[info]: SVT [config]: BRC mode / rate factor \t\t\t\t\t: CRF / 30 \n",
      "Svt[info]: SVT [config]: AQ mode / variance boost \t\t\t\t\t: 2 / 0\n",
      "Svt[info]: -------------------------------------------\n",
      "Svt[info]: -------------------------------------------\n",
      "Svt[info]: SVT [version]:\tSVT-AV1 Encoder Lib v2.3.0-61-g66fb0f59\n",
      "Svt[info]: SVT [build]  :\tGCC 11.4.0\t 64 bit\n",
      "Svt[info]: LIB Build date: Nov 27 2024 13:20:34\n",
      "Svt[info]: -------------------------------------------\n",
      "Svt[info]: Level of Parallelism: 5\n",
      "Svt[info]: Number of PPCS 76\n",
      "Svt[info]: [asm level on system : up to avx2]\n",
      "Svt[info]: [asm level selected : up to avx2]\n",
      "Svt[info]: -------------------------------------------\n",
      "Svt[info]: SVT [config]: main profile\ttier (auto)\tlevel (auto)\n",
      "Svt[info]: SVT [config]: width / height / fps numerator / fps denominator \t\t: 96 / 96 / 10 / 1\n",
      "Svt[info]: SVT [config]: bit-depth / color format \t\t\t\t\t: 8 / YUV420\n",
      "Svt[info]: SVT [config]: preset / tune / pred struct \t\t\t\t\t: 10 / PSNR / random access\n",
      "Svt[info]: SVT [config]: gop size / mini-gop size / key-frame type \t\t\t: 2 / 16 / key frame\n",
      "Svt[info]: SVT [config]: BRC mode / rate factor \t\t\t\t\t: CRF / 30 \n",
      "Svt[info]: SVT [config]: AQ mode / variance boost \t\t\t\t\t: 2 / 0\n",
      "Svt[info]: -------------------------------------------\n",
      "Svt[info]: -------------------------------------------\n",
      "Svt[info]: SVT [version]:\tSVT-AV1 Encoder Lib v2.3.0-61-g66fb0f59\n",
      "Svt[info]: SVT [build]  :\tGCC 11.4.0\t 64 bit\n",
      "Svt[info]: LIB Build date: Nov 27 2024 13:20:34\n",
      "Svt[info]: -------------------------------------------\n",
      "Svt[info]: Level of Parallelism: 5\n",
      "Svt[info]: Number of PPCS 76\n",
      "Svt[info]: [asm level on system : up to avx2]\n",
      "Svt[info]: [asm level selected : up to avx2]\n",
      "Svt[info]: -------------------------------------------\n",
      "Svt[info]: SVT [config]: main profile\ttier (auto)\tlevel (auto)\n",
      "Svt[info]: SVT [config]: width / height / fps numerator / fps denominator \t\t: 96 / 96 / 10 / 1\n",
      "Svt[info]: SVT [config]: bit-depth / color format \t\t\t\t\t: 8 / YUV420\n",
      "Svt[info]: SVT [config]: preset / tune / pred struct \t\t\t\t\t: 10 / PSNR / random access\n",
      "Svt[info]: SVT [config]: gop size / mini-gop size / key-frame type \t\t\t: 2 / 16 / key frame\n",
      "Svt[info]: SVT [config]: BRC mode / rate factor \t\t\t\t\t: CRF / 30 \n",
      "Svt[info]: SVT [config]: AQ mode / variance boost \t\t\t\t\t: 2 / 0\n",
      "Svt[info]: -------------------------------------------\n",
      "Svt[info]: -------------------------------------------\n",
      "Svt[info]: SVT [version]:\tSVT-AV1 Encoder Lib v2.3.0-61-g66fb0f59\n",
      "Svt[info]: SVT [build]  :\tGCC 11.4.0\t 64 bit\n",
      "Svt[info]: LIB Build date: Nov 27 2024 13:20:34\n",
      "Svt[info]: -------------------------------------------\n",
      "Svt[info]: Level of Parallelism: 5\n",
      "Svt[info]: Number of PPCS 76\n",
      "Svt[info]: [asm level on system : up to avx2]\n",
      "Svt[info]: [asm level selected : up to avx2]\n",
      "Svt[info]: -------------------------------------------\n",
      "Svt[info]: SVT [config]: main profile\ttier (auto)\tlevel (auto)\n",
      "Svt[info]: SVT [config]: width / height / fps numerator / fps denominator \t\t: 96 / 96 / 10 / 1\n",
      "Svt[info]: SVT [config]: bit-depth / color format \t\t\t\t\t: 8 / YUV420\n",
      "Svt[info]: SVT [config]: preset / tune / pred struct \t\t\t\t\t: 10 / PSNR / random access\n",
      "Svt[info]: SVT [config]: gop size / mini-gop size / key-frame type \t\t\t: 2 / 16 / key frame\n",
      "Svt[info]: SVT [config]: BRC mode / rate factor \t\t\t\t\t: CRF / 30 \n",
      "Svt[info]: SVT [config]: AQ mode / variance boost \t\t\t\t\t: 2 / 0\n",
      "Svt[info]: -------------------------------------------\n",
      "Svt[info]: -------------------------------------------\n",
      "Svt[info]: SVT [version]:\tSVT-AV1 Encoder Lib v2.3.0-61-g66fb0f59\n",
      "Svt[info]: SVT [build]  :\tGCC 11.4.0\t 64 bit\n",
      "Svt[info]: LIB Build date: Nov 27 2024 13:20:34\n",
      "Svt[info]: -------------------------------------------\n",
      "Svt[info]: Level of Parallelism: 5\n",
      "Svt[info]: Number of PPCS 76\n",
      "Svt[info]: [asm level on system : up to avx2]\n",
      "Svt[info]: [asm level selected : up to avx2]\n",
      "Svt[info]: -------------------------------------------\n",
      "Svt[info]: SVT [config]: main profile\ttier (auto)\tlevel (auto)\n",
      "Svt[info]: SVT [config]: width / height / fps numerator / fps denominator \t\t: 96 / 96 / 10 / 1\n",
      "Svt[info]: SVT [config]: bit-depth / color format \t\t\t\t\t: 8 / YUV420\n",
      "Svt[info]: SVT [config]: preset / tune / pred struct \t\t\t\t\t: 10 / PSNR / random access\n",
      "Svt[info]: SVT [config]: gop size / mini-gop size / key-frame type \t\t\t: 2 / 16 / key frame\n",
      "Svt[info]: SVT [config]: BRC mode / rate factor \t\t\t\t\t: CRF / 30 \n",
      "Svt[info]: SVT [config]: AQ mode / variance boost \t\t\t\t\t: 2 / 0\n",
      "Svt[info]: -------------------------------------------\n",
      "Svt[info]: -------------------------------------------\n",
      "Svt[info]: SVT [version]:\tSVT-AV1 Encoder Lib v2.3.0-61-g66fb0f59\n",
      "Svt[info]: SVT [build]  :\tGCC 11.4.0\t 64 bit\n",
      "Svt[info]: LIB Build date: Nov 27 2024 13:20:34\n",
      "Svt[info]: -------------------------------------------\n",
      "Svt[info]: Level of Parallelism: 5\n",
      "Svt[info]: Number of PPCS 76\n",
      "Svt[info]: [asm level on system : up to avx2]\n",
      "Svt[info]: [asm level selected : up to avx2]\n",
      "Svt[info]: -------------------------------------------\n",
      "Svt[info]: SVT [config]: main profile\ttier (auto)\tlevel (auto)\n",
      "Svt[info]: SVT [config]: width / height / fps numerator / fps denominator \t\t: 96 / 96 / 10 / 1\n",
      "Svt[info]: SVT [config]: bit-depth / color format \t\t\t\t\t: 8 / YUV420\n",
      "Svt[info]: SVT [config]: preset / tune / pred struct \t\t\t\t\t: 10 / PSNR / random access\n",
      "Svt[info]: SVT [config]: gop size / mini-gop size / key-frame type \t\t\t: 2 / 16 / key frame\n",
      "Svt[info]: SVT [config]: BRC mode / rate factor \t\t\t\t\t: CRF / 30 \n",
      "Svt[info]: SVT [config]: AQ mode / variance boost \t\t\t\t\t: 2 / 0\n",
      "Svt[info]: -------------------------------------------\n",
      "Svt[info]: -------------------------------------------\n",
      "Svt[info]: SVT [version]:\tSVT-AV1 Encoder Lib v2.3.0-61-g66fb0f59\n",
      "Svt[info]: SVT [build]  :\tGCC 11.4.0\t 64 bit\n",
      "Svt[info]: LIB Build date: Nov 27 2024 13:20:34\n",
      "Svt[info]: -------------------------------------------\n",
      "Svt[info]: Level of Parallelism: 5\n",
      "Svt[info]: Number of PPCS 76\n",
      "Svt[info]: [asm level on system : up to avx2]\n",
      "Svt[info]: [asm level selected : up to avx2]\n",
      "Svt[info]: -------------------------------------------\n",
      "Svt[info]: SVT [config]: main profile\ttier (auto)\tlevel (auto)\n",
      "Svt[info]: SVT [config]: width / height / fps numerator / fps denominator \t\t: 96 / 96 / 10 / 1\n",
      "Svt[info]: SVT [config]: bit-depth / color format \t\t\t\t\t: 8 / YUV420\n",
      "Svt[info]: SVT [config]: preset / tune / pred struct \t\t\t\t\t: 10 / PSNR / random access\n",
      "Svt[info]: SVT [config]: gop size / mini-gop size / key-frame type \t\t\t: 2 / 16 / key frame\n",
      "Svt[info]: SVT [config]: BRC mode / rate factor \t\t\t\t\t: CRF / 30 \n",
      "Svt[info]: SVT [config]: AQ mode / variance boost \t\t\t\t\t: 2 / 0\n",
      "Svt[info]: -------------------------------------------\n",
      "Svt[info]: -------------------------------------------\n",
      "Svt[info]: SVT [version]:\tSVT-AV1 Encoder Lib v2.3.0-61-g66fb0f59\n",
      "Svt[info]: SVT [build]  :\tGCC 11.4.0\t 64 bit\n",
      "Svt[info]: LIB Build date: Nov 27 2024 13:20:34\n",
      "Svt[info]: -------------------------------------------\n",
      "Svt[info]: Level of Parallelism: 5\n",
      "Svt[info]: Number of PPCS 76\n",
      "Svt[info]: [asm level on system : up to avx2]\n",
      "Svt[info]: [asm level selected : up to avx2]\n",
      "Svt[info]: -------------------------------------------\n",
      "Svt[info]: SVT [config]: main profile\ttier (auto)\tlevel (auto)\n",
      "Svt[info]: SVT [config]: width / height / fps numerator / fps denominator \t\t: 96 / 96 / 10 / 1\n",
      "Svt[info]: SVT [config]: bit-depth / color format \t\t\t\t\t: 8 / YUV420\n",
      "Svt[info]: SVT [config]: preset / tune / pred struct \t\t\t\t\t: 10 / PSNR / random access\n",
      "Svt[info]: SVT [config]: gop size / mini-gop size / key-frame type \t\t\t: 2 / 16 / key frame\n",
      "Svt[info]: SVT [config]: BRC mode / rate factor \t\t\t\t\t: CRF / 30 \n",
      "Svt[info]: SVT [config]: AQ mode / variance boost \t\t\t\t\t: 2 / 0\n",
      "Svt[info]: -------------------------------------------\n",
      "Svt[info]: -------------------------------------------\n",
      "Svt[info]: SVT [version]:\tSVT-AV1 Encoder Lib v2.3.0-61-g66fb0f59\n",
      "Svt[info]: SVT [build]  :\tGCC 11.4.0\t 64 bit\n",
      "Svt[info]: LIB Build date: Nov 27 2024 13:20:34\n",
      "Svt[info]: -------------------------------------------\n",
      "Svt[info]: Level of Parallelism: 5\n",
      "Svt[info]: Number of PPCS 76\n",
      "Svt[info]: [asm level on system : up to avx2]\n",
      "Svt[info]: [asm level selected : up to avx2]\n",
      "Svt[info]: -------------------------------------------\n",
      "Svt[info]: SVT [config]: main profile\ttier (auto)\tlevel (auto)\n",
      "Svt[info]: SVT [config]: width / height / fps numerator / fps denominator \t\t: 96 / 96 / 10 / 1\n",
      "Svt[info]: SVT [config]: bit-depth / color format \t\t\t\t\t: 8 / YUV420\n",
      "Svt[info]: SVT [config]: preset / tune / pred struct \t\t\t\t\t: 10 / PSNR / random access\n",
      "Svt[info]: SVT [config]: gop size / mini-gop size / key-frame type \t\t\t: 2 / 16 / key frame\n",
      "Svt[info]: SVT [config]: BRC mode / rate factor \t\t\t\t\t: CRF / 30 \n",
      "Svt[info]: SVT [config]: AQ mode / variance boost \t\t\t\t\t: 2 / 0\n",
      "Svt[info]: -------------------------------------------\n",
      "Svt[info]: -------------------------------------------\n",
      "Svt[info]: SVT [version]:\tSVT-AV1 Encoder Lib v2.3.0-61-g66fb0f59\n",
      "Svt[info]: SVT [build]  :\tGCC 11.4.0\t 64 bit\n",
      "Svt[info]: LIB Build date: Nov 27 2024 13:20:34\n",
      "Svt[info]: -------------------------------------------\n",
      "Svt[info]: Level of Parallelism: 5\n",
      "Svt[info]: Number of PPCS 76\n",
      "Svt[info]: [asm level on system : up to avx2]\n",
      "Svt[info]: [asm level selected : up to avx2]\n",
      "Svt[info]: -------------------------------------------\n",
      "Svt[info]: SVT [config]: main profile\ttier (auto)\tlevel (auto)\n",
      "Svt[info]: SVT [config]: width / height / fps numerator / fps denominator \t\t: 96 / 96 / 10 / 1\n",
      "Svt[info]: SVT [config]: bit-depth / color format \t\t\t\t\t: 8 / YUV420\n",
      "Svt[info]: SVT [config]: preset / tune / pred struct \t\t\t\t\t: 10 / PSNR / random access\n",
      "Svt[info]: SVT [config]: gop size / mini-gop size / key-frame type \t\t\t: 2 / 16 / key frame\n",
      "Svt[info]: SVT [config]: BRC mode / rate factor \t\t\t\t\t: CRF / 30 \n",
      "Svt[info]: SVT [config]: AQ mode / variance boost \t\t\t\t\t: 2 / 0\n",
      "Svt[info]: -------------------------------------------\n",
      "Svt[info]: -------------------------------------------\n",
      "Svt[info]: SVT [version]:\tSVT-AV1 Encoder Lib v2.3.0-61-g66fb0f59\n",
      "Svt[info]: SVT [build]  :\tGCC 11.4.0\t 64 bit\n",
      "Svt[info]: LIB Build date: Nov 27 2024 13:20:34\n",
      "Svt[info]: -------------------------------------------\n",
      "Svt[info]: Level of Parallelism: 5\n",
      "Svt[info]: Number of PPCS 76\n",
      "Svt[info]: [asm level on system : up to avx2]\n",
      "Svt[info]: [asm level selected : up to avx2]\n",
      "Svt[info]: -------------------------------------------\n",
      "Svt[info]: SVT [config]: main profile\ttier (auto)\tlevel (auto)\n",
      "Svt[info]: SVT [config]: width / height / fps numerator / fps denominator \t\t: 96 / 96 / 10 / 1\n",
      "Svt[info]: SVT [config]: bit-depth / color format \t\t\t\t\t: 8 / YUV420\n",
      "Svt[info]: SVT [config]: preset / tune / pred struct \t\t\t\t\t: 10 / PSNR / random access\n",
      "Svt[info]: SVT [config]: gop size / mini-gop size / key-frame type \t\t\t: 2 / 16 / key frame\n",
      "Svt[info]: SVT [config]: BRC mode / rate factor \t\t\t\t\t: CRF / 30 \n",
      "Svt[info]: SVT [config]: AQ mode / variance boost \t\t\t\t\t: 2 / 0\n",
      "Svt[info]: -------------------------------------------\n",
      "Svt[info]: -------------------------------------------\n",
      "Svt[info]: SVT [version]:\tSVT-AV1 Encoder Lib v2.3.0-61-g66fb0f59\n",
      "Svt[info]: SVT [build]  :\tGCC 11.4.0\t 64 bit\n",
      "Svt[info]: LIB Build date: Nov 27 2024 13:20:34\n",
      "Svt[info]: -------------------------------------------\n",
      "Svt[info]: Level of Parallelism: 5\n",
      "Svt[info]: Number of PPCS 76\n",
      "Svt[info]: [asm level on system : up to avx2]\n",
      "Svt[info]: [asm level selected : up to avx2]\n",
      "Svt[info]: -------------------------------------------\n",
      "Svt[info]: SVT [config]: main profile\ttier (auto)\tlevel (auto)\n",
      "Svt[info]: SVT [config]: width / height / fps numerator / fps denominator \t\t: 96 / 96 / 10 / 1\n",
      "Svt[info]: SVT [config]: bit-depth / color format \t\t\t\t\t: 8 / YUV420\n",
      "Svt[info]: SVT [config]: preset / tune / pred struct \t\t\t\t\t: 10 / PSNR / random access\n",
      "Svt[info]: SVT [config]: gop size / mini-gop size / key-frame type \t\t\t: 2 / 16 / key frame\n",
      "Svt[info]: SVT [config]: BRC mode / rate factor \t\t\t\t\t: CRF / 30 \n",
      "Svt[info]: SVT [config]: AQ mode / variance boost \t\t\t\t\t: 2 / 0\n",
      "Svt[info]: -------------------------------------------\n",
      "Svt[info]: -------------------------------------------\n",
      "Svt[info]: SVT [version]:\tSVT-AV1 Encoder Lib v2.3.0-61-g66fb0f59\n",
      "Svt[info]: SVT [build]  :\tGCC 11.4.0\t 64 bit\n",
      "Svt[info]: LIB Build date: Nov 27 2024 13:20:34\n",
      "Svt[info]: -------------------------------------------\n",
      "Svt[info]: Level of Parallelism: 5\n",
      "Svt[info]: Number of PPCS 76\n",
      "Svt[info]: [asm level on system : up to avx2]\n",
      "Svt[info]: [asm level selected : up to avx2]\n",
      "Svt[info]: -------------------------------------------\n",
      "Svt[info]: SVT [config]: main profile\ttier (auto)\tlevel (auto)\n",
      "Svt[info]: SVT [config]: width / height / fps numerator / fps denominator \t\t: 96 / 96 / 10 / 1\n",
      "Svt[info]: SVT [config]: bit-depth / color format \t\t\t\t\t: 8 / YUV420\n",
      "Svt[info]: SVT [config]: preset / tune / pred struct \t\t\t\t\t: 10 / PSNR / random access\n",
      "Svt[info]: SVT [config]: gop size / mini-gop size / key-frame type \t\t\t: 2 / 16 / key frame\n",
      "Svt[info]: SVT [config]: BRC mode / rate factor \t\t\t\t\t: CRF / 30 \n",
      "Svt[info]: SVT [config]: AQ mode / variance boost \t\t\t\t\t: 2 / 0\n",
      "Svt[info]: -------------------------------------------\n",
      "Svt[info]: -------------------------------------------\n",
      "Svt[info]: SVT [version]:\tSVT-AV1 Encoder Lib v2.3.0-61-g66fb0f59\n",
      "Svt[info]: SVT [build]  :\tGCC 11.4.0\t 64 bit\n",
      "Svt[info]: LIB Build date: Nov 27 2024 13:20:34\n",
      "Svt[info]: -------------------------------------------\n",
      "Svt[info]: Level of Parallelism: 5\n",
      "Svt[info]: Number of PPCS 76\n",
      "Svt[info]: [asm level on system : up to avx2]\n",
      "Svt[info]: [asm level selected : up to avx2]\n",
      "Svt[info]: -------------------------------------------\n",
      "Svt[info]: SVT [config]: main profile\ttier (auto)\tlevel (auto)\n",
      "Svt[info]: SVT [config]: width / height / fps numerator / fps denominator \t\t: 96 / 96 / 10 / 1\n",
      "Svt[info]: SVT [config]: bit-depth / color format \t\t\t\t\t: 8 / YUV420\n",
      "Svt[info]: SVT [config]: preset / tune / pred struct \t\t\t\t\t: 10 / PSNR / random access\n",
      "Svt[info]: SVT [config]: gop size / mini-gop size / key-frame type \t\t\t: 2 / 16 / key frame\n",
      "Svt[info]: SVT [config]: BRC mode / rate factor \t\t\t\t\t: CRF / 30 \n",
      "Svt[info]: SVT [config]: AQ mode / variance boost \t\t\t\t\t: 2 / 0\n",
      "Svt[info]: -------------------------------------------\n",
      "Svt[info]: -------------------------------------------\n",
      "Svt[info]: SVT [version]:\tSVT-AV1 Encoder Lib v2.3.0-61-g66fb0f59\n",
      "Svt[info]: SVT [build]  :\tGCC 11.4.0\t 64 bit\n",
      "Svt[info]: LIB Build date: Nov 27 2024 13:20:34\n",
      "Svt[info]: -------------------------------------------\n",
      "Svt[info]: Level of Parallelism: 5\n",
      "Svt[info]: Number of PPCS 76\n",
      "Svt[info]: [asm level on system : up to avx2]\n",
      "Svt[info]: [asm level selected : up to avx2]\n",
      "Svt[info]: -------------------------------------------\n",
      "Svt[info]: SVT [config]: main profile\ttier (auto)\tlevel (auto)\n",
      "Svt[info]: SVT [config]: width / height / fps numerator / fps denominator \t\t: 96 / 96 / 10 / 1\n",
      "Svt[info]: SVT [config]: bit-depth / color format \t\t\t\t\t: 8 / YUV420\n",
      "Svt[info]: SVT [config]: preset / tune / pred struct \t\t\t\t\t: 10 / PSNR / random access\n",
      "Svt[info]: SVT [config]: gop size / mini-gop size / key-frame type \t\t\t: 2 / 16 / key frame\n",
      "Svt[info]: SVT [config]: BRC mode / rate factor \t\t\t\t\t: CRF / 30 \n",
      "Svt[info]: SVT [config]: AQ mode / variance boost \t\t\t\t\t: 2 / 0\n",
      "Svt[info]: -------------------------------------------\n",
      "Svt[info]: -------------------------------------------\n",
      "Svt[info]: SVT [version]:\tSVT-AV1 Encoder Lib v2.3.0-61-g66fb0f59\n",
      "Svt[info]: SVT [build]  :\tGCC 11.4.0\t 64 bit\n",
      "Svt[info]: LIB Build date: Nov 27 2024 13:20:34\n",
      "Svt[info]: -------------------------------------------\n",
      "Svt[info]: Level of Parallelism: 5\n",
      "Svt[info]: Number of PPCS 76\n",
      "Svt[info]: [asm level on system : up to avx2]\n",
      "Svt[info]: [asm level selected : up to avx2]\n",
      "Svt[info]: -------------------------------------------\n",
      "Svt[info]: SVT [config]: main profile\ttier (auto)\tlevel (auto)\n",
      "Svt[info]: SVT [config]: width / height / fps numerator / fps denominator \t\t: 96 / 96 / 10 / 1\n",
      "Svt[info]: SVT [config]: bit-depth / color format \t\t\t\t\t: 8 / YUV420\n",
      "Svt[info]: SVT [config]: preset / tune / pred struct \t\t\t\t\t: 10 / PSNR / random access\n",
      "Svt[info]: SVT [config]: gop size / mini-gop size / key-frame type \t\t\t: 2 / 16 / key frame\n",
      "Svt[info]: SVT [config]: BRC mode / rate factor \t\t\t\t\t: CRF / 30 \n",
      "Svt[info]: SVT [config]: AQ mode / variance boost \t\t\t\t\t: 2 / 0\n",
      "Svt[info]: -------------------------------------------\n",
      "Svt[info]: -------------------------------------------\n",
      "Svt[info]: SVT [version]:\tSVT-AV1 Encoder Lib v2.3.0-61-g66fb0f59\n",
      "Svt[info]: SVT [build]  :\tGCC 11.4.0\t 64 bit\n",
      "Svt[info]: LIB Build date: Nov 27 2024 13:20:34\n",
      "Svt[info]: -------------------------------------------\n",
      "Svt[info]: Level of Parallelism: 5\n",
      "Svt[info]: Number of PPCS 76\n",
      "Svt[info]: [asm level on system : up to avx2]\n",
      "Svt[info]: [asm level selected : up to avx2]\n",
      "Svt[info]: -------------------------------------------\n",
      "Svt[info]: SVT [config]: main profile\ttier (auto)\tlevel (auto)\n",
      "Svt[info]: SVT [config]: width / height / fps numerator / fps denominator \t\t: 96 / 96 / 10 / 1\n",
      "Svt[info]: SVT [config]: bit-depth / color format \t\t\t\t\t: 8 / YUV420\n",
      "Svt[info]: SVT [config]: preset / tune / pred struct \t\t\t\t\t: 10 / PSNR / random access\n",
      "Svt[info]: SVT [config]: gop size / mini-gop size / key-frame type \t\t\t: 2 / 16 / key frame\n",
      "Svt[info]: SVT [config]: BRC mode / rate factor \t\t\t\t\t: CRF / 30 \n",
      "Svt[info]: SVT [config]: AQ mode / variance boost \t\t\t\t\t: 2 / 0\n",
      "Svt[info]: -------------------------------------------\n",
      "Svt[info]: -------------------------------------------\n",
      "Svt[info]: SVT [version]:\tSVT-AV1 Encoder Lib v2.3.0-61-g66fb0f59\n",
      "Svt[info]: SVT [build]  :\tGCC 11.4.0\t 64 bit\n",
      "Svt[info]: LIB Build date: Nov 27 2024 13:20:34\n",
      "Svt[info]: -------------------------------------------\n",
      "Svt[info]: Level of Parallelism: 5\n",
      "Svt[info]: Number of PPCS 76\n",
      "Svt[info]: [asm level on system : up to avx2]\n",
      "Svt[info]: [asm level selected : up to avx2]\n",
      "Svt[info]: -------------------------------------------\n",
      "Svt[info]: SVT [config]: main profile\ttier (auto)\tlevel (auto)\n",
      "Svt[info]: SVT [config]: width / height / fps numerator / fps denominator \t\t: 96 / 96 / 10 / 1\n",
      "Svt[info]: SVT [config]: bit-depth / color format \t\t\t\t\t: 8 / YUV420\n",
      "Svt[info]: SVT [config]: preset / tune / pred struct \t\t\t\t\t: 10 / PSNR / random access\n",
      "Svt[info]: SVT [config]: gop size / mini-gop size / key-frame type \t\t\t: 2 / 16 / key frame\n",
      "Svt[info]: SVT [config]: BRC mode / rate factor \t\t\t\t\t: CRF / 30 \n",
      "Svt[info]: SVT [config]: AQ mode / variance boost \t\t\t\t\t: 2 / 0\n",
      "Svt[info]: -------------------------------------------\n",
      "Svt[info]: -------------------------------------------\n",
      "Svt[info]: SVT [version]:\tSVT-AV1 Encoder Lib v2.3.0-61-g66fb0f59\n",
      "Svt[info]: SVT [build]  :\tGCC 11.4.0\t 64 bit\n",
      "Svt[info]: LIB Build date: Nov 27 2024 13:20:34\n",
      "Svt[info]: -------------------------------------------\n",
      "Svt[info]: Level of Parallelism: 5\n",
      "Svt[info]: Number of PPCS 76\n",
      "Svt[info]: [asm level on system : up to avx2]\n",
      "Svt[info]: [asm level selected : up to avx2]\n",
      "Svt[info]: -------------------------------------------\n",
      "Svt[info]: SVT [config]: main profile\ttier (auto)\tlevel (auto)\n",
      "Svt[info]: SVT [config]: width / height / fps numerator / fps denominator \t\t: 96 / 96 / 10 / 1\n",
      "Svt[info]: SVT [config]: bit-depth / color format \t\t\t\t\t: 8 / YUV420\n",
      "Svt[info]: SVT [config]: preset / tune / pred struct \t\t\t\t\t: 10 / PSNR / random access\n",
      "Svt[info]: SVT [config]: gop size / mini-gop size / key-frame type \t\t\t: 2 / 16 / key frame\n",
      "Svt[info]: SVT [config]: BRC mode / rate factor \t\t\t\t\t: CRF / 30 \n",
      "Svt[info]: SVT [config]: AQ mode / variance boost \t\t\t\t\t: 2 / 0\n",
      "Svt[info]: -------------------------------------------\n",
      "Svt[info]: -------------------------------------------\n",
      "Svt[info]: SVT [version]:\tSVT-AV1 Encoder Lib v2.3.0-61-g66fb0f59\n",
      "Svt[info]: SVT [build]  :\tGCC 11.4.0\t 64 bit\n",
      "Svt[info]: LIB Build date: Nov 27 2024 13:20:34\n",
      "Svt[info]: -------------------------------------------\n",
      "Svt[info]: Level of Parallelism: 5\n",
      "Svt[info]: Number of PPCS 76\n",
      "Svt[info]: [asm level on system : up to avx2]\n",
      "Svt[info]: [asm level selected : up to avx2]\n",
      "Svt[info]: -------------------------------------------\n",
      "Svt[info]: SVT [config]: main profile\ttier (auto)\tlevel (auto)\n",
      "Svt[info]: SVT [config]: width / height / fps numerator / fps denominator \t\t: 96 / 96 / 10 / 1\n",
      "Svt[info]: SVT [config]: bit-depth / color format \t\t\t\t\t: 8 / YUV420\n",
      "Svt[info]: SVT [config]: preset / tune / pred struct \t\t\t\t\t: 10 / PSNR / random access\n",
      "Svt[info]: SVT [config]: gop size / mini-gop size / key-frame type \t\t\t: 2 / 16 / key frame\n",
      "Svt[info]: SVT [config]: BRC mode / rate factor \t\t\t\t\t: CRF / 30 \n",
      "Svt[info]: SVT [config]: AQ mode / variance boost \t\t\t\t\t: 2 / 0\n",
      "Svt[info]: -------------------------------------------\n",
      "Svt[info]: -------------------------------------------\n",
      "Svt[info]: SVT [version]:\tSVT-AV1 Encoder Lib v2.3.0-61-g66fb0f59\n",
      "Svt[info]: SVT [build]  :\tGCC 11.4.0\t 64 bit\n",
      "Svt[info]: LIB Build date: Nov 27 2024 13:20:34\n",
      "Svt[info]: -------------------------------------------\n",
      "Svt[info]: Level of Parallelism: 5\n",
      "Svt[info]: Number of PPCS 76\n",
      "Svt[info]: [asm level on system : up to avx2]\n",
      "Svt[info]: [asm level selected : up to avx2]\n",
      "Svt[info]: -------------------------------------------\n",
      "Svt[info]: SVT [config]: main profile\ttier (auto)\tlevel (auto)\n",
      "Svt[info]: SVT [config]: width / height / fps numerator / fps denominator \t\t: 96 / 96 / 10 / 1\n",
      "Svt[info]: SVT [config]: bit-depth / color format \t\t\t\t\t: 8 / YUV420\n",
      "Svt[info]: SVT [config]: preset / tune / pred struct \t\t\t\t\t: 10 / PSNR / random access\n",
      "Svt[info]: SVT [config]: gop size / mini-gop size / key-frame type \t\t\t: 2 / 16 / key frame\n",
      "Svt[info]: SVT [config]: BRC mode / rate factor \t\t\t\t\t: CRF / 30 \n",
      "Svt[info]: SVT [config]: AQ mode / variance boost \t\t\t\t\t: 2 / 0\n",
      "Svt[info]: -------------------------------------------\n",
      "Svt[info]: -------------------------------------------\n",
      "Svt[info]: SVT [version]:\tSVT-AV1 Encoder Lib v2.3.0-61-g66fb0f59\n",
      "Svt[info]: SVT [build]  :\tGCC 11.4.0\t 64 bit\n",
      "Svt[info]: LIB Build date: Nov 27 2024 13:20:34\n",
      "Svt[info]: -------------------------------------------\n",
      "Svt[info]: Level of Parallelism: 5\n",
      "Svt[info]: Number of PPCS 76\n",
      "Svt[info]: [asm level on system : up to avx2]\n",
      "Svt[info]: [asm level selected : up to avx2]\n",
      "Svt[info]: -------------------------------------------\n",
      "Svt[info]: SVT [config]: main profile\ttier (auto)\tlevel (auto)\n",
      "Svt[info]: SVT [config]: width / height / fps numerator / fps denominator \t\t: 96 / 96 / 10 / 1\n",
      "Svt[info]: SVT [config]: bit-depth / color format \t\t\t\t\t: 8 / YUV420\n",
      "Svt[info]: SVT [config]: preset / tune / pred struct \t\t\t\t\t: 10 / PSNR / random access\n",
      "Svt[info]: SVT [config]: gop size / mini-gop size / key-frame type \t\t\t: 2 / 16 / key frame\n",
      "Svt[info]: SVT [config]: BRC mode / rate factor \t\t\t\t\t: CRF / 30 \n",
      "Svt[info]: SVT [config]: AQ mode / variance boost \t\t\t\t\t: 2 / 0\n",
      "Svt[info]: -------------------------------------------\n",
      "Svt[info]: -------------------------------------------\n",
      "Svt[info]: SVT [version]:\tSVT-AV1 Encoder Lib v2.3.0-61-g66fb0f59\n",
      "Svt[info]: SVT [build]  :\tGCC 11.4.0\t 64 bit\n",
      "Svt[info]: LIB Build date: Nov 27 2024 13:20:34\n",
      "Svt[info]: -------------------------------------------\n",
      "Svt[info]: Level of Parallelism: 5\n",
      "Svt[info]: Number of PPCS 76\n",
      "Svt[info]: [asm level on system : up to avx2]\n",
      "Svt[info]: [asm level selected : up to avx2]\n",
      "Svt[info]: -------------------------------------------\n",
      "Svt[info]: SVT [config]: main profile\ttier (auto)\tlevel (auto)\n",
      "Svt[info]: SVT [config]: width / height / fps numerator / fps denominator \t\t: 96 / 96 / 10 / 1\n",
      "Svt[info]: SVT [config]: bit-depth / color format \t\t\t\t\t: 8 / YUV420\n",
      "Svt[info]: SVT [config]: preset / tune / pred struct \t\t\t\t\t: 10 / PSNR / random access\n",
      "Svt[info]: SVT [config]: gop size / mini-gop size / key-frame type \t\t\t: 2 / 16 / key frame\n",
      "Svt[info]: SVT [config]: BRC mode / rate factor \t\t\t\t\t: CRF / 30 \n",
      "Svt[info]: SVT [config]: AQ mode / variance boost \t\t\t\t\t: 2 / 0\n",
      "Svt[info]: -------------------------------------------\n",
      "Svt[info]: -------------------------------------------\n",
      "Svt[info]: SVT [version]:\tSVT-AV1 Encoder Lib v2.3.0-61-g66fb0f59\n",
      "Svt[info]: SVT [build]  :\tGCC 11.4.0\t 64 bit\n",
      "Svt[info]: LIB Build date: Nov 27 2024 13:20:34\n",
      "Svt[info]: -------------------------------------------\n",
      "Svt[info]: Level of Parallelism: 5\n",
      "Svt[info]: Number of PPCS 76\n",
      "Svt[info]: [asm level on system : up to avx2]\n",
      "Svt[info]: [asm level selected : up to avx2]\n",
      "Svt[info]: -------------------------------------------\n",
      "Svt[info]: SVT [config]: main profile\ttier (auto)\tlevel (auto)\n",
      "Svt[info]: SVT [config]: width / height / fps numerator / fps denominator \t\t: 96 / 96 / 10 / 1\n",
      "Svt[info]: SVT [config]: bit-depth / color format \t\t\t\t\t: 8 / YUV420\n",
      "Svt[info]: SVT [config]: preset / tune / pred struct \t\t\t\t\t: 10 / PSNR / random access\n",
      "Svt[info]: SVT [config]: gop size / mini-gop size / key-frame type \t\t\t: 2 / 16 / key frame\n",
      "Svt[info]: SVT [config]: BRC mode / rate factor \t\t\t\t\t: CRF / 30 \n",
      "Svt[info]: SVT [config]: AQ mode / variance boost \t\t\t\t\t: 2 / 0\n",
      "Svt[info]: -------------------------------------------\n",
      "Svt[info]: -------------------------------------------\n",
      "Svt[info]: SVT [version]:\tSVT-AV1 Encoder Lib v2.3.0-61-g66fb0f59\n",
      "Svt[info]: SVT [build]  :\tGCC 11.4.0\t 64 bit\n",
      "Svt[info]: LIB Build date: Nov 27 2024 13:20:34\n",
      "Svt[info]: -------------------------------------------\n",
      "Svt[info]: Level of Parallelism: 5\n",
      "Svt[info]: Number of PPCS 76\n",
      "Svt[info]: [asm level on system : up to avx2]\n",
      "Svt[info]: [asm level selected : up to avx2]\n",
      "Svt[info]: -------------------------------------------\n",
      "Svt[info]: SVT [config]: main profile\ttier (auto)\tlevel (auto)\n",
      "Svt[info]: SVT [config]: width / height / fps numerator / fps denominator \t\t: 96 / 96 / 10 / 1\n",
      "Svt[info]: SVT [config]: bit-depth / color format \t\t\t\t\t: 8 / YUV420\n",
      "Svt[info]: SVT [config]: preset / tune / pred struct \t\t\t\t\t: 10 / PSNR / random access\n",
      "Svt[info]: SVT [config]: gop size / mini-gop size / key-frame type \t\t\t: 2 / 16 / key frame\n",
      "Svt[info]: SVT [config]: BRC mode / rate factor \t\t\t\t\t: CRF / 30 \n",
      "Svt[info]: SVT [config]: AQ mode / variance boost \t\t\t\t\t: 2 / 0\n",
      "Svt[info]: -------------------------------------------\n",
      "Svt[info]: -------------------------------------------\n",
      "Svt[info]: SVT [version]:\tSVT-AV1 Encoder Lib v2.3.0-61-g66fb0f59\n",
      "Svt[info]: SVT [build]  :\tGCC 11.4.0\t 64 bit\n",
      "Svt[info]: LIB Build date: Nov 27 2024 13:20:34\n",
      "Svt[info]: -------------------------------------------\n",
      "Svt[info]: Level of Parallelism: 5\n",
      "Svt[info]: Number of PPCS 76\n",
      "Svt[info]: [asm level on system : up to avx2]\n",
      "Svt[info]: [asm level selected : up to avx2]\n",
      "Svt[info]: -------------------------------------------\n",
      "Svt[info]: SVT [config]: main profile\ttier (auto)\tlevel (auto)\n",
      "Svt[info]: SVT [config]: width / height / fps numerator / fps denominator \t\t: 96 / 96 / 10 / 1\n",
      "Svt[info]: SVT [config]: bit-depth / color format \t\t\t\t\t: 8 / YUV420\n",
      "Svt[info]: SVT [config]: preset / tune / pred struct \t\t\t\t\t: 10 / PSNR / random access\n",
      "Svt[info]: SVT [config]: gop size / mini-gop size / key-frame type \t\t\t: 2 / 16 / key frame\n",
      "Svt[info]: SVT [config]: BRC mode / rate factor \t\t\t\t\t: CRF / 30 \n",
      "Svt[info]: SVT [config]: AQ mode / variance boost \t\t\t\t\t: 2 / 0\n",
      "Svt[info]: -------------------------------------------\n",
      "Svt[info]: -------------------------------------------\n",
      "Svt[info]: SVT [version]:\tSVT-AV1 Encoder Lib v2.3.0-61-g66fb0f59\n",
      "Svt[info]: SVT [build]  :\tGCC 11.4.0\t 64 bit\n",
      "Svt[info]: LIB Build date: Nov 27 2024 13:20:34\n",
      "Svt[info]: -------------------------------------------\n",
      "Svt[info]: Level of Parallelism: 5\n",
      "Svt[info]: Number of PPCS 76\n",
      "Svt[info]: [asm level on system : up to avx2]\n",
      "Svt[info]: [asm level selected : up to avx2]\n",
      "Svt[info]: -------------------------------------------\n",
      "Svt[info]: SVT [config]: main profile\ttier (auto)\tlevel (auto)\n",
      "Svt[info]: SVT [config]: width / height / fps numerator / fps denominator \t\t: 96 / 96 / 10 / 1\n",
      "Svt[info]: SVT [config]: bit-depth / color format \t\t\t\t\t: 8 / YUV420\n",
      "Svt[info]: SVT [config]: preset / tune / pred struct \t\t\t\t\t: 10 / PSNR / random access\n",
      "Svt[info]: SVT [config]: gop size / mini-gop size / key-frame type \t\t\t: 2 / 16 / key frame\n",
      "Svt[info]: SVT [config]: BRC mode / rate factor \t\t\t\t\t: CRF / 30 \n",
      "Svt[info]: SVT [config]: AQ mode / variance boost \t\t\t\t\t: 2 / 0\n",
      "Svt[info]: -------------------------------------------\n",
      "Svt[info]: -------------------------------------------\n",
      "Svt[info]: SVT [version]:\tSVT-AV1 Encoder Lib v2.3.0-61-g66fb0f59\n",
      "Svt[info]: SVT [build]  :\tGCC 11.4.0\t 64 bit\n",
      "Svt[info]: LIB Build date: Nov 27 2024 13:20:34\n",
      "Svt[info]: -------------------------------------------\n",
      "Svt[info]: Level of Parallelism: 5\n",
      "Svt[info]: Number of PPCS 76\n",
      "Svt[info]: [asm level on system : up to avx2]\n",
      "Svt[info]: [asm level selected : up to avx2]\n",
      "Svt[info]: -------------------------------------------\n",
      "Svt[info]: SVT [config]: main profile\ttier (auto)\tlevel (auto)\n",
      "Svt[info]: SVT [config]: width / height / fps numerator / fps denominator \t\t: 96 / 96 / 10 / 1\n",
      "Svt[info]: SVT [config]: bit-depth / color format \t\t\t\t\t: 8 / YUV420\n",
      "Svt[info]: SVT [config]: preset / tune / pred struct \t\t\t\t\t: 10 / PSNR / random access\n",
      "Svt[info]: SVT [config]: gop size / mini-gop size / key-frame type \t\t\t: 2 / 16 / key frame\n",
      "Svt[info]: SVT [config]: BRC mode / rate factor \t\t\t\t\t: CRF / 30 \n",
      "Svt[info]: SVT [config]: AQ mode / variance boost \t\t\t\t\t: 2 / 0\n",
      "Svt[info]: -------------------------------------------\n",
      "Svt[info]: -------------------------------------------\n",
      "Svt[info]: SVT [version]:\tSVT-AV1 Encoder Lib v2.3.0-61-g66fb0f59\n",
      "Svt[info]: SVT [build]  :\tGCC 11.4.0\t 64 bit\n",
      "Svt[info]: LIB Build date: Nov 27 2024 13:20:34\n",
      "Svt[info]: -------------------------------------------\n",
      "Svt[info]: Level of Parallelism: 5\n",
      "Svt[info]: Number of PPCS 76\n",
      "Svt[info]: [asm level on system : up to avx2]\n",
      "Svt[info]: [asm level selected : up to avx2]\n",
      "Svt[info]: -------------------------------------------\n",
      "Svt[info]: SVT [config]: main profile\ttier (auto)\tlevel (auto)\n",
      "Svt[info]: SVT [config]: width / height / fps numerator / fps denominator \t\t: 96 / 96 / 10 / 1\n",
      "Svt[info]: SVT [config]: bit-depth / color format \t\t\t\t\t: 8 / YUV420\n",
      "Svt[info]: SVT [config]: preset / tune / pred struct \t\t\t\t\t: 10 / PSNR / random access\n",
      "Svt[info]: SVT [config]: gop size / mini-gop size / key-frame type \t\t\t: 2 / 16 / key frame\n",
      "Svt[info]: SVT [config]: BRC mode / rate factor \t\t\t\t\t: CRF / 30 \n",
      "Svt[info]: SVT [config]: AQ mode / variance boost \t\t\t\t\t: 2 / 0\n",
      "Svt[info]: -------------------------------------------\n",
      "Svt[info]: -------------------------------------------\n",
      "Svt[info]: SVT [version]:\tSVT-AV1 Encoder Lib v2.3.0-61-g66fb0f59\n",
      "Svt[info]: SVT [build]  :\tGCC 11.4.0\t 64 bit\n",
      "Svt[info]: LIB Build date: Nov 27 2024 13:20:34\n",
      "Svt[info]: -------------------------------------------\n",
      "Svt[info]: Level of Parallelism: 5\n",
      "Svt[info]: Number of PPCS 76\n",
      "Svt[info]: [asm level on system : up to avx2]\n",
      "Svt[info]: [asm level selected : up to avx2]\n",
      "Svt[info]: -------------------------------------------\n",
      "Svt[info]: SVT [config]: main profile\ttier (auto)\tlevel (auto)\n",
      "Svt[info]: SVT [config]: width / height / fps numerator / fps denominator \t\t: 96 / 96 / 10 / 1\n",
      "Svt[info]: SVT [config]: bit-depth / color format \t\t\t\t\t: 8 / YUV420\n",
      "Svt[info]: SVT [config]: preset / tune / pred struct \t\t\t\t\t: 10 / PSNR / random access\n",
      "Svt[info]: SVT [config]: gop size / mini-gop size / key-frame type \t\t\t: 2 / 16 / key frame\n",
      "Svt[info]: SVT [config]: BRC mode / rate factor \t\t\t\t\t: CRF / 30 \n",
      "Svt[info]: SVT [config]: AQ mode / variance boost \t\t\t\t\t: 2 / 0\n",
      "Svt[info]: -------------------------------------------\n",
      "Svt[info]: -------------------------------------------\n",
      "Svt[info]: SVT [version]:\tSVT-AV1 Encoder Lib v2.3.0-61-g66fb0f59\n",
      "Svt[info]: SVT [build]  :\tGCC 11.4.0\t 64 bit\n",
      "Svt[info]: LIB Build date: Nov 27 2024 13:20:34\n",
      "Svt[info]: -------------------------------------------\n",
      "Svt[info]: Level of Parallelism: 5\n",
      "Svt[info]: Number of PPCS 76\n",
      "Svt[info]: [asm level on system : up to avx2]\n",
      "Svt[info]: [asm level selected : up to avx2]\n",
      "Svt[info]: -------------------------------------------\n",
      "Svt[info]: SVT [config]: main profile\ttier (auto)\tlevel (auto)\n",
      "Svt[info]: SVT [config]: width / height / fps numerator / fps denominator \t\t: 96 / 96 / 10 / 1\n",
      "Svt[info]: SVT [config]: bit-depth / color format \t\t\t\t\t: 8 / YUV420\n",
      "Svt[info]: SVT [config]: preset / tune / pred struct \t\t\t\t\t: 10 / PSNR / random access\n",
      "Svt[info]: SVT [config]: gop size / mini-gop size / key-frame type \t\t\t: 2 / 16 / key frame\n",
      "Svt[info]: SVT [config]: BRC mode / rate factor \t\t\t\t\t: CRF / 30 \n",
      "Svt[info]: SVT [config]: AQ mode / variance boost \t\t\t\t\t: 2 / 0\n",
      "Svt[info]: -------------------------------------------\n",
      "Svt[info]: -------------------------------------------\n",
      "Svt[info]: SVT [version]:\tSVT-AV1 Encoder Lib v2.3.0-61-g66fb0f59\n",
      "Svt[info]: SVT [build]  :\tGCC 11.4.0\t 64 bit\n",
      "Svt[info]: LIB Build date: Nov 27 2024 13:20:34\n",
      "Svt[info]: -------------------------------------------\n",
      "Svt[info]: Level of Parallelism: 5\n",
      "Svt[info]: Number of PPCS 76\n",
      "Svt[info]: [asm level on system : up to avx2]\n",
      "Svt[info]: [asm level selected : up to avx2]\n",
      "Svt[info]: -------------------------------------------\n",
      "Svt[info]: SVT [config]: main profile\ttier (auto)\tlevel (auto)\n",
      "Svt[info]: SVT [config]: width / height / fps numerator / fps denominator \t\t: 96 / 96 / 10 / 1\n",
      "Svt[info]: SVT [config]: bit-depth / color format \t\t\t\t\t: 8 / YUV420\n",
      "Svt[info]: SVT [config]: preset / tune / pred struct \t\t\t\t\t: 10 / PSNR / random access\n",
      "Svt[info]: SVT [config]: gop size / mini-gop size / key-frame type \t\t\t: 2 / 16 / key frame\n",
      "Svt[info]: SVT [config]: BRC mode / rate factor \t\t\t\t\t: CRF / 30 \n",
      "Svt[info]: SVT [config]: AQ mode / variance boost \t\t\t\t\t: 2 / 0\n",
      "Svt[info]: -------------------------------------------\n",
      "Svt[info]: -------------------------------------------\n",
      "Svt[info]: SVT [version]:\tSVT-AV1 Encoder Lib v2.3.0-61-g66fb0f59\n",
      "Svt[info]: SVT [build]  :\tGCC 11.4.0\t 64 bit\n",
      "Svt[info]: LIB Build date: Nov 27 2024 13:20:34\n",
      "Svt[info]: -------------------------------------------\n",
      "Svt[info]: Level of Parallelism: 5\n",
      "Svt[info]: Number of PPCS 76\n",
      "Svt[info]: [asm level on system : up to avx2]\n",
      "Svt[info]: [asm level selected : up to avx2]\n",
      "Svt[info]: -------------------------------------------\n",
      "Svt[info]: SVT [config]: main profile\ttier (auto)\tlevel (auto)\n",
      "Svt[info]: SVT [config]: width / height / fps numerator / fps denominator \t\t: 96 / 96 / 10 / 1\n",
      "Svt[info]: SVT [config]: bit-depth / color format \t\t\t\t\t: 8 / YUV420\n",
      "Svt[info]: SVT [config]: preset / tune / pred struct \t\t\t\t\t: 10 / PSNR / random access\n",
      "Svt[info]: SVT [config]: gop size / mini-gop size / key-frame type \t\t\t: 2 / 16 / key frame\n",
      "Svt[info]: SVT [config]: BRC mode / rate factor \t\t\t\t\t: CRF / 30 \n",
      "Svt[info]: SVT [config]: AQ mode / variance boost \t\t\t\t\t: 2 / 0\n",
      "Svt[info]: -------------------------------------------\n",
      "Svt[info]: -------------------------------------------\n",
      "Svt[info]: SVT [version]:\tSVT-AV1 Encoder Lib v2.3.0-61-g66fb0f59\n",
      "Svt[info]: SVT [build]  :\tGCC 11.4.0\t 64 bit\n",
      "Svt[info]: LIB Build date: Nov 27 2024 13:20:34\n",
      "Svt[info]: -------------------------------------------\n",
      "Svt[info]: Level of Parallelism: 5\n",
      "Svt[info]: Number of PPCS 76\n",
      "Svt[info]: [asm level on system : up to avx2]\n",
      "Svt[info]: [asm level selected : up to avx2]\n",
      "Svt[info]: -------------------------------------------\n",
      "Svt[info]: SVT [config]: main profile\ttier (auto)\tlevel (auto)\n",
      "Svt[info]: SVT [config]: width / height / fps numerator / fps denominator \t\t: 96 / 96 / 10 / 1\n",
      "Svt[info]: SVT [config]: bit-depth / color format \t\t\t\t\t: 8 / YUV420\n",
      "Svt[info]: SVT [config]: preset / tune / pred struct \t\t\t\t\t: 10 / PSNR / random access\n",
      "Svt[info]: SVT [config]: gop size / mini-gop size / key-frame type \t\t\t: 2 / 16 / key frame\n",
      "Svt[info]: SVT [config]: BRC mode / rate factor \t\t\t\t\t: CRF / 30 \n",
      "Svt[info]: SVT [config]: AQ mode / variance boost \t\t\t\t\t: 2 / 0\n",
      "Svt[info]: -------------------------------------------\n",
      "Svt[info]: -------------------------------------------\n",
      "Svt[info]: SVT [version]:\tSVT-AV1 Encoder Lib v2.3.0-61-g66fb0f59\n",
      "Svt[info]: SVT [build]  :\tGCC 11.4.0\t 64 bit\n",
      "Svt[info]: LIB Build date: Nov 27 2024 13:20:34\n",
      "Svt[info]: -------------------------------------------\n",
      "Svt[info]: Level of Parallelism: 5\n",
      "Svt[info]: Number of PPCS 76\n",
      "Svt[info]: [asm level on system : up to avx2]\n",
      "Svt[info]: [asm level selected : up to avx2]\n",
      "Svt[info]: -------------------------------------------\n",
      "Svt[info]: SVT [config]: main profile\ttier (auto)\tlevel (auto)\n",
      "Svt[info]: SVT [config]: width / height / fps numerator / fps denominator \t\t: 96 / 96 / 10 / 1\n",
      "Svt[info]: SVT [config]: bit-depth / color format \t\t\t\t\t: 8 / YUV420\n",
      "Svt[info]: SVT [config]: preset / tune / pred struct \t\t\t\t\t: 10 / PSNR / random access\n",
      "Svt[info]: SVT [config]: gop size / mini-gop size / key-frame type \t\t\t: 2 / 16 / key frame\n",
      "Svt[info]: SVT [config]: BRC mode / rate factor \t\t\t\t\t: CRF / 30 \n",
      "Svt[info]: SVT [config]: AQ mode / variance boost \t\t\t\t\t: 2 / 0\n",
      "Svt[info]: -------------------------------------------\n",
      "Svt[info]: -------------------------------------------\n",
      "Svt[info]: SVT [version]:\tSVT-AV1 Encoder Lib v2.3.0-61-g66fb0f59\n",
      "Svt[info]: SVT [build]  :\tGCC 11.4.0\t 64 bit\n",
      "Svt[info]: LIB Build date: Nov 27 2024 13:20:34\n",
      "Svt[info]: -------------------------------------------\n",
      "Svt[info]: Level of Parallelism: 5\n",
      "Svt[info]: Number of PPCS 76\n",
      "Svt[info]: [asm level on system : up to avx2]\n",
      "Svt[info]: [asm level selected : up to avx2]\n",
      "Svt[info]: -------------------------------------------\n",
      "Svt[info]: SVT [config]: main profile\ttier (auto)\tlevel (auto)\n",
      "Svt[info]: SVT [config]: width / height / fps numerator / fps denominator \t\t: 96 / 96 / 10 / 1\n",
      "Svt[info]: SVT [config]: bit-depth / color format \t\t\t\t\t: 8 / YUV420\n",
      "Svt[info]: SVT [config]: preset / tune / pred struct \t\t\t\t\t: 10 / PSNR / random access\n",
      "Svt[info]: SVT [config]: gop size / mini-gop size / key-frame type \t\t\t: 2 / 16 / key frame\n",
      "Svt[info]: SVT [config]: BRC mode / rate factor \t\t\t\t\t: CRF / 30 \n",
      "Svt[info]: SVT [config]: AQ mode / variance boost \t\t\t\t\t: 2 / 0\n",
      "Svt[info]: -------------------------------------------\n",
      "Svt[info]: -------------------------------------------\n",
      "Svt[info]: SVT [version]:\tSVT-AV1 Encoder Lib v2.3.0-61-g66fb0f59\n",
      "Svt[info]: SVT [build]  :\tGCC 11.4.0\t 64 bit\n",
      "Svt[info]: LIB Build date: Nov 27 2024 13:20:34\n",
      "Svt[info]: -------------------------------------------\n",
      "Svt[info]: Level of Parallelism: 5\n",
      "Svt[info]: Number of PPCS 76\n",
      "Svt[info]: [asm level on system : up to avx2]\n",
      "Svt[info]: [asm level selected : up to avx2]\n",
      "Svt[info]: -------------------------------------------\n",
      "Svt[info]: SVT [config]: main profile\ttier (auto)\tlevel (auto)\n",
      "Svt[info]: SVT [config]: width / height / fps numerator / fps denominator \t\t: 96 / 96 / 10 / 1\n",
      "Svt[info]: SVT [config]: bit-depth / color format \t\t\t\t\t: 8 / YUV420\n",
      "Svt[info]: SVT [config]: preset / tune / pred struct \t\t\t\t\t: 10 / PSNR / random access\n",
      "Svt[info]: SVT [config]: gop size / mini-gop size / key-frame type \t\t\t: 2 / 16 / key frame\n",
      "Svt[info]: SVT [config]: BRC mode / rate factor \t\t\t\t\t: CRF / 30 \n",
      "Svt[info]: SVT [config]: AQ mode / variance boost \t\t\t\t\t: 2 / 0\n",
      "Svt[info]: -------------------------------------------\n",
      "Svt[info]: -------------------------------------------\n",
      "Svt[info]: SVT [version]:\tSVT-AV1 Encoder Lib v2.3.0-61-g66fb0f59\n",
      "Svt[info]: SVT [build]  :\tGCC 11.4.0\t 64 bit\n",
      "Svt[info]: LIB Build date: Nov 27 2024 13:20:34\n",
      "Svt[info]: -------------------------------------------\n",
      "Svt[info]: Level of Parallelism: 5\n",
      "Svt[info]: Number of PPCS 76\n",
      "Svt[info]: [asm level on system : up to avx2]\n",
      "Svt[info]: [asm level selected : up to avx2]\n",
      "Svt[info]: -------------------------------------------\n",
      "Svt[info]: SVT [config]: main profile\ttier (auto)\tlevel (auto)\n",
      "Svt[info]: SVT [config]: width / height / fps numerator / fps denominator \t\t: 96 / 96 / 10 / 1\n",
      "Svt[info]: SVT [config]: bit-depth / color format \t\t\t\t\t: 8 / YUV420\n",
      "Svt[info]: SVT [config]: preset / tune / pred struct \t\t\t\t\t: 10 / PSNR / random access\n",
      "Svt[info]: SVT [config]: gop size / mini-gop size / key-frame type \t\t\t: 2 / 16 / key frame\n",
      "Svt[info]: SVT [config]: BRC mode / rate factor \t\t\t\t\t: CRF / 30 \n",
      "Svt[info]: SVT [config]: AQ mode / variance boost \t\t\t\t\t: 2 / 0\n",
      "Svt[info]: -------------------------------------------\n",
      "Svt[info]: -------------------------------------------\n",
      "Svt[info]: SVT [version]:\tSVT-AV1 Encoder Lib v2.3.0-61-g66fb0f59\n",
      "Svt[info]: SVT [build]  :\tGCC 11.4.0\t 64 bit\n",
      "Svt[info]: LIB Build date: Nov 27 2024 13:20:34\n",
      "Svt[info]: -------------------------------------------\n",
      "Svt[info]: Level of Parallelism: 5\n",
      "Svt[info]: Number of PPCS 76\n",
      "Svt[info]: [asm level on system : up to avx2]\n",
      "Svt[info]: [asm level selected : up to avx2]\n",
      "Svt[info]: -------------------------------------------\n",
      "Svt[info]: SVT [config]: main profile\ttier (auto)\tlevel (auto)\n",
      "Svt[info]: SVT [config]: width / height / fps numerator / fps denominator \t\t: 96 / 96 / 10 / 1\n",
      "Svt[info]: SVT [config]: bit-depth / color format \t\t\t\t\t: 8 / YUV420\n",
      "Svt[info]: SVT [config]: preset / tune / pred struct \t\t\t\t\t: 10 / PSNR / random access\n",
      "Svt[info]: SVT [config]: gop size / mini-gop size / key-frame type \t\t\t: 2 / 16 / key frame\n",
      "Svt[info]: SVT [config]: BRC mode / rate factor \t\t\t\t\t: CRF / 30 \n",
      "Svt[info]: SVT [config]: AQ mode / variance boost \t\t\t\t\t: 2 / 0\n",
      "Svt[info]: -------------------------------------------\n",
      "Svt[info]: -------------------------------------------\n",
      "Svt[info]: SVT [version]:\tSVT-AV1 Encoder Lib v2.3.0-61-g66fb0f59\n",
      "Svt[info]: SVT [build]  :\tGCC 11.4.0\t 64 bit\n",
      "Svt[info]: LIB Build date: Nov 27 2024 13:20:34\n",
      "Svt[info]: -------------------------------------------\n",
      "Svt[info]: Level of Parallelism: 5\n",
      "Svt[info]: Number of PPCS 76\n",
      "Svt[info]: [asm level on system : up to avx2]\n",
      "Svt[info]: [asm level selected : up to avx2]\n",
      "Svt[info]: -------------------------------------------\n",
      "Svt[info]: SVT [config]: main profile\ttier (auto)\tlevel (auto)\n",
      "Svt[info]: SVT [config]: width / height / fps numerator / fps denominator \t\t: 96 / 96 / 10 / 1\n",
      "Svt[info]: SVT [config]: bit-depth / color format \t\t\t\t\t: 8 / YUV420\n",
      "Svt[info]: SVT [config]: preset / tune / pred struct \t\t\t\t\t: 10 / PSNR / random access\n",
      "Svt[info]: SVT [config]: gop size / mini-gop size / key-frame type \t\t\t: 2 / 16 / key frame\n",
      "Svt[info]: SVT [config]: BRC mode / rate factor \t\t\t\t\t: CRF / 30 \n",
      "Svt[info]: SVT [config]: AQ mode / variance boost \t\t\t\t\t: 2 / 0\n",
      "Svt[info]: -------------------------------------------\n",
      "Svt[info]: -------------------------------------------\n",
      "Svt[info]: SVT [version]:\tSVT-AV1 Encoder Lib v2.3.0-61-g66fb0f59\n",
      "Svt[info]: SVT [build]  :\tGCC 11.4.0\t 64 bit\n",
      "Svt[info]: LIB Build date: Nov 27 2024 13:20:34\n",
      "Svt[info]: -------------------------------------------\n",
      "Svt[info]: Level of Parallelism: 5\n",
      "Svt[info]: Number of PPCS 76\n",
      "Svt[info]: [asm level on system : up to avx2]\n",
      "Svt[info]: [asm level selected : up to avx2]\n",
      "Svt[info]: -------------------------------------------\n",
      "Svt[info]: SVT [config]: main profile\ttier (auto)\tlevel (auto)\n",
      "Svt[info]: SVT [config]: width / height / fps numerator / fps denominator \t\t: 96 / 96 / 10 / 1\n",
      "Svt[info]: SVT [config]: bit-depth / color format \t\t\t\t\t: 8 / YUV420\n",
      "Svt[info]: SVT [config]: preset / tune / pred struct \t\t\t\t\t: 10 / PSNR / random access\n",
      "Svt[info]: SVT [config]: gop size / mini-gop size / key-frame type \t\t\t: 2 / 16 / key frame\n",
      "Svt[info]: SVT [config]: BRC mode / rate factor \t\t\t\t\t: CRF / 30 \n",
      "Svt[info]: SVT [config]: AQ mode / variance boost \t\t\t\t\t: 2 / 0\n",
      "Svt[info]: -------------------------------------------\n",
      "Svt[info]: -------------------------------------------\n",
      "Svt[info]: SVT [version]:\tSVT-AV1 Encoder Lib v2.3.0-61-g66fb0f59\n",
      "Svt[info]: SVT [build]  :\tGCC 11.4.0\t 64 bit\n",
      "Svt[info]: LIB Build date: Nov 27 2024 13:20:34\n",
      "Svt[info]: -------------------------------------------\n",
      "Svt[info]: Level of Parallelism: 5\n",
      "Svt[info]: Number of PPCS 76\n",
      "Svt[info]: [asm level on system : up to avx2]\n",
      "Svt[info]: [asm level selected : up to avx2]\n",
      "Svt[info]: -------------------------------------------\n",
      "Svt[info]: SVT [config]: main profile\ttier (auto)\tlevel (auto)\n",
      "Svt[info]: SVT [config]: width / height / fps numerator / fps denominator \t\t: 96 / 96 / 10 / 1\n",
      "Svt[info]: SVT [config]: bit-depth / color format \t\t\t\t\t: 8 / YUV420\n",
      "Svt[info]: SVT [config]: preset / tune / pred struct \t\t\t\t\t: 10 / PSNR / random access\n",
      "Svt[info]: SVT [config]: gop size / mini-gop size / key-frame type \t\t\t: 2 / 16 / key frame\n",
      "Svt[info]: SVT [config]: BRC mode / rate factor \t\t\t\t\t: CRF / 30 \n",
      "Svt[info]: SVT [config]: AQ mode / variance boost \t\t\t\t\t: 2 / 0\n",
      "Svt[info]: -------------------------------------------\n",
      "Svt[info]: -------------------------------------------\n",
      "Svt[info]: SVT [version]:\tSVT-AV1 Encoder Lib v2.3.0-61-g66fb0f59\n",
      "Svt[info]: SVT [build]  :\tGCC 11.4.0\t 64 bit\n",
      "Svt[info]: LIB Build date: Nov 27 2024 13:20:34\n",
      "Svt[info]: -------------------------------------------\n",
      "Svt[info]: Level of Parallelism: 5\n",
      "Svt[info]: Number of PPCS 76\n",
      "Svt[info]: [asm level on system : up to avx2]\n",
      "Svt[info]: [asm level selected : up to avx2]\n",
      "Svt[info]: -------------------------------------------\n",
      "Svt[info]: SVT [config]: main profile\ttier (auto)\tlevel (auto)\n",
      "Svt[info]: SVT [config]: width / height / fps numerator / fps denominator \t\t: 96 / 96 / 10 / 1\n",
      "Svt[info]: SVT [config]: bit-depth / color format \t\t\t\t\t: 8 / YUV420\n",
      "Svt[info]: SVT [config]: preset / tune / pred struct \t\t\t\t\t: 10 / PSNR / random access\n",
      "Svt[info]: SVT [config]: gop size / mini-gop size / key-frame type \t\t\t: 2 / 16 / key frame\n",
      "Svt[info]: SVT [config]: BRC mode / rate factor \t\t\t\t\t: CRF / 30 \n",
      "Svt[info]: SVT [config]: AQ mode / variance boost \t\t\t\t\t: 2 / 0\n",
      "Svt[info]: -------------------------------------------\n",
      "Svt[info]: -------------------------------------------\n",
      "Svt[info]: SVT [version]:\tSVT-AV1 Encoder Lib v2.3.0-61-g66fb0f59\n",
      "Svt[info]: SVT [build]  :\tGCC 11.4.0\t 64 bit\n",
      "Svt[info]: LIB Build date: Nov 27 2024 13:20:34\n",
      "Svt[info]: -------------------------------------------\n",
      "Svt[info]: Level of Parallelism: 5\n",
      "Svt[info]: Number of PPCS 76\n",
      "Svt[info]: [asm level on system : up to avx2]\n",
      "Svt[info]: [asm level selected : up to avx2]\n",
      "Svt[info]: -------------------------------------------\n",
      "Svt[info]: SVT [config]: main profile\ttier (auto)\tlevel (auto)\n",
      "Svt[info]: SVT [config]: width / height / fps numerator / fps denominator \t\t: 96 / 96 / 10 / 1\n",
      "Svt[info]: SVT [config]: bit-depth / color format \t\t\t\t\t: 8 / YUV420\n",
      "Svt[info]: SVT [config]: preset / tune / pred struct \t\t\t\t\t: 10 / PSNR / random access\n",
      "Svt[info]: SVT [config]: gop size / mini-gop size / key-frame type \t\t\t: 2 / 16 / key frame\n",
      "Svt[info]: SVT [config]: BRC mode / rate factor \t\t\t\t\t: CRF / 30 \n",
      "Svt[info]: SVT [config]: AQ mode / variance boost \t\t\t\t\t: 2 / 0\n",
      "Svt[info]: -------------------------------------------\n",
      "Svt[info]: -------------------------------------------\n",
      "Svt[info]: SVT [version]:\tSVT-AV1 Encoder Lib v2.3.0-61-g66fb0f59\n",
      "Svt[info]: SVT [build]  :\tGCC 11.4.0\t 64 bit\n",
      "Svt[info]: LIB Build date: Nov 27 2024 13:20:34\n",
      "Svt[info]: -------------------------------------------\n",
      "Svt[info]: Level of Parallelism: 5\n",
      "Svt[info]: Number of PPCS 76\n",
      "Svt[info]: [asm level on system : up to avx2]\n",
      "Svt[info]: [asm level selected : up to avx2]\n",
      "Svt[info]: -------------------------------------------\n",
      "Svt[info]: SVT [config]: main profile\ttier (auto)\tlevel (auto)\n",
      "Svt[info]: SVT [config]: width / height / fps numerator / fps denominator \t\t: 96 / 96 / 10 / 1\n",
      "Svt[info]: SVT [config]: bit-depth / color format \t\t\t\t\t: 8 / YUV420\n",
      "Svt[info]: SVT [config]: preset / tune / pred struct \t\t\t\t\t: 10 / PSNR / random access\n",
      "Svt[info]: SVT [config]: gop size / mini-gop size / key-frame type \t\t\t: 2 / 16 / key frame\n",
      "Svt[info]: SVT [config]: BRC mode / rate factor \t\t\t\t\t: CRF / 30 \n",
      "Svt[info]: SVT [config]: AQ mode / variance boost \t\t\t\t\t: 2 / 0\n",
      "Svt[info]: -------------------------------------------\n",
      "Svt[info]: -------------------------------------------\n",
      "Svt[info]: SVT [version]:\tSVT-AV1 Encoder Lib v2.3.0-61-g66fb0f59\n",
      "Svt[info]: SVT [build]  :\tGCC 11.4.0\t 64 bit\n",
      "Svt[info]: LIB Build date: Nov 27 2024 13:20:34\n",
      "Svt[info]: -------------------------------------------\n",
      "Svt[info]: Level of Parallelism: 5\n",
      "Svt[info]: Number of PPCS 76\n",
      "Svt[info]: [asm level on system : up to avx2]\n",
      "Svt[info]: [asm level selected : up to avx2]\n",
      "Svt[info]: -------------------------------------------\n",
      "Svt[info]: SVT [config]: main profile\ttier (auto)\tlevel (auto)\n",
      "Svt[info]: SVT [config]: width / height / fps numerator / fps denominator \t\t: 96 / 96 / 10 / 1\n",
      "Svt[info]: SVT [config]: bit-depth / color format \t\t\t\t\t: 8 / YUV420\n",
      "Svt[info]: SVT [config]: preset / tune / pred struct \t\t\t\t\t: 10 / PSNR / random access\n",
      "Svt[info]: SVT [config]: gop size / mini-gop size / key-frame type \t\t\t: 2 / 16 / key frame\n",
      "Svt[info]: SVT [config]: BRC mode / rate factor \t\t\t\t\t: CRF / 30 \n",
      "Svt[info]: SVT [config]: AQ mode / variance boost \t\t\t\t\t: 2 / 0\n",
      "Svt[info]: -------------------------------------------\n",
      "Svt[info]: -------------------------------------------\n",
      "Svt[info]: SVT [version]:\tSVT-AV1 Encoder Lib v2.3.0-61-g66fb0f59\n",
      "Svt[info]: SVT [build]  :\tGCC 11.4.0\t 64 bit\n",
      "Svt[info]: LIB Build date: Nov 27 2024 13:20:34\n",
      "Svt[info]: -------------------------------------------\n",
      "Svt[info]: Level of Parallelism: 5\n",
      "Svt[info]: Number of PPCS 76\n",
      "Svt[info]: [asm level on system : up to avx2]\n",
      "Svt[info]: [asm level selected : up to avx2]\n",
      "Svt[info]: -------------------------------------------\n",
      "Svt[info]: SVT [config]: main profile\ttier (auto)\tlevel (auto)\n",
      "Svt[info]: SVT [config]: width / height / fps numerator / fps denominator \t\t: 96 / 96 / 10 / 1\n",
      "Svt[info]: SVT [config]: bit-depth / color format \t\t\t\t\t: 8 / YUV420\n",
      "Svt[info]: SVT [config]: preset / tune / pred struct \t\t\t\t\t: 10 / PSNR / random access\n",
      "Svt[info]: SVT [config]: gop size / mini-gop size / key-frame type \t\t\t: 2 / 16 / key frame\n",
      "Svt[info]: SVT [config]: BRC mode / rate factor \t\t\t\t\t: CRF / 30 \n",
      "Svt[info]: SVT [config]: AQ mode / variance boost \t\t\t\t\t: 2 / 0\n",
      "Svt[info]: -------------------------------------------\n",
      "Svt[info]: -------------------------------------------\n",
      "Svt[info]: SVT [version]:\tSVT-AV1 Encoder Lib v2.3.0-61-g66fb0f59\n",
      "Svt[info]: SVT [build]  :\tGCC 11.4.0\t 64 bit\n",
      "Svt[info]: LIB Build date: Nov 27 2024 13:20:34\n",
      "Svt[info]: -------------------------------------------\n",
      "Svt[info]: Level of Parallelism: 5\n",
      "Svt[info]: Number of PPCS 76\n",
      "Svt[info]: [asm level on system : up to avx2]\n",
      "Svt[info]: [asm level selected : up to avx2]\n",
      "Svt[info]: -------------------------------------------\n",
      "Svt[info]: SVT [config]: main profile\ttier (auto)\tlevel (auto)\n",
      "Svt[info]: SVT [config]: width / height / fps numerator / fps denominator \t\t: 96 / 96 / 10 / 1\n",
      "Svt[info]: SVT [config]: bit-depth / color format \t\t\t\t\t: 8 / YUV420\n",
      "Svt[info]: SVT [config]: preset / tune / pred struct \t\t\t\t\t: 10 / PSNR / random access\n",
      "Svt[info]: SVT [config]: gop size / mini-gop size / key-frame type \t\t\t: 2 / 16 / key frame\n",
      "Svt[info]: SVT [config]: BRC mode / rate factor \t\t\t\t\t: CRF / 30 \n",
      "Svt[info]: SVT [config]: AQ mode / variance boost \t\t\t\t\t: 2 / 0\n",
      "Svt[info]: -------------------------------------------\n",
      "Svt[info]: -------------------------------------------\n",
      "Svt[info]: SVT [version]:\tSVT-AV1 Encoder Lib v2.3.0-61-g66fb0f59\n",
      "Svt[info]: SVT [build]  :\tGCC 11.4.0\t 64 bit\n",
      "Svt[info]: LIB Build date: Nov 27 2024 13:20:34\n",
      "Svt[info]: -------------------------------------------\n",
      "Svt[info]: Level of Parallelism: 5\n",
      "Svt[info]: Number of PPCS 76\n",
      "Svt[info]: [asm level on system : up to avx2]\n",
      "Svt[info]: [asm level selected : up to avx2]\n",
      "Svt[info]: -------------------------------------------\n",
      "Svt[info]: SVT [config]: main profile\ttier (auto)\tlevel (auto)\n",
      "Svt[info]: SVT [config]: width / height / fps numerator / fps denominator \t\t: 96 / 96 / 10 / 1\n",
      "Svt[info]: SVT [config]: bit-depth / color format \t\t\t\t\t: 8 / YUV420\n",
      "Svt[info]: SVT [config]: preset / tune / pred struct \t\t\t\t\t: 10 / PSNR / random access\n",
      "Svt[info]: SVT [config]: gop size / mini-gop size / key-frame type \t\t\t: 2 / 16 / key frame\n",
      "Svt[info]: SVT [config]: BRC mode / rate factor \t\t\t\t\t: CRF / 30 \n",
      "Svt[info]: SVT [config]: AQ mode / variance boost \t\t\t\t\t: 2 / 0\n",
      "Svt[info]: -------------------------------------------\n",
      "Svt[info]: -------------------------------------------\n",
      "Svt[info]: SVT [version]:\tSVT-AV1 Encoder Lib v2.3.0-61-g66fb0f59\n",
      "Svt[info]: SVT [build]  :\tGCC 11.4.0\t 64 bit\n",
      "Svt[info]: LIB Build date: Nov 27 2024 13:20:34\n",
      "Svt[info]: -------------------------------------------\n",
      "Svt[info]: Level of Parallelism: 5\n",
      "Svt[info]: Number of PPCS 76\n",
      "Svt[info]: [asm level on system : up to avx2]\n",
      "Svt[info]: [asm level selected : up to avx2]\n",
      "Svt[info]: -------------------------------------------\n",
      "Svt[info]: SVT [config]: main profile\ttier (auto)\tlevel (auto)\n",
      "Svt[info]: SVT [config]: width / height / fps numerator / fps denominator \t\t: 96 / 96 / 10 / 1\n",
      "Svt[info]: SVT [config]: bit-depth / color format \t\t\t\t\t: 8 / YUV420\n",
      "Svt[info]: SVT [config]: preset / tune / pred struct \t\t\t\t\t: 10 / PSNR / random access\n",
      "Svt[info]: SVT [config]: gop size / mini-gop size / key-frame type \t\t\t: 2 / 16 / key frame\n",
      "Svt[info]: SVT [config]: BRC mode / rate factor \t\t\t\t\t: CRF / 30 \n",
      "Svt[info]: SVT [config]: AQ mode / variance boost \t\t\t\t\t: 2 / 0\n",
      "Svt[info]: -------------------------------------------\n",
      "Svt[info]: -------------------------------------------\n",
      "Svt[info]: SVT [version]:\tSVT-AV1 Encoder Lib v2.3.0-61-g66fb0f59\n",
      "Svt[info]: SVT [build]  :\tGCC 11.4.0\t 64 bit\n",
      "Svt[info]: LIB Build date: Nov 27 2024 13:20:34\n",
      "Svt[info]: -------------------------------------------\n",
      "Svt[info]: Level of Parallelism: 5\n",
      "Svt[info]: Number of PPCS 76\n",
      "Svt[info]: [asm level on system : up to avx2]\n",
      "Svt[info]: [asm level selected : up to avx2]\n",
      "Svt[info]: -------------------------------------------\n",
      "Svt[info]: SVT [config]: main profile\ttier (auto)\tlevel (auto)\n",
      "Svt[info]: SVT [config]: width / height / fps numerator / fps denominator \t\t: 96 / 96 / 10 / 1\n",
      "Svt[info]: SVT [config]: bit-depth / color format \t\t\t\t\t: 8 / YUV420\n",
      "Svt[info]: SVT [config]: preset / tune / pred struct \t\t\t\t\t: 10 / PSNR / random access\n",
      "Svt[info]: SVT [config]: gop size / mini-gop size / key-frame type \t\t\t: 2 / 16 / key frame\n",
      "Svt[info]: SVT [config]: BRC mode / rate factor \t\t\t\t\t: CRF / 30 \n",
      "Svt[info]: SVT [config]: AQ mode / variance boost \t\t\t\t\t: 2 / 0\n",
      "Svt[info]: -------------------------------------------\n",
      "Svt[info]: -------------------------------------------\n",
      "Svt[info]: SVT [version]:\tSVT-AV1 Encoder Lib v2.3.0-61-g66fb0f59\n",
      "Svt[info]: SVT [build]  :\tGCC 11.4.0\t 64 bit\n",
      "Svt[info]: LIB Build date: Nov 27 2024 13:20:34\n",
      "Svt[info]: -------------------------------------------\n",
      "Svt[info]: Level of Parallelism: 5\n",
      "Svt[info]: Number of PPCS 76\n",
      "Svt[info]: [asm level on system : up to avx2]\n",
      "Svt[info]: [asm level selected : up to avx2]\n",
      "Svt[info]: -------------------------------------------\n",
      "Svt[info]: SVT [config]: main profile\ttier (auto)\tlevel (auto)\n",
      "Svt[info]: SVT [config]: width / height / fps numerator / fps denominator \t\t: 96 / 96 / 10 / 1\n",
      "Svt[info]: SVT [config]: bit-depth / color format \t\t\t\t\t: 8 / YUV420\n",
      "Svt[info]: SVT [config]: preset / tune / pred struct \t\t\t\t\t: 10 / PSNR / random access\n",
      "Svt[info]: SVT [config]: gop size / mini-gop size / key-frame type \t\t\t: 2 / 16 / key frame\n",
      "Svt[info]: SVT [config]: BRC mode / rate factor \t\t\t\t\t: CRF / 30 \n",
      "Svt[info]: SVT [config]: AQ mode / variance boost \t\t\t\t\t: 2 / 0\n",
      "Svt[info]: -------------------------------------------\n",
      "Svt[info]: -------------------------------------------\n",
      "Svt[info]: SVT [version]:\tSVT-AV1 Encoder Lib v2.3.0-61-g66fb0f59\n",
      "Svt[info]: SVT [build]  :\tGCC 11.4.0\t 64 bit\n",
      "Svt[info]: LIB Build date: Nov 27 2024 13:20:34\n",
      "Svt[info]: -------------------------------------------\n",
      "Svt[info]: Level of Parallelism: 5\n",
      "Svt[info]: Number of PPCS 76\n",
      "Svt[info]: [asm level on system : up to avx2]\n",
      "Svt[info]: [asm level selected : up to avx2]\n",
      "Svt[info]: -------------------------------------------\n",
      "Svt[info]: SVT [config]: main profile\ttier (auto)\tlevel (auto)\n",
      "Svt[info]: SVT [config]: width / height / fps numerator / fps denominator \t\t: 96 / 96 / 10 / 1\n",
      "Svt[info]: SVT [config]: bit-depth / color format \t\t\t\t\t: 8 / YUV420\n",
      "Svt[info]: SVT [config]: preset / tune / pred struct \t\t\t\t\t: 10 / PSNR / random access\n",
      "Svt[info]: SVT [config]: gop size / mini-gop size / key-frame type \t\t\t: 2 / 16 / key frame\n",
      "Svt[info]: SVT [config]: BRC mode / rate factor \t\t\t\t\t: CRF / 30 \n",
      "Svt[info]: SVT [config]: AQ mode / variance boost \t\t\t\t\t: 2 / 0\n",
      "Svt[info]: -------------------------------------------\n",
      "Svt[info]: -------------------------------------------\n",
      "Svt[info]: SVT [version]:\tSVT-AV1 Encoder Lib v2.3.0-61-g66fb0f59\n",
      "Svt[info]: SVT [build]  :\tGCC 11.4.0\t 64 bit\n",
      "Svt[info]: LIB Build date: Nov 27 2024 13:20:34\n",
      "Svt[info]: -------------------------------------------\n",
      "Svt[info]: Level of Parallelism: 5\n",
      "Svt[info]: Number of PPCS 76\n",
      "Svt[info]: [asm level on system : up to avx2]\n",
      "Svt[info]: [asm level selected : up to avx2]\n",
      "Svt[info]: -------------------------------------------\n",
      "Svt[info]: SVT [config]: main profile\ttier (auto)\tlevel (auto)\n",
      "Svt[info]: SVT [config]: width / height / fps numerator / fps denominator \t\t: 96 / 96 / 10 / 1\n",
      "Svt[info]: SVT [config]: bit-depth / color format \t\t\t\t\t: 8 / YUV420\n",
      "Svt[info]: SVT [config]: preset / tune / pred struct \t\t\t\t\t: 10 / PSNR / random access\n",
      "Svt[info]: SVT [config]: gop size / mini-gop size / key-frame type \t\t\t: 2 / 16 / key frame\n",
      "Svt[info]: SVT [config]: BRC mode / rate factor \t\t\t\t\t: CRF / 30 \n",
      "Svt[info]: SVT [config]: AQ mode / variance boost \t\t\t\t\t: 2 / 0\n",
      "Svt[info]: -------------------------------------------\n",
      "Svt[info]: -------------------------------------------\n",
      "Svt[info]: SVT [version]:\tSVT-AV1 Encoder Lib v2.3.0-61-g66fb0f59\n",
      "Svt[info]: SVT [build]  :\tGCC 11.4.0\t 64 bit\n",
      "Svt[info]: LIB Build date: Nov 27 2024 13:20:34\n",
      "Svt[info]: -------------------------------------------\n",
      "Svt[info]: Level of Parallelism: 5\n",
      "Svt[info]: Number of PPCS 76\n",
      "Svt[info]: [asm level on system : up to avx2]\n",
      "Svt[info]: [asm level selected : up to avx2]\n",
      "Svt[info]: -------------------------------------------\n",
      "Svt[info]: SVT [config]: main profile\ttier (auto)\tlevel (auto)\n",
      "Svt[info]: SVT [config]: width / height / fps numerator / fps denominator \t\t: 96 / 96 / 10 / 1\n",
      "Svt[info]: SVT [config]: bit-depth / color format \t\t\t\t\t: 8 / YUV420\n",
      "Svt[info]: SVT [config]: preset / tune / pred struct \t\t\t\t\t: 10 / PSNR / random access\n",
      "Svt[info]: SVT [config]: gop size / mini-gop size / key-frame type \t\t\t: 2 / 16 / key frame\n",
      "Svt[info]: SVT [config]: BRC mode / rate factor \t\t\t\t\t: CRF / 30 \n",
      "Svt[info]: SVT [config]: AQ mode / variance boost \t\t\t\t\t: 2 / 0\n",
      "Svt[info]: -------------------------------------------\n",
      "Svt[info]: -------------------------------------------\n",
      "Svt[info]: SVT [version]:\tSVT-AV1 Encoder Lib v2.3.0-61-g66fb0f59\n",
      "Svt[info]: SVT [build]  :\tGCC 11.4.0\t 64 bit\n",
      "Svt[info]: LIB Build date: Nov 27 2024 13:20:34\n",
      "Svt[info]: -------------------------------------------\n",
      "Svt[info]: Level of Parallelism: 5\n",
      "Svt[info]: Number of PPCS 76\n",
      "Svt[info]: [asm level on system : up to avx2]\n",
      "Svt[info]: [asm level selected : up to avx2]\n",
      "Svt[info]: -------------------------------------------\n",
      "Svt[info]: SVT [config]: main profile\ttier (auto)\tlevel (auto)\n",
      "Svt[info]: SVT [config]: width / height / fps numerator / fps denominator \t\t: 96 / 96 / 10 / 1\n",
      "Svt[info]: SVT [config]: bit-depth / color format \t\t\t\t\t: 8 / YUV420\n",
      "Svt[info]: SVT [config]: preset / tune / pred struct \t\t\t\t\t: 10 / PSNR / random access\n",
      "Svt[info]: SVT [config]: gop size / mini-gop size / key-frame type \t\t\t: 2 / 16 / key frame\n",
      "Svt[info]: SVT [config]: BRC mode / rate factor \t\t\t\t\t: CRF / 30 \n",
      "Svt[info]: SVT [config]: AQ mode / variance boost \t\t\t\t\t: 2 / 0\n",
      "Svt[info]: -------------------------------------------\n",
      "Svt[info]: -------------------------------------------\n",
      "Svt[info]: SVT [version]:\tSVT-AV1 Encoder Lib v2.3.0-61-g66fb0f59\n",
      "Svt[info]: SVT [build]  :\tGCC 11.4.0\t 64 bit\n",
      "Svt[info]: LIB Build date: Nov 27 2024 13:20:34\n",
      "Svt[info]: -------------------------------------------\n",
      "Svt[info]: Level of Parallelism: 5\n",
      "Svt[info]: Number of PPCS 76\n",
      "Svt[info]: [asm level on system : up to avx2]\n",
      "Svt[info]: [asm level selected : up to avx2]\n",
      "Svt[info]: -------------------------------------------\n",
      "Svt[info]: SVT [config]: main profile\ttier (auto)\tlevel (auto)\n",
      "Svt[info]: SVT [config]: width / height / fps numerator / fps denominator \t\t: 96 / 96 / 10 / 1\n",
      "Svt[info]: SVT [config]: bit-depth / color format \t\t\t\t\t: 8 / YUV420\n",
      "Svt[info]: SVT [config]: preset / tune / pred struct \t\t\t\t\t: 10 / PSNR / random access\n",
      "Svt[info]: SVT [config]: gop size / mini-gop size / key-frame type \t\t\t: 2 / 16 / key frame\n",
      "Svt[info]: SVT [config]: BRC mode / rate factor \t\t\t\t\t: CRF / 30 \n",
      "Svt[info]: SVT [config]: AQ mode / variance boost \t\t\t\t\t: 2 / 0\n",
      "Svt[info]: -------------------------------------------\n",
      "Compute mean, min, max: 100%|█████████▉| 2596/2597 [00:20<00:00, 127.36it/s]\n",
      "Compute std: 100%|█████████▉| 2596/2597 [00:20<00:00, 128.78it/s]\n"
     ]
    },
    {
     "data": {
      "text/plain": [
       "{'mean': tensor([243.2566, 290.8258]),\n",
       " 'std': tensor([85.2653, 86.0241]),\n",
       " 'max': tensor([512., 512.]),\n",
       " 'min': tensor([0.0000, 0.5689])}"
      ]
     },
     "execution_count": 5,
     "metadata": {},
     "output_type": "execute_result"
    }
   ],
   "source": [
    "from lerobot.common.datasets.utils import DEFAULT_FEATURES\n",
    "\n",
    "mapping = {\n",
    "    'image': 'observation.image',\n",
    "    'state': 'observation.state',\n",
    "    'action': 'action',\n",
    "    'reward': 'next.reward',\n",
    "}\n",
    "\n",
    "\n",
    "for f in files:\n",
    "    # read, convert to a dictionary NOTE: this is necessary to make the arrays writeable for some reason\n",
    "    data = np.load(f); data = dict(data)\n",
    "\n",
    "    nsteps = len(data['image'])\n",
    "    for t in range(nsteps):\n",
    "        frame = {}\n",
    "        for local_key, lerobot_key in mapping.items():\n",
    "            frame[lerobot_key] = data[local_key][t]\n",
    "            if local_key == 'action': \n",
    "                frame[lerobot_key] = (frame[lerobot_key] + 1.) * 256 # NOTE: specifically for gym-pusht\n",
    "\n",
    "        frame['next.success'] = data['is_last'][t]\n",
    "        dataset.add_frame(frame)\n",
    "\n",
    "    dataset.save_episode('pusht', encode_videos=False)\n",
    "dataset.consolidate()\n",
    "dataset.meta.stats['action']\n"
   ]
  },
  {
   "cell_type": "code",
   "execution_count": 6,
   "metadata": {},
   "outputs": [
    {
     "data": {
      "text/plain": [
       "'~/.cache/huggingface/hub/datasets--pushtv2'"
      ]
     },
     "execution_count": 6,
     "metadata": {},
     "output_type": "execute_result"
    }
   ],
   "source": [
    "src = root\n",
    "dst = '~/.cache/huggingface/hub/datasets--pushtv2'\n",
    "shutil.rmtree(dst)\n",
    "shutil.copytree(src, dst)\n",
    "\n",
    "# LeRobotDataset.create(repo_id,fps=10, root=root)"
   ]
  },
  {
   "cell_type": "code",
   "execution_count": 6,
   "metadata": {},
   "outputs": [],
   "source": [
    "import tqdm\n",
    "import torch\n",
    "import einops\n",
    "import shutil\n",
    "from PIL import Image as PILImage\n",
    "import cv2\n",
    "\n",
    "from lerobot.common.datasets.push_dataset_to_hub.utils import concatenate_episodes, save_images_concurrently\n",
    "from lerobot.common.datasets.compute_stats import compute_stats\n",
    "from lerobot.scripts.push_dataset_to_hub import save_meta_data\n",
    "from lerobot.common.datasets.video_utils import VideoFrame, encode_video_frames\n",
    "from lerobot.common.datasets.utils import orhf_transform_to_torch\n",
    "from datasets import Dataset, Features, Image, Sequence, Value\n",
    "\n",
    "def to_hf_dataset(data_dict, video):\n",
    "    features = {}\n",
    "\n",
    "    if video:\n",
    "        features[\"observation.image\"] = VideoFrame()\n",
    "    else:\n",
    "        features[\"observation.image\"] = Image()\n",
    "\n",
    "    features[\"observation.state\"] = Sequence(\n",
    "        length=data_dict[\"observation.state\"].shape[1], feature=Value(dtype=\"float32\", id=None)\n",
    "    )\n",
    "    features[\"action\"] = Sequence(\n",
    "        length=data_dict[\"action\"].shape[1], feature=Value(dtype=\"float32\", id=None)\n",
    "    )\n",
    "    features[\"episode_index\"] = Value(dtype=\"int64\", id=None)\n",
    "    features[\"frame_index\"] = Value(dtype=\"int64\", id=None)\n",
    "    features[\"timestamp\"] = Value(dtype=\"float32\", id=None)\n",
    "    features[\"next.reward\"] = Value(dtype=\"float32\", id=None)\n",
    "    features[\"next.done\"] = Value(dtype=\"bool\", id=None)\n",
    "    features[\"index\"] = Value(dtype=\"int64\", id=None)\n",
    "    # TODO(rcadene): add success\n",
    "    # features[\"next.success\"] = Value(dtype='bool', id=None)\n",
    "\n",
    "    hf_dataset = Dataset.from_dict(data_dict, features=Features(features))\n",
    "    hf_dataset.set_transform(hf_transform_to_torch)\n",
    "    return hf_dataset\n",
    "\n",
    "def files_to_data_dict(files):\n",
    "    data_dicts = []\n",
    "    for data_fn in files:\n",
    "        print(f\"Processing {data_fn}\", end='...')\n",
    "        data = np.load(data_fn)\n",
    "        data = dict(data); \n",
    "        data[\"is_terminal\"][-1] = True\n",
    "        data_dicts.append(data)\n",
    "    print()\n",
    "    big_data_dict = {}\n",
    "    for k in data_dicts[0].keys():\n",
    "        big_data_dict[k] = np.concatenate([d[k] for d in data_dicts], axis=0)\n",
    "        print(k, big_data_dict[k].shape)\n",
    "        # if 'reward' in big_data_dict:\n",
    "        #     for kk in ['reward', 'is_terminal', 'is_last']:\n",
    "        #         print(f\"\\t{kk} {sum(big_data_dict[kk])}\", end='  ')\n",
    "    return big_data_dict\n",
    "\n",
    "# big_data_dict = files_to_data_dict(files)"
   ]
  },
  {
   "cell_type": "code",
   "execution_count": 7,
   "metadata": {},
   "outputs": [],
   "source": [
    "def fastrl_to_hf(big_data_dict, out_dir):\n",
    "    video = False; fps = 10; video_path = None; debug = False\n",
    "    ep_dicts = []\n",
    "    episode_data_index = {\"from\": [], \"to\": []}\n",
    "\n",
    "    id_from = 0\n",
    "    id_to = 0\n",
    "    ep_idx = 0\n",
    "    data = big_data_dict\n",
    "    total_frames = data[\"action\"].shape[0]\n",
    "# for i in tqdm.tqdm(range(total_frames)):\n",
    "    for i in range(total_frames):\n",
    "        id_to += 1\n",
    "\n",
    "        if not data[\"is_terminal\"][i]:\n",
    "            continue\n",
    "\n",
    "    # print(\"found terminal step\")\n",
    "\n",
    "        num_frames = id_to - id_from\n",
    "\n",
    "        image = torch.tensor(data[\"image\"][id_from:id_to])\n",
    "    # image = einops.rearrange(image, \"b h w c -> b h w c\")\n",
    "    # image = einops.rearrange(image, \"b c h w -> b h w c\")\n",
    "        state = torch.tensor(data[\"state\"][id_from:id_to, :2]) if (\"state\" in data) else torch.zeros(num_frames, 1)\n",
    "    # state = torch.tensor(data[\"vector_state\"][id_from:id_to]) if (\"vector_state\" in data) else torch.zeros(num_frames, 1)\n",
    "        action = (torch.tensor(data[\"action\"][id_from:id_to]) + 1) * 256\n",
    "    # action = torch.tensor(data[\"action\"][id_from:id_to])\n",
    "    # TODO(rcadene): we have a missing last frame which is the observation when the env is done\n",
    "    # it is critical to have this frame for tdmpc to predict a \"done observation/state\"\n",
    "    # next_image = torch.tensor(data[\"next_observations\"][\"rgb\"][id_from:id_to])\n",
    "    # next_state = torch.tensor(data[\"next_observations\"][\"state\"][id_from:id_to])\n",
    "        next_reward = torch.tensor(data[\"reward\"][id_from:id_to])\n",
    "        next_done = torch.tensor(data[\"is_terminal\"][id_from:id_to])\n",
    "\n",
    "        ep_dict = {}\n",
    "\n",
    "        imgs_array = [x.numpy() for x in image]\n",
    "        img_key = \"observation.image\"\n",
    "        if video:\n",
    "        # save png images in temporary directory\n",
    "            tmp_imgs_dir = out_dir / \"tmp_images\"\n",
    "            tmp_imgs_dir.mkdir(parents=True, exist_ok=True)\n",
    "\n",
    "            for i in range(len(imgs_array)):\n",
    "                img = PILImage.fromarray(imgs_array[i])\n",
    "                img.save(str(tmp_imgs_dir / f\"frame_{i:06d}.png\"), quality=100)\n",
    "\n",
    "        # encode images to a mp4 video\n",
    "            fname = f\"{img_key}_episode_{ep_idx:06d}.mp4\"\n",
    "            video_path = out_dir / \"videos\" / fname\n",
    "            encode_video_frames(tmp_imgs_dir, video_path, fps)\n",
    "\n",
    "        # clean temporary images directory\n",
    "            shutil.rmtree(tmp_imgs_dir)\n",
    "\n",
    "        # store the reference to the video frame\n",
    "            ep_dict[img_key] = [{\"path\": f\"videos/{fname}\", \"timestamp\": i / fps} for i in range(num_frames)]\n",
    "        else:\n",
    "        # ep_dict[img_key] = [PILImage.fromarray(x) for x in imgs_array]\n",
    "            ep_dict[img_key] = imgs_array\n",
    "\n",
    "        ep_dict[\"observation.state\"] = state\n",
    "        ep_dict[\"action\"] = action\n",
    "        ep_dict[\"episode_index\"] = torch.tensor([ep_idx] * num_frames, dtype=torch.int64)\n",
    "        ep_dict[\"frame_index\"] = torch.arange(0, num_frames, 1)\n",
    "        ep_dict[\"timestamp\"] = torch.arange(0, num_frames, 1) / fps\n",
    "    # ep_dict[\"next.observation.image\"] = next_image\n",
    "    # ep_dict[\"next.observation.state\"] = next_state\n",
    "        ep_dict[\"next.reward\"] = next_reward\n",
    "        ep_dict[\"next.done\"] = next_done\n",
    "        ep_dicts.append(ep_dict)\n",
    "\n",
    "        episode_data_index[\"from\"].append(id_from)\n",
    "        episode_data_index[\"to\"].append(id_from + num_frames)\n",
    "\n",
    "        id_from = id_to\n",
    "        ep_idx += 1\n",
    "\n",
    "    # process first episode only\n",
    "        if debug:\n",
    "            break\n",
    "    if len(ep_dicts) == 0:\n",
    "        print(\"No terminal step found in the dataset\")\n",
    "    else:\n",
    "        for k,v in ep_dicts[0].items():\n",
    "            print(k, ep_dicts[0][k].shape if hasattr(ep_dicts[0][k], 'shape') else len(ep_dicts[0][k]), ep_dicts[-1][k].shape if hasattr(ep_dicts[-1][k], 'shape') else len(ep_dicts[-1][k]))\n",
    "\n",
    "        # convert things to\n",
    "        data_dict = concatenate_episodes(ep_dicts)\n",
    "        data_dict, episode_data_index\n",
    "\n",
    "        for k,v in data_dict.items():\n",
    "            print(k, v.shape if hasattr(v, 'shape') else len(v), type(v))\n",
    "\n",
    "        hf_dataset = to_hf_dataset(data_dict, video)\n",
    "\n",
    "        info = {\"fps\": fps, \"video\": video}\n",
    "\n",
    "        if video_path: \n",
    "            print(f\"video path: {video_path}\")\n",
    "        lerobot_dataset = LeRobotDataset.from_preloaded(\n",
    "            repo_id=env_name,\n",
    "            hf_dataset=hf_dataset,\n",
    "            episode_data_index=episode_data_index,\n",
    "            info=info,\n",
    "            videos_dir=video_path,\n",
    "            )\n",
    "\n",
    "\n",
    "        hf_dataset = hf_dataset.with_format(None)  # to remove transforms that cant be saved\n",
    "        hf_dataset.save_to_disk(str(out_dir / \"train\"))\n",
    "    # print(lerobot_dataset)\n",
    "    stats = compute_stats(lerobot_dataset, batch_size=16, num_workers=1)\n",
    "    save_meta_data(info, stats, episode_data_index, out_dir / \"meta_data\")\n",
    "    return stats\n",
    "\n",
    "# stats = fastrl_to_hf(big_data_dict, out_dir)\n"
   ]
  },
  {
   "cell_type": "code",
   "execution_count": 8,
   "metadata": {},
   "outputs": [],
   "source": [
    "import cv2\n",
    "import numpy as np\n",
    "\n",
    "def resize_images(bdd):\n",
    "    for k in ['pixels', 'image']:\n",
    "        if k in bdd:\n",
    "            print(f\"Original {k} shape:\", bdd[k].shape)\n",
    "\n",
    "            # Reshape if necessary (assuming the images are in NHWC format)\n",
    "            if bdd[k].shape[-1] != 3:\n",
    "                bdd[k] = np.transpose(bdd[k], (0, 2, 3, 1))\n",
    "        \n",
    "            # Get the original dimensions\n",
    "            n, h, w, c = bdd[k].shape\n",
    "        \n",
    "            # Resize to 96x96\n",
    "            resized = np.zeros((n, 96, 96, c), dtype=bdd[k].dtype)\n",
    "            for i in range(n):\n",
    "                resized[i] = cv2.resize(bdd[k][i], (96, 96), interpolation=cv2.INTER_CUBIC)\n",
    "        \n",
    "        # Update the dictionary with resized images\n",
    "            bdd[k] = resized\n",
    "            \n",
    "            print(f\"Resized {k} shape:\", bdd[k].shape)\n",
    "    else:\n",
    "        print(f\"Key '{k}' not found in big_data_dict\")"
   ]
  },
  {
   "cell_type": "code",
   "execution_count": null,
   "metadata": {},
   "outputs": [],
   "source": [
    "# imis = [4, 5, 6, 7, 9, 10] if AI else [3,4,5,6,7,8,9,10]\n",
    "RESIZE_TO_96x96 = False\n",
    "imis = [22] #[11, 12, 13, 14]\n",
    "for ai_tag in [True, False]:\n",
    "    for imi in imis:\n",
    "        files, out_dir = get_files(env_name, imi, AI=ai_tag, resize=RESIZE_TO_96x96)\n",
    "        if files:\n",
    "            big_data_dict = files_to_data_dict(files)\n",
    "            if RESIZE_TO_96x96: resize_images(big_data_dict)\n",
    "            print(f\"Attempting to write to {out_dir}\")\n",
    "            stats = fastrl_to_hf(big_data_dict, out_dir)\n",
    "            # for k,v in stats.items():\n",
    "            #     print(k, v)\n",
    "        else: print(f\"Could not find files for {imi} AI {ai_tag}\")"
   ]
  },
  {
   "cell_type": "code",
   "execution_count": null,
   "metadata": {},
   "outputs": [],
   "source": [
    "video = False; fps = 20; video_path = None; debug = False\n",
    "ep_dicts = []\n",
    "episode_data_index = {\"from\": [], \"to\": []}\n",
    "\n",
    "id_from = 0\n",
    "id_to = 0\n",
    "ep_idx = 0\n",
    "data = big_data_dict\n",
    "total_frames = data[\"action\"].shape[0]\n",
    "# for i in tqdm.tqdm(range(total_frames)):\n",
    "for i in range(total_frames):\n",
    "    id_to += 1\n",
    "\n",
    "    if not data[\"is_terminal\"][i]:\n",
    "        continue\n",
    "\n",
    "# print(\"found terminal step\")\n",
    "\n",
    "    num_frames = id_to - id_from\n",
    "\n",
    "    image = torch.tensor(data[\"image\"][id_from:id_to])\n",
    "# image = einops.rearrange(image, \"b h w c -> b h w c\")\n",
    "# image = einops.rearrange(image, \"b c h w -> b h w c\")\n",
    "    state = torch.tensor(data[\"state\"][id_from:id_to, :2]) if (\"state\" in data) else torch.zeros(num_frames, 1)\n",
    "# state = torch.tensor(data[\"vector_state\"][id_from:id_to]) if (\"vector_state\" in data) else torch.zeros(num_frames, 1)\n",
    "    action = (torch.tensor(data[\"action\"][id_from:id_to]) + 1) * 256\n",
    "# action = torch.tensor(data[\"action\"][id_from:id_to])\n",
    "# TODO(rcadene): we have a missing last frame which is the observation when the env is done\n",
    "# it is critical to have this frame for tdmpc to predict a \"done observation/state\"\n",
    "# next_image = torch.tensor(data[\"next_observations\"][\"rgb\"][id_from:id_to])\n",
    "# next_state = torch.tensor(data[\"next_observations\"][\"state\"][id_from:id_to])\n",
    "    next_reward = torch.tensor(data[\"reward\"][id_from:id_to])\n",
    "    next_done = torch.tensor(data[\"is_terminal\"][id_from:id_to])\n",
    "\n",
    "    ep_dict = {}\n",
    "\n",
    "    imgs_array = [x.numpy() for x in image]\n",
    "    img_key = \"observation.image\"\n",
    "    if video:\n",
    "    # save png images in temporary directory\n",
    "        tmp_imgs_dir = out_dir / \"tmp_images\"\n",
    "        tmp_imgs_dir.mkdir(parents=True, exist_ok=True)\n",
    "\n",
    "        for i in range(len(imgs_array)):\n",
    "            img = PILImage.fromarray(imgs_array[i])\n",
    "            img.save(str(tmp_imgs_dir / f\"frame_{i:06d}.png\"), quality=100)\n",
    "\n",
    "    # encode images to a mp4 video\n",
    "        fname = f\"{img_key}_episode_{ep_idx:06d}.mp4\"\n",
    "        video_path = out_dir / \"videos\" / fname\n",
    "        encode_video_frames(tmp_imgs_dir, video_path, fps)\n",
    "\n",
    "    # clean temporary images directory\n",
    "        shutil.rmtree(tmp_imgs_dir)\n",
    "\n",
    "    # store the reference to the video frame\n",
    "        ep_dict[img_key] = [{\"path\": f\"videos/{fname}\", \"timestamp\": i / fps} for i in range(num_frames)]\n",
    "    else:\n",
    "    # ep_dict[img_key] = [PILImage.fromarray(x) for x in imgs_array]\n",
    "        ep_dict[img_key] = imgs_array\n",
    "\n",
    "    ep_dict[\"observation.state\"] = state\n",
    "    ep_dict[\"action\"] = action\n",
    "    ep_dict[\"episode_index\"] = torch.tensor([ep_idx] * num_frames, dtype=torch.int64)\n",
    "    ep_dict[\"frame_index\"] = torch.arange(0, num_frames, 1)\n",
    "    ep_dict[\"timestamp\"] = torch.arange(0, num_frames, 1) / fps\n",
    "# ep_dict[\"next.observation.image\"] = next_image\n",
    "# ep_dict[\"next.observation.state\"] = next_state\n",
    "    ep_dict[\"next.reward\"] = next_reward\n",
    "    ep_dict[\"next.done\"] = next_done\n",
    "    ep_dicts.append(ep_dict)\n",
    "\n",
    "    episode_data_index[\"from\"].append(id_from)\n",
    "    episode_data_index[\"to\"].append(id_from + num_frames)\n",
    "\n",
    "    id_from = id_to\n",
    "    ep_idx += 1\n",
    "\n",
    "# process first episode only\n",
    "    if debug:\n",
    "        break\n",
    "if len(ep_dicts) == 0:\n",
    "    print(\"No terminal step found in the dataset\")\n",
    "else:\n",
    "    for k,v in ep_dicts[0].items():\n",
    "        print(k, ep_dicts[0][k].shape if hasattr(ep_dicts[0][k], 'shape') else len(ep_dicts[0][k]), ep_dicts[-1][k].shape if hasattr(ep_dicts[-1][k], 'shape') else len(ep_dicts[-1][k]))\n",
    "\n",
    "    # convert things to\n",
    "    data_dict = concatenate_episodes(ep_dicts)"
   ]
  },
  {
   "cell_type": "code",
   "execution_count": null,
   "metadata": {},
   "outputs": [],
   "source": [
    "ep_dicts[0]['observation.image'][0].shape\n",
    "\n",
    "\n",
    "for f,t in zip(episode_data_index['from'], episode_data_index['to']):\n",
    "    print(f, t, data_dict['action'][f:t].shape)"
   ]
  }
 ],
 "metadata": {
  "kernelspec": {
   "display_name": "fastrl",
   "language": "python",
   "name": "fastrl"
  },
  "language_info": {
   "codemirror_mode": {
    "name": "ipython",
    "version": 3
   },
   "file_extension": ".py",
   "mimetype": "text/x-python",
   "name": "python",
   "nbconvert_exporter": "python",
   "pygments_lexer": "ipython3",
   "version": "3.10.12"
  }
 },
 "nbformat": 4,
 "nbformat_minor": 2
}
