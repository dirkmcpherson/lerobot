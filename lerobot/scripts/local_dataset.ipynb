{
 "cells": [
  {
   "cell_type": "code",
   "execution_count": 1,
   "metadata": {},
   "outputs": [],
   "source": [
    "%load_ext autoreload\n",
    "%autoreload 2"
   ]
  },
  {
   "cell_type": "code",
   "execution_count": 2,
   "metadata": {},
   "outputs": [
    {
     "name": "stdout",
     "output_type": "stream",
     "text": [
      "resume: false\n",
      "device: cuda\n",
      "use_amp: false\n",
      "seed: 100000\n",
      "dataset_repo_id: lerobot/pusht\n",
      "video_backend: pyav\n",
      "training:\n",
      "  offline_steps: 200000\n",
      "  num_workers: 4\n",
      "  batch_size: 64\n",
      "  eval_freq: 10000\n",
      "  log_freq: 200\n",
      "  save_checkpoint: true\n",
      "  save_freq: 100000\n",
      "  online_steps: 0\n",
      "  online_rollout_n_episodes: 1\n",
      "  online_rollout_batch_size: 1\n",
      "  online_steps_between_rollouts: 1\n",
      "  online_sampling_ratio: 0.5\n",
      "  online_env_seed: null\n",
      "  online_buffer_capacity: null\n",
      "  online_buffer_seed_size: 0\n",
      "  do_online_rollout_async: false\n",
      "  image_transforms:\n",
      "    enable: false\n",
      "    max_num_transforms: 3\n",
      "    random_order: false\n",
      "    brightness:\n",
      "      weight: 1\n",
      "      min_max:\n",
      "      - 0.8\n",
      "      - 1.2\n",
      "    contrast:\n",
      "      weight: 1\n",
      "      min_max:\n",
      "      - 0.8\n",
      "      - 1.2\n",
      "    saturation:\n",
      "      weight: 1\n",
      "      min_max:\n",
      "      - 0.5\n",
      "      - 1.5\n",
      "    hue:\n",
      "      weight: 1\n",
      "      min_max:\n",
      "      - -0.05\n",
      "      - 0.05\n",
      "    sharpness:\n",
      "      weight: 1\n",
      "      min_max:\n",
      "      - 0.8\n",
      "      - 1.2\n",
      "  grad_clip_norm: 10\n",
      "  lr: 0.0001\n",
      "  lr_scheduler: cosine\n",
      "  lr_warmup_steps: 500\n",
      "  adam_betas:\n",
      "  - 0.95\n",
      "  - 0.999\n",
      "  adam_eps: 1.0e-08\n",
      "  adam_weight_decay: 1.0e-06\n",
      "  delta_timestamps:\n",
      "    observation.image: '[i / ${fps} for i in range(1 - ${policy.n_obs_steps}, 1)]'\n",
      "    observation.state: '[i / ${fps} for i in range(1 - ${policy.n_obs_steps}, 1)]'\n",
      "    action: '[i / ${fps} for i in range(1 - ${policy.n_obs_steps}, 1 - ${policy.n_obs_steps}\n",
      "      + ${policy.horizon})]'\n",
      "  drop_n_last_frames: 7\n",
      "eval:\n",
      "  n_episodes: 50\n",
      "  batch_size: 50\n",
      "  use_async_envs: false\n",
      "wandb:\n",
      "  enable: true\n",
      "  disable_artifact: false\n",
      "  entity: jambotime\n",
      "  project: diffusion_pusht\n",
      "  notes: ''\n",
      "fps: 10\n",
      "env:\n",
      "  name: pusht\n",
      "  task: PushT-v0\n",
      "  image_size: 96\n",
      "  state_dim: 5\n",
      "  action_dim: 2\n",
      "  fps: ${fps}\n",
      "  episode_length: 300\n",
      "  gym:\n",
      "    obs_type: pixels_state\n",
      "    render_mode: rgb_array\n",
      "    visualization_width: 384\n",
      "    visualization_height: 384\n",
      "    observation_width: 96\n",
      "    observation_height: 96\n",
      "    force_sparse: false\n",
      "    display_cross: false\n",
      "override_dataset_stats:\n",
      "  observation.image:\n",
      "    mean:\n",
      "    - - - 0.5\n",
      "    - - - 0.5\n",
      "    - - - 0.5\n",
      "    std:\n",
      "    - - - 0.5\n",
      "    - - - 0.5\n",
      "    - - - 0.5\n",
      "  action:\n",
      "    min:\n",
      "    - 12.0\n",
      "    - 25.0\n",
      "    max:\n",
      "    - 511.0\n",
      "    - 511.0\n",
      "policy:\n",
      "  name: diffusion\n",
      "  n_obs_steps: 2\n",
      "  horizon: 16\n",
      "  n_action_steps: 8\n",
      "  input_shapes:\n",
      "    observation.image:\n",
      "    - 3\n",
      "    - 96\n",
      "    - 96\n",
      "    observation.state:\n",
      "    - ${env.state_dim}\n",
      "  output_shapes:\n",
      "    action:\n",
      "    - ${env.action_dim}\n",
      "  input_normalization_modes:\n",
      "    observation.image: mean_std\n",
      "    observation.state: min_max\n",
      "  output_normalization_modes:\n",
      "    action: min_max\n",
      "  vision_backbone: resnet18\n",
      "  crop_shape:\n",
      "  - 84\n",
      "  - 84\n",
      "  crop_is_random: true\n",
      "  pretrained_backbone_weights: null\n",
      "  use_group_norm: true\n",
      "  spatial_softmax_num_keypoints: 32\n",
      "  down_dims:\n",
      "  - 512\n",
      "  - 1024\n",
      "  - 2048\n",
      "  kernel_size: 5\n",
      "  n_groups: 8\n",
      "  diffusion_step_embed_dim: 128\n",
      "  use_film_scale_modulation: true\n",
      "  noise_scheduler_type: DDPM\n",
      "  num_train_timesteps: 100\n",
      "  beta_schedule: squaredcos_cap_v2\n",
      "  beta_start: 0.0001\n",
      "  beta_end: 0.02\n",
      "  prediction_type: epsilon\n",
      "  clip_sample: true\n",
      "  clip_sample_range: 1.0\n",
      "  num_inference_steps: null\n",
      "  do_mask_loss_for_padding: false\n",
      "\n"
     ]
    }
   ],
   "source": [
    "from pathlib import Path\n",
    "from pprint import pprint\n",
    "\n",
    "import lerobot\n",
    "from lerobot.common.datasets.lerobot_dataset import LeRobotDataset\n",
    "from lerobot.common.datasets.factory import make_dataset\n",
    "\n",
    "\n",
    "from hydra import compose, initialize\n",
    "from omegaconf import OmegaConf\n",
    "\n",
    "# context initialization\n",
    "with initialize(version_base=None, config_path=\"../configs\", job_name=\"test_app\"):\n",
    "    cfg = compose(config_name=\"default\")\n",
    "    print(OmegaConf.to_yaml(cfg))"
   ]
  },
  {
   "cell_type": "code",
   "execution_count": 7,
   "metadata": {},
   "outputs": [
    {
     "name": "stdout",
     "output_type": "stream",
     "text": [
      "[PosixPath('/home/james/workspace/fastrl/logs/HD_pusht_23/HD_pusht_PushT-v0_2024-11-29-13_35_25/20241129T133948-ea0e50f2882741748b554e09e9aced80-89.npz'), PosixPath('/home/james/workspace/fastrl/logs/HD_pusht_23/HD_pusht_PushT-v0_2024-11-29-13_35_25/20241129T133822-39f791a956524f59a230855893aca880-90.npz'), PosixPath('/home/james/workspace/fastrl/logs/HD_pusht_23/HD_pusht_PushT-v0_2024-11-29-13_35_25/20241129T133830-e9ca03bbb01d43ceab8a088e6d13ec49-87.npz'), PosixPath('/home/james/workspace/fastrl/logs/HD_pusht_23/HD_pusht_PushT-v0_2024-11-29-13_35_25/20241129T133603-0c916253d9db4ebab1daba722dacd44a-179.npz'), PosixPath('/home/james/workspace/fastrl/logs/HD_pusht_23/HD_pusht_PushT-v0_2024-11-29-13_35_25/20241129T133920-089291fb3aa7427782cf31024841356d-93.npz'), PosixPath('/home/james/workspace/fastrl/logs/HD_pusht_23/HD_pusht_PushT-v0_2024-11-29-13_35_25/20241129T133754-417748d4fad64cef8aff3810d9f01747-301.npz'), PosixPath('/home/james/workspace/fastrl/logs/HD_pusht_23/HD_pusht_PushT-v0_2024-11-29-13_35_25/20241129T133848-642ce11e6b254575befd456c02af6436-112.npz'), PosixPath('/home/james/workspace/fastrl/logs/HD_pusht_23/HD_pusht_PushT-v0_2024-11-29-13_35_25/20241129T133928-9b998e5faf63417fb587fc61ea2dbc82-213.npz'), PosixPath('/home/james/workspace/fastrl/logs/HD_pusht_23/HD_pusht_PushT-v0_2024-11-29-13_35_25/20241129T133543-846fc63827c542f2a4e351427837491f-74.npz'), PosixPath('/home/james/workspace/fastrl/logs/HD_pusht_23/HD_pusht_PushT-v0_2024-11-29-13_35_25/20241129T133957-c0222fc128404d969dbc46b6aa1a02b7-139.npz'), PosixPath('/home/james/workspace/fastrl/logs/HD_pusht_23/HD_pusht_PushT-v0_2024-11-29-13_35_25/20241129T133631-eb7dbfbb0f9d4908b29e81ffb6716226-301.npz'), PosixPath('/home/james/workspace/fastrl/logs/HD_pusht_23/HD_pusht_PushT-v0_2024-11-29-13_35_25/20241129T133743-9bf1d4a67b51413e8bb5325a025c4286-122.npz'), PosixPath('/home/james/workspace/fastrl/logs/HD_pusht_23/HD_pusht_PushT-v0_2024-11-29-13_35_25/20241129T133837-f306d757d6a14b3298ee2a2706b1bc40-118.npz'), PosixPath('/home/james/workspace/fastrl/logs/HD_pusht_23/HD_pusht_PushT-v0_2024-11-29-13_35_25/20241129T133618-a3c6364ca96e4968ba08ce840f4a81bf-147.npz'), PosixPath('/home/james/workspace/fastrl/logs/HD_pusht_23/HD_pusht_PushT-v0_2024-11-29-13_35_25/20241129T133723-c1fa684b87074ba381ca91bad1c37cf3-224.npz'), PosixPath('/home/james/workspace/fastrl/logs/HD_pusht_23/HD_pusht_PushT-v0_2024-11-29-13_35_25/20241129T133526-a8d22c71bb74497c86a89f910f5dea11-186.npz'), PosixPath('/home/james/workspace/fastrl/logs/HD_pusht_23/HD_pusht_PushT-v0_2024-11-29-13_35_25/20241129T134010-76ab3e786eaf4709b77da41114f06651-97.npz'), PosixPath('/home/james/workspace/fastrl/logs/HD_pusht_23/HD_pusht_PushT-v0_2024-11-29-13_35_25/20241129T133549-f173761be4fc4c29bd6649e4cc26a46a-175.npz'), PosixPath('/home/james/workspace/fastrl/logs/HD_pusht_23/HD_pusht_PushT-v0_2024-11-29-13_35_25/20241129T133858-be293168bc984fdba407a8332b3f165e-229.npz'), PosixPath('/home/james/workspace/fastrl/logs/HD_pusht_23/HD_pusht_PushT-v0_2024-11-29-13_35_25/20241129T133657-1a2d79dce1234429953b6ea72edbdcf7-301.npz'), PosixPath('/home/james/workspace/fastrl/logs/HD_pusht_23/HD_pusht_PushT-v0_2024-11-29-13_14_03/20241129T131553-27727549b6084ad499234b32fe9c92f0-118.npz'), PosixPath('/home/james/workspace/fastrl/logs/HD_pusht_23/HD_pusht_PushT-v0_2024-11-29-13_14_03/20241129T131458-e893626c710b4383b20723bcb43d3fdf-170.npz'), PosixPath('/home/james/workspace/fastrl/logs/HD_pusht_23/HD_pusht_PushT-v0_2024-11-29-13_14_03/20241129T131627-fe5900393e544e3fb4ab219c90a0f786-249.npz'), PosixPath('/home/james/workspace/fastrl/logs/HD_pusht_23/HD_pusht_PushT-v0_2024-11-29-13_14_03/20241129T131420-18367f89ee8b4ef88876bf48fc4e83ab-108.npz'), PosixPath('/home/james/workspace/fastrl/logs/HD_pusht_23/HD_pusht_PushT-v0_2024-11-29-13_14_03/20241129T131604-6dc0b4ca5c0944ac929c9e8a0703e67f-171.npz'), PosixPath('/home/james/workspace/fastrl/logs/HD_pusht_23/HD_pusht_PushT-v0_2024-11-29-13_14_03/20241129T131512-7eb088cb874e43759ecd60d247967d70-165.npz'), PosixPath('/home/james/workspace/fastrl/logs/HD_pusht_23/HD_pusht_PushT-v0_2024-11-29-13_14_03/20241129T131835-900a3936637b4085ac483d5a0d7ac8cc-160.npz'), PosixPath('/home/james/workspace/fastrl/logs/HD_pusht_23/HD_pusht_PushT-v0_2024-11-29-13_14_03/20241129T131736-2f8e12fd02f54e4a89580552d3bbc0a9-301.npz'), PosixPath('/home/james/workspace/fastrl/logs/HD_pusht_23/HD_pusht_PushT-v0_2024-11-29-13_14_03/20241129T131850-8d98e15022ce4b96890bfe06fd726ef0-77.npz'), PosixPath('/home/james/workspace/fastrl/logs/HD_pusht_23/HD_pusht_PushT-v0_2024-11-29-13_14_03/20241129T131526-d2fce510360e4d389a5c551093707a1c-301.npz'), PosixPath('/home/james/workspace/fastrl/logs/HD_pusht_23/HD_pusht_PushT-v0_2024-11-29-13_14_03/20241129T131649-70c0efdb635e4f18ba464924acc9c353-213.npz'), PosixPath('/home/james/workspace/fastrl/logs/HD_pusht_23/HD_pusht_PushT-v0_2024-11-29-13_14_03/20241129T131708-7a5fdaee24a64fbd8c329bc94d927d1e-297.npz'), PosixPath('/home/james/workspace/fastrl/logs/HD_pusht_23/HD_pusht_PushT-v0_2024-11-29-13_14_03/20241129T131430-cf16814866754e168e42bfe8827110af-159.npz'), PosixPath('/home/james/workspace/fastrl/logs/HD_pusht_23/HD_pusht_PushT-v0_2024-11-29-13_14_03/20241129T131404-e1f905de55534367810cd15e69b243ad-182.npz'), PosixPath('/home/james/workspace/fastrl/logs/HD_pusht_23/HD_pusht_PushT-v0_2024-11-29-13_14_03/20241129T131443-e4a49e42bcdf471bb40bebeadfc05647-171.npz'), PosixPath('/home/james/workspace/fastrl/logs/HD_pusht_23/HD_pusht_PushT-v0_2024-11-29-13_14_03/20241129T131805-0b6b4d02b153417db8197c318baedc3b-301.npz'), PosixPath('/home/james/workspace/fastrl/logs/HD_pusht_23/HD_pusht_PushT-v0_2024-11-29-13_14_03/20241129T131619-299a90f86aaa4ac3bf55bde22581f9a3-87.npz'), PosixPath('/home/james/workspace/fastrl/logs/HD_pusht_23/HD_pusht_PushT-v0_2024-11-29-13_14_03/20241129T131857-c3b7ef191b7f4925bc17f3c6f0f4ad20-137.npz'), PosixPath('/home/james/workspace/fastrl/logs/HD_pusht_23/HD_pusht_PushT-v0_2024-11-29-13_22_27/20241129T133208-a67c260cb1494112aba748e7d2777dd4-210.npz'), PosixPath('/home/james/workspace/fastrl/logs/HD_pusht_23/HD_pusht_PushT-v0_2024-11-29-13_22_27/20241129T133315-2d27b7d8cf83493d9b4dbf61865bbf6c-144.npz'), PosixPath('/home/james/workspace/fastrl/logs/HD_pusht_23/HD_pusht_PushT-v0_2024-11-29-13_22_27/20241129T133232-67e150ef209c47d3b2464e001ead8a23-143.npz'), PosixPath('/home/james/workspace/fastrl/logs/HD_pusht_23/HD_pusht_PushT-v0_2024-11-29-13_22_27/20241129T132441-86ae2234a86546429abad62c72ade83f-237.npz'), PosixPath('/home/james/workspace/fastrl/logs/HD_pusht_23/HD_pusht_PushT-v0_2024-11-29-13_22_27/20241129T132502-ae50fc5a62d142c883274210aa9f59e2-167.npz'), PosixPath('/home/james/workspace/fastrl/logs/HD_pusht_23/HD_pusht_PushT-v0_2024-11-29-13_22_27/20241129T133011-2565b15e74df469b8020fffbc0bdcb30-157.npz'), PosixPath('/home/james/workspace/fastrl/logs/HD_pusht_23/HD_pusht_PushT-v0_2024-11-29-13_22_27/20241129T132718-f4d5d24a05e64787a156cbffeae7eab6-192.npz'), PosixPath('/home/james/workspace/fastrl/logs/HD_pusht_23/HD_pusht_PushT-v0_2024-11-29-13_22_27/20241129T133156-7fb95d6bbc0e4a5c8b6135f84e125151-109.npz'), PosixPath('/home/james/workspace/fastrl/logs/HD_pusht_23/HD_pusht_PushT-v0_2024-11-29-13_22_27/20241129T132244-1afb6c30ec244bdb825b61bd3099d274-113.npz'), PosixPath('/home/james/workspace/fastrl/logs/HD_pusht_23/HD_pusht_PushT-v0_2024-11-29-13_22_27/20241129T133049-a2aa0f1a8a9c473ca6f4383d44c3696a-155.npz'), PosixPath('/home/james/workspace/fastrl/logs/HD_pusht_23/HD_pusht_PushT-v0_2024-11-29-13_22_27/20241129T132736-b994f5bc1e714710b7a10d5516e63b1e-84.npz'), PosixPath('/home/james/workspace/fastrl/logs/HD_pusht_23/HD_pusht_PushT-v0_2024-11-29-13_22_27/20241129T132939-540a3f07e7ab41ad9cc9c0229928ed58-301.npz'), PosixPath('/home/james/workspace/fastrl/logs/HD_pusht_23/HD_pusht_PushT-v0_2024-11-29-13_22_27/20241129T132657-59d454507c934b02b81f52428e5622ca-102.npz'), PosixPath('/home/james/workspace/fastrl/logs/HD_pusht_23/HD_pusht_PushT-v0_2024-11-29-13_22_27/20241129T132824-1256b25956a5451fbf612663b9f6dfc2-156.npz'), PosixPath('/home/james/workspace/fastrl/logs/HD_pusht_23/HD_pusht_PushT-v0_2024-11-29-13_22_27/20241129T133106-fb9b60b4cb1f4623bfc78e90169d069e-179.npz'), PosixPath('/home/james/workspace/fastrl/logs/HD_pusht_23/HD_pusht_PushT-v0_2024-11-29-13_22_27/20241129T132852-665a945d3ace424d815ec077df7e0969-223.npz'), PosixPath('/home/james/workspace/fastrl/logs/HD_pusht_23/HD_pusht_PushT-v0_2024-11-29-13_22_27/20241129T132646-89943bd8b8fd4044bed7c442343e2513-118.npz'), PosixPath('/home/james/workspace/fastrl/logs/HD_pusht_23/HD_pusht_PushT-v0_2024-11-29-13_22_27/20241129T132335-6cf4e50e9cce4c5c954e237977806a20-165.npz'), PosixPath('/home/james/workspace/fastrl/logs/HD_pusht_23/HD_pusht_PushT-v0_2024-11-29-13_22_27/20241129T132915-3583381cc2944ec5bcb988618fb3eb48-84.npz'), PosixPath('/home/james/workspace/fastrl/logs/HD_pusht_23/HD_pusht_PushT-v0_2024-11-29-13_22_27/20241129T133248-9b0fa262393742fabcce888a3823f443-247.npz'), PosixPath('/home/james/workspace/fastrl/logs/HD_pusht_23/HD_pusht_PushT-v0_2024-11-29-13_22_27/20241129T132533-9b725ec86a004aab961d7552707cd90a-301.npz'), PosixPath('/home/james/workspace/fastrl/logs/HD_pusht_23/HD_pusht_PushT-v0_2024-11-29-13_22_27/20241129T133331-02862cd059e6472bb215cd8c678f7610-135.npz'), PosixPath('/home/james/workspace/fastrl/logs/HD_pusht_23/HD_pusht_PushT-v0_2024-11-29-13_22_27/20241129T132309-077d617b57c94154a0cd77a7f9630818-301.npz'), PosixPath('/home/james/workspace/fastrl/logs/HD_pusht_23/HD_pusht_PushT-v0_2024-11-29-13_22_27/20241129T132707-46c6bc919d764d3397a907dd503f823d-116.npz'), PosixPath('/home/james/workspace/fastrl/logs/HD_pusht_23/HD_pusht_PushT-v0_2024-11-29-13_22_27/20241129T132744-ec9e53d50f2042a79277da51ad9b132f-141.npz'), PosixPath('/home/james/workspace/fastrl/logs/HD_pusht_23/HD_pusht_PushT-v0_2024-11-29-13_22_27/20241129T133036-7c3e5c00915143099863b90e52685408-130.npz'), PosixPath('/home/james/workspace/fastrl/logs/HD_pusht_23/HD_pusht_PushT-v0_2024-11-29-13_22_27/20241129T132923-9724ee27eeb14ecd88339eb60c5326e6-155.npz'), PosixPath('/home/james/workspace/fastrl/logs/HD_pusht_23/HD_pusht_PushT-v0_2024-11-29-13_22_27/20241129T132415-59fa7d6445884ea6bec8b28a44258ce4-301.npz'), PosixPath('/home/james/workspace/fastrl/logs/HD_pusht_23/HD_pusht_PushT-v0_2024-11-29-13_22_27/20241129T132811-2c71cfbe66764586a5e966446ce0a857-130.npz'), PosixPath('/home/james/workspace/fastrl/logs/HD_pusht_23/HD_pusht_PushT-v0_2024-11-29-13_22_27/20241129T133027-5dd3718ebea74314bf1bccef55c3fde2-92.npz'), PosixPath('/home/james/workspace/fastrl/logs/HD_pusht_23/HD_pusht_PushT-v0_2024-11-29-13_22_27/20241129T132253-95be63e81dad4764875b6774c9eebd45-196.npz'), PosixPath('/home/james/workspace/fastrl/logs/HD_pusht_23/HD_pusht_PushT-v0_2024-11-29-13_22_27/20241129T132517-5c00e2a487e443819212c5a425659bba-180.npz'), PosixPath('/home/james/workspace/fastrl/logs/HD_pusht_23/HD_pusht_PushT-v0_2024-11-29-13_22_27/20241129T132229-c911cca7677a45a2af38c43cf4f5f656-169.npz'), PosixPath('/home/james/workspace/fastrl/logs/HD_pusht_23/HD_pusht_PushT-v0_2024-11-29-13_22_27/20241129T132630-f27bca7f6a894784b013a4ede0207290-172.npz'), PosixPath('/home/james/workspace/fastrl/logs/HD_pusht_23/HD_pusht_PushT-v0_2024-11-29-13_22_27/20241129T133125-69d1848ce3d548dd99740c3ba44c8fd5-108.npz'), PosixPath('/home/james/workspace/fastrl/logs/HD_pusht_23/HD_pusht_PushT-v0_2024-11-29-13_22_27/20241129T132349-15eece50d94a4e3bafd1178612e9862f-301.npz'), PosixPath('/home/james/workspace/fastrl/logs/HD_pusht_23/HD_pusht_PushT-v0_2024-11-29-13_22_27/20241129T132601-45bdf64006294f00bff8cffaa53539a7-301.npz'), PosixPath('/home/james/workspace/fastrl/logs/HD_pusht_23/HD_pusht_PushT-v0_2024-11-29-13_22_27/20241129T132758-418b8b0f48eb4db080645e7fb6e05db2-132.npz'), PosixPath('/home/james/workspace/fastrl/logs/HD_pusht_23/HD_pusht_PushT-v0_2024-11-29-13_22_27/20241129T133137-32e4d35dd5e841d387975512716d6153-179.npz'), PosixPath('/home/james/workspace/fastrl/logs/HD_pusht_23/HD_pusht_PushT-v0_2024-11-29-13_22_27/20241129T132839-0a7792251add4b33bd0a64564a77577a-131.npz'), PosixPath('/home/james/workspace/fastrl/logs/HD_pusht_23/HD_pusht_PushT-v0_2024-11-29-11_38_58/20241129T114041-88ab230ce2684496b8388105a31d69e2-197.npz'), PosixPath('/home/james/workspace/fastrl/logs/HD_pusht_23/HD_pusht_PushT-v0_2024-11-29-11_38_58/20241129T114226-4d148b7e0b354ea5a71caf13b51e621d-157.npz'), PosixPath('/home/james/workspace/fastrl/logs/HD_pusht_23/HD_pusht_PushT-v0_2024-11-29-11_38_58/20241129T114027-9ab79f6f3a254ba09c8a880ddb5178d1-139.npz'), PosixPath('/home/james/workspace/fastrl/logs/HD_pusht_23/HD_pusht_PushT-v0_2024-11-29-11_38_58/20241129T114207-14e542146abe480b9bbb24b70376d535-187.npz'), PosixPath('/home/james/workspace/fastrl/logs/HD_pusht_23/HD_pusht_PushT-v0_2024-11-29-11_38_58/20241129T114109-c20d02f444a6418eaf9765171b88b810-244.npz'), PosixPath('/home/james/workspace/fastrl/logs/HD_pusht_23/HD_pusht_PushT-v0_2024-11-29-11_38_58/20241129T114326-098bd99cebdf4021a4abf8c88b924c2c-152.npz'), PosixPath('/home/james/workspace/fastrl/logs/HD_pusht_23/HD_pusht_PushT-v0_2024-11-29-11_38_58/20241129T114007-aca3012cdcbd406886de0431c3ebb4ab-98.npz'), PosixPath('/home/james/workspace/fastrl/logs/HD_pusht_23/HD_pusht_PushT-v0_2024-11-29-11_38_58/20241129T114258-10e23f89590f42548408de71a7a9b20f-261.npz'), PosixPath('/home/james/workspace/fastrl/logs/HD_pusht_23/HD_pusht_PushT-v0_2024-11-29-11_38_58/20241129T114150-ff024a3b3fcd41769cb2b081c44689da-170.npz'), PosixPath('/home/james/workspace/fastrl/logs/HD_pusht_23/HD_pusht_PushT-v0_2024-11-29-11_38_58/20241129T114243-ca98e37063f34cd2b876afbc1391d3de-138.npz'), PosixPath('/home/james/workspace/fastrl/logs/HD_pusht_23/HD_pusht_PushT-v0_2024-11-29-11_38_58/20241129T113942-1fecef99e8554838b0ff1f8ed516bcc1-265.npz'), PosixPath('/home/james/workspace/fastrl/logs/HD_pusht_23/HD_pusht_PushT-v0_2024-11-29-11_38_58/20241129T113915-04df2af9daf24c5da9a1d28629c3fda6-287.npz'), PosixPath('/home/james/workspace/fastrl/logs/HD_pusht_23/HD_pusht_PushT-v0_2024-11-29-11_38_58/20241129T113900-8df55d3a42b84d87ac094069eb4aa246-153.npz'), PosixPath('/home/james/workspace/fastrl/logs/HD_pusht_23/HD_pusht_PushT-v0_2024-11-29-11_38_58/20241129T114100-047e885c8328401a84a03e7ac9a8b604-88.npz'), PosixPath('/home/james/workspace/fastrl/logs/HD_pusht_23/HD_pusht_PushT-v0_2024-11-29-11_38_58/20241129T114134-21e7aa0544624391a90f8dbfb3ad0a7c-155.npz'), PosixPath('/home/james/workspace/fastrl/logs/HD_pusht_23/HD_pusht_PushT-v0_2024-11-29-11_38_58/20241129T114017-7cc92916480f404797ee93dfcf5e36da-109.npz'), PosixPath('/home/james/workspace/fastrl/logs/HD_pusht_23/HD_pusht_PushT-v0_2024-11-29-11_04_10/20241129T110449-e0d28677b7da481eb9d7d94d98019fc0-127.npz'), PosixPath('/home/james/workspace/fastrl/logs/HD_pusht_23/HD_pusht_PushT-v0_2024-11-29-11_04_10/20241129T110520-21f6fdb96c8e4884b46d565176a2cf4b-155.npz'), PosixPath('/home/james/workspace/fastrl/logs/HD_pusht_23/HD_pusht_PushT-v0_2024-11-29-11_04_10/20241129T110533-7fe95d5b5cb2456cab4a41843da353fe-301.npz'), PosixPath('/home/james/workspace/fastrl/logs/HD_pusht_23/HD_pusht_PushT-v0_2024-11-29-11_04_10/20241129T110411-c06e46592d9542bba2a98d25599b29fb-250.npz'), PosixPath('/home/james/workspace/fastrl/logs/HD_pusht_23/HD_pusht_PushT-v0_2024-11-29-11_04_10/20241129T110500-054ce2b8d60e4ea381060e10cb82a6a1-243.npz'), PosixPath('/home/james/workspace/fastrl/logs/HD_pusht_23/HD_pusht_PushT-v0_2024-11-29-11_04_10/20241129T110433-538f60437f9c4effba8a08252cae1236-209.npz')]\n",
      "pixels (89, 94, 94, 3)\n",
      "state (89, 5)\n",
      "image (89, 94, 94, 3)\n",
      "is_first (89,)\n",
      "is_last (89,)\n",
      "is_terminal (89,)\n",
      "reward (89,)\n",
      "discount (89,)\n",
      "action (89, 2)\n",
      "logprob (89,)\n"
     ]
    }
   ],
   "source": [
    "# get the path to the dataset\n",
    "import pandas as pd\n",
    "import numpy as np\n",
    "from pathlib import Path\n",
    "env_name = 'pusht' # 'pinpad' # 'robosuite'\n",
    "\n",
    "# base_path = Path(f\"~/workspace/lerobot/local/{env_name}/original\").expanduser()\n",
    "# base_path = Path(f\"~/workspace/fastrl/logs/HD_pinpad_four_1/a\").expanduser()\n",
    "imi = 23\n",
    "AI = False\n",
    "tdmpc = False\n",
    "\n",
    "def get_files(env_name, imi, AI=False, tdmpc=False, resize=False):\n",
    "    if tdmpc:\n",
    "        bp = f\"~/workspace/fastrl/logs/demonstrations/TDMPC_pusht_HD_{imi}_sparse/\"\n",
    "        od = f\"~/workspace/lerobot/local/{env_name}/tdmpc{imi}\"\n",
    "        assert not AI\n",
    "    else:    \n",
    "        if AI:\n",
    "            bp = f\"~/workspace/fastrl/logs/AD_pusht_{imi}/\"\n",
    "            od = f\"~/workspace/lerobot/local/{env_name}/A{imi}\"\n",
    "        else:\n",
    "            bp = f\"~/workspace/fastrl/logs/HD_pusht_{imi}/\"\n",
    "            od = f\"~/workspace/lerobot/local/{env_name}/{imi}\"\n",
    "\n",
    "    if resize:\n",
    "        od = od + \"_96x96\"\n",
    "\n",
    "    base_path = Path(bp).expanduser()\n",
    "    out_dir = Path(od).expanduser()\n",
    "\n",
    "    # print(base_path)\n",
    "# list all the files in the dataset\n",
    "    folders = list(base_path.glob(\"*\"))\n",
    "\n",
    "    files = []\n",
    "    for f in folders:\n",
    "        files.extend((base_path / f).glob(\"*\"))\n",
    "    return files, out_dir\n",
    "\n",
    "files, out_dir = get_files(env_name, imi, AI=AI, tdmpc=tdmpc)\n",
    "\n",
    "print(files)\n",
    "\n",
    "# print the keys\n",
    "data = np.load(files[0])\n",
    "# convert to a dictionary NOTE: this is necessary to make the arrays writeable for some reason\n",
    "data = dict(data)\n",
    "for k,v in data.items():\n",
    "    print(k, v.shape)\n",
    "\n",
    "# print(\"Setting last is_terminal to true\")\n",
    "# data[\"is_terminal\"][-1] = True; data['is_last'][-1] = True"
   ]
  },
  {
   "cell_type": "code",
   "execution_count": null,
   "metadata": {},
   "outputs": [],
   "source": [
    "from lerobot.common.datasets.lerobot_dataset import LeRobotDataset, LeRobotDatasetMetadata\n",
    "import shutil\n",
    "repo_id = \"j/22\"\n",
    "root = Path(f'~/workspace/lerobot/local/pushtv2_{imi}').expanduser()\n",
    "# root.mkdir(exist_ok=True)\n",
    "shutil.rmtree(root, ignore_errors=True)\n",
    "\n",
    "use_videos = True\n",
    "\n",
    "h, w, ch = data['image'][0].shape\n",
    "state_ndims = data['state'][0].shape[0]\n",
    "action_ndims = data['action'][0].shape[0]\n",
    "\n",
    "features = {\n",
    "    \"observation.image\": {\n",
    "        \"dtype\": \"video\" if use_videos else \"image\",\n",
    "        \"shape\": [h, w, ch],\n",
    "        \"names\": ['height', 'width', 'channels'],\n",
    "        \"info\": None},\n",
    "    \"observation.state\": {\n",
    "        \"dtype\": \"float32\",\n",
    "        \"shape\": (state_ndims,),\n",
    "        \"names\": [f's{i}' for i in range(state_ndims)],\n",
    "    },\n",
    "    \"action\": {\n",
    "        \"dtype\": \"float32\",\n",
    "        \"shape\": (action_ndims,),\n",
    "        \"names\": [f'a{i}' for i in range(action_ndims)],\n",
    "    },\n",
    "    \"next.reward\": {\n",
    "        \"dtype\": \"float32\",\n",
    "        \"shape\": (1,),\n",
    "        \"names\": None,\n",
    "    },\n",
    "    \"next.success\": {\n",
    "        \"dtype\": \"bool\",\n",
    "        \"shape\": (1,),\n",
    "        \"names\": None,\n",
    "    },\n",
    "}\n",
    "\n",
    "# metadata = LeRobotDatasetMetadata(repo_id, root, local_files_only=True)\n",
    "dataset = LeRobotDataset.create(\n",
    "    repo_id,\n",
    "    fps=10, # from pusht.yaml\n",
    "    root=root,\n",
    "    use_videos=use_videos,\n",
    "    features=features\n",
    ")"
   ]
  },
  {
   "cell_type": "code",
   "execution_count": 9,
   "metadata": {},
   "outputs": [
    {
     "data": {
      "application/vnd.jupyter.widget-view+json": {
       "model_id": "41cef7038824438d84d7c62b0aa4a902",
       "version_major": 2,
       "version_minor": 0
      },
      "text/plain": [
       "Map:   0%|          | 0/89 [00:00<?, ? examples/s]"
      ]
     },
     "metadata": {},
     "output_type": "display_data"
    },
    {
     "data": {
      "application/vnd.jupyter.widget-view+json": {
       "model_id": "d44caccbfe4d4a6babdb2da6f9094878",
       "version_major": 2,
       "version_minor": 0
      },
      "text/plain": [
       "Creating parquet from Arrow format:   0%|          | 0/1 [00:00<?, ?ba/s]"
      ]
     },
     "metadata": {},
     "output_type": "display_data"
    },
    {
     "data": {
      "application/vnd.jupyter.widget-view+json": {
       "model_id": "e6a6bef3c9ac411aa1d9783ed68e6349",
       "version_major": 2,
       "version_minor": 0
      },
      "text/plain": [
       "Map:   0%|          | 0/90 [00:00<?, ? examples/s]"
      ]
     },
     "metadata": {},
     "output_type": "display_data"
    },
    {
     "data": {
      "application/vnd.jupyter.widget-view+json": {
       "model_id": "5e3d02fdf191486cb2bc2ef5bb19b917",
       "version_major": 2,
       "version_minor": 0
      },
      "text/plain": [
       "Creating parquet from Arrow format:   0%|          | 0/1 [00:00<?, ?ba/s]"
      ]
     },
     "metadata": {},
     "output_type": "display_data"
    },
    {
     "data": {
      "application/vnd.jupyter.widget-view+json": {
       "model_id": "b83d4d23ecc249498520507e26d13b4e",
       "version_major": 2,
       "version_minor": 0
      },
      "text/plain": [
       "Map:   0%|          | 0/87 [00:00<?, ? examples/s]"
      ]
     },
     "metadata": {},
     "output_type": "display_data"
    },
    {
     "data": {
      "application/vnd.jupyter.widget-view+json": {
       "model_id": "5f98772138954c80b19c5bfc94a63f87",
       "version_major": 2,
       "version_minor": 0
      },
      "text/plain": [
       "Creating parquet from Arrow format:   0%|          | 0/1 [00:00<?, ?ba/s]"
      ]
     },
     "metadata": {},
     "output_type": "display_data"
    },
    {
     "data": {
      "application/vnd.jupyter.widget-view+json": {
       "model_id": "68a57fd39ca04b8c85986f3c7a2e5c81",
       "version_major": 2,
       "version_minor": 0
      },
      "text/plain": [
       "Map:   0%|          | 0/179 [00:00<?, ? examples/s]"
      ]
     },
     "metadata": {},
     "output_type": "display_data"
    },
    {
     "data": {
      "application/vnd.jupyter.widget-view+json": {
       "model_id": "4481e826c5a44010b70930996ca686e6",
       "version_major": 2,
       "version_minor": 0
      },
      "text/plain": [
       "Creating parquet from Arrow format:   0%|          | 0/1 [00:00<?, ?ba/s]"
      ]
     },
     "metadata": {},
     "output_type": "display_data"
    },
    {
     "data": {
      "application/vnd.jupyter.widget-view+json": {
       "model_id": "53fe58c2d63446b5a1d2b0955997766e",
       "version_major": 2,
       "version_minor": 0
      },
      "text/plain": [
       "Map:   0%|          | 0/93 [00:00<?, ? examples/s]"
      ]
     },
     "metadata": {},
     "output_type": "display_data"
    },
    {
     "data": {
      "application/vnd.jupyter.widget-view+json": {
       "model_id": "333d606d83094abf94220ae61f000540",
       "version_major": 2,
       "version_minor": 0
      },
      "text/plain": [
       "Creating parquet from Arrow format:   0%|          | 0/1 [00:00<?, ?ba/s]"
      ]
     },
     "metadata": {},
     "output_type": "display_data"
    },
    {
     "data": {
      "application/vnd.jupyter.widget-view+json": {
       "model_id": "e7730343a2f9475f8d6f88a7a5912638",
       "version_major": 2,
       "version_minor": 0
      },
      "text/plain": [
       "Map:   0%|          | 0/301 [00:00<?, ? examples/s]"
      ]
     },
     "metadata": {},
     "output_type": "display_data"
    },
    {
     "data": {
      "application/vnd.jupyter.widget-view+json": {
       "model_id": "8616407846a047f4b7fa1820331f497a",
       "version_major": 2,
       "version_minor": 0
      },
      "text/plain": [
       "Creating parquet from Arrow format:   0%|          | 0/1 [00:00<?, ?ba/s]"
      ]
     },
     "metadata": {},
     "output_type": "display_data"
    },
    {
     "data": {
      "application/vnd.jupyter.widget-view+json": {
       "model_id": "9289ddf002bf4e13ad668bbc97b91637",
       "version_major": 2,
       "version_minor": 0
      },
      "text/plain": [
       "Map:   0%|          | 0/112 [00:00<?, ? examples/s]"
      ]
     },
     "metadata": {},
     "output_type": "display_data"
    },
    {
     "data": {
      "application/vnd.jupyter.widget-view+json": {
       "model_id": "5019d8bc08a34fa7a9e659508874332f",
       "version_major": 2,
       "version_minor": 0
      },
      "text/plain": [
       "Creating parquet from Arrow format:   0%|          | 0/1 [00:00<?, ?ba/s]"
      ]
     },
     "metadata": {},
     "output_type": "display_data"
    },
    {
     "data": {
      "application/vnd.jupyter.widget-view+json": {
       "model_id": "a990183bbe8a4816ad2be53b1a2d0426",
       "version_major": 2,
       "version_minor": 0
      },
      "text/plain": [
       "Map:   0%|          | 0/213 [00:00<?, ? examples/s]"
      ]
     },
     "metadata": {},
     "output_type": "display_data"
    },
    {
     "data": {
      "application/vnd.jupyter.widget-view+json": {
       "model_id": "df48ffb197b54b158ad608d32d7ad94a",
       "version_major": 2,
       "version_minor": 0
      },
      "text/plain": [
       "Creating parquet from Arrow format:   0%|          | 0/1 [00:00<?, ?ba/s]"
      ]
     },
     "metadata": {},
     "output_type": "display_data"
    },
    {
     "data": {
      "application/vnd.jupyter.widget-view+json": {
       "model_id": "0ee5cd717d1a42eaa5a4c2985d5e12cf",
       "version_major": 2,
       "version_minor": 0
      },
      "text/plain": [
       "Map:   0%|          | 0/74 [00:00<?, ? examples/s]"
      ]
     },
     "metadata": {},
     "output_type": "display_data"
    },
    {
     "data": {
      "application/vnd.jupyter.widget-view+json": {
       "model_id": "ee7a6a016fe64aa5a695c54f0867a7f8",
       "version_major": 2,
       "version_minor": 0
      },
      "text/plain": [
       "Creating parquet from Arrow format:   0%|          | 0/1 [00:00<?, ?ba/s]"
      ]
     },
     "metadata": {},
     "output_type": "display_data"
    },
    {
     "data": {
      "application/vnd.jupyter.widget-view+json": {
       "model_id": "7dbd8d77e8fe44ffb92cc91b3fe5b7c0",
       "version_major": 2,
       "version_minor": 0
      },
      "text/plain": [
       "Map:   0%|          | 0/139 [00:00<?, ? examples/s]"
      ]
     },
     "metadata": {},
     "output_type": "display_data"
    },
    {
     "data": {
      "application/vnd.jupyter.widget-view+json": {
       "model_id": "6a9b00ba5d0642909e2402b9a83ce6ba",
       "version_major": 2,
       "version_minor": 0
      },
      "text/plain": [
       "Creating parquet from Arrow format:   0%|          | 0/1 [00:00<?, ?ba/s]"
      ]
     },
     "metadata": {},
     "output_type": "display_data"
    },
    {
     "data": {
      "application/vnd.jupyter.widget-view+json": {
       "model_id": "71164114d913411189e358d69df69b39",
       "version_major": 2,
       "version_minor": 0
      },
      "text/plain": [
       "Map:   0%|          | 0/301 [00:00<?, ? examples/s]"
      ]
     },
     "metadata": {},
     "output_type": "display_data"
    },
    {
     "data": {
      "application/vnd.jupyter.widget-view+json": {
       "model_id": "aaa1167843d74edeac3bf4c45b18c00f",
       "version_major": 2,
       "version_minor": 0
      },
      "text/plain": [
       "Creating parquet from Arrow format:   0%|          | 0/1 [00:00<?, ?ba/s]"
      ]
     },
     "metadata": {},
     "output_type": "display_data"
    },
    {
     "data": {
      "application/vnd.jupyter.widget-view+json": {
       "model_id": "b846e48d14ee43f2a3cd3654ba62c8bc",
       "version_major": 2,
       "version_minor": 0
      },
      "text/plain": [
       "Map:   0%|          | 0/122 [00:00<?, ? examples/s]"
      ]
     },
     "metadata": {},
     "output_type": "display_data"
    },
    {
     "data": {
      "application/vnd.jupyter.widget-view+json": {
       "model_id": "3519810012c44e808544e3d6f3af4a4c",
       "version_major": 2,
       "version_minor": 0
      },
      "text/plain": [
       "Creating parquet from Arrow format:   0%|          | 0/1 [00:00<?, ?ba/s]"
      ]
     },
     "metadata": {},
     "output_type": "display_data"
    },
    {
     "data": {
      "application/vnd.jupyter.widget-view+json": {
       "model_id": "a4c390c96de94875a1bb46f069b3e7c3",
       "version_major": 2,
       "version_minor": 0
      },
      "text/plain": [
       "Map:   0%|          | 0/118 [00:00<?, ? examples/s]"
      ]
     },
     "metadata": {},
     "output_type": "display_data"
    },
    {
     "data": {
      "application/vnd.jupyter.widget-view+json": {
       "model_id": "5896eb4c002c41a2908296090719f015",
       "version_major": 2,
       "version_minor": 0
      },
      "text/plain": [
       "Creating parquet from Arrow format:   0%|          | 0/1 [00:00<?, ?ba/s]"
      ]
     },
     "metadata": {},
     "output_type": "display_data"
    },
    {
     "data": {
      "application/vnd.jupyter.widget-view+json": {
       "model_id": "15ac14a07630442eb944d0de8d7988b9",
       "version_major": 2,
       "version_minor": 0
      },
      "text/plain": [
       "Map:   0%|          | 0/147 [00:00<?, ? examples/s]"
      ]
     },
     "metadata": {},
     "output_type": "display_data"
    },
    {
     "data": {
      "application/vnd.jupyter.widget-view+json": {
       "model_id": "dd023c4de3e04ec589894ec77c274077",
       "version_major": 2,
       "version_minor": 0
      },
      "text/plain": [
       "Creating parquet from Arrow format:   0%|          | 0/1 [00:00<?, ?ba/s]"
      ]
     },
     "metadata": {},
     "output_type": "display_data"
    },
    {
     "data": {
      "application/vnd.jupyter.widget-view+json": {
       "model_id": "31f3f2d65cf042cc9d57b1d5fcf9eb2c",
       "version_major": 2,
       "version_minor": 0
      },
      "text/plain": [
       "Map:   0%|          | 0/224 [00:00<?, ? examples/s]"
      ]
     },
     "metadata": {},
     "output_type": "display_data"
    },
    {
     "data": {
      "application/vnd.jupyter.widget-view+json": {
       "model_id": "9d2eb09992334f2b95852485770c6763",
       "version_major": 2,
       "version_minor": 0
      },
      "text/plain": [
       "Creating parquet from Arrow format:   0%|          | 0/1 [00:00<?, ?ba/s]"
      ]
     },
     "metadata": {},
     "output_type": "display_data"
    },
    {
     "data": {
      "application/vnd.jupyter.widget-view+json": {
       "model_id": "cdd36f6539d444d1b8afb5e9ac9528ef",
       "version_major": 2,
       "version_minor": 0
      },
      "text/plain": [
       "Map:   0%|          | 0/186 [00:00<?, ? examples/s]"
      ]
     },
     "metadata": {},
     "output_type": "display_data"
    },
    {
     "data": {
      "application/vnd.jupyter.widget-view+json": {
       "model_id": "f3978554ea524d4cb199b59d56d038a1",
       "version_major": 2,
       "version_minor": 0
      },
      "text/plain": [
       "Creating parquet from Arrow format:   0%|          | 0/1 [00:00<?, ?ba/s]"
      ]
     },
     "metadata": {},
     "output_type": "display_data"
    },
    {
     "data": {
      "application/vnd.jupyter.widget-view+json": {
       "model_id": "9f61365256a1405b84b43fb0f6d291a3",
       "version_major": 2,
       "version_minor": 0
      },
      "text/plain": [
       "Map:   0%|          | 0/97 [00:00<?, ? examples/s]"
      ]
     },
     "metadata": {},
     "output_type": "display_data"
    },
    {
     "data": {
      "application/vnd.jupyter.widget-view+json": {
       "model_id": "496575766149423c9be73ec16a3e02ed",
       "version_major": 2,
       "version_minor": 0
      },
      "text/plain": [
       "Creating parquet from Arrow format:   0%|          | 0/1 [00:00<?, ?ba/s]"
      ]
     },
     "metadata": {},
     "output_type": "display_data"
    },
    {
     "data": {
      "application/vnd.jupyter.widget-view+json": {
       "model_id": "59c248eb43f146cd93a2aa3948f5e30c",
       "version_major": 2,
       "version_minor": 0
      },
      "text/plain": [
       "Map:   0%|          | 0/175 [00:00<?, ? examples/s]"
      ]
     },
     "metadata": {},
     "output_type": "display_data"
    },
    {
     "data": {
      "application/vnd.jupyter.widget-view+json": {
       "model_id": "bfd28188ac3148c7818c32d40169530b",
       "version_major": 2,
       "version_minor": 0
      },
      "text/plain": [
       "Creating parquet from Arrow format:   0%|          | 0/1 [00:00<?, ?ba/s]"
      ]
     },
     "metadata": {},
     "output_type": "display_data"
    },
    {
     "data": {
      "application/vnd.jupyter.widget-view+json": {
       "model_id": "f0dc2441ade94005b966ba1b7704afd0",
       "version_major": 2,
       "version_minor": 0
      },
      "text/plain": [
       "Map:   0%|          | 0/229 [00:00<?, ? examples/s]"
      ]
     },
     "metadata": {},
     "output_type": "display_data"
    },
    {
     "data": {
      "application/vnd.jupyter.widget-view+json": {
       "model_id": "51357c19a04a48c2a18c94e91134abfa",
       "version_major": 2,
       "version_minor": 0
      },
      "text/plain": [
       "Creating parquet from Arrow format:   0%|          | 0/1 [00:00<?, ?ba/s]"
      ]
     },
     "metadata": {},
     "output_type": "display_data"
    },
    {
     "data": {
      "application/vnd.jupyter.widget-view+json": {
       "model_id": "e8be1449a0874432a9a370dd89d52bfa",
       "version_major": 2,
       "version_minor": 0
      },
      "text/plain": [
       "Map:   0%|          | 0/301 [00:00<?, ? examples/s]"
      ]
     },
     "metadata": {},
     "output_type": "display_data"
    },
    {
     "data": {
      "application/vnd.jupyter.widget-view+json": {
       "model_id": "b3d64e0063d14bd69b17ad153229ec44",
       "version_major": 2,
       "version_minor": 0
      },
      "text/plain": [
       "Creating parquet from Arrow format:   0%|          | 0/1 [00:00<?, ?ba/s]"
      ]
     },
     "metadata": {},
     "output_type": "display_data"
    },
    {
     "data": {
      "application/vnd.jupyter.widget-view+json": {
       "model_id": "4664235109384d1f8a0ea61d62225edc",
       "version_major": 2,
       "version_minor": 0
      },
      "text/plain": [
       "Map:   0%|          | 0/118 [00:00<?, ? examples/s]"
      ]
     },
     "metadata": {},
     "output_type": "display_data"
    },
    {
     "data": {
      "application/vnd.jupyter.widget-view+json": {
       "model_id": "953aa708b5914e799a10858cb7653f38",
       "version_major": 2,
       "version_minor": 0
      },
      "text/plain": [
       "Creating parquet from Arrow format:   0%|          | 0/1 [00:00<?, ?ba/s]"
      ]
     },
     "metadata": {},
     "output_type": "display_data"
    },
    {
     "data": {
      "application/vnd.jupyter.widget-view+json": {
       "model_id": "37f8a4899fc9401b961133d5ea1b9722",
       "version_major": 2,
       "version_minor": 0
      },
      "text/plain": [
       "Map:   0%|          | 0/170 [00:00<?, ? examples/s]"
      ]
     },
     "metadata": {},
     "output_type": "display_data"
    },
    {
     "data": {
      "application/vnd.jupyter.widget-view+json": {
       "model_id": "8818ad2020964afd988de3ee0112c955",
       "version_major": 2,
       "version_minor": 0
      },
      "text/plain": [
       "Creating parquet from Arrow format:   0%|          | 0/1 [00:00<?, ?ba/s]"
      ]
     },
     "metadata": {},
     "output_type": "display_data"
    },
    {
     "data": {
      "application/vnd.jupyter.widget-view+json": {
       "model_id": "eb262287920d4b0480be6e013cbdc718",
       "version_major": 2,
       "version_minor": 0
      },
      "text/plain": [
       "Map:   0%|          | 0/249 [00:00<?, ? examples/s]"
      ]
     },
     "metadata": {},
     "output_type": "display_data"
    },
    {
     "data": {
      "application/vnd.jupyter.widget-view+json": {
       "model_id": "257a20ec6e9a4ff0875cb78fc2235975",
       "version_major": 2,
       "version_minor": 0
      },
      "text/plain": [
       "Creating parquet from Arrow format:   0%|          | 0/1 [00:00<?, ?ba/s]"
      ]
     },
     "metadata": {},
     "output_type": "display_data"
    },
    {
     "data": {
      "application/vnd.jupyter.widget-view+json": {
       "model_id": "9798db82c99b4a209f4b5333f0733b82",
       "version_major": 2,
       "version_minor": 0
      },
      "text/plain": [
       "Map:   0%|          | 0/108 [00:00<?, ? examples/s]"
      ]
     },
     "metadata": {},
     "output_type": "display_data"
    },
    {
     "data": {
      "application/vnd.jupyter.widget-view+json": {
       "model_id": "d6f88d5823124eb1adaeda8bc1c0406e",
       "version_major": 2,
       "version_minor": 0
      },
      "text/plain": [
       "Creating parquet from Arrow format:   0%|          | 0/1 [00:00<?, ?ba/s]"
      ]
     },
     "metadata": {},
     "output_type": "display_data"
    },
    {
     "data": {
      "application/vnd.jupyter.widget-view+json": {
       "model_id": "73c6f512e0cc42068ff543dc70acbfde",
       "version_major": 2,
       "version_minor": 0
      },
      "text/plain": [
       "Map:   0%|          | 0/171 [00:00<?, ? examples/s]"
      ]
     },
     "metadata": {},
     "output_type": "display_data"
    },
    {
     "data": {
      "application/vnd.jupyter.widget-view+json": {
       "model_id": "64841d9697b0408a97c1da62c4cadaf1",
       "version_major": 2,
       "version_minor": 0
      },
      "text/plain": [
       "Creating parquet from Arrow format:   0%|          | 0/1 [00:00<?, ?ba/s]"
      ]
     },
     "metadata": {},
     "output_type": "display_data"
    },
    {
     "data": {
      "application/vnd.jupyter.widget-view+json": {
       "model_id": "74464aa5dd1045ea907494b445dd3092",
       "version_major": 2,
       "version_minor": 0
      },
      "text/plain": [
       "Map:   0%|          | 0/165 [00:00<?, ? examples/s]"
      ]
     },
     "metadata": {},
     "output_type": "display_data"
    },
    {
     "data": {
      "application/vnd.jupyter.widget-view+json": {
       "model_id": "d3503ca403634510b19fd9bc76a2216c",
       "version_major": 2,
       "version_minor": 0
      },
      "text/plain": [
       "Creating parquet from Arrow format:   0%|          | 0/1 [00:00<?, ?ba/s]"
      ]
     },
     "metadata": {},
     "output_type": "display_data"
    },
    {
     "data": {
      "application/vnd.jupyter.widget-view+json": {
       "model_id": "236d734a4a93425f8c53cb17e8186030",
       "version_major": 2,
       "version_minor": 0
      },
      "text/plain": [
       "Map:   0%|          | 0/160 [00:00<?, ? examples/s]"
      ]
     },
     "metadata": {},
     "output_type": "display_data"
    },
    {
     "data": {
      "application/vnd.jupyter.widget-view+json": {
       "model_id": "a44660a187174af8b345fff58c0a787c",
       "version_major": 2,
       "version_minor": 0
      },
      "text/plain": [
       "Creating parquet from Arrow format:   0%|          | 0/1 [00:00<?, ?ba/s]"
      ]
     },
     "metadata": {},
     "output_type": "display_data"
    },
    {
     "data": {
      "application/vnd.jupyter.widget-view+json": {
       "model_id": "25ff045231e748c9bd5f55ca7ef49b5e",
       "version_major": 2,
       "version_minor": 0
      },
      "text/plain": [
       "Map:   0%|          | 0/301 [00:00<?, ? examples/s]"
      ]
     },
     "metadata": {},
     "output_type": "display_data"
    },
    {
     "data": {
      "application/vnd.jupyter.widget-view+json": {
       "model_id": "f469993af70d4ddb91bdf9278d2a98f5",
       "version_major": 2,
       "version_minor": 0
      },
      "text/plain": [
       "Creating parquet from Arrow format:   0%|          | 0/1 [00:00<?, ?ba/s]"
      ]
     },
     "metadata": {},
     "output_type": "display_data"
    },
    {
     "data": {
      "application/vnd.jupyter.widget-view+json": {
       "model_id": "fabaa85cca2b4d289a01dc98e4bfca28",
       "version_major": 2,
       "version_minor": 0
      },
      "text/plain": [
       "Map:   0%|          | 0/77 [00:00<?, ? examples/s]"
      ]
     },
     "metadata": {},
     "output_type": "display_data"
    },
    {
     "data": {
      "application/vnd.jupyter.widget-view+json": {
       "model_id": "6abfe5e0cee64da992767d82ebd1c505",
       "version_major": 2,
       "version_minor": 0
      },
      "text/plain": [
       "Creating parquet from Arrow format:   0%|          | 0/1 [00:00<?, ?ba/s]"
      ]
     },
     "metadata": {},
     "output_type": "display_data"
    },
    {
     "data": {
      "application/vnd.jupyter.widget-view+json": {
       "model_id": "dab382beba3b4e669ddea59dab6a3c82",
       "version_major": 2,
       "version_minor": 0
      },
      "text/plain": [
       "Map:   0%|          | 0/301 [00:00<?, ? examples/s]"
      ]
     },
     "metadata": {},
     "output_type": "display_data"
    },
    {
     "data": {
      "application/vnd.jupyter.widget-view+json": {
       "model_id": "8810183838894dca95f95c854df08cdb",
       "version_major": 2,
       "version_minor": 0
      },
      "text/plain": [
       "Creating parquet from Arrow format:   0%|          | 0/1 [00:00<?, ?ba/s]"
      ]
     },
     "metadata": {},
     "output_type": "display_data"
    },
    {
     "data": {
      "application/vnd.jupyter.widget-view+json": {
       "model_id": "10c3ea250e8146b38b1899d19460460b",
       "version_major": 2,
       "version_minor": 0
      },
      "text/plain": [
       "Map:   0%|          | 0/213 [00:00<?, ? examples/s]"
      ]
     },
     "metadata": {},
     "output_type": "display_data"
    },
    {
     "data": {
      "application/vnd.jupyter.widget-view+json": {
       "model_id": "c63b49af66c24f348eb5a21c1ab49992",
       "version_major": 2,
       "version_minor": 0
      },
      "text/plain": [
       "Creating parquet from Arrow format:   0%|          | 0/1 [00:00<?, ?ba/s]"
      ]
     },
     "metadata": {},
     "output_type": "display_data"
    },
    {
     "data": {
      "application/vnd.jupyter.widget-view+json": {
       "model_id": "0c5d6173ec5b4a5191cd067e99bc58b8",
       "version_major": 2,
       "version_minor": 0
      },
      "text/plain": [
       "Map:   0%|          | 0/297 [00:00<?, ? examples/s]"
      ]
     },
     "metadata": {},
     "output_type": "display_data"
    },
    {
     "data": {
      "application/vnd.jupyter.widget-view+json": {
       "model_id": "300f80d7409e46ef9771ce11f1ae480b",
       "version_major": 2,
       "version_minor": 0
      },
      "text/plain": [
       "Creating parquet from Arrow format:   0%|          | 0/1 [00:00<?, ?ba/s]"
      ]
     },
     "metadata": {},
     "output_type": "display_data"
    },
    {
     "data": {
      "application/vnd.jupyter.widget-view+json": {
       "model_id": "3e076d3d95144e05ab61c1392421ce62",
       "version_major": 2,
       "version_minor": 0
      },
      "text/plain": [
       "Map:   0%|          | 0/159 [00:00<?, ? examples/s]"
      ]
     },
     "metadata": {},
     "output_type": "display_data"
    },
    {
     "data": {
      "application/vnd.jupyter.widget-view+json": {
       "model_id": "f474b579e17840a88fe97f5a18c06ba8",
       "version_major": 2,
       "version_minor": 0
      },
      "text/plain": [
       "Creating parquet from Arrow format:   0%|          | 0/1 [00:00<?, ?ba/s]"
      ]
     },
     "metadata": {},
     "output_type": "display_data"
    },
    {
     "data": {
      "application/vnd.jupyter.widget-view+json": {
       "model_id": "02a5e32b339e45d4b67048085dc729c9",
       "version_major": 2,
       "version_minor": 0
      },
      "text/plain": [
       "Map:   0%|          | 0/182 [00:00<?, ? examples/s]"
      ]
     },
     "metadata": {},
     "output_type": "display_data"
    },
    {
     "data": {
      "application/vnd.jupyter.widget-view+json": {
       "model_id": "ea2f101f3d684d5c849e43c350e8df78",
       "version_major": 2,
       "version_minor": 0
      },
      "text/plain": [
       "Creating parquet from Arrow format:   0%|          | 0/1 [00:00<?, ?ba/s]"
      ]
     },
     "metadata": {},
     "output_type": "display_data"
    },
    {
     "data": {
      "application/vnd.jupyter.widget-view+json": {
       "model_id": "426c032758ec4edfacc1fbfbea39f838",
       "version_major": 2,
       "version_minor": 0
      },
      "text/plain": [
       "Map:   0%|          | 0/171 [00:00<?, ? examples/s]"
      ]
     },
     "metadata": {},
     "output_type": "display_data"
    },
    {
     "data": {
      "application/vnd.jupyter.widget-view+json": {
       "model_id": "cf07e3fc2c5a495fa8d5cd74dfff3dfa",
       "version_major": 2,
       "version_minor": 0
      },
      "text/plain": [
       "Creating parquet from Arrow format:   0%|          | 0/1 [00:00<?, ?ba/s]"
      ]
     },
     "metadata": {},
     "output_type": "display_data"
    },
    {
     "data": {
      "application/vnd.jupyter.widget-view+json": {
       "model_id": "f814dd64ba7b49bb8cbb16248a0e53f4",
       "version_major": 2,
       "version_minor": 0
      },
      "text/plain": [
       "Map:   0%|          | 0/301 [00:00<?, ? examples/s]"
      ]
     },
     "metadata": {},
     "output_type": "display_data"
    },
    {
     "data": {
      "application/vnd.jupyter.widget-view+json": {
       "model_id": "b27f621dfd90448294d0bdd638c3234b",
       "version_major": 2,
       "version_minor": 0
      },
      "text/plain": [
       "Creating parquet from Arrow format:   0%|          | 0/1 [00:00<?, ?ba/s]"
      ]
     },
     "metadata": {},
     "output_type": "display_data"
    },
    {
     "data": {
      "application/vnd.jupyter.widget-view+json": {
       "model_id": "1ecf33d63be24cd4a63d7aa8caab87da",
       "version_major": 2,
       "version_minor": 0
      },
      "text/plain": [
       "Map:   0%|          | 0/87 [00:00<?, ? examples/s]"
      ]
     },
     "metadata": {},
     "output_type": "display_data"
    },
    {
     "data": {
      "application/vnd.jupyter.widget-view+json": {
       "model_id": "1b0f028e0de84a50ba5d77930caa4a68",
       "version_major": 2,
       "version_minor": 0
      },
      "text/plain": [
       "Creating parquet from Arrow format:   0%|          | 0/1 [00:00<?, ?ba/s]"
      ]
     },
     "metadata": {},
     "output_type": "display_data"
    },
    {
     "data": {
      "application/vnd.jupyter.widget-view+json": {
       "model_id": "9ef25e8a583d480fbca4037d3220cc18",
       "version_major": 2,
       "version_minor": 0
      },
      "text/plain": [
       "Map:   0%|          | 0/137 [00:00<?, ? examples/s]"
      ]
     },
     "metadata": {},
     "output_type": "display_data"
    },
    {
     "data": {
      "application/vnd.jupyter.widget-view+json": {
       "model_id": "098d191980384be4aadb56ed981827d5",
       "version_major": 2,
       "version_minor": 0
      },
      "text/plain": [
       "Creating parquet from Arrow format:   0%|          | 0/1 [00:00<?, ?ba/s]"
      ]
     },
     "metadata": {},
     "output_type": "display_data"
    },
    {
     "data": {
      "application/vnd.jupyter.widget-view+json": {
       "model_id": "9797840046174631b717c5a0b0600db4",
       "version_major": 2,
       "version_minor": 0
      },
      "text/plain": [
       "Map:   0%|          | 0/210 [00:00<?, ? examples/s]"
      ]
     },
     "metadata": {},
     "output_type": "display_data"
    },
    {
     "data": {
      "application/vnd.jupyter.widget-view+json": {
       "model_id": "01f72b4d665945b8964a68304e86cd65",
       "version_major": 2,
       "version_minor": 0
      },
      "text/plain": [
       "Creating parquet from Arrow format:   0%|          | 0/1 [00:00<?, ?ba/s]"
      ]
     },
     "metadata": {},
     "output_type": "display_data"
    },
    {
     "data": {
      "application/vnd.jupyter.widget-view+json": {
       "model_id": "14041835bf3a485eb240b74df780de07",
       "version_major": 2,
       "version_minor": 0
      },
      "text/plain": [
       "Map:   0%|          | 0/144 [00:00<?, ? examples/s]"
      ]
     },
     "metadata": {},
     "output_type": "display_data"
    },
    {
     "data": {
      "application/vnd.jupyter.widget-view+json": {
       "model_id": "52825aee22e145a2a9e5c4b365b21684",
       "version_major": 2,
       "version_minor": 0
      },
      "text/plain": [
       "Creating parquet from Arrow format:   0%|          | 0/1 [00:00<?, ?ba/s]"
      ]
     },
     "metadata": {},
     "output_type": "display_data"
    },
    {
     "data": {
      "application/vnd.jupyter.widget-view+json": {
       "model_id": "aba73409d21847ddbeaa79aa779edb29",
       "version_major": 2,
       "version_minor": 0
      },
      "text/plain": [
       "Map:   0%|          | 0/143 [00:00<?, ? examples/s]"
      ]
     },
     "metadata": {},
     "output_type": "display_data"
    },
    {
     "data": {
      "application/vnd.jupyter.widget-view+json": {
       "model_id": "23d2addde81f4a21b465618de6cf72a1",
       "version_major": 2,
       "version_minor": 0
      },
      "text/plain": [
       "Creating parquet from Arrow format:   0%|          | 0/1 [00:00<?, ?ba/s]"
      ]
     },
     "metadata": {},
     "output_type": "display_data"
    },
    {
     "data": {
      "application/vnd.jupyter.widget-view+json": {
       "model_id": "941b3bb299ae49f2b04040cacbfcad96",
       "version_major": 2,
       "version_minor": 0
      },
      "text/plain": [
       "Map:   0%|          | 0/237 [00:00<?, ? examples/s]"
      ]
     },
     "metadata": {},
     "output_type": "display_data"
    },
    {
     "data": {
      "application/vnd.jupyter.widget-view+json": {
       "model_id": "00176d3f702d46ba85fe3a16b5416e6b",
       "version_major": 2,
       "version_minor": 0
      },
      "text/plain": [
       "Creating parquet from Arrow format:   0%|          | 0/1 [00:00<?, ?ba/s]"
      ]
     },
     "metadata": {},
     "output_type": "display_data"
    },
    {
     "data": {
      "application/vnd.jupyter.widget-view+json": {
       "model_id": "c94d489242ea4cbf905ca561c3007e96",
       "version_major": 2,
       "version_minor": 0
      },
      "text/plain": [
       "Map:   0%|          | 0/167 [00:00<?, ? examples/s]"
      ]
     },
     "metadata": {},
     "output_type": "display_data"
    },
    {
     "data": {
      "application/vnd.jupyter.widget-view+json": {
       "model_id": "2df88064e6e84bffabbeaac79e7c7adc",
       "version_major": 2,
       "version_minor": 0
      },
      "text/plain": [
       "Creating parquet from Arrow format:   0%|          | 0/1 [00:00<?, ?ba/s]"
      ]
     },
     "metadata": {},
     "output_type": "display_data"
    },
    {
     "data": {
      "application/vnd.jupyter.widget-view+json": {
       "model_id": "9bea7df68a15415a857b681564bb5383",
       "version_major": 2,
       "version_minor": 0
      },
      "text/plain": [
       "Map:   0%|          | 0/157 [00:00<?, ? examples/s]"
      ]
     },
     "metadata": {},
     "output_type": "display_data"
    },
    {
     "data": {
      "application/vnd.jupyter.widget-view+json": {
       "model_id": "ece94379aa844d24bf06ea73497c90a6",
       "version_major": 2,
       "version_minor": 0
      },
      "text/plain": [
       "Creating parquet from Arrow format:   0%|          | 0/1 [00:00<?, ?ba/s]"
      ]
     },
     "metadata": {},
     "output_type": "display_data"
    },
    {
     "data": {
      "application/vnd.jupyter.widget-view+json": {
       "model_id": "37f1d7d3a725415daec8b8a9356bbd02",
       "version_major": 2,
       "version_minor": 0
      },
      "text/plain": [
       "Map:   0%|          | 0/192 [00:00<?, ? examples/s]"
      ]
     },
     "metadata": {},
     "output_type": "display_data"
    },
    {
     "data": {
      "application/vnd.jupyter.widget-view+json": {
       "model_id": "7afd442a3946412e96f9bb37d2e28301",
       "version_major": 2,
       "version_minor": 0
      },
      "text/plain": [
       "Creating parquet from Arrow format:   0%|          | 0/1 [00:00<?, ?ba/s]"
      ]
     },
     "metadata": {},
     "output_type": "display_data"
    },
    {
     "data": {
      "application/vnd.jupyter.widget-view+json": {
       "model_id": "a7fb8b346be34497be141d74fdc70521",
       "version_major": 2,
       "version_minor": 0
      },
      "text/plain": [
       "Map:   0%|          | 0/109 [00:00<?, ? examples/s]"
      ]
     },
     "metadata": {},
     "output_type": "display_data"
    },
    {
     "data": {
      "application/vnd.jupyter.widget-view+json": {
       "model_id": "fdaacd11b37247cea58a32fdfbafcf0a",
       "version_major": 2,
       "version_minor": 0
      },
      "text/plain": [
       "Creating parquet from Arrow format:   0%|          | 0/1 [00:00<?, ?ba/s]"
      ]
     },
     "metadata": {},
     "output_type": "display_data"
    },
    {
     "data": {
      "application/vnd.jupyter.widget-view+json": {
       "model_id": "2fbd4571089e47a2bb35ac11cbacc9d3",
       "version_major": 2,
       "version_minor": 0
      },
      "text/plain": [
       "Map:   0%|          | 0/113 [00:00<?, ? examples/s]"
      ]
     },
     "metadata": {},
     "output_type": "display_data"
    },
    {
     "data": {
      "application/vnd.jupyter.widget-view+json": {
       "model_id": "52b20185483546a5a896a9728b226605",
       "version_major": 2,
       "version_minor": 0
      },
      "text/plain": [
       "Creating parquet from Arrow format:   0%|          | 0/1 [00:00<?, ?ba/s]"
      ]
     },
     "metadata": {},
     "output_type": "display_data"
    },
    {
     "data": {
      "application/vnd.jupyter.widget-view+json": {
       "model_id": "72adefd71aad4b7ea7ee1af580a72cc4",
       "version_major": 2,
       "version_minor": 0
      },
      "text/plain": [
       "Map:   0%|          | 0/155 [00:00<?, ? examples/s]"
      ]
     },
     "metadata": {},
     "output_type": "display_data"
    },
    {
     "data": {
      "application/vnd.jupyter.widget-view+json": {
       "model_id": "fa1db0bb64184e82825ec6e23c5c32ea",
       "version_major": 2,
       "version_minor": 0
      },
      "text/plain": [
       "Creating parquet from Arrow format:   0%|          | 0/1 [00:00<?, ?ba/s]"
      ]
     },
     "metadata": {},
     "output_type": "display_data"
    },
    {
     "data": {
      "application/vnd.jupyter.widget-view+json": {
       "model_id": "ad31f9beacf7453c9d415bbb0c22ab6c",
       "version_major": 2,
       "version_minor": 0
      },
      "text/plain": [
       "Map:   0%|          | 0/84 [00:00<?, ? examples/s]"
      ]
     },
     "metadata": {},
     "output_type": "display_data"
    },
    {
     "data": {
      "application/vnd.jupyter.widget-view+json": {
       "model_id": "d644235dd2ca42dc8c5a063d4e948513",
       "version_major": 2,
       "version_minor": 0
      },
      "text/plain": [
       "Creating parquet from Arrow format:   0%|          | 0/1 [00:00<?, ?ba/s]"
      ]
     },
     "metadata": {},
     "output_type": "display_data"
    },
    {
     "data": {
      "application/vnd.jupyter.widget-view+json": {
       "model_id": "68a15287da274287b2a0257e64d5515b",
       "version_major": 2,
       "version_minor": 0
      },
      "text/plain": [
       "Map:   0%|          | 0/301 [00:00<?, ? examples/s]"
      ]
     },
     "metadata": {},
     "output_type": "display_data"
    },
    {
     "data": {
      "application/vnd.jupyter.widget-view+json": {
       "model_id": "15322d598ff14e059d9287cdb7124577",
       "version_major": 2,
       "version_minor": 0
      },
      "text/plain": [
       "Creating parquet from Arrow format:   0%|          | 0/1 [00:00<?, ?ba/s]"
      ]
     },
     "metadata": {},
     "output_type": "display_data"
    },
    {
     "data": {
      "application/vnd.jupyter.widget-view+json": {
       "model_id": "3826384a3e7049758fcf8355b3db17fb",
       "version_major": 2,
       "version_minor": 0
      },
      "text/plain": [
       "Map:   0%|          | 0/102 [00:00<?, ? examples/s]"
      ]
     },
     "metadata": {},
     "output_type": "display_data"
    },
    {
     "data": {
      "application/vnd.jupyter.widget-view+json": {
       "model_id": "9eba4e07eee3446a9eedc6cb12fc5f8d",
       "version_major": 2,
       "version_minor": 0
      },
      "text/plain": [
       "Creating parquet from Arrow format:   0%|          | 0/1 [00:00<?, ?ba/s]"
      ]
     },
     "metadata": {},
     "output_type": "display_data"
    },
    {
     "data": {
      "application/vnd.jupyter.widget-view+json": {
       "model_id": "d6baf823db374d03bf7f313de2fcef70",
       "version_major": 2,
       "version_minor": 0
      },
      "text/plain": [
       "Map:   0%|          | 0/156 [00:00<?, ? examples/s]"
      ]
     },
     "metadata": {},
     "output_type": "display_data"
    },
    {
     "data": {
      "application/vnd.jupyter.widget-view+json": {
       "model_id": "2a720ca73a9a43ed8d7e49ad8454cfc2",
       "version_major": 2,
       "version_minor": 0
      },
      "text/plain": [
       "Creating parquet from Arrow format:   0%|          | 0/1 [00:00<?, ?ba/s]"
      ]
     },
     "metadata": {},
     "output_type": "display_data"
    },
    {
     "data": {
      "application/vnd.jupyter.widget-view+json": {
       "model_id": "69363a62d5b242aa9617fd09c9f25cde",
       "version_major": 2,
       "version_minor": 0
      },
      "text/plain": [
       "Map:   0%|          | 0/179 [00:00<?, ? examples/s]"
      ]
     },
     "metadata": {},
     "output_type": "display_data"
    },
    {
     "data": {
      "application/vnd.jupyter.widget-view+json": {
       "model_id": "83cc355247244dfdbec486437036ba9e",
       "version_major": 2,
       "version_minor": 0
      },
      "text/plain": [
       "Creating parquet from Arrow format:   0%|          | 0/1 [00:00<?, ?ba/s]"
      ]
     },
     "metadata": {},
     "output_type": "display_data"
    },
    {
     "data": {
      "application/vnd.jupyter.widget-view+json": {
       "model_id": "8749edcc98794ef1bc4ebe91da679b01",
       "version_major": 2,
       "version_minor": 0
      },
      "text/plain": [
       "Map:   0%|          | 0/223 [00:00<?, ? examples/s]"
      ]
     },
     "metadata": {},
     "output_type": "display_data"
    },
    {
     "data": {
      "application/vnd.jupyter.widget-view+json": {
       "model_id": "9e3d3660a57446728d980842d1326fca",
       "version_major": 2,
       "version_minor": 0
      },
      "text/plain": [
       "Creating parquet from Arrow format:   0%|          | 0/1 [00:00<?, ?ba/s]"
      ]
     },
     "metadata": {},
     "output_type": "display_data"
    },
    {
     "data": {
      "application/vnd.jupyter.widget-view+json": {
       "model_id": "5d63d0596d1e4803b82b43400b466398",
       "version_major": 2,
       "version_minor": 0
      },
      "text/plain": [
       "Map:   0%|          | 0/118 [00:00<?, ? examples/s]"
      ]
     },
     "metadata": {},
     "output_type": "display_data"
    },
    {
     "data": {
      "application/vnd.jupyter.widget-view+json": {
       "model_id": "8f443f2abfb348b2821065a3e3ffe834",
       "version_major": 2,
       "version_minor": 0
      },
      "text/plain": [
       "Creating parquet from Arrow format:   0%|          | 0/1 [00:00<?, ?ba/s]"
      ]
     },
     "metadata": {},
     "output_type": "display_data"
    },
    {
     "data": {
      "application/vnd.jupyter.widget-view+json": {
       "model_id": "e85c7cf8624d433caf92c6ab6ef12e7a",
       "version_major": 2,
       "version_minor": 0
      },
      "text/plain": [
       "Map:   0%|          | 0/165 [00:00<?, ? examples/s]"
      ]
     },
     "metadata": {},
     "output_type": "display_data"
    },
    {
     "data": {
      "application/vnd.jupyter.widget-view+json": {
       "model_id": "0904395837304a7b8fb5274cd99edc68",
       "version_major": 2,
       "version_minor": 0
      },
      "text/plain": [
       "Creating parquet from Arrow format:   0%|          | 0/1 [00:00<?, ?ba/s]"
      ]
     },
     "metadata": {},
     "output_type": "display_data"
    },
    {
     "data": {
      "application/vnd.jupyter.widget-view+json": {
       "model_id": "d4dfdc064ed14d97a462271103a4570d",
       "version_major": 2,
       "version_minor": 0
      },
      "text/plain": [
       "Map:   0%|          | 0/84 [00:00<?, ? examples/s]"
      ]
     },
     "metadata": {},
     "output_type": "display_data"
    },
    {
     "data": {
      "application/vnd.jupyter.widget-view+json": {
       "model_id": "e967c76092d749c0a1e7ef1b93fa0d72",
       "version_major": 2,
       "version_minor": 0
      },
      "text/plain": [
       "Creating parquet from Arrow format:   0%|          | 0/1 [00:00<?, ?ba/s]"
      ]
     },
     "metadata": {},
     "output_type": "display_data"
    },
    {
     "data": {
      "application/vnd.jupyter.widget-view+json": {
       "model_id": "eb98f4ad16804e1dbc15f544948c7faa",
       "version_major": 2,
       "version_minor": 0
      },
      "text/plain": [
       "Map:   0%|          | 0/247 [00:00<?, ? examples/s]"
      ]
     },
     "metadata": {},
     "output_type": "display_data"
    },
    {
     "data": {
      "application/vnd.jupyter.widget-view+json": {
       "model_id": "5b4e838316e141dba49914748bade30f",
       "version_major": 2,
       "version_minor": 0
      },
      "text/plain": [
       "Creating parquet from Arrow format:   0%|          | 0/1 [00:00<?, ?ba/s]"
      ]
     },
     "metadata": {},
     "output_type": "display_data"
    },
    {
     "data": {
      "application/vnd.jupyter.widget-view+json": {
       "model_id": "e21e010d46bb45a6833be5a518658776",
       "version_major": 2,
       "version_minor": 0
      },
      "text/plain": [
       "Map:   0%|          | 0/301 [00:00<?, ? examples/s]"
      ]
     },
     "metadata": {},
     "output_type": "display_data"
    },
    {
     "data": {
      "application/vnd.jupyter.widget-view+json": {
       "model_id": "f722ce48c42c45e186b08dcab1b0a9fa",
       "version_major": 2,
       "version_minor": 0
      },
      "text/plain": [
       "Creating parquet from Arrow format:   0%|          | 0/1 [00:00<?, ?ba/s]"
      ]
     },
     "metadata": {},
     "output_type": "display_data"
    },
    {
     "data": {
      "application/vnd.jupyter.widget-view+json": {
       "model_id": "06080a8472ce4b26afb245e634def8de",
       "version_major": 2,
       "version_minor": 0
      },
      "text/plain": [
       "Map:   0%|          | 0/135 [00:00<?, ? examples/s]"
      ]
     },
     "metadata": {},
     "output_type": "display_data"
    },
    {
     "data": {
      "application/vnd.jupyter.widget-view+json": {
       "model_id": "7b3f9dbe4ca7450884631f202f35ae95",
       "version_major": 2,
       "version_minor": 0
      },
      "text/plain": [
       "Creating parquet from Arrow format:   0%|          | 0/1 [00:00<?, ?ba/s]"
      ]
     },
     "metadata": {},
     "output_type": "display_data"
    },
    {
     "data": {
      "application/vnd.jupyter.widget-view+json": {
       "model_id": "1217924f88914b37a0cd31a062e091b1",
       "version_major": 2,
       "version_minor": 0
      },
      "text/plain": [
       "Map:   0%|          | 0/301 [00:00<?, ? examples/s]"
      ]
     },
     "metadata": {},
     "output_type": "display_data"
    },
    {
     "data": {
      "application/vnd.jupyter.widget-view+json": {
       "model_id": "62d758cc33784a869db5266db2d72440",
       "version_major": 2,
       "version_minor": 0
      },
      "text/plain": [
       "Creating parquet from Arrow format:   0%|          | 0/1 [00:00<?, ?ba/s]"
      ]
     },
     "metadata": {},
     "output_type": "display_data"
    },
    {
     "data": {
      "application/vnd.jupyter.widget-view+json": {
       "model_id": "7583747d4ac04d689fd6618f38daba12",
       "version_major": 2,
       "version_minor": 0
      },
      "text/plain": [
       "Map:   0%|          | 0/116 [00:00<?, ? examples/s]"
      ]
     },
     "metadata": {},
     "output_type": "display_data"
    },
    {
     "data": {
      "application/vnd.jupyter.widget-view+json": {
       "model_id": "7efc6c8116b0438e915a775da7d9dbd7",
       "version_major": 2,
       "version_minor": 0
      },
      "text/plain": [
       "Creating parquet from Arrow format:   0%|          | 0/1 [00:00<?, ?ba/s]"
      ]
     },
     "metadata": {},
     "output_type": "display_data"
    },
    {
     "data": {
      "application/vnd.jupyter.widget-view+json": {
       "model_id": "07d9c9c0eb914b509c4f0d2de7c0d772",
       "version_major": 2,
       "version_minor": 0
      },
      "text/plain": [
       "Map:   0%|          | 0/141 [00:00<?, ? examples/s]"
      ]
     },
     "metadata": {},
     "output_type": "display_data"
    },
    {
     "data": {
      "application/vnd.jupyter.widget-view+json": {
       "model_id": "95303e1966734d0d84fd46bd8351d883",
       "version_major": 2,
       "version_minor": 0
      },
      "text/plain": [
       "Creating parquet from Arrow format:   0%|          | 0/1 [00:00<?, ?ba/s]"
      ]
     },
     "metadata": {},
     "output_type": "display_data"
    },
    {
     "data": {
      "application/vnd.jupyter.widget-view+json": {
       "model_id": "942bd81959ed4222a9b5ebc7404471df",
       "version_major": 2,
       "version_minor": 0
      },
      "text/plain": [
       "Map:   0%|          | 0/130 [00:00<?, ? examples/s]"
      ]
     },
     "metadata": {},
     "output_type": "display_data"
    },
    {
     "data": {
      "application/vnd.jupyter.widget-view+json": {
       "model_id": "7b356ecdd24f4671b432050bbbd56dce",
       "version_major": 2,
       "version_minor": 0
      },
      "text/plain": [
       "Creating parquet from Arrow format:   0%|          | 0/1 [00:00<?, ?ba/s]"
      ]
     },
     "metadata": {},
     "output_type": "display_data"
    },
    {
     "data": {
      "application/vnd.jupyter.widget-view+json": {
       "model_id": "0882a0eea2e14bf69714547ad56a53c5",
       "version_major": 2,
       "version_minor": 0
      },
      "text/plain": [
       "Map:   0%|          | 0/155 [00:00<?, ? examples/s]"
      ]
     },
     "metadata": {},
     "output_type": "display_data"
    },
    {
     "data": {
      "application/vnd.jupyter.widget-view+json": {
       "model_id": "11c279345a0e4f2b9e52dbfe600fdede",
       "version_major": 2,
       "version_minor": 0
      },
      "text/plain": [
       "Creating parquet from Arrow format:   0%|          | 0/1 [00:00<?, ?ba/s]"
      ]
     },
     "metadata": {},
     "output_type": "display_data"
    },
    {
     "data": {
      "application/vnd.jupyter.widget-view+json": {
       "model_id": "9568b61afc8140748f0ae4c3319025bf",
       "version_major": 2,
       "version_minor": 0
      },
      "text/plain": [
       "Map:   0%|          | 0/301 [00:00<?, ? examples/s]"
      ]
     },
     "metadata": {},
     "output_type": "display_data"
    },
    {
     "data": {
      "application/vnd.jupyter.widget-view+json": {
       "model_id": "5c2f4e9a39944864b0312a5e150db617",
       "version_major": 2,
       "version_minor": 0
      },
      "text/plain": [
       "Creating parquet from Arrow format:   0%|          | 0/1 [00:00<?, ?ba/s]"
      ]
     },
     "metadata": {},
     "output_type": "display_data"
    },
    {
     "data": {
      "application/vnd.jupyter.widget-view+json": {
       "model_id": "ce260fd827594d48973a627882c52edb",
       "version_major": 2,
       "version_minor": 0
      },
      "text/plain": [
       "Map:   0%|          | 0/130 [00:00<?, ? examples/s]"
      ]
     },
     "metadata": {},
     "output_type": "display_data"
    },
    {
     "data": {
      "application/vnd.jupyter.widget-view+json": {
       "model_id": "ce834dcd24fe47178ead541eb86bcdec",
       "version_major": 2,
       "version_minor": 0
      },
      "text/plain": [
       "Creating parquet from Arrow format:   0%|          | 0/1 [00:00<?, ?ba/s]"
      ]
     },
     "metadata": {},
     "output_type": "display_data"
    },
    {
     "data": {
      "application/vnd.jupyter.widget-view+json": {
       "model_id": "01abd3f2f50a4b149ef39b52e80934cc",
       "version_major": 2,
       "version_minor": 0
      },
      "text/plain": [
       "Map:   0%|          | 0/92 [00:00<?, ? examples/s]"
      ]
     },
     "metadata": {},
     "output_type": "display_data"
    },
    {
     "data": {
      "application/vnd.jupyter.widget-view+json": {
       "model_id": "1fa453514ef2475bb9cce72be3fb99b3",
       "version_major": 2,
       "version_minor": 0
      },
      "text/plain": [
       "Creating parquet from Arrow format:   0%|          | 0/1 [00:00<?, ?ba/s]"
      ]
     },
     "metadata": {},
     "output_type": "display_data"
    },
    {
     "data": {
      "application/vnd.jupyter.widget-view+json": {
       "model_id": "674bbdb9ab4c479ab95cd62cd7f31dd7",
       "version_major": 2,
       "version_minor": 0
      },
      "text/plain": [
       "Map:   0%|          | 0/196 [00:00<?, ? examples/s]"
      ]
     },
     "metadata": {},
     "output_type": "display_data"
    },
    {
     "data": {
      "application/vnd.jupyter.widget-view+json": {
       "model_id": "52bff7506c684cf984d5eb2c29523c05",
       "version_major": 2,
       "version_minor": 0
      },
      "text/plain": [
       "Creating parquet from Arrow format:   0%|          | 0/1 [00:00<?, ?ba/s]"
      ]
     },
     "metadata": {},
     "output_type": "display_data"
    },
    {
     "data": {
      "application/vnd.jupyter.widget-view+json": {
       "model_id": "33c53b697e3a428797e6c3f970bd41f2",
       "version_major": 2,
       "version_minor": 0
      },
      "text/plain": [
       "Map:   0%|          | 0/180 [00:00<?, ? examples/s]"
      ]
     },
     "metadata": {},
     "output_type": "display_data"
    },
    {
     "data": {
      "application/vnd.jupyter.widget-view+json": {
       "model_id": "2e20d43dea5343b394d05776187e4cc0",
       "version_major": 2,
       "version_minor": 0
      },
      "text/plain": [
       "Creating parquet from Arrow format:   0%|          | 0/1 [00:00<?, ?ba/s]"
      ]
     },
     "metadata": {},
     "output_type": "display_data"
    },
    {
     "data": {
      "application/vnd.jupyter.widget-view+json": {
       "model_id": "61d97e47ea174b458d38c5ba81f7bc20",
       "version_major": 2,
       "version_minor": 0
      },
      "text/plain": [
       "Map:   0%|          | 0/169 [00:00<?, ? examples/s]"
      ]
     },
     "metadata": {},
     "output_type": "display_data"
    },
    {
     "data": {
      "application/vnd.jupyter.widget-view+json": {
       "model_id": "c4333624f2634f048eb61ca6e784c97e",
       "version_major": 2,
       "version_minor": 0
      },
      "text/plain": [
       "Creating parquet from Arrow format:   0%|          | 0/1 [00:00<?, ?ba/s]"
      ]
     },
     "metadata": {},
     "output_type": "display_data"
    },
    {
     "data": {
      "application/vnd.jupyter.widget-view+json": {
       "model_id": "b73fd6431c374e84ba9b238bcb908b28",
       "version_major": 2,
       "version_minor": 0
      },
      "text/plain": [
       "Map:   0%|          | 0/172 [00:00<?, ? examples/s]"
      ]
     },
     "metadata": {},
     "output_type": "display_data"
    },
    {
     "data": {
      "application/vnd.jupyter.widget-view+json": {
       "model_id": "22ca722f151640adad4a1fca5a9e565d",
       "version_major": 2,
       "version_minor": 0
      },
      "text/plain": [
       "Creating parquet from Arrow format:   0%|          | 0/1 [00:00<?, ?ba/s]"
      ]
     },
     "metadata": {},
     "output_type": "display_data"
    },
    {
     "data": {
      "application/vnd.jupyter.widget-view+json": {
       "model_id": "f1cbac73c3384e6c82487daa88967531",
       "version_major": 2,
       "version_minor": 0
      },
      "text/plain": [
       "Map:   0%|          | 0/108 [00:00<?, ? examples/s]"
      ]
     },
     "metadata": {},
     "output_type": "display_data"
    },
    {
     "data": {
      "application/vnd.jupyter.widget-view+json": {
       "model_id": "1e89e49d0ce44e9aaeba6f956951aadc",
       "version_major": 2,
       "version_minor": 0
      },
      "text/plain": [
       "Creating parquet from Arrow format:   0%|          | 0/1 [00:00<?, ?ba/s]"
      ]
     },
     "metadata": {},
     "output_type": "display_data"
    },
    {
     "data": {
      "application/vnd.jupyter.widget-view+json": {
       "model_id": "5833bfd66d22429a9c256cc9379643f9",
       "version_major": 2,
       "version_minor": 0
      },
      "text/plain": [
       "Map:   0%|          | 0/301 [00:00<?, ? examples/s]"
      ]
     },
     "metadata": {},
     "output_type": "display_data"
    },
    {
     "data": {
      "application/vnd.jupyter.widget-view+json": {
       "model_id": "6428a353ee3e44fdbf474181446e7f3e",
       "version_major": 2,
       "version_minor": 0
      },
      "text/plain": [
       "Creating parquet from Arrow format:   0%|          | 0/1 [00:00<?, ?ba/s]"
      ]
     },
     "metadata": {},
     "output_type": "display_data"
    },
    {
     "data": {
      "application/vnd.jupyter.widget-view+json": {
       "model_id": "8a67652a4db24e10b3c4234a731abe18",
       "version_major": 2,
       "version_minor": 0
      },
      "text/plain": [
       "Map:   0%|          | 0/301 [00:00<?, ? examples/s]"
      ]
     },
     "metadata": {},
     "output_type": "display_data"
    },
    {
     "data": {
      "application/vnd.jupyter.widget-view+json": {
       "model_id": "007226953de64f15b6905c01a476f317",
       "version_major": 2,
       "version_minor": 0
      },
      "text/plain": [
       "Creating parquet from Arrow format:   0%|          | 0/1 [00:00<?, ?ba/s]"
      ]
     },
     "metadata": {},
     "output_type": "display_data"
    },
    {
     "data": {
      "application/vnd.jupyter.widget-view+json": {
       "model_id": "cb44013ba4314f458815b98512b9fd26",
       "version_major": 2,
       "version_minor": 0
      },
      "text/plain": [
       "Map:   0%|          | 0/132 [00:00<?, ? examples/s]"
      ]
     },
     "metadata": {},
     "output_type": "display_data"
    },
    {
     "data": {
      "application/vnd.jupyter.widget-view+json": {
       "model_id": "7d1b4a7da1964d548f43f6d860476253",
       "version_major": 2,
       "version_minor": 0
      },
      "text/plain": [
       "Creating parquet from Arrow format:   0%|          | 0/1 [00:00<?, ?ba/s]"
      ]
     },
     "metadata": {},
     "output_type": "display_data"
    },
    {
     "data": {
      "application/vnd.jupyter.widget-view+json": {
       "model_id": "755e17945a694d8f8904cb6a8dd09de6",
       "version_major": 2,
       "version_minor": 0
      },
      "text/plain": [
       "Map:   0%|          | 0/179 [00:00<?, ? examples/s]"
      ]
     },
     "metadata": {},
     "output_type": "display_data"
    },
    {
     "data": {
      "application/vnd.jupyter.widget-view+json": {
       "model_id": "cdf47f0dd5ab4c6a998648b6b83445ad",
       "version_major": 2,
       "version_minor": 0
      },
      "text/plain": [
       "Creating parquet from Arrow format:   0%|          | 0/1 [00:00<?, ?ba/s]"
      ]
     },
     "metadata": {},
     "output_type": "display_data"
    },
    {
     "data": {
      "application/vnd.jupyter.widget-view+json": {
       "model_id": "c674ac8467b1419986168e9892b121f1",
       "version_major": 2,
       "version_minor": 0
      },
      "text/plain": [
       "Map:   0%|          | 0/131 [00:00<?, ? examples/s]"
      ]
     },
     "metadata": {},
     "output_type": "display_data"
    },
    {
     "data": {
      "application/vnd.jupyter.widget-view+json": {
       "model_id": "d2a9cdcb776444f4919d5f1a1928088f",
       "version_major": 2,
       "version_minor": 0
      },
      "text/plain": [
       "Creating parquet from Arrow format:   0%|          | 0/1 [00:00<?, ?ba/s]"
      ]
     },
     "metadata": {},
     "output_type": "display_data"
    },
    {
     "data": {
      "application/vnd.jupyter.widget-view+json": {
       "model_id": "2808e5a869cf4cc4893eba679fa1ba51",
       "version_major": 2,
       "version_minor": 0
      },
      "text/plain": [
       "Map:   0%|          | 0/197 [00:00<?, ? examples/s]"
      ]
     },
     "metadata": {},
     "output_type": "display_data"
    },
    {
     "data": {
      "application/vnd.jupyter.widget-view+json": {
       "model_id": "e5fec82232af482a8ca841d8b5dcd9db",
       "version_major": 2,
       "version_minor": 0
      },
      "text/plain": [
       "Creating parquet from Arrow format:   0%|          | 0/1 [00:00<?, ?ba/s]"
      ]
     },
     "metadata": {},
     "output_type": "display_data"
    },
    {
     "data": {
      "application/vnd.jupyter.widget-view+json": {
       "model_id": "f56bef46084a4b08a8793b1b256c3cc1",
       "version_major": 2,
       "version_minor": 0
      },
      "text/plain": [
       "Map:   0%|          | 0/157 [00:00<?, ? examples/s]"
      ]
     },
     "metadata": {},
     "output_type": "display_data"
    },
    {
     "data": {
      "application/vnd.jupyter.widget-view+json": {
       "model_id": "2515ad5e045545488fa73569de10e607",
       "version_major": 2,
       "version_minor": 0
      },
      "text/plain": [
       "Creating parquet from Arrow format:   0%|          | 0/1 [00:00<?, ?ba/s]"
      ]
     },
     "metadata": {},
     "output_type": "display_data"
    },
    {
     "data": {
      "application/vnd.jupyter.widget-view+json": {
       "model_id": "f8544bfc96d0495784a965e7bd233722",
       "version_major": 2,
       "version_minor": 0
      },
      "text/plain": [
       "Map:   0%|          | 0/139 [00:00<?, ? examples/s]"
      ]
     },
     "metadata": {},
     "output_type": "display_data"
    },
    {
     "data": {
      "application/vnd.jupyter.widget-view+json": {
       "model_id": "f6af9a5de06b445090716389f429d1ad",
       "version_major": 2,
       "version_minor": 0
      },
      "text/plain": [
       "Creating parquet from Arrow format:   0%|          | 0/1 [00:00<?, ?ba/s]"
      ]
     },
     "metadata": {},
     "output_type": "display_data"
    },
    {
     "data": {
      "application/vnd.jupyter.widget-view+json": {
       "model_id": "4ce1cee1fcc64c49b725bc25e9270721",
       "version_major": 2,
       "version_minor": 0
      },
      "text/plain": [
       "Map:   0%|          | 0/187 [00:00<?, ? examples/s]"
      ]
     },
     "metadata": {},
     "output_type": "display_data"
    },
    {
     "data": {
      "application/vnd.jupyter.widget-view+json": {
       "model_id": "63921a1e2459490c967c2b0275afa03f",
       "version_major": 2,
       "version_minor": 0
      },
      "text/plain": [
       "Creating parquet from Arrow format:   0%|          | 0/1 [00:00<?, ?ba/s]"
      ]
     },
     "metadata": {},
     "output_type": "display_data"
    },
    {
     "data": {
      "application/vnd.jupyter.widget-view+json": {
       "model_id": "49dfa1c31f7043838428baaaf338d2eb",
       "version_major": 2,
       "version_minor": 0
      },
      "text/plain": [
       "Map:   0%|          | 0/244 [00:00<?, ? examples/s]"
      ]
     },
     "metadata": {},
     "output_type": "display_data"
    },
    {
     "data": {
      "application/vnd.jupyter.widget-view+json": {
       "model_id": "fe75d4d93c6b462f83fba48c09bd03b4",
       "version_major": 2,
       "version_minor": 0
      },
      "text/plain": [
       "Creating parquet from Arrow format:   0%|          | 0/1 [00:00<?, ?ba/s]"
      ]
     },
     "metadata": {},
     "output_type": "display_data"
    },
    {
     "data": {
      "application/vnd.jupyter.widget-view+json": {
       "model_id": "95c04b6c5996456093d83a1e5567fdbb",
       "version_major": 2,
       "version_minor": 0
      },
      "text/plain": [
       "Map:   0%|          | 0/152 [00:00<?, ? examples/s]"
      ]
     },
     "metadata": {},
     "output_type": "display_data"
    },
    {
     "data": {
      "application/vnd.jupyter.widget-view+json": {
       "model_id": "dc9807ac3f8644358e40d67c4798d58e",
       "version_major": 2,
       "version_minor": 0
      },
      "text/plain": [
       "Creating parquet from Arrow format:   0%|          | 0/1 [00:00<?, ?ba/s]"
      ]
     },
     "metadata": {},
     "output_type": "display_data"
    },
    {
     "data": {
      "application/vnd.jupyter.widget-view+json": {
       "model_id": "41be4ece276948baba922060aeb16e84",
       "version_major": 2,
       "version_minor": 0
      },
      "text/plain": [
       "Map:   0%|          | 0/98 [00:00<?, ? examples/s]"
      ]
     },
     "metadata": {},
     "output_type": "display_data"
    },
    {
     "data": {
      "application/vnd.jupyter.widget-view+json": {
       "model_id": "97bf0f5ea36a483fb5849712550f955a",
       "version_major": 2,
       "version_minor": 0
      },
      "text/plain": [
       "Creating parquet from Arrow format:   0%|          | 0/1 [00:00<?, ?ba/s]"
      ]
     },
     "metadata": {},
     "output_type": "display_data"
    },
    {
     "data": {
      "application/vnd.jupyter.widget-view+json": {
       "model_id": "1a4dee45129746a2a422458dd75bbf78",
       "version_major": 2,
       "version_minor": 0
      },
      "text/plain": [
       "Map:   0%|          | 0/261 [00:00<?, ? examples/s]"
      ]
     },
     "metadata": {},
     "output_type": "display_data"
    },
    {
     "data": {
      "application/vnd.jupyter.widget-view+json": {
       "model_id": "8524140e3bc2413091247616920db05c",
       "version_major": 2,
       "version_minor": 0
      },
      "text/plain": [
       "Creating parquet from Arrow format:   0%|          | 0/1 [00:00<?, ?ba/s]"
      ]
     },
     "metadata": {},
     "output_type": "display_data"
    },
    {
     "data": {
      "application/vnd.jupyter.widget-view+json": {
       "model_id": "3325c345ac284c259ef1027b44b3488d",
       "version_major": 2,
       "version_minor": 0
      },
      "text/plain": [
       "Map:   0%|          | 0/170 [00:00<?, ? examples/s]"
      ]
     },
     "metadata": {},
     "output_type": "display_data"
    },
    {
     "data": {
      "application/vnd.jupyter.widget-view+json": {
       "model_id": "26812c5f9d9448dbb6d2575d36a054ed",
       "version_major": 2,
       "version_minor": 0
      },
      "text/plain": [
       "Creating parquet from Arrow format:   0%|          | 0/1 [00:00<?, ?ba/s]"
      ]
     },
     "metadata": {},
     "output_type": "display_data"
    },
    {
     "data": {
      "application/vnd.jupyter.widget-view+json": {
       "model_id": "a5b64a9e91914195a938a8dc1b42fefe",
       "version_major": 2,
       "version_minor": 0
      },
      "text/plain": [
       "Map:   0%|          | 0/138 [00:00<?, ? examples/s]"
      ]
     },
     "metadata": {},
     "output_type": "display_data"
    },
    {
     "data": {
      "application/vnd.jupyter.widget-view+json": {
       "model_id": "6b423d471890426b893e35048b7d957f",
       "version_major": 2,
       "version_minor": 0
      },
      "text/plain": [
       "Creating parquet from Arrow format:   0%|          | 0/1 [00:00<?, ?ba/s]"
      ]
     },
     "metadata": {},
     "output_type": "display_data"
    },
    {
     "data": {
      "application/vnd.jupyter.widget-view+json": {
       "model_id": "43b48ae011af49c4a81b52835b8750fe",
       "version_major": 2,
       "version_minor": 0
      },
      "text/plain": [
       "Map:   0%|          | 0/265 [00:00<?, ? examples/s]"
      ]
     },
     "metadata": {},
     "output_type": "display_data"
    },
    {
     "data": {
      "application/vnd.jupyter.widget-view+json": {
       "model_id": "24f0dd7ed0f848aeae2560677f65bb3c",
       "version_major": 2,
       "version_minor": 0
      },
      "text/plain": [
       "Creating parquet from Arrow format:   0%|          | 0/1 [00:00<?, ?ba/s]"
      ]
     },
     "metadata": {},
     "output_type": "display_data"
    },
    {
     "data": {
      "application/vnd.jupyter.widget-view+json": {
       "model_id": "b34014370dfc4847aaa7052fb269267d",
       "version_major": 2,
       "version_minor": 0
      },
      "text/plain": [
       "Map:   0%|          | 0/287 [00:00<?, ? examples/s]"
      ]
     },
     "metadata": {},
     "output_type": "display_data"
    },
    {
     "data": {
      "application/vnd.jupyter.widget-view+json": {
       "model_id": "3f4ad570f11844c3b8f84b760ad17013",
       "version_major": 2,
       "version_minor": 0
      },
      "text/plain": [
       "Creating parquet from Arrow format:   0%|          | 0/1 [00:00<?, ?ba/s]"
      ]
     },
     "metadata": {},
     "output_type": "display_data"
    },
    {
     "data": {
      "application/vnd.jupyter.widget-view+json": {
       "model_id": "ce9a6eea0f164cd6b1047091da43c8ae",
       "version_major": 2,
       "version_minor": 0
      },
      "text/plain": [
       "Map:   0%|          | 0/153 [00:00<?, ? examples/s]"
      ]
     },
     "metadata": {},
     "output_type": "display_data"
    },
    {
     "data": {
      "application/vnd.jupyter.widget-view+json": {
       "model_id": "b16ee3f53e3c45c286262b6b44d43681",
       "version_major": 2,
       "version_minor": 0
      },
      "text/plain": [
       "Creating parquet from Arrow format:   0%|          | 0/1 [00:00<?, ?ba/s]"
      ]
     },
     "metadata": {},
     "output_type": "display_data"
    },
    {
     "data": {
      "application/vnd.jupyter.widget-view+json": {
       "model_id": "161140a757ca47e2b35c7f1a7e049580",
       "version_major": 2,
       "version_minor": 0
      },
      "text/plain": [
       "Map:   0%|          | 0/88 [00:00<?, ? examples/s]"
      ]
     },
     "metadata": {},
     "output_type": "display_data"
    },
    {
     "data": {
      "application/vnd.jupyter.widget-view+json": {
       "model_id": "78d3b3d0f5894e1ca89782aeb1fca08f",
       "version_major": 2,
       "version_minor": 0
      },
      "text/plain": [
       "Creating parquet from Arrow format:   0%|          | 0/1 [00:00<?, ?ba/s]"
      ]
     },
     "metadata": {},
     "output_type": "display_data"
    },
    {
     "data": {
      "application/vnd.jupyter.widget-view+json": {
       "model_id": "a26709875ecf49ed9bd12c28054909fc",
       "version_major": 2,
       "version_minor": 0
      },
      "text/plain": [
       "Map:   0%|          | 0/155 [00:00<?, ? examples/s]"
      ]
     },
     "metadata": {},
     "output_type": "display_data"
    },
    {
     "data": {
      "application/vnd.jupyter.widget-view+json": {
       "model_id": "46332d1b1e504133b63bd4bf703c43ef",
       "version_major": 2,
       "version_minor": 0
      },
      "text/plain": [
       "Creating parquet from Arrow format:   0%|          | 0/1 [00:00<?, ?ba/s]"
      ]
     },
     "metadata": {},
     "output_type": "display_data"
    },
    {
     "data": {
      "application/vnd.jupyter.widget-view+json": {
       "model_id": "e267a6290cf44190a3d77e84622cc387",
       "version_major": 2,
       "version_minor": 0
      },
      "text/plain": [
       "Map:   0%|          | 0/109 [00:00<?, ? examples/s]"
      ]
     },
     "metadata": {},
     "output_type": "display_data"
    },
    {
     "data": {
      "application/vnd.jupyter.widget-view+json": {
       "model_id": "536f7223959e4c5f947e17b43f37ab17",
       "version_major": 2,
       "version_minor": 0
      },
      "text/plain": [
       "Creating parquet from Arrow format:   0%|          | 0/1 [00:00<?, ?ba/s]"
      ]
     },
     "metadata": {},
     "output_type": "display_data"
    },
    {
     "data": {
      "application/vnd.jupyter.widget-view+json": {
       "model_id": "2704c385468f4ac7be134f61a4b6ce08",
       "version_major": 2,
       "version_minor": 0
      },
      "text/plain": [
       "Map:   0%|          | 0/127 [00:00<?, ? examples/s]"
      ]
     },
     "metadata": {},
     "output_type": "display_data"
    },
    {
     "data": {
      "application/vnd.jupyter.widget-view+json": {
       "model_id": "813f4ad496c545ba8146e2e3a1f52145",
       "version_major": 2,
       "version_minor": 0
      },
      "text/plain": [
       "Creating parquet from Arrow format:   0%|          | 0/1 [00:00<?, ?ba/s]"
      ]
     },
     "metadata": {},
     "output_type": "display_data"
    },
    {
     "data": {
      "application/vnd.jupyter.widget-view+json": {
       "model_id": "fe14f1d05e084a96bf8e913690c118c7",
       "version_major": 2,
       "version_minor": 0
      },
      "text/plain": [
       "Map:   0%|          | 0/155 [00:00<?, ? examples/s]"
      ]
     },
     "metadata": {},
     "output_type": "display_data"
    },
    {
     "data": {
      "application/vnd.jupyter.widget-view+json": {
       "model_id": "8d9a72d4682d43068bd59a9e694e8b31",
       "version_major": 2,
       "version_minor": 0
      },
      "text/plain": [
       "Creating parquet from Arrow format:   0%|          | 0/1 [00:00<?, ?ba/s]"
      ]
     },
     "metadata": {},
     "output_type": "display_data"
    },
    {
     "data": {
      "application/vnd.jupyter.widget-view+json": {
       "model_id": "3d585e21e6bd4b9f868e87939ebf6c7b",
       "version_major": 2,
       "version_minor": 0
      },
      "text/plain": [
       "Map:   0%|          | 0/301 [00:00<?, ? examples/s]"
      ]
     },
     "metadata": {},
     "output_type": "display_data"
    },
    {
     "data": {
      "application/vnd.jupyter.widget-view+json": {
       "model_id": "2a01025de2604e59b6f28b7cbe7af3ad",
       "version_major": 2,
       "version_minor": 0
      },
      "text/plain": [
       "Creating parquet from Arrow format:   0%|          | 0/1 [00:00<?, ?ba/s]"
      ]
     },
     "metadata": {},
     "output_type": "display_data"
    },
    {
     "data": {
      "application/vnd.jupyter.widget-view+json": {
       "model_id": "195d6381c7b149edb24083c008b9288e",
       "version_major": 2,
       "version_minor": 0
      },
      "text/plain": [
       "Map:   0%|          | 0/250 [00:00<?, ? examples/s]"
      ]
     },
     "metadata": {},
     "output_type": "display_data"
    },
    {
     "data": {
      "application/vnd.jupyter.widget-view+json": {
       "model_id": "276428ae87e0464f8d9d4dab91b39200",
       "version_major": 2,
       "version_minor": 0
      },
      "text/plain": [
       "Creating parquet from Arrow format:   0%|          | 0/1 [00:00<?, ?ba/s]"
      ]
     },
     "metadata": {},
     "output_type": "display_data"
    },
    {
     "data": {
      "application/vnd.jupyter.widget-view+json": {
       "model_id": "61f6ba30a6934c16a6908ba6215fa841",
       "version_major": 2,
       "version_minor": 0
      },
      "text/plain": [
       "Map:   0%|          | 0/243 [00:00<?, ? examples/s]"
      ]
     },
     "metadata": {},
     "output_type": "display_data"
    },
    {
     "data": {
      "application/vnd.jupyter.widget-view+json": {
       "model_id": "8cb4b2e11deb4e379e57556254b9384a",
       "version_major": 2,
       "version_minor": 0
      },
      "text/plain": [
       "Creating parquet from Arrow format:   0%|          | 0/1 [00:00<?, ?ba/s]"
      ]
     },
     "metadata": {},
     "output_type": "display_data"
    },
    {
     "data": {
      "application/vnd.jupyter.widget-view+json": {
       "model_id": "36863a5e70754141938e5c7e575d01aa",
       "version_major": 2,
       "version_minor": 0
      },
      "text/plain": [
       "Map:   0%|          | 0/209 [00:00<?, ? examples/s]"
      ]
     },
     "metadata": {},
     "output_type": "display_data"
    },
    {
     "data": {
      "application/vnd.jupyter.widget-view+json": {
       "model_id": "3a6bf3117eb54ad2bc0c0128ccd12d18",
       "version_major": 2,
       "version_minor": 0
      },
      "text/plain": [
       "Creating parquet from Arrow format:   0%|          | 0/1 [00:00<?, ?ba/s]"
      ]
     },
     "metadata": {},
     "output_type": "display_data"
    },
    {
     "data": {
      "application/vnd.jupyter.widget-view+json": {
       "model_id": "04702cafc8d944c1970d17c856115035",
       "version_major": 2,
       "version_minor": 0
      },
      "text/plain": [
       "Resolving data files:   0%|          | 0/100 [00:00<?, ?it/s]"
      ]
     },
     "metadata": {},
     "output_type": "display_data"
    },
    {
     "data": {
      "application/vnd.jupyter.widget-view+json": {
       "model_id": "3cdcc9191df442e89b99324e3db7f7c8",
       "version_major": 2,
       "version_minor": 0
      },
      "text/plain": [
       "Downloading data:   0%|          | 0/100 [00:00<?, ?files/s]"
      ]
     },
     "metadata": {},
     "output_type": "display_data"
    },
    {
     "data": {
      "application/vnd.jupyter.widget-view+json": {
       "model_id": "e468323ccfa942b89efd79898435a426",
       "version_major": 2,
       "version_minor": 0
      },
      "text/plain": [
       "Generating train split: 0 examples [00:00, ? examples/s]"
      ]
     },
     "metadata": {},
     "output_type": "display_data"
    },
    {
     "name": "stderr",
     "output_type": "stream",
     "text": [
      "Svt[info]: -------------------------------------------\n",
      "Svt[info]: SVT [version]:\tSVT-AV1 Encoder Lib v2.3.0-61-g66fb0f59\n",
      "Svt[info]: SVT [build]  :\tGCC 11.4.0\t 64 bit\n",
      "Svt[info]: LIB Build date: Nov 27 2024 13:20:34\n",
      "Svt[info]: -------------------------------------------\n",
      "Svt[info]: Level of Parallelism: 5\n",
      "Svt[info]: Number of PPCS 76\n",
      "Svt[info]: [asm level on system : up to avx2]\n",
      "Svt[info]: [asm level selected : up to avx2]\n",
      "Svt[info]: -------------------------------------------\n",
      "Svt[info]: SVT [config]: main profile\ttier (auto)\tlevel (auto)\n",
      "Svt[info]: SVT [config]: width / height / fps numerator / fps denominator \t\t: 96 / 96 / 10 / 1\n",
      "Svt[info]: SVT [config]: bit-depth / color format \t\t\t\t\t: 8 / YUV420\n",
      "Svt[info]: SVT [config]: preset / tune / pred struct \t\t\t\t\t: 10 / PSNR / random access\n",
      "Svt[info]: SVT [config]: gop size / mini-gop size / key-frame type \t\t\t: 2 / 16 / key frame\n",
      "Svt[info]: SVT [config]: BRC mode / rate factor \t\t\t\t\t: CRF / 30 \n",
      "Svt[info]: SVT [config]: AQ mode / variance boost \t\t\t\t\t: 2 / 0\n",
      "Svt[info]: -------------------------------------------\n",
      "Svt[info]: -------------------------------------------\n",
      "Svt[info]: SVT [version]:\tSVT-AV1 Encoder Lib v2.3.0-61-g66fb0f59\n",
      "Svt[info]: SVT [build]  :\tGCC 11.4.0\t 64 bit\n",
      "Svt[info]: LIB Build date: Nov 27 2024 13:20:34\n",
      "Svt[info]: -------------------------------------------\n",
      "Svt[info]: Level of Parallelism: 5\n",
      "Svt[info]: Number of PPCS 76\n",
      "Svt[info]: [asm level on system : up to avx2]\n",
      "Svt[info]: [asm level selected : up to avx2]\n",
      "Svt[info]: -------------------------------------------\n",
      "Svt[info]: SVT [config]: main profile\ttier (auto)\tlevel (auto)\n",
      "Svt[info]: SVT [config]: width / height / fps numerator / fps denominator \t\t: 96 / 96 / 10 / 1\n",
      "Svt[info]: SVT [config]: bit-depth / color format \t\t\t\t\t: 8 / YUV420\n",
      "Svt[info]: SVT [config]: preset / tune / pred struct \t\t\t\t\t: 10 / PSNR / random access\n",
      "Svt[info]: SVT [config]: gop size / mini-gop size / key-frame type \t\t\t: 2 / 16 / key frame\n",
      "Svt[info]: SVT [config]: BRC mode / rate factor \t\t\t\t\t: CRF / 30 \n",
      "Svt[info]: SVT [config]: AQ mode / variance boost \t\t\t\t\t: 2 / 0\n",
      "Svt[info]: -------------------------------------------\n",
      "Svt[info]: -------------------------------------------\n",
      "Svt[info]: SVT [version]:\tSVT-AV1 Encoder Lib v2.3.0-61-g66fb0f59\n",
      "Svt[info]: SVT [build]  :\tGCC 11.4.0\t 64 bit\n",
      "Svt[info]: LIB Build date: Nov 27 2024 13:20:34\n",
      "Svt[info]: -------------------------------------------\n",
      "Svt[info]: Level of Parallelism: 5\n",
      "Svt[info]: Number of PPCS 76\n",
      "Svt[info]: [asm level on system : up to avx2]\n",
      "Svt[info]: [asm level selected : up to avx2]\n",
      "Svt[info]: -------------------------------------------\n",
      "Svt[info]: SVT [config]: main profile\ttier (auto)\tlevel (auto)\n",
      "Svt[info]: SVT [config]: width / height / fps numerator / fps denominator \t\t: 96 / 96 / 10 / 1\n",
      "Svt[info]: SVT [config]: bit-depth / color format \t\t\t\t\t: 8 / YUV420\n",
      "Svt[info]: SVT [config]: preset / tune / pred struct \t\t\t\t\t: 10 / PSNR / random access\n",
      "Svt[info]: SVT [config]: gop size / mini-gop size / key-frame type \t\t\t: 2 / 16 / key frame\n",
      "Svt[info]: SVT [config]: BRC mode / rate factor \t\t\t\t\t: CRF / 30 \n",
      "Svt[info]: SVT [config]: AQ mode / variance boost \t\t\t\t\t: 2 / 0\n",
      "Svt[info]: -------------------------------------------\n",
      "Svt[info]: -------------------------------------------\n",
      "Svt[info]: SVT [version]:\tSVT-AV1 Encoder Lib v2.3.0-61-g66fb0f59\n",
      "Svt[info]: SVT [build]  :\tGCC 11.4.0\t 64 bit\n",
      "Svt[info]: LIB Build date: Nov 27 2024 13:20:34\n",
      "Svt[info]: -------------------------------------------\n",
      "Svt[info]: Level of Parallelism: 5\n",
      "Svt[info]: Number of PPCS 76\n",
      "Svt[info]: [asm level on system : up to avx2]\n",
      "Svt[info]: [asm level selected : up to avx2]\n",
      "Svt[info]: -------------------------------------------\n",
      "Svt[info]: SVT [config]: main profile\ttier (auto)\tlevel (auto)\n",
      "Svt[info]: SVT [config]: width / height / fps numerator / fps denominator \t\t: 96 / 96 / 10 / 1\n",
      "Svt[info]: SVT [config]: bit-depth / color format \t\t\t\t\t: 8 / YUV420\n",
      "Svt[info]: SVT [config]: preset / tune / pred struct \t\t\t\t\t: 10 / PSNR / random access\n",
      "Svt[info]: SVT [config]: gop size / mini-gop size / key-frame type \t\t\t: 2 / 16 / key frame\n",
      "Svt[info]: SVT [config]: BRC mode / rate factor \t\t\t\t\t: CRF / 30 \n",
      "Svt[info]: SVT [config]: AQ mode / variance boost \t\t\t\t\t: 2 / 0\n",
      "Svt[info]: -------------------------------------------\n",
      "Svt[info]: -------------------------------------------\n",
      "Svt[info]: SVT [version]:\tSVT-AV1 Encoder Lib v2.3.0-61-g66fb0f59\n",
      "Svt[info]: SVT [build]  :\tGCC 11.4.0\t 64 bit\n",
      "Svt[info]: LIB Build date: Nov 27 2024 13:20:34\n",
      "Svt[info]: -------------------------------------------\n",
      "Svt[info]: Level of Parallelism: 5\n",
      "Svt[info]: Number of PPCS 76\n",
      "Svt[info]: [asm level on system : up to avx2]\n",
      "Svt[info]: [asm level selected : up to avx2]\n",
      "Svt[info]: -------------------------------------------\n",
      "Svt[info]: SVT [config]: main profile\ttier (auto)\tlevel (auto)\n",
      "Svt[info]: SVT [config]: width / height / fps numerator / fps denominator \t\t: 96 / 96 / 10 / 1\n",
      "Svt[info]: SVT [config]: bit-depth / color format \t\t\t\t\t: 8 / YUV420\n",
      "Svt[info]: SVT [config]: preset / tune / pred struct \t\t\t\t\t: 10 / PSNR / random access\n",
      "Svt[info]: SVT [config]: gop size / mini-gop size / key-frame type \t\t\t: 2 / 16 / key frame\n",
      "Svt[info]: SVT [config]: BRC mode / rate factor \t\t\t\t\t: CRF / 30 \n",
      "Svt[info]: SVT [config]: AQ mode / variance boost \t\t\t\t\t: 2 / 0\n",
      "Svt[info]: -------------------------------------------\n",
      "Svt[info]: -------------------------------------------\n",
      "Svt[info]: SVT [version]:\tSVT-AV1 Encoder Lib v2.3.0-61-g66fb0f59\n",
      "Svt[info]: SVT [build]  :\tGCC 11.4.0\t 64 bit\n",
      "Svt[info]: LIB Build date: Nov 27 2024 13:20:34\n",
      "Svt[info]: -------------------------------------------\n",
      "Svt[info]: Level of Parallelism: 5\n",
      "Svt[info]: Number of PPCS 76\n",
      "Svt[info]: [asm level on system : up to avx2]\n",
      "Svt[info]: [asm level selected : up to avx2]\n",
      "Svt[info]: -------------------------------------------\n",
      "Svt[info]: SVT [config]: main profile\ttier (auto)\tlevel (auto)\n",
      "Svt[info]: SVT [config]: width / height / fps numerator / fps denominator \t\t: 96 / 96 / 10 / 1\n",
      "Svt[info]: SVT [config]: bit-depth / color format \t\t\t\t\t: 8 / YUV420\n",
      "Svt[info]: SVT [config]: preset / tune / pred struct \t\t\t\t\t: 10 / PSNR / random access\n",
      "Svt[info]: SVT [config]: gop size / mini-gop size / key-frame type \t\t\t: 2 / 16 / key frame\n",
      "Svt[info]: SVT [config]: BRC mode / rate factor \t\t\t\t\t: CRF / 30 \n",
      "Svt[info]: SVT [config]: AQ mode / variance boost \t\t\t\t\t: 2 / 0\n",
      "Svt[info]: -------------------------------------------\n",
      "Svt[info]: -------------------------------------------\n",
      "Svt[info]: SVT [version]:\tSVT-AV1 Encoder Lib v2.3.0-61-g66fb0f59\n",
      "Svt[info]: SVT [build]  :\tGCC 11.4.0\t 64 bit\n",
      "Svt[info]: LIB Build date: Nov 27 2024 13:20:34\n",
      "Svt[info]: -------------------------------------------\n",
      "Svt[info]: Level of Parallelism: 5\n",
      "Svt[info]: Number of PPCS 76\n",
      "Svt[info]: [asm level on system : up to avx2]\n",
      "Svt[info]: [asm level selected : up to avx2]\n",
      "Svt[info]: -------------------------------------------\n",
      "Svt[info]: SVT [config]: main profile\ttier (auto)\tlevel (auto)\n",
      "Svt[info]: SVT [config]: width / height / fps numerator / fps denominator \t\t: 96 / 96 / 10 / 1\n",
      "Svt[info]: SVT [config]: bit-depth / color format \t\t\t\t\t: 8 / YUV420\n",
      "Svt[info]: SVT [config]: preset / tune / pred struct \t\t\t\t\t: 10 / PSNR / random access\n",
      "Svt[info]: SVT [config]: gop size / mini-gop size / key-frame type \t\t\t: 2 / 16 / key frame\n",
      "Svt[info]: SVT [config]: BRC mode / rate factor \t\t\t\t\t: CRF / 30 \n",
      "Svt[info]: SVT [config]: AQ mode / variance boost \t\t\t\t\t: 2 / 0\n",
      "Svt[info]: -------------------------------------------\n",
      "Svt[info]: -------------------------------------------\n",
      "Svt[info]: SVT [version]:\tSVT-AV1 Encoder Lib v2.3.0-61-g66fb0f59\n",
      "Svt[info]: SVT [build]  :\tGCC 11.4.0\t 64 bit\n",
      "Svt[info]: LIB Build date: Nov 27 2024 13:20:34\n",
      "Svt[info]: -------------------------------------------\n",
      "Svt[info]: Level of Parallelism: 5\n",
      "Svt[info]: Number of PPCS 76\n",
      "Svt[info]: [asm level on system : up to avx2]\n",
      "Svt[info]: [asm level selected : up to avx2]\n",
      "Svt[info]: -------------------------------------------\n",
      "Svt[info]: SVT [config]: main profile\ttier (auto)\tlevel (auto)\n",
      "Svt[info]: SVT [config]: width / height / fps numerator / fps denominator \t\t: 96 / 96 / 10 / 1\n",
      "Svt[info]: SVT [config]: bit-depth / color format \t\t\t\t\t: 8 / YUV420\n",
      "Svt[info]: SVT [config]: preset / tune / pred struct \t\t\t\t\t: 10 / PSNR / random access\n",
      "Svt[info]: SVT [config]: gop size / mini-gop size / key-frame type \t\t\t: 2 / 16 / key frame\n",
      "Svt[info]: SVT [config]: BRC mode / rate factor \t\t\t\t\t: CRF / 30 \n",
      "Svt[info]: SVT [config]: AQ mode / variance boost \t\t\t\t\t: 2 / 0\n",
      "Svt[info]: -------------------------------------------\n",
      "Svt[info]: -------------------------------------------\n",
      "Svt[info]: SVT [version]:\tSVT-AV1 Encoder Lib v2.3.0-61-g66fb0f59\n",
      "Svt[info]: SVT [build]  :\tGCC 11.4.0\t 64 bit\n",
      "Svt[info]: LIB Build date: Nov 27 2024 13:20:34\n",
      "Svt[info]: -------------------------------------------\n",
      "Svt[info]: Level of Parallelism: 5\n",
      "Svt[info]: Number of PPCS 76\n",
      "Svt[info]: [asm level on system : up to avx2]\n",
      "Svt[info]: [asm level selected : up to avx2]\n",
      "Svt[info]: -------------------------------------------\n",
      "Svt[info]: SVT [config]: main profile\ttier (auto)\tlevel (auto)\n",
      "Svt[info]: SVT [config]: width / height / fps numerator / fps denominator \t\t: 96 / 96 / 10 / 1\n",
      "Svt[info]: SVT [config]: bit-depth / color format \t\t\t\t\t: 8 / YUV420\n",
      "Svt[info]: SVT [config]: preset / tune / pred struct \t\t\t\t\t: 10 / PSNR / random access\n",
      "Svt[info]: SVT [config]: gop size / mini-gop size / key-frame type \t\t\t: 2 / 16 / key frame\n",
      "Svt[info]: SVT [config]: BRC mode / rate factor \t\t\t\t\t: CRF / 30 \n",
      "Svt[info]: SVT [config]: AQ mode / variance boost \t\t\t\t\t: 2 / 0\n",
      "Svt[info]: -------------------------------------------\n",
      "Svt[info]: -------------------------------------------\n",
      "Svt[info]: SVT [version]:\tSVT-AV1 Encoder Lib v2.3.0-61-g66fb0f59\n",
      "Svt[info]: SVT [build]  :\tGCC 11.4.0\t 64 bit\n",
      "Svt[info]: LIB Build date: Nov 27 2024 13:20:34\n",
      "Svt[info]: -------------------------------------------\n",
      "Svt[info]: Level of Parallelism: 5\n",
      "Svt[info]: Number of PPCS 76\n",
      "Svt[info]: [asm level on system : up to avx2]\n",
      "Svt[info]: [asm level selected : up to avx2]\n",
      "Svt[info]: -------------------------------------------\n",
      "Svt[info]: SVT [config]: main profile\ttier (auto)\tlevel (auto)\n",
      "Svt[info]: SVT [config]: width / height / fps numerator / fps denominator \t\t: 96 / 96 / 10 / 1\n",
      "Svt[info]: SVT [config]: bit-depth / color format \t\t\t\t\t: 8 / YUV420\n",
      "Svt[info]: SVT [config]: preset / tune / pred struct \t\t\t\t\t: 10 / PSNR / random access\n",
      "Svt[info]: SVT [config]: gop size / mini-gop size / key-frame type \t\t\t: 2 / 16 / key frame\n",
      "Svt[info]: SVT [config]: BRC mode / rate factor \t\t\t\t\t: CRF / 30 \n",
      "Svt[info]: SVT [config]: AQ mode / variance boost \t\t\t\t\t: 2 / 0\n",
      "Svt[info]: -------------------------------------------\n",
      "Svt[info]: -------------------------------------------\n",
      "Svt[info]: SVT [version]:\tSVT-AV1 Encoder Lib v2.3.0-61-g66fb0f59\n",
      "Svt[info]: SVT [build]  :\tGCC 11.4.0\t 64 bit\n",
      "Svt[info]: LIB Build date: Nov 27 2024 13:20:34\n",
      "Svt[info]: -------------------------------------------\n",
      "Svt[info]: Level of Parallelism: 5\n",
      "Svt[info]: Number of PPCS 76\n",
      "Svt[info]: [asm level on system : up to avx2]\n",
      "Svt[info]: [asm level selected : up to avx2]\n",
      "Svt[info]: -------------------------------------------\n",
      "Svt[info]: SVT [config]: main profile\ttier (auto)\tlevel (auto)\n",
      "Svt[info]: SVT [config]: width / height / fps numerator / fps denominator \t\t: 96 / 96 / 10 / 1\n",
      "Svt[info]: SVT [config]: bit-depth / color format \t\t\t\t\t: 8 / YUV420\n",
      "Svt[info]: SVT [config]: preset / tune / pred struct \t\t\t\t\t: 10 / PSNR / random access\n",
      "Svt[info]: SVT [config]: gop size / mini-gop size / key-frame type \t\t\t: 2 / 16 / key frame\n",
      "Svt[info]: SVT [config]: BRC mode / rate factor \t\t\t\t\t: CRF / 30 \n",
      "Svt[info]: SVT [config]: AQ mode / variance boost \t\t\t\t\t: 2 / 0\n",
      "Svt[info]: -------------------------------------------\n",
      "Svt[info]: -------------------------------------------\n",
      "Svt[info]: SVT [version]:\tSVT-AV1 Encoder Lib v2.3.0-61-g66fb0f59\n",
      "Svt[info]: SVT [build]  :\tGCC 11.4.0\t 64 bit\n",
      "Svt[info]: LIB Build date: Nov 27 2024 13:20:34\n",
      "Svt[info]: -------------------------------------------\n",
      "Svt[info]: Level of Parallelism: 5\n",
      "Svt[info]: Number of PPCS 76\n",
      "Svt[info]: [asm level on system : up to avx2]\n",
      "Svt[info]: [asm level selected : up to avx2]\n",
      "Svt[info]: -------------------------------------------\n",
      "Svt[info]: SVT [config]: main profile\ttier (auto)\tlevel (auto)\n",
      "Svt[info]: SVT [config]: width / height / fps numerator / fps denominator \t\t: 96 / 96 / 10 / 1\n",
      "Svt[info]: SVT [config]: bit-depth / color format \t\t\t\t\t: 8 / YUV420\n",
      "Svt[info]: SVT [config]: preset / tune / pred struct \t\t\t\t\t: 10 / PSNR / random access\n",
      "Svt[info]: SVT [config]: gop size / mini-gop size / key-frame type \t\t\t: 2 / 16 / key frame\n",
      "Svt[info]: SVT [config]: BRC mode / rate factor \t\t\t\t\t: CRF / 30 \n",
      "Svt[info]: SVT [config]: AQ mode / variance boost \t\t\t\t\t: 2 / 0\n",
      "Svt[info]: -------------------------------------------\n",
      "Svt[info]: -------------------------------------------\n",
      "Svt[info]: SVT [version]:\tSVT-AV1 Encoder Lib v2.3.0-61-g66fb0f59\n",
      "Svt[info]: SVT [build]  :\tGCC 11.4.0\t 64 bit\n",
      "Svt[info]: LIB Build date: Nov 27 2024 13:20:34\n",
      "Svt[info]: -------------------------------------------\n",
      "Svt[info]: Level of Parallelism: 5\n",
      "Svt[info]: Number of PPCS 76\n",
      "Svt[info]: [asm level on system : up to avx2]\n",
      "Svt[info]: [asm level selected : up to avx2]\n",
      "Svt[info]: -------------------------------------------\n",
      "Svt[info]: SVT [config]: main profile\ttier (auto)\tlevel (auto)\n",
      "Svt[info]: SVT [config]: width / height / fps numerator / fps denominator \t\t: 96 / 96 / 10 / 1\n",
      "Svt[info]: SVT [config]: bit-depth / color format \t\t\t\t\t: 8 / YUV420\n",
      "Svt[info]: SVT [config]: preset / tune / pred struct \t\t\t\t\t: 10 / PSNR / random access\n",
      "Svt[info]: SVT [config]: gop size / mini-gop size / key-frame type \t\t\t: 2 / 16 / key frame\n",
      "Svt[info]: SVT [config]: BRC mode / rate factor \t\t\t\t\t: CRF / 30 \n",
      "Svt[info]: SVT [config]: AQ mode / variance boost \t\t\t\t\t: 2 / 0\n",
      "Svt[info]: -------------------------------------------\n",
      "Svt[info]: -------------------------------------------\n",
      "Svt[info]: SVT [version]:\tSVT-AV1 Encoder Lib v2.3.0-61-g66fb0f59\n",
      "Svt[info]: SVT [build]  :\tGCC 11.4.0\t 64 bit\n",
      "Svt[info]: LIB Build date: Nov 27 2024 13:20:34\n",
      "Svt[info]: -------------------------------------------\n",
      "Svt[info]: Level of Parallelism: 5\n",
      "Svt[info]: Number of PPCS 76\n",
      "Svt[info]: [asm level on system : up to avx2]\n",
      "Svt[info]: [asm level selected : up to avx2]\n",
      "Svt[info]: -------------------------------------------\n",
      "Svt[info]: SVT [config]: main profile\ttier (auto)\tlevel (auto)\n",
      "Svt[info]: SVT [config]: width / height / fps numerator / fps denominator \t\t: 96 / 96 / 10 / 1\n",
      "Svt[info]: SVT [config]: bit-depth / color format \t\t\t\t\t: 8 / YUV420\n",
      "Svt[info]: SVT [config]: preset / tune / pred struct \t\t\t\t\t: 10 / PSNR / random access\n",
      "Svt[info]: SVT [config]: gop size / mini-gop size / key-frame type \t\t\t: 2 / 16 / key frame\n",
      "Svt[info]: SVT [config]: BRC mode / rate factor \t\t\t\t\t: CRF / 30 \n",
      "Svt[info]: SVT [config]: AQ mode / variance boost \t\t\t\t\t: 2 / 0\n",
      "Svt[info]: -------------------------------------------\n",
      "Svt[info]: -------------------------------------------\n",
      "Svt[info]: SVT [version]:\tSVT-AV1 Encoder Lib v2.3.0-61-g66fb0f59\n",
      "Svt[info]: SVT [build]  :\tGCC 11.4.0\t 64 bit\n",
      "Svt[info]: LIB Build date: Nov 27 2024 13:20:34\n",
      "Svt[info]: -------------------------------------------\n",
      "Svt[info]: Level of Parallelism: 5\n",
      "Svt[info]: Number of PPCS 76\n",
      "Svt[info]: [asm level on system : up to avx2]\n",
      "Svt[info]: [asm level selected : up to avx2]\n",
      "Svt[info]: -------------------------------------------\n",
      "Svt[info]: SVT [config]: main profile\ttier (auto)\tlevel (auto)\n",
      "Svt[info]: SVT [config]: width / height / fps numerator / fps denominator \t\t: 96 / 96 / 10 / 1\n",
      "Svt[info]: SVT [config]: bit-depth / color format \t\t\t\t\t: 8 / YUV420\n",
      "Svt[info]: SVT [config]: preset / tune / pred struct \t\t\t\t\t: 10 / PSNR / random access\n",
      "Svt[info]: SVT [config]: gop size / mini-gop size / key-frame type \t\t\t: 2 / 16 / key frame\n",
      "Svt[info]: SVT [config]: BRC mode / rate factor \t\t\t\t\t: CRF / 30 \n",
      "Svt[info]: SVT [config]: AQ mode / variance boost \t\t\t\t\t: 2 / 0\n",
      "Svt[info]: -------------------------------------------\n",
      "Svt[info]: -------------------------------------------\n",
      "Svt[info]: SVT [version]:\tSVT-AV1 Encoder Lib v2.3.0-61-g66fb0f59\n",
      "Svt[info]: SVT [build]  :\tGCC 11.4.0\t 64 bit\n",
      "Svt[info]: LIB Build date: Nov 27 2024 13:20:34\n",
      "Svt[info]: -------------------------------------------\n",
      "Svt[info]: Level of Parallelism: 5\n",
      "Svt[info]: Number of PPCS 76\n",
      "Svt[info]: [asm level on system : up to avx2]\n",
      "Svt[info]: [asm level selected : up to avx2]\n",
      "Svt[info]: -------------------------------------------\n",
      "Svt[info]: SVT [config]: main profile\ttier (auto)\tlevel (auto)\n",
      "Svt[info]: SVT [config]: width / height / fps numerator / fps denominator \t\t: 96 / 96 / 10 / 1\n",
      "Svt[info]: SVT [config]: bit-depth / color format \t\t\t\t\t: 8 / YUV420\n",
      "Svt[info]: SVT [config]: preset / tune / pred struct \t\t\t\t\t: 10 / PSNR / random access\n",
      "Svt[info]: SVT [config]: gop size / mini-gop size / key-frame type \t\t\t: 2 / 16 / key frame\n",
      "Svt[info]: SVT [config]: BRC mode / rate factor \t\t\t\t\t: CRF / 30 \n",
      "Svt[info]: SVT [config]: AQ mode / variance boost \t\t\t\t\t: 2 / 0\n",
      "Svt[info]: -------------------------------------------\n",
      "Svt[info]: -------------------------------------------\n",
      "Svt[info]: SVT [version]:\tSVT-AV1 Encoder Lib v2.3.0-61-g66fb0f59\n",
      "Svt[info]: SVT [build]  :\tGCC 11.4.0\t 64 bit\n",
      "Svt[info]: LIB Build date: Nov 27 2024 13:20:34\n",
      "Svt[info]: -------------------------------------------\n",
      "Svt[info]: Level of Parallelism: 5\n",
      "Svt[info]: Number of PPCS 76\n",
      "Svt[info]: [asm level on system : up to avx2]\n",
      "Svt[info]: [asm level selected : up to avx2]\n",
      "Svt[info]: -------------------------------------------\n",
      "Svt[info]: SVT [config]: main profile\ttier (auto)\tlevel (auto)\n",
      "Svt[info]: SVT [config]: width / height / fps numerator / fps denominator \t\t: 96 / 96 / 10 / 1\n",
      "Svt[info]: SVT [config]: bit-depth / color format \t\t\t\t\t: 8 / YUV420\n",
      "Svt[info]: SVT [config]: preset / tune / pred struct \t\t\t\t\t: 10 / PSNR / random access\n",
      "Svt[info]: SVT [config]: gop size / mini-gop size / key-frame type \t\t\t: 2 / 16 / key frame\n",
      "Svt[info]: SVT [config]: BRC mode / rate factor \t\t\t\t\t: CRF / 30 \n",
      "Svt[info]: SVT [config]: AQ mode / variance boost \t\t\t\t\t: 2 / 0\n",
      "Svt[info]: -------------------------------------------\n",
      "Svt[info]: -------------------------------------------\n",
      "Svt[info]: SVT [version]:\tSVT-AV1 Encoder Lib v2.3.0-61-g66fb0f59\n",
      "Svt[info]: SVT [build]  :\tGCC 11.4.0\t 64 bit\n",
      "Svt[info]: LIB Build date: Nov 27 2024 13:20:34\n",
      "Svt[info]: -------------------------------------------\n",
      "Svt[info]: Level of Parallelism: 5\n",
      "Svt[info]: Number of PPCS 76\n",
      "Svt[info]: [asm level on system : up to avx2]\n",
      "Svt[info]: [asm level selected : up to avx2]\n",
      "Svt[info]: -------------------------------------------\n",
      "Svt[info]: SVT [config]: main profile\ttier (auto)\tlevel (auto)\n",
      "Svt[info]: SVT [config]: width / height / fps numerator / fps denominator \t\t: 96 / 96 / 10 / 1\n",
      "Svt[info]: SVT [config]: bit-depth / color format \t\t\t\t\t: 8 / YUV420\n",
      "Svt[info]: SVT [config]: preset / tune / pred struct \t\t\t\t\t: 10 / PSNR / random access\n",
      "Svt[info]: SVT [config]: gop size / mini-gop size / key-frame type \t\t\t: 2 / 16 / key frame\n",
      "Svt[info]: SVT [config]: BRC mode / rate factor \t\t\t\t\t: CRF / 30 \n",
      "Svt[info]: SVT [config]: AQ mode / variance boost \t\t\t\t\t: 2 / 0\n",
      "Svt[info]: -------------------------------------------\n",
      "Svt[info]: -------------------------------------------\n",
      "Svt[info]: SVT [version]:\tSVT-AV1 Encoder Lib v2.3.0-61-g66fb0f59\n",
      "Svt[info]: SVT [build]  :\tGCC 11.4.0\t 64 bit\n",
      "Svt[info]: LIB Build date: Nov 27 2024 13:20:34\n",
      "Svt[info]: -------------------------------------------\n",
      "Svt[info]: Level of Parallelism: 5\n",
      "Svt[info]: Number of PPCS 76\n",
      "Svt[info]: [asm level on system : up to avx2]\n",
      "Svt[info]: [asm level selected : up to avx2]\n",
      "Svt[info]: -------------------------------------------\n",
      "Svt[info]: SVT [config]: main profile\ttier (auto)\tlevel (auto)\n",
      "Svt[info]: SVT [config]: width / height / fps numerator / fps denominator \t\t: 96 / 96 / 10 / 1\n",
      "Svt[info]: SVT [config]: bit-depth / color format \t\t\t\t\t: 8 / YUV420\n",
      "Svt[info]: SVT [config]: preset / tune / pred struct \t\t\t\t\t: 10 / PSNR / random access\n",
      "Svt[info]: SVT [config]: gop size / mini-gop size / key-frame type \t\t\t: 2 / 16 / key frame\n",
      "Svt[info]: SVT [config]: BRC mode / rate factor \t\t\t\t\t: CRF / 30 \n",
      "Svt[info]: SVT [config]: AQ mode / variance boost \t\t\t\t\t: 2 / 0\n",
      "Svt[info]: -------------------------------------------\n",
      "Svt[info]: -------------------------------------------\n",
      "Svt[info]: SVT [version]:\tSVT-AV1 Encoder Lib v2.3.0-61-g66fb0f59\n",
      "Svt[info]: SVT [build]  :\tGCC 11.4.0\t 64 bit\n",
      "Svt[info]: LIB Build date: Nov 27 2024 13:20:34\n",
      "Svt[info]: -------------------------------------------\n",
      "Svt[info]: Level of Parallelism: 5\n",
      "Svt[info]: Number of PPCS 76\n",
      "Svt[info]: [asm level on system : up to avx2]\n",
      "Svt[info]: [asm level selected : up to avx2]\n",
      "Svt[info]: -------------------------------------------\n",
      "Svt[info]: SVT [config]: main profile\ttier (auto)\tlevel (auto)\n",
      "Svt[info]: SVT [config]: width / height / fps numerator / fps denominator \t\t: 96 / 96 / 10 / 1\n",
      "Svt[info]: SVT [config]: bit-depth / color format \t\t\t\t\t: 8 / YUV420\n",
      "Svt[info]: SVT [config]: preset / tune / pred struct \t\t\t\t\t: 10 / PSNR / random access\n",
      "Svt[info]: SVT [config]: gop size / mini-gop size / key-frame type \t\t\t: 2 / 16 / key frame\n",
      "Svt[info]: SVT [config]: BRC mode / rate factor \t\t\t\t\t: CRF / 30 \n",
      "Svt[info]: SVT [config]: AQ mode / variance boost \t\t\t\t\t: 2 / 0\n",
      "Svt[info]: -------------------------------------------\n",
      "Svt[info]: -------------------------------------------\n",
      "Svt[info]: SVT [version]:\tSVT-AV1 Encoder Lib v2.3.0-61-g66fb0f59\n",
      "Svt[info]: SVT [build]  :\tGCC 11.4.0\t 64 bit\n",
      "Svt[info]: LIB Build date: Nov 27 2024 13:20:34\n",
      "Svt[info]: -------------------------------------------\n",
      "Svt[info]: Level of Parallelism: 5\n",
      "Svt[info]: Number of PPCS 76\n",
      "Svt[info]: [asm level on system : up to avx2]\n",
      "Svt[info]: [asm level selected : up to avx2]\n",
      "Svt[info]: -------------------------------------------\n",
      "Svt[info]: SVT [config]: main profile\ttier (auto)\tlevel (auto)\n",
      "Svt[info]: SVT [config]: width / height / fps numerator / fps denominator \t\t: 96 / 96 / 10 / 1\n",
      "Svt[info]: SVT [config]: bit-depth / color format \t\t\t\t\t: 8 / YUV420\n",
      "Svt[info]: SVT [config]: preset / tune / pred struct \t\t\t\t\t: 10 / PSNR / random access\n",
      "Svt[info]: SVT [config]: gop size / mini-gop size / key-frame type \t\t\t: 2 / 16 / key frame\n",
      "Svt[info]: SVT [config]: BRC mode / rate factor \t\t\t\t\t: CRF / 30 \n",
      "Svt[info]: SVT [config]: AQ mode / variance boost \t\t\t\t\t: 2 / 0\n",
      "Svt[info]: -------------------------------------------\n",
      "Svt[info]: -------------------------------------------\n",
      "Svt[info]: SVT [version]:\tSVT-AV1 Encoder Lib v2.3.0-61-g66fb0f59\n",
      "Svt[info]: SVT [build]  :\tGCC 11.4.0\t 64 bit\n",
      "Svt[info]: LIB Build date: Nov 27 2024 13:20:34\n",
      "Svt[info]: -------------------------------------------\n",
      "Svt[info]: Level of Parallelism: 5\n",
      "Svt[info]: Number of PPCS 76\n",
      "Svt[info]: [asm level on system : up to avx2]\n",
      "Svt[info]: [asm level selected : up to avx2]\n",
      "Svt[info]: -------------------------------------------\n",
      "Svt[info]: SVT [config]: main profile\ttier (auto)\tlevel (auto)\n",
      "Svt[info]: SVT [config]: width / height / fps numerator / fps denominator \t\t: 96 / 96 / 10 / 1\n",
      "Svt[info]: SVT [config]: bit-depth / color format \t\t\t\t\t: 8 / YUV420\n",
      "Svt[info]: SVT [config]: preset / tune / pred struct \t\t\t\t\t: 10 / PSNR / random access\n",
      "Svt[info]: SVT [config]: gop size / mini-gop size / key-frame type \t\t\t: 2 / 16 / key frame\n",
      "Svt[info]: SVT [config]: BRC mode / rate factor \t\t\t\t\t: CRF / 30 \n",
      "Svt[info]: SVT [config]: AQ mode / variance boost \t\t\t\t\t: 2 / 0\n",
      "Svt[info]: -------------------------------------------\n",
      "Svt[info]: -------------------------------------------\n",
      "Svt[info]: SVT [version]:\tSVT-AV1 Encoder Lib v2.3.0-61-g66fb0f59\n",
      "Svt[info]: SVT [build]  :\tGCC 11.4.0\t 64 bit\n",
      "Svt[info]: LIB Build date: Nov 27 2024 13:20:34\n",
      "Svt[info]: -------------------------------------------\n",
      "Svt[info]: Level of Parallelism: 5\n",
      "Svt[info]: Number of PPCS 76\n",
      "Svt[info]: [asm level on system : up to avx2]\n",
      "Svt[info]: [asm level selected : up to avx2]\n",
      "Svt[info]: -------------------------------------------\n",
      "Svt[info]: SVT [config]: main profile\ttier (auto)\tlevel (auto)\n",
      "Svt[info]: SVT [config]: width / height / fps numerator / fps denominator \t\t: 96 / 96 / 10 / 1\n",
      "Svt[info]: SVT [config]: bit-depth / color format \t\t\t\t\t: 8 / YUV420\n",
      "Svt[info]: SVT [config]: preset / tune / pred struct \t\t\t\t\t: 10 / PSNR / random access\n",
      "Svt[info]: SVT [config]: gop size / mini-gop size / key-frame type \t\t\t: 2 / 16 / key frame\n",
      "Svt[info]: SVT [config]: BRC mode / rate factor \t\t\t\t\t: CRF / 30 \n",
      "Svt[info]: SVT [config]: AQ mode / variance boost \t\t\t\t\t: 2 / 0\n",
      "Svt[info]: -------------------------------------------\n",
      "Svt[info]: -------------------------------------------\n",
      "Svt[info]: SVT [version]:\tSVT-AV1 Encoder Lib v2.3.0-61-g66fb0f59\n",
      "Svt[info]: SVT [build]  :\tGCC 11.4.0\t 64 bit\n",
      "Svt[info]: LIB Build date: Nov 27 2024 13:20:34\n",
      "Svt[info]: -------------------------------------------\n",
      "Svt[info]: Level of Parallelism: 5\n",
      "Svt[info]: Number of PPCS 76\n",
      "Svt[info]: [asm level on system : up to avx2]\n",
      "Svt[info]: [asm level selected : up to avx2]\n",
      "Svt[info]: -------------------------------------------\n",
      "Svt[info]: SVT [config]: main profile\ttier (auto)\tlevel (auto)\n",
      "Svt[info]: SVT [config]: width / height / fps numerator / fps denominator \t\t: 96 / 96 / 10 / 1\n",
      "Svt[info]: SVT [config]: bit-depth / color format \t\t\t\t\t: 8 / YUV420\n",
      "Svt[info]: SVT [config]: preset / tune / pred struct \t\t\t\t\t: 10 / PSNR / random access\n",
      "Svt[info]: SVT [config]: gop size / mini-gop size / key-frame type \t\t\t: 2 / 16 / key frame\n",
      "Svt[info]: SVT [config]: BRC mode / rate factor \t\t\t\t\t: CRF / 30 \n",
      "Svt[info]: SVT [config]: AQ mode / variance boost \t\t\t\t\t: 2 / 0\n",
      "Svt[info]: -------------------------------------------\n",
      "Svt[info]: -------------------------------------------\n",
      "Svt[info]: SVT [version]:\tSVT-AV1 Encoder Lib v2.3.0-61-g66fb0f59\n",
      "Svt[info]: SVT [build]  :\tGCC 11.4.0\t 64 bit\n",
      "Svt[info]: LIB Build date: Nov 27 2024 13:20:34\n",
      "Svt[info]: -------------------------------------------\n",
      "Svt[info]: Level of Parallelism: 5\n",
      "Svt[info]: Number of PPCS 76\n",
      "Svt[info]: [asm level on system : up to avx2]\n",
      "Svt[info]: [asm level selected : up to avx2]\n",
      "Svt[info]: -------------------------------------------\n",
      "Svt[info]: SVT [config]: main profile\ttier (auto)\tlevel (auto)\n",
      "Svt[info]: SVT [config]: width / height / fps numerator / fps denominator \t\t: 96 / 96 / 10 / 1\n",
      "Svt[info]: SVT [config]: bit-depth / color format \t\t\t\t\t: 8 / YUV420\n",
      "Svt[info]: SVT [config]: preset / tune / pred struct \t\t\t\t\t: 10 / PSNR / random access\n",
      "Svt[info]: SVT [config]: gop size / mini-gop size / key-frame type \t\t\t: 2 / 16 / key frame\n",
      "Svt[info]: SVT [config]: BRC mode / rate factor \t\t\t\t\t: CRF / 30 \n",
      "Svt[info]: SVT [config]: AQ mode / variance boost \t\t\t\t\t: 2 / 0\n",
      "Svt[info]: -------------------------------------------\n",
      "Svt[info]: -------------------------------------------\n",
      "Svt[info]: SVT [version]:\tSVT-AV1 Encoder Lib v2.3.0-61-g66fb0f59\n",
      "Svt[info]: SVT [build]  :\tGCC 11.4.0\t 64 bit\n",
      "Svt[info]: LIB Build date: Nov 27 2024 13:20:34\n",
      "Svt[info]: -------------------------------------------\n",
      "Svt[info]: Level of Parallelism: 5\n",
      "Svt[info]: Number of PPCS 76\n",
      "Svt[info]: [asm level on system : up to avx2]\n",
      "Svt[info]: [asm level selected : up to avx2]\n",
      "Svt[info]: -------------------------------------------\n",
      "Svt[info]: SVT [config]: main profile\ttier (auto)\tlevel (auto)\n",
      "Svt[info]: SVT [config]: width / height / fps numerator / fps denominator \t\t: 96 / 96 / 10 / 1\n",
      "Svt[info]: SVT [config]: bit-depth / color format \t\t\t\t\t: 8 / YUV420\n",
      "Svt[info]: SVT [config]: preset / tune / pred struct \t\t\t\t\t: 10 / PSNR / random access\n",
      "Svt[info]: SVT [config]: gop size / mini-gop size / key-frame type \t\t\t: 2 / 16 / key frame\n",
      "Svt[info]: SVT [config]: BRC mode / rate factor \t\t\t\t\t: CRF / 30 \n",
      "Svt[info]: SVT [config]: AQ mode / variance boost \t\t\t\t\t: 2 / 0\n",
      "Svt[info]: -------------------------------------------\n",
      "Svt[info]: -------------------------------------------\n",
      "Svt[info]: SVT [version]:\tSVT-AV1 Encoder Lib v2.3.0-61-g66fb0f59\n",
      "Svt[info]: SVT [build]  :\tGCC 11.4.0\t 64 bit\n",
      "Svt[info]: LIB Build date: Nov 27 2024 13:20:34\n",
      "Svt[info]: -------------------------------------------\n",
      "Svt[info]: Level of Parallelism: 5\n",
      "Svt[info]: Number of PPCS 76\n",
      "Svt[info]: [asm level on system : up to avx2]\n",
      "Svt[info]: [asm level selected : up to avx2]\n",
      "Svt[info]: -------------------------------------------\n",
      "Svt[info]: SVT [config]: main profile\ttier (auto)\tlevel (auto)\n",
      "Svt[info]: SVT [config]: width / height / fps numerator / fps denominator \t\t: 96 / 96 / 10 / 1\n",
      "Svt[info]: SVT [config]: bit-depth / color format \t\t\t\t\t: 8 / YUV420\n",
      "Svt[info]: SVT [config]: preset / tune / pred struct \t\t\t\t\t: 10 / PSNR / random access\n",
      "Svt[info]: SVT [config]: gop size / mini-gop size / key-frame type \t\t\t: 2 / 16 / key frame\n",
      "Svt[info]: SVT [config]: BRC mode / rate factor \t\t\t\t\t: CRF / 30 \n",
      "Svt[info]: SVT [config]: AQ mode / variance boost \t\t\t\t\t: 2 / 0\n",
      "Svt[info]: -------------------------------------------\n",
      "Svt[info]: -------------------------------------------\n",
      "Svt[info]: SVT [version]:\tSVT-AV1 Encoder Lib v2.3.0-61-g66fb0f59\n",
      "Svt[info]: SVT [build]  :\tGCC 11.4.0\t 64 bit\n",
      "Svt[info]: LIB Build date: Nov 27 2024 13:20:34\n",
      "Svt[info]: -------------------------------------------\n",
      "Svt[info]: Level of Parallelism: 5\n",
      "Svt[info]: Number of PPCS 76\n",
      "Svt[info]: [asm level on system : up to avx2]\n",
      "Svt[info]: [asm level selected : up to avx2]\n",
      "Svt[info]: -------------------------------------------\n",
      "Svt[info]: SVT [config]: main profile\ttier (auto)\tlevel (auto)\n",
      "Svt[info]: SVT [config]: width / height / fps numerator / fps denominator \t\t: 96 / 96 / 10 / 1\n",
      "Svt[info]: SVT [config]: bit-depth / color format \t\t\t\t\t: 8 / YUV420\n",
      "Svt[info]: SVT [config]: preset / tune / pred struct \t\t\t\t\t: 10 / PSNR / random access\n",
      "Svt[info]: SVT [config]: gop size / mini-gop size / key-frame type \t\t\t: 2 / 16 / key frame\n",
      "Svt[info]: SVT [config]: BRC mode / rate factor \t\t\t\t\t: CRF / 30 \n",
      "Svt[info]: SVT [config]: AQ mode / variance boost \t\t\t\t\t: 2 / 0\n",
      "Svt[info]: -------------------------------------------\n",
      "Svt[info]: -------------------------------------------\n",
      "Svt[info]: SVT [version]:\tSVT-AV1 Encoder Lib v2.3.0-61-g66fb0f59\n",
      "Svt[info]: SVT [build]  :\tGCC 11.4.0\t 64 bit\n",
      "Svt[info]: LIB Build date: Nov 27 2024 13:20:34\n",
      "Svt[info]: -------------------------------------------\n",
      "Svt[info]: Level of Parallelism: 5\n",
      "Svt[info]: Number of PPCS 76\n",
      "Svt[info]: [asm level on system : up to avx2]\n",
      "Svt[info]: [asm level selected : up to avx2]\n",
      "Svt[info]: -------------------------------------------\n",
      "Svt[info]: SVT [config]: main profile\ttier (auto)\tlevel (auto)\n",
      "Svt[info]: SVT [config]: width / height / fps numerator / fps denominator \t\t: 96 / 96 / 10 / 1\n",
      "Svt[info]: SVT [config]: bit-depth / color format \t\t\t\t\t: 8 / YUV420\n",
      "Svt[info]: SVT [config]: preset / tune / pred struct \t\t\t\t\t: 10 / PSNR / random access\n",
      "Svt[info]: SVT [config]: gop size / mini-gop size / key-frame type \t\t\t: 2 / 16 / key frame\n",
      "Svt[info]: SVT [config]: BRC mode / rate factor \t\t\t\t\t: CRF / 30 \n",
      "Svt[info]: SVT [config]: AQ mode / variance boost \t\t\t\t\t: 2 / 0\n",
      "Svt[info]: -------------------------------------------\n",
      "Svt[info]: -------------------------------------------\n",
      "Svt[info]: SVT [version]:\tSVT-AV1 Encoder Lib v2.3.0-61-g66fb0f59\n",
      "Svt[info]: SVT [build]  :\tGCC 11.4.0\t 64 bit\n",
      "Svt[info]: LIB Build date: Nov 27 2024 13:20:34\n",
      "Svt[info]: -------------------------------------------\n",
      "Svt[info]: Level of Parallelism: 5\n",
      "Svt[info]: Number of PPCS 76\n",
      "Svt[info]: [asm level on system : up to avx2]\n",
      "Svt[info]: [asm level selected : up to avx2]\n",
      "Svt[info]: -------------------------------------------\n",
      "Svt[info]: SVT [config]: main profile\ttier (auto)\tlevel (auto)\n",
      "Svt[info]: SVT [config]: width / height / fps numerator / fps denominator \t\t: 96 / 96 / 10 / 1\n",
      "Svt[info]: SVT [config]: bit-depth / color format \t\t\t\t\t: 8 / YUV420\n",
      "Svt[info]: SVT [config]: preset / tune / pred struct \t\t\t\t\t: 10 / PSNR / random access\n",
      "Svt[info]: SVT [config]: gop size / mini-gop size / key-frame type \t\t\t: 2 / 16 / key frame\n",
      "Svt[info]: SVT [config]: BRC mode / rate factor \t\t\t\t\t: CRF / 30 \n",
      "Svt[info]: SVT [config]: AQ mode / variance boost \t\t\t\t\t: 2 / 0\n",
      "Svt[info]: -------------------------------------------\n",
      "Svt[info]: -------------------------------------------\n",
      "Svt[info]: SVT [version]:\tSVT-AV1 Encoder Lib v2.3.0-61-g66fb0f59\n",
      "Svt[info]: SVT [build]  :\tGCC 11.4.0\t 64 bit\n",
      "Svt[info]: LIB Build date: Nov 27 2024 13:20:34\n",
      "Svt[info]: -------------------------------------------\n",
      "Svt[info]: Level of Parallelism: 5\n",
      "Svt[info]: Number of PPCS 76\n",
      "Svt[info]: [asm level on system : up to avx2]\n",
      "Svt[info]: [asm level selected : up to avx2]\n",
      "Svt[info]: -------------------------------------------\n",
      "Svt[info]: SVT [config]: main profile\ttier (auto)\tlevel (auto)\n",
      "Svt[info]: SVT [config]: width / height / fps numerator / fps denominator \t\t: 96 / 96 / 10 / 1\n",
      "Svt[info]: SVT [config]: bit-depth / color format \t\t\t\t\t: 8 / YUV420\n",
      "Svt[info]: SVT [config]: preset / tune / pred struct \t\t\t\t\t: 10 / PSNR / random access\n",
      "Svt[info]: SVT [config]: gop size / mini-gop size / key-frame type \t\t\t: 2 / 16 / key frame\n",
      "Svt[info]: SVT [config]: BRC mode / rate factor \t\t\t\t\t: CRF / 30 \n",
      "Svt[info]: SVT [config]: AQ mode / variance boost \t\t\t\t\t: 2 / 0\n",
      "Svt[info]: -------------------------------------------\n",
      "Svt[info]: -------------------------------------------\n",
      "Svt[info]: SVT [version]:\tSVT-AV1 Encoder Lib v2.3.0-61-g66fb0f59\n",
      "Svt[info]: SVT [build]  :\tGCC 11.4.0\t 64 bit\n",
      "Svt[info]: LIB Build date: Nov 27 2024 13:20:34\n",
      "Svt[info]: -------------------------------------------\n",
      "Svt[info]: Level of Parallelism: 5\n",
      "Svt[info]: Number of PPCS 76\n",
      "Svt[info]: [asm level on system : up to avx2]\n",
      "Svt[info]: [asm level selected : up to avx2]\n",
      "Svt[info]: -------------------------------------------\n",
      "Svt[info]: SVT [config]: main profile\ttier (auto)\tlevel (auto)\n",
      "Svt[info]: SVT [config]: width / height / fps numerator / fps denominator \t\t: 96 / 96 / 10 / 1\n",
      "Svt[info]: SVT [config]: bit-depth / color format \t\t\t\t\t: 8 / YUV420\n",
      "Svt[info]: SVT [config]: preset / tune / pred struct \t\t\t\t\t: 10 / PSNR / random access\n",
      "Svt[info]: SVT [config]: gop size / mini-gop size / key-frame type \t\t\t: 2 / 16 / key frame\n",
      "Svt[info]: SVT [config]: BRC mode / rate factor \t\t\t\t\t: CRF / 30 \n",
      "Svt[info]: SVT [config]: AQ mode / variance boost \t\t\t\t\t: 2 / 0\n",
      "Svt[info]: -------------------------------------------\n",
      "Svt[info]: -------------------------------------------\n",
      "Svt[info]: SVT [version]:\tSVT-AV1 Encoder Lib v2.3.0-61-g66fb0f59\n",
      "Svt[info]: SVT [build]  :\tGCC 11.4.0\t 64 bit\n",
      "Svt[info]: LIB Build date: Nov 27 2024 13:20:34\n",
      "Svt[info]: -------------------------------------------\n",
      "Svt[info]: Level of Parallelism: 5\n",
      "Svt[info]: Number of PPCS 76\n",
      "Svt[info]: [asm level on system : up to avx2]\n",
      "Svt[info]: [asm level selected : up to avx2]\n",
      "Svt[info]: -------------------------------------------\n",
      "Svt[info]: SVT [config]: main profile\ttier (auto)\tlevel (auto)\n",
      "Svt[info]: SVT [config]: width / height / fps numerator / fps denominator \t\t: 96 / 96 / 10 / 1\n",
      "Svt[info]: SVT [config]: bit-depth / color format \t\t\t\t\t: 8 / YUV420\n",
      "Svt[info]: SVT [config]: preset / tune / pred struct \t\t\t\t\t: 10 / PSNR / random access\n",
      "Svt[info]: SVT [config]: gop size / mini-gop size / key-frame type \t\t\t: 2 / 16 / key frame\n",
      "Svt[info]: SVT [config]: BRC mode / rate factor \t\t\t\t\t: CRF / 30 \n",
      "Svt[info]: SVT [config]: AQ mode / variance boost \t\t\t\t\t: 2 / 0\n",
      "Svt[info]: -------------------------------------------\n",
      "Svt[info]: -------------------------------------------\n",
      "Svt[info]: SVT [version]:\tSVT-AV1 Encoder Lib v2.3.0-61-g66fb0f59\n",
      "Svt[info]: SVT [build]  :\tGCC 11.4.0\t 64 bit\n",
      "Svt[info]: LIB Build date: Nov 27 2024 13:20:34\n",
      "Svt[info]: -------------------------------------------\n",
      "Svt[info]: Level of Parallelism: 5\n",
      "Svt[info]: Number of PPCS 76\n",
      "Svt[info]: [asm level on system : up to avx2]\n",
      "Svt[info]: [asm level selected : up to avx2]\n",
      "Svt[info]: -------------------------------------------\n",
      "Svt[info]: SVT [config]: main profile\ttier (auto)\tlevel (auto)\n",
      "Svt[info]: SVT [config]: width / height / fps numerator / fps denominator \t\t: 96 / 96 / 10 / 1\n",
      "Svt[info]: SVT [config]: bit-depth / color format \t\t\t\t\t: 8 / YUV420\n",
      "Svt[info]: SVT [config]: preset / tune / pred struct \t\t\t\t\t: 10 / PSNR / random access\n",
      "Svt[info]: SVT [config]: gop size / mini-gop size / key-frame type \t\t\t: 2 / 16 / key frame\n",
      "Svt[info]: SVT [config]: BRC mode / rate factor \t\t\t\t\t: CRF / 30 \n",
      "Svt[info]: SVT [config]: AQ mode / variance boost \t\t\t\t\t: 2 / 0\n",
      "Svt[info]: -------------------------------------------\n",
      "Svt[info]: -------------------------------------------\n",
      "Svt[info]: SVT [version]:\tSVT-AV1 Encoder Lib v2.3.0-61-g66fb0f59\n",
      "Svt[info]: SVT [build]  :\tGCC 11.4.0\t 64 bit\n",
      "Svt[info]: LIB Build date: Nov 27 2024 13:20:34\n",
      "Svt[info]: -------------------------------------------\n",
      "Svt[info]: Level of Parallelism: 5\n",
      "Svt[info]: Number of PPCS 76\n",
      "Svt[info]: [asm level on system : up to avx2]\n",
      "Svt[info]: [asm level selected : up to avx2]\n",
      "Svt[info]: -------------------------------------------\n",
      "Svt[info]: SVT [config]: main profile\ttier (auto)\tlevel (auto)\n",
      "Svt[info]: SVT [config]: width / height / fps numerator / fps denominator \t\t: 96 / 96 / 10 / 1\n",
      "Svt[info]: SVT [config]: bit-depth / color format \t\t\t\t\t: 8 / YUV420\n",
      "Svt[info]: SVT [config]: preset / tune / pred struct \t\t\t\t\t: 10 / PSNR / random access\n",
      "Svt[info]: SVT [config]: gop size / mini-gop size / key-frame type \t\t\t: 2 / 16 / key frame\n",
      "Svt[info]: SVT [config]: BRC mode / rate factor \t\t\t\t\t: CRF / 30 \n",
      "Svt[info]: SVT [config]: AQ mode / variance boost \t\t\t\t\t: 2 / 0\n",
      "Svt[info]: -------------------------------------------\n",
      "Svt[info]: -------------------------------------------\n",
      "Svt[info]: SVT [version]:\tSVT-AV1 Encoder Lib v2.3.0-61-g66fb0f59\n",
      "Svt[info]: SVT [build]  :\tGCC 11.4.0\t 64 bit\n",
      "Svt[info]: LIB Build date: Nov 27 2024 13:20:34\n",
      "Svt[info]: -------------------------------------------\n",
      "Svt[info]: Level of Parallelism: 5\n",
      "Svt[info]: Number of PPCS 76\n",
      "Svt[info]: [asm level on system : up to avx2]\n",
      "Svt[info]: [asm level selected : up to avx2]\n",
      "Svt[info]: -------------------------------------------\n",
      "Svt[info]: SVT [config]: main profile\ttier (auto)\tlevel (auto)\n",
      "Svt[info]: SVT [config]: width / height / fps numerator / fps denominator \t\t: 96 / 96 / 10 / 1\n",
      "Svt[info]: SVT [config]: bit-depth / color format \t\t\t\t\t: 8 / YUV420\n",
      "Svt[info]: SVT [config]: preset / tune / pred struct \t\t\t\t\t: 10 / PSNR / random access\n",
      "Svt[info]: SVT [config]: gop size / mini-gop size / key-frame type \t\t\t: 2 / 16 / key frame\n",
      "Svt[info]: SVT [config]: BRC mode / rate factor \t\t\t\t\t: CRF / 30 \n",
      "Svt[info]: SVT [config]: AQ mode / variance boost \t\t\t\t\t: 2 / 0\n",
      "Svt[info]: -------------------------------------------\n",
      "Svt[info]: -------------------------------------------\n",
      "Svt[info]: SVT [version]:\tSVT-AV1 Encoder Lib v2.3.0-61-g66fb0f59\n",
      "Svt[info]: SVT [build]  :\tGCC 11.4.0\t 64 bit\n",
      "Svt[info]: LIB Build date: Nov 27 2024 13:20:34\n",
      "Svt[info]: -------------------------------------------\n",
      "Svt[info]: Level of Parallelism: 5\n",
      "Svt[info]: Number of PPCS 76\n",
      "Svt[info]: [asm level on system : up to avx2]\n",
      "Svt[info]: [asm level selected : up to avx2]\n",
      "Svt[info]: -------------------------------------------\n",
      "Svt[info]: SVT [config]: main profile\ttier (auto)\tlevel (auto)\n",
      "Svt[info]: SVT [config]: width / height / fps numerator / fps denominator \t\t: 96 / 96 / 10 / 1\n",
      "Svt[info]: SVT [config]: bit-depth / color format \t\t\t\t\t: 8 / YUV420\n",
      "Svt[info]: SVT [config]: preset / tune / pred struct \t\t\t\t\t: 10 / PSNR / random access\n",
      "Svt[info]: SVT [config]: gop size / mini-gop size / key-frame type \t\t\t: 2 / 16 / key frame\n",
      "Svt[info]: SVT [config]: BRC mode / rate factor \t\t\t\t\t: CRF / 30 \n",
      "Svt[info]: SVT [config]: AQ mode / variance boost \t\t\t\t\t: 2 / 0\n",
      "Svt[info]: -------------------------------------------\n",
      "Svt[info]: -------------------------------------------\n",
      "Svt[info]: SVT [version]:\tSVT-AV1 Encoder Lib v2.3.0-61-g66fb0f59\n",
      "Svt[info]: SVT [build]  :\tGCC 11.4.0\t 64 bit\n",
      "Svt[info]: LIB Build date: Nov 27 2024 13:20:34\n",
      "Svt[info]: -------------------------------------------\n",
      "Svt[info]: Level of Parallelism: 5\n",
      "Svt[info]: Number of PPCS 76\n",
      "Svt[info]: [asm level on system : up to avx2]\n",
      "Svt[info]: [asm level selected : up to avx2]\n",
      "Svt[info]: -------------------------------------------\n",
      "Svt[info]: SVT [config]: main profile\ttier (auto)\tlevel (auto)\n",
      "Svt[info]: SVT [config]: width / height / fps numerator / fps denominator \t\t: 96 / 96 / 10 / 1\n",
      "Svt[info]: SVT [config]: bit-depth / color format \t\t\t\t\t: 8 / YUV420\n",
      "Svt[info]: SVT [config]: preset / tune / pred struct \t\t\t\t\t: 10 / PSNR / random access\n",
      "Svt[info]: SVT [config]: gop size / mini-gop size / key-frame type \t\t\t: 2 / 16 / key frame\n",
      "Svt[info]: SVT [config]: BRC mode / rate factor \t\t\t\t\t: CRF / 30 \n",
      "Svt[info]: SVT [config]: AQ mode / variance boost \t\t\t\t\t: 2 / 0\n",
      "Svt[info]: -------------------------------------------\n",
      "Svt[info]: -------------------------------------------\n",
      "Svt[info]: SVT [version]:\tSVT-AV1 Encoder Lib v2.3.0-61-g66fb0f59\n",
      "Svt[info]: SVT [build]  :\tGCC 11.4.0\t 64 bit\n",
      "Svt[info]: LIB Build date: Nov 27 2024 13:20:34\n",
      "Svt[info]: -------------------------------------------\n",
      "Svt[info]: Level of Parallelism: 5\n",
      "Svt[info]: Number of PPCS 76\n",
      "Svt[info]: [asm level on system : up to avx2]\n",
      "Svt[info]: [asm level selected : up to avx2]\n",
      "Svt[info]: -------------------------------------------\n",
      "Svt[info]: SVT [config]: main profile\ttier (auto)\tlevel (auto)\n",
      "Svt[info]: SVT [config]: width / height / fps numerator / fps denominator \t\t: 96 / 96 / 10 / 1\n",
      "Svt[info]: SVT [config]: bit-depth / color format \t\t\t\t\t: 8 / YUV420\n",
      "Svt[info]: SVT [config]: preset / tune / pred struct \t\t\t\t\t: 10 / PSNR / random access\n",
      "Svt[info]: SVT [config]: gop size / mini-gop size / key-frame type \t\t\t: 2 / 16 / key frame\n",
      "Svt[info]: SVT [config]: BRC mode / rate factor \t\t\t\t\t: CRF / 30 \n",
      "Svt[info]: SVT [config]: AQ mode / variance boost \t\t\t\t\t: 2 / 0\n",
      "Svt[info]: -------------------------------------------\n",
      "Svt[info]: -------------------------------------------\n",
      "Svt[info]: SVT [version]:\tSVT-AV1 Encoder Lib v2.3.0-61-g66fb0f59\n",
      "Svt[info]: SVT [build]  :\tGCC 11.4.0\t 64 bit\n",
      "Svt[info]: LIB Build date: Nov 27 2024 13:20:34\n",
      "Svt[info]: -------------------------------------------\n",
      "Svt[info]: Level of Parallelism: 5\n",
      "Svt[info]: Number of PPCS 76\n",
      "Svt[info]: [asm level on system : up to avx2]\n",
      "Svt[info]: [asm level selected : up to avx2]\n",
      "Svt[info]: -------------------------------------------\n",
      "Svt[info]: SVT [config]: main profile\ttier (auto)\tlevel (auto)\n",
      "Svt[info]: SVT [config]: width / height / fps numerator / fps denominator \t\t: 96 / 96 / 10 / 1\n",
      "Svt[info]: SVT [config]: bit-depth / color format \t\t\t\t\t: 8 / YUV420\n",
      "Svt[info]: SVT [config]: preset / tune / pred struct \t\t\t\t\t: 10 / PSNR / random access\n",
      "Svt[info]: SVT [config]: gop size / mini-gop size / key-frame type \t\t\t: 2 / 16 / key frame\n",
      "Svt[info]: SVT [config]: BRC mode / rate factor \t\t\t\t\t: CRF / 30 \n",
      "Svt[info]: SVT [config]: AQ mode / variance boost \t\t\t\t\t: 2 / 0\n",
      "Svt[info]: -------------------------------------------\n",
      "Svt[info]: -------------------------------------------\n",
      "Svt[info]: SVT [version]:\tSVT-AV1 Encoder Lib v2.3.0-61-g66fb0f59\n",
      "Svt[info]: SVT [build]  :\tGCC 11.4.0\t 64 bit\n",
      "Svt[info]: LIB Build date: Nov 27 2024 13:20:34\n",
      "Svt[info]: -------------------------------------------\n",
      "Svt[info]: Level of Parallelism: 5\n",
      "Svt[info]: Number of PPCS 76\n",
      "Svt[info]: [asm level on system : up to avx2]\n",
      "Svt[info]: [asm level selected : up to avx2]\n",
      "Svt[info]: -------------------------------------------\n",
      "Svt[info]: SVT [config]: main profile\ttier (auto)\tlevel (auto)\n",
      "Svt[info]: SVT [config]: width / height / fps numerator / fps denominator \t\t: 96 / 96 / 10 / 1\n",
      "Svt[info]: SVT [config]: bit-depth / color format \t\t\t\t\t: 8 / YUV420\n",
      "Svt[info]: SVT [config]: preset / tune / pred struct \t\t\t\t\t: 10 / PSNR / random access\n",
      "Svt[info]: SVT [config]: gop size / mini-gop size / key-frame type \t\t\t: 2 / 16 / key frame\n",
      "Svt[info]: SVT [config]: BRC mode / rate factor \t\t\t\t\t: CRF / 30 \n",
      "Svt[info]: SVT [config]: AQ mode / variance boost \t\t\t\t\t: 2 / 0\n",
      "Svt[info]: -------------------------------------------\n",
      "Svt[info]: -------------------------------------------\n",
      "Svt[info]: SVT [version]:\tSVT-AV1 Encoder Lib v2.3.0-61-g66fb0f59\n",
      "Svt[info]: SVT [build]  :\tGCC 11.4.0\t 64 bit\n",
      "Svt[info]: LIB Build date: Nov 27 2024 13:20:34\n",
      "Svt[info]: -------------------------------------------\n",
      "Svt[info]: Level of Parallelism: 5\n",
      "Svt[info]: Number of PPCS 76\n",
      "Svt[info]: [asm level on system : up to avx2]\n",
      "Svt[info]: [asm level selected : up to avx2]\n",
      "Svt[info]: -------------------------------------------\n",
      "Svt[info]: SVT [config]: main profile\ttier (auto)\tlevel (auto)\n",
      "Svt[info]: SVT [config]: width / height / fps numerator / fps denominator \t\t: 96 / 96 / 10 / 1\n",
      "Svt[info]: SVT [config]: bit-depth / color format \t\t\t\t\t: 8 / YUV420\n",
      "Svt[info]: SVT [config]: preset / tune / pred struct \t\t\t\t\t: 10 / PSNR / random access\n",
      "Svt[info]: SVT [config]: gop size / mini-gop size / key-frame type \t\t\t: 2 / 16 / key frame\n",
      "Svt[info]: SVT [config]: BRC mode / rate factor \t\t\t\t\t: CRF / 30 \n",
      "Svt[info]: SVT [config]: AQ mode / variance boost \t\t\t\t\t: 2 / 0\n",
      "Svt[info]: -------------------------------------------\n",
      "Svt[info]: -------------------------------------------\n",
      "Svt[info]: SVT [version]:\tSVT-AV1 Encoder Lib v2.3.0-61-g66fb0f59\n",
      "Svt[info]: SVT [build]  :\tGCC 11.4.0\t 64 bit\n",
      "Svt[info]: LIB Build date: Nov 27 2024 13:20:34\n",
      "Svt[info]: -------------------------------------------\n",
      "Svt[info]: Level of Parallelism: 5\n",
      "Svt[info]: Number of PPCS 76\n",
      "Svt[info]: [asm level on system : up to avx2]\n",
      "Svt[info]: [asm level selected : up to avx2]\n",
      "Svt[info]: -------------------------------------------\n",
      "Svt[info]: SVT [config]: main profile\ttier (auto)\tlevel (auto)\n",
      "Svt[info]: SVT [config]: width / height / fps numerator / fps denominator \t\t: 96 / 96 / 10 / 1\n",
      "Svt[info]: SVT [config]: bit-depth / color format \t\t\t\t\t: 8 / YUV420\n",
      "Svt[info]: SVT [config]: preset / tune / pred struct \t\t\t\t\t: 10 / PSNR / random access\n",
      "Svt[info]: SVT [config]: gop size / mini-gop size / key-frame type \t\t\t: 2 / 16 / key frame\n",
      "Svt[info]: SVT [config]: BRC mode / rate factor \t\t\t\t\t: CRF / 30 \n",
      "Svt[info]: SVT [config]: AQ mode / variance boost \t\t\t\t\t: 2 / 0\n",
      "Svt[info]: -------------------------------------------\n",
      "Svt[info]: -------------------------------------------\n",
      "Svt[info]: SVT [version]:\tSVT-AV1 Encoder Lib v2.3.0-61-g66fb0f59\n",
      "Svt[info]: SVT [build]  :\tGCC 11.4.0\t 64 bit\n",
      "Svt[info]: LIB Build date: Nov 27 2024 13:20:34\n",
      "Svt[info]: -------------------------------------------\n",
      "Svt[info]: Level of Parallelism: 5\n",
      "Svt[info]: Number of PPCS 76\n",
      "Svt[info]: [asm level on system : up to avx2]\n",
      "Svt[info]: [asm level selected : up to avx2]\n",
      "Svt[info]: -------------------------------------------\n",
      "Svt[info]: SVT [config]: main profile\ttier (auto)\tlevel (auto)\n",
      "Svt[info]: SVT [config]: width / height / fps numerator / fps denominator \t\t: 96 / 96 / 10 / 1\n",
      "Svt[info]: SVT [config]: bit-depth / color format \t\t\t\t\t: 8 / YUV420\n",
      "Svt[info]: SVT [config]: preset / tune / pred struct \t\t\t\t\t: 10 / PSNR / random access\n",
      "Svt[info]: SVT [config]: gop size / mini-gop size / key-frame type \t\t\t: 2 / 16 / key frame\n",
      "Svt[info]: SVT [config]: BRC mode / rate factor \t\t\t\t\t: CRF / 30 \n",
      "Svt[info]: SVT [config]: AQ mode / variance boost \t\t\t\t\t: 2 / 0\n",
      "Svt[info]: -------------------------------------------\n",
      "Svt[info]: -------------------------------------------\n",
      "Svt[info]: SVT [version]:\tSVT-AV1 Encoder Lib v2.3.0-61-g66fb0f59\n",
      "Svt[info]: SVT [build]  :\tGCC 11.4.0\t 64 bit\n",
      "Svt[info]: LIB Build date: Nov 27 2024 13:20:34\n",
      "Svt[info]: -------------------------------------------\n",
      "Svt[info]: Level of Parallelism: 5\n",
      "Svt[info]: Number of PPCS 76\n",
      "Svt[info]: [asm level on system : up to avx2]\n",
      "Svt[info]: [asm level selected : up to avx2]\n",
      "Svt[info]: -------------------------------------------\n",
      "Svt[info]: SVT [config]: main profile\ttier (auto)\tlevel (auto)\n",
      "Svt[info]: SVT [config]: width / height / fps numerator / fps denominator \t\t: 96 / 96 / 10 / 1\n",
      "Svt[info]: SVT [config]: bit-depth / color format \t\t\t\t\t: 8 / YUV420\n",
      "Svt[info]: SVT [config]: preset / tune / pred struct \t\t\t\t\t: 10 / PSNR / random access\n",
      "Svt[info]: SVT [config]: gop size / mini-gop size / key-frame type \t\t\t: 2 / 16 / key frame\n",
      "Svt[info]: SVT [config]: BRC mode / rate factor \t\t\t\t\t: CRF / 30 \n",
      "Svt[info]: SVT [config]: AQ mode / variance boost \t\t\t\t\t: 2 / 0\n",
      "Svt[info]: -------------------------------------------\n",
      "Svt[info]: -------------------------------------------\n",
      "Svt[info]: SVT [version]:\tSVT-AV1 Encoder Lib v2.3.0-61-g66fb0f59\n",
      "Svt[info]: SVT [build]  :\tGCC 11.4.0\t 64 bit\n",
      "Svt[info]: LIB Build date: Nov 27 2024 13:20:34\n",
      "Svt[info]: -------------------------------------------\n",
      "Svt[info]: Level of Parallelism: 5\n",
      "Svt[info]: Number of PPCS 76\n",
      "Svt[info]: [asm level on system : up to avx2]\n",
      "Svt[info]: [asm level selected : up to avx2]\n",
      "Svt[info]: -------------------------------------------\n",
      "Svt[info]: SVT [config]: main profile\ttier (auto)\tlevel (auto)\n",
      "Svt[info]: SVT [config]: width / height / fps numerator / fps denominator \t\t: 96 / 96 / 10 / 1\n",
      "Svt[info]: SVT [config]: bit-depth / color format \t\t\t\t\t: 8 / YUV420\n",
      "Svt[info]: SVT [config]: preset / tune / pred struct \t\t\t\t\t: 10 / PSNR / random access\n",
      "Svt[info]: SVT [config]: gop size / mini-gop size / key-frame type \t\t\t: 2 / 16 / key frame\n",
      "Svt[info]: SVT [config]: BRC mode / rate factor \t\t\t\t\t: CRF / 30 \n",
      "Svt[info]: SVT [config]: AQ mode / variance boost \t\t\t\t\t: 2 / 0\n",
      "Svt[info]: -------------------------------------------\n",
      "Svt[info]: -------------------------------------------\n",
      "Svt[info]: SVT [version]:\tSVT-AV1 Encoder Lib v2.3.0-61-g66fb0f59\n",
      "Svt[info]: SVT [build]  :\tGCC 11.4.0\t 64 bit\n",
      "Svt[info]: LIB Build date: Nov 27 2024 13:20:34\n",
      "Svt[info]: -------------------------------------------\n",
      "Svt[info]: Level of Parallelism: 5\n",
      "Svt[info]: Number of PPCS 76\n",
      "Svt[info]: [asm level on system : up to avx2]\n",
      "Svt[info]: [asm level selected : up to avx2]\n",
      "Svt[info]: -------------------------------------------\n",
      "Svt[info]: SVT [config]: main profile\ttier (auto)\tlevel (auto)\n",
      "Svt[info]: SVT [config]: width / height / fps numerator / fps denominator \t\t: 96 / 96 / 10 / 1\n",
      "Svt[info]: SVT [config]: bit-depth / color format \t\t\t\t\t: 8 / YUV420\n",
      "Svt[info]: SVT [config]: preset / tune / pred struct \t\t\t\t\t: 10 / PSNR / random access\n",
      "Svt[info]: SVT [config]: gop size / mini-gop size / key-frame type \t\t\t: 2 / 16 / key frame\n",
      "Svt[info]: SVT [config]: BRC mode / rate factor \t\t\t\t\t: CRF / 30 \n",
      "Svt[info]: SVT [config]: AQ mode / variance boost \t\t\t\t\t: 2 / 0\n",
      "Svt[info]: -------------------------------------------\n",
      "Svt[info]: -------------------------------------------\n",
      "Svt[info]: SVT [version]:\tSVT-AV1 Encoder Lib v2.3.0-61-g66fb0f59\n",
      "Svt[info]: SVT [build]  :\tGCC 11.4.0\t 64 bit\n",
      "Svt[info]: LIB Build date: Nov 27 2024 13:20:34\n",
      "Svt[info]: -------------------------------------------\n",
      "Svt[info]: Level of Parallelism: 5\n",
      "Svt[info]: Number of PPCS 76\n",
      "Svt[info]: [asm level on system : up to avx2]\n",
      "Svt[info]: [asm level selected : up to avx2]\n",
      "Svt[info]: -------------------------------------------\n",
      "Svt[info]: SVT [config]: main profile\ttier (auto)\tlevel (auto)\n",
      "Svt[info]: SVT [config]: width / height / fps numerator / fps denominator \t\t: 96 / 96 / 10 / 1\n",
      "Svt[info]: SVT [config]: bit-depth / color format \t\t\t\t\t: 8 / YUV420\n",
      "Svt[info]: SVT [config]: preset / tune / pred struct \t\t\t\t\t: 10 / PSNR / random access\n",
      "Svt[info]: SVT [config]: gop size / mini-gop size / key-frame type \t\t\t: 2 / 16 / key frame\n",
      "Svt[info]: SVT [config]: BRC mode / rate factor \t\t\t\t\t: CRF / 30 \n",
      "Svt[info]: SVT [config]: AQ mode / variance boost \t\t\t\t\t: 2 / 0\n",
      "Svt[info]: -------------------------------------------\n",
      "Svt[info]: -------------------------------------------\n",
      "Svt[info]: SVT [version]:\tSVT-AV1 Encoder Lib v2.3.0-61-g66fb0f59\n",
      "Svt[info]: SVT [build]  :\tGCC 11.4.0\t 64 bit\n",
      "Svt[info]: LIB Build date: Nov 27 2024 13:20:34\n",
      "Svt[info]: -------------------------------------------\n",
      "Svt[info]: Level of Parallelism: 5\n",
      "Svt[info]: Number of PPCS 76\n",
      "Svt[info]: [asm level on system : up to avx2]\n",
      "Svt[info]: [asm level selected : up to avx2]\n",
      "Svt[info]: -------------------------------------------\n",
      "Svt[info]: SVT [config]: main profile\ttier (auto)\tlevel (auto)\n",
      "Svt[info]: SVT [config]: width / height / fps numerator / fps denominator \t\t: 96 / 96 / 10 / 1\n",
      "Svt[info]: SVT [config]: bit-depth / color format \t\t\t\t\t: 8 / YUV420\n",
      "Svt[info]: SVT [config]: preset / tune / pred struct \t\t\t\t\t: 10 / PSNR / random access\n",
      "Svt[info]: SVT [config]: gop size / mini-gop size / key-frame type \t\t\t: 2 / 16 / key frame\n",
      "Svt[info]: SVT [config]: BRC mode / rate factor \t\t\t\t\t: CRF / 30 \n",
      "Svt[info]: SVT [config]: AQ mode / variance boost \t\t\t\t\t: 2 / 0\n",
      "Svt[info]: -------------------------------------------\n",
      "Svt[info]: -------------------------------------------\n",
      "Svt[info]: SVT [version]:\tSVT-AV1 Encoder Lib v2.3.0-61-g66fb0f59\n",
      "Svt[info]: SVT [build]  :\tGCC 11.4.0\t 64 bit\n",
      "Svt[info]: LIB Build date: Nov 27 2024 13:20:34\n",
      "Svt[info]: -------------------------------------------\n",
      "Svt[info]: Level of Parallelism: 5\n",
      "Svt[info]: Number of PPCS 76\n",
      "Svt[info]: [asm level on system : up to avx2]\n",
      "Svt[info]: [asm level selected : up to avx2]\n",
      "Svt[info]: -------------------------------------------\n",
      "Svt[info]: SVT [config]: main profile\ttier (auto)\tlevel (auto)\n",
      "Svt[info]: SVT [config]: width / height / fps numerator / fps denominator \t\t: 96 / 96 / 10 / 1\n",
      "Svt[info]: SVT [config]: bit-depth / color format \t\t\t\t\t: 8 / YUV420\n",
      "Svt[info]: SVT [config]: preset / tune / pred struct \t\t\t\t\t: 10 / PSNR / random access\n",
      "Svt[info]: SVT [config]: gop size / mini-gop size / key-frame type \t\t\t: 2 / 16 / key frame\n",
      "Svt[info]: SVT [config]: BRC mode / rate factor \t\t\t\t\t: CRF / 30 \n",
      "Svt[info]: SVT [config]: AQ mode / variance boost \t\t\t\t\t: 2 / 0\n",
      "Svt[info]: -------------------------------------------\n",
      "Svt[info]: -------------------------------------------\n",
      "Svt[info]: SVT [version]:\tSVT-AV1 Encoder Lib v2.3.0-61-g66fb0f59\n",
      "Svt[info]: SVT [build]  :\tGCC 11.4.0\t 64 bit\n",
      "Svt[info]: LIB Build date: Nov 27 2024 13:20:34\n",
      "Svt[info]: -------------------------------------------\n",
      "Svt[info]: Level of Parallelism: 5\n",
      "Svt[info]: Number of PPCS 76\n",
      "Svt[info]: [asm level on system : up to avx2]\n",
      "Svt[info]: [asm level selected : up to avx2]\n",
      "Svt[info]: -------------------------------------------\n",
      "Svt[info]: SVT [config]: main profile\ttier (auto)\tlevel (auto)\n",
      "Svt[info]: SVT [config]: width / height / fps numerator / fps denominator \t\t: 96 / 96 / 10 / 1\n",
      "Svt[info]: SVT [config]: bit-depth / color format \t\t\t\t\t: 8 / YUV420\n",
      "Svt[info]: SVT [config]: preset / tune / pred struct \t\t\t\t\t: 10 / PSNR / random access\n",
      "Svt[info]: SVT [config]: gop size / mini-gop size / key-frame type \t\t\t: 2 / 16 / key frame\n",
      "Svt[info]: SVT [config]: BRC mode / rate factor \t\t\t\t\t: CRF / 30 \n",
      "Svt[info]: SVT [config]: AQ mode / variance boost \t\t\t\t\t: 2 / 0\n",
      "Svt[info]: -------------------------------------------\n",
      "Svt[info]: -------------------------------------------\n",
      "Svt[info]: SVT [version]:\tSVT-AV1 Encoder Lib v2.3.0-61-g66fb0f59\n",
      "Svt[info]: SVT [build]  :\tGCC 11.4.0\t 64 bit\n",
      "Svt[info]: LIB Build date: Nov 27 2024 13:20:34\n",
      "Svt[info]: -------------------------------------------\n",
      "Svt[info]: Level of Parallelism: 5\n",
      "Svt[info]: Number of PPCS 76\n",
      "Svt[info]: [asm level on system : up to avx2]\n",
      "Svt[info]: [asm level selected : up to avx2]\n",
      "Svt[info]: -------------------------------------------\n",
      "Svt[info]: SVT [config]: main profile\ttier (auto)\tlevel (auto)\n",
      "Svt[info]: SVT [config]: width / height / fps numerator / fps denominator \t\t: 96 / 96 / 10 / 1\n",
      "Svt[info]: SVT [config]: bit-depth / color format \t\t\t\t\t: 8 / YUV420\n",
      "Svt[info]: SVT [config]: preset / tune / pred struct \t\t\t\t\t: 10 / PSNR / random access\n",
      "Svt[info]: SVT [config]: gop size / mini-gop size / key-frame type \t\t\t: 2 / 16 / key frame\n",
      "Svt[info]: SVT [config]: BRC mode / rate factor \t\t\t\t\t: CRF / 30 \n",
      "Svt[info]: SVT [config]: AQ mode / variance boost \t\t\t\t\t: 2 / 0\n",
      "Svt[info]: -------------------------------------------\n",
      "Svt[info]: -------------------------------------------\n",
      "Svt[info]: SVT [version]:\tSVT-AV1 Encoder Lib v2.3.0-61-g66fb0f59\n",
      "Svt[info]: SVT [build]  :\tGCC 11.4.0\t 64 bit\n",
      "Svt[info]: LIB Build date: Nov 27 2024 13:20:34\n",
      "Svt[info]: -------------------------------------------\n",
      "Svt[info]: Level of Parallelism: 5\n",
      "Svt[info]: Number of PPCS 76\n",
      "Svt[info]: [asm level on system : up to avx2]\n",
      "Svt[info]: [asm level selected : up to avx2]\n",
      "Svt[info]: -------------------------------------------\n",
      "Svt[info]: SVT [config]: main profile\ttier (auto)\tlevel (auto)\n",
      "Svt[info]: SVT [config]: width / height / fps numerator / fps denominator \t\t: 96 / 96 / 10 / 1\n",
      "Svt[info]: SVT [config]: bit-depth / color format \t\t\t\t\t: 8 / YUV420\n",
      "Svt[info]: SVT [config]: preset / tune / pred struct \t\t\t\t\t: 10 / PSNR / random access\n",
      "Svt[info]: SVT [config]: gop size / mini-gop size / key-frame type \t\t\t: 2 / 16 / key frame\n",
      "Svt[info]: SVT [config]: BRC mode / rate factor \t\t\t\t\t: CRF / 30 \n",
      "Svt[info]: SVT [config]: AQ mode / variance boost \t\t\t\t\t: 2 / 0\n",
      "Svt[info]: -------------------------------------------\n",
      "Svt[info]: -------------------------------------------\n",
      "Svt[info]: SVT [version]:\tSVT-AV1 Encoder Lib v2.3.0-61-g66fb0f59\n",
      "Svt[info]: SVT [build]  :\tGCC 11.4.0\t 64 bit\n",
      "Svt[info]: LIB Build date: Nov 27 2024 13:20:34\n",
      "Svt[info]: -------------------------------------------\n",
      "Svt[info]: Level of Parallelism: 5\n",
      "Svt[info]: Number of PPCS 76\n",
      "Svt[info]: [asm level on system : up to avx2]\n",
      "Svt[info]: [asm level selected : up to avx2]\n",
      "Svt[info]: -------------------------------------------\n",
      "Svt[info]: SVT [config]: main profile\ttier (auto)\tlevel (auto)\n",
      "Svt[info]: SVT [config]: width / height / fps numerator / fps denominator \t\t: 96 / 96 / 10 / 1\n",
      "Svt[info]: SVT [config]: bit-depth / color format \t\t\t\t\t: 8 / YUV420\n",
      "Svt[info]: SVT [config]: preset / tune / pred struct \t\t\t\t\t: 10 / PSNR / random access\n",
      "Svt[info]: SVT [config]: gop size / mini-gop size / key-frame type \t\t\t: 2 / 16 / key frame\n",
      "Svt[info]: SVT [config]: BRC mode / rate factor \t\t\t\t\t: CRF / 30 \n",
      "Svt[info]: SVT [config]: AQ mode / variance boost \t\t\t\t\t: 2 / 0\n",
      "Svt[info]: -------------------------------------------\n",
      "Svt[info]: -------------------------------------------\n",
      "Svt[info]: SVT [version]:\tSVT-AV1 Encoder Lib v2.3.0-61-g66fb0f59\n",
      "Svt[info]: SVT [build]  :\tGCC 11.4.0\t 64 bit\n",
      "Svt[info]: LIB Build date: Nov 27 2024 13:20:34\n",
      "Svt[info]: -------------------------------------------\n",
      "Svt[info]: Level of Parallelism: 5\n",
      "Svt[info]: Number of PPCS 76\n",
      "Svt[info]: [asm level on system : up to avx2]\n",
      "Svt[info]: [asm level selected : up to avx2]\n",
      "Svt[info]: -------------------------------------------\n",
      "Svt[info]: SVT [config]: main profile\ttier (auto)\tlevel (auto)\n",
      "Svt[info]: SVT [config]: width / height / fps numerator / fps denominator \t\t: 96 / 96 / 10 / 1\n",
      "Svt[info]: SVT [config]: bit-depth / color format \t\t\t\t\t: 8 / YUV420\n",
      "Svt[info]: SVT [config]: preset / tune / pred struct \t\t\t\t\t: 10 / PSNR / random access\n",
      "Svt[info]: SVT [config]: gop size / mini-gop size / key-frame type \t\t\t: 2 / 16 / key frame\n",
      "Svt[info]: SVT [config]: BRC mode / rate factor \t\t\t\t\t: CRF / 30 \n",
      "Svt[info]: SVT [config]: AQ mode / variance boost \t\t\t\t\t: 2 / 0\n",
      "Svt[info]: -------------------------------------------\n",
      "Svt[info]: -------------------------------------------\n",
      "Svt[info]: SVT [version]:\tSVT-AV1 Encoder Lib v2.3.0-61-g66fb0f59\n",
      "Svt[info]: SVT [build]  :\tGCC 11.4.0\t 64 bit\n",
      "Svt[info]: LIB Build date: Nov 27 2024 13:20:34\n",
      "Svt[info]: -------------------------------------------\n",
      "Svt[info]: Level of Parallelism: 5\n",
      "Svt[info]: Number of PPCS 76\n",
      "Svt[info]: [asm level on system : up to avx2]\n",
      "Svt[info]: [asm level selected : up to avx2]\n",
      "Svt[info]: -------------------------------------------\n",
      "Svt[info]: SVT [config]: main profile\ttier (auto)\tlevel (auto)\n",
      "Svt[info]: SVT [config]: width / height / fps numerator / fps denominator \t\t: 96 / 96 / 10 / 1\n",
      "Svt[info]: SVT [config]: bit-depth / color format \t\t\t\t\t: 8 / YUV420\n",
      "Svt[info]: SVT [config]: preset / tune / pred struct \t\t\t\t\t: 10 / PSNR / random access\n",
      "Svt[info]: SVT [config]: gop size / mini-gop size / key-frame type \t\t\t: 2 / 16 / key frame\n",
      "Svt[info]: SVT [config]: BRC mode / rate factor \t\t\t\t\t: CRF / 30 \n",
      "Svt[info]: SVT [config]: AQ mode / variance boost \t\t\t\t\t: 2 / 0\n",
      "Svt[info]: -------------------------------------------\n",
      "Svt[info]: -------------------------------------------\n",
      "Svt[info]: SVT [version]:\tSVT-AV1 Encoder Lib v2.3.0-61-g66fb0f59\n",
      "Svt[info]: SVT [build]  :\tGCC 11.4.0\t 64 bit\n",
      "Svt[info]: LIB Build date: Nov 27 2024 13:20:34\n",
      "Svt[info]: -------------------------------------------\n",
      "Svt[info]: Level of Parallelism: 5\n",
      "Svt[info]: Number of PPCS 76\n",
      "Svt[info]: [asm level on system : up to avx2]\n",
      "Svt[info]: [asm level selected : up to avx2]\n",
      "Svt[info]: -------------------------------------------\n",
      "Svt[info]: SVT [config]: main profile\ttier (auto)\tlevel (auto)\n",
      "Svt[info]: SVT [config]: width / height / fps numerator / fps denominator \t\t: 96 / 96 / 10 / 1\n",
      "Svt[info]: SVT [config]: bit-depth / color format \t\t\t\t\t: 8 / YUV420\n",
      "Svt[info]: SVT [config]: preset / tune / pred struct \t\t\t\t\t: 10 / PSNR / random access\n",
      "Svt[info]: SVT [config]: gop size / mini-gop size / key-frame type \t\t\t: 2 / 16 / key frame\n",
      "Svt[info]: SVT [config]: BRC mode / rate factor \t\t\t\t\t: CRF / 30 \n",
      "Svt[info]: SVT [config]: AQ mode / variance boost \t\t\t\t\t: 2 / 0\n",
      "Svt[info]: -------------------------------------------\n",
      "Svt[info]: -------------------------------------------\n",
      "Svt[info]: SVT [version]:\tSVT-AV1 Encoder Lib v2.3.0-61-g66fb0f59\n",
      "Svt[info]: SVT [build]  :\tGCC 11.4.0\t 64 bit\n",
      "Svt[info]: LIB Build date: Nov 27 2024 13:20:34\n",
      "Svt[info]: -------------------------------------------\n",
      "Svt[info]: Level of Parallelism: 5\n",
      "Svt[info]: Number of PPCS 76\n",
      "Svt[info]: [asm level on system : up to avx2]\n",
      "Svt[info]: [asm level selected : up to avx2]\n",
      "Svt[info]: -------------------------------------------\n",
      "Svt[info]: SVT [config]: main profile\ttier (auto)\tlevel (auto)\n",
      "Svt[info]: SVT [config]: width / height / fps numerator / fps denominator \t\t: 96 / 96 / 10 / 1\n",
      "Svt[info]: SVT [config]: bit-depth / color format \t\t\t\t\t: 8 / YUV420\n",
      "Svt[info]: SVT [config]: preset / tune / pred struct \t\t\t\t\t: 10 / PSNR / random access\n",
      "Svt[info]: SVT [config]: gop size / mini-gop size / key-frame type \t\t\t: 2 / 16 / key frame\n",
      "Svt[info]: SVT [config]: BRC mode / rate factor \t\t\t\t\t: CRF / 30 \n",
      "Svt[info]: SVT [config]: AQ mode / variance boost \t\t\t\t\t: 2 / 0\n",
      "Svt[info]: -------------------------------------------\n",
      "Svt[info]: -------------------------------------------\n",
      "Svt[info]: SVT [version]:\tSVT-AV1 Encoder Lib v2.3.0-61-g66fb0f59\n",
      "Svt[info]: SVT [build]  :\tGCC 11.4.0\t 64 bit\n",
      "Svt[info]: LIB Build date: Nov 27 2024 13:20:34\n",
      "Svt[info]: -------------------------------------------\n",
      "Svt[info]: Level of Parallelism: 5\n",
      "Svt[info]: Number of PPCS 76\n",
      "Svt[info]: [asm level on system : up to avx2]\n",
      "Svt[info]: [asm level selected : up to avx2]\n",
      "Svt[info]: -------------------------------------------\n",
      "Svt[info]: SVT [config]: main profile\ttier (auto)\tlevel (auto)\n",
      "Svt[info]: SVT [config]: width / height / fps numerator / fps denominator \t\t: 96 / 96 / 10 / 1\n",
      "Svt[info]: SVT [config]: bit-depth / color format \t\t\t\t\t: 8 / YUV420\n",
      "Svt[info]: SVT [config]: preset / tune / pred struct \t\t\t\t\t: 10 / PSNR / random access\n",
      "Svt[info]: SVT [config]: gop size / mini-gop size / key-frame type \t\t\t: 2 / 16 / key frame\n",
      "Svt[info]: SVT [config]: BRC mode / rate factor \t\t\t\t\t: CRF / 30 \n",
      "Svt[info]: SVT [config]: AQ mode / variance boost \t\t\t\t\t: 2 / 0\n",
      "Svt[info]: -------------------------------------------\n",
      "Svt[info]: -------------------------------------------\n",
      "Svt[info]: SVT [version]:\tSVT-AV1 Encoder Lib v2.3.0-61-g66fb0f59\n",
      "Svt[info]: SVT [build]  :\tGCC 11.4.0\t 64 bit\n",
      "Svt[info]: LIB Build date: Nov 27 2024 13:20:34\n",
      "Svt[info]: -------------------------------------------\n",
      "Svt[info]: Level of Parallelism: 5\n",
      "Svt[info]: Number of PPCS 76\n",
      "Svt[info]: [asm level on system : up to avx2]\n",
      "Svt[info]: [asm level selected : up to avx2]\n",
      "Svt[info]: -------------------------------------------\n",
      "Svt[info]: SVT [config]: main profile\ttier (auto)\tlevel (auto)\n",
      "Svt[info]: SVT [config]: width / height / fps numerator / fps denominator \t\t: 96 / 96 / 10 / 1\n",
      "Svt[info]: SVT [config]: bit-depth / color format \t\t\t\t\t: 8 / YUV420\n",
      "Svt[info]: SVT [config]: preset / tune / pred struct \t\t\t\t\t: 10 / PSNR / random access\n",
      "Svt[info]: SVT [config]: gop size / mini-gop size / key-frame type \t\t\t: 2 / 16 / key frame\n",
      "Svt[info]: SVT [config]: BRC mode / rate factor \t\t\t\t\t: CRF / 30 \n",
      "Svt[info]: SVT [config]: AQ mode / variance boost \t\t\t\t\t: 2 / 0\n",
      "Svt[info]: -------------------------------------------\n",
      "Svt[info]: -------------------------------------------\n",
      "Svt[info]: SVT [version]:\tSVT-AV1 Encoder Lib v2.3.0-61-g66fb0f59\n",
      "Svt[info]: SVT [build]  :\tGCC 11.4.0\t 64 bit\n",
      "Svt[info]: LIB Build date: Nov 27 2024 13:20:34\n",
      "Svt[info]: -------------------------------------------\n",
      "Svt[info]: Level of Parallelism: 5\n",
      "Svt[info]: Number of PPCS 76\n",
      "Svt[info]: [asm level on system : up to avx2]\n",
      "Svt[info]: [asm level selected : up to avx2]\n",
      "Svt[info]: -------------------------------------------\n",
      "Svt[info]: SVT [config]: main profile\ttier (auto)\tlevel (auto)\n",
      "Svt[info]: SVT [config]: width / height / fps numerator / fps denominator \t\t: 96 / 96 / 10 / 1\n",
      "Svt[info]: SVT [config]: bit-depth / color format \t\t\t\t\t: 8 / YUV420\n",
      "Svt[info]: SVT [config]: preset / tune / pred struct \t\t\t\t\t: 10 / PSNR / random access\n",
      "Svt[info]: SVT [config]: gop size / mini-gop size / key-frame type \t\t\t: 2 / 16 / key frame\n",
      "Svt[info]: SVT [config]: BRC mode / rate factor \t\t\t\t\t: CRF / 30 \n",
      "Svt[info]: SVT [config]: AQ mode / variance boost \t\t\t\t\t: 2 / 0\n",
      "Svt[info]: -------------------------------------------\n",
      "Svt[info]: -------------------------------------------\n",
      "Svt[info]: SVT [version]:\tSVT-AV1 Encoder Lib v2.3.0-61-g66fb0f59\n",
      "Svt[info]: SVT [build]  :\tGCC 11.4.0\t 64 bit\n",
      "Svt[info]: LIB Build date: Nov 27 2024 13:20:34\n",
      "Svt[info]: -------------------------------------------\n",
      "Svt[info]: Level of Parallelism: 5\n",
      "Svt[info]: Number of PPCS 76\n",
      "Svt[info]: [asm level on system : up to avx2]\n",
      "Svt[info]: [asm level selected : up to avx2]\n",
      "Svt[info]: -------------------------------------------\n",
      "Svt[info]: SVT [config]: main profile\ttier (auto)\tlevel (auto)\n",
      "Svt[info]: SVT [config]: width / height / fps numerator / fps denominator \t\t: 96 / 96 / 10 / 1\n",
      "Svt[info]: SVT [config]: bit-depth / color format \t\t\t\t\t: 8 / YUV420\n",
      "Svt[info]: SVT [config]: preset / tune / pred struct \t\t\t\t\t: 10 / PSNR / random access\n",
      "Svt[info]: SVT [config]: gop size / mini-gop size / key-frame type \t\t\t: 2 / 16 / key frame\n",
      "Svt[info]: SVT [config]: BRC mode / rate factor \t\t\t\t\t: CRF / 30 \n",
      "Svt[info]: SVT [config]: AQ mode / variance boost \t\t\t\t\t: 2 / 0\n",
      "Svt[info]: -------------------------------------------\n",
      "Svt[info]: -------------------------------------------\n",
      "Svt[info]: SVT [version]:\tSVT-AV1 Encoder Lib v2.3.0-61-g66fb0f59\n",
      "Svt[info]: SVT [build]  :\tGCC 11.4.0\t 64 bit\n",
      "Svt[info]: LIB Build date: Nov 27 2024 13:20:34\n",
      "Svt[info]: -------------------------------------------\n",
      "Svt[info]: Level of Parallelism: 5\n",
      "Svt[info]: Number of PPCS 76\n",
      "Svt[info]: [asm level on system : up to avx2]\n",
      "Svt[info]: [asm level selected : up to avx2]\n",
      "Svt[info]: -------------------------------------------\n",
      "Svt[info]: SVT [config]: main profile\ttier (auto)\tlevel (auto)\n",
      "Svt[info]: SVT [config]: width / height / fps numerator / fps denominator \t\t: 96 / 96 / 10 / 1\n",
      "Svt[info]: SVT [config]: bit-depth / color format \t\t\t\t\t: 8 / YUV420\n",
      "Svt[info]: SVT [config]: preset / tune / pred struct \t\t\t\t\t: 10 / PSNR / random access\n",
      "Svt[info]: SVT [config]: gop size / mini-gop size / key-frame type \t\t\t: 2 / 16 / key frame\n",
      "Svt[info]: SVT [config]: BRC mode / rate factor \t\t\t\t\t: CRF / 30 \n",
      "Svt[info]: SVT [config]: AQ mode / variance boost \t\t\t\t\t: 2 / 0\n",
      "Svt[info]: -------------------------------------------\n",
      "Svt[info]: -------------------------------------------\n",
      "Svt[info]: SVT [version]:\tSVT-AV1 Encoder Lib v2.3.0-61-g66fb0f59\n",
      "Svt[info]: SVT [build]  :\tGCC 11.4.0\t 64 bit\n",
      "Svt[info]: LIB Build date: Nov 27 2024 13:20:34\n",
      "Svt[info]: -------------------------------------------\n",
      "Svt[info]: Level of Parallelism: 5\n",
      "Svt[info]: Number of PPCS 76\n",
      "Svt[info]: [asm level on system : up to avx2]\n",
      "Svt[info]: [asm level selected : up to avx2]\n",
      "Svt[info]: -------------------------------------------\n",
      "Svt[info]: SVT [config]: main profile\ttier (auto)\tlevel (auto)\n",
      "Svt[info]: SVT [config]: width / height / fps numerator / fps denominator \t\t: 96 / 96 / 10 / 1\n",
      "Svt[info]: SVT [config]: bit-depth / color format \t\t\t\t\t: 8 / YUV420\n",
      "Svt[info]: SVT [config]: preset / tune / pred struct \t\t\t\t\t: 10 / PSNR / random access\n",
      "Svt[info]: SVT [config]: gop size / mini-gop size / key-frame type \t\t\t: 2 / 16 / key frame\n",
      "Svt[info]: SVT [config]: BRC mode / rate factor \t\t\t\t\t: CRF / 30 \n",
      "Svt[info]: SVT [config]: AQ mode / variance boost \t\t\t\t\t: 2 / 0\n",
      "Svt[info]: -------------------------------------------\n",
      "Svt[info]: -------------------------------------------\n",
      "Svt[info]: SVT [version]:\tSVT-AV1 Encoder Lib v2.3.0-61-g66fb0f59\n",
      "Svt[info]: SVT [build]  :\tGCC 11.4.0\t 64 bit\n",
      "Svt[info]: LIB Build date: Nov 27 2024 13:20:34\n",
      "Svt[info]: -------------------------------------------\n",
      "Svt[info]: Level of Parallelism: 5\n",
      "Svt[info]: Number of PPCS 76\n",
      "Svt[info]: [asm level on system : up to avx2]\n",
      "Svt[info]: [asm level selected : up to avx2]\n",
      "Svt[info]: -------------------------------------------\n",
      "Svt[info]: SVT [config]: main profile\ttier (auto)\tlevel (auto)\n",
      "Svt[info]: SVT [config]: width / height / fps numerator / fps denominator \t\t: 96 / 96 / 10 / 1\n",
      "Svt[info]: SVT [config]: bit-depth / color format \t\t\t\t\t: 8 / YUV420\n",
      "Svt[info]: SVT [config]: preset / tune / pred struct \t\t\t\t\t: 10 / PSNR / random access\n",
      "Svt[info]: SVT [config]: gop size / mini-gop size / key-frame type \t\t\t: 2 / 16 / key frame\n",
      "Svt[info]: SVT [config]: BRC mode / rate factor \t\t\t\t\t: CRF / 30 \n",
      "Svt[info]: SVT [config]: AQ mode / variance boost \t\t\t\t\t: 2 / 0\n",
      "Svt[info]: -------------------------------------------\n",
      "Svt[info]: -------------------------------------------\n",
      "Svt[info]: SVT [version]:\tSVT-AV1 Encoder Lib v2.3.0-61-g66fb0f59\n",
      "Svt[info]: SVT [build]  :\tGCC 11.4.0\t 64 bit\n",
      "Svt[info]: LIB Build date: Nov 27 2024 13:20:34\n",
      "Svt[info]: -------------------------------------------\n",
      "Svt[info]: Level of Parallelism: 5\n",
      "Svt[info]: Number of PPCS 76\n",
      "Svt[info]: [asm level on system : up to avx2]\n",
      "Svt[info]: [asm level selected : up to avx2]\n",
      "Svt[info]: -------------------------------------------\n",
      "Svt[info]: SVT [config]: main profile\ttier (auto)\tlevel (auto)\n",
      "Svt[info]: SVT [config]: width / height / fps numerator / fps denominator \t\t: 96 / 96 / 10 / 1\n",
      "Svt[info]: SVT [config]: bit-depth / color format \t\t\t\t\t: 8 / YUV420\n",
      "Svt[info]: SVT [config]: preset / tune / pred struct \t\t\t\t\t: 10 / PSNR / random access\n",
      "Svt[info]: SVT [config]: gop size / mini-gop size / key-frame type \t\t\t: 2 / 16 / key frame\n",
      "Svt[info]: SVT [config]: BRC mode / rate factor \t\t\t\t\t: CRF / 30 \n",
      "Svt[info]: SVT [config]: AQ mode / variance boost \t\t\t\t\t: 2 / 0\n",
      "Svt[info]: -------------------------------------------\n",
      "Svt[info]: -------------------------------------------\n",
      "Svt[info]: SVT [version]:\tSVT-AV1 Encoder Lib v2.3.0-61-g66fb0f59\n",
      "Svt[info]: SVT [build]  :\tGCC 11.4.0\t 64 bit\n",
      "Svt[info]: LIB Build date: Nov 27 2024 13:20:34\n",
      "Svt[info]: -------------------------------------------\n",
      "Svt[info]: Level of Parallelism: 5\n",
      "Svt[info]: Number of PPCS 76\n",
      "Svt[info]: [asm level on system : up to avx2]\n",
      "Svt[info]: [asm level selected : up to avx2]\n",
      "Svt[info]: -------------------------------------------\n",
      "Svt[info]: SVT [config]: main profile\ttier (auto)\tlevel (auto)\n",
      "Svt[info]: SVT [config]: width / height / fps numerator / fps denominator \t\t: 96 / 96 / 10 / 1\n",
      "Svt[info]: SVT [config]: bit-depth / color format \t\t\t\t\t: 8 / YUV420\n",
      "Svt[info]: SVT [config]: preset / tune / pred struct \t\t\t\t\t: 10 / PSNR / random access\n",
      "Svt[info]: SVT [config]: gop size / mini-gop size / key-frame type \t\t\t: 2 / 16 / key frame\n",
      "Svt[info]: SVT [config]: BRC mode / rate factor \t\t\t\t\t: CRF / 30 \n",
      "Svt[info]: SVT [config]: AQ mode / variance boost \t\t\t\t\t: 2 / 0\n",
      "Svt[info]: -------------------------------------------\n",
      "Svt[info]: -------------------------------------------\n",
      "Svt[info]: SVT [version]:\tSVT-AV1 Encoder Lib v2.3.0-61-g66fb0f59\n",
      "Svt[info]: SVT [build]  :\tGCC 11.4.0\t 64 bit\n",
      "Svt[info]: LIB Build date: Nov 27 2024 13:20:34\n",
      "Svt[info]: -------------------------------------------\n",
      "Svt[info]: Level of Parallelism: 5\n",
      "Svt[info]: Number of PPCS 76\n",
      "Svt[info]: [asm level on system : up to avx2]\n",
      "Svt[info]: [asm level selected : up to avx2]\n",
      "Svt[info]: -------------------------------------------\n",
      "Svt[info]: SVT [config]: main profile\ttier (auto)\tlevel (auto)\n",
      "Svt[info]: SVT [config]: width / height / fps numerator / fps denominator \t\t: 96 / 96 / 10 / 1\n",
      "Svt[info]: SVT [config]: bit-depth / color format \t\t\t\t\t: 8 / YUV420\n",
      "Svt[info]: SVT [config]: preset / tune / pred struct \t\t\t\t\t: 10 / PSNR / random access\n",
      "Svt[info]: SVT [config]: gop size / mini-gop size / key-frame type \t\t\t: 2 / 16 / key frame\n",
      "Svt[info]: SVT [config]: BRC mode / rate factor \t\t\t\t\t: CRF / 30 \n",
      "Svt[info]: SVT [config]: AQ mode / variance boost \t\t\t\t\t: 2 / 0\n",
      "Svt[info]: -------------------------------------------\n",
      "Svt[info]: -------------------------------------------\n",
      "Svt[info]: SVT [version]:\tSVT-AV1 Encoder Lib v2.3.0-61-g66fb0f59\n",
      "Svt[info]: SVT [build]  :\tGCC 11.4.0\t 64 bit\n",
      "Svt[info]: LIB Build date: Nov 27 2024 13:20:34\n",
      "Svt[info]: -------------------------------------------\n",
      "Svt[info]: Level of Parallelism: 5\n",
      "Svt[info]: Number of PPCS 76\n",
      "Svt[info]: [asm level on system : up to avx2]\n",
      "Svt[info]: [asm level selected : up to avx2]\n",
      "Svt[info]: -------------------------------------------\n",
      "Svt[info]: SVT [config]: main profile\ttier (auto)\tlevel (auto)\n",
      "Svt[info]: SVT [config]: width / height / fps numerator / fps denominator \t\t: 96 / 96 / 10 / 1\n",
      "Svt[info]: SVT [config]: bit-depth / color format \t\t\t\t\t: 8 / YUV420\n",
      "Svt[info]: SVT [config]: preset / tune / pred struct \t\t\t\t\t: 10 / PSNR / random access\n",
      "Svt[info]: SVT [config]: gop size / mini-gop size / key-frame type \t\t\t: 2 / 16 / key frame\n",
      "Svt[info]: SVT [config]: BRC mode / rate factor \t\t\t\t\t: CRF / 30 \n",
      "Svt[info]: SVT [config]: AQ mode / variance boost \t\t\t\t\t: 2 / 0\n",
      "Svt[info]: -------------------------------------------\n",
      "Svt[info]: -------------------------------------------\n",
      "Svt[info]: SVT [version]:\tSVT-AV1 Encoder Lib v2.3.0-61-g66fb0f59\n",
      "Svt[info]: SVT [build]  :\tGCC 11.4.0\t 64 bit\n",
      "Svt[info]: LIB Build date: Nov 27 2024 13:20:34\n",
      "Svt[info]: -------------------------------------------\n",
      "Svt[info]: Level of Parallelism: 5\n",
      "Svt[info]: Number of PPCS 76\n",
      "Svt[info]: [asm level on system : up to avx2]\n",
      "Svt[info]: [asm level selected : up to avx2]\n",
      "Svt[info]: -------------------------------------------\n",
      "Svt[info]: SVT [config]: main profile\ttier (auto)\tlevel (auto)\n",
      "Svt[info]: SVT [config]: width / height / fps numerator / fps denominator \t\t: 96 / 96 / 10 / 1\n",
      "Svt[info]: SVT [config]: bit-depth / color format \t\t\t\t\t: 8 / YUV420\n",
      "Svt[info]: SVT [config]: preset / tune / pred struct \t\t\t\t\t: 10 / PSNR / random access\n",
      "Svt[info]: SVT [config]: gop size / mini-gop size / key-frame type \t\t\t: 2 / 16 / key frame\n",
      "Svt[info]: SVT [config]: BRC mode / rate factor \t\t\t\t\t: CRF / 30 \n",
      "Svt[info]: SVT [config]: AQ mode / variance boost \t\t\t\t\t: 2 / 0\n",
      "Svt[info]: -------------------------------------------\n",
      "Svt[info]: -------------------------------------------\n",
      "Svt[info]: SVT [version]:\tSVT-AV1 Encoder Lib v2.3.0-61-g66fb0f59\n",
      "Svt[info]: SVT [build]  :\tGCC 11.4.0\t 64 bit\n",
      "Svt[info]: LIB Build date: Nov 27 2024 13:20:34\n",
      "Svt[info]: -------------------------------------------\n",
      "Svt[info]: Level of Parallelism: 5\n",
      "Svt[info]: Number of PPCS 76\n",
      "Svt[info]: [asm level on system : up to avx2]\n",
      "Svt[info]: [asm level selected : up to avx2]\n",
      "Svt[info]: -------------------------------------------\n",
      "Svt[info]: SVT [config]: main profile\ttier (auto)\tlevel (auto)\n",
      "Svt[info]: SVT [config]: width / height / fps numerator / fps denominator \t\t: 96 / 96 / 10 / 1\n",
      "Svt[info]: SVT [config]: bit-depth / color format \t\t\t\t\t: 8 / YUV420\n",
      "Svt[info]: SVT [config]: preset / tune / pred struct \t\t\t\t\t: 10 / PSNR / random access\n",
      "Svt[info]: SVT [config]: gop size / mini-gop size / key-frame type \t\t\t: 2 / 16 / key frame\n",
      "Svt[info]: SVT [config]: BRC mode / rate factor \t\t\t\t\t: CRF / 30 \n",
      "Svt[info]: SVT [config]: AQ mode / variance boost \t\t\t\t\t: 2 / 0\n",
      "Svt[info]: -------------------------------------------\n",
      "Svt[info]: -------------------------------------------\n",
      "Svt[info]: SVT [version]:\tSVT-AV1 Encoder Lib v2.3.0-61-g66fb0f59\n",
      "Svt[info]: SVT [build]  :\tGCC 11.4.0\t 64 bit\n",
      "Svt[info]: LIB Build date: Nov 27 2024 13:20:34\n",
      "Svt[info]: -------------------------------------------\n",
      "Svt[info]: Level of Parallelism: 5\n",
      "Svt[info]: Number of PPCS 76\n",
      "Svt[info]: [asm level on system : up to avx2]\n",
      "Svt[info]: [asm level selected : up to avx2]\n",
      "Svt[info]: -------------------------------------------\n",
      "Svt[info]: SVT [config]: main profile\ttier (auto)\tlevel (auto)\n",
      "Svt[info]: SVT [config]: width / height / fps numerator / fps denominator \t\t: 96 / 96 / 10 / 1\n",
      "Svt[info]: SVT [config]: bit-depth / color format \t\t\t\t\t: 8 / YUV420\n",
      "Svt[info]: SVT [config]: preset / tune / pred struct \t\t\t\t\t: 10 / PSNR / random access\n",
      "Svt[info]: SVT [config]: gop size / mini-gop size / key-frame type \t\t\t: 2 / 16 / key frame\n",
      "Svt[info]: SVT [config]: BRC mode / rate factor \t\t\t\t\t: CRF / 30 \n",
      "Svt[info]: SVT [config]: AQ mode / variance boost \t\t\t\t\t: 2 / 0\n",
      "Svt[info]: -------------------------------------------\n",
      "Svt[info]: -------------------------------------------\n",
      "Svt[info]: SVT [version]:\tSVT-AV1 Encoder Lib v2.3.0-61-g66fb0f59\n",
      "Svt[info]: SVT [build]  :\tGCC 11.4.0\t 64 bit\n",
      "Svt[info]: LIB Build date: Nov 27 2024 13:20:34\n",
      "Svt[info]: -------------------------------------------\n",
      "Svt[info]: Level of Parallelism: 5\n",
      "Svt[info]: Number of PPCS 76\n",
      "Svt[info]: [asm level on system : up to avx2]\n",
      "Svt[info]: [asm level selected : up to avx2]\n",
      "Svt[info]: -------------------------------------------\n",
      "Svt[info]: SVT [config]: main profile\ttier (auto)\tlevel (auto)\n",
      "Svt[info]: SVT [config]: width / height / fps numerator / fps denominator \t\t: 96 / 96 / 10 / 1\n",
      "Svt[info]: SVT [config]: bit-depth / color format \t\t\t\t\t: 8 / YUV420\n",
      "Svt[info]: SVT [config]: preset / tune / pred struct \t\t\t\t\t: 10 / PSNR / random access\n",
      "Svt[info]: SVT [config]: gop size / mini-gop size / key-frame type \t\t\t: 2 / 16 / key frame\n",
      "Svt[info]: SVT [config]: BRC mode / rate factor \t\t\t\t\t: CRF / 30 \n",
      "Svt[info]: SVT [config]: AQ mode / variance boost \t\t\t\t\t: 2 / 0\n",
      "Svt[info]: -------------------------------------------\n",
      "Svt[info]: -------------------------------------------\n",
      "Svt[info]: SVT [version]:\tSVT-AV1 Encoder Lib v2.3.0-61-g66fb0f59\n",
      "Svt[info]: SVT [build]  :\tGCC 11.4.0\t 64 bit\n",
      "Svt[info]: LIB Build date: Nov 27 2024 13:20:34\n",
      "Svt[info]: -------------------------------------------\n",
      "Svt[info]: Level of Parallelism: 5\n",
      "Svt[info]: Number of PPCS 76\n",
      "Svt[info]: [asm level on system : up to avx2]\n",
      "Svt[info]: [asm level selected : up to avx2]\n",
      "Svt[info]: -------------------------------------------\n",
      "Svt[info]: SVT [config]: main profile\ttier (auto)\tlevel (auto)\n",
      "Svt[info]: SVT [config]: width / height / fps numerator / fps denominator \t\t: 96 / 96 / 10 / 1\n",
      "Svt[info]: SVT [config]: bit-depth / color format \t\t\t\t\t: 8 / YUV420\n",
      "Svt[info]: SVT [config]: preset / tune / pred struct \t\t\t\t\t: 10 / PSNR / random access\n",
      "Svt[info]: SVT [config]: gop size / mini-gop size / key-frame type \t\t\t: 2 / 16 / key frame\n",
      "Svt[info]: SVT [config]: BRC mode / rate factor \t\t\t\t\t: CRF / 30 \n",
      "Svt[info]: SVT [config]: AQ mode / variance boost \t\t\t\t\t: 2 / 0\n",
      "Svt[info]: -------------------------------------------\n",
      "Svt[info]: -------------------------------------------\n",
      "Svt[info]: SVT [version]:\tSVT-AV1 Encoder Lib v2.3.0-61-g66fb0f59\n",
      "Svt[info]: SVT [build]  :\tGCC 11.4.0\t 64 bit\n",
      "Svt[info]: LIB Build date: Nov 27 2024 13:20:34\n",
      "Svt[info]: -------------------------------------------\n",
      "Svt[info]: Level of Parallelism: 5\n",
      "Svt[info]: Number of PPCS 76\n",
      "Svt[info]: [asm level on system : up to avx2]\n",
      "Svt[info]: [asm level selected : up to avx2]\n",
      "Svt[info]: -------------------------------------------\n",
      "Svt[info]: SVT [config]: main profile\ttier (auto)\tlevel (auto)\n",
      "Svt[info]: SVT [config]: width / height / fps numerator / fps denominator \t\t: 96 / 96 / 10 / 1\n",
      "Svt[info]: SVT [config]: bit-depth / color format \t\t\t\t\t: 8 / YUV420\n",
      "Svt[info]: SVT [config]: preset / tune / pred struct \t\t\t\t\t: 10 / PSNR / random access\n",
      "Svt[info]: SVT [config]: gop size / mini-gop size / key-frame type \t\t\t: 2 / 16 / key frame\n",
      "Svt[info]: SVT [config]: BRC mode / rate factor \t\t\t\t\t: CRF / 30 \n",
      "Svt[info]: SVT [config]: AQ mode / variance boost \t\t\t\t\t: 2 / 0\n",
      "Svt[info]: -------------------------------------------\n",
      "Svt[info]: -------------------------------------------\n",
      "Svt[info]: SVT [version]:\tSVT-AV1 Encoder Lib v2.3.0-61-g66fb0f59\n",
      "Svt[info]: SVT [build]  :\tGCC 11.4.0\t 64 bit\n",
      "Svt[info]: LIB Build date: Nov 27 2024 13:20:34\n",
      "Svt[info]: -------------------------------------------\n",
      "Svt[info]: Level of Parallelism: 5\n",
      "Svt[info]: Number of PPCS 76\n",
      "Svt[info]: [asm level on system : up to avx2]\n",
      "Svt[info]: [asm level selected : up to avx2]\n",
      "Svt[info]: -------------------------------------------\n",
      "Svt[info]: SVT [config]: main profile\ttier (auto)\tlevel (auto)\n",
      "Svt[info]: SVT [config]: width / height / fps numerator / fps denominator \t\t: 96 / 96 / 10 / 1\n",
      "Svt[info]: SVT [config]: bit-depth / color format \t\t\t\t\t: 8 / YUV420\n",
      "Svt[info]: SVT [config]: preset / tune / pred struct \t\t\t\t\t: 10 / PSNR / random access\n",
      "Svt[info]: SVT [config]: gop size / mini-gop size / key-frame type \t\t\t: 2 / 16 / key frame\n",
      "Svt[info]: SVT [config]: BRC mode / rate factor \t\t\t\t\t: CRF / 30 \n",
      "Svt[info]: SVT [config]: AQ mode / variance boost \t\t\t\t\t: 2 / 0\n",
      "Svt[info]: -------------------------------------------\n",
      "Svt[info]: -------------------------------------------\n",
      "Svt[info]: SVT [version]:\tSVT-AV1 Encoder Lib v2.3.0-61-g66fb0f59\n",
      "Svt[info]: SVT [build]  :\tGCC 11.4.0\t 64 bit\n",
      "Svt[info]: LIB Build date: Nov 27 2024 13:20:34\n",
      "Svt[info]: -------------------------------------------\n",
      "Svt[info]: Level of Parallelism: 5\n",
      "Svt[info]: Number of PPCS 76\n",
      "Svt[info]: [asm level on system : up to avx2]\n",
      "Svt[info]: [asm level selected : up to avx2]\n",
      "Svt[info]: -------------------------------------------\n",
      "Svt[info]: SVT [config]: main profile\ttier (auto)\tlevel (auto)\n",
      "Svt[info]: SVT [config]: width / height / fps numerator / fps denominator \t\t: 96 / 96 / 10 / 1\n",
      "Svt[info]: SVT [config]: bit-depth / color format \t\t\t\t\t: 8 / YUV420\n",
      "Svt[info]: SVT [config]: preset / tune / pred struct \t\t\t\t\t: 10 / PSNR / random access\n",
      "Svt[info]: SVT [config]: gop size / mini-gop size / key-frame type \t\t\t: 2 / 16 / key frame\n",
      "Svt[info]: SVT [config]: BRC mode / rate factor \t\t\t\t\t: CRF / 30 \n",
      "Svt[info]: SVT [config]: AQ mode / variance boost \t\t\t\t\t: 2 / 0\n",
      "Svt[info]: -------------------------------------------\n",
      "Svt[info]: -------------------------------------------\n",
      "Svt[info]: SVT [version]:\tSVT-AV1 Encoder Lib v2.3.0-61-g66fb0f59\n",
      "Svt[info]: SVT [build]  :\tGCC 11.4.0\t 64 bit\n",
      "Svt[info]: LIB Build date: Nov 27 2024 13:20:34\n",
      "Svt[info]: -------------------------------------------\n",
      "Svt[info]: Level of Parallelism: 5\n",
      "Svt[info]: Number of PPCS 76\n",
      "Svt[info]: [asm level on system : up to avx2]\n",
      "Svt[info]: [asm level selected : up to avx2]\n",
      "Svt[info]: -------------------------------------------\n",
      "Svt[info]: SVT [config]: main profile\ttier (auto)\tlevel (auto)\n",
      "Svt[info]: SVT [config]: width / height / fps numerator / fps denominator \t\t: 96 / 96 / 10 / 1\n",
      "Svt[info]: SVT [config]: bit-depth / color format \t\t\t\t\t: 8 / YUV420\n",
      "Svt[info]: SVT [config]: preset / tune / pred struct \t\t\t\t\t: 10 / PSNR / random access\n",
      "Svt[info]: SVT [config]: gop size / mini-gop size / key-frame type \t\t\t: 2 / 16 / key frame\n",
      "Svt[info]: SVT [config]: BRC mode / rate factor \t\t\t\t\t: CRF / 30 \n",
      "Svt[info]: SVT [config]: AQ mode / variance boost \t\t\t\t\t: 2 / 0\n",
      "Svt[info]: -------------------------------------------\n",
      "Svt[info]: -------------------------------------------\n",
      "Svt[info]: SVT [version]:\tSVT-AV1 Encoder Lib v2.3.0-61-g66fb0f59\n",
      "Svt[info]: SVT [build]  :\tGCC 11.4.0\t 64 bit\n",
      "Svt[info]: LIB Build date: Nov 27 2024 13:20:34\n",
      "Svt[info]: -------------------------------------------\n",
      "Svt[info]: Level of Parallelism: 5\n",
      "Svt[info]: Number of PPCS 76\n",
      "Svt[info]: [asm level on system : up to avx2]\n",
      "Svt[info]: [asm level selected : up to avx2]\n",
      "Svt[info]: -------------------------------------------\n",
      "Svt[info]: SVT [config]: main profile\ttier (auto)\tlevel (auto)\n",
      "Svt[info]: SVT [config]: width / height / fps numerator / fps denominator \t\t: 96 / 96 / 10 / 1\n",
      "Svt[info]: SVT [config]: bit-depth / color format \t\t\t\t\t: 8 / YUV420\n",
      "Svt[info]: SVT [config]: preset / tune / pred struct \t\t\t\t\t: 10 / PSNR / random access\n",
      "Svt[info]: SVT [config]: gop size / mini-gop size / key-frame type \t\t\t: 2 / 16 / key frame\n",
      "Svt[info]: SVT [config]: BRC mode / rate factor \t\t\t\t\t: CRF / 30 \n",
      "Svt[info]: SVT [config]: AQ mode / variance boost \t\t\t\t\t: 2 / 0\n",
      "Svt[info]: -------------------------------------------\n",
      "Svt[info]: -------------------------------------------\n",
      "Svt[info]: SVT [version]:\tSVT-AV1 Encoder Lib v2.3.0-61-g66fb0f59\n",
      "Svt[info]: SVT [build]  :\tGCC 11.4.0\t 64 bit\n",
      "Svt[info]: LIB Build date: Nov 27 2024 13:20:34\n",
      "Svt[info]: -------------------------------------------\n",
      "Svt[info]: Level of Parallelism: 5\n",
      "Svt[info]: Number of PPCS 76\n",
      "Svt[info]: [asm level on system : up to avx2]\n",
      "Svt[info]: [asm level selected : up to avx2]\n",
      "Svt[info]: -------------------------------------------\n",
      "Svt[info]: SVT [config]: main profile\ttier (auto)\tlevel (auto)\n",
      "Svt[info]: SVT [config]: width / height / fps numerator / fps denominator \t\t: 96 / 96 / 10 / 1\n",
      "Svt[info]: SVT [config]: bit-depth / color format \t\t\t\t\t: 8 / YUV420\n",
      "Svt[info]: SVT [config]: preset / tune / pred struct \t\t\t\t\t: 10 / PSNR / random access\n",
      "Svt[info]: SVT [config]: gop size / mini-gop size / key-frame type \t\t\t: 2 / 16 / key frame\n",
      "Svt[info]: SVT [config]: BRC mode / rate factor \t\t\t\t\t: CRF / 30 \n",
      "Svt[info]: SVT [config]: AQ mode / variance boost \t\t\t\t\t: 2 / 0\n",
      "Svt[info]: -------------------------------------------\n",
      "Svt[info]: -------------------------------------------\n",
      "Svt[info]: SVT [version]:\tSVT-AV1 Encoder Lib v2.3.0-61-g66fb0f59\n",
      "Svt[info]: SVT [build]  :\tGCC 11.4.0\t 64 bit\n",
      "Svt[info]: LIB Build date: Nov 27 2024 13:20:34\n",
      "Svt[info]: -------------------------------------------\n",
      "Svt[info]: Level of Parallelism: 5\n",
      "Svt[info]: Number of PPCS 76\n",
      "Svt[info]: [asm level on system : up to avx2]\n",
      "Svt[info]: [asm level selected : up to avx2]\n",
      "Svt[info]: -------------------------------------------\n",
      "Svt[info]: SVT [config]: main profile\ttier (auto)\tlevel (auto)\n",
      "Svt[info]: SVT [config]: width / height / fps numerator / fps denominator \t\t: 96 / 96 / 10 / 1\n",
      "Svt[info]: SVT [config]: bit-depth / color format \t\t\t\t\t: 8 / YUV420\n",
      "Svt[info]: SVT [config]: preset / tune / pred struct \t\t\t\t\t: 10 / PSNR / random access\n",
      "Svt[info]: SVT [config]: gop size / mini-gop size / key-frame type \t\t\t: 2 / 16 / key frame\n",
      "Svt[info]: SVT [config]: BRC mode / rate factor \t\t\t\t\t: CRF / 30 \n",
      "Svt[info]: SVT [config]: AQ mode / variance boost \t\t\t\t\t: 2 / 0\n",
      "Svt[info]: -------------------------------------------\n",
      "Svt[info]: -------------------------------------------\n",
      "Svt[info]: SVT [version]:\tSVT-AV1 Encoder Lib v2.3.0-61-g66fb0f59\n",
      "Svt[info]: SVT [build]  :\tGCC 11.4.0\t 64 bit\n",
      "Svt[info]: LIB Build date: Nov 27 2024 13:20:34\n",
      "Svt[info]: -------------------------------------------\n",
      "Svt[info]: Level of Parallelism: 5\n",
      "Svt[info]: Number of PPCS 76\n",
      "Svt[info]: [asm level on system : up to avx2]\n",
      "Svt[info]: [asm level selected : up to avx2]\n",
      "Svt[info]: -------------------------------------------\n",
      "Svt[info]: SVT [config]: main profile\ttier (auto)\tlevel (auto)\n",
      "Svt[info]: SVT [config]: width / height / fps numerator / fps denominator \t\t: 96 / 96 / 10 / 1\n",
      "Svt[info]: SVT [config]: bit-depth / color format \t\t\t\t\t: 8 / YUV420\n",
      "Svt[info]: SVT [config]: preset / tune / pred struct \t\t\t\t\t: 10 / PSNR / random access\n",
      "Svt[info]: SVT [config]: gop size / mini-gop size / key-frame type \t\t\t: 2 / 16 / key frame\n",
      "Svt[info]: SVT [config]: BRC mode / rate factor \t\t\t\t\t: CRF / 30 \n",
      "Svt[info]: SVT [config]: AQ mode / variance boost \t\t\t\t\t: 2 / 0\n",
      "Svt[info]: -------------------------------------------\n",
      "Svt[info]: -------------------------------------------\n",
      "Svt[info]: SVT [version]:\tSVT-AV1 Encoder Lib v2.3.0-61-g66fb0f59\n",
      "Svt[info]: SVT [build]  :\tGCC 11.4.0\t 64 bit\n",
      "Svt[info]: LIB Build date: Nov 27 2024 13:20:34\n",
      "Svt[info]: -------------------------------------------\n",
      "Svt[info]: Level of Parallelism: 5\n",
      "Svt[info]: Number of PPCS 76\n",
      "Svt[info]: [asm level on system : up to avx2]\n",
      "Svt[info]: [asm level selected : up to avx2]\n",
      "Svt[info]: -------------------------------------------\n",
      "Svt[info]: SVT [config]: main profile\ttier (auto)\tlevel (auto)\n",
      "Svt[info]: SVT [config]: width / height / fps numerator / fps denominator \t\t: 96 / 96 / 10 / 1\n",
      "Svt[info]: SVT [config]: bit-depth / color format \t\t\t\t\t: 8 / YUV420\n",
      "Svt[info]: SVT [config]: preset / tune / pred struct \t\t\t\t\t: 10 / PSNR / random access\n",
      "Svt[info]: SVT [config]: gop size / mini-gop size / key-frame type \t\t\t: 2 / 16 / key frame\n",
      "Svt[info]: SVT [config]: BRC mode / rate factor \t\t\t\t\t: CRF / 30 \n",
      "Svt[info]: SVT [config]: AQ mode / variance boost \t\t\t\t\t: 2 / 0\n",
      "Svt[info]: -------------------------------------------\n",
      "Svt[info]: -------------------------------------------\n",
      "Svt[info]: SVT [version]:\tSVT-AV1 Encoder Lib v2.3.0-61-g66fb0f59\n",
      "Svt[info]: SVT [build]  :\tGCC 11.4.0\t 64 bit\n",
      "Svt[info]: LIB Build date: Nov 27 2024 13:20:34\n",
      "Svt[info]: -------------------------------------------\n",
      "Svt[info]: Level of Parallelism: 5\n",
      "Svt[info]: Number of PPCS 76\n",
      "Svt[info]: [asm level on system : up to avx2]\n",
      "Svt[info]: [asm level selected : up to avx2]\n",
      "Svt[info]: -------------------------------------------\n",
      "Svt[info]: SVT [config]: main profile\ttier (auto)\tlevel (auto)\n",
      "Svt[info]: SVT [config]: width / height / fps numerator / fps denominator \t\t: 96 / 96 / 10 / 1\n",
      "Svt[info]: SVT [config]: bit-depth / color format \t\t\t\t\t: 8 / YUV420\n",
      "Svt[info]: SVT [config]: preset / tune / pred struct \t\t\t\t\t: 10 / PSNR / random access\n",
      "Svt[info]: SVT [config]: gop size / mini-gop size / key-frame type \t\t\t: 2 / 16 / key frame\n",
      "Svt[info]: SVT [config]: BRC mode / rate factor \t\t\t\t\t: CRF / 30 \n",
      "Svt[info]: SVT [config]: AQ mode / variance boost \t\t\t\t\t: 2 / 0\n",
      "Svt[info]: -------------------------------------------\n",
      "Svt[info]: -------------------------------------------\n",
      "Svt[info]: SVT [version]:\tSVT-AV1 Encoder Lib v2.3.0-61-g66fb0f59\n",
      "Svt[info]: SVT [build]  :\tGCC 11.4.0\t 64 bit\n",
      "Svt[info]: LIB Build date: Nov 27 2024 13:20:34\n",
      "Svt[info]: -------------------------------------------\n",
      "Svt[info]: Level of Parallelism: 5\n",
      "Svt[info]: Number of PPCS 76\n",
      "Svt[info]: [asm level on system : up to avx2]\n",
      "Svt[info]: [asm level selected : up to avx2]\n",
      "Svt[info]: -------------------------------------------\n",
      "Svt[info]: SVT [config]: main profile\ttier (auto)\tlevel (auto)\n",
      "Svt[info]: SVT [config]: width / height / fps numerator / fps denominator \t\t: 96 / 96 / 10 / 1\n",
      "Svt[info]: SVT [config]: bit-depth / color format \t\t\t\t\t: 8 / YUV420\n",
      "Svt[info]: SVT [config]: preset / tune / pred struct \t\t\t\t\t: 10 / PSNR / random access\n",
      "Svt[info]: SVT [config]: gop size / mini-gop size / key-frame type \t\t\t: 2 / 16 / key frame\n",
      "Svt[info]: SVT [config]: BRC mode / rate factor \t\t\t\t\t: CRF / 30 \n",
      "Svt[info]: SVT [config]: AQ mode / variance boost \t\t\t\t\t: 2 / 0\n",
      "Svt[info]: -------------------------------------------\n",
      "Svt[info]: -------------------------------------------\n",
      "Svt[info]: SVT [version]:\tSVT-AV1 Encoder Lib v2.3.0-61-g66fb0f59\n",
      "Svt[info]: SVT [build]  :\tGCC 11.4.0\t 64 bit\n",
      "Svt[info]: LIB Build date: Nov 27 2024 13:20:34\n",
      "Svt[info]: -------------------------------------------\n",
      "Svt[info]: Level of Parallelism: 5\n",
      "Svt[info]: Number of PPCS 76\n",
      "Svt[info]: [asm level on system : up to avx2]\n",
      "Svt[info]: [asm level selected : up to avx2]\n",
      "Svt[info]: -------------------------------------------\n",
      "Svt[info]: SVT [config]: main profile\ttier (auto)\tlevel (auto)\n",
      "Svt[info]: SVT [config]: width / height / fps numerator / fps denominator \t\t: 96 / 96 / 10 / 1\n",
      "Svt[info]: SVT [config]: bit-depth / color format \t\t\t\t\t: 8 / YUV420\n",
      "Svt[info]: SVT [config]: preset / tune / pred struct \t\t\t\t\t: 10 / PSNR / random access\n",
      "Svt[info]: SVT [config]: gop size / mini-gop size / key-frame type \t\t\t: 2 / 16 / key frame\n",
      "Svt[info]: SVT [config]: BRC mode / rate factor \t\t\t\t\t: CRF / 30 \n",
      "Svt[info]: SVT [config]: AQ mode / variance boost \t\t\t\t\t: 2 / 0\n",
      "Svt[info]: -------------------------------------------\n",
      "Svt[info]: -------------------------------------------\n",
      "Svt[info]: SVT [version]:\tSVT-AV1 Encoder Lib v2.3.0-61-g66fb0f59\n",
      "Svt[info]: SVT [build]  :\tGCC 11.4.0\t 64 bit\n",
      "Svt[info]: LIB Build date: Nov 27 2024 13:20:34\n",
      "Svt[info]: -------------------------------------------\n",
      "Svt[info]: Level of Parallelism: 5\n",
      "Svt[info]: Number of PPCS 76\n",
      "Svt[info]: [asm level on system : up to avx2]\n",
      "Svt[info]: [asm level selected : up to avx2]\n",
      "Svt[info]: -------------------------------------------\n",
      "Svt[info]: SVT [config]: main profile\ttier (auto)\tlevel (auto)\n",
      "Svt[info]: SVT [config]: width / height / fps numerator / fps denominator \t\t: 96 / 96 / 10 / 1\n",
      "Svt[info]: SVT [config]: bit-depth / color format \t\t\t\t\t: 8 / YUV420\n",
      "Svt[info]: SVT [config]: preset / tune / pred struct \t\t\t\t\t: 10 / PSNR / random access\n",
      "Svt[info]: SVT [config]: gop size / mini-gop size / key-frame type \t\t\t: 2 / 16 / key frame\n",
      "Svt[info]: SVT [config]: BRC mode / rate factor \t\t\t\t\t: CRF / 30 \n",
      "Svt[info]: SVT [config]: AQ mode / variance boost \t\t\t\t\t: 2 / 0\n",
      "Svt[info]: -------------------------------------------\n",
      "Svt[info]: -------------------------------------------\n",
      "Svt[info]: SVT [version]:\tSVT-AV1 Encoder Lib v2.3.0-61-g66fb0f59\n",
      "Svt[info]: SVT [build]  :\tGCC 11.4.0\t 64 bit\n",
      "Svt[info]: LIB Build date: Nov 27 2024 13:20:34\n",
      "Svt[info]: -------------------------------------------\n",
      "Svt[info]: Level of Parallelism: 5\n",
      "Svt[info]: Number of PPCS 76\n",
      "Svt[info]: [asm level on system : up to avx2]\n",
      "Svt[info]: [asm level selected : up to avx2]\n",
      "Svt[info]: -------------------------------------------\n",
      "Svt[info]: SVT [config]: main profile\ttier (auto)\tlevel (auto)\n",
      "Svt[info]: SVT [config]: width / height / fps numerator / fps denominator \t\t: 96 / 96 / 10 / 1\n",
      "Svt[info]: SVT [config]: bit-depth / color format \t\t\t\t\t: 8 / YUV420\n",
      "Svt[info]: SVT [config]: preset / tune / pred struct \t\t\t\t\t: 10 / PSNR / random access\n",
      "Svt[info]: SVT [config]: gop size / mini-gop size / key-frame type \t\t\t: 2 / 16 / key frame\n",
      "Svt[info]: SVT [config]: BRC mode / rate factor \t\t\t\t\t: CRF / 30 \n",
      "Svt[info]: SVT [config]: AQ mode / variance boost \t\t\t\t\t: 2 / 0\n",
      "Svt[info]: -------------------------------------------\n",
      "Svt[info]: -------------------------------------------\n",
      "Svt[info]: SVT [version]:\tSVT-AV1 Encoder Lib v2.3.0-61-g66fb0f59\n",
      "Svt[info]: SVT [build]  :\tGCC 11.4.0\t 64 bit\n",
      "Svt[info]: LIB Build date: Nov 27 2024 13:20:34\n",
      "Svt[info]: -------------------------------------------\n",
      "Svt[info]: Level of Parallelism: 5\n",
      "Svt[info]: Number of PPCS 76\n",
      "Svt[info]: [asm level on system : up to avx2]\n",
      "Svt[info]: [asm level selected : up to avx2]\n",
      "Svt[info]: -------------------------------------------\n",
      "Svt[info]: SVT [config]: main profile\ttier (auto)\tlevel (auto)\n",
      "Svt[info]: SVT [config]: width / height / fps numerator / fps denominator \t\t: 96 / 96 / 10 / 1\n",
      "Svt[info]: SVT [config]: bit-depth / color format \t\t\t\t\t: 8 / YUV420\n",
      "Svt[info]: SVT [config]: preset / tune / pred struct \t\t\t\t\t: 10 / PSNR / random access\n",
      "Svt[info]: SVT [config]: gop size / mini-gop size / key-frame type \t\t\t: 2 / 16 / key frame\n",
      "Svt[info]: SVT [config]: BRC mode / rate factor \t\t\t\t\t: CRF / 30 \n",
      "Svt[info]: SVT [config]: AQ mode / variance boost \t\t\t\t\t: 2 / 0\n",
      "Svt[info]: -------------------------------------------\n",
      "Svt[info]: -------------------------------------------\n",
      "Svt[info]: SVT [version]:\tSVT-AV1 Encoder Lib v2.3.0-61-g66fb0f59\n",
      "Svt[info]: SVT [build]  :\tGCC 11.4.0\t 64 bit\n",
      "Svt[info]: LIB Build date: Nov 27 2024 13:20:34\n",
      "Svt[info]: -------------------------------------------\n",
      "Svt[info]: Level of Parallelism: 5\n",
      "Svt[info]: Number of PPCS 76\n",
      "Svt[info]: [asm level on system : up to avx2]\n",
      "Svt[info]: [asm level selected : up to avx2]\n",
      "Svt[info]: -------------------------------------------\n",
      "Svt[info]: SVT [config]: main profile\ttier (auto)\tlevel (auto)\n",
      "Svt[info]: SVT [config]: width / height / fps numerator / fps denominator \t\t: 96 / 96 / 10 / 1\n",
      "Svt[info]: SVT [config]: bit-depth / color format \t\t\t\t\t: 8 / YUV420\n",
      "Svt[info]: SVT [config]: preset / tune / pred struct \t\t\t\t\t: 10 / PSNR / random access\n",
      "Svt[info]: SVT [config]: gop size / mini-gop size / key-frame type \t\t\t: 2 / 16 / key frame\n",
      "Svt[info]: SVT [config]: BRC mode / rate factor \t\t\t\t\t: CRF / 30 \n",
      "Svt[info]: SVT [config]: AQ mode / variance boost \t\t\t\t\t: 2 / 0\n",
      "Svt[info]: -------------------------------------------\n",
      "Svt[info]: -------------------------------------------\n",
      "Svt[info]: SVT [version]:\tSVT-AV1 Encoder Lib v2.3.0-61-g66fb0f59\n",
      "Svt[info]: SVT [build]  :\tGCC 11.4.0\t 64 bit\n",
      "Svt[info]: LIB Build date: Nov 27 2024 13:20:34\n",
      "Svt[info]: -------------------------------------------\n",
      "Svt[info]: Level of Parallelism: 5\n",
      "Svt[info]: Number of PPCS 76\n",
      "Svt[info]: [asm level on system : up to avx2]\n",
      "Svt[info]: [asm level selected : up to avx2]\n",
      "Svt[info]: -------------------------------------------\n",
      "Svt[info]: SVT [config]: main profile\ttier (auto)\tlevel (auto)\n",
      "Svt[info]: SVT [config]: width / height / fps numerator / fps denominator \t\t: 96 / 96 / 10 / 1\n",
      "Svt[info]: SVT [config]: bit-depth / color format \t\t\t\t\t: 8 / YUV420\n",
      "Svt[info]: SVT [config]: preset / tune / pred struct \t\t\t\t\t: 10 / PSNR / random access\n",
      "Svt[info]: SVT [config]: gop size / mini-gop size / key-frame type \t\t\t: 2 / 16 / key frame\n",
      "Svt[info]: SVT [config]: BRC mode / rate factor \t\t\t\t\t: CRF / 30 \n",
      "Svt[info]: SVT [config]: AQ mode / variance boost \t\t\t\t\t: 2 / 0\n",
      "Svt[info]: -------------------------------------------\n",
      "Svt[info]: -------------------------------------------\n",
      "Svt[info]: SVT [version]:\tSVT-AV1 Encoder Lib v2.3.0-61-g66fb0f59\n",
      "Svt[info]: SVT [build]  :\tGCC 11.4.0\t 64 bit\n",
      "Svt[info]: LIB Build date: Nov 27 2024 13:20:34\n",
      "Svt[info]: -------------------------------------------\n",
      "Svt[info]: Level of Parallelism: 5\n",
      "Svt[info]: Number of PPCS 76\n",
      "Svt[info]: [asm level on system : up to avx2]\n",
      "Svt[info]: [asm level selected : up to avx2]\n",
      "Svt[info]: -------------------------------------------\n",
      "Svt[info]: SVT [config]: main profile\ttier (auto)\tlevel (auto)\n",
      "Svt[info]: SVT [config]: width / height / fps numerator / fps denominator \t\t: 96 / 96 / 10 / 1\n",
      "Svt[info]: SVT [config]: bit-depth / color format \t\t\t\t\t: 8 / YUV420\n",
      "Svt[info]: SVT [config]: preset / tune / pred struct \t\t\t\t\t: 10 / PSNR / random access\n",
      "Svt[info]: SVT [config]: gop size / mini-gop size / key-frame type \t\t\t: 2 / 16 / key frame\n",
      "Svt[info]: SVT [config]: BRC mode / rate factor \t\t\t\t\t: CRF / 30 \n",
      "Svt[info]: SVT [config]: AQ mode / variance boost \t\t\t\t\t: 2 / 0\n",
      "Svt[info]: -------------------------------------------\n",
      "Svt[info]: -------------------------------------------\n",
      "Svt[info]: SVT [version]:\tSVT-AV1 Encoder Lib v2.3.0-61-g66fb0f59\n",
      "Svt[info]: SVT [build]  :\tGCC 11.4.0\t 64 bit\n",
      "Svt[info]: LIB Build date: Nov 27 2024 13:20:34\n",
      "Svt[info]: -------------------------------------------\n",
      "Svt[info]: Level of Parallelism: 5\n",
      "Svt[info]: Number of PPCS 76\n",
      "Svt[info]: [asm level on system : up to avx2]\n",
      "Svt[info]: [asm level selected : up to avx2]\n",
      "Svt[info]: -------------------------------------------\n",
      "Svt[info]: SVT [config]: main profile\ttier (auto)\tlevel (auto)\n",
      "Svt[info]: SVT [config]: width / height / fps numerator / fps denominator \t\t: 96 / 96 / 10 / 1\n",
      "Svt[info]: SVT [config]: bit-depth / color format \t\t\t\t\t: 8 / YUV420\n",
      "Svt[info]: SVT [config]: preset / tune / pred struct \t\t\t\t\t: 10 / PSNR / random access\n",
      "Svt[info]: SVT [config]: gop size / mini-gop size / key-frame type \t\t\t: 2 / 16 / key frame\n",
      "Svt[info]: SVT [config]: BRC mode / rate factor \t\t\t\t\t: CRF / 30 \n",
      "Svt[info]: SVT [config]: AQ mode / variance boost \t\t\t\t\t: 2 / 0\n",
      "Svt[info]: -------------------------------------------\n",
      "Svt[info]: -------------------------------------------\n",
      "Svt[info]: SVT [version]:\tSVT-AV1 Encoder Lib v2.3.0-61-g66fb0f59\n",
      "Svt[info]: SVT [build]  :\tGCC 11.4.0\t 64 bit\n",
      "Svt[info]: LIB Build date: Nov 27 2024 13:20:34\n",
      "Svt[info]: -------------------------------------------\n",
      "Svt[info]: Level of Parallelism: 5\n",
      "Svt[info]: Number of PPCS 76\n",
      "Svt[info]: [asm level on system : up to avx2]\n",
      "Svt[info]: [asm level selected : up to avx2]\n",
      "Svt[info]: -------------------------------------------\n",
      "Svt[info]: SVT [config]: main profile\ttier (auto)\tlevel (auto)\n",
      "Svt[info]: SVT [config]: width / height / fps numerator / fps denominator \t\t: 96 / 96 / 10 / 1\n",
      "Svt[info]: SVT [config]: bit-depth / color format \t\t\t\t\t: 8 / YUV420\n",
      "Svt[info]: SVT [config]: preset / tune / pred struct \t\t\t\t\t: 10 / PSNR / random access\n",
      "Svt[info]: SVT [config]: gop size / mini-gop size / key-frame type \t\t\t: 2 / 16 / key frame\n",
      "Svt[info]: SVT [config]: BRC mode / rate factor \t\t\t\t\t: CRF / 30 \n",
      "Svt[info]: SVT [config]: AQ mode / variance boost \t\t\t\t\t: 2 / 0\n",
      "Svt[info]: -------------------------------------------\n",
      "Svt[info]: -------------------------------------------\n",
      "Svt[info]: SVT [version]:\tSVT-AV1 Encoder Lib v2.3.0-61-g66fb0f59\n",
      "Svt[info]: SVT [build]  :\tGCC 11.4.0\t 64 bit\n",
      "Svt[info]: LIB Build date: Nov 27 2024 13:20:34\n",
      "Svt[info]: -------------------------------------------\n",
      "Svt[info]: Level of Parallelism: 5\n",
      "Svt[info]: Number of PPCS 76\n",
      "Svt[info]: [asm level on system : up to avx2]\n",
      "Svt[info]: [asm level selected : up to avx2]\n",
      "Svt[info]: -------------------------------------------\n",
      "Svt[info]: SVT [config]: main profile\ttier (auto)\tlevel (auto)\n",
      "Svt[info]: SVT [config]: width / height / fps numerator / fps denominator \t\t: 96 / 96 / 10 / 1\n",
      "Svt[info]: SVT [config]: bit-depth / color format \t\t\t\t\t: 8 / YUV420\n",
      "Svt[info]: SVT [config]: preset / tune / pred struct \t\t\t\t\t: 10 / PSNR / random access\n",
      "Svt[info]: SVT [config]: gop size / mini-gop size / key-frame type \t\t\t: 2 / 16 / key frame\n",
      "Svt[info]: SVT [config]: BRC mode / rate factor \t\t\t\t\t: CRF / 30 \n",
      "Svt[info]: SVT [config]: AQ mode / variance boost \t\t\t\t\t: 2 / 0\n",
      "Svt[info]: -------------------------------------------\n",
      "Svt[info]: -------------------------------------------\n",
      "Svt[info]: SVT [version]:\tSVT-AV1 Encoder Lib v2.3.0-61-g66fb0f59\n",
      "Svt[info]: SVT [build]  :\tGCC 11.4.0\t 64 bit\n",
      "Svt[info]: LIB Build date: Nov 27 2024 13:20:34\n",
      "Svt[info]: -------------------------------------------\n",
      "Svt[info]: Level of Parallelism: 5\n",
      "Svt[info]: Number of PPCS 76\n",
      "Svt[info]: [asm level on system : up to avx2]\n",
      "Svt[info]: [asm level selected : up to avx2]\n",
      "Svt[info]: -------------------------------------------\n",
      "Svt[info]: SVT [config]: main profile\ttier (auto)\tlevel (auto)\n",
      "Svt[info]: SVT [config]: width / height / fps numerator / fps denominator \t\t: 96 / 96 / 10 / 1\n",
      "Svt[info]: SVT [config]: bit-depth / color format \t\t\t\t\t: 8 / YUV420\n",
      "Svt[info]: SVT [config]: preset / tune / pred struct \t\t\t\t\t: 10 / PSNR / random access\n",
      "Svt[info]: SVT [config]: gop size / mini-gop size / key-frame type \t\t\t: 2 / 16 / key frame\n",
      "Svt[info]: SVT [config]: BRC mode / rate factor \t\t\t\t\t: CRF / 30 \n",
      "Svt[info]: SVT [config]: AQ mode / variance boost \t\t\t\t\t: 2 / 0\n",
      "Svt[info]: -------------------------------------------\n",
      "Svt[info]: -------------------------------------------\n",
      "Svt[info]: SVT [version]:\tSVT-AV1 Encoder Lib v2.3.0-61-g66fb0f59\n",
      "Svt[info]: SVT [build]  :\tGCC 11.4.0\t 64 bit\n",
      "Svt[info]: LIB Build date: Nov 27 2024 13:20:34\n",
      "Svt[info]: -------------------------------------------\n",
      "Svt[info]: Level of Parallelism: 5\n",
      "Svt[info]: Number of PPCS 76\n",
      "Svt[info]: [asm level on system : up to avx2]\n",
      "Svt[info]: [asm level selected : up to avx2]\n",
      "Svt[info]: -------------------------------------------\n",
      "Svt[info]: SVT [config]: main profile\ttier (auto)\tlevel (auto)\n",
      "Svt[info]: SVT [config]: width / height / fps numerator / fps denominator \t\t: 96 / 96 / 10 / 1\n",
      "Svt[info]: SVT [config]: bit-depth / color format \t\t\t\t\t: 8 / YUV420\n",
      "Svt[info]: SVT [config]: preset / tune / pred struct \t\t\t\t\t: 10 / PSNR / random access\n",
      "Svt[info]: SVT [config]: gop size / mini-gop size / key-frame type \t\t\t: 2 / 16 / key frame\n",
      "Svt[info]: SVT [config]: BRC mode / rate factor \t\t\t\t\t: CRF / 30 \n",
      "Svt[info]: SVT [config]: AQ mode / variance boost \t\t\t\t\t: 2 / 0\n",
      "Svt[info]: -------------------------------------------\n",
      "Svt[info]: -------------------------------------------\n",
      "Svt[info]: SVT [version]:\tSVT-AV1 Encoder Lib v2.3.0-61-g66fb0f59\n",
      "Svt[info]: SVT [build]  :\tGCC 11.4.0\t 64 bit\n",
      "Svt[info]: LIB Build date: Nov 27 2024 13:20:34\n",
      "Svt[info]: -------------------------------------------\n",
      "Svt[info]: Level of Parallelism: 5\n",
      "Svt[info]: Number of PPCS 76\n",
      "Svt[info]: [asm level on system : up to avx2]\n",
      "Svt[info]: [asm level selected : up to avx2]\n",
      "Svt[info]: -------------------------------------------\n",
      "Svt[info]: SVT [config]: main profile\ttier (auto)\tlevel (auto)\n",
      "Svt[info]: SVT [config]: width / height / fps numerator / fps denominator \t\t: 96 / 96 / 10 / 1\n",
      "Svt[info]: SVT [config]: bit-depth / color format \t\t\t\t\t: 8 / YUV420\n",
      "Svt[info]: SVT [config]: preset / tune / pred struct \t\t\t\t\t: 10 / PSNR / random access\n",
      "Svt[info]: SVT [config]: gop size / mini-gop size / key-frame type \t\t\t: 2 / 16 / key frame\n",
      "Svt[info]: SVT [config]: BRC mode / rate factor \t\t\t\t\t: CRF / 30 \n",
      "Svt[info]: SVT [config]: AQ mode / variance boost \t\t\t\t\t: 2 / 0\n",
      "Svt[info]: -------------------------------------------\n",
      "Svt[info]: -------------------------------------------\n",
      "Svt[info]: SVT [version]:\tSVT-AV1 Encoder Lib v2.3.0-61-g66fb0f59\n",
      "Svt[info]: SVT [build]  :\tGCC 11.4.0\t 64 bit\n",
      "Svt[info]: LIB Build date: Nov 27 2024 13:20:34\n",
      "Svt[info]: -------------------------------------------\n",
      "Svt[info]: Level of Parallelism: 5\n",
      "Svt[info]: Number of PPCS 76\n",
      "Svt[info]: [asm level on system : up to avx2]\n",
      "Svt[info]: [asm level selected : up to avx2]\n",
      "Svt[info]: -------------------------------------------\n",
      "Svt[info]: SVT [config]: main profile\ttier (auto)\tlevel (auto)\n",
      "Svt[info]: SVT [config]: width / height / fps numerator / fps denominator \t\t: 96 / 96 / 10 / 1\n",
      "Svt[info]: SVT [config]: bit-depth / color format \t\t\t\t\t: 8 / YUV420\n",
      "Svt[info]: SVT [config]: preset / tune / pred struct \t\t\t\t\t: 10 / PSNR / random access\n",
      "Svt[info]: SVT [config]: gop size / mini-gop size / key-frame type \t\t\t: 2 / 16 / key frame\n",
      "Svt[info]: SVT [config]: BRC mode / rate factor \t\t\t\t\t: CRF / 30 \n",
      "Svt[info]: SVT [config]: AQ mode / variance boost \t\t\t\t\t: 2 / 0\n",
      "Svt[info]: -------------------------------------------\n",
      "Svt[info]: -------------------------------------------\n",
      "Svt[info]: SVT [version]:\tSVT-AV1 Encoder Lib v2.3.0-61-g66fb0f59\n",
      "Svt[info]: SVT [build]  :\tGCC 11.4.0\t 64 bit\n",
      "Svt[info]: LIB Build date: Nov 27 2024 13:20:34\n",
      "Svt[info]: -------------------------------------------\n",
      "Svt[info]: Level of Parallelism: 5\n",
      "Svt[info]: Number of PPCS 76\n",
      "Svt[info]: [asm level on system : up to avx2]\n",
      "Svt[info]: [asm level selected : up to avx2]\n",
      "Svt[info]: -------------------------------------------\n",
      "Svt[info]: SVT [config]: main profile\ttier (auto)\tlevel (auto)\n",
      "Svt[info]: SVT [config]: width / height / fps numerator / fps denominator \t\t: 96 / 96 / 10 / 1\n",
      "Svt[info]: SVT [config]: bit-depth / color format \t\t\t\t\t: 8 / YUV420\n",
      "Svt[info]: SVT [config]: preset / tune / pred struct \t\t\t\t\t: 10 / PSNR / random access\n",
      "Svt[info]: SVT [config]: gop size / mini-gop size / key-frame type \t\t\t: 2 / 16 / key frame\n",
      "Svt[info]: SVT [config]: BRC mode / rate factor \t\t\t\t\t: CRF / 30 \n",
      "Svt[info]: SVT [config]: AQ mode / variance boost \t\t\t\t\t: 2 / 0\n",
      "Svt[info]: -------------------------------------------\n",
      "Compute mean, min, max: 100%|█████████▉| 2210/2211 [00:30<00:00, 72.74it/s]\n",
      "Compute std: 100%|█████████▉| 2210/2211 [00:30<00:00, 73.44it/s]\n"
     ]
    },
    {
     "data": {
      "text/plain": [
       "{'mean': tensor([240.0716, 277.0508]),\n",
       " 'std': tensor([96.1678, 94.1372]),\n",
       " 'max': tensor([512., 512.]),\n",
       " 'min': tensor([0., 0.])}"
      ]
     },
     "execution_count": 9,
     "metadata": {},
     "output_type": "execute_result"
    }
   ],
   "source": [
    "from lerobot.common.datasets.utils import DEFAULT_FEATURES\n",
    "\n",
    "mapping = {\n",
    "    'image': 'observation.image',\n",
    "    'state': 'observation.state',\n",
    "    'action': 'action',\n",
    "    'reward': 'next.reward',\n",
    "}\n",
    "\n",
    "\n",
    "for f in files:\n",
    "    # read, convert to a dictionary NOTE: this is necessary to make the arrays writeable for some reason\n",
    "    data = np.load(f); data = dict(data)\n",
    "\n",
    "    nsteps = len(data['image'])\n",
    "    for t in range(nsteps):\n",
    "        frame = {}\n",
    "        for local_key, lerobot_key in mapping.items():\n",
    "            frame[lerobot_key] = data[local_key][t]\n",
    "            if local_key == 'action': \n",
    "                frame[lerobot_key] = (frame[lerobot_key] + 1.) * 256 # NOTE: specifically for gym-pusht\n",
    "\n",
    "        frame['next.success'] = data['is_last'][t]\n",
    "        dataset.add_frame(frame)\n",
    "\n",
    "    dataset.save_episode('pusht', encode_videos=False)\n",
    "dataset.consolidate()\n",
    "dataset.meta.stats['action']\n"
   ]
  },
  {
   "cell_type": "code",
   "execution_count": null,
   "metadata": {},
   "outputs": [
    {
     "data": {
      "text/plain": [
       "'~/.cache/huggingface/hub/datasets--pushtv2'"
      ]
     },
     "execution_count": 6,
     "metadata": {},
     "output_type": "execute_result"
    }
   ],
   "source": [
    "src = root\n",
    "dst = f'~/.cache/huggingface/hub/datasets--pushtv2_{imi}'\n",
    "shutil.rmtree(dst)\n",
    "shutil.copytree(src, dst)"
   ]
  },
  {
   "cell_type": "code",
   "execution_count": 6,
   "metadata": {},
   "outputs": [],
   "source": [
    "import tqdm\n",
    "import torch\n",
    "import einops\n",
    "import shutil\n",
    "from PIL import Image as PILImage\n",
    "import cv2\n",
    "\n",
    "from lerobot.common.datasets.push_dataset_to_hub.utils import concatenate_episodes, save_images_concurrently\n",
    "from lerobot.common.datasets.compute_stats import compute_stats\n",
    "from lerobot.scripts.push_dataset_to_hub import save_meta_data\n",
    "from lerobot.common.datasets.video_utils import VideoFrame, encode_video_frames\n",
    "from lerobot.common.datasets.utils import orhf_transform_to_torch\n",
    "from datasets import Dataset, Features, Image, Sequence, Value\n",
    "\n",
    "def to_hf_dataset(data_dict, video):\n",
    "    features = {}\n",
    "\n",
    "    if video:\n",
    "        features[\"observation.image\"] = VideoFrame()\n",
    "    else:\n",
    "        features[\"observation.image\"] = Image()\n",
    "\n",
    "    features[\"observation.state\"] = Sequence(\n",
    "        length=data_dict[\"observation.state\"].shape[1], feature=Value(dtype=\"float32\", id=None)\n",
    "    )\n",
    "    features[\"action\"] = Sequence(\n",
    "        length=data_dict[\"action\"].shape[1], feature=Value(dtype=\"float32\", id=None)\n",
    "    )\n",
    "    features[\"episode_index\"] = Value(dtype=\"int64\", id=None)\n",
    "    features[\"frame_index\"] = Value(dtype=\"int64\", id=None)\n",
    "    features[\"timestamp\"] = Value(dtype=\"float32\", id=None)\n",
    "    features[\"next.reward\"] = Value(dtype=\"float32\", id=None)\n",
    "    features[\"next.done\"] = Value(dtype=\"bool\", id=None)\n",
    "    features[\"index\"] = Value(dtype=\"int64\", id=None)\n",
    "    # TODO(rcadene): add success\n",
    "    # features[\"next.success\"] = Value(dtype='bool', id=None)\n",
    "\n",
    "    hf_dataset = Dataset.from_dict(data_dict, features=Features(features))\n",
    "    hf_dataset.set_transform(hf_transform_to_torch)\n",
    "    return hf_dataset\n",
    "\n",
    "def files_to_data_dict(files):\n",
    "    data_dicts = []\n",
    "    for data_fn in files:\n",
    "        print(f\"Processing {data_fn}\", end='...')\n",
    "        data = np.load(data_fn)\n",
    "        data = dict(data); \n",
    "        data[\"is_terminal\"][-1] = True\n",
    "        data_dicts.append(data)\n",
    "    print()\n",
    "    big_data_dict = {}\n",
    "    for k in data_dicts[0].keys():\n",
    "        big_data_dict[k] = np.concatenate([d[k] for d in data_dicts], axis=0)\n",
    "        print(k, big_data_dict[k].shape)\n",
    "        # if 'reward' in big_data_dict:\n",
    "        #     for kk in ['reward', 'is_terminal', 'is_last']:\n",
    "        #         print(f\"\\t{kk} {sum(big_data_dict[kk])}\", end='  ')\n",
    "    return big_data_dict\n",
    "\n",
    "# big_data_dict = files_to_data_dict(files)"
   ]
  },
  {
   "cell_type": "code",
   "execution_count": 7,
   "metadata": {},
   "outputs": [],
   "source": [
    "def fastrl_to_hf(big_data_dict, out_dir):\n",
    "    video = False; fps = 10; video_path = None; debug = False\n",
    "    ep_dicts = []\n",
    "    episode_data_index = {\"from\": [], \"to\": []}\n",
    "\n",
    "    id_from = 0\n",
    "    id_to = 0\n",
    "    ep_idx = 0\n",
    "    data = big_data_dict\n",
    "    total_frames = data[\"action\"].shape[0]\n",
    "# for i in tqdm.tqdm(range(total_frames)):\n",
    "    for i in range(total_frames):\n",
    "        id_to += 1\n",
    "\n",
    "        if not data[\"is_terminal\"][i]:\n",
    "            continue\n",
    "\n",
    "    # print(\"found terminal step\")\n",
    "\n",
    "        num_frames = id_to - id_from\n",
    "\n",
    "        image = torch.tensor(data[\"image\"][id_from:id_to])\n",
    "    # image = einops.rearrange(image, \"b h w c -> b h w c\")\n",
    "    # image = einops.rearrange(image, \"b c h w -> b h w c\")\n",
    "        state = torch.tensor(data[\"state\"][id_from:id_to, :2]) if (\"state\" in data) else torch.zeros(num_frames, 1)\n",
    "    # state = torch.tensor(data[\"vector_state\"][id_from:id_to]) if (\"vector_state\" in data) else torch.zeros(num_frames, 1)\n",
    "        action = (torch.tensor(data[\"action\"][id_from:id_to]) + 1) * 256\n",
    "    # action = torch.tensor(data[\"action\"][id_from:id_to])\n",
    "    # TODO(rcadene): we have a missing last frame which is the observation when the env is done\n",
    "    # it is critical to have this frame for tdmpc to predict a \"done observation/state\"\n",
    "    # next_image = torch.tensor(data[\"next_observations\"][\"rgb\"][id_from:id_to])\n",
    "    # next_state = torch.tensor(data[\"next_observations\"][\"state\"][id_from:id_to])\n",
    "        next_reward = torch.tensor(data[\"reward\"][id_from:id_to])\n",
    "        next_done = torch.tensor(data[\"is_terminal\"][id_from:id_to])\n",
    "\n",
    "        ep_dict = {}\n",
    "\n",
    "        imgs_array = [x.numpy() for x in image]\n",
    "        img_key = \"observation.image\"\n",
    "        if video:\n",
    "        # save png images in temporary directory\n",
    "            tmp_imgs_dir = out_dir / \"tmp_images\"\n",
    "            tmp_imgs_dir.mkdir(parents=True, exist_ok=True)\n",
    "\n",
    "            for i in range(len(imgs_array)):\n",
    "                img = PILImage.fromarray(imgs_array[i])\n",
    "                img.save(str(tmp_imgs_dir / f\"frame_{i:06d}.png\"), quality=100)\n",
    "\n",
    "        # encode images to a mp4 video\n",
    "            fname = f\"{img_key}_episode_{ep_idx:06d}.mp4\"\n",
    "            video_path = out_dir / \"videos\" / fname\n",
    "            encode_video_frames(tmp_imgs_dir, video_path, fps)\n",
    "\n",
    "        # clean temporary images directory\n",
    "            shutil.rmtree(tmp_imgs_dir)\n",
    "\n",
    "        # store the reference to the video frame\n",
    "            ep_dict[img_key] = [{\"path\": f\"videos/{fname}\", \"timestamp\": i / fps} for i in range(num_frames)]\n",
    "        else:\n",
    "        # ep_dict[img_key] = [PILImage.fromarray(x) for x in imgs_array]\n",
    "            ep_dict[img_key] = imgs_array\n",
    "\n",
    "        ep_dict[\"observation.state\"] = state\n",
    "        ep_dict[\"action\"] = action\n",
    "        ep_dict[\"episode_index\"] = torch.tensor([ep_idx] * num_frames, dtype=torch.int64)\n",
    "        ep_dict[\"frame_index\"] = torch.arange(0, num_frames, 1)\n",
    "        ep_dict[\"timestamp\"] = torch.arange(0, num_frames, 1) / fps\n",
    "    # ep_dict[\"next.observation.image\"] = next_image\n",
    "    # ep_dict[\"next.observation.state\"] = next_state\n",
    "        ep_dict[\"next.reward\"] = next_reward\n",
    "        ep_dict[\"next.done\"] = next_done\n",
    "        ep_dicts.append(ep_dict)\n",
    "\n",
    "        episode_data_index[\"from\"].append(id_from)\n",
    "        episode_data_index[\"to\"].append(id_from + num_frames)\n",
    "\n",
    "        id_from = id_to\n",
    "        ep_idx += 1\n",
    "\n",
    "    # process first episode only\n",
    "        if debug:\n",
    "            break\n",
    "    if len(ep_dicts) == 0:\n",
    "        print(\"No terminal step found in the dataset\")\n",
    "    else:\n",
    "        for k,v in ep_dicts[0].items():\n",
    "            print(k, ep_dicts[0][k].shape if hasattr(ep_dicts[0][k], 'shape') else len(ep_dicts[0][k]), ep_dicts[-1][k].shape if hasattr(ep_dicts[-1][k], 'shape') else len(ep_dicts[-1][k]))\n",
    "\n",
    "        # convert things to\n",
    "        data_dict = concatenate_episodes(ep_dicts)\n",
    "        data_dict, episode_data_index\n",
    "\n",
    "        for k,v in data_dict.items():\n",
    "            print(k, v.shape if hasattr(v, 'shape') else len(v), type(v))\n",
    "\n",
    "        hf_dataset = to_hf_dataset(data_dict, video)\n",
    "\n",
    "        info = {\"fps\": fps, \"video\": video}\n",
    "\n",
    "        if video_path: \n",
    "            print(f\"video path: {video_path}\")\n",
    "        lerobot_dataset = LeRobotDataset.from_preloaded(\n",
    "            repo_id=env_name,\n",
    "            hf_dataset=hf_dataset,\n",
    "            episode_data_index=episode_data_index,\n",
    "            info=info,\n",
    "            videos_dir=video_path,\n",
    "            )\n",
    "\n",
    "\n",
    "        hf_dataset = hf_dataset.with_format(None)  # to remove transforms that cant be saved\n",
    "        hf_dataset.save_to_disk(str(out_dir / \"train\"))\n",
    "    # print(lerobot_dataset)\n",
    "    stats = compute_stats(lerobot_dataset, batch_size=16, num_workers=1)\n",
    "    save_meta_data(info, stats, episode_data_index, out_dir / \"meta_data\")\n",
    "    return stats\n",
    "\n",
    "# stats = fastrl_to_hf(big_data_dict, out_dir)\n"
   ]
  },
  {
   "cell_type": "code",
   "execution_count": 8,
   "metadata": {},
   "outputs": [],
   "source": [
    "import cv2\n",
    "import numpy as np\n",
    "\n",
    "def resize_images(bdd):\n",
    "    for k in ['pixels', 'image']:\n",
    "        if k in bdd:\n",
    "            print(f\"Original {k} shape:\", bdd[k].shape)\n",
    "\n",
    "            # Reshape if necessary (assuming the images are in NHWC format)\n",
    "            if bdd[k].shape[-1] != 3:\n",
    "                bdd[k] = np.transpose(bdd[k], (0, 2, 3, 1))\n",
    "        \n",
    "            # Get the original dimensions\n",
    "            n, h, w, c = bdd[k].shape\n",
    "        \n",
    "            # Resize to 96x96\n",
    "            resized = np.zeros((n, 96, 96, c), dtype=bdd[k].dtype)\n",
    "            for i in range(n):\n",
    "                resized[i] = cv2.resize(bdd[k][i], (96, 96), interpolation=cv2.INTER_CUBIC)\n",
    "        \n",
    "        # Update the dictionary with resized images\n",
    "            bdd[k] = resized\n",
    "            \n",
    "            print(f\"Resized {k} shape:\", bdd[k].shape)\n",
    "    else:\n",
    "        print(f\"Key '{k}' not found in big_data_dict\")"
   ]
  },
  {
   "cell_type": "code",
   "execution_count": null,
   "metadata": {},
   "outputs": [],
   "source": [
    "# imis = [4, 5, 6, 7, 9, 10] if AI else [3,4,5,6,7,8,9,10]\n",
    "RESIZE_TO_96x96 = False\n",
    "imis = [22] #[11, 12, 13, 14]\n",
    "for ai_tag in [True, False]:\n",
    "    for imi in imis:\n",
    "        files, out_dir = get_files(env_name, imi, AI=ai_tag, resize=RESIZE_TO_96x96)\n",
    "        if files:\n",
    "            big_data_dict = files_to_data_dict(files)\n",
    "            if RESIZE_TO_96x96: resize_images(big_data_dict)\n",
    "            print(f\"Attempting to write to {out_dir}\")\n",
    "            stats = fastrl_to_hf(big_data_dict, out_dir)\n",
    "            # for k,v in stats.items():\n",
    "            #     print(k, v)\n",
    "        else: print(f\"Could not find files for {imi} AI {ai_tag}\")"
   ]
  },
  {
   "cell_type": "code",
   "execution_count": null,
   "metadata": {},
   "outputs": [],
   "source": [
    "video = False; fps = 20; video_path = None; debug = False\n",
    "ep_dicts = []\n",
    "episode_data_index = {\"from\": [], \"to\": []}\n",
    "\n",
    "id_from = 0\n",
    "id_to = 0\n",
    "ep_idx = 0\n",
    "data = big_data_dict\n",
    "total_frames = data[\"action\"].shape[0]\n",
    "# for i in tqdm.tqdm(range(total_frames)):\n",
    "for i in range(total_frames):\n",
    "    id_to += 1\n",
    "\n",
    "    if not data[\"is_terminal\"][i]:\n",
    "        continue\n",
    "\n",
    "# print(\"found terminal step\")\n",
    "\n",
    "    num_frames = id_to - id_from\n",
    "\n",
    "    image = torch.tensor(data[\"image\"][id_from:id_to])\n",
    "# image = einops.rearrange(image, \"b h w c -> b h w c\")\n",
    "# image = einops.rearrange(image, \"b c h w -> b h w c\")\n",
    "    state = torch.tensor(data[\"state\"][id_from:id_to, :2]) if (\"state\" in data) else torch.zeros(num_frames, 1)\n",
    "# state = torch.tensor(data[\"vector_state\"][id_from:id_to]) if (\"vector_state\" in data) else torch.zeros(num_frames, 1)\n",
    "    action = (torch.tensor(data[\"action\"][id_from:id_to]) + 1) * 256\n",
    "# action = torch.tensor(data[\"action\"][id_from:id_to])\n",
    "# TODO(rcadene): we have a missing last frame which is the observation when the env is done\n",
    "# it is critical to have this frame for tdmpc to predict a \"done observation/state\"\n",
    "# next_image = torch.tensor(data[\"next_observations\"][\"rgb\"][id_from:id_to])\n",
    "# next_state = torch.tensor(data[\"next_observations\"][\"state\"][id_from:id_to])\n",
    "    next_reward = torch.tensor(data[\"reward\"][id_from:id_to])\n",
    "    next_done = torch.tensor(data[\"is_terminal\"][id_from:id_to])\n",
    "\n",
    "    ep_dict = {}\n",
    "\n",
    "    imgs_array = [x.numpy() for x in image]\n",
    "    img_key = \"observation.image\"\n",
    "    if video:\n",
    "    # save png images in temporary directory\n",
    "        tmp_imgs_dir = out_dir / \"tmp_images\"\n",
    "        tmp_imgs_dir.mkdir(parents=True, exist_ok=True)\n",
    "\n",
    "        for i in range(len(imgs_array)):\n",
    "            img = PILImage.fromarray(imgs_array[i])\n",
    "            img.save(str(tmp_imgs_dir / f\"frame_{i:06d}.png\"), quality=100)\n",
    "\n",
    "    # encode images to a mp4 video\n",
    "        fname = f\"{img_key}_episode_{ep_idx:06d}.mp4\"\n",
    "        video_path = out_dir / \"videos\" / fname\n",
    "        encode_video_frames(tmp_imgs_dir, video_path, fps)\n",
    "\n",
    "    # clean temporary images directory\n",
    "        shutil.rmtree(tmp_imgs_dir)\n",
    "\n",
    "    # store the reference to the video frame\n",
    "        ep_dict[img_key] = [{\"path\": f\"videos/{fname}\", \"timestamp\": i / fps} for i in range(num_frames)]\n",
    "    else:\n",
    "    # ep_dict[img_key] = [PILImage.fromarray(x) for x in imgs_array]\n",
    "        ep_dict[img_key] = imgs_array\n",
    "\n",
    "    ep_dict[\"observation.state\"] = state\n",
    "    ep_dict[\"action\"] = action\n",
    "    ep_dict[\"episode_index\"] = torch.tensor([ep_idx] * num_frames, dtype=torch.int64)\n",
    "    ep_dict[\"frame_index\"] = torch.arange(0, num_frames, 1)\n",
    "    ep_dict[\"timestamp\"] = torch.arange(0, num_frames, 1) / fps\n",
    "# ep_dict[\"next.observation.image\"] = next_image\n",
    "# ep_dict[\"next.observation.state\"] = next_state\n",
    "    ep_dict[\"next.reward\"] = next_reward\n",
    "    ep_dict[\"next.done\"] = next_done\n",
    "    ep_dicts.append(ep_dict)\n",
    "\n",
    "    episode_data_index[\"from\"].append(id_from)\n",
    "    episode_data_index[\"to\"].append(id_from + num_frames)\n",
    "\n",
    "    id_from = id_to\n",
    "    ep_idx += 1\n",
    "\n",
    "# process first episode only\n",
    "    if debug:\n",
    "        break\n",
    "if len(ep_dicts) == 0:\n",
    "    print(\"No terminal step found in the dataset\")\n",
    "else:\n",
    "    for k,v in ep_dicts[0].items():\n",
    "        print(k, ep_dicts[0][k].shape if hasattr(ep_dicts[0][k], 'shape') else len(ep_dicts[0][k]), ep_dicts[-1][k].shape if hasattr(ep_dicts[-1][k], 'shape') else len(ep_dicts[-1][k]))\n",
    "\n",
    "    # convert things to\n",
    "    data_dict = concatenate_episodes(ep_dicts)"
   ]
  },
  {
   "cell_type": "code",
   "execution_count": null,
   "metadata": {},
   "outputs": [],
   "source": [
    "ep_dicts[0]['observation.image'][0].shape\n",
    "\n",
    "\n",
    "for f,t in zip(episode_data_index['from'], episode_data_index['to']):\n",
    "    print(f, t, data_dict['action'][f:t].shape)"
   ]
  }
 ],
 "metadata": {
  "kernelspec": {
   "display_name": "fastrl",
   "language": "python",
   "name": "fastrl"
  },
  "language_info": {
   "codemirror_mode": {
    "name": "ipython",
    "version": 3
   },
   "file_extension": ".py",
   "mimetype": "text/x-python",
   "name": "python",
   "nbconvert_exporter": "python",
   "pygments_lexer": "ipython3",
   "version": "3.10.12"
  }
 },
 "nbformat": 4,
 "nbformat_minor": 2
}
